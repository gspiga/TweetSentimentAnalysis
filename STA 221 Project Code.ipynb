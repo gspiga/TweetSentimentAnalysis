{
 "cells": [
  {
   "attachments": {},
   "cell_type": "markdown",
   "metadata": {},
   "source": [
    "***\n",
    "\n",
    "# **STA 221 Project Code**\n",
    "\n",
    "***"
   ]
  },
  {
   "cell_type": "code",
   "execution_count": 281,
   "metadata": {},
   "outputs": [
    {
     "name": "stderr",
     "output_type": "stream",
     "text": [
      "Intel(R) Extension for Scikit-learn* enabled (https://github.com/intel/scikit-learn-intelex)\n"
     ]
    }
   ],
   "source": [
    "# packages\n",
    "\n",
    "from sklearnex import patch_sklearn\n",
    "patch_sklearn()\n",
    "\n",
    "import pandas as pd\n",
    "from sklearn.model_selection import train_test_split\n",
    "from sklearn.feature_extraction.text import CountVectorizer\n",
    "import re\n",
    "import nltk\n",
    "from nltk.corpus import stopwords\n",
    "from sklearn.preprocessing import LabelEncoder\n",
    "import joblib\n",
    "import statsmodels.api as sm \n",
    "from statsmodels.formula.api import ols \n",
    "from plotly.subplots import make_subplots\n",
    "import plotly.graph_objects as go\n",
    "import plotly.express as px\n",
    "import random\n",
    "from sklearn.model_selection import train_test_split, GridSearchCV\n",
    "from sklearn.svm import SVC\n",
    "from sklearn.metrics import accuracy_score, classification_report, confusion_matrix\n",
    "from sklearn.pipeline import make_pipeline\n",
    "from sklearn.preprocessing import StandardScaler\n",
    "from sklearn.metrics import roc_auc_score, roc_curve\n",
    "from sklearn.svm import LinearSVC\n",
    "from sklearn.svm import NuSVC"
   ]
  },
  {
   "cell_type": "code",
   "execution_count": 282,
   "metadata": {},
   "outputs": [],
   "source": [
    "def plot_confusion_matrix(cm, class_names):\n",
    "    \"\"\"\n",
    "    Plots a confusion matrix using Plotly Express.\n",
    "\n",
    "    Parameters:\n",
    "    cm (array-like): The confusion matrix.\n",
    "    class_names (list of str): List containing the names of the classes.\n",
    "    \"\"\"\n",
    "    cm_df = pd.DataFrame(cm, index=class_names, columns=class_names)\n",
    "\n",
    "    fig = px.imshow(cm_df,\n",
    "                    labels=dict(x=\"Predicted Label\", y=\"True Label\", color=\"Count\"),\n",
    "                    x=class_names,\n",
    "                    y=class_names,\n",
    "                    text_auto=True)\n",
    "\n",
    "    fig.update_layout(\n",
    "        title=\"Confusion Matrix\",\n",
    "        xaxis_title=\"Predicted Label\",\n",
    "        yaxis_title=\"True Label\",\n",
    "        xaxis = dict(tickangle=45),\n",
    "        yaxis = dict(tickangle=45)\n",
    "    )\n",
    "\n",
    "    fig.show()\n",
    "\n",
    "\n",
    "def plot_confusion_matrix_with_table(cm, class_names):\n",
    "    \"\"\"\n",
    "    Creates a subplot with a confusion matrix heatmap and a table.\n",
    "    \n",
    "    Parameters:\n",
    "    cm (array-like): The confusion matrix.\n",
    "    class_names (list of str): List containing the names of the classes.\n",
    "    \"\"\"\n",
    "    # Create a DataFrame from the confusion matrix for the table\n",
    "    cm_df = pd.DataFrame(cm, index=class_names, columns=class_names)\n",
    "\n",
    "    # Initialize subplots: one for heatmap, one for table\n",
    "    fig = make_subplots(\n",
    "        rows=1, cols=2,\n",
    "        column_widths=[0.7, 0.3],\n",
    "        subplot_titles=(\"Confusion Matrix\", \"Data\"),\n",
    "        specs=[[{\"type\": \"heatmap\"}, {\"type\": \"table\"}]]\n",
    "    )\n",
    "\n",
    "    # Add heatmap to the first subplot\n",
    "    fig.add_trace(\n",
    "        go.Heatmap(\n",
    "            z=cm_df,\n",
    "            x=class_names,\n",
    "            y=class_names,\n",
    "            showscale=True,\n",
    "            text=cm_df.values,\n",
    "            texttemplate=\"%{text}\",\n",
    "            textfont={\"size\":12}\n",
    "        ),\n",
    "        row=1, col=1\n",
    "    )\n",
    "\n",
    "    # Add table to the second subplot\n",
    "    table_data = cm_df.reset_index().values.tolist()\n",
    "    table_data.insert(0, [\"\"] + class_names)\n",
    "    fig.add_trace(\n",
    "        go.Table(\n",
    "            header=dict(values=[\"\"] + class_names),\n",
    "            cells=dict(values=list(zip(*table_data)))\n",
    "        ),\n",
    "        row=1, col=2\n",
    "    )\n",
    "\n",
    "    # Update layout\n",
    "    fig.update_layout(\n",
    "        title_text=\"Confusion Matrix with Data Table\",\n",
    "        height=500, width=1000\n",
    "    )\n",
    "\n",
    "    fig.show()\n",
    "\n",
    "def plot_confusion_matrix_with_classification_report(cm, class_names, y_true, y_pred, fig_width=1200, fig_height=500):\n",
    "    \"\"\"\n",
    "    Creates a subplot with a confusion matrix heatmap and a classification report table.\n",
    "    \n",
    "    Parameters:\n",
    "    cm (array-like): The confusion matrix.\n",
    "    class_names (list of str): List containing the names of the classes.\n",
    "    y_true (array-like): True labels.\n",
    "    y_pred (array-like): Predicted labels.\n",
    "    fig_width (int): Width of the figure (default 1000).\n",
    "    fig_height (int): Height of the figure (default 500).\n",
    "    \"\"\"\n",
    "    # Create a DataFrame from the confusion matrix for the heatmap\n",
    "    cm_df = pd.DataFrame(cm, index=class_names, columns=class_names)\n",
    "\n",
    "    # Generate classification report and convert it to a DataFrame\n",
    "    report = classification_report(y_true, y_pred, target_names=class_names, output_dict=True, digits=4)\n",
    "    report_df = pd.DataFrame(report).transpose()\n",
    "    report_df = report_df.round(2)  # Optional rounding\n",
    "\n",
    "    # Initialize subplots\n",
    "    fig = make_subplots(\n",
    "        rows=1, cols=2,\n",
    "        column_widths=[0.6, 0.4],\n",
    "        subplot_titles=(\"Confusion Matrix\", \"Classification Report\"),\n",
    "        specs=[[{\"type\": \"heatmap\"}, {\"type\": \"table\"}]]\n",
    "    )\n",
    "\n",
    "    # Add heatmap to the first subplot\n",
    "    fig.add_trace(\n",
    "        go.Heatmap(\n",
    "            z=cm_df,\n",
    "            x=class_names,\n",
    "            y=class_names,\n",
    "            showscale=True,\n",
    "            colorscale = \"Cividis\",\n",
    "            text=cm_df.values,\n",
    "            texttemplate=\"%{text}\",\n",
    "            textfont={\"size\":12}\n",
    "        ),\n",
    "        row=1, col=1\n",
    "    )\n",
    "\n",
    "    # Add table (classification report) to the second subplot\n",
    "    fig.add_trace(\n",
    "        go.Table(\n",
    "            header=dict(values=list(report_df.columns), fill_color='rgba(0,0,0,0)'),\n",
    "            cells=dict(values=[report_df.index] + [report_df[k].tolist() for k in report_df.columns], fill_color='rgba(0,0,0,0)')\n",
    "        ),\n",
    "        row=1, col=2\n",
    "    )\n",
    "\n",
    "    accuracy = accuracy_score(y_true=y_true, y_pred=y_pred)\n",
    "      # Add accuracy annotation\n",
    "    fig.add_annotation(\n",
    "        dict(\n",
    "            font=dict(color='rgba(247, 247, 247, 1)', size=16),\n",
    "            x= 0.9, #0.5,\n",
    "            y= 0.1, #-0.15,\n",
    "            showarrow=False,\n",
    "            text=\"Overall Accuracy: {:.2%}\".format(accuracy),\n",
    "            xref=\"paper\",\n",
    "            yref=\"paper\"\n",
    "        )\n",
    "    )\n",
    "\n",
    "    # Update layout\n",
    "    fig.update_layout(\n",
    "        title_text=\"Confusion Matrix with Classification Report\",\n",
    "        height=fig_height, width=fig_width,\n",
    "        paper_bgcolor='rgba(0,0,0,0)',  # Set background color to transparent\n",
    "        font=dict(color='rgba(247, 247, 247, 1)') #off_white\n",
    "    )\n",
    "\n",
    "    fig.show()\n"
   ]
  },
  {
   "cell_type": "code",
   "execution_count": 166,
   "metadata": {},
   "outputs": [],
   "source": [
    "# Loading dataset, this is our main frame\n",
    "\n",
    "tweets = pd.read_csv(\"Tweets.csv\")\n",
    "\n",
    "# Cleaning http links in Dataframes\n",
    "url_pattern = r'http[s]?://\\S+'\n",
    "\n",
    "# Replace URLs with an empty string\n",
    "tweets['text'] = tweets['text'].str.replace(url_pattern, '', regex=True)\n",
    "#tweets[tweets[\"text\"].str.contains(\"http\")]\n",
    "#tweets.shape\n",
    "\n",
    "tweets.drop_duplicates(subset = \"text\", keep = \"last\", inplace = True)"
   ]
  },
  {
   "cell_type": "code",
   "execution_count": 6,
   "metadata": {},
   "outputs": [
    {
     "data": {
      "text/html": [
       "<div>\n",
       "<style scoped>\n",
       "    .dataframe tbody tr th:only-of-type {\n",
       "        vertical-align: middle;\n",
       "    }\n",
       "\n",
       "    .dataframe tbody tr th {\n",
       "        vertical-align: top;\n",
       "    }\n",
       "\n",
       "    .dataframe thead th {\n",
       "        text-align: right;\n",
       "    }\n",
       "</style>\n",
       "<table border=\"1\" class=\"dataframe\">\n",
       "  <thead>\n",
       "    <tr style=\"text-align: right;\">\n",
       "      <th></th>\n",
       "      <th>tweet_id</th>\n",
       "      <th>airline_sentiment</th>\n",
       "      <th>airline_sentiment_confidence</th>\n",
       "      <th>negativereason</th>\n",
       "      <th>negativereason_confidence</th>\n",
       "      <th>airline</th>\n",
       "      <th>airline_sentiment_gold</th>\n",
       "      <th>name</th>\n",
       "      <th>negativereason_gold</th>\n",
       "      <th>retweet_count</th>\n",
       "      <th>text</th>\n",
       "      <th>tweet_coord</th>\n",
       "      <th>tweet_created</th>\n",
       "      <th>tweet_location</th>\n",
       "      <th>user_timezone</th>\n",
       "    </tr>\n",
       "  </thead>\n",
       "  <tbody>\n",
       "    <tr>\n",
       "      <th>0</th>\n",
       "      <td>570306133677760513</td>\n",
       "      <td>neutral</td>\n",
       "      <td>1.0000</td>\n",
       "      <td>NaN</td>\n",
       "      <td>NaN</td>\n",
       "      <td>Virgin America</td>\n",
       "      <td>NaN</td>\n",
       "      <td>cairdin</td>\n",
       "      <td>NaN</td>\n",
       "      <td>0</td>\n",
       "      <td>@VirginAmerica What @dhepburn said.</td>\n",
       "      <td>NaN</td>\n",
       "      <td>2015-02-24 11:35:52 -0800</td>\n",
       "      <td>NaN</td>\n",
       "      <td>Eastern Time (US &amp; Canada)</td>\n",
       "    </tr>\n",
       "    <tr>\n",
       "      <th>1</th>\n",
       "      <td>570301130888122368</td>\n",
       "      <td>positive</td>\n",
       "      <td>0.3486</td>\n",
       "      <td>NaN</td>\n",
       "      <td>0.0000</td>\n",
       "      <td>Virgin America</td>\n",
       "      <td>NaN</td>\n",
       "      <td>jnardino</td>\n",
       "      <td>NaN</td>\n",
       "      <td>0</td>\n",
       "      <td>@VirginAmerica plus you've added commercials t...</td>\n",
       "      <td>NaN</td>\n",
       "      <td>2015-02-24 11:15:59 -0800</td>\n",
       "      <td>NaN</td>\n",
       "      <td>Pacific Time (US &amp; Canada)</td>\n",
       "    </tr>\n",
       "    <tr>\n",
       "      <th>2</th>\n",
       "      <td>570301083672813571</td>\n",
       "      <td>neutral</td>\n",
       "      <td>0.6837</td>\n",
       "      <td>NaN</td>\n",
       "      <td>NaN</td>\n",
       "      <td>Virgin America</td>\n",
       "      <td>NaN</td>\n",
       "      <td>yvonnalynn</td>\n",
       "      <td>NaN</td>\n",
       "      <td>0</td>\n",
       "      <td>@VirginAmerica I didn't today... Must mean I n...</td>\n",
       "      <td>NaN</td>\n",
       "      <td>2015-02-24 11:15:48 -0800</td>\n",
       "      <td>Lets Play</td>\n",
       "      <td>Central Time (US &amp; Canada)</td>\n",
       "    </tr>\n",
       "    <tr>\n",
       "      <th>3</th>\n",
       "      <td>570301031407624196</td>\n",
       "      <td>negative</td>\n",
       "      <td>1.0000</td>\n",
       "      <td>Bad Flight</td>\n",
       "      <td>0.7033</td>\n",
       "      <td>Virgin America</td>\n",
       "      <td>NaN</td>\n",
       "      <td>jnardino</td>\n",
       "      <td>NaN</td>\n",
       "      <td>0</td>\n",
       "      <td>@VirginAmerica it's really aggressive to blast...</td>\n",
       "      <td>NaN</td>\n",
       "      <td>2015-02-24 11:15:36 -0800</td>\n",
       "      <td>NaN</td>\n",
       "      <td>Pacific Time (US &amp; Canada)</td>\n",
       "    </tr>\n",
       "    <tr>\n",
       "      <th>4</th>\n",
       "      <td>570300817074462722</td>\n",
       "      <td>negative</td>\n",
       "      <td>1.0000</td>\n",
       "      <td>Can't Tell</td>\n",
       "      <td>1.0000</td>\n",
       "      <td>Virgin America</td>\n",
       "      <td>NaN</td>\n",
       "      <td>jnardino</td>\n",
       "      <td>NaN</td>\n",
       "      <td>0</td>\n",
       "      <td>@VirginAmerica and it's a really big bad thing...</td>\n",
       "      <td>NaN</td>\n",
       "      <td>2015-02-24 11:14:45 -0800</td>\n",
       "      <td>NaN</td>\n",
       "      <td>Pacific Time (US &amp; Canada)</td>\n",
       "    </tr>\n",
       "  </tbody>\n",
       "</table>\n",
       "</div>"
      ],
      "text/plain": [
       "             tweet_id airline_sentiment  airline_sentiment_confidence  \\\n",
       "0  570306133677760513           neutral                        1.0000   \n",
       "1  570301130888122368          positive                        0.3486   \n",
       "2  570301083672813571           neutral                        0.6837   \n",
       "3  570301031407624196          negative                        1.0000   \n",
       "4  570300817074462722          negative                        1.0000   \n",
       "\n",
       "  negativereason  negativereason_confidence         airline  \\\n",
       "0            NaN                        NaN  Virgin America   \n",
       "1            NaN                     0.0000  Virgin America   \n",
       "2            NaN                        NaN  Virgin America   \n",
       "3     Bad Flight                     0.7033  Virgin America   \n",
       "4     Can't Tell                     1.0000  Virgin America   \n",
       "\n",
       "  airline_sentiment_gold        name negativereason_gold  retweet_count  \\\n",
       "0                    NaN     cairdin                 NaN              0   \n",
       "1                    NaN    jnardino                 NaN              0   \n",
       "2                    NaN  yvonnalynn                 NaN              0   \n",
       "3                    NaN    jnardino                 NaN              0   \n",
       "4                    NaN    jnardino                 NaN              0   \n",
       "\n",
       "                                                text tweet_coord  \\\n",
       "0                @VirginAmerica What @dhepburn said.         NaN   \n",
       "1  @VirginAmerica plus you've added commercials t...         NaN   \n",
       "2  @VirginAmerica I didn't today... Must mean I n...         NaN   \n",
       "3  @VirginAmerica it's really aggressive to blast...         NaN   \n",
       "4  @VirginAmerica and it's a really big bad thing...         NaN   \n",
       "\n",
       "               tweet_created tweet_location               user_timezone  \n",
       "0  2015-02-24 11:35:52 -0800            NaN  Eastern Time (US & Canada)  \n",
       "1  2015-02-24 11:15:59 -0800            NaN  Pacific Time (US & Canada)  \n",
       "2  2015-02-24 11:15:48 -0800      Lets Play  Central Time (US & Canada)  \n",
       "3  2015-02-24 11:15:36 -0800            NaN  Pacific Time (US & Canada)  \n",
       "4  2015-02-24 11:14:45 -0800            NaN  Pacific Time (US & Canada)  "
      ]
     },
     "execution_count": 6,
     "metadata": {},
     "output_type": "execute_result"
    }
   ],
   "source": [
    "tweets.head(5)"
   ]
  },
  {
   "cell_type": "code",
   "execution_count": 7,
   "metadata": {},
   "outputs": [],
   "source": [
    "from sklearn.feature_extraction.text import TfidfVectorizer\n",
    "# Create feature vectors\n",
    "vectorizer = TfidfVectorizer(min_df = 5,\n",
    "                             max_df = 0.8,\n",
    "                             sublinear_tf = True,\n",
    "                             use_idf = True)\n",
    "\n",
    "train_vectors = vectorizer.fit_transform(tweets['text'])\n"
   ]
  },
  {
   "cell_type": "code",
   "execution_count": 208,
   "metadata": {},
   "outputs": [],
   "source": [
    "def clean_text(text):\n",
    "    text = re.sub(r'http\\S+', '', text)   # Remove URLs\n",
    "    text = re.sub(r'<.*?>', '', text)     # Remove HTML tags\n",
    "    text = re.sub(r'[^\\w\\s]', '', text)   # Remove punctuation and special chars\n",
    "    text = text.lower()                   # Convert to lowercase\n",
    "    # Remove stopwords\n",
    "    #text = ' '.join([word for word in text.split() if word not in stopwords.words('english')])\n",
    "    return text\n",
    "\n",
    "tweets['cleaned_text_stopwords'] = tweets['text'].apply(clean_text)"
   ]
  },
  {
   "attachments": {},
   "cell_type": "markdown",
   "metadata": {},
   "source": [
    "Make the following.\n",
    "\n",
    "Base SVC:\n",
    "    Linear\n",
    "    Polynomial\n",
    "    RBF\n",
    "\n",
    "Hyperparamterized: (Let it Choose best one. From there we run the following)\n",
    "    Nu Support\n",
    "    Penalty\n",
    "\n",
    "Repeat Everything done from above using unigram and then bigram.\n",
    "\n",
    "\n"
   ]
  },
  {
   "cell_type": "code",
   "execution_count": 353,
   "metadata": {},
   "outputs": [
    {
     "name": "stdout",
     "output_type": "stream",
     "text": [
      "Accuracy: 0.79\n",
      "\n",
      "Classification Report:\n",
      "              precision    recall  f1-score   support\n",
      "\n",
      "    negative       0.82      0.92      0.87      1791\n",
      "     neutral       0.68      0.55      0.61       636\n",
      "    positive       0.76      0.62      0.68       453\n",
      "\n",
      "    accuracy                           0.79      2880\n",
      "   macro avg       0.75      0.69      0.72      2880\n",
      "weighted avg       0.78      0.79      0.78      2880\n",
      "\n"
     ]
    },
    {
     "data": {
      "application/vnd.plotly.v1+json": {
       "config": {
        "plotlyServerURL": "https://plot.ly"
       },
       "data": [
        {
         "colorscale": [
          [
           0,
           "#00224e"
          ],
          [
           0.1111111111111111,
           "#123570"
          ],
          [
           0.2222222222222222,
           "#3b496c"
          ],
          [
           0.3333333333333333,
           "#575d6d"
          ],
          [
           0.4444444444444444,
           "#707173"
          ],
          [
           0.5555555555555556,
           "#8a8678"
          ],
          [
           0.6666666666666666,
           "#a59c74"
          ],
          [
           0.7777777777777778,
           "#c3b369"
          ],
          [
           0.8888888888888888,
           "#e1cc55"
          ],
          [
           1,
           "#fee838"
          ]
         ],
         "showscale": true,
         "text": [
          [
           1639,
           111,
           41
          ],
          [
           237,
           349,
           50
          ],
          [
           116,
           56,
           281
          ]
         ],
         "textfont": {
          "size": 12
         },
         "texttemplate": "%{text}",
         "type": "heatmap",
         "x": [
          "Negative",
          "Neutral",
          "Positive"
         ],
         "xaxis": "x",
         "y": [
          "Negative",
          "Neutral",
          "Positive"
         ],
         "yaxis": "y",
         "z": [
          [
           1639,
           111,
           41
          ],
          [
           237,
           349,
           50
          ],
          [
           116,
           56,
           281
          ]
         ]
        },
        {
         "cells": {
          "fill": {
           "color": "rgba(0,0,0,0)"
          },
          "values": [
           [
            "Negative",
            "Neutral",
            "Positive",
            "accuracy",
            "macro avg",
            "weighted avg"
           ],
           [
            0.82,
            0.68,
            0.76,
            0.79,
            0.75,
            0.78
           ],
           [
            0.92,
            0.55,
            0.62,
            0.79,
            0.69,
            0.79
           ],
           [
            0.87,
            0.61,
            0.68,
            0.79,
            0.72,
            0.78
           ],
           [
            1791,
            636,
            453,
            0.79,
            2880,
            2880
           ]
          ]
         },
         "domain": {
          "x": [
           0.64,
           1
          ],
          "y": [
           0,
           1
          ]
         },
         "header": {
          "fill": {
           "color": "rgba(0,0,0,0)"
          },
          "values": [
           "precision",
           "recall",
           "f1-score",
           "support"
          ]
         },
         "type": "table"
        }
       ],
       "layout": {
        "annotations": [
         {
          "font": {
           "size": 16
          },
          "showarrow": false,
          "text": "Confusion Matrix",
          "x": 0.27,
          "xanchor": "center",
          "xref": "paper",
          "y": 1,
          "yanchor": "bottom",
          "yref": "paper"
         },
         {
          "font": {
           "size": 16
          },
          "showarrow": false,
          "text": "Classification Report",
          "x": 0.8200000000000001,
          "xanchor": "center",
          "xref": "paper",
          "y": 1,
          "yanchor": "bottom",
          "yref": "paper"
         },
         {
          "font": {
           "color": "rgba(247, 247, 247, 1)",
           "size": 16
          },
          "showarrow": false,
          "text": "Overall Accuracy: 78.78%",
          "x": 0.9,
          "xref": "paper",
          "y": 0.1,
          "yref": "paper"
         }
        ],
        "font": {
         "color": "rgba(247, 247, 247, 1)"
        },
        "height": 500,
        "paper_bgcolor": "rgba(0,0,0,0)",
        "template": {
         "data": {
          "bar": [
           {
            "error_x": {
             "color": "#2a3f5f"
            },
            "error_y": {
             "color": "#2a3f5f"
            },
            "marker": {
             "line": {
              "color": "#E5ECF6",
              "width": 0.5
             },
             "pattern": {
              "fillmode": "overlay",
              "size": 10,
              "solidity": 0.2
             }
            },
            "type": "bar"
           }
          ],
          "barpolar": [
           {
            "marker": {
             "line": {
              "color": "#E5ECF6",
              "width": 0.5
             },
             "pattern": {
              "fillmode": "overlay",
              "size": 10,
              "solidity": 0.2
             }
            },
            "type": "barpolar"
           }
          ],
          "carpet": [
           {
            "aaxis": {
             "endlinecolor": "#2a3f5f",
             "gridcolor": "white",
             "linecolor": "white",
             "minorgridcolor": "white",
             "startlinecolor": "#2a3f5f"
            },
            "baxis": {
             "endlinecolor": "#2a3f5f",
             "gridcolor": "white",
             "linecolor": "white",
             "minorgridcolor": "white",
             "startlinecolor": "#2a3f5f"
            },
            "type": "carpet"
           }
          ],
          "choropleth": [
           {
            "colorbar": {
             "outlinewidth": 0,
             "ticks": ""
            },
            "type": "choropleth"
           }
          ],
          "contour": [
           {
            "colorbar": {
             "outlinewidth": 0,
             "ticks": ""
            },
            "colorscale": [
             [
              0,
              "#0d0887"
             ],
             [
              0.1111111111111111,
              "#46039f"
             ],
             [
              0.2222222222222222,
              "#7201a8"
             ],
             [
              0.3333333333333333,
              "#9c179e"
             ],
             [
              0.4444444444444444,
              "#bd3786"
             ],
             [
              0.5555555555555556,
              "#d8576b"
             ],
             [
              0.6666666666666666,
              "#ed7953"
             ],
             [
              0.7777777777777778,
              "#fb9f3a"
             ],
             [
              0.8888888888888888,
              "#fdca26"
             ],
             [
              1,
              "#f0f921"
             ]
            ],
            "type": "contour"
           }
          ],
          "contourcarpet": [
           {
            "colorbar": {
             "outlinewidth": 0,
             "ticks": ""
            },
            "type": "contourcarpet"
           }
          ],
          "heatmap": [
           {
            "colorbar": {
             "outlinewidth": 0,
             "ticks": ""
            },
            "colorscale": [
             [
              0,
              "#0d0887"
             ],
             [
              0.1111111111111111,
              "#46039f"
             ],
             [
              0.2222222222222222,
              "#7201a8"
             ],
             [
              0.3333333333333333,
              "#9c179e"
             ],
             [
              0.4444444444444444,
              "#bd3786"
             ],
             [
              0.5555555555555556,
              "#d8576b"
             ],
             [
              0.6666666666666666,
              "#ed7953"
             ],
             [
              0.7777777777777778,
              "#fb9f3a"
             ],
             [
              0.8888888888888888,
              "#fdca26"
             ],
             [
              1,
              "#f0f921"
             ]
            ],
            "type": "heatmap"
           }
          ],
          "heatmapgl": [
           {
            "colorbar": {
             "outlinewidth": 0,
             "ticks": ""
            },
            "colorscale": [
             [
              0,
              "#0d0887"
             ],
             [
              0.1111111111111111,
              "#46039f"
             ],
             [
              0.2222222222222222,
              "#7201a8"
             ],
             [
              0.3333333333333333,
              "#9c179e"
             ],
             [
              0.4444444444444444,
              "#bd3786"
             ],
             [
              0.5555555555555556,
              "#d8576b"
             ],
             [
              0.6666666666666666,
              "#ed7953"
             ],
             [
              0.7777777777777778,
              "#fb9f3a"
             ],
             [
              0.8888888888888888,
              "#fdca26"
             ],
             [
              1,
              "#f0f921"
             ]
            ],
            "type": "heatmapgl"
           }
          ],
          "histogram": [
           {
            "marker": {
             "pattern": {
              "fillmode": "overlay",
              "size": 10,
              "solidity": 0.2
             }
            },
            "type": "histogram"
           }
          ],
          "histogram2d": [
           {
            "colorbar": {
             "outlinewidth": 0,
             "ticks": ""
            },
            "colorscale": [
             [
              0,
              "#0d0887"
             ],
             [
              0.1111111111111111,
              "#46039f"
             ],
             [
              0.2222222222222222,
              "#7201a8"
             ],
             [
              0.3333333333333333,
              "#9c179e"
             ],
             [
              0.4444444444444444,
              "#bd3786"
             ],
             [
              0.5555555555555556,
              "#d8576b"
             ],
             [
              0.6666666666666666,
              "#ed7953"
             ],
             [
              0.7777777777777778,
              "#fb9f3a"
             ],
             [
              0.8888888888888888,
              "#fdca26"
             ],
             [
              1,
              "#f0f921"
             ]
            ],
            "type": "histogram2d"
           }
          ],
          "histogram2dcontour": [
           {
            "colorbar": {
             "outlinewidth": 0,
             "ticks": ""
            },
            "colorscale": [
             [
              0,
              "#0d0887"
             ],
             [
              0.1111111111111111,
              "#46039f"
             ],
             [
              0.2222222222222222,
              "#7201a8"
             ],
             [
              0.3333333333333333,
              "#9c179e"
             ],
             [
              0.4444444444444444,
              "#bd3786"
             ],
             [
              0.5555555555555556,
              "#d8576b"
             ],
             [
              0.6666666666666666,
              "#ed7953"
             ],
             [
              0.7777777777777778,
              "#fb9f3a"
             ],
             [
              0.8888888888888888,
              "#fdca26"
             ],
             [
              1,
              "#f0f921"
             ]
            ],
            "type": "histogram2dcontour"
           }
          ],
          "mesh3d": [
           {
            "colorbar": {
             "outlinewidth": 0,
             "ticks": ""
            },
            "type": "mesh3d"
           }
          ],
          "parcoords": [
           {
            "line": {
             "colorbar": {
              "outlinewidth": 0,
              "ticks": ""
             }
            },
            "type": "parcoords"
           }
          ],
          "pie": [
           {
            "automargin": true,
            "type": "pie"
           }
          ],
          "scatter": [
           {
            "fillpattern": {
             "fillmode": "overlay",
             "size": 10,
             "solidity": 0.2
            },
            "type": "scatter"
           }
          ],
          "scatter3d": [
           {
            "line": {
             "colorbar": {
              "outlinewidth": 0,
              "ticks": ""
             }
            },
            "marker": {
             "colorbar": {
              "outlinewidth": 0,
              "ticks": ""
             }
            },
            "type": "scatter3d"
           }
          ],
          "scattercarpet": [
           {
            "marker": {
             "colorbar": {
              "outlinewidth": 0,
              "ticks": ""
             }
            },
            "type": "scattercarpet"
           }
          ],
          "scattergeo": [
           {
            "marker": {
             "colorbar": {
              "outlinewidth": 0,
              "ticks": ""
             }
            },
            "type": "scattergeo"
           }
          ],
          "scattergl": [
           {
            "marker": {
             "colorbar": {
              "outlinewidth": 0,
              "ticks": ""
             }
            },
            "type": "scattergl"
           }
          ],
          "scattermapbox": [
           {
            "marker": {
             "colorbar": {
              "outlinewidth": 0,
              "ticks": ""
             }
            },
            "type": "scattermapbox"
           }
          ],
          "scatterpolar": [
           {
            "marker": {
             "colorbar": {
              "outlinewidth": 0,
              "ticks": ""
             }
            },
            "type": "scatterpolar"
           }
          ],
          "scatterpolargl": [
           {
            "marker": {
             "colorbar": {
              "outlinewidth": 0,
              "ticks": ""
             }
            },
            "type": "scatterpolargl"
           }
          ],
          "scatterternary": [
           {
            "marker": {
             "colorbar": {
              "outlinewidth": 0,
              "ticks": ""
             }
            },
            "type": "scatterternary"
           }
          ],
          "surface": [
           {
            "colorbar": {
             "outlinewidth": 0,
             "ticks": ""
            },
            "colorscale": [
             [
              0,
              "#0d0887"
             ],
             [
              0.1111111111111111,
              "#46039f"
             ],
             [
              0.2222222222222222,
              "#7201a8"
             ],
             [
              0.3333333333333333,
              "#9c179e"
             ],
             [
              0.4444444444444444,
              "#bd3786"
             ],
             [
              0.5555555555555556,
              "#d8576b"
             ],
             [
              0.6666666666666666,
              "#ed7953"
             ],
             [
              0.7777777777777778,
              "#fb9f3a"
             ],
             [
              0.8888888888888888,
              "#fdca26"
             ],
             [
              1,
              "#f0f921"
             ]
            ],
            "type": "surface"
           }
          ],
          "table": [
           {
            "cells": {
             "fill": {
              "color": "#EBF0F8"
             },
             "line": {
              "color": "white"
             }
            },
            "header": {
             "fill": {
              "color": "#C8D4E3"
             },
             "line": {
              "color": "white"
             }
            },
            "type": "table"
           }
          ]
         },
         "layout": {
          "annotationdefaults": {
           "arrowcolor": "#2a3f5f",
           "arrowhead": 0,
           "arrowwidth": 1
          },
          "autotypenumbers": "strict",
          "coloraxis": {
           "colorbar": {
            "outlinewidth": 0,
            "ticks": ""
           }
          },
          "colorscale": {
           "diverging": [
            [
             0,
             "#8e0152"
            ],
            [
             0.1,
             "#c51b7d"
            ],
            [
             0.2,
             "#de77ae"
            ],
            [
             0.3,
             "#f1b6da"
            ],
            [
             0.4,
             "#fde0ef"
            ],
            [
             0.5,
             "#f7f7f7"
            ],
            [
             0.6,
             "#e6f5d0"
            ],
            [
             0.7,
             "#b8e186"
            ],
            [
             0.8,
             "#7fbc41"
            ],
            [
             0.9,
             "#4d9221"
            ],
            [
             1,
             "#276419"
            ]
           ],
           "sequential": [
            [
             0,
             "#0d0887"
            ],
            [
             0.1111111111111111,
             "#46039f"
            ],
            [
             0.2222222222222222,
             "#7201a8"
            ],
            [
             0.3333333333333333,
             "#9c179e"
            ],
            [
             0.4444444444444444,
             "#bd3786"
            ],
            [
             0.5555555555555556,
             "#d8576b"
            ],
            [
             0.6666666666666666,
             "#ed7953"
            ],
            [
             0.7777777777777778,
             "#fb9f3a"
            ],
            [
             0.8888888888888888,
             "#fdca26"
            ],
            [
             1,
             "#f0f921"
            ]
           ],
           "sequentialminus": [
            [
             0,
             "#0d0887"
            ],
            [
             0.1111111111111111,
             "#46039f"
            ],
            [
             0.2222222222222222,
             "#7201a8"
            ],
            [
             0.3333333333333333,
             "#9c179e"
            ],
            [
             0.4444444444444444,
             "#bd3786"
            ],
            [
             0.5555555555555556,
             "#d8576b"
            ],
            [
             0.6666666666666666,
             "#ed7953"
            ],
            [
             0.7777777777777778,
             "#fb9f3a"
            ],
            [
             0.8888888888888888,
             "#fdca26"
            ],
            [
             1,
             "#f0f921"
            ]
           ]
          },
          "colorway": [
           "#636efa",
           "#EF553B",
           "#00cc96",
           "#ab63fa",
           "#FFA15A",
           "#19d3f3",
           "#FF6692",
           "#B6E880",
           "#FF97FF",
           "#FECB52"
          ],
          "font": {
           "color": "#2a3f5f"
          },
          "geo": {
           "bgcolor": "white",
           "lakecolor": "white",
           "landcolor": "#E5ECF6",
           "showlakes": true,
           "showland": true,
           "subunitcolor": "white"
          },
          "hoverlabel": {
           "align": "left"
          },
          "hovermode": "closest",
          "mapbox": {
           "style": "light"
          },
          "paper_bgcolor": "white",
          "plot_bgcolor": "#E5ECF6",
          "polar": {
           "angularaxis": {
            "gridcolor": "white",
            "linecolor": "white",
            "ticks": ""
           },
           "bgcolor": "#E5ECF6",
           "radialaxis": {
            "gridcolor": "white",
            "linecolor": "white",
            "ticks": ""
           }
          },
          "scene": {
           "xaxis": {
            "backgroundcolor": "#E5ECF6",
            "gridcolor": "white",
            "gridwidth": 2,
            "linecolor": "white",
            "showbackground": true,
            "ticks": "",
            "zerolinecolor": "white"
           },
           "yaxis": {
            "backgroundcolor": "#E5ECF6",
            "gridcolor": "white",
            "gridwidth": 2,
            "linecolor": "white",
            "showbackground": true,
            "ticks": "",
            "zerolinecolor": "white"
           },
           "zaxis": {
            "backgroundcolor": "#E5ECF6",
            "gridcolor": "white",
            "gridwidth": 2,
            "linecolor": "white",
            "showbackground": true,
            "ticks": "",
            "zerolinecolor": "white"
           }
          },
          "shapedefaults": {
           "line": {
            "color": "#2a3f5f"
           }
          },
          "ternary": {
           "aaxis": {
            "gridcolor": "white",
            "linecolor": "white",
            "ticks": ""
           },
           "baxis": {
            "gridcolor": "white",
            "linecolor": "white",
            "ticks": ""
           },
           "bgcolor": "#E5ECF6",
           "caxis": {
            "gridcolor": "white",
            "linecolor": "white",
            "ticks": ""
           }
          },
          "title": {
           "x": 0.05
          },
          "xaxis": {
           "automargin": true,
           "gridcolor": "white",
           "linecolor": "white",
           "ticks": "",
           "title": {
            "standoff": 15
           },
           "zerolinecolor": "white",
           "zerolinewidth": 2
          },
          "yaxis": {
           "automargin": true,
           "gridcolor": "white",
           "linecolor": "white",
           "ticks": "",
           "title": {
            "standoff": 15
           },
           "zerolinecolor": "white",
           "zerolinewidth": 2
          }
         }
        },
        "title": {
         "text": "Confusion Matrix with Classification Report"
        },
        "width": 1200,
        "xaxis": {
         "anchor": "y",
         "domain": [
          0,
          0.54
         ]
        },
        "yaxis": {
         "anchor": "x",
         "domain": [
          0,
          1
         ]
        }
       }
      }
     },
     "metadata": {},
     "output_type": "display_data"
    }
   ],
   "source": [
    "# SVC Linear\n",
    "random.seed(10)\n",
    "text = tweets['cleaned_text_stopwords'].values\n",
    "labels = tweets['airline_sentiment'].values\n",
    "\n",
    "# Split the data into training and testing sets\n",
    "text_train, text_test, labels_train, labels_test = train_test_split(text, labels, test_size=0.2, random_state=42)\n",
    "\n",
    "# TF-IDF Vectorization\n",
    "vectorizer = TfidfVectorizer(max_features=1000)\n",
    "X_train_tfidf = vectorizer.fit_transform(text_train)\n",
    "X_test_tfidf = vectorizer.transform(text_test)\n",
    "\n",
    "# Train LinearSVC on the training data\n",
    "linear_svc_model = LinearSVC()\n",
    "linear_svc_model.fit(X_train_tfidf, labels_train)\n",
    "\n",
    "# Make predictions on the test set\n",
    "y_pred = linear_svc_model.predict(X_test_tfidf)\n",
    "\n",
    "# Model evaluation\n",
    "accuracy = accuracy_score(labels_test, y_pred)\n",
    "print(f'Accuracy: {accuracy:.2f}')\n",
    "\n",
    "# Classification Report\n",
    "print('\\nClassification Report:')\n",
    "print(classification_report(labels_test, y_pred))\n",
    "\n",
    "# Confusion Matrix\n",
    "cm = confusion_matrix(labels_test, y_pred)\n",
    "plot_confusion_matrix_with_classification_report(cm, [\"Negative\", \"Neutral\", \"Positive\"], labels_test, y_pred)"
   ]
  },
  {
   "cell_type": "code",
   "execution_count": 352,
   "metadata": {},
   "outputs": [
    {
     "name": "stdout",
     "output_type": "stream",
     "text": [
      "Macro-average ROC-AUC Score: 0.88\n"
     ]
    }
   ],
   "source": [
    "# Take decision func of test data\n",
    "y_pred_proba = linear_svc_model.decision_function(X_test_tfidf)\n",
    "\n",
    "# Initialize\n",
    "roc_auc_scores = []\n",
    "\n",
    "# Compute ROC-AUC score for each class\n",
    "for i in range(len(np.unique(labels))):\n",
    "    binary_labels = np.array(labels_test == i, dtype=int)  # Treat one class as positive, others as negative\n",
    "    roc_auc = roc_auc_score(binary_labels, y_pred_proba[:, i])\n",
    "    roc_auc_scores.append(roc_auc)\n",
    "\n",
    "# avg\n",
    "roc_auc_macro = np.mean(roc_auc_scores)\n",
    "\n",
    "print(f'Macro-average ROC-AUC Score: {roc_auc_macro:.2f}')"
   ]
  },
  {
   "cell_type": "code",
   "execution_count": 356,
   "metadata": {},
   "outputs": [
    {
     "name": "stdout",
     "output_type": "stream",
     "text": [
      "Accuracy with Polynomial SVC: 0.66\n",
      "\n",
      "Classification Report with Polynomial SVC:\n",
      "              precision    recall  f1-score   support\n",
      "\n",
      "    negative       0.66      0.99      0.79      1791\n",
      "     neutral       0.74      0.14      0.24       636\n",
      "    positive       0.61      0.09      0.15       453\n",
      "\n",
      "    accuracy                           0.66      2880\n",
      "   macro avg       0.67      0.41      0.39      2880\n",
      "weighted avg       0.67      0.66      0.57      2880\n",
      "\n"
     ]
    },
    {
     "data": {
      "application/vnd.plotly.v1+json": {
       "config": {
        "plotlyServerURL": "https://plot.ly"
       },
       "data": [
        {
         "colorscale": [
          [
           0,
           "#00224e"
          ],
          [
           0.1111111111111111,
           "#123570"
          ],
          [
           0.2222222222222222,
           "#3b496c"
          ],
          [
           0.3333333333333333,
           "#575d6d"
          ],
          [
           0.4444444444444444,
           "#707173"
          ],
          [
           0.5555555555555556,
           "#8a8678"
          ],
          [
           0.6666666666666666,
           "#a59c74"
          ],
          [
           0.7777777777777778,
           "#c3b369"
          ],
          [
           0.8888888888888888,
           "#e1cc55"
          ],
          [
           1,
           "#fee838"
          ]
         ],
         "showscale": true,
         "text": [
          [
           1769,
           12,
           10
          ],
          [
           531,
           89,
           16
          ],
          [
           393,
           20,
           40
          ]
         ],
         "textfont": {
          "size": 12
         },
         "texttemplate": "%{text}",
         "type": "heatmap",
         "x": [
          "Negative",
          "Neutral",
          "Positive"
         ],
         "xaxis": "x",
         "y": [
          "Negative",
          "Neutral",
          "Positive"
         ],
         "yaxis": "y",
         "z": [
          [
           1769,
           12,
           10
          ],
          [
           531,
           89,
           16
          ],
          [
           393,
           20,
           40
          ]
         ]
        },
        {
         "cells": {
          "fill": {
           "color": "rgba(0,0,0,0)"
          },
          "values": [
           [
            "Negative",
            "Neutral",
            "Positive",
            "accuracy",
            "macro avg",
            "weighted avg"
           ],
           [
            0.66,
            0.74,
            0.61,
            0.66,
            0.67,
            0.67
           ],
           [
            0.99,
            0.14,
            0.09,
            0.66,
            0.41,
            0.66
           ],
           [
            0.79,
            0.24,
            0.15,
            0.66,
            0.39,
            0.57
           ],
           [
            1791,
            636,
            453,
            0.66,
            2880,
            2880
           ]
          ]
         },
         "domain": {
          "x": [
           0.64,
           1
          ],
          "y": [
           0,
           1
          ]
         },
         "header": {
          "fill": {
           "color": "rgba(0,0,0,0)"
          },
          "values": [
           "precision",
           "recall",
           "f1-score",
           "support"
          ]
         },
         "type": "table"
        }
       ],
       "layout": {
        "annotations": [
         {
          "font": {
           "size": 16
          },
          "showarrow": false,
          "text": "Confusion Matrix",
          "x": 0.27,
          "xanchor": "center",
          "xref": "paper",
          "y": 1,
          "yanchor": "bottom",
          "yref": "paper"
         },
         {
          "font": {
           "size": 16
          },
          "showarrow": false,
          "text": "Classification Report",
          "x": 0.8200000000000001,
          "xanchor": "center",
          "xref": "paper",
          "y": 1,
          "yanchor": "bottom",
          "yref": "paper"
         },
         {
          "font": {
           "color": "rgba(247, 247, 247, 1)",
           "size": 16
          },
          "showarrow": false,
          "text": "Overall Accuracy: 65.90%",
          "x": 0.9,
          "xref": "paper",
          "y": 0.1,
          "yref": "paper"
         }
        ],
        "font": {
         "color": "rgba(247, 247, 247, 1)"
        },
        "height": 500,
        "paper_bgcolor": "rgba(0,0,0,0)",
        "template": {
         "data": {
          "bar": [
           {
            "error_x": {
             "color": "#2a3f5f"
            },
            "error_y": {
             "color": "#2a3f5f"
            },
            "marker": {
             "line": {
              "color": "#E5ECF6",
              "width": 0.5
             },
             "pattern": {
              "fillmode": "overlay",
              "size": 10,
              "solidity": 0.2
             }
            },
            "type": "bar"
           }
          ],
          "barpolar": [
           {
            "marker": {
             "line": {
              "color": "#E5ECF6",
              "width": 0.5
             },
             "pattern": {
              "fillmode": "overlay",
              "size": 10,
              "solidity": 0.2
             }
            },
            "type": "barpolar"
           }
          ],
          "carpet": [
           {
            "aaxis": {
             "endlinecolor": "#2a3f5f",
             "gridcolor": "white",
             "linecolor": "white",
             "minorgridcolor": "white",
             "startlinecolor": "#2a3f5f"
            },
            "baxis": {
             "endlinecolor": "#2a3f5f",
             "gridcolor": "white",
             "linecolor": "white",
             "minorgridcolor": "white",
             "startlinecolor": "#2a3f5f"
            },
            "type": "carpet"
           }
          ],
          "choropleth": [
           {
            "colorbar": {
             "outlinewidth": 0,
             "ticks": ""
            },
            "type": "choropleth"
           }
          ],
          "contour": [
           {
            "colorbar": {
             "outlinewidth": 0,
             "ticks": ""
            },
            "colorscale": [
             [
              0,
              "#0d0887"
             ],
             [
              0.1111111111111111,
              "#46039f"
             ],
             [
              0.2222222222222222,
              "#7201a8"
             ],
             [
              0.3333333333333333,
              "#9c179e"
             ],
             [
              0.4444444444444444,
              "#bd3786"
             ],
             [
              0.5555555555555556,
              "#d8576b"
             ],
             [
              0.6666666666666666,
              "#ed7953"
             ],
             [
              0.7777777777777778,
              "#fb9f3a"
             ],
             [
              0.8888888888888888,
              "#fdca26"
             ],
             [
              1,
              "#f0f921"
             ]
            ],
            "type": "contour"
           }
          ],
          "contourcarpet": [
           {
            "colorbar": {
             "outlinewidth": 0,
             "ticks": ""
            },
            "type": "contourcarpet"
           }
          ],
          "heatmap": [
           {
            "colorbar": {
             "outlinewidth": 0,
             "ticks": ""
            },
            "colorscale": [
             [
              0,
              "#0d0887"
             ],
             [
              0.1111111111111111,
              "#46039f"
             ],
             [
              0.2222222222222222,
              "#7201a8"
             ],
             [
              0.3333333333333333,
              "#9c179e"
             ],
             [
              0.4444444444444444,
              "#bd3786"
             ],
             [
              0.5555555555555556,
              "#d8576b"
             ],
             [
              0.6666666666666666,
              "#ed7953"
             ],
             [
              0.7777777777777778,
              "#fb9f3a"
             ],
             [
              0.8888888888888888,
              "#fdca26"
             ],
             [
              1,
              "#f0f921"
             ]
            ],
            "type": "heatmap"
           }
          ],
          "heatmapgl": [
           {
            "colorbar": {
             "outlinewidth": 0,
             "ticks": ""
            },
            "colorscale": [
             [
              0,
              "#0d0887"
             ],
             [
              0.1111111111111111,
              "#46039f"
             ],
             [
              0.2222222222222222,
              "#7201a8"
             ],
             [
              0.3333333333333333,
              "#9c179e"
             ],
             [
              0.4444444444444444,
              "#bd3786"
             ],
             [
              0.5555555555555556,
              "#d8576b"
             ],
             [
              0.6666666666666666,
              "#ed7953"
             ],
             [
              0.7777777777777778,
              "#fb9f3a"
             ],
             [
              0.8888888888888888,
              "#fdca26"
             ],
             [
              1,
              "#f0f921"
             ]
            ],
            "type": "heatmapgl"
           }
          ],
          "histogram": [
           {
            "marker": {
             "pattern": {
              "fillmode": "overlay",
              "size": 10,
              "solidity": 0.2
             }
            },
            "type": "histogram"
           }
          ],
          "histogram2d": [
           {
            "colorbar": {
             "outlinewidth": 0,
             "ticks": ""
            },
            "colorscale": [
             [
              0,
              "#0d0887"
             ],
             [
              0.1111111111111111,
              "#46039f"
             ],
             [
              0.2222222222222222,
              "#7201a8"
             ],
             [
              0.3333333333333333,
              "#9c179e"
             ],
             [
              0.4444444444444444,
              "#bd3786"
             ],
             [
              0.5555555555555556,
              "#d8576b"
             ],
             [
              0.6666666666666666,
              "#ed7953"
             ],
             [
              0.7777777777777778,
              "#fb9f3a"
             ],
             [
              0.8888888888888888,
              "#fdca26"
             ],
             [
              1,
              "#f0f921"
             ]
            ],
            "type": "histogram2d"
           }
          ],
          "histogram2dcontour": [
           {
            "colorbar": {
             "outlinewidth": 0,
             "ticks": ""
            },
            "colorscale": [
             [
              0,
              "#0d0887"
             ],
             [
              0.1111111111111111,
              "#46039f"
             ],
             [
              0.2222222222222222,
              "#7201a8"
             ],
             [
              0.3333333333333333,
              "#9c179e"
             ],
             [
              0.4444444444444444,
              "#bd3786"
             ],
             [
              0.5555555555555556,
              "#d8576b"
             ],
             [
              0.6666666666666666,
              "#ed7953"
             ],
             [
              0.7777777777777778,
              "#fb9f3a"
             ],
             [
              0.8888888888888888,
              "#fdca26"
             ],
             [
              1,
              "#f0f921"
             ]
            ],
            "type": "histogram2dcontour"
           }
          ],
          "mesh3d": [
           {
            "colorbar": {
             "outlinewidth": 0,
             "ticks": ""
            },
            "type": "mesh3d"
           }
          ],
          "parcoords": [
           {
            "line": {
             "colorbar": {
              "outlinewidth": 0,
              "ticks": ""
             }
            },
            "type": "parcoords"
           }
          ],
          "pie": [
           {
            "automargin": true,
            "type": "pie"
           }
          ],
          "scatter": [
           {
            "fillpattern": {
             "fillmode": "overlay",
             "size": 10,
             "solidity": 0.2
            },
            "type": "scatter"
           }
          ],
          "scatter3d": [
           {
            "line": {
             "colorbar": {
              "outlinewidth": 0,
              "ticks": ""
             }
            },
            "marker": {
             "colorbar": {
              "outlinewidth": 0,
              "ticks": ""
             }
            },
            "type": "scatter3d"
           }
          ],
          "scattercarpet": [
           {
            "marker": {
             "colorbar": {
              "outlinewidth": 0,
              "ticks": ""
             }
            },
            "type": "scattercarpet"
           }
          ],
          "scattergeo": [
           {
            "marker": {
             "colorbar": {
              "outlinewidth": 0,
              "ticks": ""
             }
            },
            "type": "scattergeo"
           }
          ],
          "scattergl": [
           {
            "marker": {
             "colorbar": {
              "outlinewidth": 0,
              "ticks": ""
             }
            },
            "type": "scattergl"
           }
          ],
          "scattermapbox": [
           {
            "marker": {
             "colorbar": {
              "outlinewidth": 0,
              "ticks": ""
             }
            },
            "type": "scattermapbox"
           }
          ],
          "scatterpolar": [
           {
            "marker": {
             "colorbar": {
              "outlinewidth": 0,
              "ticks": ""
             }
            },
            "type": "scatterpolar"
           }
          ],
          "scatterpolargl": [
           {
            "marker": {
             "colorbar": {
              "outlinewidth": 0,
              "ticks": ""
             }
            },
            "type": "scatterpolargl"
           }
          ],
          "scatterternary": [
           {
            "marker": {
             "colorbar": {
              "outlinewidth": 0,
              "ticks": ""
             }
            },
            "type": "scatterternary"
           }
          ],
          "surface": [
           {
            "colorbar": {
             "outlinewidth": 0,
             "ticks": ""
            },
            "colorscale": [
             [
              0,
              "#0d0887"
             ],
             [
              0.1111111111111111,
              "#46039f"
             ],
             [
              0.2222222222222222,
              "#7201a8"
             ],
             [
              0.3333333333333333,
              "#9c179e"
             ],
             [
              0.4444444444444444,
              "#bd3786"
             ],
             [
              0.5555555555555556,
              "#d8576b"
             ],
             [
              0.6666666666666666,
              "#ed7953"
             ],
             [
              0.7777777777777778,
              "#fb9f3a"
             ],
             [
              0.8888888888888888,
              "#fdca26"
             ],
             [
              1,
              "#f0f921"
             ]
            ],
            "type": "surface"
           }
          ],
          "table": [
           {
            "cells": {
             "fill": {
              "color": "#EBF0F8"
             },
             "line": {
              "color": "white"
             }
            },
            "header": {
             "fill": {
              "color": "#C8D4E3"
             },
             "line": {
              "color": "white"
             }
            },
            "type": "table"
           }
          ]
         },
         "layout": {
          "annotationdefaults": {
           "arrowcolor": "#2a3f5f",
           "arrowhead": 0,
           "arrowwidth": 1
          },
          "autotypenumbers": "strict",
          "coloraxis": {
           "colorbar": {
            "outlinewidth": 0,
            "ticks": ""
           }
          },
          "colorscale": {
           "diverging": [
            [
             0,
             "#8e0152"
            ],
            [
             0.1,
             "#c51b7d"
            ],
            [
             0.2,
             "#de77ae"
            ],
            [
             0.3,
             "#f1b6da"
            ],
            [
             0.4,
             "#fde0ef"
            ],
            [
             0.5,
             "#f7f7f7"
            ],
            [
             0.6,
             "#e6f5d0"
            ],
            [
             0.7,
             "#b8e186"
            ],
            [
             0.8,
             "#7fbc41"
            ],
            [
             0.9,
             "#4d9221"
            ],
            [
             1,
             "#276419"
            ]
           ],
           "sequential": [
            [
             0,
             "#0d0887"
            ],
            [
             0.1111111111111111,
             "#46039f"
            ],
            [
             0.2222222222222222,
             "#7201a8"
            ],
            [
             0.3333333333333333,
             "#9c179e"
            ],
            [
             0.4444444444444444,
             "#bd3786"
            ],
            [
             0.5555555555555556,
             "#d8576b"
            ],
            [
             0.6666666666666666,
             "#ed7953"
            ],
            [
             0.7777777777777778,
             "#fb9f3a"
            ],
            [
             0.8888888888888888,
             "#fdca26"
            ],
            [
             1,
             "#f0f921"
            ]
           ],
           "sequentialminus": [
            [
             0,
             "#0d0887"
            ],
            [
             0.1111111111111111,
             "#46039f"
            ],
            [
             0.2222222222222222,
             "#7201a8"
            ],
            [
             0.3333333333333333,
             "#9c179e"
            ],
            [
             0.4444444444444444,
             "#bd3786"
            ],
            [
             0.5555555555555556,
             "#d8576b"
            ],
            [
             0.6666666666666666,
             "#ed7953"
            ],
            [
             0.7777777777777778,
             "#fb9f3a"
            ],
            [
             0.8888888888888888,
             "#fdca26"
            ],
            [
             1,
             "#f0f921"
            ]
           ]
          },
          "colorway": [
           "#636efa",
           "#EF553B",
           "#00cc96",
           "#ab63fa",
           "#FFA15A",
           "#19d3f3",
           "#FF6692",
           "#B6E880",
           "#FF97FF",
           "#FECB52"
          ],
          "font": {
           "color": "#2a3f5f"
          },
          "geo": {
           "bgcolor": "white",
           "lakecolor": "white",
           "landcolor": "#E5ECF6",
           "showlakes": true,
           "showland": true,
           "subunitcolor": "white"
          },
          "hoverlabel": {
           "align": "left"
          },
          "hovermode": "closest",
          "mapbox": {
           "style": "light"
          },
          "paper_bgcolor": "white",
          "plot_bgcolor": "#E5ECF6",
          "polar": {
           "angularaxis": {
            "gridcolor": "white",
            "linecolor": "white",
            "ticks": ""
           },
           "bgcolor": "#E5ECF6",
           "radialaxis": {
            "gridcolor": "white",
            "linecolor": "white",
            "ticks": ""
           }
          },
          "scene": {
           "xaxis": {
            "backgroundcolor": "#E5ECF6",
            "gridcolor": "white",
            "gridwidth": 2,
            "linecolor": "white",
            "showbackground": true,
            "ticks": "",
            "zerolinecolor": "white"
           },
           "yaxis": {
            "backgroundcolor": "#E5ECF6",
            "gridcolor": "white",
            "gridwidth": 2,
            "linecolor": "white",
            "showbackground": true,
            "ticks": "",
            "zerolinecolor": "white"
           },
           "zaxis": {
            "backgroundcolor": "#E5ECF6",
            "gridcolor": "white",
            "gridwidth": 2,
            "linecolor": "white",
            "showbackground": true,
            "ticks": "",
            "zerolinecolor": "white"
           }
          },
          "shapedefaults": {
           "line": {
            "color": "#2a3f5f"
           }
          },
          "ternary": {
           "aaxis": {
            "gridcolor": "white",
            "linecolor": "white",
            "ticks": ""
           },
           "baxis": {
            "gridcolor": "white",
            "linecolor": "white",
            "ticks": ""
           },
           "bgcolor": "#E5ECF6",
           "caxis": {
            "gridcolor": "white",
            "linecolor": "white",
            "ticks": ""
           }
          },
          "title": {
           "x": 0.05
          },
          "xaxis": {
           "automargin": true,
           "gridcolor": "white",
           "linecolor": "white",
           "ticks": "",
           "title": {
            "standoff": 15
           },
           "zerolinecolor": "white",
           "zerolinewidth": 2
          },
          "yaxis": {
           "automargin": true,
           "gridcolor": "white",
           "linecolor": "white",
           "ticks": "",
           "title": {
            "standoff": 15
           },
           "zerolinecolor": "white",
           "zerolinewidth": 2
          }
         }
        },
        "title": {
         "text": "Confusion Matrix with Classification Report"
        },
        "width": 1200,
        "xaxis": {
         "anchor": "y",
         "domain": [
          0,
          0.54
         ]
        },
        "yaxis": {
         "anchor": "x",
         "domain": [
          0,
          1
         ]
        }
       }
      }
     },
     "metadata": {},
     "output_type": "display_data"
    }
   ],
   "source": [
    "# Polynomial SVC\n",
    "# Load your data\n",
    "random.seed(10)\n",
    "\n",
    "text = tweets['cleaned_text_stopwords'].values\n",
    "labels = tweets['airline_sentiment'].values\n",
    "\n",
    "# Split the data into training and testing sets\n",
    "text_train, text_test, labels_train, labels_test = train_test_split(text, labels, test_size=0.2, random_state=42)\n",
    "\n",
    "# TF-IDF Vectorization\n",
    "vectorizer = TfidfVectorizer(max_features=1000)\n",
    "X_train_tfidf = vectorizer.fit_transform(text_train)\n",
    "X_test_tfidf = vectorizer.transform(text_test)\n",
    "\n",
    "# Train SVC with a polynomial kernel on the training data\n",
    "polynomial_svc_model = make_pipeline(StandardScaler(with_mean=False), SVC(kernel='poly', degree=3))\n",
    "polynomial_svc_model.fit(X_train_tfidf, labels_train)\n",
    "\n",
    "# Make predictions on the test set\n",
    "y_pred_poly = polynomial_svc_model.predict(X_test_tfidf)\n",
    "\n",
    "# Model evaluation\n",
    "accuracy_poly = accuracy_score(labels_test, y_pred_poly)\n",
    "print(f'Accuracy with Polynomial SVC: {accuracy_poly:.2f}')\n",
    "\n",
    "# Classification Report\n",
    "print('\\nClassification Report with Polynomial SVC:')\n",
    "print(classification_report(labels_test, y_pred_poly))\n",
    "\n",
    "# Confusion Matrix\n",
    "cm_poly = confusion_matrix(labels_test, y_pred_poly)\n",
    "plot_confusion_matrix_with_classification_report(cm_poly, [\"Negative\", \"Neutral\", \"Positive\"], labels_test, y_pred_poly)\n"
   ]
  },
  {
   "cell_type": "code",
   "execution_count": 358,
   "metadata": {},
   "outputs": [
    {
     "name": "stdout",
     "output_type": "stream",
     "text": [
      "Macro-average ROC-AUC Score with Polynomial SVC: 0.74\n"
     ]
    }
   ],
   "source": [
    "# Poly ROC\n",
    "from sklearn.preprocessing import label_binarize\n",
    "\n",
    "y_pred_proba_poly = polynomial_svc_model.decision_function(X_test_tfidf)\n",
    "\n",
    "y_true_binary = label_binarize(labels_test, classes=np.unique(labels))\n",
    "\n",
    "roc_auc_scores_poly = []\n",
    "\n",
    "for i in range(len(np.unique(labels))):\n",
    "    binary_labels = y_true_binary[:, i]\n",
    "    roc_auc_poly = roc_auc_score(binary_labels, y_pred_proba_poly[:, i])\n",
    "    roc_auc_scores_poly.append(roc_auc_poly)\n",
    "\n",
    "roc_auc_macro_poly = np.mean(roc_auc_scores_poly)\n",
    "\n",
    "print(f'Macro-average ROC-AUC Score with Polynomial SVC: {roc_auc_macro_poly:.2f}')\n"
   ]
  },
  {
   "cell_type": "code",
   "execution_count": 359,
   "metadata": {},
   "outputs": [
    {
     "name": "stdout",
     "output_type": "stream",
     "text": [
      "Accuracy with RBF SVC: 0.79\n",
      "\n",
      "Classification Report with RBF SVC:\n",
      "              precision    recall  f1-score   support\n",
      "\n",
      "    negative       0.80      0.95      0.87      1791\n",
      "     neutral       0.72      0.48      0.57       636\n",
      "    positive       0.84      0.59      0.70       453\n",
      "\n",
      "    accuracy                           0.79      2880\n",
      "   macro avg       0.78      0.67      0.71      2880\n",
      "weighted avg       0.79      0.79      0.77      2880\n",
      "\n"
     ]
    },
    {
     "data": {
      "application/vnd.plotly.v1+json": {
       "config": {
        "plotlyServerURL": "https://plot.ly"
       },
       "data": [
        {
         "colorscale": [
          [
           0,
           "#00224e"
          ],
          [
           0.1111111111111111,
           "#123570"
          ],
          [
           0.2222222222222222,
           "#3b496c"
          ],
          [
           0.3333333333333333,
           "#575d6d"
          ],
          [
           0.4444444444444444,
           "#707173"
          ],
          [
           0.5555555555555556,
           "#8a8678"
          ],
          [
           0.6666666666666666,
           "#a59c74"
          ],
          [
           0.7777777777777778,
           "#c3b369"
          ],
          [
           0.8888888888888888,
           "#e1cc55"
          ],
          [
           1,
           "#fee838"
          ]
         ],
         "showscale": true,
         "text": [
          [
           1700,
           70,
           21
          ],
          [
           302,
           304,
           30
          ],
          [
           133,
           51,
           269
          ]
         ],
         "textfont": {
          "size": 12
         },
         "texttemplate": "%{text}",
         "type": "heatmap",
         "x": [
          "Negative",
          "Neutral",
          "Positive"
         ],
         "xaxis": "x",
         "y": [
          "Negative",
          "Neutral",
          "Positive"
         ],
         "yaxis": "y",
         "z": [
          [
           1700,
           70,
           21
          ],
          [
           302,
           304,
           30
          ],
          [
           133,
           51,
           269
          ]
         ]
        },
        {
         "cells": {
          "fill": {
           "color": "rgba(0,0,0,0)"
          },
          "values": [
           [
            "Negative",
            "Neutral",
            "Positive",
            "accuracy",
            "macro avg",
            "weighted avg"
           ],
           [
            0.8,
            0.72,
            0.84,
            0.79,
            0.78,
            0.79
           ],
           [
            0.95,
            0.48,
            0.59,
            0.79,
            0.67,
            0.79
           ],
           [
            0.87,
            0.57,
            0.7,
            0.79,
            0.71,
            0.77
           ],
           [
            1791,
            636,
            453,
            0.79,
            2880,
            2880
           ]
          ]
         },
         "domain": {
          "x": [
           0.64,
           1
          ],
          "y": [
           0,
           1
          ]
         },
         "header": {
          "fill": {
           "color": "rgba(0,0,0,0)"
          },
          "values": [
           "precision",
           "recall",
           "f1-score",
           "support"
          ]
         },
         "type": "table"
        }
       ],
       "layout": {
        "annotations": [
         {
          "font": {
           "size": 16
          },
          "showarrow": false,
          "text": "Confusion Matrix",
          "x": 0.27,
          "xanchor": "center",
          "xref": "paper",
          "y": 1,
          "yanchor": "bottom",
          "yref": "paper"
         },
         {
          "font": {
           "size": 16
          },
          "showarrow": false,
          "text": "Classification Report",
          "x": 0.8200000000000001,
          "xanchor": "center",
          "xref": "paper",
          "y": 1,
          "yanchor": "bottom",
          "yref": "paper"
         },
         {
          "font": {
           "color": "rgba(247, 247, 247, 1)",
           "size": 16
          },
          "showarrow": false,
          "text": "Overall Accuracy: 78.92%",
          "x": 0.9,
          "xref": "paper",
          "y": 0.1,
          "yref": "paper"
         }
        ],
        "font": {
         "color": "rgba(247, 247, 247, 1)"
        },
        "height": 500,
        "paper_bgcolor": "rgba(0,0,0,0)",
        "template": {
         "data": {
          "bar": [
           {
            "error_x": {
             "color": "#2a3f5f"
            },
            "error_y": {
             "color": "#2a3f5f"
            },
            "marker": {
             "line": {
              "color": "#E5ECF6",
              "width": 0.5
             },
             "pattern": {
              "fillmode": "overlay",
              "size": 10,
              "solidity": 0.2
             }
            },
            "type": "bar"
           }
          ],
          "barpolar": [
           {
            "marker": {
             "line": {
              "color": "#E5ECF6",
              "width": 0.5
             },
             "pattern": {
              "fillmode": "overlay",
              "size": 10,
              "solidity": 0.2
             }
            },
            "type": "barpolar"
           }
          ],
          "carpet": [
           {
            "aaxis": {
             "endlinecolor": "#2a3f5f",
             "gridcolor": "white",
             "linecolor": "white",
             "minorgridcolor": "white",
             "startlinecolor": "#2a3f5f"
            },
            "baxis": {
             "endlinecolor": "#2a3f5f",
             "gridcolor": "white",
             "linecolor": "white",
             "minorgridcolor": "white",
             "startlinecolor": "#2a3f5f"
            },
            "type": "carpet"
           }
          ],
          "choropleth": [
           {
            "colorbar": {
             "outlinewidth": 0,
             "ticks": ""
            },
            "type": "choropleth"
           }
          ],
          "contour": [
           {
            "colorbar": {
             "outlinewidth": 0,
             "ticks": ""
            },
            "colorscale": [
             [
              0,
              "#0d0887"
             ],
             [
              0.1111111111111111,
              "#46039f"
             ],
             [
              0.2222222222222222,
              "#7201a8"
             ],
             [
              0.3333333333333333,
              "#9c179e"
             ],
             [
              0.4444444444444444,
              "#bd3786"
             ],
             [
              0.5555555555555556,
              "#d8576b"
             ],
             [
              0.6666666666666666,
              "#ed7953"
             ],
             [
              0.7777777777777778,
              "#fb9f3a"
             ],
             [
              0.8888888888888888,
              "#fdca26"
             ],
             [
              1,
              "#f0f921"
             ]
            ],
            "type": "contour"
           }
          ],
          "contourcarpet": [
           {
            "colorbar": {
             "outlinewidth": 0,
             "ticks": ""
            },
            "type": "contourcarpet"
           }
          ],
          "heatmap": [
           {
            "colorbar": {
             "outlinewidth": 0,
             "ticks": ""
            },
            "colorscale": [
             [
              0,
              "#0d0887"
             ],
             [
              0.1111111111111111,
              "#46039f"
             ],
             [
              0.2222222222222222,
              "#7201a8"
             ],
             [
              0.3333333333333333,
              "#9c179e"
             ],
             [
              0.4444444444444444,
              "#bd3786"
             ],
             [
              0.5555555555555556,
              "#d8576b"
             ],
             [
              0.6666666666666666,
              "#ed7953"
             ],
             [
              0.7777777777777778,
              "#fb9f3a"
             ],
             [
              0.8888888888888888,
              "#fdca26"
             ],
             [
              1,
              "#f0f921"
             ]
            ],
            "type": "heatmap"
           }
          ],
          "heatmapgl": [
           {
            "colorbar": {
             "outlinewidth": 0,
             "ticks": ""
            },
            "colorscale": [
             [
              0,
              "#0d0887"
             ],
             [
              0.1111111111111111,
              "#46039f"
             ],
             [
              0.2222222222222222,
              "#7201a8"
             ],
             [
              0.3333333333333333,
              "#9c179e"
             ],
             [
              0.4444444444444444,
              "#bd3786"
             ],
             [
              0.5555555555555556,
              "#d8576b"
             ],
             [
              0.6666666666666666,
              "#ed7953"
             ],
             [
              0.7777777777777778,
              "#fb9f3a"
             ],
             [
              0.8888888888888888,
              "#fdca26"
             ],
             [
              1,
              "#f0f921"
             ]
            ],
            "type": "heatmapgl"
           }
          ],
          "histogram": [
           {
            "marker": {
             "pattern": {
              "fillmode": "overlay",
              "size": 10,
              "solidity": 0.2
             }
            },
            "type": "histogram"
           }
          ],
          "histogram2d": [
           {
            "colorbar": {
             "outlinewidth": 0,
             "ticks": ""
            },
            "colorscale": [
             [
              0,
              "#0d0887"
             ],
             [
              0.1111111111111111,
              "#46039f"
             ],
             [
              0.2222222222222222,
              "#7201a8"
             ],
             [
              0.3333333333333333,
              "#9c179e"
             ],
             [
              0.4444444444444444,
              "#bd3786"
             ],
             [
              0.5555555555555556,
              "#d8576b"
             ],
             [
              0.6666666666666666,
              "#ed7953"
             ],
             [
              0.7777777777777778,
              "#fb9f3a"
             ],
             [
              0.8888888888888888,
              "#fdca26"
             ],
             [
              1,
              "#f0f921"
             ]
            ],
            "type": "histogram2d"
           }
          ],
          "histogram2dcontour": [
           {
            "colorbar": {
             "outlinewidth": 0,
             "ticks": ""
            },
            "colorscale": [
             [
              0,
              "#0d0887"
             ],
             [
              0.1111111111111111,
              "#46039f"
             ],
             [
              0.2222222222222222,
              "#7201a8"
             ],
             [
              0.3333333333333333,
              "#9c179e"
             ],
             [
              0.4444444444444444,
              "#bd3786"
             ],
             [
              0.5555555555555556,
              "#d8576b"
             ],
             [
              0.6666666666666666,
              "#ed7953"
             ],
             [
              0.7777777777777778,
              "#fb9f3a"
             ],
             [
              0.8888888888888888,
              "#fdca26"
             ],
             [
              1,
              "#f0f921"
             ]
            ],
            "type": "histogram2dcontour"
           }
          ],
          "mesh3d": [
           {
            "colorbar": {
             "outlinewidth": 0,
             "ticks": ""
            },
            "type": "mesh3d"
           }
          ],
          "parcoords": [
           {
            "line": {
             "colorbar": {
              "outlinewidth": 0,
              "ticks": ""
             }
            },
            "type": "parcoords"
           }
          ],
          "pie": [
           {
            "automargin": true,
            "type": "pie"
           }
          ],
          "scatter": [
           {
            "fillpattern": {
             "fillmode": "overlay",
             "size": 10,
             "solidity": 0.2
            },
            "type": "scatter"
           }
          ],
          "scatter3d": [
           {
            "line": {
             "colorbar": {
              "outlinewidth": 0,
              "ticks": ""
             }
            },
            "marker": {
             "colorbar": {
              "outlinewidth": 0,
              "ticks": ""
             }
            },
            "type": "scatter3d"
           }
          ],
          "scattercarpet": [
           {
            "marker": {
             "colorbar": {
              "outlinewidth": 0,
              "ticks": ""
             }
            },
            "type": "scattercarpet"
           }
          ],
          "scattergeo": [
           {
            "marker": {
             "colorbar": {
              "outlinewidth": 0,
              "ticks": ""
             }
            },
            "type": "scattergeo"
           }
          ],
          "scattergl": [
           {
            "marker": {
             "colorbar": {
              "outlinewidth": 0,
              "ticks": ""
             }
            },
            "type": "scattergl"
           }
          ],
          "scattermapbox": [
           {
            "marker": {
             "colorbar": {
              "outlinewidth": 0,
              "ticks": ""
             }
            },
            "type": "scattermapbox"
           }
          ],
          "scatterpolar": [
           {
            "marker": {
             "colorbar": {
              "outlinewidth": 0,
              "ticks": ""
             }
            },
            "type": "scatterpolar"
           }
          ],
          "scatterpolargl": [
           {
            "marker": {
             "colorbar": {
              "outlinewidth": 0,
              "ticks": ""
             }
            },
            "type": "scatterpolargl"
           }
          ],
          "scatterternary": [
           {
            "marker": {
             "colorbar": {
              "outlinewidth": 0,
              "ticks": ""
             }
            },
            "type": "scatterternary"
           }
          ],
          "surface": [
           {
            "colorbar": {
             "outlinewidth": 0,
             "ticks": ""
            },
            "colorscale": [
             [
              0,
              "#0d0887"
             ],
             [
              0.1111111111111111,
              "#46039f"
             ],
             [
              0.2222222222222222,
              "#7201a8"
             ],
             [
              0.3333333333333333,
              "#9c179e"
             ],
             [
              0.4444444444444444,
              "#bd3786"
             ],
             [
              0.5555555555555556,
              "#d8576b"
             ],
             [
              0.6666666666666666,
              "#ed7953"
             ],
             [
              0.7777777777777778,
              "#fb9f3a"
             ],
             [
              0.8888888888888888,
              "#fdca26"
             ],
             [
              1,
              "#f0f921"
             ]
            ],
            "type": "surface"
           }
          ],
          "table": [
           {
            "cells": {
             "fill": {
              "color": "#EBF0F8"
             },
             "line": {
              "color": "white"
             }
            },
            "header": {
             "fill": {
              "color": "#C8D4E3"
             },
             "line": {
              "color": "white"
             }
            },
            "type": "table"
           }
          ]
         },
         "layout": {
          "annotationdefaults": {
           "arrowcolor": "#2a3f5f",
           "arrowhead": 0,
           "arrowwidth": 1
          },
          "autotypenumbers": "strict",
          "coloraxis": {
           "colorbar": {
            "outlinewidth": 0,
            "ticks": ""
           }
          },
          "colorscale": {
           "diverging": [
            [
             0,
             "#8e0152"
            ],
            [
             0.1,
             "#c51b7d"
            ],
            [
             0.2,
             "#de77ae"
            ],
            [
             0.3,
             "#f1b6da"
            ],
            [
             0.4,
             "#fde0ef"
            ],
            [
             0.5,
             "#f7f7f7"
            ],
            [
             0.6,
             "#e6f5d0"
            ],
            [
             0.7,
             "#b8e186"
            ],
            [
             0.8,
             "#7fbc41"
            ],
            [
             0.9,
             "#4d9221"
            ],
            [
             1,
             "#276419"
            ]
           ],
           "sequential": [
            [
             0,
             "#0d0887"
            ],
            [
             0.1111111111111111,
             "#46039f"
            ],
            [
             0.2222222222222222,
             "#7201a8"
            ],
            [
             0.3333333333333333,
             "#9c179e"
            ],
            [
             0.4444444444444444,
             "#bd3786"
            ],
            [
             0.5555555555555556,
             "#d8576b"
            ],
            [
             0.6666666666666666,
             "#ed7953"
            ],
            [
             0.7777777777777778,
             "#fb9f3a"
            ],
            [
             0.8888888888888888,
             "#fdca26"
            ],
            [
             1,
             "#f0f921"
            ]
           ],
           "sequentialminus": [
            [
             0,
             "#0d0887"
            ],
            [
             0.1111111111111111,
             "#46039f"
            ],
            [
             0.2222222222222222,
             "#7201a8"
            ],
            [
             0.3333333333333333,
             "#9c179e"
            ],
            [
             0.4444444444444444,
             "#bd3786"
            ],
            [
             0.5555555555555556,
             "#d8576b"
            ],
            [
             0.6666666666666666,
             "#ed7953"
            ],
            [
             0.7777777777777778,
             "#fb9f3a"
            ],
            [
             0.8888888888888888,
             "#fdca26"
            ],
            [
             1,
             "#f0f921"
            ]
           ]
          },
          "colorway": [
           "#636efa",
           "#EF553B",
           "#00cc96",
           "#ab63fa",
           "#FFA15A",
           "#19d3f3",
           "#FF6692",
           "#B6E880",
           "#FF97FF",
           "#FECB52"
          ],
          "font": {
           "color": "#2a3f5f"
          },
          "geo": {
           "bgcolor": "white",
           "lakecolor": "white",
           "landcolor": "#E5ECF6",
           "showlakes": true,
           "showland": true,
           "subunitcolor": "white"
          },
          "hoverlabel": {
           "align": "left"
          },
          "hovermode": "closest",
          "mapbox": {
           "style": "light"
          },
          "paper_bgcolor": "white",
          "plot_bgcolor": "#E5ECF6",
          "polar": {
           "angularaxis": {
            "gridcolor": "white",
            "linecolor": "white",
            "ticks": ""
           },
           "bgcolor": "#E5ECF6",
           "radialaxis": {
            "gridcolor": "white",
            "linecolor": "white",
            "ticks": ""
           }
          },
          "scene": {
           "xaxis": {
            "backgroundcolor": "#E5ECF6",
            "gridcolor": "white",
            "gridwidth": 2,
            "linecolor": "white",
            "showbackground": true,
            "ticks": "",
            "zerolinecolor": "white"
           },
           "yaxis": {
            "backgroundcolor": "#E5ECF6",
            "gridcolor": "white",
            "gridwidth": 2,
            "linecolor": "white",
            "showbackground": true,
            "ticks": "",
            "zerolinecolor": "white"
           },
           "zaxis": {
            "backgroundcolor": "#E5ECF6",
            "gridcolor": "white",
            "gridwidth": 2,
            "linecolor": "white",
            "showbackground": true,
            "ticks": "",
            "zerolinecolor": "white"
           }
          },
          "shapedefaults": {
           "line": {
            "color": "#2a3f5f"
           }
          },
          "ternary": {
           "aaxis": {
            "gridcolor": "white",
            "linecolor": "white",
            "ticks": ""
           },
           "baxis": {
            "gridcolor": "white",
            "linecolor": "white",
            "ticks": ""
           },
           "bgcolor": "#E5ECF6",
           "caxis": {
            "gridcolor": "white",
            "linecolor": "white",
            "ticks": ""
           }
          },
          "title": {
           "x": 0.05
          },
          "xaxis": {
           "automargin": true,
           "gridcolor": "white",
           "linecolor": "white",
           "ticks": "",
           "title": {
            "standoff": 15
           },
           "zerolinecolor": "white",
           "zerolinewidth": 2
          },
          "yaxis": {
           "automargin": true,
           "gridcolor": "white",
           "linecolor": "white",
           "ticks": "",
           "title": {
            "standoff": 15
           },
           "zerolinecolor": "white",
           "zerolinewidth": 2
          }
         }
        },
        "title": {
         "text": "Confusion Matrix with Classification Report"
        },
        "width": 1200,
        "xaxis": {
         "anchor": "y",
         "domain": [
          0,
          0.54
         ]
        },
        "yaxis": {
         "anchor": "x",
         "domain": [
          0,
          1
         ]
        }
       }
      }
     },
     "metadata": {},
     "output_type": "display_data"
    }
   ],
   "source": [
    "# Base RBF \n",
    "\n",
    "random.seed(10)\n",
    "\n",
    "# Load your data\n",
    "text = tweets['cleaned_text_stopwords'].values\n",
    "labels = tweets['airline_sentiment'].values\n",
    "\n",
    "# Split the data into training and testing sets\n",
    "text_train, text_test, labels_train, labels_test = train_test_split(text, labels, test_size=0.2, random_state=42)\n",
    "\n",
    "# TF-IDF Vectorization\n",
    "vectorizer = TfidfVectorizer(max_features=1000)\n",
    "X_train_tfidf = vectorizer.fit_transform(text_train)\n",
    "X_test_tfidf = vectorizer.transform(text_test)\n",
    "\n",
    "# Train SVC with an RBF kernel on the training data\n",
    "rbf_svc_model = make_pipeline(StandardScaler(with_mean=False, with_std=False), SVC(kernel='rbf', C=1.0, gamma='scale'))\n",
    "rbf_svc_model.fit(X_train_tfidf, labels_train)\n",
    "\n",
    "# Make predictions on the test set\n",
    "y_pred_rbf = rbf_svc_model.predict(X_test_tfidf)\n",
    "\n",
    "# Model evaluation\n",
    "accuracy_rbf = accuracy_score(labels_test, y_pred_rbf)\n",
    "print(f'Accuracy with RBF SVC: {accuracy_rbf:.2f}')\n",
    "\n",
    "# Classification Report\n",
    "print('\\nClassification Report with RBF SVC:')\n",
    "print(classification_report(labels_test, y_pred_rbf))\n",
    "\n",
    "# Confusion Matrix\n",
    "cm_rbf = confusion_matrix(labels_test, y_pred_rbf)\n",
    "plot_confusion_matrix_with_classification_report(cm_rbf, [\"Negative\", \"Neutral\", \"Positive\"], labels_test, y_pred_rbf)\n"
   ]
  },
  {
   "cell_type": "code",
   "execution_count": 360,
   "metadata": {},
   "outputs": [
    {
     "name": "stdout",
     "output_type": "stream",
     "text": [
      "Macro-average ROC-AUC Score with RBF SVC: 0.88\n"
     ]
    }
   ],
   "source": [
    "# ROC for RBF\n",
    "\n",
    "y_pred_proba_rbf = rbf_svc_model.decision_function(X_test_tfidf)\n",
    "y_true_binary_rbf = label_binarize(labels_test, classes=np.unique(labels))\n",
    "\n",
    "roc_auc_scores_rbf = []\n",
    "\n",
    "for i in range(len(np.unique(labels))):\n",
    "    binary_labels_rbf = y_true_binary_rbf[:, i]\n",
    "    roc_auc_rbf = roc_auc_score(binary_labels_rbf, y_pred_proba_rbf[:, i])\n",
    "    roc_auc_scores_rbf.append(roc_auc_rbf)\n",
    "\n",
    "roc_auc_macro_rbf = np.mean(roc_auc_scores_rbf)\n",
    "\n",
    "print(f'Macro-average ROC-AUC Score with RBF SVC: {roc_auc_macro_rbf:.2f}')\n"
   ]
  },
  {
   "cell_type": "code",
   "execution_count": 362,
   "metadata": {},
   "outputs": [
    {
     "name": "stderr",
     "output_type": "stream",
     "text": [
      "/Users/fish/opt/anaconda3/lib/python3.9/site-packages/sklearn/model_selection/_validation.py:372: FitFailedWarning:\n",
      "\n",
      "\n",
      "36 fits failed out of a total of 108.\n",
      "The score on these train-test partitions for these parameters will be set to nan.\n",
      "If these failures are not expected, you can try to debug them by setting error_score='raise'.\n",
      "\n",
      "Below are more details about the failures:\n",
      "--------------------------------------------------------------------------------\n",
      "36 fits failed with the following error:\n",
      "Traceback (most recent call last):\n",
      "  File \"/Users/fish/opt/anaconda3/lib/python3.9/site-packages/sklearn/model_selection/_validation.py\", line 680, in _fit_and_score\n",
      "    estimator.fit(X_train, y_train, **fit_params)\n",
      "  File \"/Users/fish/opt/anaconda3/lib/python3.9/site-packages/sklearnex/svm/svc.py\", line 84, in fit\n",
      "    dispatch(self, 'svm.SVC.fit', {\n",
      "  File \"/Users/fish/opt/anaconda3/lib/python3.9/site-packages/sklearnex/_device_offload.py\", line 161, in dispatch\n",
      "    return branches[backend](obj, *hostargs, **hostkwargs)\n",
      "  File \"/Users/fish/opt/anaconda3/lib/python3.9/site-packages/sklearn/svm/_base.py\", line 255, in fit\n",
      "    fit(X, y, sample_weight, solver_type, kernel, random_seed=seed)\n",
      "  File \"/Users/fish/opt/anaconda3/lib/python3.9/site-packages/sklearn/svm/_base.py\", line 342, in _sparse_fit\n",
      "    kernel_type = self._sparse_kernels.index(kernel)\n",
      "ValueError: 'polynomial' is not in list\n",
      "\n",
      "\n",
      "/Users/fish/opt/anaconda3/lib/python3.9/site-packages/sklearn/model_selection/_search.py:969: UserWarning:\n",
      "\n",
      "One or more of the test scores are non-finite: [0.71147           nan 0.63731875 0.71147           nan 0.66137015\n",
      " 0.71147           nan 0.63514804 0.78996266        nan 0.74611444\n",
      " 0.78996266        nan 0.78579491 0.78996266        nan 0.64634888\n",
      " 0.7669532         nan 0.78753148 0.7669532         nan 0.78770513\n",
      " 0.7669532         nan 0.64895372 0.74194669        nan 0.76530346\n",
      " 0.74194669        nan 0.78805244 0.74194669        nan 0.64895372]\n",
      "\n"
     ]
    },
    {
     "name": "stdout",
     "output_type": "stream",
     "text": [
      "Best Parameters: {'C': 1, 'gamma': 0.1, 'kernel': 'linear'}\n",
      "Accuracy: 0.7861\n",
      "\n",
      "Classification Report:\n",
      "              precision    recall  f1-score   support\n",
      "\n",
      "    negative     0.8120    0.9263    0.8654      1791\n",
      "     neutral     0.6841    0.5142    0.5871       636\n",
      "    positive     0.7744    0.6137    0.6847       453\n",
      "\n",
      "    accuracy                         0.7861      2880\n",
      "   macro avg     0.7568    0.6847    0.7124      2880\n",
      "weighted avg     0.7779    0.7861    0.7755      2880\n",
      "\n"
     ]
    },
    {
     "data": {
      "application/vnd.plotly.v1+json": {
       "config": {
        "plotlyServerURL": "https://plot.ly"
       },
       "data": [
        {
         "colorscale": [
          [
           0,
           "#00224e"
          ],
          [
           0.1111111111111111,
           "#123570"
          ],
          [
           0.2222222222222222,
           "#3b496c"
          ],
          [
           0.3333333333333333,
           "#575d6d"
          ],
          [
           0.4444444444444444,
           "#707173"
          ],
          [
           0.5555555555555556,
           "#8a8678"
          ],
          [
           0.6666666666666666,
           "#a59c74"
          ],
          [
           0.7777777777777778,
           "#c3b369"
          ],
          [
           0.8888888888888888,
           "#e1cc55"
          ],
          [
           1,
           "#fee838"
          ]
         ],
         "showscale": true,
         "text": [
          [
           1659,
           97,
           35
          ],
          [
           263,
           327,
           46
          ],
          [
           121,
           54,
           278
          ]
         ],
         "textfont": {
          "size": 12
         },
         "texttemplate": "%{text}",
         "type": "heatmap",
         "x": [
          "Negative",
          "Neutral",
          "Positive"
         ],
         "xaxis": "x",
         "y": [
          "Negative",
          "Neutral",
          "Positive"
         ],
         "yaxis": "y",
         "z": [
          [
           1659,
           97,
           35
          ],
          [
           263,
           327,
           46
          ],
          [
           121,
           54,
           278
          ]
         ]
        },
        {
         "cells": {
          "fill": {
           "color": "rgba(0,0,0,0)"
          },
          "values": [
           [
            "Negative",
            "Neutral",
            "Positive",
            "accuracy",
            "macro avg",
            "weighted avg"
           ],
           [
            0.81,
            0.68,
            0.77,
            0.79,
            0.76,
            0.78
           ],
           [
            0.93,
            0.51,
            0.61,
            0.79,
            0.68,
            0.79
           ],
           [
            0.87,
            0.59,
            0.68,
            0.79,
            0.71,
            0.78
           ],
           [
            1791,
            636,
            453,
            0.79,
            2880,
            2880
           ]
          ]
         },
         "domain": {
          "x": [
           0.64,
           1
          ],
          "y": [
           0,
           1
          ]
         },
         "header": {
          "fill": {
           "color": "rgba(0,0,0,0)"
          },
          "values": [
           "precision",
           "recall",
           "f1-score",
           "support"
          ]
         },
         "type": "table"
        }
       ],
       "layout": {
        "annotations": [
         {
          "font": {
           "size": 16
          },
          "showarrow": false,
          "text": "Confusion Matrix",
          "x": 0.27,
          "xanchor": "center",
          "xref": "paper",
          "y": 1,
          "yanchor": "bottom",
          "yref": "paper"
         },
         {
          "font": {
           "size": 16
          },
          "showarrow": false,
          "text": "Classification Report",
          "x": 0.8200000000000001,
          "xanchor": "center",
          "xref": "paper",
          "y": 1,
          "yanchor": "bottom",
          "yref": "paper"
         },
         {
          "font": {
           "color": "rgba(247, 247, 247, 1)",
           "size": 16
          },
          "showarrow": false,
          "text": "Overall Accuracy: 78.61%",
          "x": 0.9,
          "xref": "paper",
          "y": 0.1,
          "yref": "paper"
         }
        ],
        "font": {
         "color": "rgba(247, 247, 247, 1)"
        },
        "height": 500,
        "paper_bgcolor": "rgba(0,0,0,0)",
        "template": {
         "data": {
          "bar": [
           {
            "error_x": {
             "color": "#2a3f5f"
            },
            "error_y": {
             "color": "#2a3f5f"
            },
            "marker": {
             "line": {
              "color": "#E5ECF6",
              "width": 0.5
             },
             "pattern": {
              "fillmode": "overlay",
              "size": 10,
              "solidity": 0.2
             }
            },
            "type": "bar"
           }
          ],
          "barpolar": [
           {
            "marker": {
             "line": {
              "color": "#E5ECF6",
              "width": 0.5
             },
             "pattern": {
              "fillmode": "overlay",
              "size": 10,
              "solidity": 0.2
             }
            },
            "type": "barpolar"
           }
          ],
          "carpet": [
           {
            "aaxis": {
             "endlinecolor": "#2a3f5f",
             "gridcolor": "white",
             "linecolor": "white",
             "minorgridcolor": "white",
             "startlinecolor": "#2a3f5f"
            },
            "baxis": {
             "endlinecolor": "#2a3f5f",
             "gridcolor": "white",
             "linecolor": "white",
             "minorgridcolor": "white",
             "startlinecolor": "#2a3f5f"
            },
            "type": "carpet"
           }
          ],
          "choropleth": [
           {
            "colorbar": {
             "outlinewidth": 0,
             "ticks": ""
            },
            "type": "choropleth"
           }
          ],
          "contour": [
           {
            "colorbar": {
             "outlinewidth": 0,
             "ticks": ""
            },
            "colorscale": [
             [
              0,
              "#0d0887"
             ],
             [
              0.1111111111111111,
              "#46039f"
             ],
             [
              0.2222222222222222,
              "#7201a8"
             ],
             [
              0.3333333333333333,
              "#9c179e"
             ],
             [
              0.4444444444444444,
              "#bd3786"
             ],
             [
              0.5555555555555556,
              "#d8576b"
             ],
             [
              0.6666666666666666,
              "#ed7953"
             ],
             [
              0.7777777777777778,
              "#fb9f3a"
             ],
             [
              0.8888888888888888,
              "#fdca26"
             ],
             [
              1,
              "#f0f921"
             ]
            ],
            "type": "contour"
           }
          ],
          "contourcarpet": [
           {
            "colorbar": {
             "outlinewidth": 0,
             "ticks": ""
            },
            "type": "contourcarpet"
           }
          ],
          "heatmap": [
           {
            "colorbar": {
             "outlinewidth": 0,
             "ticks": ""
            },
            "colorscale": [
             [
              0,
              "#0d0887"
             ],
             [
              0.1111111111111111,
              "#46039f"
             ],
             [
              0.2222222222222222,
              "#7201a8"
             ],
             [
              0.3333333333333333,
              "#9c179e"
             ],
             [
              0.4444444444444444,
              "#bd3786"
             ],
             [
              0.5555555555555556,
              "#d8576b"
             ],
             [
              0.6666666666666666,
              "#ed7953"
             ],
             [
              0.7777777777777778,
              "#fb9f3a"
             ],
             [
              0.8888888888888888,
              "#fdca26"
             ],
             [
              1,
              "#f0f921"
             ]
            ],
            "type": "heatmap"
           }
          ],
          "heatmapgl": [
           {
            "colorbar": {
             "outlinewidth": 0,
             "ticks": ""
            },
            "colorscale": [
             [
              0,
              "#0d0887"
             ],
             [
              0.1111111111111111,
              "#46039f"
             ],
             [
              0.2222222222222222,
              "#7201a8"
             ],
             [
              0.3333333333333333,
              "#9c179e"
             ],
             [
              0.4444444444444444,
              "#bd3786"
             ],
             [
              0.5555555555555556,
              "#d8576b"
             ],
             [
              0.6666666666666666,
              "#ed7953"
             ],
             [
              0.7777777777777778,
              "#fb9f3a"
             ],
             [
              0.8888888888888888,
              "#fdca26"
             ],
             [
              1,
              "#f0f921"
             ]
            ],
            "type": "heatmapgl"
           }
          ],
          "histogram": [
           {
            "marker": {
             "pattern": {
              "fillmode": "overlay",
              "size": 10,
              "solidity": 0.2
             }
            },
            "type": "histogram"
           }
          ],
          "histogram2d": [
           {
            "colorbar": {
             "outlinewidth": 0,
             "ticks": ""
            },
            "colorscale": [
             [
              0,
              "#0d0887"
             ],
             [
              0.1111111111111111,
              "#46039f"
             ],
             [
              0.2222222222222222,
              "#7201a8"
             ],
             [
              0.3333333333333333,
              "#9c179e"
             ],
             [
              0.4444444444444444,
              "#bd3786"
             ],
             [
              0.5555555555555556,
              "#d8576b"
             ],
             [
              0.6666666666666666,
              "#ed7953"
             ],
             [
              0.7777777777777778,
              "#fb9f3a"
             ],
             [
              0.8888888888888888,
              "#fdca26"
             ],
             [
              1,
              "#f0f921"
             ]
            ],
            "type": "histogram2d"
           }
          ],
          "histogram2dcontour": [
           {
            "colorbar": {
             "outlinewidth": 0,
             "ticks": ""
            },
            "colorscale": [
             [
              0,
              "#0d0887"
             ],
             [
              0.1111111111111111,
              "#46039f"
             ],
             [
              0.2222222222222222,
              "#7201a8"
             ],
             [
              0.3333333333333333,
              "#9c179e"
             ],
             [
              0.4444444444444444,
              "#bd3786"
             ],
             [
              0.5555555555555556,
              "#d8576b"
             ],
             [
              0.6666666666666666,
              "#ed7953"
             ],
             [
              0.7777777777777778,
              "#fb9f3a"
             ],
             [
              0.8888888888888888,
              "#fdca26"
             ],
             [
              1,
              "#f0f921"
             ]
            ],
            "type": "histogram2dcontour"
           }
          ],
          "mesh3d": [
           {
            "colorbar": {
             "outlinewidth": 0,
             "ticks": ""
            },
            "type": "mesh3d"
           }
          ],
          "parcoords": [
           {
            "line": {
             "colorbar": {
              "outlinewidth": 0,
              "ticks": ""
             }
            },
            "type": "parcoords"
           }
          ],
          "pie": [
           {
            "automargin": true,
            "type": "pie"
           }
          ],
          "scatter": [
           {
            "fillpattern": {
             "fillmode": "overlay",
             "size": 10,
             "solidity": 0.2
            },
            "type": "scatter"
           }
          ],
          "scatter3d": [
           {
            "line": {
             "colorbar": {
              "outlinewidth": 0,
              "ticks": ""
             }
            },
            "marker": {
             "colorbar": {
              "outlinewidth": 0,
              "ticks": ""
             }
            },
            "type": "scatter3d"
           }
          ],
          "scattercarpet": [
           {
            "marker": {
             "colorbar": {
              "outlinewidth": 0,
              "ticks": ""
             }
            },
            "type": "scattercarpet"
           }
          ],
          "scattergeo": [
           {
            "marker": {
             "colorbar": {
              "outlinewidth": 0,
              "ticks": ""
             }
            },
            "type": "scattergeo"
           }
          ],
          "scattergl": [
           {
            "marker": {
             "colorbar": {
              "outlinewidth": 0,
              "ticks": ""
             }
            },
            "type": "scattergl"
           }
          ],
          "scattermapbox": [
           {
            "marker": {
             "colorbar": {
              "outlinewidth": 0,
              "ticks": ""
             }
            },
            "type": "scattermapbox"
           }
          ],
          "scatterpolar": [
           {
            "marker": {
             "colorbar": {
              "outlinewidth": 0,
              "ticks": ""
             }
            },
            "type": "scatterpolar"
           }
          ],
          "scatterpolargl": [
           {
            "marker": {
             "colorbar": {
              "outlinewidth": 0,
              "ticks": ""
             }
            },
            "type": "scatterpolargl"
           }
          ],
          "scatterternary": [
           {
            "marker": {
             "colorbar": {
              "outlinewidth": 0,
              "ticks": ""
             }
            },
            "type": "scatterternary"
           }
          ],
          "surface": [
           {
            "colorbar": {
             "outlinewidth": 0,
             "ticks": ""
            },
            "colorscale": [
             [
              0,
              "#0d0887"
             ],
             [
              0.1111111111111111,
              "#46039f"
             ],
             [
              0.2222222222222222,
              "#7201a8"
             ],
             [
              0.3333333333333333,
              "#9c179e"
             ],
             [
              0.4444444444444444,
              "#bd3786"
             ],
             [
              0.5555555555555556,
              "#d8576b"
             ],
             [
              0.6666666666666666,
              "#ed7953"
             ],
             [
              0.7777777777777778,
              "#fb9f3a"
             ],
             [
              0.8888888888888888,
              "#fdca26"
             ],
             [
              1,
              "#f0f921"
             ]
            ],
            "type": "surface"
           }
          ],
          "table": [
           {
            "cells": {
             "fill": {
              "color": "#EBF0F8"
             },
             "line": {
              "color": "white"
             }
            },
            "header": {
             "fill": {
              "color": "#C8D4E3"
             },
             "line": {
              "color": "white"
             }
            },
            "type": "table"
           }
          ]
         },
         "layout": {
          "annotationdefaults": {
           "arrowcolor": "#2a3f5f",
           "arrowhead": 0,
           "arrowwidth": 1
          },
          "autotypenumbers": "strict",
          "coloraxis": {
           "colorbar": {
            "outlinewidth": 0,
            "ticks": ""
           }
          },
          "colorscale": {
           "diverging": [
            [
             0,
             "#8e0152"
            ],
            [
             0.1,
             "#c51b7d"
            ],
            [
             0.2,
             "#de77ae"
            ],
            [
             0.3,
             "#f1b6da"
            ],
            [
             0.4,
             "#fde0ef"
            ],
            [
             0.5,
             "#f7f7f7"
            ],
            [
             0.6,
             "#e6f5d0"
            ],
            [
             0.7,
             "#b8e186"
            ],
            [
             0.8,
             "#7fbc41"
            ],
            [
             0.9,
             "#4d9221"
            ],
            [
             1,
             "#276419"
            ]
           ],
           "sequential": [
            [
             0,
             "#0d0887"
            ],
            [
             0.1111111111111111,
             "#46039f"
            ],
            [
             0.2222222222222222,
             "#7201a8"
            ],
            [
             0.3333333333333333,
             "#9c179e"
            ],
            [
             0.4444444444444444,
             "#bd3786"
            ],
            [
             0.5555555555555556,
             "#d8576b"
            ],
            [
             0.6666666666666666,
             "#ed7953"
            ],
            [
             0.7777777777777778,
             "#fb9f3a"
            ],
            [
             0.8888888888888888,
             "#fdca26"
            ],
            [
             1,
             "#f0f921"
            ]
           ],
           "sequentialminus": [
            [
             0,
             "#0d0887"
            ],
            [
             0.1111111111111111,
             "#46039f"
            ],
            [
             0.2222222222222222,
             "#7201a8"
            ],
            [
             0.3333333333333333,
             "#9c179e"
            ],
            [
             0.4444444444444444,
             "#bd3786"
            ],
            [
             0.5555555555555556,
             "#d8576b"
            ],
            [
             0.6666666666666666,
             "#ed7953"
            ],
            [
             0.7777777777777778,
             "#fb9f3a"
            ],
            [
             0.8888888888888888,
             "#fdca26"
            ],
            [
             1,
             "#f0f921"
            ]
           ]
          },
          "colorway": [
           "#636efa",
           "#EF553B",
           "#00cc96",
           "#ab63fa",
           "#FFA15A",
           "#19d3f3",
           "#FF6692",
           "#B6E880",
           "#FF97FF",
           "#FECB52"
          ],
          "font": {
           "color": "#2a3f5f"
          },
          "geo": {
           "bgcolor": "white",
           "lakecolor": "white",
           "landcolor": "#E5ECF6",
           "showlakes": true,
           "showland": true,
           "subunitcolor": "white"
          },
          "hoverlabel": {
           "align": "left"
          },
          "hovermode": "closest",
          "mapbox": {
           "style": "light"
          },
          "paper_bgcolor": "white",
          "plot_bgcolor": "#E5ECF6",
          "polar": {
           "angularaxis": {
            "gridcolor": "white",
            "linecolor": "white",
            "ticks": ""
           },
           "bgcolor": "#E5ECF6",
           "radialaxis": {
            "gridcolor": "white",
            "linecolor": "white",
            "ticks": ""
           }
          },
          "scene": {
           "xaxis": {
            "backgroundcolor": "#E5ECF6",
            "gridcolor": "white",
            "gridwidth": 2,
            "linecolor": "white",
            "showbackground": true,
            "ticks": "",
            "zerolinecolor": "white"
           },
           "yaxis": {
            "backgroundcolor": "#E5ECF6",
            "gridcolor": "white",
            "gridwidth": 2,
            "linecolor": "white",
            "showbackground": true,
            "ticks": "",
            "zerolinecolor": "white"
           },
           "zaxis": {
            "backgroundcolor": "#E5ECF6",
            "gridcolor": "white",
            "gridwidth": 2,
            "linecolor": "white",
            "showbackground": true,
            "ticks": "",
            "zerolinecolor": "white"
           }
          },
          "shapedefaults": {
           "line": {
            "color": "#2a3f5f"
           }
          },
          "ternary": {
           "aaxis": {
            "gridcolor": "white",
            "linecolor": "white",
            "ticks": ""
           },
           "baxis": {
            "gridcolor": "white",
            "linecolor": "white",
            "ticks": ""
           },
           "bgcolor": "#E5ECF6",
           "caxis": {
            "gridcolor": "white",
            "linecolor": "white",
            "ticks": ""
           }
          },
          "title": {
           "x": 0.05
          },
          "xaxis": {
           "automargin": true,
           "gridcolor": "white",
           "linecolor": "white",
           "ticks": "",
           "title": {
            "standoff": 15
           },
           "zerolinecolor": "white",
           "zerolinewidth": 2
          },
          "yaxis": {
           "automargin": true,
           "gridcolor": "white",
           "linecolor": "white",
           "ticks": "",
           "title": {
            "standoff": 15
           },
           "zerolinecolor": "white",
           "zerolinewidth": 2
          }
         }
        },
        "title": {
         "text": "Confusion Matrix with Classification Report"
        },
        "width": 1200,
        "xaxis": {
         "anchor": "y",
         "domain": [
          0,
          0.54
         ]
        },
        "yaxis": {
         "anchor": "x",
         "domain": [
          0,
          1
         ]
        }
       }
      }
     },
     "metadata": {},
     "output_type": "display_data"
    }
   ],
   "source": [
    "# Hyperparameterized using Gamma Float\n",
    "random.seed(10)\n",
    "\n",
    "text = tweets['cleaned_text_stopwords'].values\n",
    "labels = tweets['airline_sentiment'].values\n",
    "\n",
    "text_train, text_test, labels_train, labels_test = train_test_split(text, labels, test_size=0.2, random_state=42)\n",
    "\n",
    "vectorizer = TfidfVectorizer(max_features=1000)\n",
    "X_train_tfidf = vectorizer.fit_transform(text_train)\n",
    "X_test_tfidf = vectorizer.transform(text_test)\n",
    "\n",
    "# Hyperparameter tuning using Grid Search\n",
    "param_grid = {'C': [.1, 1, 10, 100], 'kernel': ['linear', 'polynomial', 'rbf'], 'gamma': [0.1, 1, 10]}\n",
    "svm_model = SVC()\n",
    "grid_search = GridSearchCV(svm_model, param_grid, cv=3, n_jobs=1)\n",
    "grid_search.fit(X_train_tfidf, labels_train)\n",
    "\n",
    "print(\"Best Parameters:\", grid_search.best_params_)\n",
    "\n",
    "# Training on the params chosen\n",
    "best_svm_model = grid_search.best_estimator_\n",
    "best_svm_model.fit(X_train_tfidf, labels_train)\n",
    "\n",
    "y_pred = best_svm_model.predict(X_test_tfidf)\n",
    "\n",
    "accuracy = accuracy_score(labels_test, y_pred)\n",
    "print(f'Accuracy: {accuracy:.4f}')\n",
    "\n",
    "print('\\nClassification Report:')\n",
    "print(classification_report(labels_test, y_pred, digits=4))\n",
    "\n",
    "cm = confusion_matrix(labels_test, y_pred)\n",
    "plot_confusion_matrix_with_classification_report(cm, [\"Negative\", \"Neutral\", \"Positive\"], labels_test, y_pred)"
   ]
  },
  {
   "cell_type": "code",
   "execution_count": 363,
   "metadata": {},
   "outputs": [
    {
     "name": "stdout",
     "output_type": "stream",
     "text": [
      "Macro-average ROC-AUC Score with Hyperparameterized SVM: 0.8795\n"
     ]
    }
   ],
   "source": [
    "# ROC for float gamma hyperparam\n",
    "y_pred_proba_hyper = best_svm_model.decision_function(X_test_tfidf)\n",
    "\n",
    "# Binarize the true labels\n",
    "y_true_binary_hyper = label_binarize(labels_test, classes=np.unique(labels))\n",
    "\n",
    "roc_auc_scores_hyper = []\n",
    "\n",
    "for i in range(len(np.unique(labels))):\n",
    "    binary_labels_hyper = y_true_binary_hyper[:, i]\n",
    "    roc_auc_hyper = roc_auc_score(binary_labels_hyper, y_pred_proba_hyper[:, i])\n",
    "    roc_auc_scores_hyper.append(roc_auc_hyper)\n",
    "\n",
    "roc_auc_macro_hyper = np.mean(roc_auc_scores_hyper)\n",
    "\n",
    "print(f'Macro-average ROC-AUC Score with Hyperparameterized SVM: {roc_auc_macro_hyper:.4f}')\n"
   ]
  },
  {
   "cell_type": "code",
   "execution_count": 364,
   "metadata": {},
   "outputs": [
    {
     "name": "stdout",
     "output_type": "stream",
     "text": [
      "Best Parameters: {'C': 1, 'gamma': 'scale', 'kernel': 'linear'}\n",
      "Accuracy: 0.7861\n",
      "\n",
      "Classification Report:\n",
      "              precision    recall  f1-score   support\n",
      "\n",
      "    negative     0.8120    0.9263    0.8654      1791\n",
      "     neutral     0.6841    0.5142    0.5871       636\n",
      "    positive     0.7744    0.6137    0.6847       453\n",
      "\n",
      "    accuracy                         0.7861      2880\n",
      "   macro avg     0.7568    0.6847    0.7124      2880\n",
      "weighted avg     0.7779    0.7861    0.7755      2880\n",
      "\n"
     ]
    },
    {
     "data": {
      "application/vnd.plotly.v1+json": {
       "config": {
        "plotlyServerURL": "https://plot.ly"
       },
       "data": [
        {
         "colorscale": [
          [
           0,
           "#00224e"
          ],
          [
           0.1111111111111111,
           "#123570"
          ],
          [
           0.2222222222222222,
           "#3b496c"
          ],
          [
           0.3333333333333333,
           "#575d6d"
          ],
          [
           0.4444444444444444,
           "#707173"
          ],
          [
           0.5555555555555556,
           "#8a8678"
          ],
          [
           0.6666666666666666,
           "#a59c74"
          ],
          [
           0.7777777777777778,
           "#c3b369"
          ],
          [
           0.8888888888888888,
           "#e1cc55"
          ],
          [
           1,
           "#fee838"
          ]
         ],
         "showscale": true,
         "text": [
          [
           1659,
           97,
           35
          ],
          [
           263,
           327,
           46
          ],
          [
           121,
           54,
           278
          ]
         ],
         "textfont": {
          "size": 12
         },
         "texttemplate": "%{text}",
         "type": "heatmap",
         "x": [
          "Negative",
          "Neutral",
          "Positive"
         ],
         "xaxis": "x",
         "y": [
          "Negative",
          "Neutral",
          "Positive"
         ],
         "yaxis": "y",
         "z": [
          [
           1659,
           97,
           35
          ],
          [
           263,
           327,
           46
          ],
          [
           121,
           54,
           278
          ]
         ]
        },
        {
         "cells": {
          "fill": {
           "color": "rgba(0,0,0,0)"
          },
          "values": [
           [
            "Negative",
            "Neutral",
            "Positive",
            "accuracy",
            "macro avg",
            "weighted avg"
           ],
           [
            0.81,
            0.68,
            0.77,
            0.79,
            0.76,
            0.78
           ],
           [
            0.93,
            0.51,
            0.61,
            0.79,
            0.68,
            0.79
           ],
           [
            0.87,
            0.59,
            0.68,
            0.79,
            0.71,
            0.78
           ],
           [
            1791,
            636,
            453,
            0.79,
            2880,
            2880
           ]
          ]
         },
         "domain": {
          "x": [
           0.64,
           1
          ],
          "y": [
           0,
           1
          ]
         },
         "header": {
          "fill": {
           "color": "rgba(0,0,0,0)"
          },
          "values": [
           "precision",
           "recall",
           "f1-score",
           "support"
          ]
         },
         "type": "table"
        }
       ],
       "layout": {
        "annotations": [
         {
          "font": {
           "size": 16
          },
          "showarrow": false,
          "text": "Confusion Matrix",
          "x": 0.27,
          "xanchor": "center",
          "xref": "paper",
          "y": 1,
          "yanchor": "bottom",
          "yref": "paper"
         },
         {
          "font": {
           "size": 16
          },
          "showarrow": false,
          "text": "Classification Report",
          "x": 0.8200000000000001,
          "xanchor": "center",
          "xref": "paper",
          "y": 1,
          "yanchor": "bottom",
          "yref": "paper"
         },
         {
          "font": {
           "color": "rgba(247, 247, 247, 1)",
           "size": 16
          },
          "showarrow": false,
          "text": "Overall Accuracy: 78.61%",
          "x": 0.9,
          "xref": "paper",
          "y": 0.1,
          "yref": "paper"
         }
        ],
        "font": {
         "color": "rgba(247, 247, 247, 1)"
        },
        "height": 500,
        "paper_bgcolor": "rgba(0,0,0,0)",
        "template": {
         "data": {
          "bar": [
           {
            "error_x": {
             "color": "#2a3f5f"
            },
            "error_y": {
             "color": "#2a3f5f"
            },
            "marker": {
             "line": {
              "color": "#E5ECF6",
              "width": 0.5
             },
             "pattern": {
              "fillmode": "overlay",
              "size": 10,
              "solidity": 0.2
             }
            },
            "type": "bar"
           }
          ],
          "barpolar": [
           {
            "marker": {
             "line": {
              "color": "#E5ECF6",
              "width": 0.5
             },
             "pattern": {
              "fillmode": "overlay",
              "size": 10,
              "solidity": 0.2
             }
            },
            "type": "barpolar"
           }
          ],
          "carpet": [
           {
            "aaxis": {
             "endlinecolor": "#2a3f5f",
             "gridcolor": "white",
             "linecolor": "white",
             "minorgridcolor": "white",
             "startlinecolor": "#2a3f5f"
            },
            "baxis": {
             "endlinecolor": "#2a3f5f",
             "gridcolor": "white",
             "linecolor": "white",
             "minorgridcolor": "white",
             "startlinecolor": "#2a3f5f"
            },
            "type": "carpet"
           }
          ],
          "choropleth": [
           {
            "colorbar": {
             "outlinewidth": 0,
             "ticks": ""
            },
            "type": "choropleth"
           }
          ],
          "contour": [
           {
            "colorbar": {
             "outlinewidth": 0,
             "ticks": ""
            },
            "colorscale": [
             [
              0,
              "#0d0887"
             ],
             [
              0.1111111111111111,
              "#46039f"
             ],
             [
              0.2222222222222222,
              "#7201a8"
             ],
             [
              0.3333333333333333,
              "#9c179e"
             ],
             [
              0.4444444444444444,
              "#bd3786"
             ],
             [
              0.5555555555555556,
              "#d8576b"
             ],
             [
              0.6666666666666666,
              "#ed7953"
             ],
             [
              0.7777777777777778,
              "#fb9f3a"
             ],
             [
              0.8888888888888888,
              "#fdca26"
             ],
             [
              1,
              "#f0f921"
             ]
            ],
            "type": "contour"
           }
          ],
          "contourcarpet": [
           {
            "colorbar": {
             "outlinewidth": 0,
             "ticks": ""
            },
            "type": "contourcarpet"
           }
          ],
          "heatmap": [
           {
            "colorbar": {
             "outlinewidth": 0,
             "ticks": ""
            },
            "colorscale": [
             [
              0,
              "#0d0887"
             ],
             [
              0.1111111111111111,
              "#46039f"
             ],
             [
              0.2222222222222222,
              "#7201a8"
             ],
             [
              0.3333333333333333,
              "#9c179e"
             ],
             [
              0.4444444444444444,
              "#bd3786"
             ],
             [
              0.5555555555555556,
              "#d8576b"
             ],
             [
              0.6666666666666666,
              "#ed7953"
             ],
             [
              0.7777777777777778,
              "#fb9f3a"
             ],
             [
              0.8888888888888888,
              "#fdca26"
             ],
             [
              1,
              "#f0f921"
             ]
            ],
            "type": "heatmap"
           }
          ],
          "heatmapgl": [
           {
            "colorbar": {
             "outlinewidth": 0,
             "ticks": ""
            },
            "colorscale": [
             [
              0,
              "#0d0887"
             ],
             [
              0.1111111111111111,
              "#46039f"
             ],
             [
              0.2222222222222222,
              "#7201a8"
             ],
             [
              0.3333333333333333,
              "#9c179e"
             ],
             [
              0.4444444444444444,
              "#bd3786"
             ],
             [
              0.5555555555555556,
              "#d8576b"
             ],
             [
              0.6666666666666666,
              "#ed7953"
             ],
             [
              0.7777777777777778,
              "#fb9f3a"
             ],
             [
              0.8888888888888888,
              "#fdca26"
             ],
             [
              1,
              "#f0f921"
             ]
            ],
            "type": "heatmapgl"
           }
          ],
          "histogram": [
           {
            "marker": {
             "pattern": {
              "fillmode": "overlay",
              "size": 10,
              "solidity": 0.2
             }
            },
            "type": "histogram"
           }
          ],
          "histogram2d": [
           {
            "colorbar": {
             "outlinewidth": 0,
             "ticks": ""
            },
            "colorscale": [
             [
              0,
              "#0d0887"
             ],
             [
              0.1111111111111111,
              "#46039f"
             ],
             [
              0.2222222222222222,
              "#7201a8"
             ],
             [
              0.3333333333333333,
              "#9c179e"
             ],
             [
              0.4444444444444444,
              "#bd3786"
             ],
             [
              0.5555555555555556,
              "#d8576b"
             ],
             [
              0.6666666666666666,
              "#ed7953"
             ],
             [
              0.7777777777777778,
              "#fb9f3a"
             ],
             [
              0.8888888888888888,
              "#fdca26"
             ],
             [
              1,
              "#f0f921"
             ]
            ],
            "type": "histogram2d"
           }
          ],
          "histogram2dcontour": [
           {
            "colorbar": {
             "outlinewidth": 0,
             "ticks": ""
            },
            "colorscale": [
             [
              0,
              "#0d0887"
             ],
             [
              0.1111111111111111,
              "#46039f"
             ],
             [
              0.2222222222222222,
              "#7201a8"
             ],
             [
              0.3333333333333333,
              "#9c179e"
             ],
             [
              0.4444444444444444,
              "#bd3786"
             ],
             [
              0.5555555555555556,
              "#d8576b"
             ],
             [
              0.6666666666666666,
              "#ed7953"
             ],
             [
              0.7777777777777778,
              "#fb9f3a"
             ],
             [
              0.8888888888888888,
              "#fdca26"
             ],
             [
              1,
              "#f0f921"
             ]
            ],
            "type": "histogram2dcontour"
           }
          ],
          "mesh3d": [
           {
            "colorbar": {
             "outlinewidth": 0,
             "ticks": ""
            },
            "type": "mesh3d"
           }
          ],
          "parcoords": [
           {
            "line": {
             "colorbar": {
              "outlinewidth": 0,
              "ticks": ""
             }
            },
            "type": "parcoords"
           }
          ],
          "pie": [
           {
            "automargin": true,
            "type": "pie"
           }
          ],
          "scatter": [
           {
            "fillpattern": {
             "fillmode": "overlay",
             "size": 10,
             "solidity": 0.2
            },
            "type": "scatter"
           }
          ],
          "scatter3d": [
           {
            "line": {
             "colorbar": {
              "outlinewidth": 0,
              "ticks": ""
             }
            },
            "marker": {
             "colorbar": {
              "outlinewidth": 0,
              "ticks": ""
             }
            },
            "type": "scatter3d"
           }
          ],
          "scattercarpet": [
           {
            "marker": {
             "colorbar": {
              "outlinewidth": 0,
              "ticks": ""
             }
            },
            "type": "scattercarpet"
           }
          ],
          "scattergeo": [
           {
            "marker": {
             "colorbar": {
              "outlinewidth": 0,
              "ticks": ""
             }
            },
            "type": "scattergeo"
           }
          ],
          "scattergl": [
           {
            "marker": {
             "colorbar": {
              "outlinewidth": 0,
              "ticks": ""
             }
            },
            "type": "scattergl"
           }
          ],
          "scattermapbox": [
           {
            "marker": {
             "colorbar": {
              "outlinewidth": 0,
              "ticks": ""
             }
            },
            "type": "scattermapbox"
           }
          ],
          "scatterpolar": [
           {
            "marker": {
             "colorbar": {
              "outlinewidth": 0,
              "ticks": ""
             }
            },
            "type": "scatterpolar"
           }
          ],
          "scatterpolargl": [
           {
            "marker": {
             "colorbar": {
              "outlinewidth": 0,
              "ticks": ""
             }
            },
            "type": "scatterpolargl"
           }
          ],
          "scatterternary": [
           {
            "marker": {
             "colorbar": {
              "outlinewidth": 0,
              "ticks": ""
             }
            },
            "type": "scatterternary"
           }
          ],
          "surface": [
           {
            "colorbar": {
             "outlinewidth": 0,
             "ticks": ""
            },
            "colorscale": [
             [
              0,
              "#0d0887"
             ],
             [
              0.1111111111111111,
              "#46039f"
             ],
             [
              0.2222222222222222,
              "#7201a8"
             ],
             [
              0.3333333333333333,
              "#9c179e"
             ],
             [
              0.4444444444444444,
              "#bd3786"
             ],
             [
              0.5555555555555556,
              "#d8576b"
             ],
             [
              0.6666666666666666,
              "#ed7953"
             ],
             [
              0.7777777777777778,
              "#fb9f3a"
             ],
             [
              0.8888888888888888,
              "#fdca26"
             ],
             [
              1,
              "#f0f921"
             ]
            ],
            "type": "surface"
           }
          ],
          "table": [
           {
            "cells": {
             "fill": {
              "color": "#EBF0F8"
             },
             "line": {
              "color": "white"
             }
            },
            "header": {
             "fill": {
              "color": "#C8D4E3"
             },
             "line": {
              "color": "white"
             }
            },
            "type": "table"
           }
          ]
         },
         "layout": {
          "annotationdefaults": {
           "arrowcolor": "#2a3f5f",
           "arrowhead": 0,
           "arrowwidth": 1
          },
          "autotypenumbers": "strict",
          "coloraxis": {
           "colorbar": {
            "outlinewidth": 0,
            "ticks": ""
           }
          },
          "colorscale": {
           "diverging": [
            [
             0,
             "#8e0152"
            ],
            [
             0.1,
             "#c51b7d"
            ],
            [
             0.2,
             "#de77ae"
            ],
            [
             0.3,
             "#f1b6da"
            ],
            [
             0.4,
             "#fde0ef"
            ],
            [
             0.5,
             "#f7f7f7"
            ],
            [
             0.6,
             "#e6f5d0"
            ],
            [
             0.7,
             "#b8e186"
            ],
            [
             0.8,
             "#7fbc41"
            ],
            [
             0.9,
             "#4d9221"
            ],
            [
             1,
             "#276419"
            ]
           ],
           "sequential": [
            [
             0,
             "#0d0887"
            ],
            [
             0.1111111111111111,
             "#46039f"
            ],
            [
             0.2222222222222222,
             "#7201a8"
            ],
            [
             0.3333333333333333,
             "#9c179e"
            ],
            [
             0.4444444444444444,
             "#bd3786"
            ],
            [
             0.5555555555555556,
             "#d8576b"
            ],
            [
             0.6666666666666666,
             "#ed7953"
            ],
            [
             0.7777777777777778,
             "#fb9f3a"
            ],
            [
             0.8888888888888888,
             "#fdca26"
            ],
            [
             1,
             "#f0f921"
            ]
           ],
           "sequentialminus": [
            [
             0,
             "#0d0887"
            ],
            [
             0.1111111111111111,
             "#46039f"
            ],
            [
             0.2222222222222222,
             "#7201a8"
            ],
            [
             0.3333333333333333,
             "#9c179e"
            ],
            [
             0.4444444444444444,
             "#bd3786"
            ],
            [
             0.5555555555555556,
             "#d8576b"
            ],
            [
             0.6666666666666666,
             "#ed7953"
            ],
            [
             0.7777777777777778,
             "#fb9f3a"
            ],
            [
             0.8888888888888888,
             "#fdca26"
            ],
            [
             1,
             "#f0f921"
            ]
           ]
          },
          "colorway": [
           "#636efa",
           "#EF553B",
           "#00cc96",
           "#ab63fa",
           "#FFA15A",
           "#19d3f3",
           "#FF6692",
           "#B6E880",
           "#FF97FF",
           "#FECB52"
          ],
          "font": {
           "color": "#2a3f5f"
          },
          "geo": {
           "bgcolor": "white",
           "lakecolor": "white",
           "landcolor": "#E5ECF6",
           "showlakes": true,
           "showland": true,
           "subunitcolor": "white"
          },
          "hoverlabel": {
           "align": "left"
          },
          "hovermode": "closest",
          "mapbox": {
           "style": "light"
          },
          "paper_bgcolor": "white",
          "plot_bgcolor": "#E5ECF6",
          "polar": {
           "angularaxis": {
            "gridcolor": "white",
            "linecolor": "white",
            "ticks": ""
           },
           "bgcolor": "#E5ECF6",
           "radialaxis": {
            "gridcolor": "white",
            "linecolor": "white",
            "ticks": ""
           }
          },
          "scene": {
           "xaxis": {
            "backgroundcolor": "#E5ECF6",
            "gridcolor": "white",
            "gridwidth": 2,
            "linecolor": "white",
            "showbackground": true,
            "ticks": "",
            "zerolinecolor": "white"
           },
           "yaxis": {
            "backgroundcolor": "#E5ECF6",
            "gridcolor": "white",
            "gridwidth": 2,
            "linecolor": "white",
            "showbackground": true,
            "ticks": "",
            "zerolinecolor": "white"
           },
           "zaxis": {
            "backgroundcolor": "#E5ECF6",
            "gridcolor": "white",
            "gridwidth": 2,
            "linecolor": "white",
            "showbackground": true,
            "ticks": "",
            "zerolinecolor": "white"
           }
          },
          "shapedefaults": {
           "line": {
            "color": "#2a3f5f"
           }
          },
          "ternary": {
           "aaxis": {
            "gridcolor": "white",
            "linecolor": "white",
            "ticks": ""
           },
           "baxis": {
            "gridcolor": "white",
            "linecolor": "white",
            "ticks": ""
           },
           "bgcolor": "#E5ECF6",
           "caxis": {
            "gridcolor": "white",
            "linecolor": "white",
            "ticks": ""
           }
          },
          "title": {
           "x": 0.05
          },
          "xaxis": {
           "automargin": true,
           "gridcolor": "white",
           "linecolor": "white",
           "ticks": "",
           "title": {
            "standoff": 15
           },
           "zerolinecolor": "white",
           "zerolinewidth": 2
          },
          "yaxis": {
           "automargin": true,
           "gridcolor": "white",
           "linecolor": "white",
           "ticks": "",
           "title": {
            "standoff": 15
           },
           "zerolinecolor": "white",
           "zerolinewidth": 2
          }
         }
        },
        "title": {
         "text": "Confusion Matrix with Classification Report"
        },
        "width": 1200,
        "xaxis": {
         "anchor": "y",
         "domain": [
          0,
          0.54
         ]
        },
        "yaxis": {
         "anchor": "x",
         "domain": [
          0,
          1
         ]
        }
       }
      }
     },
     "metadata": {},
     "output_type": "display_data"
    }
   ],
   "source": [
    "# Hyperparameterized using gamma scale\n",
    "random.seed(10)\n",
    "\n",
    "text = tweets['cleaned_text_stopwords'].values\n",
    "labels = tweets['airline_sentiment'].values\n",
    "\n",
    "text_train, text_test, labels_train, labels_test = train_test_split(text, labels, test_size=0.2, random_state=42)\n",
    "\n",
    "vectorizer = TfidfVectorizer(max_features=1000)\n",
    "X_train_tfidf = vectorizer.fit_transform(text_train)\n",
    "X_test_tfidf = vectorizer.transform(text_test)\n",
    "\n",
    "# Hyperparameter tuning using Grid Search\n",
    "param_grid = {'C': [.1, 1, 10, 100], 'kernel': ['linear', 'rbf'], 'gamma': ['scale', 'auto']}\n",
    "svm_model = SVC()\n",
    "grid_search = GridSearchCV(svm_model, param_grid, cv=3, n_jobs=1)\n",
    "grid_search.fit(X_train_tfidf, labels_train)\n",
    "\n",
    "print(\"Best Parameters:\", grid_search.best_params_)\n",
    "\n",
    "# Training on the params chosen\n",
    "best_svm_model = grid_search.best_estimator_\n",
    "best_svm_model.fit(X_train_tfidf, labels_train)\n",
    "\n",
    "y_pred = best_svm_model.predict(X_test_tfidf)\n",
    "\n",
    "accuracy = accuracy_score(labels_test, y_pred)\n",
    "print(f'Accuracy: {accuracy:.4f}')\n",
    "\n",
    "print('\\nClassification Report:')\n",
    "print(classification_report(labels_test, y_pred, digits=4))\n",
    "\n",
    "cm = confusion_matrix(labels_test, y_pred)\n",
    "plot_confusion_matrix_with_classification_report(cm, [\"Negative\", \"Neutral\", \"Positive\"], labels_test, y_pred)"
   ]
  },
  {
   "cell_type": "code",
   "execution_count": 365,
   "metadata": {},
   "outputs": [
    {
     "name": "stdout",
     "output_type": "stream",
     "text": [
      "Macro-average ROC-AUC Score with Hyperparameterized SVM w/ Gamma Scale: 0.8795\n"
     ]
    }
   ],
   "source": [
    "# ROC for float gamma hyperparam\n",
    "y_pred_proba_hyper = best_svm_model.decision_function(X_test_tfidf)\n",
    "\n",
    "y_true_binary_hyper = label_binarize(labels_test, classes=np.unique(labels))\n",
    "\n",
    "roc_auc_scores_hyper = []\n",
    "\n",
    "for i in range(len(np.unique(labels))):\n",
    "    binary_labels_hyper = y_true_binary_hyper[:, i]\n",
    "    roc_auc_hyper = roc_auc_score(binary_labels_hyper, y_pred_proba_hyper[:, i])\n",
    "    roc_auc_scores_hyper.append(roc_auc_hyper)\n",
    "\n",
    "roc_auc_macro_hyper = np.mean(roc_auc_scores_hyper)\n",
    "\n",
    "print(f'Macro-average ROC-AUC Score with Hyperparameterized SVM w/ Gamma Scale: {roc_auc_macro_hyper:.4f}')\n"
   ]
  },
  {
   "cell_type": "code",
   "execution_count": 293,
   "metadata": {},
   "outputs": [
    {
     "name": "stdout",
     "output_type": "stream",
     "text": [
      "Best Parameters: {'C': 1, 'gamma': 'scale', 'kernel': 'linear'}\n",
      "Accuracy: 0.7861\n",
      "\n",
      "Classification Report:\n",
      "              precision    recall  f1-score   support\n",
      "\n",
      "    negative     0.8120    0.9263    0.8654      1791\n",
      "     neutral     0.6841    0.5142    0.5871       636\n",
      "    positive     0.7744    0.6137    0.6847       453\n",
      "\n",
      "    accuracy                         0.7861      2880\n",
      "   macro avg     0.7568    0.6847    0.7124      2880\n",
      "weighted avg     0.7779    0.7861    0.7755      2880\n",
      "\n"
     ]
    },
    {
     "data": {
      "application/vnd.plotly.v1+json": {
       "config": {
        "plotlyServerURL": "https://plot.ly"
       },
       "data": [
        {
         "colorscale": [
          [
           0,
           "#00224e"
          ],
          [
           0.1111111111111111,
           "#123570"
          ],
          [
           0.2222222222222222,
           "#3b496c"
          ],
          [
           0.3333333333333333,
           "#575d6d"
          ],
          [
           0.4444444444444444,
           "#707173"
          ],
          [
           0.5555555555555556,
           "#8a8678"
          ],
          [
           0.6666666666666666,
           "#a59c74"
          ],
          [
           0.7777777777777778,
           "#c3b369"
          ],
          [
           0.8888888888888888,
           "#e1cc55"
          ],
          [
           1,
           "#fee838"
          ]
         ],
         "showscale": true,
         "text": [
          [
           1659,
           97,
           35
          ],
          [
           263,
           327,
           46
          ],
          [
           121,
           54,
           278
          ]
         ],
         "textfont": {
          "size": 12
         },
         "texttemplate": "%{text}",
         "type": "heatmap",
         "x": [
          "Negative",
          "Neutral",
          "Positive"
         ],
         "xaxis": "x",
         "y": [
          "Negative",
          "Neutral",
          "Positive"
         ],
         "yaxis": "y",
         "z": [
          [
           1659,
           97,
           35
          ],
          [
           263,
           327,
           46
          ],
          [
           121,
           54,
           278
          ]
         ]
        },
        {
         "cells": {
          "fill": {
           "color": "rgba(0,0,0,0)"
          },
          "values": [
           [
            "Negative",
            "Neutral",
            "Positive",
            "accuracy",
            "macro avg",
            "weighted avg"
           ],
           [
            0.81,
            0.68,
            0.77,
            0.79,
            0.76,
            0.78
           ],
           [
            0.93,
            0.51,
            0.61,
            0.79,
            0.68,
            0.79
           ],
           [
            0.87,
            0.59,
            0.68,
            0.79,
            0.71,
            0.78
           ],
           [
            1791,
            636,
            453,
            0.79,
            2880,
            2880
           ]
          ]
         },
         "domain": {
          "x": [
           0.64,
           1
          ],
          "y": [
           0,
           1
          ]
         },
         "header": {
          "fill": {
           "color": "rgba(0,0,0,0)"
          },
          "values": [
           "precision",
           "recall",
           "f1-score",
           "support"
          ]
         },
         "type": "table"
        }
       ],
       "layout": {
        "annotations": [
         {
          "font": {
           "size": 16
          },
          "showarrow": false,
          "text": "Confusion Matrix",
          "x": 0.27,
          "xanchor": "center",
          "xref": "paper",
          "y": 1,
          "yanchor": "bottom",
          "yref": "paper"
         },
         {
          "font": {
           "size": 16
          },
          "showarrow": false,
          "text": "Classification Report",
          "x": 0.8200000000000001,
          "xanchor": "center",
          "xref": "paper",
          "y": 1,
          "yanchor": "bottom",
          "yref": "paper"
         },
         {
          "font": {
           "color": "rgba(247, 247, 247, 1)",
           "size": 16
          },
          "showarrow": false,
          "text": "Overall Accuracy: 78.61%",
          "x": 0.9,
          "xref": "paper",
          "y": 0.1,
          "yref": "paper"
         }
        ],
        "font": {
         "color": "rgba(247, 247, 247, 1)"
        },
        "height": 500,
        "paper_bgcolor": "rgba(0,0,0,0)",
        "template": {
         "data": {
          "bar": [
           {
            "error_x": {
             "color": "#2a3f5f"
            },
            "error_y": {
             "color": "#2a3f5f"
            },
            "marker": {
             "line": {
              "color": "#E5ECF6",
              "width": 0.5
             },
             "pattern": {
              "fillmode": "overlay",
              "size": 10,
              "solidity": 0.2
             }
            },
            "type": "bar"
           }
          ],
          "barpolar": [
           {
            "marker": {
             "line": {
              "color": "#E5ECF6",
              "width": 0.5
             },
             "pattern": {
              "fillmode": "overlay",
              "size": 10,
              "solidity": 0.2
             }
            },
            "type": "barpolar"
           }
          ],
          "carpet": [
           {
            "aaxis": {
             "endlinecolor": "#2a3f5f",
             "gridcolor": "white",
             "linecolor": "white",
             "minorgridcolor": "white",
             "startlinecolor": "#2a3f5f"
            },
            "baxis": {
             "endlinecolor": "#2a3f5f",
             "gridcolor": "white",
             "linecolor": "white",
             "minorgridcolor": "white",
             "startlinecolor": "#2a3f5f"
            },
            "type": "carpet"
           }
          ],
          "choropleth": [
           {
            "colorbar": {
             "outlinewidth": 0,
             "ticks": ""
            },
            "type": "choropleth"
           }
          ],
          "contour": [
           {
            "colorbar": {
             "outlinewidth": 0,
             "ticks": ""
            },
            "colorscale": [
             [
              0,
              "#0d0887"
             ],
             [
              0.1111111111111111,
              "#46039f"
             ],
             [
              0.2222222222222222,
              "#7201a8"
             ],
             [
              0.3333333333333333,
              "#9c179e"
             ],
             [
              0.4444444444444444,
              "#bd3786"
             ],
             [
              0.5555555555555556,
              "#d8576b"
             ],
             [
              0.6666666666666666,
              "#ed7953"
             ],
             [
              0.7777777777777778,
              "#fb9f3a"
             ],
             [
              0.8888888888888888,
              "#fdca26"
             ],
             [
              1,
              "#f0f921"
             ]
            ],
            "type": "contour"
           }
          ],
          "contourcarpet": [
           {
            "colorbar": {
             "outlinewidth": 0,
             "ticks": ""
            },
            "type": "contourcarpet"
           }
          ],
          "heatmap": [
           {
            "colorbar": {
             "outlinewidth": 0,
             "ticks": ""
            },
            "colorscale": [
             [
              0,
              "#0d0887"
             ],
             [
              0.1111111111111111,
              "#46039f"
             ],
             [
              0.2222222222222222,
              "#7201a8"
             ],
             [
              0.3333333333333333,
              "#9c179e"
             ],
             [
              0.4444444444444444,
              "#bd3786"
             ],
             [
              0.5555555555555556,
              "#d8576b"
             ],
             [
              0.6666666666666666,
              "#ed7953"
             ],
             [
              0.7777777777777778,
              "#fb9f3a"
             ],
             [
              0.8888888888888888,
              "#fdca26"
             ],
             [
              1,
              "#f0f921"
             ]
            ],
            "type": "heatmap"
           }
          ],
          "heatmapgl": [
           {
            "colorbar": {
             "outlinewidth": 0,
             "ticks": ""
            },
            "colorscale": [
             [
              0,
              "#0d0887"
             ],
             [
              0.1111111111111111,
              "#46039f"
             ],
             [
              0.2222222222222222,
              "#7201a8"
             ],
             [
              0.3333333333333333,
              "#9c179e"
             ],
             [
              0.4444444444444444,
              "#bd3786"
             ],
             [
              0.5555555555555556,
              "#d8576b"
             ],
             [
              0.6666666666666666,
              "#ed7953"
             ],
             [
              0.7777777777777778,
              "#fb9f3a"
             ],
             [
              0.8888888888888888,
              "#fdca26"
             ],
             [
              1,
              "#f0f921"
             ]
            ],
            "type": "heatmapgl"
           }
          ],
          "histogram": [
           {
            "marker": {
             "pattern": {
              "fillmode": "overlay",
              "size": 10,
              "solidity": 0.2
             }
            },
            "type": "histogram"
           }
          ],
          "histogram2d": [
           {
            "colorbar": {
             "outlinewidth": 0,
             "ticks": ""
            },
            "colorscale": [
             [
              0,
              "#0d0887"
             ],
             [
              0.1111111111111111,
              "#46039f"
             ],
             [
              0.2222222222222222,
              "#7201a8"
             ],
             [
              0.3333333333333333,
              "#9c179e"
             ],
             [
              0.4444444444444444,
              "#bd3786"
             ],
             [
              0.5555555555555556,
              "#d8576b"
             ],
             [
              0.6666666666666666,
              "#ed7953"
             ],
             [
              0.7777777777777778,
              "#fb9f3a"
             ],
             [
              0.8888888888888888,
              "#fdca26"
             ],
             [
              1,
              "#f0f921"
             ]
            ],
            "type": "histogram2d"
           }
          ],
          "histogram2dcontour": [
           {
            "colorbar": {
             "outlinewidth": 0,
             "ticks": ""
            },
            "colorscale": [
             [
              0,
              "#0d0887"
             ],
             [
              0.1111111111111111,
              "#46039f"
             ],
             [
              0.2222222222222222,
              "#7201a8"
             ],
             [
              0.3333333333333333,
              "#9c179e"
             ],
             [
              0.4444444444444444,
              "#bd3786"
             ],
             [
              0.5555555555555556,
              "#d8576b"
             ],
             [
              0.6666666666666666,
              "#ed7953"
             ],
             [
              0.7777777777777778,
              "#fb9f3a"
             ],
             [
              0.8888888888888888,
              "#fdca26"
             ],
             [
              1,
              "#f0f921"
             ]
            ],
            "type": "histogram2dcontour"
           }
          ],
          "mesh3d": [
           {
            "colorbar": {
             "outlinewidth": 0,
             "ticks": ""
            },
            "type": "mesh3d"
           }
          ],
          "parcoords": [
           {
            "line": {
             "colorbar": {
              "outlinewidth": 0,
              "ticks": ""
             }
            },
            "type": "parcoords"
           }
          ],
          "pie": [
           {
            "automargin": true,
            "type": "pie"
           }
          ],
          "scatter": [
           {
            "fillpattern": {
             "fillmode": "overlay",
             "size": 10,
             "solidity": 0.2
            },
            "type": "scatter"
           }
          ],
          "scatter3d": [
           {
            "line": {
             "colorbar": {
              "outlinewidth": 0,
              "ticks": ""
             }
            },
            "marker": {
             "colorbar": {
              "outlinewidth": 0,
              "ticks": ""
             }
            },
            "type": "scatter3d"
           }
          ],
          "scattercarpet": [
           {
            "marker": {
             "colorbar": {
              "outlinewidth": 0,
              "ticks": ""
             }
            },
            "type": "scattercarpet"
           }
          ],
          "scattergeo": [
           {
            "marker": {
             "colorbar": {
              "outlinewidth": 0,
              "ticks": ""
             }
            },
            "type": "scattergeo"
           }
          ],
          "scattergl": [
           {
            "marker": {
             "colorbar": {
              "outlinewidth": 0,
              "ticks": ""
             }
            },
            "type": "scattergl"
           }
          ],
          "scattermapbox": [
           {
            "marker": {
             "colorbar": {
              "outlinewidth": 0,
              "ticks": ""
             }
            },
            "type": "scattermapbox"
           }
          ],
          "scatterpolar": [
           {
            "marker": {
             "colorbar": {
              "outlinewidth": 0,
              "ticks": ""
             }
            },
            "type": "scatterpolar"
           }
          ],
          "scatterpolargl": [
           {
            "marker": {
             "colorbar": {
              "outlinewidth": 0,
              "ticks": ""
             }
            },
            "type": "scatterpolargl"
           }
          ],
          "scatterternary": [
           {
            "marker": {
             "colorbar": {
              "outlinewidth": 0,
              "ticks": ""
             }
            },
            "type": "scatterternary"
           }
          ],
          "surface": [
           {
            "colorbar": {
             "outlinewidth": 0,
             "ticks": ""
            },
            "colorscale": [
             [
              0,
              "#0d0887"
             ],
             [
              0.1111111111111111,
              "#46039f"
             ],
             [
              0.2222222222222222,
              "#7201a8"
             ],
             [
              0.3333333333333333,
              "#9c179e"
             ],
             [
              0.4444444444444444,
              "#bd3786"
             ],
             [
              0.5555555555555556,
              "#d8576b"
             ],
             [
              0.6666666666666666,
              "#ed7953"
             ],
             [
              0.7777777777777778,
              "#fb9f3a"
             ],
             [
              0.8888888888888888,
              "#fdca26"
             ],
             [
              1,
              "#f0f921"
             ]
            ],
            "type": "surface"
           }
          ],
          "table": [
           {
            "cells": {
             "fill": {
              "color": "#EBF0F8"
             },
             "line": {
              "color": "white"
             }
            },
            "header": {
             "fill": {
              "color": "#C8D4E3"
             },
             "line": {
              "color": "white"
             }
            },
            "type": "table"
           }
          ]
         },
         "layout": {
          "annotationdefaults": {
           "arrowcolor": "#2a3f5f",
           "arrowhead": 0,
           "arrowwidth": 1
          },
          "autotypenumbers": "strict",
          "coloraxis": {
           "colorbar": {
            "outlinewidth": 0,
            "ticks": ""
           }
          },
          "colorscale": {
           "diverging": [
            [
             0,
             "#8e0152"
            ],
            [
             0.1,
             "#c51b7d"
            ],
            [
             0.2,
             "#de77ae"
            ],
            [
             0.3,
             "#f1b6da"
            ],
            [
             0.4,
             "#fde0ef"
            ],
            [
             0.5,
             "#f7f7f7"
            ],
            [
             0.6,
             "#e6f5d0"
            ],
            [
             0.7,
             "#b8e186"
            ],
            [
             0.8,
             "#7fbc41"
            ],
            [
             0.9,
             "#4d9221"
            ],
            [
             1,
             "#276419"
            ]
           ],
           "sequential": [
            [
             0,
             "#0d0887"
            ],
            [
             0.1111111111111111,
             "#46039f"
            ],
            [
             0.2222222222222222,
             "#7201a8"
            ],
            [
             0.3333333333333333,
             "#9c179e"
            ],
            [
             0.4444444444444444,
             "#bd3786"
            ],
            [
             0.5555555555555556,
             "#d8576b"
            ],
            [
             0.6666666666666666,
             "#ed7953"
            ],
            [
             0.7777777777777778,
             "#fb9f3a"
            ],
            [
             0.8888888888888888,
             "#fdca26"
            ],
            [
             1,
             "#f0f921"
            ]
           ],
           "sequentialminus": [
            [
             0,
             "#0d0887"
            ],
            [
             0.1111111111111111,
             "#46039f"
            ],
            [
             0.2222222222222222,
             "#7201a8"
            ],
            [
             0.3333333333333333,
             "#9c179e"
            ],
            [
             0.4444444444444444,
             "#bd3786"
            ],
            [
             0.5555555555555556,
             "#d8576b"
            ],
            [
             0.6666666666666666,
             "#ed7953"
            ],
            [
             0.7777777777777778,
             "#fb9f3a"
            ],
            [
             0.8888888888888888,
             "#fdca26"
            ],
            [
             1,
             "#f0f921"
            ]
           ]
          },
          "colorway": [
           "#636efa",
           "#EF553B",
           "#00cc96",
           "#ab63fa",
           "#FFA15A",
           "#19d3f3",
           "#FF6692",
           "#B6E880",
           "#FF97FF",
           "#FECB52"
          ],
          "font": {
           "color": "#2a3f5f"
          },
          "geo": {
           "bgcolor": "white",
           "lakecolor": "white",
           "landcolor": "#E5ECF6",
           "showlakes": true,
           "showland": true,
           "subunitcolor": "white"
          },
          "hoverlabel": {
           "align": "left"
          },
          "hovermode": "closest",
          "mapbox": {
           "style": "light"
          },
          "paper_bgcolor": "white",
          "plot_bgcolor": "#E5ECF6",
          "polar": {
           "angularaxis": {
            "gridcolor": "white",
            "linecolor": "white",
            "ticks": ""
           },
           "bgcolor": "#E5ECF6",
           "radialaxis": {
            "gridcolor": "white",
            "linecolor": "white",
            "ticks": ""
           }
          },
          "scene": {
           "xaxis": {
            "backgroundcolor": "#E5ECF6",
            "gridcolor": "white",
            "gridwidth": 2,
            "linecolor": "white",
            "showbackground": true,
            "ticks": "",
            "zerolinecolor": "white"
           },
           "yaxis": {
            "backgroundcolor": "#E5ECF6",
            "gridcolor": "white",
            "gridwidth": 2,
            "linecolor": "white",
            "showbackground": true,
            "ticks": "",
            "zerolinecolor": "white"
           },
           "zaxis": {
            "backgroundcolor": "#E5ECF6",
            "gridcolor": "white",
            "gridwidth": 2,
            "linecolor": "white",
            "showbackground": true,
            "ticks": "",
            "zerolinecolor": "white"
           }
          },
          "shapedefaults": {
           "line": {
            "color": "#2a3f5f"
           }
          },
          "ternary": {
           "aaxis": {
            "gridcolor": "white",
            "linecolor": "white",
            "ticks": ""
           },
           "baxis": {
            "gridcolor": "white",
            "linecolor": "white",
            "ticks": ""
           },
           "bgcolor": "#E5ECF6",
           "caxis": {
            "gridcolor": "white",
            "linecolor": "white",
            "ticks": ""
           }
          },
          "title": {
           "x": 0.05
          },
          "xaxis": {
           "automargin": true,
           "gridcolor": "white",
           "linecolor": "white",
           "ticks": "",
           "title": {
            "standoff": 15
           },
           "zerolinecolor": "white",
           "zerolinewidth": 2
          },
          "yaxis": {
           "automargin": true,
           "gridcolor": "white",
           "linecolor": "white",
           "ticks": "",
           "title": {
            "standoff": 15
           },
           "zerolinecolor": "white",
           "zerolinewidth": 2
          }
         }
        },
        "title": {
         "text": "Confusion Matrix with Classification Report"
        },
        "width": 1200,
        "xaxis": {
         "anchor": "y",
         "domain": [
          0,
          0.54
         ]
        },
        "yaxis": {
         "anchor": "x",
         "domain": [
          0,
          1
         ]
        }
       }
      }
     },
     "metadata": {},
     "output_type": "display_data"
    }
   ],
   "source": [
    "# Base model | Hyperparam | Linear | KEEP\n",
    "random.seed(10)\n",
    "\n",
    "text = tweets['cleaned_text_stopwords'].values\n",
    "labels = tweets['airline_sentiment'].values\n",
    "\n",
    "text_train, text_test, labels_train, labels_test = train_test_split(text, labels, test_size=0.2, random_state=42)\n",
    "\n",
    "vectorizer = TfidfVectorizer(max_features=1000)\n",
    "X_train_tfidf = vectorizer.fit_transform(text_train)\n",
    "X_test_tfidf = vectorizer.transform(text_test)\n",
    "\n",
    "# Hyperparameter tuning using Grid Search\n",
    "param_grid = {'C': [0.1, 1, 10, 100], 'kernel': ['linear'], 'gamma': ['scale', 'auto']}\n",
    "svm_model = SVC()\n",
    "grid_search = GridSearchCV(svm_model, param_grid, cv=3, n_jobs=1)\n",
    "grid_search.fit(X_train_tfidf, labels_train)\n",
    "\n",
    "print(\"Best Parameters:\", grid_search.best_params_)\n",
    "\n",
    "# Training on the params chosen\n",
    "best_svm_model = grid_search.best_estimator_\n",
    "best_svm_model.fit(X_train_tfidf, labels_train)\n",
    "\n",
    "y_pred = best_svm_model.predict(X_test_tfidf)\n",
    "\n",
    "accuracy = accuracy_score(labels_test, y_pred)\n",
    "print(f'Accuracy: {accuracy:.4f}')\n",
    "\n",
    "print('\\nClassification Report:')\n",
    "print(classification_report(labels_test, y_pred, digits=4))\n",
    "\n",
    "cm = confusion_matrix(labels_test, y_pred)\n",
    "plot_confusion_matrix_with_classification_report(cm, [\"Negative\", \"Neutral\", \"Positive\"], labels_test, y_pred)"
   ]
  },
  {
   "cell_type": "code",
   "execution_count": 373,
   "metadata": {},
   "outputs": [
    {
     "name": "stdout",
     "output_type": "stream",
     "text": [
      "Macro-average ROC-AUC Score with Linear SVM: 0.8795\n"
     ]
    }
   ],
   "source": [
    "# ROC Hyperparam Linear\n",
    "y_pred_proba_svm = best_svm_model.decision_function(X_test_tfidf)\n",
    "\n",
    "y_true_binary_svm = label_binarize(labels_test, classes=np.unique(labels))\n",
    "\n",
    "roc_auc_scores_svm = []\n",
    "\n",
    "for i in range(len(np.unique(labels))):\n",
    "    binary_labels_svm = y_true_binary_svm[:, i]\n",
    "    roc_auc_svm = roc_auc_score(binary_labels_svm, y_pred_proba_svm[:, i])\n",
    "    roc_auc_scores_svm.append(roc_auc_svm)\n",
    "\n",
    "roc_auc_macro_svm = np.mean(roc_auc_scores_svm)\n",
    "\n",
    "print(f'Macro-average ROC-AUC Score with Linear SVM: {roc_auc_macro_svm:.4f}')\n"
   ]
  },
  {
   "cell_type": "code",
   "execution_count": 374,
   "metadata": {},
   "outputs": [
    {
     "name": "stdout",
     "output_type": "stream",
     "text": [
      "Accuracy: 0.7892\n",
      "\n",
      "Classification Report:\n",
      "              precision    recall  f1-score   support\n",
      "\n",
      "    negative     0.7963    0.9492    0.8660      1791\n",
      "     neutral     0.7153    0.4780    0.5730       636\n",
      "    positive     0.8406    0.5938    0.6960       453\n",
      "\n",
      "    accuracy                         0.7892      2880\n",
      "   macro avg     0.7841    0.6737    0.7117      2880\n",
      "weighted avg     0.7854    0.7892    0.7746      2880\n",
      "\n"
     ]
    },
    {
     "data": {
      "application/vnd.plotly.v1+json": {
       "config": {
        "plotlyServerURL": "https://plot.ly"
       },
       "data": [
        {
         "colorscale": [
          [
           0,
           "#00224e"
          ],
          [
           0.1111111111111111,
           "#123570"
          ],
          [
           0.2222222222222222,
           "#3b496c"
          ],
          [
           0.3333333333333333,
           "#575d6d"
          ],
          [
           0.4444444444444444,
           "#707173"
          ],
          [
           0.5555555555555556,
           "#8a8678"
          ],
          [
           0.6666666666666666,
           "#a59c74"
          ],
          [
           0.7777777777777778,
           "#c3b369"
          ],
          [
           0.8888888888888888,
           "#e1cc55"
          ],
          [
           1,
           "#fee838"
          ]
         ],
         "showscale": true,
         "text": [
          [
           1700,
           70,
           21
          ],
          [
           302,
           304,
           30
          ],
          [
           133,
           51,
           269
          ]
         ],
         "textfont": {
          "size": 12
         },
         "texttemplate": "%{text}",
         "type": "heatmap",
         "x": [
          "Negative",
          "Neutral",
          "Positive"
         ],
         "xaxis": "x",
         "y": [
          "Negative",
          "Neutral",
          "Positive"
         ],
         "yaxis": "y",
         "z": [
          [
           1700,
           70,
           21
          ],
          [
           302,
           304,
           30
          ],
          [
           133,
           51,
           269
          ]
         ]
        },
        {
         "cells": {
          "fill": {
           "color": "rgba(0,0,0,0)"
          },
          "values": [
           [
            "Negative",
            "Neutral",
            "Positive",
            "accuracy",
            "macro avg",
            "weighted avg"
           ],
           [
            0.8,
            0.72,
            0.84,
            0.79,
            0.78,
            0.79
           ],
           [
            0.95,
            0.48,
            0.59,
            0.79,
            0.67,
            0.79
           ],
           [
            0.87,
            0.57,
            0.7,
            0.79,
            0.71,
            0.77
           ],
           [
            1791,
            636,
            453,
            0.79,
            2880,
            2880
           ]
          ]
         },
         "domain": {
          "x": [
           0.64,
           1
          ],
          "y": [
           0,
           1
          ]
         },
         "header": {
          "fill": {
           "color": "rgba(0,0,0,0)"
          },
          "values": [
           "precision",
           "recall",
           "f1-score",
           "support"
          ]
         },
         "type": "table"
        }
       ],
       "layout": {
        "annotations": [
         {
          "font": {
           "size": 16
          },
          "showarrow": false,
          "text": "Confusion Matrix",
          "x": 0.27,
          "xanchor": "center",
          "xref": "paper",
          "y": 1,
          "yanchor": "bottom",
          "yref": "paper"
         },
         {
          "font": {
           "size": 16
          },
          "showarrow": false,
          "text": "Classification Report",
          "x": 0.8200000000000001,
          "xanchor": "center",
          "xref": "paper",
          "y": 1,
          "yanchor": "bottom",
          "yref": "paper"
         },
         {
          "font": {
           "color": "rgba(247, 247, 247, 1)",
           "size": 16
          },
          "showarrow": false,
          "text": "Overall Accuracy: 78.92%",
          "x": 0.9,
          "xref": "paper",
          "y": 0.1,
          "yref": "paper"
         }
        ],
        "font": {
         "color": "rgba(247, 247, 247, 1)"
        },
        "height": 500,
        "paper_bgcolor": "rgba(0,0,0,0)",
        "template": {
         "data": {
          "bar": [
           {
            "error_x": {
             "color": "#2a3f5f"
            },
            "error_y": {
             "color": "#2a3f5f"
            },
            "marker": {
             "line": {
              "color": "#E5ECF6",
              "width": 0.5
             },
             "pattern": {
              "fillmode": "overlay",
              "size": 10,
              "solidity": 0.2
             }
            },
            "type": "bar"
           }
          ],
          "barpolar": [
           {
            "marker": {
             "line": {
              "color": "#E5ECF6",
              "width": 0.5
             },
             "pattern": {
              "fillmode": "overlay",
              "size": 10,
              "solidity": 0.2
             }
            },
            "type": "barpolar"
           }
          ],
          "carpet": [
           {
            "aaxis": {
             "endlinecolor": "#2a3f5f",
             "gridcolor": "white",
             "linecolor": "white",
             "minorgridcolor": "white",
             "startlinecolor": "#2a3f5f"
            },
            "baxis": {
             "endlinecolor": "#2a3f5f",
             "gridcolor": "white",
             "linecolor": "white",
             "minorgridcolor": "white",
             "startlinecolor": "#2a3f5f"
            },
            "type": "carpet"
           }
          ],
          "choropleth": [
           {
            "colorbar": {
             "outlinewidth": 0,
             "ticks": ""
            },
            "type": "choropleth"
           }
          ],
          "contour": [
           {
            "colorbar": {
             "outlinewidth": 0,
             "ticks": ""
            },
            "colorscale": [
             [
              0,
              "#0d0887"
             ],
             [
              0.1111111111111111,
              "#46039f"
             ],
             [
              0.2222222222222222,
              "#7201a8"
             ],
             [
              0.3333333333333333,
              "#9c179e"
             ],
             [
              0.4444444444444444,
              "#bd3786"
             ],
             [
              0.5555555555555556,
              "#d8576b"
             ],
             [
              0.6666666666666666,
              "#ed7953"
             ],
             [
              0.7777777777777778,
              "#fb9f3a"
             ],
             [
              0.8888888888888888,
              "#fdca26"
             ],
             [
              1,
              "#f0f921"
             ]
            ],
            "type": "contour"
           }
          ],
          "contourcarpet": [
           {
            "colorbar": {
             "outlinewidth": 0,
             "ticks": ""
            },
            "type": "contourcarpet"
           }
          ],
          "heatmap": [
           {
            "colorbar": {
             "outlinewidth": 0,
             "ticks": ""
            },
            "colorscale": [
             [
              0,
              "#0d0887"
             ],
             [
              0.1111111111111111,
              "#46039f"
             ],
             [
              0.2222222222222222,
              "#7201a8"
             ],
             [
              0.3333333333333333,
              "#9c179e"
             ],
             [
              0.4444444444444444,
              "#bd3786"
             ],
             [
              0.5555555555555556,
              "#d8576b"
             ],
             [
              0.6666666666666666,
              "#ed7953"
             ],
             [
              0.7777777777777778,
              "#fb9f3a"
             ],
             [
              0.8888888888888888,
              "#fdca26"
             ],
             [
              1,
              "#f0f921"
             ]
            ],
            "type": "heatmap"
           }
          ],
          "heatmapgl": [
           {
            "colorbar": {
             "outlinewidth": 0,
             "ticks": ""
            },
            "colorscale": [
             [
              0,
              "#0d0887"
             ],
             [
              0.1111111111111111,
              "#46039f"
             ],
             [
              0.2222222222222222,
              "#7201a8"
             ],
             [
              0.3333333333333333,
              "#9c179e"
             ],
             [
              0.4444444444444444,
              "#bd3786"
             ],
             [
              0.5555555555555556,
              "#d8576b"
             ],
             [
              0.6666666666666666,
              "#ed7953"
             ],
             [
              0.7777777777777778,
              "#fb9f3a"
             ],
             [
              0.8888888888888888,
              "#fdca26"
             ],
             [
              1,
              "#f0f921"
             ]
            ],
            "type": "heatmapgl"
           }
          ],
          "histogram": [
           {
            "marker": {
             "pattern": {
              "fillmode": "overlay",
              "size": 10,
              "solidity": 0.2
             }
            },
            "type": "histogram"
           }
          ],
          "histogram2d": [
           {
            "colorbar": {
             "outlinewidth": 0,
             "ticks": ""
            },
            "colorscale": [
             [
              0,
              "#0d0887"
             ],
             [
              0.1111111111111111,
              "#46039f"
             ],
             [
              0.2222222222222222,
              "#7201a8"
             ],
             [
              0.3333333333333333,
              "#9c179e"
             ],
             [
              0.4444444444444444,
              "#bd3786"
             ],
             [
              0.5555555555555556,
              "#d8576b"
             ],
             [
              0.6666666666666666,
              "#ed7953"
             ],
             [
              0.7777777777777778,
              "#fb9f3a"
             ],
             [
              0.8888888888888888,
              "#fdca26"
             ],
             [
              1,
              "#f0f921"
             ]
            ],
            "type": "histogram2d"
           }
          ],
          "histogram2dcontour": [
           {
            "colorbar": {
             "outlinewidth": 0,
             "ticks": ""
            },
            "colorscale": [
             [
              0,
              "#0d0887"
             ],
             [
              0.1111111111111111,
              "#46039f"
             ],
             [
              0.2222222222222222,
              "#7201a8"
             ],
             [
              0.3333333333333333,
              "#9c179e"
             ],
             [
              0.4444444444444444,
              "#bd3786"
             ],
             [
              0.5555555555555556,
              "#d8576b"
             ],
             [
              0.6666666666666666,
              "#ed7953"
             ],
             [
              0.7777777777777778,
              "#fb9f3a"
             ],
             [
              0.8888888888888888,
              "#fdca26"
             ],
             [
              1,
              "#f0f921"
             ]
            ],
            "type": "histogram2dcontour"
           }
          ],
          "mesh3d": [
           {
            "colorbar": {
             "outlinewidth": 0,
             "ticks": ""
            },
            "type": "mesh3d"
           }
          ],
          "parcoords": [
           {
            "line": {
             "colorbar": {
              "outlinewidth": 0,
              "ticks": ""
             }
            },
            "type": "parcoords"
           }
          ],
          "pie": [
           {
            "automargin": true,
            "type": "pie"
           }
          ],
          "scatter": [
           {
            "fillpattern": {
             "fillmode": "overlay",
             "size": 10,
             "solidity": 0.2
            },
            "type": "scatter"
           }
          ],
          "scatter3d": [
           {
            "line": {
             "colorbar": {
              "outlinewidth": 0,
              "ticks": ""
             }
            },
            "marker": {
             "colorbar": {
              "outlinewidth": 0,
              "ticks": ""
             }
            },
            "type": "scatter3d"
           }
          ],
          "scattercarpet": [
           {
            "marker": {
             "colorbar": {
              "outlinewidth": 0,
              "ticks": ""
             }
            },
            "type": "scattercarpet"
           }
          ],
          "scattergeo": [
           {
            "marker": {
             "colorbar": {
              "outlinewidth": 0,
              "ticks": ""
             }
            },
            "type": "scattergeo"
           }
          ],
          "scattergl": [
           {
            "marker": {
             "colorbar": {
              "outlinewidth": 0,
              "ticks": ""
             }
            },
            "type": "scattergl"
           }
          ],
          "scattermapbox": [
           {
            "marker": {
             "colorbar": {
              "outlinewidth": 0,
              "ticks": ""
             }
            },
            "type": "scattermapbox"
           }
          ],
          "scatterpolar": [
           {
            "marker": {
             "colorbar": {
              "outlinewidth": 0,
              "ticks": ""
             }
            },
            "type": "scatterpolar"
           }
          ],
          "scatterpolargl": [
           {
            "marker": {
             "colorbar": {
              "outlinewidth": 0,
              "ticks": ""
             }
            },
            "type": "scatterpolargl"
           }
          ],
          "scatterternary": [
           {
            "marker": {
             "colorbar": {
              "outlinewidth": 0,
              "ticks": ""
             }
            },
            "type": "scatterternary"
           }
          ],
          "surface": [
           {
            "colorbar": {
             "outlinewidth": 0,
             "ticks": ""
            },
            "colorscale": [
             [
              0,
              "#0d0887"
             ],
             [
              0.1111111111111111,
              "#46039f"
             ],
             [
              0.2222222222222222,
              "#7201a8"
             ],
             [
              0.3333333333333333,
              "#9c179e"
             ],
             [
              0.4444444444444444,
              "#bd3786"
             ],
             [
              0.5555555555555556,
              "#d8576b"
             ],
             [
              0.6666666666666666,
              "#ed7953"
             ],
             [
              0.7777777777777778,
              "#fb9f3a"
             ],
             [
              0.8888888888888888,
              "#fdca26"
             ],
             [
              1,
              "#f0f921"
             ]
            ],
            "type": "surface"
           }
          ],
          "table": [
           {
            "cells": {
             "fill": {
              "color": "#EBF0F8"
             },
             "line": {
              "color": "white"
             }
            },
            "header": {
             "fill": {
              "color": "#C8D4E3"
             },
             "line": {
              "color": "white"
             }
            },
            "type": "table"
           }
          ]
         },
         "layout": {
          "annotationdefaults": {
           "arrowcolor": "#2a3f5f",
           "arrowhead": 0,
           "arrowwidth": 1
          },
          "autotypenumbers": "strict",
          "coloraxis": {
           "colorbar": {
            "outlinewidth": 0,
            "ticks": ""
           }
          },
          "colorscale": {
           "diverging": [
            [
             0,
             "#8e0152"
            ],
            [
             0.1,
             "#c51b7d"
            ],
            [
             0.2,
             "#de77ae"
            ],
            [
             0.3,
             "#f1b6da"
            ],
            [
             0.4,
             "#fde0ef"
            ],
            [
             0.5,
             "#f7f7f7"
            ],
            [
             0.6,
             "#e6f5d0"
            ],
            [
             0.7,
             "#b8e186"
            ],
            [
             0.8,
             "#7fbc41"
            ],
            [
             0.9,
             "#4d9221"
            ],
            [
             1,
             "#276419"
            ]
           ],
           "sequential": [
            [
             0,
             "#0d0887"
            ],
            [
             0.1111111111111111,
             "#46039f"
            ],
            [
             0.2222222222222222,
             "#7201a8"
            ],
            [
             0.3333333333333333,
             "#9c179e"
            ],
            [
             0.4444444444444444,
             "#bd3786"
            ],
            [
             0.5555555555555556,
             "#d8576b"
            ],
            [
             0.6666666666666666,
             "#ed7953"
            ],
            [
             0.7777777777777778,
             "#fb9f3a"
            ],
            [
             0.8888888888888888,
             "#fdca26"
            ],
            [
             1,
             "#f0f921"
            ]
           ],
           "sequentialminus": [
            [
             0,
             "#0d0887"
            ],
            [
             0.1111111111111111,
             "#46039f"
            ],
            [
             0.2222222222222222,
             "#7201a8"
            ],
            [
             0.3333333333333333,
             "#9c179e"
            ],
            [
             0.4444444444444444,
             "#bd3786"
            ],
            [
             0.5555555555555556,
             "#d8576b"
            ],
            [
             0.6666666666666666,
             "#ed7953"
            ],
            [
             0.7777777777777778,
             "#fb9f3a"
            ],
            [
             0.8888888888888888,
             "#fdca26"
            ],
            [
             1,
             "#f0f921"
            ]
           ]
          },
          "colorway": [
           "#636efa",
           "#EF553B",
           "#00cc96",
           "#ab63fa",
           "#FFA15A",
           "#19d3f3",
           "#FF6692",
           "#B6E880",
           "#FF97FF",
           "#FECB52"
          ],
          "font": {
           "color": "#2a3f5f"
          },
          "geo": {
           "bgcolor": "white",
           "lakecolor": "white",
           "landcolor": "#E5ECF6",
           "showlakes": true,
           "showland": true,
           "subunitcolor": "white"
          },
          "hoverlabel": {
           "align": "left"
          },
          "hovermode": "closest",
          "mapbox": {
           "style": "light"
          },
          "paper_bgcolor": "white",
          "plot_bgcolor": "#E5ECF6",
          "polar": {
           "angularaxis": {
            "gridcolor": "white",
            "linecolor": "white",
            "ticks": ""
           },
           "bgcolor": "#E5ECF6",
           "radialaxis": {
            "gridcolor": "white",
            "linecolor": "white",
            "ticks": ""
           }
          },
          "scene": {
           "xaxis": {
            "backgroundcolor": "#E5ECF6",
            "gridcolor": "white",
            "gridwidth": 2,
            "linecolor": "white",
            "showbackground": true,
            "ticks": "",
            "zerolinecolor": "white"
           },
           "yaxis": {
            "backgroundcolor": "#E5ECF6",
            "gridcolor": "white",
            "gridwidth": 2,
            "linecolor": "white",
            "showbackground": true,
            "ticks": "",
            "zerolinecolor": "white"
           },
           "zaxis": {
            "backgroundcolor": "#E5ECF6",
            "gridcolor": "white",
            "gridwidth": 2,
            "linecolor": "white",
            "showbackground": true,
            "ticks": "",
            "zerolinecolor": "white"
           }
          },
          "shapedefaults": {
           "line": {
            "color": "#2a3f5f"
           }
          },
          "ternary": {
           "aaxis": {
            "gridcolor": "white",
            "linecolor": "white",
            "ticks": ""
           },
           "baxis": {
            "gridcolor": "white",
            "linecolor": "white",
            "ticks": ""
           },
           "bgcolor": "#E5ECF6",
           "caxis": {
            "gridcolor": "white",
            "linecolor": "white",
            "ticks": ""
           }
          },
          "title": {
           "x": 0.05
          },
          "xaxis": {
           "automargin": true,
           "gridcolor": "white",
           "linecolor": "white",
           "ticks": "",
           "title": {
            "standoff": 15
           },
           "zerolinecolor": "white",
           "zerolinewidth": 2
          },
          "yaxis": {
           "automargin": true,
           "gridcolor": "white",
           "linecolor": "white",
           "ticks": "",
           "title": {
            "standoff": 15
           },
           "zerolinecolor": "white",
           "zerolinewidth": 2
          }
         }
        },
        "title": {
         "text": "Confusion Matrix with Classification Report"
        },
        "width": 1200,
        "xaxis": {
         "anchor": "y",
         "domain": [
          0,
          0.54
         ]
        },
        "yaxis": {
         "anchor": "x",
         "domain": [
          0,
          1
         ]
        }
       }
      }
     },
     "metadata": {},
     "output_type": "display_data"
    }
   ],
   "source": [
    "# Base | RBF\n",
    "random.seed(10)\n",
    "\n",
    "text = tweets['cleaned_text_stopwords'].values\n",
    "labels = tweets['airline_sentiment'].values\n",
    "\n",
    "# Split the data into training and testing sets\n",
    "text_train, text_test, labels_train, labels_test = train_test_split(text, labels, test_size=0.2, random_state=42)\n",
    "\n",
    "# TF-IDF Vectorization\n",
    "vectorizer = TfidfVectorizer(max_features=1000)\n",
    "X_train_tfidf = vectorizer.fit_transform(text_train)\n",
    "X_test_tfidf = vectorizer.transform(text_test)\n",
    "\n",
    "# SVM Model without hyperparameter tuning\n",
    "svm_model = SVC()  # Default parameters are used here\n",
    "param_grid = {'C': [0.1, 1, 10, 100], 'kernel': ['rbf'], 'gamma': ['scale']}\n",
    "grid_search = GridSearchCV(svm_model, param_grid, cv=3, n_jobs=1)\n",
    "\n",
    "# Training the SVM model\n",
    "svm_model.fit(X_train_tfidf, labels_train)\n",
    "\n",
    "# Making predictions\n",
    "y_pred = svm_model.predict(X_test_tfidf)\n",
    "\n",
    "# Model evaluation\n",
    "accuracy = accuracy_score(labels_test, y_pred)\n",
    "print(f'Accuracy: {accuracy:.4f}')\n",
    "\n",
    "# Classification Report\n",
    "print('\\nClassification Report:')\n",
    "print(classification_report(labels_test, y_pred, digits=4))\n",
    "\n",
    "cm = confusion_matrix(labels_test, y_pred)\n",
    "plot_confusion_matrix_with_classification_report(cm, [\"Negative\", \"Neutral\", \"Positive\"], labels_test, y_pred)"
   ]
  },
  {
   "cell_type": "code",
   "execution_count": 375,
   "metadata": {},
   "outputs": [
    {
     "name": "stdout",
     "output_type": "stream",
     "text": [
      "Macro-average ROC-AUC Score with RBF SVM: 0.8832\n"
     ]
    }
   ],
   "source": [
    "# ROC Hyperparam for RBF\n",
    "y_pred_proba_rbf = svm_model.decision_function(X_test_tfidf)\n",
    "\n",
    "y_true_binary_rbf = label_binarize(labels_test, classes=np.unique(labels))\n",
    "\n",
    "roc_auc_scores_rbf = []\n",
    "\n",
    "for i in range(len(np.unique(labels))):\n",
    "    binary_labels_rbf = y_true_binary_rbf[:, i]\n",
    "    roc_auc_rbf = roc_auc_score(binary_labels_rbf, y_pred_proba_rbf[:, i])\n",
    "    roc_auc_scores_rbf.append(roc_auc_rbf)\n",
    "\n",
    "roc_auc_macro_rbf = np.mean(roc_auc_scores_rbf)\n",
    "\n",
    "print(f'Macro-average ROC-AUC Score with RBF SVM: {roc_auc_macro_rbf:.4f}')\n"
   ]
  },
  {
   "cell_type": "code",
   "execution_count": 379,
   "metadata": {},
   "outputs": [
    {
     "name": "stdout",
     "output_type": "stream",
     "text": [
      "Best Parameters: {'C': 1, 'degree': 2, 'gamma': 'scale', 'kernel': 'poly'}\n",
      "Accuracy: 0.78\n",
      "\n",
      "Classification Report:\n",
      "              precision    recall  f1-score   support\n",
      "\n",
      "    negative       0.79      0.96      0.86      1791\n",
      "     neutral       0.72      0.46      0.56       636\n",
      "    positive       0.84      0.56      0.67       453\n",
      "\n",
      "    accuracy                           0.78      2880\n",
      "   macro avg       0.78      0.66      0.70      2880\n",
      "weighted avg       0.78      0.78      0.77      2880\n",
      "\n"
     ]
    },
    {
     "data": {
      "application/vnd.plotly.v1+json": {
       "config": {
        "plotlyServerURL": "https://plot.ly"
       },
       "data": [
        {
         "colorscale": [
          [
           0,
           "#00224e"
          ],
          [
           0.1111111111111111,
           "#123570"
          ],
          [
           0.2222222222222222,
           "#3b496c"
          ],
          [
           0.3333333333333333,
           "#575d6d"
          ],
          [
           0.4444444444444444,
           "#707173"
          ],
          [
           0.5555555555555556,
           "#8a8678"
          ],
          [
           0.6666666666666666,
           "#a59c74"
          ],
          [
           0.7777777777777778,
           "#c3b369"
          ],
          [
           0.8888888888888888,
           "#e1cc55"
          ],
          [
           1,
           "#fee838"
          ]
         ],
         "showscale": true,
         "text": [
          [
           1712,
           60,
           19
          ],
          [
           316,
           290,
           30
          ],
          [
           148,
           50,
           255
          ]
         ],
         "textfont": {
          "size": 12
         },
         "texttemplate": "%{text}",
         "type": "heatmap",
         "x": [
          "Negative",
          "Neutral",
          "Positive"
         ],
         "xaxis": "x",
         "y": [
          "Negative",
          "Neutral",
          "Positive"
         ],
         "yaxis": "y",
         "z": [
          [
           1712,
           60,
           19
          ],
          [
           316,
           290,
           30
          ],
          [
           148,
           50,
           255
          ]
         ]
        },
        {
         "cells": {
          "fill": {
           "color": "rgba(0,0,0,0)"
          },
          "values": [
           [
            "Negative",
            "Neutral",
            "Positive",
            "accuracy",
            "macro avg",
            "weighted avg"
           ],
           [
            0.79,
            0.72,
            0.84,
            0.78,
            0.78,
            0.78
           ],
           [
            0.96,
            0.46,
            0.56,
            0.78,
            0.66,
            0.78
           ],
           [
            0.86,
            0.56,
            0.67,
            0.78,
            0.7,
            0.77
           ],
           [
            1791,
            636,
            453,
            0.78,
            2880,
            2880
           ]
          ]
         },
         "domain": {
          "x": [
           0.64,
           1
          ],
          "y": [
           0,
           1
          ]
         },
         "header": {
          "fill": {
           "color": "rgba(0,0,0,0)"
          },
          "values": [
           "precision",
           "recall",
           "f1-score",
           "support"
          ]
         },
         "type": "table"
        }
       ],
       "layout": {
        "annotations": [
         {
          "font": {
           "size": 16
          },
          "showarrow": false,
          "text": "Confusion Matrix",
          "x": 0.27,
          "xanchor": "center",
          "xref": "paper",
          "y": 1,
          "yanchor": "bottom",
          "yref": "paper"
         },
         {
          "font": {
           "size": 16
          },
          "showarrow": false,
          "text": "Classification Report",
          "x": 0.8200000000000001,
          "xanchor": "center",
          "xref": "paper",
          "y": 1,
          "yanchor": "bottom",
          "yref": "paper"
         },
         {
          "font": {
           "color": "rgba(247, 247, 247, 1)",
           "size": 16
          },
          "showarrow": false,
          "text": "Overall Accuracy: 78.37%",
          "x": 0.9,
          "xref": "paper",
          "y": 0.1,
          "yref": "paper"
         }
        ],
        "font": {
         "color": "rgba(247, 247, 247, 1)"
        },
        "height": 500,
        "paper_bgcolor": "rgba(0,0,0,0)",
        "template": {
         "data": {
          "bar": [
           {
            "error_x": {
             "color": "#2a3f5f"
            },
            "error_y": {
             "color": "#2a3f5f"
            },
            "marker": {
             "line": {
              "color": "#E5ECF6",
              "width": 0.5
             },
             "pattern": {
              "fillmode": "overlay",
              "size": 10,
              "solidity": 0.2
             }
            },
            "type": "bar"
           }
          ],
          "barpolar": [
           {
            "marker": {
             "line": {
              "color": "#E5ECF6",
              "width": 0.5
             },
             "pattern": {
              "fillmode": "overlay",
              "size": 10,
              "solidity": 0.2
             }
            },
            "type": "barpolar"
           }
          ],
          "carpet": [
           {
            "aaxis": {
             "endlinecolor": "#2a3f5f",
             "gridcolor": "white",
             "linecolor": "white",
             "minorgridcolor": "white",
             "startlinecolor": "#2a3f5f"
            },
            "baxis": {
             "endlinecolor": "#2a3f5f",
             "gridcolor": "white",
             "linecolor": "white",
             "minorgridcolor": "white",
             "startlinecolor": "#2a3f5f"
            },
            "type": "carpet"
           }
          ],
          "choropleth": [
           {
            "colorbar": {
             "outlinewidth": 0,
             "ticks": ""
            },
            "type": "choropleth"
           }
          ],
          "contour": [
           {
            "colorbar": {
             "outlinewidth": 0,
             "ticks": ""
            },
            "colorscale": [
             [
              0,
              "#0d0887"
             ],
             [
              0.1111111111111111,
              "#46039f"
             ],
             [
              0.2222222222222222,
              "#7201a8"
             ],
             [
              0.3333333333333333,
              "#9c179e"
             ],
             [
              0.4444444444444444,
              "#bd3786"
             ],
             [
              0.5555555555555556,
              "#d8576b"
             ],
             [
              0.6666666666666666,
              "#ed7953"
             ],
             [
              0.7777777777777778,
              "#fb9f3a"
             ],
             [
              0.8888888888888888,
              "#fdca26"
             ],
             [
              1,
              "#f0f921"
             ]
            ],
            "type": "contour"
           }
          ],
          "contourcarpet": [
           {
            "colorbar": {
             "outlinewidth": 0,
             "ticks": ""
            },
            "type": "contourcarpet"
           }
          ],
          "heatmap": [
           {
            "colorbar": {
             "outlinewidth": 0,
             "ticks": ""
            },
            "colorscale": [
             [
              0,
              "#0d0887"
             ],
             [
              0.1111111111111111,
              "#46039f"
             ],
             [
              0.2222222222222222,
              "#7201a8"
             ],
             [
              0.3333333333333333,
              "#9c179e"
             ],
             [
              0.4444444444444444,
              "#bd3786"
             ],
             [
              0.5555555555555556,
              "#d8576b"
             ],
             [
              0.6666666666666666,
              "#ed7953"
             ],
             [
              0.7777777777777778,
              "#fb9f3a"
             ],
             [
              0.8888888888888888,
              "#fdca26"
             ],
             [
              1,
              "#f0f921"
             ]
            ],
            "type": "heatmap"
           }
          ],
          "heatmapgl": [
           {
            "colorbar": {
             "outlinewidth": 0,
             "ticks": ""
            },
            "colorscale": [
             [
              0,
              "#0d0887"
             ],
             [
              0.1111111111111111,
              "#46039f"
             ],
             [
              0.2222222222222222,
              "#7201a8"
             ],
             [
              0.3333333333333333,
              "#9c179e"
             ],
             [
              0.4444444444444444,
              "#bd3786"
             ],
             [
              0.5555555555555556,
              "#d8576b"
             ],
             [
              0.6666666666666666,
              "#ed7953"
             ],
             [
              0.7777777777777778,
              "#fb9f3a"
             ],
             [
              0.8888888888888888,
              "#fdca26"
             ],
             [
              1,
              "#f0f921"
             ]
            ],
            "type": "heatmapgl"
           }
          ],
          "histogram": [
           {
            "marker": {
             "pattern": {
              "fillmode": "overlay",
              "size": 10,
              "solidity": 0.2
             }
            },
            "type": "histogram"
           }
          ],
          "histogram2d": [
           {
            "colorbar": {
             "outlinewidth": 0,
             "ticks": ""
            },
            "colorscale": [
             [
              0,
              "#0d0887"
             ],
             [
              0.1111111111111111,
              "#46039f"
             ],
             [
              0.2222222222222222,
              "#7201a8"
             ],
             [
              0.3333333333333333,
              "#9c179e"
             ],
             [
              0.4444444444444444,
              "#bd3786"
             ],
             [
              0.5555555555555556,
              "#d8576b"
             ],
             [
              0.6666666666666666,
              "#ed7953"
             ],
             [
              0.7777777777777778,
              "#fb9f3a"
             ],
             [
              0.8888888888888888,
              "#fdca26"
             ],
             [
              1,
              "#f0f921"
             ]
            ],
            "type": "histogram2d"
           }
          ],
          "histogram2dcontour": [
           {
            "colorbar": {
             "outlinewidth": 0,
             "ticks": ""
            },
            "colorscale": [
             [
              0,
              "#0d0887"
             ],
             [
              0.1111111111111111,
              "#46039f"
             ],
             [
              0.2222222222222222,
              "#7201a8"
             ],
             [
              0.3333333333333333,
              "#9c179e"
             ],
             [
              0.4444444444444444,
              "#bd3786"
             ],
             [
              0.5555555555555556,
              "#d8576b"
             ],
             [
              0.6666666666666666,
              "#ed7953"
             ],
             [
              0.7777777777777778,
              "#fb9f3a"
             ],
             [
              0.8888888888888888,
              "#fdca26"
             ],
             [
              1,
              "#f0f921"
             ]
            ],
            "type": "histogram2dcontour"
           }
          ],
          "mesh3d": [
           {
            "colorbar": {
             "outlinewidth": 0,
             "ticks": ""
            },
            "type": "mesh3d"
           }
          ],
          "parcoords": [
           {
            "line": {
             "colorbar": {
              "outlinewidth": 0,
              "ticks": ""
             }
            },
            "type": "parcoords"
           }
          ],
          "pie": [
           {
            "automargin": true,
            "type": "pie"
           }
          ],
          "scatter": [
           {
            "fillpattern": {
             "fillmode": "overlay",
             "size": 10,
             "solidity": 0.2
            },
            "type": "scatter"
           }
          ],
          "scatter3d": [
           {
            "line": {
             "colorbar": {
              "outlinewidth": 0,
              "ticks": ""
             }
            },
            "marker": {
             "colorbar": {
              "outlinewidth": 0,
              "ticks": ""
             }
            },
            "type": "scatter3d"
           }
          ],
          "scattercarpet": [
           {
            "marker": {
             "colorbar": {
              "outlinewidth": 0,
              "ticks": ""
             }
            },
            "type": "scattercarpet"
           }
          ],
          "scattergeo": [
           {
            "marker": {
             "colorbar": {
              "outlinewidth": 0,
              "ticks": ""
             }
            },
            "type": "scattergeo"
           }
          ],
          "scattergl": [
           {
            "marker": {
             "colorbar": {
              "outlinewidth": 0,
              "ticks": ""
             }
            },
            "type": "scattergl"
           }
          ],
          "scattermapbox": [
           {
            "marker": {
             "colorbar": {
              "outlinewidth": 0,
              "ticks": ""
             }
            },
            "type": "scattermapbox"
           }
          ],
          "scatterpolar": [
           {
            "marker": {
             "colorbar": {
              "outlinewidth": 0,
              "ticks": ""
             }
            },
            "type": "scatterpolar"
           }
          ],
          "scatterpolargl": [
           {
            "marker": {
             "colorbar": {
              "outlinewidth": 0,
              "ticks": ""
             }
            },
            "type": "scatterpolargl"
           }
          ],
          "scatterternary": [
           {
            "marker": {
             "colorbar": {
              "outlinewidth": 0,
              "ticks": ""
             }
            },
            "type": "scatterternary"
           }
          ],
          "surface": [
           {
            "colorbar": {
             "outlinewidth": 0,
             "ticks": ""
            },
            "colorscale": [
             [
              0,
              "#0d0887"
             ],
             [
              0.1111111111111111,
              "#46039f"
             ],
             [
              0.2222222222222222,
              "#7201a8"
             ],
             [
              0.3333333333333333,
              "#9c179e"
             ],
             [
              0.4444444444444444,
              "#bd3786"
             ],
             [
              0.5555555555555556,
              "#d8576b"
             ],
             [
              0.6666666666666666,
              "#ed7953"
             ],
             [
              0.7777777777777778,
              "#fb9f3a"
             ],
             [
              0.8888888888888888,
              "#fdca26"
             ],
             [
              1,
              "#f0f921"
             ]
            ],
            "type": "surface"
           }
          ],
          "table": [
           {
            "cells": {
             "fill": {
              "color": "#EBF0F8"
             },
             "line": {
              "color": "white"
             }
            },
            "header": {
             "fill": {
              "color": "#C8D4E3"
             },
             "line": {
              "color": "white"
             }
            },
            "type": "table"
           }
          ]
         },
         "layout": {
          "annotationdefaults": {
           "arrowcolor": "#2a3f5f",
           "arrowhead": 0,
           "arrowwidth": 1
          },
          "autotypenumbers": "strict",
          "coloraxis": {
           "colorbar": {
            "outlinewidth": 0,
            "ticks": ""
           }
          },
          "colorscale": {
           "diverging": [
            [
             0,
             "#8e0152"
            ],
            [
             0.1,
             "#c51b7d"
            ],
            [
             0.2,
             "#de77ae"
            ],
            [
             0.3,
             "#f1b6da"
            ],
            [
             0.4,
             "#fde0ef"
            ],
            [
             0.5,
             "#f7f7f7"
            ],
            [
             0.6,
             "#e6f5d0"
            ],
            [
             0.7,
             "#b8e186"
            ],
            [
             0.8,
             "#7fbc41"
            ],
            [
             0.9,
             "#4d9221"
            ],
            [
             1,
             "#276419"
            ]
           ],
           "sequential": [
            [
             0,
             "#0d0887"
            ],
            [
             0.1111111111111111,
             "#46039f"
            ],
            [
             0.2222222222222222,
             "#7201a8"
            ],
            [
             0.3333333333333333,
             "#9c179e"
            ],
            [
             0.4444444444444444,
             "#bd3786"
            ],
            [
             0.5555555555555556,
             "#d8576b"
            ],
            [
             0.6666666666666666,
             "#ed7953"
            ],
            [
             0.7777777777777778,
             "#fb9f3a"
            ],
            [
             0.8888888888888888,
             "#fdca26"
            ],
            [
             1,
             "#f0f921"
            ]
           ],
           "sequentialminus": [
            [
             0,
             "#0d0887"
            ],
            [
             0.1111111111111111,
             "#46039f"
            ],
            [
             0.2222222222222222,
             "#7201a8"
            ],
            [
             0.3333333333333333,
             "#9c179e"
            ],
            [
             0.4444444444444444,
             "#bd3786"
            ],
            [
             0.5555555555555556,
             "#d8576b"
            ],
            [
             0.6666666666666666,
             "#ed7953"
            ],
            [
             0.7777777777777778,
             "#fb9f3a"
            ],
            [
             0.8888888888888888,
             "#fdca26"
            ],
            [
             1,
             "#f0f921"
            ]
           ]
          },
          "colorway": [
           "#636efa",
           "#EF553B",
           "#00cc96",
           "#ab63fa",
           "#FFA15A",
           "#19d3f3",
           "#FF6692",
           "#B6E880",
           "#FF97FF",
           "#FECB52"
          ],
          "font": {
           "color": "#2a3f5f"
          },
          "geo": {
           "bgcolor": "white",
           "lakecolor": "white",
           "landcolor": "#E5ECF6",
           "showlakes": true,
           "showland": true,
           "subunitcolor": "white"
          },
          "hoverlabel": {
           "align": "left"
          },
          "hovermode": "closest",
          "mapbox": {
           "style": "light"
          },
          "paper_bgcolor": "white",
          "plot_bgcolor": "#E5ECF6",
          "polar": {
           "angularaxis": {
            "gridcolor": "white",
            "linecolor": "white",
            "ticks": ""
           },
           "bgcolor": "#E5ECF6",
           "radialaxis": {
            "gridcolor": "white",
            "linecolor": "white",
            "ticks": ""
           }
          },
          "scene": {
           "xaxis": {
            "backgroundcolor": "#E5ECF6",
            "gridcolor": "white",
            "gridwidth": 2,
            "linecolor": "white",
            "showbackground": true,
            "ticks": "",
            "zerolinecolor": "white"
           },
           "yaxis": {
            "backgroundcolor": "#E5ECF6",
            "gridcolor": "white",
            "gridwidth": 2,
            "linecolor": "white",
            "showbackground": true,
            "ticks": "",
            "zerolinecolor": "white"
           },
           "zaxis": {
            "backgroundcolor": "#E5ECF6",
            "gridcolor": "white",
            "gridwidth": 2,
            "linecolor": "white",
            "showbackground": true,
            "ticks": "",
            "zerolinecolor": "white"
           }
          },
          "shapedefaults": {
           "line": {
            "color": "#2a3f5f"
           }
          },
          "ternary": {
           "aaxis": {
            "gridcolor": "white",
            "linecolor": "white",
            "ticks": ""
           },
           "baxis": {
            "gridcolor": "white",
            "linecolor": "white",
            "ticks": ""
           },
           "bgcolor": "#E5ECF6",
           "caxis": {
            "gridcolor": "white",
            "linecolor": "white",
            "ticks": ""
           }
          },
          "title": {
           "x": 0.05
          },
          "xaxis": {
           "automargin": true,
           "gridcolor": "white",
           "linecolor": "white",
           "ticks": "",
           "title": {
            "standoff": 15
           },
           "zerolinecolor": "white",
           "zerolinewidth": 2
          },
          "yaxis": {
           "automargin": true,
           "gridcolor": "white",
           "linecolor": "white",
           "ticks": "",
           "title": {
            "standoff": 15
           },
           "zerolinecolor": "white",
           "zerolinewidth": 2
          }
         }
        },
        "title": {
         "text": "Confusion Matrix with Classification Report"
        },
        "width": 1200,
        "xaxis": {
         "anchor": "y",
         "domain": [
          0,
          0.54
         ]
        },
        "yaxis": {
         "anchor": "x",
         "domain": [
          0,
          1
         ]
        }
       }
      }
     },
     "metadata": {},
     "output_type": "display_data"
    }
   ],
   "source": [
    "# Hyperparam Test w/ poly | KEEP\n",
    "random.seed(10)\n",
    "# Base model\n",
    "text = tweets['cleaned_text_stopwords'].values\n",
    "labels = tweets['airline_sentiment'].values\n",
    "\n",
    "# Split the data into training and testing sets\n",
    "text_train, text_test, labels_train, labels_test = train_test_split(text, labels, test_size=0.2, random_state=42)\n",
    "\n",
    "# TF-IDF Vectorization\n",
    "vectorizer = TfidfVectorizer(max_features=1000)\n",
    "X_train_tfidf = vectorizer.fit_transform(text_train)\n",
    "X_test_tfidf = vectorizer.transform(text_test)\n",
    "\n",
    "\n",
    "# Hyperparameter tuning using Grid Search for SVC with poly kernel\n",
    "param_grid = {'C': [0.1, 1, 10, 100], 'kernel': ['poly'], 'degree': [2, 3, 4], 'gamma': ['scale', 'auto']}\n",
    "svc_model = SVC()\n",
    "grid_search = GridSearchCV(svc_model, param_grid, cv=3, n_jobs=1)\n",
    "grid_search.fit(X_train_tfidf, labels_train)\n",
    "\n",
    "print(\"Best Parameters:\", grid_search.best_params_)\n",
    "\n",
    "# Training on the chosen parameters with poly kernel\n",
    "best_svc_model = grid_search.best_estimator_\n",
    "best_svc_model.fit(X_train_tfidf, labels_train)\n",
    "\n",
    "# Making predictions\n",
    "y_pred = best_svc_model.predict(X_test_tfidf)\n",
    "\n",
    "# Model evaluation\n",
    "accuracy = accuracy_score(labels_test, y_pred)\n",
    "print(f'Accuracy: {accuracy:.2f}')\n",
    "\n",
    "# Classification Report\n",
    "print('\\nClassification Report:')\n",
    "print(classification_report(labels_test, y_pred))\n",
    "\n",
    "# Confusion Matrix\n",
    "cm = confusion_matrix(labels_test, y_pred)\n",
    "plot_confusion_matrix_with_classification_report(cm, [\"Negative\", \"Neutral\", \"Positive\"], labels_test, y_pred)"
   ]
  },
  {
   "cell_type": "code",
   "execution_count": 380,
   "metadata": {},
   "outputs": [
    {
     "name": "stdout",
     "output_type": "stream",
     "text": [
      "Macro-average ROC-AUC Score with Polynomial SVC: 0.88\n"
     ]
    }
   ],
   "source": [
    "# ROC Poly Hyper\n",
    "\n",
    "y_pred_proba_poly = best_svc_model.decision_function(X_test_tfidf)\n",
    "\n",
    "y_true_binary_poly = label_binarize(labels_test, classes=np.unique(labels))\n",
    "\n",
    "roc_auc_scores_poly = []\n",
    "\n",
    "for i in range(len(np.unique(labels))):\n",
    "    binary_labels_poly = y_true_binary_poly[:, i]\n",
    "    roc_auc_poly = roc_auc_score(binary_labels_poly, y_pred_proba_poly[:, i])\n",
    "    roc_auc_scores_poly.append(roc_auc_poly)\n",
    "\n",
    "roc_auc_macro_poly = np.mean(roc_auc_scores_poly)\n",
    "\n",
    "print(f'Macro-average ROC-AUC Score with Polynomial SVC: {roc_auc_macro_poly:.2f}')\n"
   ]
  },
  {
   "cell_type": "code",
   "execution_count": 386,
   "metadata": {},
   "outputs": [
    {
     "name": "stdout",
     "output_type": "stream",
     "text": [
      "Accuracy: 0.7892\n",
      "\n",
      "Classification Report:\n",
      "              precision    recall  f1-score   support\n",
      "\n",
      "    negative     0.7963    0.9492    0.8660      1791\n",
      "     neutral     0.7153    0.4780    0.5730       636\n",
      "    positive     0.8406    0.5938    0.6960       453\n",
      "\n",
      "    accuracy                         0.7892      2880\n",
      "   macro avg     0.7841    0.6737    0.7117      2880\n",
      "weighted avg     0.7854    0.7892    0.7746      2880\n",
      "\n"
     ]
    },
    {
     "data": {
      "application/vnd.plotly.v1+json": {
       "config": {
        "plotlyServerURL": "https://plot.ly"
       },
       "data": [
        {
         "colorscale": [
          [
           0,
           "#00224e"
          ],
          [
           0.1111111111111111,
           "#123570"
          ],
          [
           0.2222222222222222,
           "#3b496c"
          ],
          [
           0.3333333333333333,
           "#575d6d"
          ],
          [
           0.4444444444444444,
           "#707173"
          ],
          [
           0.5555555555555556,
           "#8a8678"
          ],
          [
           0.6666666666666666,
           "#a59c74"
          ],
          [
           0.7777777777777778,
           "#c3b369"
          ],
          [
           0.8888888888888888,
           "#e1cc55"
          ],
          [
           1,
           "#fee838"
          ]
         ],
         "showscale": true,
         "text": [
          [
           1700,
           70,
           21
          ],
          [
           302,
           304,
           30
          ],
          [
           133,
           51,
           269
          ]
         ],
         "textfont": {
          "size": 12
         },
         "texttemplate": "%{text}",
         "type": "heatmap",
         "x": [
          "Negative",
          "Neutral",
          "Positive"
         ],
         "xaxis": "x",
         "y": [
          "Negative",
          "Neutral",
          "Positive"
         ],
         "yaxis": "y",
         "z": [
          [
           1700,
           70,
           21
          ],
          [
           302,
           304,
           30
          ],
          [
           133,
           51,
           269
          ]
         ]
        },
        {
         "cells": {
          "fill": {
           "color": "rgba(0,0,0,0)"
          },
          "values": [
           [
            "Negative",
            "Neutral",
            "Positive",
            "accuracy",
            "macro avg",
            "weighted avg"
           ],
           [
            0.8,
            0.72,
            0.84,
            0.79,
            0.78,
            0.79
           ],
           [
            0.95,
            0.48,
            0.59,
            0.79,
            0.67,
            0.79
           ],
           [
            0.87,
            0.57,
            0.7,
            0.79,
            0.71,
            0.77
           ],
           [
            1791,
            636,
            453,
            0.79,
            2880,
            2880
           ]
          ]
         },
         "domain": {
          "x": [
           0.64,
           1
          ],
          "y": [
           0,
           1
          ]
         },
         "header": {
          "fill": {
           "color": "rgba(0,0,0,0)"
          },
          "values": [
           "precision",
           "recall",
           "f1-score",
           "support"
          ]
         },
         "type": "table"
        }
       ],
       "layout": {
        "annotations": [
         {
          "font": {
           "size": 16
          },
          "showarrow": false,
          "text": "Confusion Matrix",
          "x": 0.27,
          "xanchor": "center",
          "xref": "paper",
          "y": 1,
          "yanchor": "bottom",
          "yref": "paper"
         },
         {
          "font": {
           "size": 16
          },
          "showarrow": false,
          "text": "Classification Report",
          "x": 0.8200000000000001,
          "xanchor": "center",
          "xref": "paper",
          "y": 1,
          "yanchor": "bottom",
          "yref": "paper"
         },
         {
          "font": {
           "color": "rgba(247, 247, 247, 1)",
           "size": 16
          },
          "showarrow": false,
          "text": "Overall Accuracy: 78.92%",
          "x": 0.9,
          "xref": "paper",
          "y": 0.1,
          "yref": "paper"
         }
        ],
        "font": {
         "color": "rgba(247, 247, 247, 1)"
        },
        "height": 500,
        "paper_bgcolor": "rgba(0,0,0,0)",
        "template": {
         "data": {
          "bar": [
           {
            "error_x": {
             "color": "#2a3f5f"
            },
            "error_y": {
             "color": "#2a3f5f"
            },
            "marker": {
             "line": {
              "color": "#E5ECF6",
              "width": 0.5
             },
             "pattern": {
              "fillmode": "overlay",
              "size": 10,
              "solidity": 0.2
             }
            },
            "type": "bar"
           }
          ],
          "barpolar": [
           {
            "marker": {
             "line": {
              "color": "#E5ECF6",
              "width": 0.5
             },
             "pattern": {
              "fillmode": "overlay",
              "size": 10,
              "solidity": 0.2
             }
            },
            "type": "barpolar"
           }
          ],
          "carpet": [
           {
            "aaxis": {
             "endlinecolor": "#2a3f5f",
             "gridcolor": "white",
             "linecolor": "white",
             "minorgridcolor": "white",
             "startlinecolor": "#2a3f5f"
            },
            "baxis": {
             "endlinecolor": "#2a3f5f",
             "gridcolor": "white",
             "linecolor": "white",
             "minorgridcolor": "white",
             "startlinecolor": "#2a3f5f"
            },
            "type": "carpet"
           }
          ],
          "choropleth": [
           {
            "colorbar": {
             "outlinewidth": 0,
             "ticks": ""
            },
            "type": "choropleth"
           }
          ],
          "contour": [
           {
            "colorbar": {
             "outlinewidth": 0,
             "ticks": ""
            },
            "colorscale": [
             [
              0,
              "#0d0887"
             ],
             [
              0.1111111111111111,
              "#46039f"
             ],
             [
              0.2222222222222222,
              "#7201a8"
             ],
             [
              0.3333333333333333,
              "#9c179e"
             ],
             [
              0.4444444444444444,
              "#bd3786"
             ],
             [
              0.5555555555555556,
              "#d8576b"
             ],
             [
              0.6666666666666666,
              "#ed7953"
             ],
             [
              0.7777777777777778,
              "#fb9f3a"
             ],
             [
              0.8888888888888888,
              "#fdca26"
             ],
             [
              1,
              "#f0f921"
             ]
            ],
            "type": "contour"
           }
          ],
          "contourcarpet": [
           {
            "colorbar": {
             "outlinewidth": 0,
             "ticks": ""
            },
            "type": "contourcarpet"
           }
          ],
          "heatmap": [
           {
            "colorbar": {
             "outlinewidth": 0,
             "ticks": ""
            },
            "colorscale": [
             [
              0,
              "#0d0887"
             ],
             [
              0.1111111111111111,
              "#46039f"
             ],
             [
              0.2222222222222222,
              "#7201a8"
             ],
             [
              0.3333333333333333,
              "#9c179e"
             ],
             [
              0.4444444444444444,
              "#bd3786"
             ],
             [
              0.5555555555555556,
              "#d8576b"
             ],
             [
              0.6666666666666666,
              "#ed7953"
             ],
             [
              0.7777777777777778,
              "#fb9f3a"
             ],
             [
              0.8888888888888888,
              "#fdca26"
             ],
             [
              1,
              "#f0f921"
             ]
            ],
            "type": "heatmap"
           }
          ],
          "heatmapgl": [
           {
            "colorbar": {
             "outlinewidth": 0,
             "ticks": ""
            },
            "colorscale": [
             [
              0,
              "#0d0887"
             ],
             [
              0.1111111111111111,
              "#46039f"
             ],
             [
              0.2222222222222222,
              "#7201a8"
             ],
             [
              0.3333333333333333,
              "#9c179e"
             ],
             [
              0.4444444444444444,
              "#bd3786"
             ],
             [
              0.5555555555555556,
              "#d8576b"
             ],
             [
              0.6666666666666666,
              "#ed7953"
             ],
             [
              0.7777777777777778,
              "#fb9f3a"
             ],
             [
              0.8888888888888888,
              "#fdca26"
             ],
             [
              1,
              "#f0f921"
             ]
            ],
            "type": "heatmapgl"
           }
          ],
          "histogram": [
           {
            "marker": {
             "pattern": {
              "fillmode": "overlay",
              "size": 10,
              "solidity": 0.2
             }
            },
            "type": "histogram"
           }
          ],
          "histogram2d": [
           {
            "colorbar": {
             "outlinewidth": 0,
             "ticks": ""
            },
            "colorscale": [
             [
              0,
              "#0d0887"
             ],
             [
              0.1111111111111111,
              "#46039f"
             ],
             [
              0.2222222222222222,
              "#7201a8"
             ],
             [
              0.3333333333333333,
              "#9c179e"
             ],
             [
              0.4444444444444444,
              "#bd3786"
             ],
             [
              0.5555555555555556,
              "#d8576b"
             ],
             [
              0.6666666666666666,
              "#ed7953"
             ],
             [
              0.7777777777777778,
              "#fb9f3a"
             ],
             [
              0.8888888888888888,
              "#fdca26"
             ],
             [
              1,
              "#f0f921"
             ]
            ],
            "type": "histogram2d"
           }
          ],
          "histogram2dcontour": [
           {
            "colorbar": {
             "outlinewidth": 0,
             "ticks": ""
            },
            "colorscale": [
             [
              0,
              "#0d0887"
             ],
             [
              0.1111111111111111,
              "#46039f"
             ],
             [
              0.2222222222222222,
              "#7201a8"
             ],
             [
              0.3333333333333333,
              "#9c179e"
             ],
             [
              0.4444444444444444,
              "#bd3786"
             ],
             [
              0.5555555555555556,
              "#d8576b"
             ],
             [
              0.6666666666666666,
              "#ed7953"
             ],
             [
              0.7777777777777778,
              "#fb9f3a"
             ],
             [
              0.8888888888888888,
              "#fdca26"
             ],
             [
              1,
              "#f0f921"
             ]
            ],
            "type": "histogram2dcontour"
           }
          ],
          "mesh3d": [
           {
            "colorbar": {
             "outlinewidth": 0,
             "ticks": ""
            },
            "type": "mesh3d"
           }
          ],
          "parcoords": [
           {
            "line": {
             "colorbar": {
              "outlinewidth": 0,
              "ticks": ""
             }
            },
            "type": "parcoords"
           }
          ],
          "pie": [
           {
            "automargin": true,
            "type": "pie"
           }
          ],
          "scatter": [
           {
            "fillpattern": {
             "fillmode": "overlay",
             "size": 10,
             "solidity": 0.2
            },
            "type": "scatter"
           }
          ],
          "scatter3d": [
           {
            "line": {
             "colorbar": {
              "outlinewidth": 0,
              "ticks": ""
             }
            },
            "marker": {
             "colorbar": {
              "outlinewidth": 0,
              "ticks": ""
             }
            },
            "type": "scatter3d"
           }
          ],
          "scattercarpet": [
           {
            "marker": {
             "colorbar": {
              "outlinewidth": 0,
              "ticks": ""
             }
            },
            "type": "scattercarpet"
           }
          ],
          "scattergeo": [
           {
            "marker": {
             "colorbar": {
              "outlinewidth": 0,
              "ticks": ""
             }
            },
            "type": "scattergeo"
           }
          ],
          "scattergl": [
           {
            "marker": {
             "colorbar": {
              "outlinewidth": 0,
              "ticks": ""
             }
            },
            "type": "scattergl"
           }
          ],
          "scattermapbox": [
           {
            "marker": {
             "colorbar": {
              "outlinewidth": 0,
              "ticks": ""
             }
            },
            "type": "scattermapbox"
           }
          ],
          "scatterpolar": [
           {
            "marker": {
             "colorbar": {
              "outlinewidth": 0,
              "ticks": ""
             }
            },
            "type": "scatterpolar"
           }
          ],
          "scatterpolargl": [
           {
            "marker": {
             "colorbar": {
              "outlinewidth": 0,
              "ticks": ""
             }
            },
            "type": "scatterpolargl"
           }
          ],
          "scatterternary": [
           {
            "marker": {
             "colorbar": {
              "outlinewidth": 0,
              "ticks": ""
             }
            },
            "type": "scatterternary"
           }
          ],
          "surface": [
           {
            "colorbar": {
             "outlinewidth": 0,
             "ticks": ""
            },
            "colorscale": [
             [
              0,
              "#0d0887"
             ],
             [
              0.1111111111111111,
              "#46039f"
             ],
             [
              0.2222222222222222,
              "#7201a8"
             ],
             [
              0.3333333333333333,
              "#9c179e"
             ],
             [
              0.4444444444444444,
              "#bd3786"
             ],
             [
              0.5555555555555556,
              "#d8576b"
             ],
             [
              0.6666666666666666,
              "#ed7953"
             ],
             [
              0.7777777777777778,
              "#fb9f3a"
             ],
             [
              0.8888888888888888,
              "#fdca26"
             ],
             [
              1,
              "#f0f921"
             ]
            ],
            "type": "surface"
           }
          ],
          "table": [
           {
            "cells": {
             "fill": {
              "color": "#EBF0F8"
             },
             "line": {
              "color": "white"
             }
            },
            "header": {
             "fill": {
              "color": "#C8D4E3"
             },
             "line": {
              "color": "white"
             }
            },
            "type": "table"
           }
          ]
         },
         "layout": {
          "annotationdefaults": {
           "arrowcolor": "#2a3f5f",
           "arrowhead": 0,
           "arrowwidth": 1
          },
          "autotypenumbers": "strict",
          "coloraxis": {
           "colorbar": {
            "outlinewidth": 0,
            "ticks": ""
           }
          },
          "colorscale": {
           "diverging": [
            [
             0,
             "#8e0152"
            ],
            [
             0.1,
             "#c51b7d"
            ],
            [
             0.2,
             "#de77ae"
            ],
            [
             0.3,
             "#f1b6da"
            ],
            [
             0.4,
             "#fde0ef"
            ],
            [
             0.5,
             "#f7f7f7"
            ],
            [
             0.6,
             "#e6f5d0"
            ],
            [
             0.7,
             "#b8e186"
            ],
            [
             0.8,
             "#7fbc41"
            ],
            [
             0.9,
             "#4d9221"
            ],
            [
             1,
             "#276419"
            ]
           ],
           "sequential": [
            [
             0,
             "#0d0887"
            ],
            [
             0.1111111111111111,
             "#46039f"
            ],
            [
             0.2222222222222222,
             "#7201a8"
            ],
            [
             0.3333333333333333,
             "#9c179e"
            ],
            [
             0.4444444444444444,
             "#bd3786"
            ],
            [
             0.5555555555555556,
             "#d8576b"
            ],
            [
             0.6666666666666666,
             "#ed7953"
            ],
            [
             0.7777777777777778,
             "#fb9f3a"
            ],
            [
             0.8888888888888888,
             "#fdca26"
            ],
            [
             1,
             "#f0f921"
            ]
           ],
           "sequentialminus": [
            [
             0,
             "#0d0887"
            ],
            [
             0.1111111111111111,
             "#46039f"
            ],
            [
             0.2222222222222222,
             "#7201a8"
            ],
            [
             0.3333333333333333,
             "#9c179e"
            ],
            [
             0.4444444444444444,
             "#bd3786"
            ],
            [
             0.5555555555555556,
             "#d8576b"
            ],
            [
             0.6666666666666666,
             "#ed7953"
            ],
            [
             0.7777777777777778,
             "#fb9f3a"
            ],
            [
             0.8888888888888888,
             "#fdca26"
            ],
            [
             1,
             "#f0f921"
            ]
           ]
          },
          "colorway": [
           "#636efa",
           "#EF553B",
           "#00cc96",
           "#ab63fa",
           "#FFA15A",
           "#19d3f3",
           "#FF6692",
           "#B6E880",
           "#FF97FF",
           "#FECB52"
          ],
          "font": {
           "color": "#2a3f5f"
          },
          "geo": {
           "bgcolor": "white",
           "lakecolor": "white",
           "landcolor": "#E5ECF6",
           "showlakes": true,
           "showland": true,
           "subunitcolor": "white"
          },
          "hoverlabel": {
           "align": "left"
          },
          "hovermode": "closest",
          "mapbox": {
           "style": "light"
          },
          "paper_bgcolor": "white",
          "plot_bgcolor": "#E5ECF6",
          "polar": {
           "angularaxis": {
            "gridcolor": "white",
            "linecolor": "white",
            "ticks": ""
           },
           "bgcolor": "#E5ECF6",
           "radialaxis": {
            "gridcolor": "white",
            "linecolor": "white",
            "ticks": ""
           }
          },
          "scene": {
           "xaxis": {
            "backgroundcolor": "#E5ECF6",
            "gridcolor": "white",
            "gridwidth": 2,
            "linecolor": "white",
            "showbackground": true,
            "ticks": "",
            "zerolinecolor": "white"
           },
           "yaxis": {
            "backgroundcolor": "#E5ECF6",
            "gridcolor": "white",
            "gridwidth": 2,
            "linecolor": "white",
            "showbackground": true,
            "ticks": "",
            "zerolinecolor": "white"
           },
           "zaxis": {
            "backgroundcolor": "#E5ECF6",
            "gridcolor": "white",
            "gridwidth": 2,
            "linecolor": "white",
            "showbackground": true,
            "ticks": "",
            "zerolinecolor": "white"
           }
          },
          "shapedefaults": {
           "line": {
            "color": "#2a3f5f"
           }
          },
          "ternary": {
           "aaxis": {
            "gridcolor": "white",
            "linecolor": "white",
            "ticks": ""
           },
           "baxis": {
            "gridcolor": "white",
            "linecolor": "white",
            "ticks": ""
           },
           "bgcolor": "#E5ECF6",
           "caxis": {
            "gridcolor": "white",
            "linecolor": "white",
            "ticks": ""
           }
          },
          "title": {
           "x": 0.05
          },
          "xaxis": {
           "automargin": true,
           "gridcolor": "white",
           "linecolor": "white",
           "ticks": "",
           "title": {
            "standoff": 15
           },
           "zerolinecolor": "white",
           "zerolinewidth": 2
          },
          "yaxis": {
           "automargin": true,
           "gridcolor": "white",
           "linecolor": "white",
           "ticks": "",
           "title": {
            "standoff": 15
           },
           "zerolinecolor": "white",
           "zerolinewidth": 2
          }
         }
        },
        "title": {
         "text": "Confusion Matrix with Classification Report"
        },
        "width": 1200,
        "xaxis": {
         "anchor": "y",
         "domain": [
          0,
          0.54
         ]
        },
        "yaxis": {
         "anchor": "x",
         "domain": [
          0,
          1
         ]
        }
       }
      }
     },
     "metadata": {},
     "output_type": "display_data"
    }
   ],
   "source": [
    "# No hyperparameterization | Unigram\n",
    "random.seed(10)\n",
    "\n",
    "text = tweets['cleaned_text_stopwords'].values\n",
    "labels = tweets['airline_sentiment'].values\n",
    "\n",
    "# Split the data into training and testing sets\n",
    "text_train, text_test, labels_train, labels_test = train_test_split(text, labels, test_size=0.2, random_state=42)\n",
    "\n",
    "# TF-IDF Vectorization\n",
    "vectorizer = TfidfVectorizer(max_features=1000,ngram_range=(1,1))\n",
    "X_train_tfidf = vectorizer.fit_transform(text_train)\n",
    "X_test_tfidf = vectorizer.transform(text_test)\n",
    "\n",
    "# SVM Model without hyperparameter tuning\n",
    "svm_model = SVC()  # Default parameters are used here\n",
    "\n",
    "# Training the SVM model\n",
    "svm_model.fit(X_train_tfidf, labels_train)\n",
    "\n",
    "# Making predictions\n",
    "y_pred = svm_model.predict(X_test_tfidf)\n",
    "\n",
    "# Model evaluation\n",
    "accuracy = accuracy_score(labels_test, y_pred)\n",
    "print(f'Accuracy: {accuracy:.4f}')\n",
    "\n",
    "# Classification Report\n",
    "print('\\nClassification Report:')\n",
    "print(classification_report(labels_test, y_pred, digits = 4))\n",
    "\n",
    "cm = confusion_matrix(labels_test, y_pred)\n",
    "plot_confusion_matrix_with_classification_report(cm, [\"Negative\", \"Neutral\", \"Positive\"], labels_test, y_pred)"
   ]
  },
  {
   "cell_type": "code",
   "execution_count": 387,
   "metadata": {},
   "outputs": [
    {
     "name": "stdout",
     "output_type": "stream",
     "text": [
      "Macro-average ROC-AUC Score with Unigram TF-IDF: 0.8832\n"
     ]
    }
   ],
   "source": [
    "# ROC Unigram No Hyper\n",
    "y_pred_proba_unigram = svm_model.decision_function(X_test_tfidf)\n",
    "\n",
    "y_true_binary_unigram = label_binarize(labels_test, classes=np.unique(labels))\n",
    "\n",
    "roc_auc_scores_unigram = []\n",
    "\n",
    "for i in range(len(np.unique(labels))):\n",
    "    binary_labels_unigram = y_true_binary_unigram[:, i]\n",
    "    roc_auc_unigram = roc_auc_score(binary_labels_unigram, y_pred_proba_unigram[:, i])\n",
    "    roc_auc_scores_unigram.append(roc_auc_unigram)\n",
    "\n",
    "roc_auc_macro_unigram = np.mean(roc_auc_scores_unigram)\n",
    "\n",
    "print(f'Macro-average ROC-AUC Score with Unigram TF-IDF: {roc_auc_macro_unigram:.4f}')\n"
   ]
  },
  {
   "cell_type": "code",
   "execution_count": 384,
   "metadata": {},
   "outputs": [
    {
     "name": "stdout",
     "output_type": "stream",
     "text": [
      "Accuracy: 0.7847\n",
      "\n",
      "Classification Report:\n",
      "              precision    recall  f1-score   support\n",
      "\n",
      "    negative     0.7948    0.9470    0.8642      1791\n",
      "     neutral     0.7053    0.4780    0.5698       636\n",
      "    positive     0.8254    0.5740    0.6771       453\n",
      "\n",
      "    accuracy                         0.7847      2880\n",
      "   macro avg     0.7752    0.6663    0.7037      2880\n",
      "weighted avg     0.7798    0.7847    0.7698      2880\n",
      "\n"
     ]
    },
    {
     "data": {
      "application/vnd.plotly.v1+json": {
       "config": {
        "plotlyServerURL": "https://plot.ly"
       },
       "data": [
        {
         "colorscale": [
          [
           0,
           "#00224e"
          ],
          [
           0.1111111111111111,
           "#123570"
          ],
          [
           0.2222222222222222,
           "#3b496c"
          ],
          [
           0.3333333333333333,
           "#575d6d"
          ],
          [
           0.4444444444444444,
           "#707173"
          ],
          [
           0.5555555555555556,
           "#8a8678"
          ],
          [
           0.6666666666666666,
           "#a59c74"
          ],
          [
           0.7777777777777778,
           "#c3b369"
          ],
          [
           0.8888888888888888,
           "#e1cc55"
          ],
          [
           1,
           "#fee838"
          ]
         ],
         "showscale": true,
         "text": [
          [
           1696,
           72,
           23
          ],
          [
           300,
           304,
           32
          ],
          [
           138,
           55,
           260
          ]
         ],
         "textfont": {
          "size": 12
         },
         "texttemplate": "%{text}",
         "type": "heatmap",
         "x": [
          "Negative",
          "Neutral",
          "Positive"
         ],
         "xaxis": "x",
         "y": [
          "Negative",
          "Neutral",
          "Positive"
         ],
         "yaxis": "y",
         "z": [
          [
           1696,
           72,
           23
          ],
          [
           300,
           304,
           32
          ],
          [
           138,
           55,
           260
          ]
         ]
        },
        {
         "cells": {
          "fill": {
           "color": "rgba(0,0,0,0)"
          },
          "values": [
           [
            "Negative",
            "Neutral",
            "Positive",
            "accuracy",
            "macro avg",
            "weighted avg"
           ],
           [
            0.79,
            0.71,
            0.83,
            0.78,
            0.78,
            0.78
           ],
           [
            0.95,
            0.48,
            0.57,
            0.78,
            0.67,
            0.78
           ],
           [
            0.86,
            0.57,
            0.68,
            0.78,
            0.7,
            0.77
           ],
           [
            1791,
            636,
            453,
            0.78,
            2880,
            2880
           ]
          ]
         },
         "domain": {
          "x": [
           0.64,
           1
          ],
          "y": [
           0,
           1
          ]
         },
         "header": {
          "fill": {
           "color": "rgba(0,0,0,0)"
          },
          "values": [
           "precision",
           "recall",
           "f1-score",
           "support"
          ]
         },
         "type": "table"
        }
       ],
       "layout": {
        "annotations": [
         {
          "font": {
           "size": 16
          },
          "showarrow": false,
          "text": "Confusion Matrix",
          "x": 0.27,
          "xanchor": "center",
          "xref": "paper",
          "y": 1,
          "yanchor": "bottom",
          "yref": "paper"
         },
         {
          "font": {
           "size": 16
          },
          "showarrow": false,
          "text": "Classification Report",
          "x": 0.8200000000000001,
          "xanchor": "center",
          "xref": "paper",
          "y": 1,
          "yanchor": "bottom",
          "yref": "paper"
         },
         {
          "font": {
           "color": "rgba(247, 247, 247, 1)",
           "size": 16
          },
          "showarrow": false,
          "text": "Overall Accuracy: 78.47%",
          "x": 0.9,
          "xref": "paper",
          "y": 0.1,
          "yref": "paper"
         }
        ],
        "font": {
         "color": "rgba(247, 247, 247, 1)"
        },
        "height": 500,
        "paper_bgcolor": "rgba(0,0,0,0)",
        "template": {
         "data": {
          "bar": [
           {
            "error_x": {
             "color": "#2a3f5f"
            },
            "error_y": {
             "color": "#2a3f5f"
            },
            "marker": {
             "line": {
              "color": "#E5ECF6",
              "width": 0.5
             },
             "pattern": {
              "fillmode": "overlay",
              "size": 10,
              "solidity": 0.2
             }
            },
            "type": "bar"
           }
          ],
          "barpolar": [
           {
            "marker": {
             "line": {
              "color": "#E5ECF6",
              "width": 0.5
             },
             "pattern": {
              "fillmode": "overlay",
              "size": 10,
              "solidity": 0.2
             }
            },
            "type": "barpolar"
           }
          ],
          "carpet": [
           {
            "aaxis": {
             "endlinecolor": "#2a3f5f",
             "gridcolor": "white",
             "linecolor": "white",
             "minorgridcolor": "white",
             "startlinecolor": "#2a3f5f"
            },
            "baxis": {
             "endlinecolor": "#2a3f5f",
             "gridcolor": "white",
             "linecolor": "white",
             "minorgridcolor": "white",
             "startlinecolor": "#2a3f5f"
            },
            "type": "carpet"
           }
          ],
          "choropleth": [
           {
            "colorbar": {
             "outlinewidth": 0,
             "ticks": ""
            },
            "type": "choropleth"
           }
          ],
          "contour": [
           {
            "colorbar": {
             "outlinewidth": 0,
             "ticks": ""
            },
            "colorscale": [
             [
              0,
              "#0d0887"
             ],
             [
              0.1111111111111111,
              "#46039f"
             ],
             [
              0.2222222222222222,
              "#7201a8"
             ],
             [
              0.3333333333333333,
              "#9c179e"
             ],
             [
              0.4444444444444444,
              "#bd3786"
             ],
             [
              0.5555555555555556,
              "#d8576b"
             ],
             [
              0.6666666666666666,
              "#ed7953"
             ],
             [
              0.7777777777777778,
              "#fb9f3a"
             ],
             [
              0.8888888888888888,
              "#fdca26"
             ],
             [
              1,
              "#f0f921"
             ]
            ],
            "type": "contour"
           }
          ],
          "contourcarpet": [
           {
            "colorbar": {
             "outlinewidth": 0,
             "ticks": ""
            },
            "type": "contourcarpet"
           }
          ],
          "heatmap": [
           {
            "colorbar": {
             "outlinewidth": 0,
             "ticks": ""
            },
            "colorscale": [
             [
              0,
              "#0d0887"
             ],
             [
              0.1111111111111111,
              "#46039f"
             ],
             [
              0.2222222222222222,
              "#7201a8"
             ],
             [
              0.3333333333333333,
              "#9c179e"
             ],
             [
              0.4444444444444444,
              "#bd3786"
             ],
             [
              0.5555555555555556,
              "#d8576b"
             ],
             [
              0.6666666666666666,
              "#ed7953"
             ],
             [
              0.7777777777777778,
              "#fb9f3a"
             ],
             [
              0.8888888888888888,
              "#fdca26"
             ],
             [
              1,
              "#f0f921"
             ]
            ],
            "type": "heatmap"
           }
          ],
          "heatmapgl": [
           {
            "colorbar": {
             "outlinewidth": 0,
             "ticks": ""
            },
            "colorscale": [
             [
              0,
              "#0d0887"
             ],
             [
              0.1111111111111111,
              "#46039f"
             ],
             [
              0.2222222222222222,
              "#7201a8"
             ],
             [
              0.3333333333333333,
              "#9c179e"
             ],
             [
              0.4444444444444444,
              "#bd3786"
             ],
             [
              0.5555555555555556,
              "#d8576b"
             ],
             [
              0.6666666666666666,
              "#ed7953"
             ],
             [
              0.7777777777777778,
              "#fb9f3a"
             ],
             [
              0.8888888888888888,
              "#fdca26"
             ],
             [
              1,
              "#f0f921"
             ]
            ],
            "type": "heatmapgl"
           }
          ],
          "histogram": [
           {
            "marker": {
             "pattern": {
              "fillmode": "overlay",
              "size": 10,
              "solidity": 0.2
             }
            },
            "type": "histogram"
           }
          ],
          "histogram2d": [
           {
            "colorbar": {
             "outlinewidth": 0,
             "ticks": ""
            },
            "colorscale": [
             [
              0,
              "#0d0887"
             ],
             [
              0.1111111111111111,
              "#46039f"
             ],
             [
              0.2222222222222222,
              "#7201a8"
             ],
             [
              0.3333333333333333,
              "#9c179e"
             ],
             [
              0.4444444444444444,
              "#bd3786"
             ],
             [
              0.5555555555555556,
              "#d8576b"
             ],
             [
              0.6666666666666666,
              "#ed7953"
             ],
             [
              0.7777777777777778,
              "#fb9f3a"
             ],
             [
              0.8888888888888888,
              "#fdca26"
             ],
             [
              1,
              "#f0f921"
             ]
            ],
            "type": "histogram2d"
           }
          ],
          "histogram2dcontour": [
           {
            "colorbar": {
             "outlinewidth": 0,
             "ticks": ""
            },
            "colorscale": [
             [
              0,
              "#0d0887"
             ],
             [
              0.1111111111111111,
              "#46039f"
             ],
             [
              0.2222222222222222,
              "#7201a8"
             ],
             [
              0.3333333333333333,
              "#9c179e"
             ],
             [
              0.4444444444444444,
              "#bd3786"
             ],
             [
              0.5555555555555556,
              "#d8576b"
             ],
             [
              0.6666666666666666,
              "#ed7953"
             ],
             [
              0.7777777777777778,
              "#fb9f3a"
             ],
             [
              0.8888888888888888,
              "#fdca26"
             ],
             [
              1,
              "#f0f921"
             ]
            ],
            "type": "histogram2dcontour"
           }
          ],
          "mesh3d": [
           {
            "colorbar": {
             "outlinewidth": 0,
             "ticks": ""
            },
            "type": "mesh3d"
           }
          ],
          "parcoords": [
           {
            "line": {
             "colorbar": {
              "outlinewidth": 0,
              "ticks": ""
             }
            },
            "type": "parcoords"
           }
          ],
          "pie": [
           {
            "automargin": true,
            "type": "pie"
           }
          ],
          "scatter": [
           {
            "fillpattern": {
             "fillmode": "overlay",
             "size": 10,
             "solidity": 0.2
            },
            "type": "scatter"
           }
          ],
          "scatter3d": [
           {
            "line": {
             "colorbar": {
              "outlinewidth": 0,
              "ticks": ""
             }
            },
            "marker": {
             "colorbar": {
              "outlinewidth": 0,
              "ticks": ""
             }
            },
            "type": "scatter3d"
           }
          ],
          "scattercarpet": [
           {
            "marker": {
             "colorbar": {
              "outlinewidth": 0,
              "ticks": ""
             }
            },
            "type": "scattercarpet"
           }
          ],
          "scattergeo": [
           {
            "marker": {
             "colorbar": {
              "outlinewidth": 0,
              "ticks": ""
             }
            },
            "type": "scattergeo"
           }
          ],
          "scattergl": [
           {
            "marker": {
             "colorbar": {
              "outlinewidth": 0,
              "ticks": ""
             }
            },
            "type": "scattergl"
           }
          ],
          "scattermapbox": [
           {
            "marker": {
             "colorbar": {
              "outlinewidth": 0,
              "ticks": ""
             }
            },
            "type": "scattermapbox"
           }
          ],
          "scatterpolar": [
           {
            "marker": {
             "colorbar": {
              "outlinewidth": 0,
              "ticks": ""
             }
            },
            "type": "scatterpolar"
           }
          ],
          "scatterpolargl": [
           {
            "marker": {
             "colorbar": {
              "outlinewidth": 0,
              "ticks": ""
             }
            },
            "type": "scatterpolargl"
           }
          ],
          "scatterternary": [
           {
            "marker": {
             "colorbar": {
              "outlinewidth": 0,
              "ticks": ""
             }
            },
            "type": "scatterternary"
           }
          ],
          "surface": [
           {
            "colorbar": {
             "outlinewidth": 0,
             "ticks": ""
            },
            "colorscale": [
             [
              0,
              "#0d0887"
             ],
             [
              0.1111111111111111,
              "#46039f"
             ],
             [
              0.2222222222222222,
              "#7201a8"
             ],
             [
              0.3333333333333333,
              "#9c179e"
             ],
             [
              0.4444444444444444,
              "#bd3786"
             ],
             [
              0.5555555555555556,
              "#d8576b"
             ],
             [
              0.6666666666666666,
              "#ed7953"
             ],
             [
              0.7777777777777778,
              "#fb9f3a"
             ],
             [
              0.8888888888888888,
              "#fdca26"
             ],
             [
              1,
              "#f0f921"
             ]
            ],
            "type": "surface"
           }
          ],
          "table": [
           {
            "cells": {
             "fill": {
              "color": "#EBF0F8"
             },
             "line": {
              "color": "white"
             }
            },
            "header": {
             "fill": {
              "color": "#C8D4E3"
             },
             "line": {
              "color": "white"
             }
            },
            "type": "table"
           }
          ]
         },
         "layout": {
          "annotationdefaults": {
           "arrowcolor": "#2a3f5f",
           "arrowhead": 0,
           "arrowwidth": 1
          },
          "autotypenumbers": "strict",
          "coloraxis": {
           "colorbar": {
            "outlinewidth": 0,
            "ticks": ""
           }
          },
          "colorscale": {
           "diverging": [
            [
             0,
             "#8e0152"
            ],
            [
             0.1,
             "#c51b7d"
            ],
            [
             0.2,
             "#de77ae"
            ],
            [
             0.3,
             "#f1b6da"
            ],
            [
             0.4,
             "#fde0ef"
            ],
            [
             0.5,
             "#f7f7f7"
            ],
            [
             0.6,
             "#e6f5d0"
            ],
            [
             0.7,
             "#b8e186"
            ],
            [
             0.8,
             "#7fbc41"
            ],
            [
             0.9,
             "#4d9221"
            ],
            [
             1,
             "#276419"
            ]
           ],
           "sequential": [
            [
             0,
             "#0d0887"
            ],
            [
             0.1111111111111111,
             "#46039f"
            ],
            [
             0.2222222222222222,
             "#7201a8"
            ],
            [
             0.3333333333333333,
             "#9c179e"
            ],
            [
             0.4444444444444444,
             "#bd3786"
            ],
            [
             0.5555555555555556,
             "#d8576b"
            ],
            [
             0.6666666666666666,
             "#ed7953"
            ],
            [
             0.7777777777777778,
             "#fb9f3a"
            ],
            [
             0.8888888888888888,
             "#fdca26"
            ],
            [
             1,
             "#f0f921"
            ]
           ],
           "sequentialminus": [
            [
             0,
             "#0d0887"
            ],
            [
             0.1111111111111111,
             "#46039f"
            ],
            [
             0.2222222222222222,
             "#7201a8"
            ],
            [
             0.3333333333333333,
             "#9c179e"
            ],
            [
             0.4444444444444444,
             "#bd3786"
            ],
            [
             0.5555555555555556,
             "#d8576b"
            ],
            [
             0.6666666666666666,
             "#ed7953"
            ],
            [
             0.7777777777777778,
             "#fb9f3a"
            ],
            [
             0.8888888888888888,
             "#fdca26"
            ],
            [
             1,
             "#f0f921"
            ]
           ]
          },
          "colorway": [
           "#636efa",
           "#EF553B",
           "#00cc96",
           "#ab63fa",
           "#FFA15A",
           "#19d3f3",
           "#FF6692",
           "#B6E880",
           "#FF97FF",
           "#FECB52"
          ],
          "font": {
           "color": "#2a3f5f"
          },
          "geo": {
           "bgcolor": "white",
           "lakecolor": "white",
           "landcolor": "#E5ECF6",
           "showlakes": true,
           "showland": true,
           "subunitcolor": "white"
          },
          "hoverlabel": {
           "align": "left"
          },
          "hovermode": "closest",
          "mapbox": {
           "style": "light"
          },
          "paper_bgcolor": "white",
          "plot_bgcolor": "#E5ECF6",
          "polar": {
           "angularaxis": {
            "gridcolor": "white",
            "linecolor": "white",
            "ticks": ""
           },
           "bgcolor": "#E5ECF6",
           "radialaxis": {
            "gridcolor": "white",
            "linecolor": "white",
            "ticks": ""
           }
          },
          "scene": {
           "xaxis": {
            "backgroundcolor": "#E5ECF6",
            "gridcolor": "white",
            "gridwidth": 2,
            "linecolor": "white",
            "showbackground": true,
            "ticks": "",
            "zerolinecolor": "white"
           },
           "yaxis": {
            "backgroundcolor": "#E5ECF6",
            "gridcolor": "white",
            "gridwidth": 2,
            "linecolor": "white",
            "showbackground": true,
            "ticks": "",
            "zerolinecolor": "white"
           },
           "zaxis": {
            "backgroundcolor": "#E5ECF6",
            "gridcolor": "white",
            "gridwidth": 2,
            "linecolor": "white",
            "showbackground": true,
            "ticks": "",
            "zerolinecolor": "white"
           }
          },
          "shapedefaults": {
           "line": {
            "color": "#2a3f5f"
           }
          },
          "ternary": {
           "aaxis": {
            "gridcolor": "white",
            "linecolor": "white",
            "ticks": ""
           },
           "baxis": {
            "gridcolor": "white",
            "linecolor": "white",
            "ticks": ""
           },
           "bgcolor": "#E5ECF6",
           "caxis": {
            "gridcolor": "white",
            "linecolor": "white",
            "ticks": ""
           }
          },
          "title": {
           "x": 0.05
          },
          "xaxis": {
           "automargin": true,
           "gridcolor": "white",
           "linecolor": "white",
           "ticks": "",
           "title": {
            "standoff": 15
           },
           "zerolinecolor": "white",
           "zerolinewidth": 2
          },
          "yaxis": {
           "automargin": true,
           "gridcolor": "white",
           "linecolor": "white",
           "ticks": "",
           "title": {
            "standoff": 15
           },
           "zerolinecolor": "white",
           "zerolinewidth": 2
          }
         }
        },
        "title": {
         "text": "Confusion Matrix with Classification Report"
        },
        "width": 1200,
        "xaxis": {
         "anchor": "y",
         "domain": [
          0,
          0.54
         ]
        },
        "yaxis": {
         "anchor": "x",
         "domain": [
          0,
          1
         ]
        }
       }
      }
     },
     "metadata": {},
     "output_type": "display_data"
    }
   ],
   "source": [
    "# No hyperparameterization | Bigram\n",
    "random.seed(10)\n",
    "\n",
    "text = tweets['cleaned_text_stopwords'].values\n",
    "labels = tweets['airline_sentiment'].values\n",
    "\n",
    "# Split the data into training and testing sets\n",
    "text_train, text_test, labels_train, labels_test = train_test_split(text, labels, test_size=0.2, random_state=42)\n",
    "\n",
    "# TF-IDF Vectorization\n",
    "vectorizer = TfidfVectorizer(max_features=1000,ngram_range=(1,2))\n",
    "X_train_tfidf = vectorizer.fit_transform(text_train)\n",
    "X_test_tfidf = vectorizer.transform(text_test)\n",
    "\n",
    "# SVM Model without hyperparameter tuning\n",
    "svm_model = SVC()  # Default parameters are used here\n",
    "\n",
    "# Training the SVM model\n",
    "svm_model.fit(X_train_tfidf, labels_train)\n",
    "\n",
    "# Making predictions\n",
    "y_pred = svm_model.predict(X_test_tfidf)\n",
    "\n",
    "# Model evaluation\n",
    "accuracy = accuracy_score(labels_test, y_pred)\n",
    "print(f'Accuracy: {accuracy:.4f}')\n",
    "\n",
    "# Classification Report\n",
    "print('\\nClassification Report:')\n",
    "print(classification_report(labels_test, y_pred, digits = 4))\n",
    "\n",
    "cm = confusion_matrix(labels_test, y_pred)\n",
    "plot_confusion_matrix_with_classification_report(cm, [\"Negative\", \"Neutral\", \"Positive\"], labels_test, y_pred)"
   ]
  },
  {
   "cell_type": "code",
   "execution_count": 385,
   "metadata": {},
   "outputs": [
    {
     "name": "stdout",
     "output_type": "stream",
     "text": [
      "Macro-average ROC-AUC Score with Bigram TF-IDF: 0.8831\n"
     ]
    }
   ],
   "source": [
    "# ROC Bigram No Hyper\n",
    "\n",
    "y_pred_proba_bigram = svm_model.decision_function(X_test_tfidf)\n",
    "\n",
    "y_true_binary_bigram = label_binarize(labels_test, classes=np.unique(labels))\n",
    "\n",
    "roc_auc_scores_bigram = []\n",
    "\n",
    "for i in range(len(np.unique(labels))):\n",
    "    binary_labels_bigram = y_true_binary_bigram[:, i]\n",
    "    roc_auc_bigram = roc_auc_score(binary_labels_bigram, y_pred_proba_bigram[:, i])\n",
    "    roc_auc_scores_bigram.append(roc_auc_bigram)\n",
    "\n",
    "roc_auc_macro_bigram = np.mean(roc_auc_scores_bigram)\n",
    "\n",
    "print(f'Macro-average ROC-AUC Score with Bigram TF-IDF: {roc_auc_macro_bigram:.4f}')\n"
   ]
  },
  {
   "cell_type": "code",
   "execution_count": 369,
   "metadata": {},
   "outputs": [
    {
     "name": "stdout",
     "output_type": "stream",
     "text": [
      "Accuracy: 0.79\n",
      "\n",
      "Classification Report:\n",
      "              precision    recall  f1-score   support\n",
      "\n",
      "    negative       0.82      0.92      0.87      1791\n",
      "     neutral       0.67      0.55      0.60       636\n",
      "    positive       0.77      0.63      0.69       453\n",
      "\n",
      "    accuracy                           0.79      2880\n",
      "   macro avg       0.75      0.70      0.72      2880\n",
      "weighted avg       0.78      0.79      0.78      2880\n",
      "\n"
     ]
    },
    {
     "data": {
      "application/vnd.plotly.v1+json": {
       "config": {
        "plotlyServerURL": "https://plot.ly"
       },
       "data": [
        {
         "colorscale": [
          [
           0,
           "#00224e"
          ],
          [
           0.1111111111111111,
           "#123570"
          ],
          [
           0.2222222222222222,
           "#3b496c"
          ],
          [
           0.3333333333333333,
           "#575d6d"
          ],
          [
           0.4444444444444444,
           "#707173"
          ],
          [
           0.5555555555555556,
           "#8a8678"
          ],
          [
           0.6666666666666666,
           "#a59c74"
          ],
          [
           0.7777777777777778,
           "#c3b369"
          ],
          [
           0.8888888888888888,
           "#e1cc55"
          ],
          [
           1,
           "#fee838"
          ]
         ],
         "showscale": true,
         "text": [
          [
           1642,
           109,
           40
          ],
          [
           243,
           347,
           46
          ],
          [
           107,
           62,
           284
          ]
         ],
         "textfont": {
          "size": 12
         },
         "texttemplate": "%{text}",
         "type": "heatmap",
         "x": [
          "Negative",
          "Neutral",
          "Positive"
         ],
         "xaxis": "x",
         "y": [
          "Negative",
          "Neutral",
          "Positive"
         ],
         "yaxis": "y",
         "z": [
          [
           1642,
           109,
           40
          ],
          [
           243,
           347,
           46
          ],
          [
           107,
           62,
           284
          ]
         ]
        },
        {
         "cells": {
          "fill": {
           "color": "rgba(0,0,0,0)"
          },
          "values": [
           [
            "Negative",
            "Neutral",
            "Positive",
            "accuracy",
            "macro avg",
            "weighted avg"
           ],
           [
            0.82,
            0.67,
            0.77,
            0.79,
            0.75,
            0.78
           ],
           [
            0.92,
            0.55,
            0.63,
            0.79,
            0.7,
            0.79
           ],
           [
            0.87,
            0.6,
            0.69,
            0.79,
            0.72,
            0.78
           ],
           [
            1791,
            636,
            453,
            0.79,
            2880,
            2880
           ]
          ]
         },
         "domain": {
          "x": [
           0.64,
           1
          ],
          "y": [
           0,
           1
          ]
         },
         "header": {
          "fill": {
           "color": "rgba(0,0,0,0)"
          },
          "values": [
           "precision",
           "recall",
           "f1-score",
           "support"
          ]
         },
         "type": "table"
        }
       ],
       "layout": {
        "annotations": [
         {
          "font": {
           "size": 16
          },
          "showarrow": false,
          "text": "Confusion Matrix",
          "x": 0.27,
          "xanchor": "center",
          "xref": "paper",
          "y": 1,
          "yanchor": "bottom",
          "yref": "paper"
         },
         {
          "font": {
           "size": 16
          },
          "showarrow": false,
          "text": "Classification Report",
          "x": 0.8200000000000001,
          "xanchor": "center",
          "xref": "paper",
          "y": 1,
          "yanchor": "bottom",
          "yref": "paper"
         },
         {
          "font": {
           "color": "rgba(247, 247, 247, 1)",
           "size": 16
          },
          "showarrow": false,
          "text": "Overall Accuracy: 78.92%",
          "x": 0.9,
          "xref": "paper",
          "y": 0.1,
          "yref": "paper"
         }
        ],
        "font": {
         "color": "rgba(247, 247, 247, 1)"
        },
        "height": 500,
        "paper_bgcolor": "rgba(0,0,0,0)",
        "template": {
         "data": {
          "bar": [
           {
            "error_x": {
             "color": "#2a3f5f"
            },
            "error_y": {
             "color": "#2a3f5f"
            },
            "marker": {
             "line": {
              "color": "#E5ECF6",
              "width": 0.5
             },
             "pattern": {
              "fillmode": "overlay",
              "size": 10,
              "solidity": 0.2
             }
            },
            "type": "bar"
           }
          ],
          "barpolar": [
           {
            "marker": {
             "line": {
              "color": "#E5ECF6",
              "width": 0.5
             },
             "pattern": {
              "fillmode": "overlay",
              "size": 10,
              "solidity": 0.2
             }
            },
            "type": "barpolar"
           }
          ],
          "carpet": [
           {
            "aaxis": {
             "endlinecolor": "#2a3f5f",
             "gridcolor": "white",
             "linecolor": "white",
             "minorgridcolor": "white",
             "startlinecolor": "#2a3f5f"
            },
            "baxis": {
             "endlinecolor": "#2a3f5f",
             "gridcolor": "white",
             "linecolor": "white",
             "minorgridcolor": "white",
             "startlinecolor": "#2a3f5f"
            },
            "type": "carpet"
           }
          ],
          "choropleth": [
           {
            "colorbar": {
             "outlinewidth": 0,
             "ticks": ""
            },
            "type": "choropleth"
           }
          ],
          "contour": [
           {
            "colorbar": {
             "outlinewidth": 0,
             "ticks": ""
            },
            "colorscale": [
             [
              0,
              "#0d0887"
             ],
             [
              0.1111111111111111,
              "#46039f"
             ],
             [
              0.2222222222222222,
              "#7201a8"
             ],
             [
              0.3333333333333333,
              "#9c179e"
             ],
             [
              0.4444444444444444,
              "#bd3786"
             ],
             [
              0.5555555555555556,
              "#d8576b"
             ],
             [
              0.6666666666666666,
              "#ed7953"
             ],
             [
              0.7777777777777778,
              "#fb9f3a"
             ],
             [
              0.8888888888888888,
              "#fdca26"
             ],
             [
              1,
              "#f0f921"
             ]
            ],
            "type": "contour"
           }
          ],
          "contourcarpet": [
           {
            "colorbar": {
             "outlinewidth": 0,
             "ticks": ""
            },
            "type": "contourcarpet"
           }
          ],
          "heatmap": [
           {
            "colorbar": {
             "outlinewidth": 0,
             "ticks": ""
            },
            "colorscale": [
             [
              0,
              "#0d0887"
             ],
             [
              0.1111111111111111,
              "#46039f"
             ],
             [
              0.2222222222222222,
              "#7201a8"
             ],
             [
              0.3333333333333333,
              "#9c179e"
             ],
             [
              0.4444444444444444,
              "#bd3786"
             ],
             [
              0.5555555555555556,
              "#d8576b"
             ],
             [
              0.6666666666666666,
              "#ed7953"
             ],
             [
              0.7777777777777778,
              "#fb9f3a"
             ],
             [
              0.8888888888888888,
              "#fdca26"
             ],
             [
              1,
              "#f0f921"
             ]
            ],
            "type": "heatmap"
           }
          ],
          "heatmapgl": [
           {
            "colorbar": {
             "outlinewidth": 0,
             "ticks": ""
            },
            "colorscale": [
             [
              0,
              "#0d0887"
             ],
             [
              0.1111111111111111,
              "#46039f"
             ],
             [
              0.2222222222222222,
              "#7201a8"
             ],
             [
              0.3333333333333333,
              "#9c179e"
             ],
             [
              0.4444444444444444,
              "#bd3786"
             ],
             [
              0.5555555555555556,
              "#d8576b"
             ],
             [
              0.6666666666666666,
              "#ed7953"
             ],
             [
              0.7777777777777778,
              "#fb9f3a"
             ],
             [
              0.8888888888888888,
              "#fdca26"
             ],
             [
              1,
              "#f0f921"
             ]
            ],
            "type": "heatmapgl"
           }
          ],
          "histogram": [
           {
            "marker": {
             "pattern": {
              "fillmode": "overlay",
              "size": 10,
              "solidity": 0.2
             }
            },
            "type": "histogram"
           }
          ],
          "histogram2d": [
           {
            "colorbar": {
             "outlinewidth": 0,
             "ticks": ""
            },
            "colorscale": [
             [
              0,
              "#0d0887"
             ],
             [
              0.1111111111111111,
              "#46039f"
             ],
             [
              0.2222222222222222,
              "#7201a8"
             ],
             [
              0.3333333333333333,
              "#9c179e"
             ],
             [
              0.4444444444444444,
              "#bd3786"
             ],
             [
              0.5555555555555556,
              "#d8576b"
             ],
             [
              0.6666666666666666,
              "#ed7953"
             ],
             [
              0.7777777777777778,
              "#fb9f3a"
             ],
             [
              0.8888888888888888,
              "#fdca26"
             ],
             [
              1,
              "#f0f921"
             ]
            ],
            "type": "histogram2d"
           }
          ],
          "histogram2dcontour": [
           {
            "colorbar": {
             "outlinewidth": 0,
             "ticks": ""
            },
            "colorscale": [
             [
              0,
              "#0d0887"
             ],
             [
              0.1111111111111111,
              "#46039f"
             ],
             [
              0.2222222222222222,
              "#7201a8"
             ],
             [
              0.3333333333333333,
              "#9c179e"
             ],
             [
              0.4444444444444444,
              "#bd3786"
             ],
             [
              0.5555555555555556,
              "#d8576b"
             ],
             [
              0.6666666666666666,
              "#ed7953"
             ],
             [
              0.7777777777777778,
              "#fb9f3a"
             ],
             [
              0.8888888888888888,
              "#fdca26"
             ],
             [
              1,
              "#f0f921"
             ]
            ],
            "type": "histogram2dcontour"
           }
          ],
          "mesh3d": [
           {
            "colorbar": {
             "outlinewidth": 0,
             "ticks": ""
            },
            "type": "mesh3d"
           }
          ],
          "parcoords": [
           {
            "line": {
             "colorbar": {
              "outlinewidth": 0,
              "ticks": ""
             }
            },
            "type": "parcoords"
           }
          ],
          "pie": [
           {
            "automargin": true,
            "type": "pie"
           }
          ],
          "scatter": [
           {
            "fillpattern": {
             "fillmode": "overlay",
             "size": 10,
             "solidity": 0.2
            },
            "type": "scatter"
           }
          ],
          "scatter3d": [
           {
            "line": {
             "colorbar": {
              "outlinewidth": 0,
              "ticks": ""
             }
            },
            "marker": {
             "colorbar": {
              "outlinewidth": 0,
              "ticks": ""
             }
            },
            "type": "scatter3d"
           }
          ],
          "scattercarpet": [
           {
            "marker": {
             "colorbar": {
              "outlinewidth": 0,
              "ticks": ""
             }
            },
            "type": "scattercarpet"
           }
          ],
          "scattergeo": [
           {
            "marker": {
             "colorbar": {
              "outlinewidth": 0,
              "ticks": ""
             }
            },
            "type": "scattergeo"
           }
          ],
          "scattergl": [
           {
            "marker": {
             "colorbar": {
              "outlinewidth": 0,
              "ticks": ""
             }
            },
            "type": "scattergl"
           }
          ],
          "scattermapbox": [
           {
            "marker": {
             "colorbar": {
              "outlinewidth": 0,
              "ticks": ""
             }
            },
            "type": "scattermapbox"
           }
          ],
          "scatterpolar": [
           {
            "marker": {
             "colorbar": {
              "outlinewidth": 0,
              "ticks": ""
             }
            },
            "type": "scatterpolar"
           }
          ],
          "scatterpolargl": [
           {
            "marker": {
             "colorbar": {
              "outlinewidth": 0,
              "ticks": ""
             }
            },
            "type": "scatterpolargl"
           }
          ],
          "scatterternary": [
           {
            "marker": {
             "colorbar": {
              "outlinewidth": 0,
              "ticks": ""
             }
            },
            "type": "scatterternary"
           }
          ],
          "surface": [
           {
            "colorbar": {
             "outlinewidth": 0,
             "ticks": ""
            },
            "colorscale": [
             [
              0,
              "#0d0887"
             ],
             [
              0.1111111111111111,
              "#46039f"
             ],
             [
              0.2222222222222222,
              "#7201a8"
             ],
             [
              0.3333333333333333,
              "#9c179e"
             ],
             [
              0.4444444444444444,
              "#bd3786"
             ],
             [
              0.5555555555555556,
              "#d8576b"
             ],
             [
              0.6666666666666666,
              "#ed7953"
             ],
             [
              0.7777777777777778,
              "#fb9f3a"
             ],
             [
              0.8888888888888888,
              "#fdca26"
             ],
             [
              1,
              "#f0f921"
             ]
            ],
            "type": "surface"
           }
          ],
          "table": [
           {
            "cells": {
             "fill": {
              "color": "#EBF0F8"
             },
             "line": {
              "color": "white"
             }
            },
            "header": {
             "fill": {
              "color": "#C8D4E3"
             },
             "line": {
              "color": "white"
             }
            },
            "type": "table"
           }
          ]
         },
         "layout": {
          "annotationdefaults": {
           "arrowcolor": "#2a3f5f",
           "arrowhead": 0,
           "arrowwidth": 1
          },
          "autotypenumbers": "strict",
          "coloraxis": {
           "colorbar": {
            "outlinewidth": 0,
            "ticks": ""
           }
          },
          "colorscale": {
           "diverging": [
            [
             0,
             "#8e0152"
            ],
            [
             0.1,
             "#c51b7d"
            ],
            [
             0.2,
             "#de77ae"
            ],
            [
             0.3,
             "#f1b6da"
            ],
            [
             0.4,
             "#fde0ef"
            ],
            [
             0.5,
             "#f7f7f7"
            ],
            [
             0.6,
             "#e6f5d0"
            ],
            [
             0.7,
             "#b8e186"
            ],
            [
             0.8,
             "#7fbc41"
            ],
            [
             0.9,
             "#4d9221"
            ],
            [
             1,
             "#276419"
            ]
           ],
           "sequential": [
            [
             0,
             "#0d0887"
            ],
            [
             0.1111111111111111,
             "#46039f"
            ],
            [
             0.2222222222222222,
             "#7201a8"
            ],
            [
             0.3333333333333333,
             "#9c179e"
            ],
            [
             0.4444444444444444,
             "#bd3786"
            ],
            [
             0.5555555555555556,
             "#d8576b"
            ],
            [
             0.6666666666666666,
             "#ed7953"
            ],
            [
             0.7777777777777778,
             "#fb9f3a"
            ],
            [
             0.8888888888888888,
             "#fdca26"
            ],
            [
             1,
             "#f0f921"
            ]
           ],
           "sequentialminus": [
            [
             0,
             "#0d0887"
            ],
            [
             0.1111111111111111,
             "#46039f"
            ],
            [
             0.2222222222222222,
             "#7201a8"
            ],
            [
             0.3333333333333333,
             "#9c179e"
            ],
            [
             0.4444444444444444,
             "#bd3786"
            ],
            [
             0.5555555555555556,
             "#d8576b"
            ],
            [
             0.6666666666666666,
             "#ed7953"
            ],
            [
             0.7777777777777778,
             "#fb9f3a"
            ],
            [
             0.8888888888888888,
             "#fdca26"
            ],
            [
             1,
             "#f0f921"
            ]
           ]
          },
          "colorway": [
           "#636efa",
           "#EF553B",
           "#00cc96",
           "#ab63fa",
           "#FFA15A",
           "#19d3f3",
           "#FF6692",
           "#B6E880",
           "#FF97FF",
           "#FECB52"
          ],
          "font": {
           "color": "#2a3f5f"
          },
          "geo": {
           "bgcolor": "white",
           "lakecolor": "white",
           "landcolor": "#E5ECF6",
           "showlakes": true,
           "showland": true,
           "subunitcolor": "white"
          },
          "hoverlabel": {
           "align": "left"
          },
          "hovermode": "closest",
          "mapbox": {
           "style": "light"
          },
          "paper_bgcolor": "white",
          "plot_bgcolor": "#E5ECF6",
          "polar": {
           "angularaxis": {
            "gridcolor": "white",
            "linecolor": "white",
            "ticks": ""
           },
           "bgcolor": "#E5ECF6",
           "radialaxis": {
            "gridcolor": "white",
            "linecolor": "white",
            "ticks": ""
           }
          },
          "scene": {
           "xaxis": {
            "backgroundcolor": "#E5ECF6",
            "gridcolor": "white",
            "gridwidth": 2,
            "linecolor": "white",
            "showbackground": true,
            "ticks": "",
            "zerolinecolor": "white"
           },
           "yaxis": {
            "backgroundcolor": "#E5ECF6",
            "gridcolor": "white",
            "gridwidth": 2,
            "linecolor": "white",
            "showbackground": true,
            "ticks": "",
            "zerolinecolor": "white"
           },
           "zaxis": {
            "backgroundcolor": "#E5ECF6",
            "gridcolor": "white",
            "gridwidth": 2,
            "linecolor": "white",
            "showbackground": true,
            "ticks": "",
            "zerolinecolor": "white"
           }
          },
          "shapedefaults": {
           "line": {
            "color": "#2a3f5f"
           }
          },
          "ternary": {
           "aaxis": {
            "gridcolor": "white",
            "linecolor": "white",
            "ticks": ""
           },
           "baxis": {
            "gridcolor": "white",
            "linecolor": "white",
            "ticks": ""
           },
           "bgcolor": "#E5ECF6",
           "caxis": {
            "gridcolor": "white",
            "linecolor": "white",
            "ticks": ""
           }
          },
          "title": {
           "x": 0.05
          },
          "xaxis": {
           "automargin": true,
           "gridcolor": "white",
           "linecolor": "white",
           "ticks": "",
           "title": {
            "standoff": 15
           },
           "zerolinecolor": "white",
           "zerolinewidth": 2
          },
          "yaxis": {
           "automargin": true,
           "gridcolor": "white",
           "linecolor": "white",
           "ticks": "",
           "title": {
            "standoff": 15
           },
           "zerolinecolor": "white",
           "zerolinewidth": 2
          }
         }
        },
        "title": {
         "text": "Confusion Matrix with Classification Report"
        },
        "width": 1200,
        "xaxis": {
         "anchor": "y",
         "domain": [
          0,
          0.54
         ]
        },
        "yaxis": {
         "anchor": "x",
         "domain": [
          0,
          1
         ]
        }
       }
      }
     },
     "metadata": {},
     "output_type": "display_data"
    }
   ],
   "source": [
    "# LinearSVC with penalty\n",
    "random.seed(10)\n",
    "\n",
    "# Assuming you have your data loaded in 'tweets' DataFrame\n",
    "text = tweets['cleaned_text_stopwords'].values\n",
    "labels = tweets['airline_sentiment'].values\n",
    "\n",
    "# Split the data into training and testing sets\n",
    "text_train, text_test, labels_train, labels_test = train_test_split(text, labels, test_size=0.2, random_state=42)\n",
    "\n",
    "# TF-IDF Vectorization\n",
    "vectorizer = TfidfVectorizer(max_features=1000)\n",
    "X_train_tfidf = vectorizer.fit_transform(text_train)\n",
    "X_test_tfidf = vectorizer.transform(text_test)\n",
    "\n",
    "# Train LinearSVC with L1 regularization on the training data\n",
    "linear_svc_l1_model = LinearSVC(penalty='l1', dual=False)  # dual=False for L1 penalty\n",
    "linear_svc_l1_model.fit(X_train_tfidf, labels_train)\n",
    "\n",
    "# Make predictions on the test set\n",
    "y_pred = linear_svc_l1_model.predict(X_test_tfidf)\n",
    "\n",
    "# Model evaluation\n",
    "accuracy = accuracy_score(labels_test, y_pred)\n",
    "print(f'Accuracy: {accuracy:.2f}')\n",
    "\n",
    "# Classification Report\n",
    "print('\\nClassification Report:')\n",
    "print(classification_report(labels_test, y_pred))\n",
    "\n",
    "# Confusion Matrix\n",
    "cm = confusion_matrix(labels_test, y_pred)\n",
    "plot_confusion_matrix_with_classification_report(cm, [\"Negative\", \"Neutral\", \"Positive\"], labels_test, y_pred)"
   ]
  },
  {
   "cell_type": "code",
   "execution_count": 370,
   "metadata": {},
   "outputs": [
    {
     "name": "stdout",
     "output_type": "stream",
     "text": [
      "Macro-average ROC-AUC Score with LinearSVC (L1): 0.89\n"
     ]
    }
   ],
   "source": [
    "# ROC Penalty for L1\n",
    "y_pred_proba_linear_svc_l1 = linear_svc_l1_model.decision_function(X_test_tfidf)\n",
    "\n",
    "y_true_binary_linear_svc_l1 = label_binarize(labels_test, classes=np.unique(labels))\n",
    "\n",
    "roc_auc_scores_linear_svc_l1 = []\n",
    "\n",
    "for i in range(len(np.unique(labels))):\n",
    "    binary_labels_linear_svc_l1 = y_true_binary_linear_svc_l1[:, i]\n",
    "    roc_auc_linear_svc_l1 = roc_auc_score(binary_labels_linear_svc_l1, y_pred_proba_linear_svc_l1[:, i])\n",
    "    roc_auc_scores_linear_svc_l1.append(roc_auc_linear_svc_l1)\n",
    "\n",
    "roc_auc_macro_linear_svc_l1 = np.mean(roc_auc_scores_linear_svc_l1)\n",
    "\n",
    "print(f'Macro-average ROC-AUC Score with LinearSVC (L1): {roc_auc_macro_linear_svc_l1:.2f}')\n"
   ]
  },
  {
   "cell_type": "code",
   "execution_count": 388,
   "metadata": {},
   "outputs": [
    {
     "name": "stderr",
     "output_type": "stream",
     "text": [
      "/Users/fish/opt/anaconda3/lib/python3.9/site-packages/sklearn/model_selection/_validation.py:372: FitFailedWarning:\n",
      "\n",
      "\n",
      "36 fits failed out of a total of 54.\n",
      "The score on these train-test partitions for these parameters will be set to nan.\n",
      "If these failures are not expected, you can try to debug them by setting error_score='raise'.\n",
      "\n",
      "Below are more details about the failures:\n",
      "--------------------------------------------------------------------------------\n",
      "36 fits failed with the following error:\n",
      "Traceback (most recent call last):\n",
      "  File \"/Users/fish/opt/anaconda3/lib/python3.9/site-packages/sklearn/model_selection/_validation.py\", line 680, in _fit_and_score\n",
      "    estimator.fit(X_train, y_train, **fit_params)\n",
      "  File \"/Users/fish/opt/anaconda3/lib/python3.9/site-packages/sklearnex/svm/nusvc.py\", line 84, in fit\n",
      "    dispatch(self, 'svm.NuSVC.fit', {\n",
      "  File \"/Users/fish/opt/anaconda3/lib/python3.9/site-packages/sklearnex/_device_offload.py\", line 159, in dispatch\n",
      "    return branches[backend](obj, *hostargs, **hostkwargs, queue=q)\n",
      "  File \"/Users/fish/opt/anaconda3/lib/python3.9/site-packages/sklearnex/svm/nusvc.py\", line 197, in _onedal_fit\n",
      "    self._onedal_estimator.fit(X, y, sample_weight, queue=queue)\n",
      "  File \"/Users/fish/opt/anaconda3/lib/python3.9/site-packages/onedal/svm/svm.py\", line 456, in fit\n",
      "    return super()._fit(X, y, sample_weight, _backend.svm.nu_classification, queue)\n",
      "  File \"/Users/fish/opt/anaconda3/lib/python3.9/site-packages/onedal/svm/svm.py\", line 198, in _fit\n",
      "    sample_weight = self._get_sample_weight(X, y, sample_weight)\n",
      "  File \"/Users/fish/opt/anaconda3/lib/python3.9/site-packages/onedal/svm/svm.py\", line 142, in _get_sample_weight\n",
      "    raise ValueError('specified nu is infeasible')\n",
      "ValueError: specified nu is infeasible\n",
      "\n",
      "\n",
      "/Users/fish/opt/anaconda3/lib/python3.9/site-packages/sklearn/model_selection/_search.py:969: UserWarning:\n",
      "\n",
      "One or more of the test scores are non-finite: [0.69861943        nan        nan 0.73326387        nan        nan\n",
      " 0.78770513        nan        nan 0.69861943        nan        nan\n",
      " 0.66345402        nan        nan 0.67083442        nan        nan]\n",
      "\n"
     ]
    },
    {
     "name": "stdout",
     "output_type": "stream",
     "text": [
      "Best Parameters: {'gamma': 'scale', 'kernel': 'rbf', 'nu': 0.1}\n",
      "Accuracy: 0.79\n",
      "\n",
      "Classification Report:\n",
      "              precision    recall  f1-score   support\n",
      "\n",
      "    negative       0.82      0.93      0.87      1791\n",
      "     neutral       0.68      0.52      0.59       636\n",
      "    positive       0.78      0.62      0.69       453\n",
      "\n",
      "    accuracy                           0.79      2880\n",
      "   macro avg       0.76      0.69      0.72      2880\n",
      "weighted avg       0.78      0.79      0.78      2880\n",
      "\n"
     ]
    },
    {
     "data": {
      "application/vnd.plotly.v1+json": {
       "config": {
        "plotlyServerURL": "https://plot.ly"
       },
       "data": [
        {
         "colorscale": [
          [
           0,
           "#00224e"
          ],
          [
           0.1111111111111111,
           "#123570"
          ],
          [
           0.2222222222222222,
           "#3b496c"
          ],
          [
           0.3333333333333333,
           "#575d6d"
          ],
          [
           0.4444444444444444,
           "#707173"
          ],
          [
           0.5555555555555556,
           "#8a8678"
          ],
          [
           0.6666666666666666,
           "#a59c74"
          ],
          [
           0.7777777777777778,
           "#c3b369"
          ],
          [
           0.8888888888888888,
           "#e1cc55"
          ],
          [
           1,
           "#fee838"
          ]
         ],
         "showscale": true,
         "text": [
          [
           1665,
           94,
           32
          ],
          [
           256,
           333,
           47
          ],
          [
           110,
           64,
           279
          ]
         ],
         "textfont": {
          "size": 12
         },
         "texttemplate": "%{text}",
         "type": "heatmap",
         "x": [
          "Negative",
          "Neutral",
          "Positive"
         ],
         "xaxis": "x",
         "y": [
          "Negative",
          "Neutral",
          "Positive"
         ],
         "yaxis": "y",
         "z": [
          [
           1665,
           94,
           32
          ],
          [
           256,
           333,
           47
          ],
          [
           110,
           64,
           279
          ]
         ]
        },
        {
         "cells": {
          "fill": {
           "color": "rgba(0,0,0,0)"
          },
          "values": [
           [
            "Negative",
            "Neutral",
            "Positive",
            "accuracy",
            "macro avg",
            "weighted avg"
           ],
           [
            0.82,
            0.68,
            0.78,
            0.79,
            0.76,
            0.78
           ],
           [
            0.93,
            0.52,
            0.62,
            0.79,
            0.69,
            0.79
           ],
           [
            0.87,
            0.59,
            0.69,
            0.79,
            0.72,
            0.78
           ],
           [
            1791,
            636,
            453,
            0.79,
            2880,
            2880
           ]
          ]
         },
         "domain": {
          "x": [
           0.64,
           1
          ],
          "y": [
           0,
           1
          ]
         },
         "header": {
          "fill": {
           "color": "rgba(0,0,0,0)"
          },
          "values": [
           "precision",
           "recall",
           "f1-score",
           "support"
          ]
         },
         "type": "table"
        }
       ],
       "layout": {
        "annotations": [
         {
          "font": {
           "size": 16
          },
          "showarrow": false,
          "text": "Confusion Matrix",
          "x": 0.27,
          "xanchor": "center",
          "xref": "paper",
          "y": 1,
          "yanchor": "bottom",
          "yref": "paper"
         },
         {
          "font": {
           "size": 16
          },
          "showarrow": false,
          "text": "Classification Report",
          "x": 0.8200000000000001,
          "xanchor": "center",
          "xref": "paper",
          "y": 1,
          "yanchor": "bottom",
          "yref": "paper"
         },
         {
          "font": {
           "color": "rgba(247, 247, 247, 1)",
           "size": 16
          },
          "showarrow": false,
          "text": "Overall Accuracy: 79.06%",
          "x": 0.9,
          "xref": "paper",
          "y": 0.1,
          "yref": "paper"
         }
        ],
        "font": {
         "color": "rgba(247, 247, 247, 1)"
        },
        "height": 500,
        "paper_bgcolor": "rgba(0,0,0,0)",
        "template": {
         "data": {
          "bar": [
           {
            "error_x": {
             "color": "#2a3f5f"
            },
            "error_y": {
             "color": "#2a3f5f"
            },
            "marker": {
             "line": {
              "color": "#E5ECF6",
              "width": 0.5
             },
             "pattern": {
              "fillmode": "overlay",
              "size": 10,
              "solidity": 0.2
             }
            },
            "type": "bar"
           }
          ],
          "barpolar": [
           {
            "marker": {
             "line": {
              "color": "#E5ECF6",
              "width": 0.5
             },
             "pattern": {
              "fillmode": "overlay",
              "size": 10,
              "solidity": 0.2
             }
            },
            "type": "barpolar"
           }
          ],
          "carpet": [
           {
            "aaxis": {
             "endlinecolor": "#2a3f5f",
             "gridcolor": "white",
             "linecolor": "white",
             "minorgridcolor": "white",
             "startlinecolor": "#2a3f5f"
            },
            "baxis": {
             "endlinecolor": "#2a3f5f",
             "gridcolor": "white",
             "linecolor": "white",
             "minorgridcolor": "white",
             "startlinecolor": "#2a3f5f"
            },
            "type": "carpet"
           }
          ],
          "choropleth": [
           {
            "colorbar": {
             "outlinewidth": 0,
             "ticks": ""
            },
            "type": "choropleth"
           }
          ],
          "contour": [
           {
            "colorbar": {
             "outlinewidth": 0,
             "ticks": ""
            },
            "colorscale": [
             [
              0,
              "#0d0887"
             ],
             [
              0.1111111111111111,
              "#46039f"
             ],
             [
              0.2222222222222222,
              "#7201a8"
             ],
             [
              0.3333333333333333,
              "#9c179e"
             ],
             [
              0.4444444444444444,
              "#bd3786"
             ],
             [
              0.5555555555555556,
              "#d8576b"
             ],
             [
              0.6666666666666666,
              "#ed7953"
             ],
             [
              0.7777777777777778,
              "#fb9f3a"
             ],
             [
              0.8888888888888888,
              "#fdca26"
             ],
             [
              1,
              "#f0f921"
             ]
            ],
            "type": "contour"
           }
          ],
          "contourcarpet": [
           {
            "colorbar": {
             "outlinewidth": 0,
             "ticks": ""
            },
            "type": "contourcarpet"
           }
          ],
          "heatmap": [
           {
            "colorbar": {
             "outlinewidth": 0,
             "ticks": ""
            },
            "colorscale": [
             [
              0,
              "#0d0887"
             ],
             [
              0.1111111111111111,
              "#46039f"
             ],
             [
              0.2222222222222222,
              "#7201a8"
             ],
             [
              0.3333333333333333,
              "#9c179e"
             ],
             [
              0.4444444444444444,
              "#bd3786"
             ],
             [
              0.5555555555555556,
              "#d8576b"
             ],
             [
              0.6666666666666666,
              "#ed7953"
             ],
             [
              0.7777777777777778,
              "#fb9f3a"
             ],
             [
              0.8888888888888888,
              "#fdca26"
             ],
             [
              1,
              "#f0f921"
             ]
            ],
            "type": "heatmap"
           }
          ],
          "heatmapgl": [
           {
            "colorbar": {
             "outlinewidth": 0,
             "ticks": ""
            },
            "colorscale": [
             [
              0,
              "#0d0887"
             ],
             [
              0.1111111111111111,
              "#46039f"
             ],
             [
              0.2222222222222222,
              "#7201a8"
             ],
             [
              0.3333333333333333,
              "#9c179e"
             ],
             [
              0.4444444444444444,
              "#bd3786"
             ],
             [
              0.5555555555555556,
              "#d8576b"
             ],
             [
              0.6666666666666666,
              "#ed7953"
             ],
             [
              0.7777777777777778,
              "#fb9f3a"
             ],
             [
              0.8888888888888888,
              "#fdca26"
             ],
             [
              1,
              "#f0f921"
             ]
            ],
            "type": "heatmapgl"
           }
          ],
          "histogram": [
           {
            "marker": {
             "pattern": {
              "fillmode": "overlay",
              "size": 10,
              "solidity": 0.2
             }
            },
            "type": "histogram"
           }
          ],
          "histogram2d": [
           {
            "colorbar": {
             "outlinewidth": 0,
             "ticks": ""
            },
            "colorscale": [
             [
              0,
              "#0d0887"
             ],
             [
              0.1111111111111111,
              "#46039f"
             ],
             [
              0.2222222222222222,
              "#7201a8"
             ],
             [
              0.3333333333333333,
              "#9c179e"
             ],
             [
              0.4444444444444444,
              "#bd3786"
             ],
             [
              0.5555555555555556,
              "#d8576b"
             ],
             [
              0.6666666666666666,
              "#ed7953"
             ],
             [
              0.7777777777777778,
              "#fb9f3a"
             ],
             [
              0.8888888888888888,
              "#fdca26"
             ],
             [
              1,
              "#f0f921"
             ]
            ],
            "type": "histogram2d"
           }
          ],
          "histogram2dcontour": [
           {
            "colorbar": {
             "outlinewidth": 0,
             "ticks": ""
            },
            "colorscale": [
             [
              0,
              "#0d0887"
             ],
             [
              0.1111111111111111,
              "#46039f"
             ],
             [
              0.2222222222222222,
              "#7201a8"
             ],
             [
              0.3333333333333333,
              "#9c179e"
             ],
             [
              0.4444444444444444,
              "#bd3786"
             ],
             [
              0.5555555555555556,
              "#d8576b"
             ],
             [
              0.6666666666666666,
              "#ed7953"
             ],
             [
              0.7777777777777778,
              "#fb9f3a"
             ],
             [
              0.8888888888888888,
              "#fdca26"
             ],
             [
              1,
              "#f0f921"
             ]
            ],
            "type": "histogram2dcontour"
           }
          ],
          "mesh3d": [
           {
            "colorbar": {
             "outlinewidth": 0,
             "ticks": ""
            },
            "type": "mesh3d"
           }
          ],
          "parcoords": [
           {
            "line": {
             "colorbar": {
              "outlinewidth": 0,
              "ticks": ""
             }
            },
            "type": "parcoords"
           }
          ],
          "pie": [
           {
            "automargin": true,
            "type": "pie"
           }
          ],
          "scatter": [
           {
            "fillpattern": {
             "fillmode": "overlay",
             "size": 10,
             "solidity": 0.2
            },
            "type": "scatter"
           }
          ],
          "scatter3d": [
           {
            "line": {
             "colorbar": {
              "outlinewidth": 0,
              "ticks": ""
             }
            },
            "marker": {
             "colorbar": {
              "outlinewidth": 0,
              "ticks": ""
             }
            },
            "type": "scatter3d"
           }
          ],
          "scattercarpet": [
           {
            "marker": {
             "colorbar": {
              "outlinewidth": 0,
              "ticks": ""
             }
            },
            "type": "scattercarpet"
           }
          ],
          "scattergeo": [
           {
            "marker": {
             "colorbar": {
              "outlinewidth": 0,
              "ticks": ""
             }
            },
            "type": "scattergeo"
           }
          ],
          "scattergl": [
           {
            "marker": {
             "colorbar": {
              "outlinewidth": 0,
              "ticks": ""
             }
            },
            "type": "scattergl"
           }
          ],
          "scattermapbox": [
           {
            "marker": {
             "colorbar": {
              "outlinewidth": 0,
              "ticks": ""
             }
            },
            "type": "scattermapbox"
           }
          ],
          "scatterpolar": [
           {
            "marker": {
             "colorbar": {
              "outlinewidth": 0,
              "ticks": ""
             }
            },
            "type": "scatterpolar"
           }
          ],
          "scatterpolargl": [
           {
            "marker": {
             "colorbar": {
              "outlinewidth": 0,
              "ticks": ""
             }
            },
            "type": "scatterpolargl"
           }
          ],
          "scatterternary": [
           {
            "marker": {
             "colorbar": {
              "outlinewidth": 0,
              "ticks": ""
             }
            },
            "type": "scatterternary"
           }
          ],
          "surface": [
           {
            "colorbar": {
             "outlinewidth": 0,
             "ticks": ""
            },
            "colorscale": [
             [
              0,
              "#0d0887"
             ],
             [
              0.1111111111111111,
              "#46039f"
             ],
             [
              0.2222222222222222,
              "#7201a8"
             ],
             [
              0.3333333333333333,
              "#9c179e"
             ],
             [
              0.4444444444444444,
              "#bd3786"
             ],
             [
              0.5555555555555556,
              "#d8576b"
             ],
             [
              0.6666666666666666,
              "#ed7953"
             ],
             [
              0.7777777777777778,
              "#fb9f3a"
             ],
             [
              0.8888888888888888,
              "#fdca26"
             ],
             [
              1,
              "#f0f921"
             ]
            ],
            "type": "surface"
           }
          ],
          "table": [
           {
            "cells": {
             "fill": {
              "color": "#EBF0F8"
             },
             "line": {
              "color": "white"
             }
            },
            "header": {
             "fill": {
              "color": "#C8D4E3"
             },
             "line": {
              "color": "white"
             }
            },
            "type": "table"
           }
          ]
         },
         "layout": {
          "annotationdefaults": {
           "arrowcolor": "#2a3f5f",
           "arrowhead": 0,
           "arrowwidth": 1
          },
          "autotypenumbers": "strict",
          "coloraxis": {
           "colorbar": {
            "outlinewidth": 0,
            "ticks": ""
           }
          },
          "colorscale": {
           "diverging": [
            [
             0,
             "#8e0152"
            ],
            [
             0.1,
             "#c51b7d"
            ],
            [
             0.2,
             "#de77ae"
            ],
            [
             0.3,
             "#f1b6da"
            ],
            [
             0.4,
             "#fde0ef"
            ],
            [
             0.5,
             "#f7f7f7"
            ],
            [
             0.6,
             "#e6f5d0"
            ],
            [
             0.7,
             "#b8e186"
            ],
            [
             0.8,
             "#7fbc41"
            ],
            [
             0.9,
             "#4d9221"
            ],
            [
             1,
             "#276419"
            ]
           ],
           "sequential": [
            [
             0,
             "#0d0887"
            ],
            [
             0.1111111111111111,
             "#46039f"
            ],
            [
             0.2222222222222222,
             "#7201a8"
            ],
            [
             0.3333333333333333,
             "#9c179e"
            ],
            [
             0.4444444444444444,
             "#bd3786"
            ],
            [
             0.5555555555555556,
             "#d8576b"
            ],
            [
             0.6666666666666666,
             "#ed7953"
            ],
            [
             0.7777777777777778,
             "#fb9f3a"
            ],
            [
             0.8888888888888888,
             "#fdca26"
            ],
            [
             1,
             "#f0f921"
            ]
           ],
           "sequentialminus": [
            [
             0,
             "#0d0887"
            ],
            [
             0.1111111111111111,
             "#46039f"
            ],
            [
             0.2222222222222222,
             "#7201a8"
            ],
            [
             0.3333333333333333,
             "#9c179e"
            ],
            [
             0.4444444444444444,
             "#bd3786"
            ],
            [
             0.5555555555555556,
             "#d8576b"
            ],
            [
             0.6666666666666666,
             "#ed7953"
            ],
            [
             0.7777777777777778,
             "#fb9f3a"
            ],
            [
             0.8888888888888888,
             "#fdca26"
            ],
            [
             1,
             "#f0f921"
            ]
           ]
          },
          "colorway": [
           "#636efa",
           "#EF553B",
           "#00cc96",
           "#ab63fa",
           "#FFA15A",
           "#19d3f3",
           "#FF6692",
           "#B6E880",
           "#FF97FF",
           "#FECB52"
          ],
          "font": {
           "color": "#2a3f5f"
          },
          "geo": {
           "bgcolor": "white",
           "lakecolor": "white",
           "landcolor": "#E5ECF6",
           "showlakes": true,
           "showland": true,
           "subunitcolor": "white"
          },
          "hoverlabel": {
           "align": "left"
          },
          "hovermode": "closest",
          "mapbox": {
           "style": "light"
          },
          "paper_bgcolor": "white",
          "plot_bgcolor": "#E5ECF6",
          "polar": {
           "angularaxis": {
            "gridcolor": "white",
            "linecolor": "white",
            "ticks": ""
           },
           "bgcolor": "#E5ECF6",
           "radialaxis": {
            "gridcolor": "white",
            "linecolor": "white",
            "ticks": ""
           }
          },
          "scene": {
           "xaxis": {
            "backgroundcolor": "#E5ECF6",
            "gridcolor": "white",
            "gridwidth": 2,
            "linecolor": "white",
            "showbackground": true,
            "ticks": "",
            "zerolinecolor": "white"
           },
           "yaxis": {
            "backgroundcolor": "#E5ECF6",
            "gridcolor": "white",
            "gridwidth": 2,
            "linecolor": "white",
            "showbackground": true,
            "ticks": "",
            "zerolinecolor": "white"
           },
           "zaxis": {
            "backgroundcolor": "#E5ECF6",
            "gridcolor": "white",
            "gridwidth": 2,
            "linecolor": "white",
            "showbackground": true,
            "ticks": "",
            "zerolinecolor": "white"
           }
          },
          "shapedefaults": {
           "line": {
            "color": "#2a3f5f"
           }
          },
          "ternary": {
           "aaxis": {
            "gridcolor": "white",
            "linecolor": "white",
            "ticks": ""
           },
           "baxis": {
            "gridcolor": "white",
            "linecolor": "white",
            "ticks": ""
           },
           "bgcolor": "#E5ECF6",
           "caxis": {
            "gridcolor": "white",
            "linecolor": "white",
            "ticks": ""
           }
          },
          "title": {
           "x": 0.05
          },
          "xaxis": {
           "automargin": true,
           "gridcolor": "white",
           "linecolor": "white",
           "ticks": "",
           "title": {
            "standoff": 15
           },
           "zerolinecolor": "white",
           "zerolinewidth": 2
          },
          "yaxis": {
           "automargin": true,
           "gridcolor": "white",
           "linecolor": "white",
           "ticks": "",
           "title": {
            "standoff": 15
           },
           "zerolinecolor": "white",
           "zerolinewidth": 2
          }
         }
        },
        "title": {
         "text": "Confusion Matrix with Classification Report"
        },
        "width": 1200,
        "xaxis": {
         "anchor": "y",
         "domain": [
          0,
          0.54
         ]
        },
        "yaxis": {
         "anchor": "x",
         "domain": [
          0,
          1
         ]
        }
       }
      }
     },
     "metadata": {},
     "output_type": "display_data"
    }
   ],
   "source": [
    "# NU Test\n",
    "\n",
    "random.seed(10)\n",
    "# Base model\n",
    "text = tweets['cleaned_text_stopwords'].values\n",
    "labels = tweets['airline_sentiment'].values\n",
    "\n",
    "# Split the data into training and testing sets\n",
    "text_train, text_test, labels_train, labels_test = train_test_split(text, labels, test_size=0.2, random_state=42)\n",
    "\n",
    "# TF-IDF Vectorization\n",
    "vectorizer = TfidfVectorizer(max_features=1000)\n",
    "X_train_tfidf = vectorizer.fit_transform(text_train)\n",
    "X_test_tfidf = vectorizer.transform(text_test)\n",
    "\n",
    "# Hyperparameter tuning using Grid Search for NuSVC\n",
    "param_grid = {'nu': [0.1, 0.5, 0.9], 'kernel': ['linear', 'poly', 'rbf'], 'gamma': ['scale', 'auto']}\n",
    "nusvc_model = NuSVC()\n",
    "grid_search = GridSearchCV(nusvc_model, param_grid, cv=3, n_jobs=1)\n",
    "grid_search.fit(X_train_tfidf, labels_train)\n",
    "\n",
    "print(\"Best Parameters:\", grid_search.best_params_)\n",
    "\n",
    "# Training on the chosen parameters\n",
    "best_nusvc_model = grid_search.best_estimator_\n",
    "best_nusvc_model.fit(X_train_tfidf, labels_train)\n",
    "\n",
    "# Making predictions\n",
    "y_pred = best_nusvc_model.predict(X_test_tfidf)\n",
    "\n",
    "# Model evaluation\n",
    "accuracy = accuracy_score(labels_test, y_pred)\n",
    "print(f'Accuracy: {accuracy:.2f}')\n",
    "\n",
    "# Classification Report\n",
    "print('\\nClassification Report:')\n",
    "print(classification_report(labels_test, y_pred))\n",
    "\n",
    "# Confusion Matrix\n",
    "cm = confusion_matrix(labels_test, y_pred)\n",
    "plot_confusion_matrix_with_classification_report(cm, [\"Negative\", \"Neutral\", \"Positive\"], labels_test, y_pred)"
   ]
  },
  {
   "cell_type": "code",
   "execution_count": 389,
   "metadata": {},
   "outputs": [
    {
     "name": "stdout",
     "output_type": "stream",
     "text": [
      "Macro-average ROC-AUC Score with NuSVC: 0.88\n"
     ]
    }
   ],
   "source": [
    "# ROC for NU\n",
    "\n",
    "y_pred_proba_nusvc = best_nusvc_model.decision_function(X_test_tfidf)\n",
    "\n",
    "y_true_binary_nusvc = label_binarize(labels_test, classes=np.unique(labels))\n",
    "\n",
    "roc_auc_scores_nusvc = []\n",
    "\n",
    "for i in range(len(np.unique(labels))):\n",
    "    binary_labels_nusvc = y_true_binary_nusvc[:, i]\n",
    "    roc_auc_nusvc = roc_auc_score(binary_labels_nusvc, y_pred_proba_nusvc[:, i])\n",
    "    roc_auc_scores_nusvc.append(roc_auc_nusvc)\n",
    "\n",
    "roc_auc_macro_nusvc = np.mean(roc_auc_scores_nusvc)\n",
    "\n",
    "print(f'Macro-average ROC-AUC Score with NuSVC: {roc_auc_macro_nusvc:.2f}')\n"
   ]
  },
  {
   "cell_type": "code",
   "execution_count": 390,
   "metadata": {},
   "outputs": [
    {
     "name": "stdout",
     "output_type": "stream",
     "text": [
      "Best Parameters: {'C': 1, 'gamma': 'scale', 'kernel': 'linear'}\n",
      "Accuracy with Hyperparameterized Unigram TF-IDF: 0.7861\n",
      "\n",
      "Classification Report with Hyperparameterized Unigram TF-IDF:\n",
      "              precision    recall  f1-score   support\n",
      "\n",
      "    negative     0.8120    0.9263    0.8654      1791\n",
      "     neutral     0.6841    0.5142    0.5871       636\n",
      "    positive     0.7744    0.6137    0.6847       453\n",
      "\n",
      "    accuracy                         0.7861      2880\n",
      "   macro avg     0.7568    0.6847    0.7124      2880\n",
      "weighted avg     0.7779    0.7861    0.7755      2880\n",
      "\n"
     ]
    },
    {
     "data": {
      "application/vnd.plotly.v1+json": {
       "config": {
        "plotlyServerURL": "https://plot.ly"
       },
       "data": [
        {
         "colorscale": [
          [
           0,
           "#00224e"
          ],
          [
           0.1111111111111111,
           "#123570"
          ],
          [
           0.2222222222222222,
           "#3b496c"
          ],
          [
           0.3333333333333333,
           "#575d6d"
          ],
          [
           0.4444444444444444,
           "#707173"
          ],
          [
           0.5555555555555556,
           "#8a8678"
          ],
          [
           0.6666666666666666,
           "#a59c74"
          ],
          [
           0.7777777777777778,
           "#c3b369"
          ],
          [
           0.8888888888888888,
           "#e1cc55"
          ],
          [
           1,
           "#fee838"
          ]
         ],
         "showscale": true,
         "text": [
          [
           1659,
           97,
           35
          ],
          [
           263,
           327,
           46
          ],
          [
           121,
           54,
           278
          ]
         ],
         "textfont": {
          "size": 12
         },
         "texttemplate": "%{text}",
         "type": "heatmap",
         "x": [
          "Negative",
          "Neutral",
          "Positive"
         ],
         "xaxis": "x",
         "y": [
          "Negative",
          "Neutral",
          "Positive"
         ],
         "yaxis": "y",
         "z": [
          [
           1659,
           97,
           35
          ],
          [
           263,
           327,
           46
          ],
          [
           121,
           54,
           278
          ]
         ]
        },
        {
         "cells": {
          "fill": {
           "color": "rgba(0,0,0,0)"
          },
          "values": [
           [
            "Negative",
            "Neutral",
            "Positive",
            "accuracy",
            "macro avg",
            "weighted avg"
           ],
           [
            0.81,
            0.68,
            0.77,
            0.79,
            0.76,
            0.78
           ],
           [
            0.93,
            0.51,
            0.61,
            0.79,
            0.68,
            0.79
           ],
           [
            0.87,
            0.59,
            0.68,
            0.79,
            0.71,
            0.78
           ],
           [
            1791,
            636,
            453,
            0.79,
            2880,
            2880
           ]
          ]
         },
         "domain": {
          "x": [
           0.64,
           1
          ],
          "y": [
           0,
           1
          ]
         },
         "header": {
          "fill": {
           "color": "rgba(0,0,0,0)"
          },
          "values": [
           "precision",
           "recall",
           "f1-score",
           "support"
          ]
         },
         "type": "table"
        }
       ],
       "layout": {
        "annotations": [
         {
          "font": {
           "size": 16
          },
          "showarrow": false,
          "text": "Confusion Matrix",
          "x": 0.27,
          "xanchor": "center",
          "xref": "paper",
          "y": 1,
          "yanchor": "bottom",
          "yref": "paper"
         },
         {
          "font": {
           "size": 16
          },
          "showarrow": false,
          "text": "Classification Report",
          "x": 0.8200000000000001,
          "xanchor": "center",
          "xref": "paper",
          "y": 1,
          "yanchor": "bottom",
          "yref": "paper"
         },
         {
          "font": {
           "color": "rgba(247, 247, 247, 1)",
           "size": 16
          },
          "showarrow": false,
          "text": "Overall Accuracy: 78.61%",
          "x": 0.9,
          "xref": "paper",
          "y": 0.1,
          "yref": "paper"
         }
        ],
        "font": {
         "color": "rgba(247, 247, 247, 1)"
        },
        "height": 500,
        "paper_bgcolor": "rgba(0,0,0,0)",
        "template": {
         "data": {
          "bar": [
           {
            "error_x": {
             "color": "#2a3f5f"
            },
            "error_y": {
             "color": "#2a3f5f"
            },
            "marker": {
             "line": {
              "color": "#E5ECF6",
              "width": 0.5
             },
             "pattern": {
              "fillmode": "overlay",
              "size": 10,
              "solidity": 0.2
             }
            },
            "type": "bar"
           }
          ],
          "barpolar": [
           {
            "marker": {
             "line": {
              "color": "#E5ECF6",
              "width": 0.5
             },
             "pattern": {
              "fillmode": "overlay",
              "size": 10,
              "solidity": 0.2
             }
            },
            "type": "barpolar"
           }
          ],
          "carpet": [
           {
            "aaxis": {
             "endlinecolor": "#2a3f5f",
             "gridcolor": "white",
             "linecolor": "white",
             "minorgridcolor": "white",
             "startlinecolor": "#2a3f5f"
            },
            "baxis": {
             "endlinecolor": "#2a3f5f",
             "gridcolor": "white",
             "linecolor": "white",
             "minorgridcolor": "white",
             "startlinecolor": "#2a3f5f"
            },
            "type": "carpet"
           }
          ],
          "choropleth": [
           {
            "colorbar": {
             "outlinewidth": 0,
             "ticks": ""
            },
            "type": "choropleth"
           }
          ],
          "contour": [
           {
            "colorbar": {
             "outlinewidth": 0,
             "ticks": ""
            },
            "colorscale": [
             [
              0,
              "#0d0887"
             ],
             [
              0.1111111111111111,
              "#46039f"
             ],
             [
              0.2222222222222222,
              "#7201a8"
             ],
             [
              0.3333333333333333,
              "#9c179e"
             ],
             [
              0.4444444444444444,
              "#bd3786"
             ],
             [
              0.5555555555555556,
              "#d8576b"
             ],
             [
              0.6666666666666666,
              "#ed7953"
             ],
             [
              0.7777777777777778,
              "#fb9f3a"
             ],
             [
              0.8888888888888888,
              "#fdca26"
             ],
             [
              1,
              "#f0f921"
             ]
            ],
            "type": "contour"
           }
          ],
          "contourcarpet": [
           {
            "colorbar": {
             "outlinewidth": 0,
             "ticks": ""
            },
            "type": "contourcarpet"
           }
          ],
          "heatmap": [
           {
            "colorbar": {
             "outlinewidth": 0,
             "ticks": ""
            },
            "colorscale": [
             [
              0,
              "#0d0887"
             ],
             [
              0.1111111111111111,
              "#46039f"
             ],
             [
              0.2222222222222222,
              "#7201a8"
             ],
             [
              0.3333333333333333,
              "#9c179e"
             ],
             [
              0.4444444444444444,
              "#bd3786"
             ],
             [
              0.5555555555555556,
              "#d8576b"
             ],
             [
              0.6666666666666666,
              "#ed7953"
             ],
             [
              0.7777777777777778,
              "#fb9f3a"
             ],
             [
              0.8888888888888888,
              "#fdca26"
             ],
             [
              1,
              "#f0f921"
             ]
            ],
            "type": "heatmap"
           }
          ],
          "heatmapgl": [
           {
            "colorbar": {
             "outlinewidth": 0,
             "ticks": ""
            },
            "colorscale": [
             [
              0,
              "#0d0887"
             ],
             [
              0.1111111111111111,
              "#46039f"
             ],
             [
              0.2222222222222222,
              "#7201a8"
             ],
             [
              0.3333333333333333,
              "#9c179e"
             ],
             [
              0.4444444444444444,
              "#bd3786"
             ],
             [
              0.5555555555555556,
              "#d8576b"
             ],
             [
              0.6666666666666666,
              "#ed7953"
             ],
             [
              0.7777777777777778,
              "#fb9f3a"
             ],
             [
              0.8888888888888888,
              "#fdca26"
             ],
             [
              1,
              "#f0f921"
             ]
            ],
            "type": "heatmapgl"
           }
          ],
          "histogram": [
           {
            "marker": {
             "pattern": {
              "fillmode": "overlay",
              "size": 10,
              "solidity": 0.2
             }
            },
            "type": "histogram"
           }
          ],
          "histogram2d": [
           {
            "colorbar": {
             "outlinewidth": 0,
             "ticks": ""
            },
            "colorscale": [
             [
              0,
              "#0d0887"
             ],
             [
              0.1111111111111111,
              "#46039f"
             ],
             [
              0.2222222222222222,
              "#7201a8"
             ],
             [
              0.3333333333333333,
              "#9c179e"
             ],
             [
              0.4444444444444444,
              "#bd3786"
             ],
             [
              0.5555555555555556,
              "#d8576b"
             ],
             [
              0.6666666666666666,
              "#ed7953"
             ],
             [
              0.7777777777777778,
              "#fb9f3a"
             ],
             [
              0.8888888888888888,
              "#fdca26"
             ],
             [
              1,
              "#f0f921"
             ]
            ],
            "type": "histogram2d"
           }
          ],
          "histogram2dcontour": [
           {
            "colorbar": {
             "outlinewidth": 0,
             "ticks": ""
            },
            "colorscale": [
             [
              0,
              "#0d0887"
             ],
             [
              0.1111111111111111,
              "#46039f"
             ],
             [
              0.2222222222222222,
              "#7201a8"
             ],
             [
              0.3333333333333333,
              "#9c179e"
             ],
             [
              0.4444444444444444,
              "#bd3786"
             ],
             [
              0.5555555555555556,
              "#d8576b"
             ],
             [
              0.6666666666666666,
              "#ed7953"
             ],
             [
              0.7777777777777778,
              "#fb9f3a"
             ],
             [
              0.8888888888888888,
              "#fdca26"
             ],
             [
              1,
              "#f0f921"
             ]
            ],
            "type": "histogram2dcontour"
           }
          ],
          "mesh3d": [
           {
            "colorbar": {
             "outlinewidth": 0,
             "ticks": ""
            },
            "type": "mesh3d"
           }
          ],
          "parcoords": [
           {
            "line": {
             "colorbar": {
              "outlinewidth": 0,
              "ticks": ""
             }
            },
            "type": "parcoords"
           }
          ],
          "pie": [
           {
            "automargin": true,
            "type": "pie"
           }
          ],
          "scatter": [
           {
            "fillpattern": {
             "fillmode": "overlay",
             "size": 10,
             "solidity": 0.2
            },
            "type": "scatter"
           }
          ],
          "scatter3d": [
           {
            "line": {
             "colorbar": {
              "outlinewidth": 0,
              "ticks": ""
             }
            },
            "marker": {
             "colorbar": {
              "outlinewidth": 0,
              "ticks": ""
             }
            },
            "type": "scatter3d"
           }
          ],
          "scattercarpet": [
           {
            "marker": {
             "colorbar": {
              "outlinewidth": 0,
              "ticks": ""
             }
            },
            "type": "scattercarpet"
           }
          ],
          "scattergeo": [
           {
            "marker": {
             "colorbar": {
              "outlinewidth": 0,
              "ticks": ""
             }
            },
            "type": "scattergeo"
           }
          ],
          "scattergl": [
           {
            "marker": {
             "colorbar": {
              "outlinewidth": 0,
              "ticks": ""
             }
            },
            "type": "scattergl"
           }
          ],
          "scattermapbox": [
           {
            "marker": {
             "colorbar": {
              "outlinewidth": 0,
              "ticks": ""
             }
            },
            "type": "scattermapbox"
           }
          ],
          "scatterpolar": [
           {
            "marker": {
             "colorbar": {
              "outlinewidth": 0,
              "ticks": ""
             }
            },
            "type": "scatterpolar"
           }
          ],
          "scatterpolargl": [
           {
            "marker": {
             "colorbar": {
              "outlinewidth": 0,
              "ticks": ""
             }
            },
            "type": "scatterpolargl"
           }
          ],
          "scatterternary": [
           {
            "marker": {
             "colorbar": {
              "outlinewidth": 0,
              "ticks": ""
             }
            },
            "type": "scatterternary"
           }
          ],
          "surface": [
           {
            "colorbar": {
             "outlinewidth": 0,
             "ticks": ""
            },
            "colorscale": [
             [
              0,
              "#0d0887"
             ],
             [
              0.1111111111111111,
              "#46039f"
             ],
             [
              0.2222222222222222,
              "#7201a8"
             ],
             [
              0.3333333333333333,
              "#9c179e"
             ],
             [
              0.4444444444444444,
              "#bd3786"
             ],
             [
              0.5555555555555556,
              "#d8576b"
             ],
             [
              0.6666666666666666,
              "#ed7953"
             ],
             [
              0.7777777777777778,
              "#fb9f3a"
             ],
             [
              0.8888888888888888,
              "#fdca26"
             ],
             [
              1,
              "#f0f921"
             ]
            ],
            "type": "surface"
           }
          ],
          "table": [
           {
            "cells": {
             "fill": {
              "color": "#EBF0F8"
             },
             "line": {
              "color": "white"
             }
            },
            "header": {
             "fill": {
              "color": "#C8D4E3"
             },
             "line": {
              "color": "white"
             }
            },
            "type": "table"
           }
          ]
         },
         "layout": {
          "annotationdefaults": {
           "arrowcolor": "#2a3f5f",
           "arrowhead": 0,
           "arrowwidth": 1
          },
          "autotypenumbers": "strict",
          "coloraxis": {
           "colorbar": {
            "outlinewidth": 0,
            "ticks": ""
           }
          },
          "colorscale": {
           "diverging": [
            [
             0,
             "#8e0152"
            ],
            [
             0.1,
             "#c51b7d"
            ],
            [
             0.2,
             "#de77ae"
            ],
            [
             0.3,
             "#f1b6da"
            ],
            [
             0.4,
             "#fde0ef"
            ],
            [
             0.5,
             "#f7f7f7"
            ],
            [
             0.6,
             "#e6f5d0"
            ],
            [
             0.7,
             "#b8e186"
            ],
            [
             0.8,
             "#7fbc41"
            ],
            [
             0.9,
             "#4d9221"
            ],
            [
             1,
             "#276419"
            ]
           ],
           "sequential": [
            [
             0,
             "#0d0887"
            ],
            [
             0.1111111111111111,
             "#46039f"
            ],
            [
             0.2222222222222222,
             "#7201a8"
            ],
            [
             0.3333333333333333,
             "#9c179e"
            ],
            [
             0.4444444444444444,
             "#bd3786"
            ],
            [
             0.5555555555555556,
             "#d8576b"
            ],
            [
             0.6666666666666666,
             "#ed7953"
            ],
            [
             0.7777777777777778,
             "#fb9f3a"
            ],
            [
             0.8888888888888888,
             "#fdca26"
            ],
            [
             1,
             "#f0f921"
            ]
           ],
           "sequentialminus": [
            [
             0,
             "#0d0887"
            ],
            [
             0.1111111111111111,
             "#46039f"
            ],
            [
             0.2222222222222222,
             "#7201a8"
            ],
            [
             0.3333333333333333,
             "#9c179e"
            ],
            [
             0.4444444444444444,
             "#bd3786"
            ],
            [
             0.5555555555555556,
             "#d8576b"
            ],
            [
             0.6666666666666666,
             "#ed7953"
            ],
            [
             0.7777777777777778,
             "#fb9f3a"
            ],
            [
             0.8888888888888888,
             "#fdca26"
            ],
            [
             1,
             "#f0f921"
            ]
           ]
          },
          "colorway": [
           "#636efa",
           "#EF553B",
           "#00cc96",
           "#ab63fa",
           "#FFA15A",
           "#19d3f3",
           "#FF6692",
           "#B6E880",
           "#FF97FF",
           "#FECB52"
          ],
          "font": {
           "color": "#2a3f5f"
          },
          "geo": {
           "bgcolor": "white",
           "lakecolor": "white",
           "landcolor": "#E5ECF6",
           "showlakes": true,
           "showland": true,
           "subunitcolor": "white"
          },
          "hoverlabel": {
           "align": "left"
          },
          "hovermode": "closest",
          "mapbox": {
           "style": "light"
          },
          "paper_bgcolor": "white",
          "plot_bgcolor": "#E5ECF6",
          "polar": {
           "angularaxis": {
            "gridcolor": "white",
            "linecolor": "white",
            "ticks": ""
           },
           "bgcolor": "#E5ECF6",
           "radialaxis": {
            "gridcolor": "white",
            "linecolor": "white",
            "ticks": ""
           }
          },
          "scene": {
           "xaxis": {
            "backgroundcolor": "#E5ECF6",
            "gridcolor": "white",
            "gridwidth": 2,
            "linecolor": "white",
            "showbackground": true,
            "ticks": "",
            "zerolinecolor": "white"
           },
           "yaxis": {
            "backgroundcolor": "#E5ECF6",
            "gridcolor": "white",
            "gridwidth": 2,
            "linecolor": "white",
            "showbackground": true,
            "ticks": "",
            "zerolinecolor": "white"
           },
           "zaxis": {
            "backgroundcolor": "#E5ECF6",
            "gridcolor": "white",
            "gridwidth": 2,
            "linecolor": "white",
            "showbackground": true,
            "ticks": "",
            "zerolinecolor": "white"
           }
          },
          "shapedefaults": {
           "line": {
            "color": "#2a3f5f"
           }
          },
          "ternary": {
           "aaxis": {
            "gridcolor": "white",
            "linecolor": "white",
            "ticks": ""
           },
           "baxis": {
            "gridcolor": "white",
            "linecolor": "white",
            "ticks": ""
           },
           "bgcolor": "#E5ECF6",
           "caxis": {
            "gridcolor": "white",
            "linecolor": "white",
            "ticks": ""
           }
          },
          "title": {
           "x": 0.05
          },
          "xaxis": {
           "automargin": true,
           "gridcolor": "white",
           "linecolor": "white",
           "ticks": "",
           "title": {
            "standoff": 15
           },
           "zerolinecolor": "white",
           "zerolinewidth": 2
          },
          "yaxis": {
           "automargin": true,
           "gridcolor": "white",
           "linecolor": "white",
           "ticks": "",
           "title": {
            "standoff": 15
           },
           "zerolinecolor": "white",
           "zerolinewidth": 2
          }
         }
        },
        "title": {
         "text": "Confusion Matrix with Classification Report"
        },
        "width": 1200,
        "xaxis": {
         "anchor": "y",
         "domain": [
          0,
          0.54
         ]
        },
        "yaxis": {
         "anchor": "x",
         "domain": [
          0,
          1
         ]
        }
       }
      }
     },
     "metadata": {},
     "output_type": "display_data"
    },
    {
     "name": "stdout",
     "output_type": "stream",
     "text": [
      "Macro-average ROC-AUC Score with Hyperparameterized Unigram TF-IDF: 0.8795\n"
     ]
    }
   ],
   "source": [
    "# Base model | Hyperparameterized Unigram\n",
    "random.seed(10)\n",
    "\n",
    "text = tweets['cleaned_text_stopwords'].values\n",
    "labels = tweets['airline_sentiment'].values\n",
    "\n",
    "# Split the data into training and testing sets\n",
    "text_train, text_test, labels_train, labels_test = train_test_split(text, labels, test_size=0.2, random_state=42)\n",
    "\n",
    "# TF-IDF Vectorization\n",
    "vectorizer = TfidfVectorizer(max_features=1000, ngram_range=(1, 1))\n",
    "X_train_tfidf = vectorizer.fit_transform(text_train)\n",
    "X_test_tfidf = vectorizer.transform(text_test)\n",
    "\n",
    "# Hyperparameter tuning using Grid Search for Unigram TF-IDF\n",
    "param_grid = {'C': [0.1, 1, 10, 100], 'kernel': ['linear', 'poly', 'rbf'], 'gamma': ['scale', 'auto']}\n",
    "svm_model_unigram = SVC()\n",
    "grid_search_unigram = GridSearchCV(svm_model_unigram, param_grid, cv=3, n_jobs=1)\n",
    "grid_search_unigram.fit(X_train_tfidf, labels_train)\n",
    "\n",
    "print(\"Best Parameters:\", grid_search_unigram.best_params_)\n",
    "\n",
    "# Training on the chosen parameters\n",
    "best_svm_model_unigram = grid_search_unigram.best_estimator_\n",
    "best_svm_model_unigram.fit(X_train_tfidf, labels_train)\n",
    "\n",
    "# Making predictions\n",
    "y_pred_unigram = best_svm_model_unigram.predict(X_test_tfidf)\n",
    "\n",
    "# Model evaluation\n",
    "accuracy_unigram = accuracy_score(labels_test, y_pred_unigram)\n",
    "print(f'Accuracy with Hyperparameterized Unigram TF-IDF: {accuracy_unigram:.4f}')\n",
    "\n",
    "# Classification Report\n",
    "print('\\nClassification Report with Hyperparameterized Unigram TF-IDF:')\n",
    "print(classification_report(labels_test, y_pred_unigram, digits=4))\n",
    "\n",
    "# Confusion Matrix\n",
    "cm_unigram = confusion_matrix(labels_test, y_pred_unigram)\n",
    "plot_confusion_matrix_with_classification_report(cm_unigram, [\"Negative\", \"Neutral\", \"Positive\"], labels_test, y_pred_unigram)\n",
    "\n",
    "# ROC-AUC Score\n",
    "y_pred_proba_unigram = best_svm_model_unigram.decision_function(X_test_tfidf)\n",
    "y_true_binary_unigram = label_binarize(labels_test, classes=np.unique(labels))\n",
    "\n",
    "roc_auc_scores_unigram = []\n",
    "\n",
    "for i in range(len(np.unique(labels))):\n",
    "    binary_labels_unigram = y_true_binary_unigram[:, i]\n",
    "    roc_auc_unigram = roc_auc_score(binary_labels_unigram, y_pred_proba_unigram[:, i])\n",
    "    roc_auc_scores_unigram.append(roc_auc_unigram)\n",
    "\n",
    "roc_auc_macro_unigram = np.mean(roc_auc_scores_unigram)\n",
    "print(f'Macro-average ROC-AUC Score with Hyperparameterized Unigram TF-IDF: {roc_auc_macro_unigram:.4f}')"
   ]
  },
  {
   "cell_type": "code",
   "execution_count": 391,
   "metadata": {},
   "outputs": [
    {
     "name": "stdout",
     "output_type": "stream",
     "text": [
      "Best Parameters: {'C': 100, 'gamma': 'scale', 'kernel': 'rbf'}\n",
      "Accuracy with Hyperparameterized Bigram TF-IDF: 0.7889\n",
      "\n",
      "Classification Report with Hyperparameterized Bnigram TF-IDF:\n",
      "              precision    recall  f1-score   support\n",
      "\n",
      "    negative     0.8183    0.9252    0.8684      1791\n",
      "     neutral     0.6733    0.5283    0.5921       636\n",
      "    positive     0.7837    0.6159    0.6897       453\n",
      "\n",
      "    accuracy                         0.7889      2880\n",
      "   macro avg     0.7584    0.6898    0.7168      2880\n",
      "weighted avg     0.7808    0.7889    0.7793      2880\n",
      "\n"
     ]
    },
    {
     "data": {
      "application/vnd.plotly.v1+json": {
       "config": {
        "plotlyServerURL": "https://plot.ly"
       },
       "data": [
        {
         "colorscale": [
          [
           0,
           "#00224e"
          ],
          [
           0.1111111111111111,
           "#123570"
          ],
          [
           0.2222222222222222,
           "#3b496c"
          ],
          [
           0.3333333333333333,
           "#575d6d"
          ],
          [
           0.4444444444444444,
           "#707173"
          ],
          [
           0.5555555555555556,
           "#8a8678"
          ],
          [
           0.6666666666666666,
           "#a59c74"
          ],
          [
           0.7777777777777778,
           "#c3b369"
          ],
          [
           0.8888888888888888,
           "#e1cc55"
          ],
          [
           1,
           "#fee838"
          ]
         ],
         "showscale": true,
         "text": [
          [
           1657,
           103,
           31
          ],
          [
           254,
           336,
           46
          ],
          [
           114,
           60,
           279
          ]
         ],
         "textfont": {
          "size": 12
         },
         "texttemplate": "%{text}",
         "type": "heatmap",
         "x": [
          "Negative",
          "Neutral",
          "Positive"
         ],
         "xaxis": "x",
         "y": [
          "Negative",
          "Neutral",
          "Positive"
         ],
         "yaxis": "y",
         "z": [
          [
           1657,
           103,
           31
          ],
          [
           254,
           336,
           46
          ],
          [
           114,
           60,
           279
          ]
         ]
        },
        {
         "cells": {
          "fill": {
           "color": "rgba(0,0,0,0)"
          },
          "values": [
           [
            "Negative",
            "Neutral",
            "Positive",
            "accuracy",
            "macro avg",
            "weighted avg"
           ],
           [
            0.82,
            0.67,
            0.78,
            0.79,
            0.76,
            0.78
           ],
           [
            0.93,
            0.53,
            0.62,
            0.79,
            0.69,
            0.79
           ],
           [
            0.87,
            0.59,
            0.69,
            0.79,
            0.72,
            0.78
           ],
           [
            1791,
            636,
            453,
            0.79,
            2880,
            2880
           ]
          ]
         },
         "domain": {
          "x": [
           0.64,
           1
          ],
          "y": [
           0,
           1
          ]
         },
         "header": {
          "fill": {
           "color": "rgba(0,0,0,0)"
          },
          "values": [
           "precision",
           "recall",
           "f1-score",
           "support"
          ]
         },
         "type": "table"
        }
       ],
       "layout": {
        "annotations": [
         {
          "font": {
           "size": 16
          },
          "showarrow": false,
          "text": "Confusion Matrix",
          "x": 0.27,
          "xanchor": "center",
          "xref": "paper",
          "y": 1,
          "yanchor": "bottom",
          "yref": "paper"
         },
         {
          "font": {
           "size": 16
          },
          "showarrow": false,
          "text": "Classification Report",
          "x": 0.8200000000000001,
          "xanchor": "center",
          "xref": "paper",
          "y": 1,
          "yanchor": "bottom",
          "yref": "paper"
         },
         {
          "font": {
           "color": "rgba(247, 247, 247, 1)",
           "size": 16
          },
          "showarrow": false,
          "text": "Overall Accuracy: 78.89%",
          "x": 0.9,
          "xref": "paper",
          "y": 0.1,
          "yref": "paper"
         }
        ],
        "font": {
         "color": "rgba(247, 247, 247, 1)"
        },
        "height": 500,
        "paper_bgcolor": "rgba(0,0,0,0)",
        "template": {
         "data": {
          "bar": [
           {
            "error_x": {
             "color": "#2a3f5f"
            },
            "error_y": {
             "color": "#2a3f5f"
            },
            "marker": {
             "line": {
              "color": "#E5ECF6",
              "width": 0.5
             },
             "pattern": {
              "fillmode": "overlay",
              "size": 10,
              "solidity": 0.2
             }
            },
            "type": "bar"
           }
          ],
          "barpolar": [
           {
            "marker": {
             "line": {
              "color": "#E5ECF6",
              "width": 0.5
             },
             "pattern": {
              "fillmode": "overlay",
              "size": 10,
              "solidity": 0.2
             }
            },
            "type": "barpolar"
           }
          ],
          "carpet": [
           {
            "aaxis": {
             "endlinecolor": "#2a3f5f",
             "gridcolor": "white",
             "linecolor": "white",
             "minorgridcolor": "white",
             "startlinecolor": "#2a3f5f"
            },
            "baxis": {
             "endlinecolor": "#2a3f5f",
             "gridcolor": "white",
             "linecolor": "white",
             "minorgridcolor": "white",
             "startlinecolor": "#2a3f5f"
            },
            "type": "carpet"
           }
          ],
          "choropleth": [
           {
            "colorbar": {
             "outlinewidth": 0,
             "ticks": ""
            },
            "type": "choropleth"
           }
          ],
          "contour": [
           {
            "colorbar": {
             "outlinewidth": 0,
             "ticks": ""
            },
            "colorscale": [
             [
              0,
              "#0d0887"
             ],
             [
              0.1111111111111111,
              "#46039f"
             ],
             [
              0.2222222222222222,
              "#7201a8"
             ],
             [
              0.3333333333333333,
              "#9c179e"
             ],
             [
              0.4444444444444444,
              "#bd3786"
             ],
             [
              0.5555555555555556,
              "#d8576b"
             ],
             [
              0.6666666666666666,
              "#ed7953"
             ],
             [
              0.7777777777777778,
              "#fb9f3a"
             ],
             [
              0.8888888888888888,
              "#fdca26"
             ],
             [
              1,
              "#f0f921"
             ]
            ],
            "type": "contour"
           }
          ],
          "contourcarpet": [
           {
            "colorbar": {
             "outlinewidth": 0,
             "ticks": ""
            },
            "type": "contourcarpet"
           }
          ],
          "heatmap": [
           {
            "colorbar": {
             "outlinewidth": 0,
             "ticks": ""
            },
            "colorscale": [
             [
              0,
              "#0d0887"
             ],
             [
              0.1111111111111111,
              "#46039f"
             ],
             [
              0.2222222222222222,
              "#7201a8"
             ],
             [
              0.3333333333333333,
              "#9c179e"
             ],
             [
              0.4444444444444444,
              "#bd3786"
             ],
             [
              0.5555555555555556,
              "#d8576b"
             ],
             [
              0.6666666666666666,
              "#ed7953"
             ],
             [
              0.7777777777777778,
              "#fb9f3a"
             ],
             [
              0.8888888888888888,
              "#fdca26"
             ],
             [
              1,
              "#f0f921"
             ]
            ],
            "type": "heatmap"
           }
          ],
          "heatmapgl": [
           {
            "colorbar": {
             "outlinewidth": 0,
             "ticks": ""
            },
            "colorscale": [
             [
              0,
              "#0d0887"
             ],
             [
              0.1111111111111111,
              "#46039f"
             ],
             [
              0.2222222222222222,
              "#7201a8"
             ],
             [
              0.3333333333333333,
              "#9c179e"
             ],
             [
              0.4444444444444444,
              "#bd3786"
             ],
             [
              0.5555555555555556,
              "#d8576b"
             ],
             [
              0.6666666666666666,
              "#ed7953"
             ],
             [
              0.7777777777777778,
              "#fb9f3a"
             ],
             [
              0.8888888888888888,
              "#fdca26"
             ],
             [
              1,
              "#f0f921"
             ]
            ],
            "type": "heatmapgl"
           }
          ],
          "histogram": [
           {
            "marker": {
             "pattern": {
              "fillmode": "overlay",
              "size": 10,
              "solidity": 0.2
             }
            },
            "type": "histogram"
           }
          ],
          "histogram2d": [
           {
            "colorbar": {
             "outlinewidth": 0,
             "ticks": ""
            },
            "colorscale": [
             [
              0,
              "#0d0887"
             ],
             [
              0.1111111111111111,
              "#46039f"
             ],
             [
              0.2222222222222222,
              "#7201a8"
             ],
             [
              0.3333333333333333,
              "#9c179e"
             ],
             [
              0.4444444444444444,
              "#bd3786"
             ],
             [
              0.5555555555555556,
              "#d8576b"
             ],
             [
              0.6666666666666666,
              "#ed7953"
             ],
             [
              0.7777777777777778,
              "#fb9f3a"
             ],
             [
              0.8888888888888888,
              "#fdca26"
             ],
             [
              1,
              "#f0f921"
             ]
            ],
            "type": "histogram2d"
           }
          ],
          "histogram2dcontour": [
           {
            "colorbar": {
             "outlinewidth": 0,
             "ticks": ""
            },
            "colorscale": [
             [
              0,
              "#0d0887"
             ],
             [
              0.1111111111111111,
              "#46039f"
             ],
             [
              0.2222222222222222,
              "#7201a8"
             ],
             [
              0.3333333333333333,
              "#9c179e"
             ],
             [
              0.4444444444444444,
              "#bd3786"
             ],
             [
              0.5555555555555556,
              "#d8576b"
             ],
             [
              0.6666666666666666,
              "#ed7953"
             ],
             [
              0.7777777777777778,
              "#fb9f3a"
             ],
             [
              0.8888888888888888,
              "#fdca26"
             ],
             [
              1,
              "#f0f921"
             ]
            ],
            "type": "histogram2dcontour"
           }
          ],
          "mesh3d": [
           {
            "colorbar": {
             "outlinewidth": 0,
             "ticks": ""
            },
            "type": "mesh3d"
           }
          ],
          "parcoords": [
           {
            "line": {
             "colorbar": {
              "outlinewidth": 0,
              "ticks": ""
             }
            },
            "type": "parcoords"
           }
          ],
          "pie": [
           {
            "automargin": true,
            "type": "pie"
           }
          ],
          "scatter": [
           {
            "fillpattern": {
             "fillmode": "overlay",
             "size": 10,
             "solidity": 0.2
            },
            "type": "scatter"
           }
          ],
          "scatter3d": [
           {
            "line": {
             "colorbar": {
              "outlinewidth": 0,
              "ticks": ""
             }
            },
            "marker": {
             "colorbar": {
              "outlinewidth": 0,
              "ticks": ""
             }
            },
            "type": "scatter3d"
           }
          ],
          "scattercarpet": [
           {
            "marker": {
             "colorbar": {
              "outlinewidth": 0,
              "ticks": ""
             }
            },
            "type": "scattercarpet"
           }
          ],
          "scattergeo": [
           {
            "marker": {
             "colorbar": {
              "outlinewidth": 0,
              "ticks": ""
             }
            },
            "type": "scattergeo"
           }
          ],
          "scattergl": [
           {
            "marker": {
             "colorbar": {
              "outlinewidth": 0,
              "ticks": ""
             }
            },
            "type": "scattergl"
           }
          ],
          "scattermapbox": [
           {
            "marker": {
             "colorbar": {
              "outlinewidth": 0,
              "ticks": ""
             }
            },
            "type": "scattermapbox"
           }
          ],
          "scatterpolar": [
           {
            "marker": {
             "colorbar": {
              "outlinewidth": 0,
              "ticks": ""
             }
            },
            "type": "scatterpolar"
           }
          ],
          "scatterpolargl": [
           {
            "marker": {
             "colorbar": {
              "outlinewidth": 0,
              "ticks": ""
             }
            },
            "type": "scatterpolargl"
           }
          ],
          "scatterternary": [
           {
            "marker": {
             "colorbar": {
              "outlinewidth": 0,
              "ticks": ""
             }
            },
            "type": "scatterternary"
           }
          ],
          "surface": [
           {
            "colorbar": {
             "outlinewidth": 0,
             "ticks": ""
            },
            "colorscale": [
             [
              0,
              "#0d0887"
             ],
             [
              0.1111111111111111,
              "#46039f"
             ],
             [
              0.2222222222222222,
              "#7201a8"
             ],
             [
              0.3333333333333333,
              "#9c179e"
             ],
             [
              0.4444444444444444,
              "#bd3786"
             ],
             [
              0.5555555555555556,
              "#d8576b"
             ],
             [
              0.6666666666666666,
              "#ed7953"
             ],
             [
              0.7777777777777778,
              "#fb9f3a"
             ],
             [
              0.8888888888888888,
              "#fdca26"
             ],
             [
              1,
              "#f0f921"
             ]
            ],
            "type": "surface"
           }
          ],
          "table": [
           {
            "cells": {
             "fill": {
              "color": "#EBF0F8"
             },
             "line": {
              "color": "white"
             }
            },
            "header": {
             "fill": {
              "color": "#C8D4E3"
             },
             "line": {
              "color": "white"
             }
            },
            "type": "table"
           }
          ]
         },
         "layout": {
          "annotationdefaults": {
           "arrowcolor": "#2a3f5f",
           "arrowhead": 0,
           "arrowwidth": 1
          },
          "autotypenumbers": "strict",
          "coloraxis": {
           "colorbar": {
            "outlinewidth": 0,
            "ticks": ""
           }
          },
          "colorscale": {
           "diverging": [
            [
             0,
             "#8e0152"
            ],
            [
             0.1,
             "#c51b7d"
            ],
            [
             0.2,
             "#de77ae"
            ],
            [
             0.3,
             "#f1b6da"
            ],
            [
             0.4,
             "#fde0ef"
            ],
            [
             0.5,
             "#f7f7f7"
            ],
            [
             0.6,
             "#e6f5d0"
            ],
            [
             0.7,
             "#b8e186"
            ],
            [
             0.8,
             "#7fbc41"
            ],
            [
             0.9,
             "#4d9221"
            ],
            [
             1,
             "#276419"
            ]
           ],
           "sequential": [
            [
             0,
             "#0d0887"
            ],
            [
             0.1111111111111111,
             "#46039f"
            ],
            [
             0.2222222222222222,
             "#7201a8"
            ],
            [
             0.3333333333333333,
             "#9c179e"
            ],
            [
             0.4444444444444444,
             "#bd3786"
            ],
            [
             0.5555555555555556,
             "#d8576b"
            ],
            [
             0.6666666666666666,
             "#ed7953"
            ],
            [
             0.7777777777777778,
             "#fb9f3a"
            ],
            [
             0.8888888888888888,
             "#fdca26"
            ],
            [
             1,
             "#f0f921"
            ]
           ],
           "sequentialminus": [
            [
             0,
             "#0d0887"
            ],
            [
             0.1111111111111111,
             "#46039f"
            ],
            [
             0.2222222222222222,
             "#7201a8"
            ],
            [
             0.3333333333333333,
             "#9c179e"
            ],
            [
             0.4444444444444444,
             "#bd3786"
            ],
            [
             0.5555555555555556,
             "#d8576b"
            ],
            [
             0.6666666666666666,
             "#ed7953"
            ],
            [
             0.7777777777777778,
             "#fb9f3a"
            ],
            [
             0.8888888888888888,
             "#fdca26"
            ],
            [
             1,
             "#f0f921"
            ]
           ]
          },
          "colorway": [
           "#636efa",
           "#EF553B",
           "#00cc96",
           "#ab63fa",
           "#FFA15A",
           "#19d3f3",
           "#FF6692",
           "#B6E880",
           "#FF97FF",
           "#FECB52"
          ],
          "font": {
           "color": "#2a3f5f"
          },
          "geo": {
           "bgcolor": "white",
           "lakecolor": "white",
           "landcolor": "#E5ECF6",
           "showlakes": true,
           "showland": true,
           "subunitcolor": "white"
          },
          "hoverlabel": {
           "align": "left"
          },
          "hovermode": "closest",
          "mapbox": {
           "style": "light"
          },
          "paper_bgcolor": "white",
          "plot_bgcolor": "#E5ECF6",
          "polar": {
           "angularaxis": {
            "gridcolor": "white",
            "linecolor": "white",
            "ticks": ""
           },
           "bgcolor": "#E5ECF6",
           "radialaxis": {
            "gridcolor": "white",
            "linecolor": "white",
            "ticks": ""
           }
          },
          "scene": {
           "xaxis": {
            "backgroundcolor": "#E5ECF6",
            "gridcolor": "white",
            "gridwidth": 2,
            "linecolor": "white",
            "showbackground": true,
            "ticks": "",
            "zerolinecolor": "white"
           },
           "yaxis": {
            "backgroundcolor": "#E5ECF6",
            "gridcolor": "white",
            "gridwidth": 2,
            "linecolor": "white",
            "showbackground": true,
            "ticks": "",
            "zerolinecolor": "white"
           },
           "zaxis": {
            "backgroundcolor": "#E5ECF6",
            "gridcolor": "white",
            "gridwidth": 2,
            "linecolor": "white",
            "showbackground": true,
            "ticks": "",
            "zerolinecolor": "white"
           }
          },
          "shapedefaults": {
           "line": {
            "color": "#2a3f5f"
           }
          },
          "ternary": {
           "aaxis": {
            "gridcolor": "white",
            "linecolor": "white",
            "ticks": ""
           },
           "baxis": {
            "gridcolor": "white",
            "linecolor": "white",
            "ticks": ""
           },
           "bgcolor": "#E5ECF6",
           "caxis": {
            "gridcolor": "white",
            "linecolor": "white",
            "ticks": ""
           }
          },
          "title": {
           "x": 0.05
          },
          "xaxis": {
           "automargin": true,
           "gridcolor": "white",
           "linecolor": "white",
           "ticks": "",
           "title": {
            "standoff": 15
           },
           "zerolinecolor": "white",
           "zerolinewidth": 2
          },
          "yaxis": {
           "automargin": true,
           "gridcolor": "white",
           "linecolor": "white",
           "ticks": "",
           "title": {
            "standoff": 15
           },
           "zerolinecolor": "white",
           "zerolinewidth": 2
          }
         }
        },
        "title": {
         "text": "Confusion Matrix with Classification Report"
        },
        "width": 1200,
        "xaxis": {
         "anchor": "y",
         "domain": [
          0,
          0.54
         ]
        },
        "yaxis": {
         "anchor": "x",
         "domain": [
          0,
          1
         ]
        }
       }
      }
     },
     "metadata": {},
     "output_type": "display_data"
    },
    {
     "name": "stdout",
     "output_type": "stream",
     "text": [
      "Macro-average ROC-AUC Score with Hyperparameterized Bigram TF-IDF: 0.8796\n"
     ]
    }
   ],
   "source": [
    "# Base model | Hyperparameterized Bigram\n",
    "random.seed(10)\n",
    "\n",
    "text = tweets['cleaned_text_stopwords'].values\n",
    "labels = tweets['airline_sentiment'].values\n",
    "\n",
    "# Split the data into training and testing sets\n",
    "text_train, text_test, labels_train, labels_test = train_test_split(text, labels, test_size=0.2, random_state=42)\n",
    "\n",
    "# TF-IDF Vectorization\n",
    "vectorizer = TfidfVectorizer(max_features=1000, ngram_range=(1, 2))\n",
    "X_train_tfidf = vectorizer.fit_transform(text_train)\n",
    "X_test_tfidf = vectorizer.transform(text_test)\n",
    "\n",
    "# Hyperparameter tuning using Grid Search for Bigram TF-IDF\n",
    "param_grid = {'C': [0.1, 1, 10, 100], 'kernel': ['linear', 'poly', 'rbf'], 'gamma': ['scale', 'auto']}\n",
    "svm_model_bigram = SVC()\n",
    "grid_search_bigram = GridSearchCV(svm_model_bigram, param_grid, cv=3, n_jobs=1)\n",
    "grid_search_bigram.fit(X_train_tfidf, labels_train)\n",
    "\n",
    "print(\"Best Parameters:\", grid_search_bigram.best_params_)\n",
    "\n",
    "# Training on the chosen parameters\n",
    "best_svm_model_bigram = grid_search_bigram.best_estimator_\n",
    "best_svm_model_bigram.fit(X_train_tfidf, labels_train)\n",
    "\n",
    "# Making predictions\n",
    "y_pred_bigram = best_svm_model_bigram.predict(X_test_tfidf)\n",
    "\n",
    "# Model evaluation\n",
    "accuracy_bigram = accuracy_score(labels_test, y_pred_bigram)\n",
    "print(f'Accuracy with Hyperparameterized Bigram TF-IDF: {accuracy_bigram:.4f}')\n",
    "\n",
    "# Classification Report\n",
    "print('\\nClassification Report with Hyperparameterized Bnigram TF-IDF:')\n",
    "print(classification_report(labels_test, y_pred_bigram, digits=4))\n",
    "\n",
    "# Confusion Matrix\n",
    "cm_bigram = confusion_matrix(labels_test, y_pred_bigram)\n",
    "plot_confusion_matrix_with_classification_report(cm_bigram, [\"Negative\", \"Neutral\", \"Positive\"], labels_test, y_pred_bigram)\n",
    "\n",
    "# ROC-AUC Score\n",
    "y_pred_proba_bigram = best_svm_model_bigram.decision_function(X_test_tfidf)\n",
    "y_true_binary_bigram = label_binarize(labels_test, classes=np.unique(labels))\n",
    "\n",
    "roc_auc_scores_bigram = []\n",
    "\n",
    "for i in range(len(np.unique(labels))):\n",
    "    binary_labels_bigram = y_true_binary_bigram[:, i]\n",
    "    roc_auc_bigram = roc_auc_score(binary_labels_bigram, y_pred_proba_bigram[:, i])\n",
    "    roc_auc_scores_bigram.append(roc_auc_bigram)\n",
    "\n",
    "roc_auc_macro_bigram = np.mean(roc_auc_scores_bigram)\n",
    "print(f'Macro-average ROC-AUC Score with Hyperparameterized Bigram TF-IDF: {roc_auc_macro_bigram:.4f}')\n"
   ]
  },
  {
   "cell_type": "code",
   "execution_count": 393,
   "metadata": {},
   "outputs": [
    {
     "name": "stderr",
     "output_type": "stream",
     "text": [
      "/Users/fish/opt/anaconda3/lib/python3.9/site-packages/sklearn/model_selection/_validation.py:372: FitFailedWarning:\n",
      "\n",
      "\n",
      "36 fits failed out of a total of 54.\n",
      "The score on these train-test partitions for these parameters will be set to nan.\n",
      "If these failures are not expected, you can try to debug them by setting error_score='raise'.\n",
      "\n",
      "Below are more details about the failures:\n",
      "--------------------------------------------------------------------------------\n",
      "36 fits failed with the following error:\n",
      "Traceback (most recent call last):\n",
      "  File \"/Users/fish/opt/anaconda3/lib/python3.9/site-packages/sklearn/model_selection/_validation.py\", line 680, in _fit_and_score\n",
      "    estimator.fit(X_train, y_train, **fit_params)\n",
      "  File \"/Users/fish/opt/anaconda3/lib/python3.9/site-packages/sklearnex/svm/nusvc.py\", line 84, in fit\n",
      "    dispatch(self, 'svm.NuSVC.fit', {\n",
      "  File \"/Users/fish/opt/anaconda3/lib/python3.9/site-packages/sklearnex/_device_offload.py\", line 159, in dispatch\n",
      "    return branches[backend](obj, *hostargs, **hostkwargs, queue=q)\n",
      "  File \"/Users/fish/opt/anaconda3/lib/python3.9/site-packages/sklearnex/svm/nusvc.py\", line 197, in _onedal_fit\n",
      "    self._onedal_estimator.fit(X, y, sample_weight, queue=queue)\n",
      "  File \"/Users/fish/opt/anaconda3/lib/python3.9/site-packages/onedal/svm/svm.py\", line 456, in fit\n",
      "    return super()._fit(X, y, sample_weight, _backend.svm.nu_classification, queue)\n",
      "  File \"/Users/fish/opt/anaconda3/lib/python3.9/site-packages/onedal/svm/svm.py\", line 198, in _fit\n",
      "    sample_weight = self._get_sample_weight(X, y, sample_weight)\n",
      "  File \"/Users/fish/opt/anaconda3/lib/python3.9/site-packages/onedal/svm/svm.py\", line 142, in _get_sample_weight\n",
      "    raise ValueError('specified nu is infeasible')\n",
      "ValueError: specified nu is infeasible\n",
      "\n",
      "\n",
      "/Users/fish/opt/anaconda3/lib/python3.9/site-packages/sklearn/model_selection/_search.py:969: UserWarning:\n",
      "\n",
      "One or more of the test scores are non-finite: [0.69401754        nan        nan 0.73743162        nan        nan\n",
      " 0.78709733        nan        nan 0.69401754        nan        nan\n",
      " 0.68516107        nan        nan 0.66171746        nan        nan]\n",
      "\n"
     ]
    },
    {
     "name": "stdout",
     "output_type": "stream",
     "text": [
      "Best Parameters: {'gamma': 'scale', 'kernel': 'rbf', 'nu': 0.1}\n",
      "Accuracy: 0.79\n",
      "\n",
      "Classification Report:\n",
      "              precision    recall  f1-score   support\n",
      "\n",
      "    negative       0.82      0.92      0.87      1791\n",
      "     neutral       0.67      0.53      0.59       636\n",
      "    positive       0.78      0.62      0.69       453\n",
      "\n",
      "    accuracy                           0.79      2880\n",
      "   macro avg       0.75      0.69      0.71      2880\n",
      "weighted avg       0.78      0.79      0.78      2880\n",
      "\n"
     ]
    },
    {
     "data": {
      "application/vnd.plotly.v1+json": {
       "config": {
        "plotlyServerURL": "https://plot.ly"
       },
       "data": [
        {
         "colorscale": [
          [
           0,
           "#00224e"
          ],
          [
           0.1111111111111111,
           "#123570"
          ],
          [
           0.2222222222222222,
           "#3b496c"
          ],
          [
           0.3333333333333333,
           "#575d6d"
          ],
          [
           0.4444444444444444,
           "#707173"
          ],
          [
           0.5555555555555556,
           "#8a8678"
          ],
          [
           0.6666666666666666,
           "#a59c74"
          ],
          [
           0.7777777777777778,
           "#c3b369"
          ],
          [
           0.8888888888888888,
           "#e1cc55"
          ],
          [
           1,
           "#fee838"
          ]
         ],
         "showscale": true,
         "text": [
          [
           1652,
           104,
           35
          ],
          [
           255,
           335,
           46
          ],
          [
           113,
           61,
           279
          ]
         ],
         "textfont": {
          "size": 12
         },
         "texttemplate": "%{text}",
         "type": "heatmap",
         "x": [
          "Negative",
          "Neutral",
          "Positive"
         ],
         "xaxis": "x",
         "y": [
          "Negative",
          "Neutral",
          "Positive"
         ],
         "yaxis": "y",
         "z": [
          [
           1652,
           104,
           35
          ],
          [
           255,
           335,
           46
          ],
          [
           113,
           61,
           279
          ]
         ]
        },
        {
         "cells": {
          "fill": {
           "color": "rgba(0,0,0,0)"
          },
          "values": [
           [
            "Negative",
            "Neutral",
            "Positive",
            "accuracy",
            "macro avg",
            "weighted avg"
           ],
           [
            0.82,
            0.67,
            0.78,
            0.79,
            0.75,
            0.78
           ],
           [
            0.92,
            0.53,
            0.62,
            0.79,
            0.69,
            0.79
           ],
           [
            0.87,
            0.59,
            0.69,
            0.79,
            0.71,
            0.78
           ],
           [
            1791,
            636,
            453,
            0.79,
            2880,
            2880
           ]
          ]
         },
         "domain": {
          "x": [
           0.64,
           1
          ],
          "y": [
           0,
           1
          ]
         },
         "header": {
          "fill": {
           "color": "rgba(0,0,0,0)"
          },
          "values": [
           "precision",
           "recall",
           "f1-score",
           "support"
          ]
         },
         "type": "table"
        }
       ],
       "layout": {
        "annotations": [
         {
          "font": {
           "size": 16
          },
          "showarrow": false,
          "text": "Confusion Matrix",
          "x": 0.27,
          "xanchor": "center",
          "xref": "paper",
          "y": 1,
          "yanchor": "bottom",
          "yref": "paper"
         },
         {
          "font": {
           "size": 16
          },
          "showarrow": false,
          "text": "Classification Report",
          "x": 0.8200000000000001,
          "xanchor": "center",
          "xref": "paper",
          "y": 1,
          "yanchor": "bottom",
          "yref": "paper"
         },
         {
          "font": {
           "color": "rgba(247, 247, 247, 1)",
           "size": 16
          },
          "showarrow": false,
          "text": "Overall Accuracy: 78.68%",
          "x": 0.9,
          "xref": "paper",
          "y": 0.1,
          "yref": "paper"
         }
        ],
        "font": {
         "color": "rgba(247, 247, 247, 1)"
        },
        "height": 500,
        "paper_bgcolor": "rgba(0,0,0,0)",
        "template": {
         "data": {
          "bar": [
           {
            "error_x": {
             "color": "#2a3f5f"
            },
            "error_y": {
             "color": "#2a3f5f"
            },
            "marker": {
             "line": {
              "color": "#E5ECF6",
              "width": 0.5
             },
             "pattern": {
              "fillmode": "overlay",
              "size": 10,
              "solidity": 0.2
             }
            },
            "type": "bar"
           }
          ],
          "barpolar": [
           {
            "marker": {
             "line": {
              "color": "#E5ECF6",
              "width": 0.5
             },
             "pattern": {
              "fillmode": "overlay",
              "size": 10,
              "solidity": 0.2
             }
            },
            "type": "barpolar"
           }
          ],
          "carpet": [
           {
            "aaxis": {
             "endlinecolor": "#2a3f5f",
             "gridcolor": "white",
             "linecolor": "white",
             "minorgridcolor": "white",
             "startlinecolor": "#2a3f5f"
            },
            "baxis": {
             "endlinecolor": "#2a3f5f",
             "gridcolor": "white",
             "linecolor": "white",
             "minorgridcolor": "white",
             "startlinecolor": "#2a3f5f"
            },
            "type": "carpet"
           }
          ],
          "choropleth": [
           {
            "colorbar": {
             "outlinewidth": 0,
             "ticks": ""
            },
            "type": "choropleth"
           }
          ],
          "contour": [
           {
            "colorbar": {
             "outlinewidth": 0,
             "ticks": ""
            },
            "colorscale": [
             [
              0,
              "#0d0887"
             ],
             [
              0.1111111111111111,
              "#46039f"
             ],
             [
              0.2222222222222222,
              "#7201a8"
             ],
             [
              0.3333333333333333,
              "#9c179e"
             ],
             [
              0.4444444444444444,
              "#bd3786"
             ],
             [
              0.5555555555555556,
              "#d8576b"
             ],
             [
              0.6666666666666666,
              "#ed7953"
             ],
             [
              0.7777777777777778,
              "#fb9f3a"
             ],
             [
              0.8888888888888888,
              "#fdca26"
             ],
             [
              1,
              "#f0f921"
             ]
            ],
            "type": "contour"
           }
          ],
          "contourcarpet": [
           {
            "colorbar": {
             "outlinewidth": 0,
             "ticks": ""
            },
            "type": "contourcarpet"
           }
          ],
          "heatmap": [
           {
            "colorbar": {
             "outlinewidth": 0,
             "ticks": ""
            },
            "colorscale": [
             [
              0,
              "#0d0887"
             ],
             [
              0.1111111111111111,
              "#46039f"
             ],
             [
              0.2222222222222222,
              "#7201a8"
             ],
             [
              0.3333333333333333,
              "#9c179e"
             ],
             [
              0.4444444444444444,
              "#bd3786"
             ],
             [
              0.5555555555555556,
              "#d8576b"
             ],
             [
              0.6666666666666666,
              "#ed7953"
             ],
             [
              0.7777777777777778,
              "#fb9f3a"
             ],
             [
              0.8888888888888888,
              "#fdca26"
             ],
             [
              1,
              "#f0f921"
             ]
            ],
            "type": "heatmap"
           }
          ],
          "heatmapgl": [
           {
            "colorbar": {
             "outlinewidth": 0,
             "ticks": ""
            },
            "colorscale": [
             [
              0,
              "#0d0887"
             ],
             [
              0.1111111111111111,
              "#46039f"
             ],
             [
              0.2222222222222222,
              "#7201a8"
             ],
             [
              0.3333333333333333,
              "#9c179e"
             ],
             [
              0.4444444444444444,
              "#bd3786"
             ],
             [
              0.5555555555555556,
              "#d8576b"
             ],
             [
              0.6666666666666666,
              "#ed7953"
             ],
             [
              0.7777777777777778,
              "#fb9f3a"
             ],
             [
              0.8888888888888888,
              "#fdca26"
             ],
             [
              1,
              "#f0f921"
             ]
            ],
            "type": "heatmapgl"
           }
          ],
          "histogram": [
           {
            "marker": {
             "pattern": {
              "fillmode": "overlay",
              "size": 10,
              "solidity": 0.2
             }
            },
            "type": "histogram"
           }
          ],
          "histogram2d": [
           {
            "colorbar": {
             "outlinewidth": 0,
             "ticks": ""
            },
            "colorscale": [
             [
              0,
              "#0d0887"
             ],
             [
              0.1111111111111111,
              "#46039f"
             ],
             [
              0.2222222222222222,
              "#7201a8"
             ],
             [
              0.3333333333333333,
              "#9c179e"
             ],
             [
              0.4444444444444444,
              "#bd3786"
             ],
             [
              0.5555555555555556,
              "#d8576b"
             ],
             [
              0.6666666666666666,
              "#ed7953"
             ],
             [
              0.7777777777777778,
              "#fb9f3a"
             ],
             [
              0.8888888888888888,
              "#fdca26"
             ],
             [
              1,
              "#f0f921"
             ]
            ],
            "type": "histogram2d"
           }
          ],
          "histogram2dcontour": [
           {
            "colorbar": {
             "outlinewidth": 0,
             "ticks": ""
            },
            "colorscale": [
             [
              0,
              "#0d0887"
             ],
             [
              0.1111111111111111,
              "#46039f"
             ],
             [
              0.2222222222222222,
              "#7201a8"
             ],
             [
              0.3333333333333333,
              "#9c179e"
             ],
             [
              0.4444444444444444,
              "#bd3786"
             ],
             [
              0.5555555555555556,
              "#d8576b"
             ],
             [
              0.6666666666666666,
              "#ed7953"
             ],
             [
              0.7777777777777778,
              "#fb9f3a"
             ],
             [
              0.8888888888888888,
              "#fdca26"
             ],
             [
              1,
              "#f0f921"
             ]
            ],
            "type": "histogram2dcontour"
           }
          ],
          "mesh3d": [
           {
            "colorbar": {
             "outlinewidth": 0,
             "ticks": ""
            },
            "type": "mesh3d"
           }
          ],
          "parcoords": [
           {
            "line": {
             "colorbar": {
              "outlinewidth": 0,
              "ticks": ""
             }
            },
            "type": "parcoords"
           }
          ],
          "pie": [
           {
            "automargin": true,
            "type": "pie"
           }
          ],
          "scatter": [
           {
            "fillpattern": {
             "fillmode": "overlay",
             "size": 10,
             "solidity": 0.2
            },
            "type": "scatter"
           }
          ],
          "scatter3d": [
           {
            "line": {
             "colorbar": {
              "outlinewidth": 0,
              "ticks": ""
             }
            },
            "marker": {
             "colorbar": {
              "outlinewidth": 0,
              "ticks": ""
             }
            },
            "type": "scatter3d"
           }
          ],
          "scattercarpet": [
           {
            "marker": {
             "colorbar": {
              "outlinewidth": 0,
              "ticks": ""
             }
            },
            "type": "scattercarpet"
           }
          ],
          "scattergeo": [
           {
            "marker": {
             "colorbar": {
              "outlinewidth": 0,
              "ticks": ""
             }
            },
            "type": "scattergeo"
           }
          ],
          "scattergl": [
           {
            "marker": {
             "colorbar": {
              "outlinewidth": 0,
              "ticks": ""
             }
            },
            "type": "scattergl"
           }
          ],
          "scattermapbox": [
           {
            "marker": {
             "colorbar": {
              "outlinewidth": 0,
              "ticks": ""
             }
            },
            "type": "scattermapbox"
           }
          ],
          "scatterpolar": [
           {
            "marker": {
             "colorbar": {
              "outlinewidth": 0,
              "ticks": ""
             }
            },
            "type": "scatterpolar"
           }
          ],
          "scatterpolargl": [
           {
            "marker": {
             "colorbar": {
              "outlinewidth": 0,
              "ticks": ""
             }
            },
            "type": "scatterpolargl"
           }
          ],
          "scatterternary": [
           {
            "marker": {
             "colorbar": {
              "outlinewidth": 0,
              "ticks": ""
             }
            },
            "type": "scatterternary"
           }
          ],
          "surface": [
           {
            "colorbar": {
             "outlinewidth": 0,
             "ticks": ""
            },
            "colorscale": [
             [
              0,
              "#0d0887"
             ],
             [
              0.1111111111111111,
              "#46039f"
             ],
             [
              0.2222222222222222,
              "#7201a8"
             ],
             [
              0.3333333333333333,
              "#9c179e"
             ],
             [
              0.4444444444444444,
              "#bd3786"
             ],
             [
              0.5555555555555556,
              "#d8576b"
             ],
             [
              0.6666666666666666,
              "#ed7953"
             ],
             [
              0.7777777777777778,
              "#fb9f3a"
             ],
             [
              0.8888888888888888,
              "#fdca26"
             ],
             [
              1,
              "#f0f921"
             ]
            ],
            "type": "surface"
           }
          ],
          "table": [
           {
            "cells": {
             "fill": {
              "color": "#EBF0F8"
             },
             "line": {
              "color": "white"
             }
            },
            "header": {
             "fill": {
              "color": "#C8D4E3"
             },
             "line": {
              "color": "white"
             }
            },
            "type": "table"
           }
          ]
         },
         "layout": {
          "annotationdefaults": {
           "arrowcolor": "#2a3f5f",
           "arrowhead": 0,
           "arrowwidth": 1
          },
          "autotypenumbers": "strict",
          "coloraxis": {
           "colorbar": {
            "outlinewidth": 0,
            "ticks": ""
           }
          },
          "colorscale": {
           "diverging": [
            [
             0,
             "#8e0152"
            ],
            [
             0.1,
             "#c51b7d"
            ],
            [
             0.2,
             "#de77ae"
            ],
            [
             0.3,
             "#f1b6da"
            ],
            [
             0.4,
             "#fde0ef"
            ],
            [
             0.5,
             "#f7f7f7"
            ],
            [
             0.6,
             "#e6f5d0"
            ],
            [
             0.7,
             "#b8e186"
            ],
            [
             0.8,
             "#7fbc41"
            ],
            [
             0.9,
             "#4d9221"
            ],
            [
             1,
             "#276419"
            ]
           ],
           "sequential": [
            [
             0,
             "#0d0887"
            ],
            [
             0.1111111111111111,
             "#46039f"
            ],
            [
             0.2222222222222222,
             "#7201a8"
            ],
            [
             0.3333333333333333,
             "#9c179e"
            ],
            [
             0.4444444444444444,
             "#bd3786"
            ],
            [
             0.5555555555555556,
             "#d8576b"
            ],
            [
             0.6666666666666666,
             "#ed7953"
            ],
            [
             0.7777777777777778,
             "#fb9f3a"
            ],
            [
             0.8888888888888888,
             "#fdca26"
            ],
            [
             1,
             "#f0f921"
            ]
           ],
           "sequentialminus": [
            [
             0,
             "#0d0887"
            ],
            [
             0.1111111111111111,
             "#46039f"
            ],
            [
             0.2222222222222222,
             "#7201a8"
            ],
            [
             0.3333333333333333,
             "#9c179e"
            ],
            [
             0.4444444444444444,
             "#bd3786"
            ],
            [
             0.5555555555555556,
             "#d8576b"
            ],
            [
             0.6666666666666666,
             "#ed7953"
            ],
            [
             0.7777777777777778,
             "#fb9f3a"
            ],
            [
             0.8888888888888888,
             "#fdca26"
            ],
            [
             1,
             "#f0f921"
            ]
           ]
          },
          "colorway": [
           "#636efa",
           "#EF553B",
           "#00cc96",
           "#ab63fa",
           "#FFA15A",
           "#19d3f3",
           "#FF6692",
           "#B6E880",
           "#FF97FF",
           "#FECB52"
          ],
          "font": {
           "color": "#2a3f5f"
          },
          "geo": {
           "bgcolor": "white",
           "lakecolor": "white",
           "landcolor": "#E5ECF6",
           "showlakes": true,
           "showland": true,
           "subunitcolor": "white"
          },
          "hoverlabel": {
           "align": "left"
          },
          "hovermode": "closest",
          "mapbox": {
           "style": "light"
          },
          "paper_bgcolor": "white",
          "plot_bgcolor": "#E5ECF6",
          "polar": {
           "angularaxis": {
            "gridcolor": "white",
            "linecolor": "white",
            "ticks": ""
           },
           "bgcolor": "#E5ECF6",
           "radialaxis": {
            "gridcolor": "white",
            "linecolor": "white",
            "ticks": ""
           }
          },
          "scene": {
           "xaxis": {
            "backgroundcolor": "#E5ECF6",
            "gridcolor": "white",
            "gridwidth": 2,
            "linecolor": "white",
            "showbackground": true,
            "ticks": "",
            "zerolinecolor": "white"
           },
           "yaxis": {
            "backgroundcolor": "#E5ECF6",
            "gridcolor": "white",
            "gridwidth": 2,
            "linecolor": "white",
            "showbackground": true,
            "ticks": "",
            "zerolinecolor": "white"
           },
           "zaxis": {
            "backgroundcolor": "#E5ECF6",
            "gridcolor": "white",
            "gridwidth": 2,
            "linecolor": "white",
            "showbackground": true,
            "ticks": "",
            "zerolinecolor": "white"
           }
          },
          "shapedefaults": {
           "line": {
            "color": "#2a3f5f"
           }
          },
          "ternary": {
           "aaxis": {
            "gridcolor": "white",
            "linecolor": "white",
            "ticks": ""
           },
           "baxis": {
            "gridcolor": "white",
            "linecolor": "white",
            "ticks": ""
           },
           "bgcolor": "#E5ECF6",
           "caxis": {
            "gridcolor": "white",
            "linecolor": "white",
            "ticks": ""
           }
          },
          "title": {
           "x": 0.05
          },
          "xaxis": {
           "automargin": true,
           "gridcolor": "white",
           "linecolor": "white",
           "ticks": "",
           "title": {
            "standoff": 15
           },
           "zerolinecolor": "white",
           "zerolinewidth": 2
          },
          "yaxis": {
           "automargin": true,
           "gridcolor": "white",
           "linecolor": "white",
           "ticks": "",
           "title": {
            "standoff": 15
           },
           "zerolinecolor": "white",
           "zerolinewidth": 2
          }
         }
        },
        "title": {
         "text": "Confusion Matrix with Classification Report"
        },
        "width": 1200,
        "xaxis": {
         "anchor": "y",
         "domain": [
          0,
          0.54
         ]
        },
        "yaxis": {
         "anchor": "x",
         "domain": [
          0,
          1
         ]
        }
       }
      }
     },
     "metadata": {},
     "output_type": "display_data"
    },
    {
     "name": "stdout",
     "output_type": "stream",
     "text": [
      "Macro-average ROC-AUC Score with Hyperparameterized Bigram TF-IDF: 0.8794\n"
     ]
    }
   ],
   "source": [
    "# Bigram NU Test\n",
    "\n",
    "random.seed(10)\n",
    "# Base model\n",
    "text = tweets['cleaned_text_stopwords'].values\n",
    "labels = tweets['airline_sentiment'].values\n",
    "\n",
    "# Split the data into training and testing sets\n",
    "text_train, text_test, labels_train, labels_test = train_test_split(text, labels, test_size=0.2, random_state=42)\n",
    "\n",
    "# TF-IDF Vectorization\n",
    "vectorizer = TfidfVectorizer(max_features=1000, ngram_range=(1, 2))\n",
    "X_train_tfidf = vectorizer.fit_transform(text_train)\n",
    "X_test_tfidf = vectorizer.transform(text_test)\n",
    "\n",
    "# Hyperparameter tuning using Grid Search for NuSVC\n",
    "param_grid = {'nu': [0.1, 0.5, 0.9], 'kernel': ['linear', 'poly', 'rbf'], 'gamma': ['scale', 'auto']}\n",
    "nusvc_model = NuSVC()\n",
    "grid_search = GridSearchCV(nusvc_model, param_grid, cv=3, n_jobs=1)\n",
    "grid_search.fit(X_train_tfidf, labels_train)\n",
    "\n",
    "print(\"Best Parameters:\", grid_search.best_params_)\n",
    "\n",
    "# Training on the chosen parameters\n",
    "best_nusvc_model = grid_search.best_estimator_\n",
    "best_nusvc_model.fit(X_train_tfidf, labels_train)\n",
    "\n",
    "# Making predictions\n",
    "y_pred = best_nusvc_model.predict(X_test_tfidf)\n",
    "\n",
    "# Model evaluation\n",
    "accuracy = accuracy_score(labels_test, y_pred)\n",
    "print(f'Accuracy: {accuracy:.2f}')\n",
    "\n",
    "# Classification Report\n",
    "print('\\nClassification Report:')\n",
    "print(classification_report(labels_test, y_pred))\n",
    "\n",
    "# Confusion Matrix\n",
    "cm = confusion_matrix(labels_test, y_pred)\n",
    "plot_confusion_matrix_with_classification_report(cm, [\"Negative\", \"Neutral\", \"Positive\"], labels_test, y_pred)\n",
    "\n",
    "# ROC-AUC Score\n",
    "y_pred_proba_bigram = best_nusvc_model.decision_function(X_test_tfidf)\n",
    "y_true_binary_bigram = label_binarize(labels_test, classes=np.unique(labels))\n",
    "\n",
    "roc_auc_scores_bigram = []\n",
    "\n",
    "for i in range(len(np.unique(labels))):\n",
    "    binary_labels_bigram = y_true_binary_bigram[:, i]\n",
    "    roc_auc_bigram = roc_auc_score(binary_labels_bigram, y_pred_proba_bigram[:, i])\n",
    "    roc_auc_scores_bigram.append(roc_auc_bigram)\n",
    "\n",
    "roc_auc_macro_bigram = np.mean(roc_auc_scores_bigram)\n",
    "print(f'Macro-average ROC-AUC Score with Hyperparameterized Bigram TF-IDF: {roc_auc_macro_bigram:.4f}')"
   ]
  },
  {
   "cell_type": "code",
   "execution_count": 394,
   "metadata": {},
   "outputs": [
    {
     "name": "stdout",
     "output_type": "stream",
     "text": [
      "Accuracy: 0.78\n",
      "\n",
      "Classification Report:\n",
      "              precision    recall  f1-score   support\n",
      "\n",
      "    negative       0.82      0.91      0.86      1791\n",
      "     neutral       0.66      0.54      0.60       636\n",
      "    positive       0.78      0.61      0.69       453\n",
      "\n",
      "    accuracy                           0.78      2880\n",
      "   macro avg       0.75      0.69      0.72      2880\n",
      "weighted avg       0.78      0.78      0.78      2880\n",
      "\n"
     ]
    },
    {
     "data": {
      "application/vnd.plotly.v1+json": {
       "config": {
        "plotlyServerURL": "https://plot.ly"
       },
       "data": [
        {
         "colorscale": [
          [
           0,
           "#00224e"
          ],
          [
           0.1111111111111111,
           "#123570"
          ],
          [
           0.2222222222222222,
           "#3b496c"
          ],
          [
           0.3333333333333333,
           "#575d6d"
          ],
          [
           0.4444444444444444,
           "#707173"
          ],
          [
           0.5555555555555556,
           "#8a8678"
          ],
          [
           0.6666666666666666,
           "#a59c74"
          ],
          [
           0.7777777777777778,
           "#c3b369"
          ],
          [
           0.8888888888888888,
           "#e1cc55"
          ],
          [
           1,
           "#fee838"
          ]
         ],
         "showscale": true,
         "text": [
          [
           1636,
           118,
           37
          ],
          [
           252,
           344,
           40
          ],
          [
           118,
           57,
           278
          ]
         ],
         "textfont": {
          "size": 12
         },
         "texttemplate": "%{text}",
         "type": "heatmap",
         "x": [
          "Negative",
          "Neutral",
          "Positive"
         ],
         "xaxis": "x",
         "y": [
          "Negative",
          "Neutral",
          "Positive"
         ],
         "yaxis": "y",
         "z": [
          [
           1636,
           118,
           37
          ],
          [
           252,
           344,
           40
          ],
          [
           118,
           57,
           278
          ]
         ]
        },
        {
         "cells": {
          "fill": {
           "color": "rgba(0,0,0,0)"
          },
          "values": [
           [
            "Negative",
            "Neutral",
            "Positive",
            "accuracy",
            "macro avg",
            "weighted avg"
           ],
           [
            0.82,
            0.66,
            0.78,
            0.78,
            0.75,
            0.78
           ],
           [
            0.91,
            0.54,
            0.61,
            0.78,
            0.69,
            0.78
           ],
           [
            0.86,
            0.6,
            0.69,
            0.78,
            0.72,
            0.78
           ],
           [
            1791,
            636,
            453,
            0.78,
            2880,
            2880
           ]
          ]
         },
         "domain": {
          "x": [
           0.64,
           1
          ],
          "y": [
           0,
           1
          ]
         },
         "header": {
          "fill": {
           "color": "rgba(0,0,0,0)"
          },
          "values": [
           "precision",
           "recall",
           "f1-score",
           "support"
          ]
         },
         "type": "table"
        }
       ],
       "layout": {
        "annotations": [
         {
          "font": {
           "size": 16
          },
          "showarrow": false,
          "text": "Confusion Matrix",
          "x": 0.27,
          "xanchor": "center",
          "xref": "paper",
          "y": 1,
          "yanchor": "bottom",
          "yref": "paper"
         },
         {
          "font": {
           "size": 16
          },
          "showarrow": false,
          "text": "Classification Report",
          "x": 0.8200000000000001,
          "xanchor": "center",
          "xref": "paper",
          "y": 1,
          "yanchor": "bottom",
          "yref": "paper"
         },
         {
          "font": {
           "color": "rgba(247, 247, 247, 1)",
           "size": 16
          },
          "showarrow": false,
          "text": "Overall Accuracy: 78.40%",
          "x": 0.9,
          "xref": "paper",
          "y": 0.1,
          "yref": "paper"
         }
        ],
        "font": {
         "color": "rgba(247, 247, 247, 1)"
        },
        "height": 500,
        "paper_bgcolor": "rgba(0,0,0,0)",
        "template": {
         "data": {
          "bar": [
           {
            "error_x": {
             "color": "#2a3f5f"
            },
            "error_y": {
             "color": "#2a3f5f"
            },
            "marker": {
             "line": {
              "color": "#E5ECF6",
              "width": 0.5
             },
             "pattern": {
              "fillmode": "overlay",
              "size": 10,
              "solidity": 0.2
             }
            },
            "type": "bar"
           }
          ],
          "barpolar": [
           {
            "marker": {
             "line": {
              "color": "#E5ECF6",
              "width": 0.5
             },
             "pattern": {
              "fillmode": "overlay",
              "size": 10,
              "solidity": 0.2
             }
            },
            "type": "barpolar"
           }
          ],
          "carpet": [
           {
            "aaxis": {
             "endlinecolor": "#2a3f5f",
             "gridcolor": "white",
             "linecolor": "white",
             "minorgridcolor": "white",
             "startlinecolor": "#2a3f5f"
            },
            "baxis": {
             "endlinecolor": "#2a3f5f",
             "gridcolor": "white",
             "linecolor": "white",
             "minorgridcolor": "white",
             "startlinecolor": "#2a3f5f"
            },
            "type": "carpet"
           }
          ],
          "choropleth": [
           {
            "colorbar": {
             "outlinewidth": 0,
             "ticks": ""
            },
            "type": "choropleth"
           }
          ],
          "contour": [
           {
            "colorbar": {
             "outlinewidth": 0,
             "ticks": ""
            },
            "colorscale": [
             [
              0,
              "#0d0887"
             ],
             [
              0.1111111111111111,
              "#46039f"
             ],
             [
              0.2222222222222222,
              "#7201a8"
             ],
             [
              0.3333333333333333,
              "#9c179e"
             ],
             [
              0.4444444444444444,
              "#bd3786"
             ],
             [
              0.5555555555555556,
              "#d8576b"
             ],
             [
              0.6666666666666666,
              "#ed7953"
             ],
             [
              0.7777777777777778,
              "#fb9f3a"
             ],
             [
              0.8888888888888888,
              "#fdca26"
             ],
             [
              1,
              "#f0f921"
             ]
            ],
            "type": "contour"
           }
          ],
          "contourcarpet": [
           {
            "colorbar": {
             "outlinewidth": 0,
             "ticks": ""
            },
            "type": "contourcarpet"
           }
          ],
          "heatmap": [
           {
            "colorbar": {
             "outlinewidth": 0,
             "ticks": ""
            },
            "colorscale": [
             [
              0,
              "#0d0887"
             ],
             [
              0.1111111111111111,
              "#46039f"
             ],
             [
              0.2222222222222222,
              "#7201a8"
             ],
             [
              0.3333333333333333,
              "#9c179e"
             ],
             [
              0.4444444444444444,
              "#bd3786"
             ],
             [
              0.5555555555555556,
              "#d8576b"
             ],
             [
              0.6666666666666666,
              "#ed7953"
             ],
             [
              0.7777777777777778,
              "#fb9f3a"
             ],
             [
              0.8888888888888888,
              "#fdca26"
             ],
             [
              1,
              "#f0f921"
             ]
            ],
            "type": "heatmap"
           }
          ],
          "heatmapgl": [
           {
            "colorbar": {
             "outlinewidth": 0,
             "ticks": ""
            },
            "colorscale": [
             [
              0,
              "#0d0887"
             ],
             [
              0.1111111111111111,
              "#46039f"
             ],
             [
              0.2222222222222222,
              "#7201a8"
             ],
             [
              0.3333333333333333,
              "#9c179e"
             ],
             [
              0.4444444444444444,
              "#bd3786"
             ],
             [
              0.5555555555555556,
              "#d8576b"
             ],
             [
              0.6666666666666666,
              "#ed7953"
             ],
             [
              0.7777777777777778,
              "#fb9f3a"
             ],
             [
              0.8888888888888888,
              "#fdca26"
             ],
             [
              1,
              "#f0f921"
             ]
            ],
            "type": "heatmapgl"
           }
          ],
          "histogram": [
           {
            "marker": {
             "pattern": {
              "fillmode": "overlay",
              "size": 10,
              "solidity": 0.2
             }
            },
            "type": "histogram"
           }
          ],
          "histogram2d": [
           {
            "colorbar": {
             "outlinewidth": 0,
             "ticks": ""
            },
            "colorscale": [
             [
              0,
              "#0d0887"
             ],
             [
              0.1111111111111111,
              "#46039f"
             ],
             [
              0.2222222222222222,
              "#7201a8"
             ],
             [
              0.3333333333333333,
              "#9c179e"
             ],
             [
              0.4444444444444444,
              "#bd3786"
             ],
             [
              0.5555555555555556,
              "#d8576b"
             ],
             [
              0.6666666666666666,
              "#ed7953"
             ],
             [
              0.7777777777777778,
              "#fb9f3a"
             ],
             [
              0.8888888888888888,
              "#fdca26"
             ],
             [
              1,
              "#f0f921"
             ]
            ],
            "type": "histogram2d"
           }
          ],
          "histogram2dcontour": [
           {
            "colorbar": {
             "outlinewidth": 0,
             "ticks": ""
            },
            "colorscale": [
             [
              0,
              "#0d0887"
             ],
             [
              0.1111111111111111,
              "#46039f"
             ],
             [
              0.2222222222222222,
              "#7201a8"
             ],
             [
              0.3333333333333333,
              "#9c179e"
             ],
             [
              0.4444444444444444,
              "#bd3786"
             ],
             [
              0.5555555555555556,
              "#d8576b"
             ],
             [
              0.6666666666666666,
              "#ed7953"
             ],
             [
              0.7777777777777778,
              "#fb9f3a"
             ],
             [
              0.8888888888888888,
              "#fdca26"
             ],
             [
              1,
              "#f0f921"
             ]
            ],
            "type": "histogram2dcontour"
           }
          ],
          "mesh3d": [
           {
            "colorbar": {
             "outlinewidth": 0,
             "ticks": ""
            },
            "type": "mesh3d"
           }
          ],
          "parcoords": [
           {
            "line": {
             "colorbar": {
              "outlinewidth": 0,
              "ticks": ""
             }
            },
            "type": "parcoords"
           }
          ],
          "pie": [
           {
            "automargin": true,
            "type": "pie"
           }
          ],
          "scatter": [
           {
            "fillpattern": {
             "fillmode": "overlay",
             "size": 10,
             "solidity": 0.2
            },
            "type": "scatter"
           }
          ],
          "scatter3d": [
           {
            "line": {
             "colorbar": {
              "outlinewidth": 0,
              "ticks": ""
             }
            },
            "marker": {
             "colorbar": {
              "outlinewidth": 0,
              "ticks": ""
             }
            },
            "type": "scatter3d"
           }
          ],
          "scattercarpet": [
           {
            "marker": {
             "colorbar": {
              "outlinewidth": 0,
              "ticks": ""
             }
            },
            "type": "scattercarpet"
           }
          ],
          "scattergeo": [
           {
            "marker": {
             "colorbar": {
              "outlinewidth": 0,
              "ticks": ""
             }
            },
            "type": "scattergeo"
           }
          ],
          "scattergl": [
           {
            "marker": {
             "colorbar": {
              "outlinewidth": 0,
              "ticks": ""
             }
            },
            "type": "scattergl"
           }
          ],
          "scattermapbox": [
           {
            "marker": {
             "colorbar": {
              "outlinewidth": 0,
              "ticks": ""
             }
            },
            "type": "scattermapbox"
           }
          ],
          "scatterpolar": [
           {
            "marker": {
             "colorbar": {
              "outlinewidth": 0,
              "ticks": ""
             }
            },
            "type": "scatterpolar"
           }
          ],
          "scatterpolargl": [
           {
            "marker": {
             "colorbar": {
              "outlinewidth": 0,
              "ticks": ""
             }
            },
            "type": "scatterpolargl"
           }
          ],
          "scatterternary": [
           {
            "marker": {
             "colorbar": {
              "outlinewidth": 0,
              "ticks": ""
             }
            },
            "type": "scatterternary"
           }
          ],
          "surface": [
           {
            "colorbar": {
             "outlinewidth": 0,
             "ticks": ""
            },
            "colorscale": [
             [
              0,
              "#0d0887"
             ],
             [
              0.1111111111111111,
              "#46039f"
             ],
             [
              0.2222222222222222,
              "#7201a8"
             ],
             [
              0.3333333333333333,
              "#9c179e"
             ],
             [
              0.4444444444444444,
              "#bd3786"
             ],
             [
              0.5555555555555556,
              "#d8576b"
             ],
             [
              0.6666666666666666,
              "#ed7953"
             ],
             [
              0.7777777777777778,
              "#fb9f3a"
             ],
             [
              0.8888888888888888,
              "#fdca26"
             ],
             [
              1,
              "#f0f921"
             ]
            ],
            "type": "surface"
           }
          ],
          "table": [
           {
            "cells": {
             "fill": {
              "color": "#EBF0F8"
             },
             "line": {
              "color": "white"
             }
            },
            "header": {
             "fill": {
              "color": "#C8D4E3"
             },
             "line": {
              "color": "white"
             }
            },
            "type": "table"
           }
          ]
         },
         "layout": {
          "annotationdefaults": {
           "arrowcolor": "#2a3f5f",
           "arrowhead": 0,
           "arrowwidth": 1
          },
          "autotypenumbers": "strict",
          "coloraxis": {
           "colorbar": {
            "outlinewidth": 0,
            "ticks": ""
           }
          },
          "colorscale": {
           "diverging": [
            [
             0,
             "#8e0152"
            ],
            [
             0.1,
             "#c51b7d"
            ],
            [
             0.2,
             "#de77ae"
            ],
            [
             0.3,
             "#f1b6da"
            ],
            [
             0.4,
             "#fde0ef"
            ],
            [
             0.5,
             "#f7f7f7"
            ],
            [
             0.6,
             "#e6f5d0"
            ],
            [
             0.7,
             "#b8e186"
            ],
            [
             0.8,
             "#7fbc41"
            ],
            [
             0.9,
             "#4d9221"
            ],
            [
             1,
             "#276419"
            ]
           ],
           "sequential": [
            [
             0,
             "#0d0887"
            ],
            [
             0.1111111111111111,
             "#46039f"
            ],
            [
             0.2222222222222222,
             "#7201a8"
            ],
            [
             0.3333333333333333,
             "#9c179e"
            ],
            [
             0.4444444444444444,
             "#bd3786"
            ],
            [
             0.5555555555555556,
             "#d8576b"
            ],
            [
             0.6666666666666666,
             "#ed7953"
            ],
            [
             0.7777777777777778,
             "#fb9f3a"
            ],
            [
             0.8888888888888888,
             "#fdca26"
            ],
            [
             1,
             "#f0f921"
            ]
           ],
           "sequentialminus": [
            [
             0,
             "#0d0887"
            ],
            [
             0.1111111111111111,
             "#46039f"
            ],
            [
             0.2222222222222222,
             "#7201a8"
            ],
            [
             0.3333333333333333,
             "#9c179e"
            ],
            [
             0.4444444444444444,
             "#bd3786"
            ],
            [
             0.5555555555555556,
             "#d8576b"
            ],
            [
             0.6666666666666666,
             "#ed7953"
            ],
            [
             0.7777777777777778,
             "#fb9f3a"
            ],
            [
             0.8888888888888888,
             "#fdca26"
            ],
            [
             1,
             "#f0f921"
            ]
           ]
          },
          "colorway": [
           "#636efa",
           "#EF553B",
           "#00cc96",
           "#ab63fa",
           "#FFA15A",
           "#19d3f3",
           "#FF6692",
           "#B6E880",
           "#FF97FF",
           "#FECB52"
          ],
          "font": {
           "color": "#2a3f5f"
          },
          "geo": {
           "bgcolor": "white",
           "lakecolor": "white",
           "landcolor": "#E5ECF6",
           "showlakes": true,
           "showland": true,
           "subunitcolor": "white"
          },
          "hoverlabel": {
           "align": "left"
          },
          "hovermode": "closest",
          "mapbox": {
           "style": "light"
          },
          "paper_bgcolor": "white",
          "plot_bgcolor": "#E5ECF6",
          "polar": {
           "angularaxis": {
            "gridcolor": "white",
            "linecolor": "white",
            "ticks": ""
           },
           "bgcolor": "#E5ECF6",
           "radialaxis": {
            "gridcolor": "white",
            "linecolor": "white",
            "ticks": ""
           }
          },
          "scene": {
           "xaxis": {
            "backgroundcolor": "#E5ECF6",
            "gridcolor": "white",
            "gridwidth": 2,
            "linecolor": "white",
            "showbackground": true,
            "ticks": "",
            "zerolinecolor": "white"
           },
           "yaxis": {
            "backgroundcolor": "#E5ECF6",
            "gridcolor": "white",
            "gridwidth": 2,
            "linecolor": "white",
            "showbackground": true,
            "ticks": "",
            "zerolinecolor": "white"
           },
           "zaxis": {
            "backgroundcolor": "#E5ECF6",
            "gridcolor": "white",
            "gridwidth": 2,
            "linecolor": "white",
            "showbackground": true,
            "ticks": "",
            "zerolinecolor": "white"
           }
          },
          "shapedefaults": {
           "line": {
            "color": "#2a3f5f"
           }
          },
          "ternary": {
           "aaxis": {
            "gridcolor": "white",
            "linecolor": "white",
            "ticks": ""
           },
           "baxis": {
            "gridcolor": "white",
            "linecolor": "white",
            "ticks": ""
           },
           "bgcolor": "#E5ECF6",
           "caxis": {
            "gridcolor": "white",
            "linecolor": "white",
            "ticks": ""
           }
          },
          "title": {
           "x": 0.05
          },
          "xaxis": {
           "automargin": true,
           "gridcolor": "white",
           "linecolor": "white",
           "ticks": "",
           "title": {
            "standoff": 15
           },
           "zerolinecolor": "white",
           "zerolinewidth": 2
          },
          "yaxis": {
           "automargin": true,
           "gridcolor": "white",
           "linecolor": "white",
           "ticks": "",
           "title": {
            "standoff": 15
           },
           "zerolinecolor": "white",
           "zerolinewidth": 2
          }
         }
        },
        "title": {
         "text": "Confusion Matrix with Classification Report"
        },
        "width": 1200,
        "xaxis": {
         "anchor": "y",
         "domain": [
          0,
          0.54
         ]
        },
        "yaxis": {
         "anchor": "x",
         "domain": [
          0,
          1
         ]
        }
       }
      }
     },
     "metadata": {},
     "output_type": "display_data"
    },
    {
     "name": "stdout",
     "output_type": "stream",
     "text": [
      "Macro-average ROC-AUC Score with Hyperparameterized Bigram TF-IDF: 0.8796\n"
     ]
    }
   ],
   "source": [
    "# LinearSVC with penalty | NGram\n",
    "random.seed(10)\n",
    "\n",
    "# Assuming you have your data loaded in 'tweets' DataFrame\n",
    "text = tweets['cleaned_text_stopwords'].values\n",
    "labels = tweets['airline_sentiment'].values\n",
    "\n",
    "# Split the data into training and testing sets\n",
    "text_train, text_test, labels_train, labels_test = train_test_split(text, labels, test_size=0.2, random_state=42)\n",
    "\n",
    "# TF-IDF Vectorization\n",
    "vectorizer = TfidfVectorizer(max_features=1000, ngram_range=(1,2))\n",
    "X_train_tfidf = vectorizer.fit_transform(text_train)\n",
    "X_test_tfidf = vectorizer.transform(text_test)\n",
    "\n",
    "# Train LinearSVC with L1 regularization on the training data\n",
    "linear_svc_l1_model = LinearSVC(penalty='l1', dual=False)  # dual=False for L1 penalty\n",
    "linear_svc_l1_model.fit(X_train_tfidf, labels_train)\n",
    "\n",
    "# Make predictions on the test set\n",
    "y_pred = linear_svc_l1_model.predict(X_test_tfidf)\n",
    "\n",
    "# Model evaluation\n",
    "accuracy = accuracy_score(labels_test, y_pred)\n",
    "print(f'Accuracy: {accuracy:.2f}')\n",
    "\n",
    "# Classification Report\n",
    "print('\\nClassification Report:')\n",
    "print(classification_report(labels_test, y_pred))\n",
    "\n",
    "# Confusion Matrix\n",
    "cm = confusion_matrix(labels_test, y_pred)\n",
    "plot_confusion_matrix_with_classification_report(cm, [\"Negative\", \"Neutral\", \"Positive\"], labels_test, y_pred)\n",
    "\n",
    "\n",
    "# ROC-AUC Score\n",
    "y_pred_proba_bigram = best_svm_model_bigram.decision_function(X_test_tfidf)\n",
    "y_true_binary_bigram = label_binarize(labels_test, classes=np.unique(labels))\n",
    "\n",
    "roc_auc_scores_bigram = []\n",
    "\n",
    "for i in range(len(np.unique(labels))):\n",
    "    binary_labels_bigram = y_true_binary_bigram[:, i]\n",
    "    roc_auc_bigram = roc_auc_score(binary_labels_bigram, y_pred_proba_bigram[:, i])\n",
    "    roc_auc_scores_bigram.append(roc_auc_bigram)\n",
    "\n",
    "roc_auc_macro_bigram = np.mean(roc_auc_scores_bigram)\n",
    "print(f'Macro-average ROC-AUC Score with Hyperparameterized Bigram TF-IDF: {roc_auc_macro_bigram:.4f}')\n"
   ]
  },
  {
   "attachments": {},
   "cell_type": "markdown",
   "metadata": {},
   "source": [
    "***\n",
    "\n",
    "# **Additional Research**\n",
    "\n",
    "***"
   ]
  },
  {
   "cell_type": "code",
   "execution_count": 395,
   "metadata": {},
   "outputs": [
    {
     "name": "stdout",
     "output_type": "stream",
     "text": [
      "Top Ten Words:\n",
      "Word: cancelled flighted, Coefficient: 3.0234276426422166\n",
      "Word: each, Coefficient: 2.9443351577535184\n",
      "Word: pass, Coefficient: 2.850744205753319\n",
      "Word: before, Coefficient: 2.817164301380955\n",
      "Word: during, Coefficient: 2.713235175186414\n",
      "Word: over the, Coefficient: 2.62502927084401\n",
      "Word: working, Coefficient: 2.5943120920361373\n",
      "Word: past, Coefficient: 2.46534009227096\n",
      "Word: because, Coefficient: 2.460097050564946\n",
      "Word: your airline, Coefficient: 2.4075656978279873\n"
     ]
    }
   ],
   "source": [
    "# Only possible w/ linear\n",
    "if best_svm_model.kernel == 'linear':\n",
    "\n",
    "    feature_names = vectorizer.get_feature_names_out()\n",
    "\n",
    "    coefficients = best_svm_model.coef_.toarray()[0]\n",
    "\n",
    "    feature_coefficients = dict(zip(feature_names, coefficients))\n",
    "\n",
    "    top_ten_words = sorted(feature_coefficients.items(), key=lambda x: x[1], reverse=True)[:10]\n",
    "\n",
    "    print(\"Top Ten Words:\")\n",
    "    for word, coefficient in top_ten_words:\n",
    "        print(f\"Word: {word}, Coefficient: {coefficient}\")\n",
    "else:\n",
    "    print(\"Top words can only be extracted for linear SVM models.\")\n"
   ]
  },
  {
   "attachments": {},
   "cell_type": "markdown",
   "metadata": {},
   "source": [
    "Using a base model and a hypertuned parameter model, we see similar results. Let's try and subset to see if we can improve our accuracy in both reading and categorizing."
   ]
  },
  {
   "cell_type": "code",
   "execution_count": 167,
   "metadata": {},
   "outputs": [
    {
     "name": "stderr",
     "output_type": "stream",
     "text": [
      "[nltk_data] Downloading package stopwords to /Users/fish/nltk_data...\n",
      "[nltk_data]   Package stopwords is already up-to-date!\n"
     ]
    }
   ],
   "source": [
    "# Cleaning the text | Gets rid of stopwords\n",
    "\n",
    "def tweet_to_words(tweet):\n",
    "    letters_only = re.sub(\"[^a-zA-Z]\", \" \",tweet) \n",
    "    words = letters_only.lower().split()                             \n",
    "    stops = set(stopwords.words(\"english\"))                  \n",
    "    meaningful_words = [w for w in words if not w in stops] \n",
    "    return( \" \".join( meaningful_words ))\n",
    "\n",
    "nltk.download('stopwords')\n",
    "tweets['cleaned_text']=tweets['text'].apply(lambda x: tweet_to_words(x))"
   ]
  },
  {
   "cell_type": "code",
   "execution_count": 212,
   "metadata": {},
   "outputs": [],
   "source": [
    "# prep for next\n",
    "\n",
    "le = LabelEncoder()\n",
    "\n",
    "tweets_noneg = tweets[tweets['airline_sentiment'] != 'neutral']\n",
    "\n",
    "le.fit(tweets_noneg['airline_sentiment'])\n",
    "\n",
    "tweets_noneg['sent_encode'] = le.transform(tweets_noneg['airline_sentiment'])"
   ]
  },
  {
   "cell_type": "code",
   "execution_count": 215,
   "metadata": {},
   "outputs": [
    {
     "name": "stdout",
     "output_type": "stream",
     "text": [
      "Best Parameters: {'C': 1, 'gamma': 'scale', 'kernel': 'linear'}\n",
      "Accuracy: 0.91\n",
      "\n",
      "Classification Report:\n",
      "              precision    recall  f1-score   support\n",
      "\n",
      "    negative       0.92      0.97      0.95      1822\n",
      "    positive       0.87      0.67      0.76       452\n",
      "\n",
      "    accuracy                           0.91      2274\n",
      "   macro avg       0.89      0.82      0.85      2274\n",
      "weighted avg       0.91      0.91      0.91      2274\n",
      "\n"
     ]
    }
   ],
   "source": [
    "# Let's just look at positive or negative reviews | Using the text column that has stopwords\n",
    "\n",
    "text = tweets_noneg['cleaned_text_stopwords'].values\n",
    "labels = tweets_noneg['airline_sentiment'].values # sent_encode\n",
    "\n",
    "text_train, text_test, labels_train, labels_test = train_test_split(text, labels, test_size=0.2, random_state=42)\n",
    "\n",
    "vectorizer = TfidfVectorizer(max_features=1000)\n",
    "X_train_tfidf = vectorizer.fit_transform(text_train)\n",
    "X_test_tfidf = vectorizer.transform(text_test)\n",
    "\n",
    "joblib.dump(vectorizer, 'tfidf_vectorizer.pkl')\n",
    "\n",
    "# Hyperparameter tuning using Grid Search\n",
    "param_grid = {'C': [0.1, 1, 10, 100], 'kernel': ['linear'], 'gamma': ['scale', 'auto']}\n",
    "svm_model = SVC()\n",
    "grid_search = GridSearchCV(svm_model, param_grid, cv=3, n_jobs=-1)\n",
    "grid_search.fit(X_train_tfidf, labels_train)\n",
    "\n",
    "print(\"Best Parameters:\", grid_search.best_params_)\n",
    "\n",
    "# Training on the params chosen\n",
    "best_svm_model = grid_search.best_estimator_\n",
    "best_svm_model.fit(X_train_tfidf, labels_train)\n",
    "\n",
    "y_pred = best_svm_model.predict(X_test_tfidf)\n",
    "\n",
    "accuracy = accuracy_score(labels_test, y_pred)\n",
    "print(f'Accuracy: {accuracy:.2f}')\n",
    "\n",
    "print('\\nClassification Report:')\n",
    "print(classification_report(labels_test, y_pred))"
   ]
  },
  {
   "cell_type": "code",
   "execution_count": 216,
   "metadata": {},
   "outputs": [
    {
     "name": "stdout",
     "output_type": "stream",
     "text": [
      "Top Ten Words:\n",
      "Word: thank, Coefficient: 5.796568006962175\n",
      "Word: thanks, Coefficient: 5.213620789894423\n",
      "Word: great, Coefficient: 3.712731365863072\n",
      "Word: awesome, Coefficient: 3.2793622058204552\n",
      "Word: worries, Coefficient: 3.1384207492240046\n",
      "Word: love, Coefficient: 3.1201806777865273\n",
      "Word: kudos, Coefficient: 2.9660472551314645\n",
      "Word: amazing, Coefficient: 2.9189827472194785\n",
      "Word: best, Coefficient: 2.847474799833277\n",
      "Word: excellent, Coefficient: 2.748364900368202\n"
     ]
    }
   ],
   "source": [
    "# Assuming your model is a linear SVM\n",
    "if best_svm_model.kernel == 'linear':\n",
    "    # Get the feature names from the TfidfVectorizer\n",
    "    feature_names = vectorizer.get_feature_names_out()\n",
    "\n",
    "    # Get the coefficients (weights) of the features\n",
    "    coefficients = best_svm_model.coef_.toarray()[0]\n",
    "\n",
    "    # Create a dictionary with feature names and their corresponding coefficients\n",
    "    feature_coefficients = dict(zip(feature_names, coefficients))\n",
    "\n",
    "    # Get the top ten words based on their coefficients\n",
    "    top_ten_words = sorted(feature_coefficients.items(), key=lambda x: x[1], reverse=True)[:10]\n",
    "\n",
    "    # Display the top ten words and their coefficients\n",
    "    print(\"Top Ten Words:\")\n",
    "    for word, coefficient in top_ten_words:\n",
    "        print(f\"Word: {word}, Coefficient: {coefficient}\")\n",
    "else:\n",
    "    print(\"Top words can only be extracted for linear SVM models.\")\n"
   ]
  },
  {
   "cell_type": "code",
   "execution_count": 221,
   "metadata": {},
   "outputs": [
    {
     "name": "stdout",
     "output_type": "stream",
     "text": [
      "Best Parameters: {'C': 1, 'gamma': 'scale', 'kernel': 'linear'}\n",
      "Accuracy: 0.91\n",
      "\n",
      "Classification Report:\n",
      "              precision    recall  f1-score   support\n",
      "\n",
      "    negative       0.92      0.97      0.94      1822\n",
      "    positive       0.84      0.65      0.74       452\n",
      "\n",
      "    accuracy                           0.91      2274\n",
      "   macro avg       0.88      0.81      0.84      2274\n",
      "weighted avg       0.90      0.91      0.90      2274\n",
      "\n"
     ]
    }
   ],
   "source": [
    "# Doing the one above, but this time w/ ngrams\n",
    "\n",
    "# Let's just look at positive or negative reviews | Using the text column that has stopwords\n",
    "\n",
    "text = tweets_noneg['cleaned_text_stopwords'].values\n",
    "labels = tweets_noneg['airline_sentiment'].values # sent_encode\n",
    "\n",
    "text_train, text_test, labels_train, labels_test = train_test_split(text, labels, test_size=0.2, random_state=42)\n",
    "\n",
    "vectorizer = TfidfVectorizer(max_features=1000, ngram_range=(1,3))\n",
    "X_train_tfidf = vectorizer.fit_transform(text_train)\n",
    "X_test_tfidf = vectorizer.transform(text_test)\n",
    "\n",
    "joblib.dump(vectorizer, 'tfidf_vectorizer.pkl')\n",
    "\n",
    "# Hyperparameter tuning using Grid Search\n",
    "param_grid = {'C': [0.1, 1, 10, 100], 'kernel': ['linear'], 'gamma': ['scale', 'auto']}\n",
    "svm_model = SVC()\n",
    "grid_search = GridSearchCV(svm_model, param_grid, cv=3, n_jobs=-1)\n",
    "grid_search.fit(X_train_tfidf, labels_train)\n",
    "\n",
    "print(\"Best Parameters:\", grid_search.best_params_)\n",
    "\n",
    "# Training on the params chosen\n",
    "best_svm_model = grid_search.best_estimator_\n",
    "best_svm_model.fit(X_train_tfidf, labels_train)\n",
    "\n",
    "y_pred = best_svm_model.predict(X_test_tfidf)\n",
    "\n",
    "accuracy = accuracy_score(labels_test, y_pred)\n",
    "print(f'Accuracy: {accuracy:.2f}')\n",
    "\n",
    "print('\\nClassification Report:')\n",
    "print(classification_report(labels_test, y_pred))"
   ]
  },
  {
   "cell_type": "code",
   "execution_count": 217,
   "metadata": {},
   "outputs": [
    {
     "name": "stdout",
     "output_type": "stream",
     "text": [
      "Best Parameters: {'C': 1, 'gamma': 'scale', 'kernel': 'linear'}\n",
      "Accuracy: 0.91\n",
      "\n",
      "Classification Report:\n",
      "              precision    recall  f1-score   support\n",
      "\n",
      "    negative       0.92      0.96      0.94      1822\n",
      "    positive       0.82      0.68      0.74       452\n",
      "\n",
      "    accuracy                           0.91      2274\n",
      "   macro avg       0.87      0.82      0.84      2274\n",
      "weighted avg       0.90      0.91      0.90      2274\n",
      "\n"
     ]
    }
   ],
   "source": [
    "# Let's just look at positive or negative reviews | Using the text column w/out stopwords\n",
    "\n",
    "text = tweets_noneg['cleaned_text'].values\n",
    "labels = tweets_noneg['airline_sentiment'].values # sent_encode\n",
    "\n",
    "text_train, text_test, labels_train, labels_test = train_test_split(text, labels, test_size=0.2, random_state=42)\n",
    "\n",
    "vectorizer = TfidfVectorizer(max_features=1000)\n",
    "X_train_tfidf = vectorizer.fit_transform(text_train)\n",
    "X_test_tfidf = vectorizer.transform(text_test)\n",
    "\n",
    "joblib.dump(vectorizer, 'tfidf_vectorizer.pkl')\n",
    "\n",
    "# Hyperparameter tuning using Grid Search\n",
    "param_grid = {'C': [0.1, 1, 10, 100], 'kernel': ['linear'], 'gamma': ['scale', 'auto']}\n",
    "svm_model = SVC()\n",
    "grid_search = GridSearchCV(svm_model, param_grid, cv=3, n_jobs=-1)\n",
    "grid_search.fit(X_train_tfidf, labels_train)\n",
    "\n",
    "print(\"Best Parameters:\", grid_search.best_params_)\n",
    "\n",
    "# Training on the params chosen\n",
    "best_svm_model = grid_search.best_estimator_\n",
    "best_svm_model.fit(X_train_tfidf, labels_train)\n",
    "\n",
    "y_pred = best_svm_model.predict(X_test_tfidf)\n",
    "\n",
    "accuracy = accuracy_score(labels_test, y_pred)\n",
    "print(f'Accuracy: {accuracy:.2f}')\n",
    "\n",
    "print('\\nClassification Report:')\n",
    "print(classification_report(labels_test, y_pred))"
   ]
  },
  {
   "cell_type": "code",
   "execution_count": 218,
   "metadata": {},
   "outputs": [
    {
     "name": "stdout",
     "output_type": "stream",
     "text": [
      "Top Ten Words:\n",
      "Word: thank, Coefficient: 5.434660664791619\n",
      "Word: thanks, Coefficient: 5.051675021396271\n",
      "Word: great, Coefficient: 3.628321835582292\n",
      "Word: love, Coefficient: 3.488961371195821\n",
      "Word: awesome, Coefficient: 3.4273098229897863\n",
      "Word: kudos, Coefficient: 3.184213641018049\n",
      "Word: excellent, Coefficient: 3.129462192243836\n",
      "Word: amazing, Coefficient: 2.956358154324712\n",
      "Word: best, Coefficient: 2.809539613325472\n",
      "Word: worries, Coefficient: 2.5238416263767802\n"
     ]
    }
   ],
   "source": [
    "# Assuming your model is a linear SVM\n",
    "if best_svm_model.kernel == 'linear':\n",
    "    # Get the feature names from the TfidfVectorizer\n",
    "    feature_names = vectorizer.get_feature_names_out()\n",
    "\n",
    "    # Get the coefficients (weights) of the features\n",
    "    coefficients = best_svm_model.coef_.toarray()[0]\n",
    "\n",
    "    # Create a dictionary with feature names and their corresponding coefficients\n",
    "    feature_coefficients = dict(zip(feature_names, coefficients))\n",
    "\n",
    "    # Get the top ten words based on their coefficients\n",
    "    top_ten_words = sorted(feature_coefficients.items(), key=lambda x: x[1], reverse=True)[:10]\n",
    "\n",
    "    # Display the top ten words and their coefficients\n",
    "    print(\"Top Ten Words:\")\n",
    "    for word, coefficient in top_ten_words:\n",
    "        print(f\"Word: {word}, Coefficient: {coefficient}\")\n",
    "else:\n",
    "    print(\"Top words can only be extracted for linear SVM models.\")\n"
   ]
  },
  {
   "cell_type": "code",
   "execution_count": 223,
   "metadata": {},
   "outputs": [
    {
     "name": "stdout",
     "output_type": "stream",
     "text": [
      "Best Parameters: {'C': 1, 'gamma': 'scale', 'kernel': 'linear'}\n",
      "Accuracy: 0.94\n",
      "\n",
      "Classification Report:\n",
      "              precision    recall  f1-score   support\n",
      "\n",
      "    negative       0.95      0.97      0.96      1501\n",
      "    positive       0.86      0.76      0.81       302\n",
      "\n",
      "    accuracy                           0.94      1803\n",
      "   macro avg       0.90      0.87      0.88      1803\n",
      "weighted avg       0.94      0.94      0.94      1803\n",
      "\n"
     ]
    }
   ],
   "source": [
    "# Subsetting to only use tweets with Confidence level above .7 and no neutral reviews\n",
    "\n",
    "data_clean = tweets_noneg[tweets_noneg['airline_sentiment_confidence'] > 0.7]\n",
    "\n",
    "text = data_clean['cleaned_text'].values\n",
    "labels = data_clean['airline_sentiment'].values # sent_encode\n",
    "\n",
    "text_train, text_test, labels_train, labels_test = train_test_split(text, labels, test_size=0.2, random_state=42)\n",
    "\n",
    "vectorizer = TfidfVectorizer(max_features=1000)\n",
    "X_train_tfidf = vectorizer.fit_transform(text_train)\n",
    "X_test_tfidf = vectorizer.transform(text_test)\n",
    "\n",
    "joblib.dump(vectorizer, 'tfidf_vectorizer.pkl')\n",
    "\n",
    "# Hyperparameter tuning using Grid Search\n",
    "param_grid = {'C': [0.1, 1, 10, 100], 'kernel': ['linear'], 'gamma': ['scale', 'auto']}\n",
    "svm_model = SVC()\n",
    "grid_search = GridSearchCV(svm_model, param_grid, cv=3, n_jobs=-1)\n",
    "grid_search.fit(X_train_tfidf, labels_train)\n",
    "\n",
    "print(\"Best Parameters:\", grid_search.best_params_)\n",
    "\n",
    "# Training on the params chosen\n",
    "best_svm_model = grid_search.best_estimator_\n",
    "best_svm_model.fit(X_train_tfidf, labels_train)\n",
    "\n",
    "y_pred = best_svm_model.predict(X_test_tfidf)\n",
    "\n",
    "accuracy = accuracy_score(labels_test, y_pred)\n",
    "print(f'Accuracy: {accuracy:.2f}')\n",
    "\n",
    "print('\\nClassification Report:')\n",
    "print(classification_report(labels_test, y_pred))"
   ]
  },
  {
   "cell_type": "code",
   "execution_count": 225,
   "metadata": {},
   "outputs": [
    {
     "name": "stdout",
     "output_type": "stream",
     "text": [
      "Best Parameters: {'C': 1, 'gamma': 'scale', 'kernel': 'linear'}\n",
      "Accuracy: 0.94\n",
      "\n",
      "Classification Report:\n",
      "              precision    recall  f1-score   support\n",
      "\n",
      "    negative       0.95      0.98      0.97      1501\n",
      "    positive       0.89      0.74      0.81       302\n",
      "\n",
      "    accuracy                           0.94      1803\n",
      "   macro avg       0.92      0.86      0.89      1803\n",
      "weighted avg       0.94      0.94      0.94      1803\n",
      "\n"
     ]
    }
   ],
   "source": [
    "# Using N Grams and column that has stopwords inside\n",
    "\n",
    "text = data_clean['cleaned_text_stopwords'].values\n",
    "labels = data_clean['airline_sentiment'].values\n",
    "\n",
    "text_train, text_test, labels_train, labels_test = train_test_split(text, labels, test_size=0.2, random_state=42)\n",
    "\n",
    "# Adjusting TfidfVectorizer to include unigrams and bigrams\n",
    "vectorizer = TfidfVectorizer(max_features=1000, ngram_range=(1, 2))\n",
    "X_train_tfidf = vectorizer.fit_transform(text_train)\n",
    "X_test_tfidf = vectorizer.transform(text_test)\n",
    "\n",
    "# Saving the vectorizer\n",
    "joblib.dump(vectorizer, 'tfidf_vectorizer.pkl')\n",
    "\n",
    "# Hyperparameter tuning using Grid Search\n",
    "param_grid = {'C': [0.1, 1, 10, 100], 'kernel': ['linear'], 'gamma': ['scale', 'auto']}\n",
    "svm_model = SVC()\n",
    "grid_search = GridSearchCV(svm_model, param_grid, cv=3, n_jobs=-1)\n",
    "grid_search.fit(X_train_tfidf, labels_train)\n",
    "\n",
    "print(\"Best Parameters:\", grid_search.best_params_)\n",
    "\n",
    "# Training on the params chosen\n",
    "best_svm_model = grid_search.best_estimator_\n",
    "best_svm_model.fit(X_train_tfidf, labels_train)\n",
    "\n",
    "y_pred = best_svm_model.predict(X_test_tfidf)\n",
    "\n",
    "accuracy = accuracy_score(labels_test, y_pred)\n",
    "print(f'Accuracy: {accuracy:.2f}')\n",
    "\n",
    "print('\\nClassification Report:')\n",
    "print(classification_report(labels_test, y_pred))"
   ]
  },
  {
   "cell_type": "code",
   "execution_count": 171,
   "metadata": {},
   "outputs": [
    {
     "name": "stdout",
     "output_type": "stream",
     "text": [
      "Top Ten Words:\n",
      "Word: thank, Coefficient: 5.330090362198274\n",
      "Word: thanks, Coefficient: 4.444562020088306\n",
      "Word: great, Coefficient: 3.632983967402425\n",
      "Word: awesome, Coefficient: 3.463932700583629\n",
      "Word: kudos, Coefficient: 3.197963146635076\n",
      "Word: love, Coefficient: 3.1808485426526976\n",
      "Word: amazing, Coefficient: 3.1310069682021044\n",
      "Word: best, Coefficient: 3.101519361989108\n",
      "Word: appreciate, Coefficient: 2.5759667979914567\n",
      "Word: excellent, Coefficient: 2.3984986483788755\n"
     ]
    }
   ],
   "source": [
    "# Assuming your model is a linear SVM\n",
    "if best_svm_model.kernel == 'linear':\n",
    "    # Get the feature names from the TfidfVectorizer\n",
    "    feature_names = vectorizer.get_feature_names_out()\n",
    "\n",
    "    # Get the coefficients (weights) of the features\n",
    "    coefficients = best_svm_model.coef_.toarray()[0]\n",
    "\n",
    "    # Create a dictionary with feature names and their corresponding coefficients\n",
    "    feature_coefficients = dict(zip(feature_names, coefficients))\n",
    "\n",
    "    # Get the top ten words based on their coefficients\n",
    "    top_ten_words = sorted(feature_coefficients.items(), key=lambda x: x[1], reverse=True)[:10]\n",
    "\n",
    "    # Display the top ten words and their coefficients\n",
    "    print(\"Top Ten Words:\")\n",
    "    for word, coefficient in top_ten_words:\n",
    "        print(f\"Word: {word}, Coefficient: {coefficient}\")\n",
    "else:\n",
    "    print(\"Top words can only be extracted for linear SVM models.\")\n"
   ]
  },
  {
   "cell_type": "code",
   "execution_count": 172,
   "metadata": {},
   "outputs": [
    {
     "name": "stdout",
     "output_type": "stream",
     "text": [
      "Best Parameters: {'C': 1, 'gamma': 'scale', 'kernel': 'linear'}\n",
      "Accuracy: 0.91\n",
      "\n",
      "Classification Report:\n",
      "              precision    recall  f1-score   support\n",
      "\n",
      "    negative       0.92      0.96      0.94      1822\n",
      "    positive       0.82      0.68      0.74       452\n",
      "\n",
      "    accuracy                           0.91      2274\n",
      "   macro avg       0.87      0.82      0.84      2274\n",
      "weighted avg       0.90      0.91      0.90      2274\n",
      "\n"
     ]
    }
   ],
   "source": [
    "# What if we look at just no neutral reviews, not subsetting for confidence as well\n",
    "\n",
    "text = tweets_noneg['cleaned_text'].values\n",
    "labels = tweets_noneg['airline_sentiment'].values\n",
    "\n",
    "text_train, text_test, labels_train, labels_test = train_test_split(text, labels, test_size=0.2, random_state=42)\n",
    "\n",
    "vectorizer = TfidfVectorizer(max_features=1000)\n",
    "X_train_tfidf = vectorizer.fit_transform(text_train)\n",
    "X_test_tfidf = vectorizer.transform(text_test)\n",
    "\n",
    "# Hyperparameter tuning using Grid Search\n",
    "param_grid = {'C': [0.1, 1, 10, 100], 'kernel': ['linear'], 'gamma': ['scale', 'auto']}\n",
    "svm_model = SVC()\n",
    "grid_search = GridSearchCV(svm_model, param_grid, cv=3, n_jobs=-1)\n",
    "grid_search.fit(X_train_tfidf, labels_train)\n",
    "\n",
    "print(\"Best Parameters:\", grid_search.best_params_)\n",
    "\n",
    "# Training on the params chosen\n",
    "best_svm_model = grid_search.best_estimator_\n",
    "best_svm_model.fit(X_train_tfidf, labels_train)\n",
    "\n",
    "y_pred = best_svm_model.predict(X_test_tfidf)\n",
    "\n",
    "accuracy = accuracy_score(labels_test, y_pred)\n",
    "print(f'Accuracy: {accuracy:.2f}')\n",
    "\n",
    "print('\\nClassification Report:')\n",
    "print(classification_report(labels_test, y_pred))"
   ]
  },
  {
   "cell_type": "code",
   "execution_count": 173,
   "metadata": {},
   "outputs": [
    {
     "name": "stdout",
     "output_type": "stream",
     "text": [
      "Best Parameters: {'C': 1, 'gamma': 'scale', 'kernel': 'linear'}\n",
      "Accuracy: 0.91\n",
      "\n",
      "Classification Report:\n",
      "              precision    recall  f1-score   support\n",
      "\n",
      "    negative       0.92      0.96      0.94      1822\n",
      "    positive       0.82      0.68      0.74       452\n",
      "\n",
      "    accuracy                           0.91      2274\n",
      "   macro avg       0.87      0.82      0.84      2274\n",
      "weighted avg       0.90      0.91      0.90      2274\n",
      "\n"
     ]
    }
   ],
   "source": [
    "# What if we look at just no neutral reviews, not subsetting for confidence as well\n",
    "\n",
    "text = tweets_noneg['cleaned_text'].values\n",
    "labels = tweets_noneg['airline_sentiment'].values\n",
    "\n",
    "text_train, text_test, labels_train, labels_test = train_test_split(text, labels, test_size=0.2, random_state=42)\n",
    "\n",
    "vectorizer = TfidfVectorizer(max_features=1000, ngram_range=(1,1)) # 1 gave best accuracy w/ n-gram\n",
    "X_train_tfidf = vectorizer.fit_transform(text_train)\n",
    "X_test_tfidf = vectorizer.transform(text_test)\n",
    "\n",
    "# Hyperparameter tuning using Grid Search\n",
    "param_grid = {'C': [0.1, 1, 10, 100], 'kernel': ['linear'], 'gamma': ['scale', 'auto']}\n",
    "svm_model = SVC()\n",
    "grid_search = GridSearchCV(svm_model, param_grid, cv=3, n_jobs=-1)\n",
    "grid_search.fit(X_train_tfidf, labels_train)\n",
    "\n",
    "print(\"Best Parameters:\", grid_search.best_params_)\n",
    "\n",
    "# Training on the params chosen\n",
    "best_svm_model = grid_search.best_estimator_\n",
    "best_svm_model.fit(X_train_tfidf, labels_train)\n",
    "\n",
    "y_pred = best_svm_model.predict(X_test_tfidf)\n",
    "\n",
    "accuracy = accuracy_score(labels_test, y_pred)\n",
    "print(f'Accuracy: {accuracy:.2f}')\n",
    "\n",
    "print('\\nClassification Report:')\n",
    "print(classification_report(labels_test, y_pred))"
   ]
  },
  {
   "cell_type": "code",
   "execution_count": 176,
   "metadata": {},
   "outputs": [
    {
     "name": "stdout",
     "output_type": "stream",
     "text": [
      "Confusion Matrix:\n",
      "[[1754   68]\n",
      " [ 146  306]]\n"
     ]
    },
    {
     "data": {
      "image/png": "[encoded data removed]",
      "text/plain": [
       "<Figure size 800x800 with 1 Axes>"
      ]
     },
     "metadata": {},
     "output_type": "display_data"
    }
   ],
   "source": [
    "from sklearn.metrics import confusion_matrix, roc_curve, auc\n",
    "import matplotlib.pyplot as plt\n",
    "\n",
    "# Convert string labels to binary labels\n",
    "le = LabelEncoder()\n",
    "labels_test_binary = le.fit_transform(labels_test)\n",
    "y_pred_binary = le.transform(y_pred)\n",
    "\n",
    "# Confusion Matrix\n",
    "cm = confusion_matrix(labels_test_binary, y_pred_binary)\n",
    "print(\"Confusion Matrix:\")\n",
    "print(cm)\n",
    "\n",
    "# ROC Curve\n",
    "fpr, tpr, thresholds = roc_curve(labels_test_binary, best_svm_model.decision_function(X_test_tfidf))\n",
    "roc_auc = auc(fpr, tpr)\n",
    "\n",
    "plt.figure(figsize=(8, 8))\n",
    "plt.plot(fpr, tpr, color='darkorange', lw=2, label=f'ROC curve (AUC = {roc_auc:.2f})')\n",
    "plt.plot([0, 1], [0, 1], color='navy', lw=2, linestyle='--')\n",
    "plt.xlabel('False Positive Rate')\n",
    "plt.ylabel('True Positive Rate')\n",
    "plt.title('Receiver Operating Characteristic (ROC) Curve')\n",
    "plt.legend(loc='lower right')\n",
    "plt.show()"
   ]
  },
  {
   "cell_type": "code",
   "execution_count": 107,
   "metadata": {},
   "outputs": [
    {
     "name": "stdout",
     "output_type": "stream",
     "text": [
      "Sentence: Gaza’s main public library has been destroyed.\n",
      "Predicted Sentiment: negative\n",
      "------\n",
      "Sentence: Palestine is still persevering. They will be free. Do not let them do it alone please.\n",
      "Predicted Sentiment: negative\n",
      "------\n",
      "Sentence: Bernie Sanders is now the lone senator from Vermont, NOT calling for a ceasefire.\n",
      "Predicted Sentiment: negative\n",
      "------\n",
      "Sentence: im feeling really grateful for every club on my campus that has been using their time to help fight for Palestinians.  A lot of those clubs are mostly comprised of poc and it just solidifies the solidarity between us. Our president is so horrible so its nice to have their support.\n",
      "Predicted Sentiment: negative\n",
      "------\n",
      "Sentence: Rain or shine SF shows up for Palestine\n",
      "Predicted Sentiment: negative\n",
      "------\n",
      "Sentence: The 49ers are winning the super bowl this year.\n",
      "Predicted Sentiment: negative\n",
      "------\n"
     ]
    }
   ],
   "source": [
    "# Testing some tweets pulled from my friend's twitter @7weekslive\n",
    "\n",
    "# https://twitter.com/lithub/status/1729252483594342681\n",
    "\n",
    "# https://twitter.com/JhariahClare/status/1730093772220879058\n",
    "\n",
    "# https://twitter.com/RamiJarrah/status/1729611779787964717\n",
    "\n",
    "# https://twitter.com/sitcomabed/status/1730753622684623083\n",
    "\n",
    "# https://twitter.com/muttnik/status/1731119902575178202\n",
    "\n",
    "# From the tweets above\n",
    "test_sentences = [\"Gaza’s main public library has been destroyed.\",\n",
    "                  \"Palestine is still persevering. They will be free. Do not let them do it alone please.\",\n",
    "                   \"Bernie Sanders is now the lone senator from Vermont, NOT calling for a ceasefire.\",\n",
    "                   \"im feeling really grateful for every club on my campus that has been using their time to help fight for Palestinians.  A lot of those clubs are mostly comprised of poc and it just solidifies the solidarity between us. Our president is so horrible so its nice to have their support.\",\n",
    "                   \"Rain or shine SF shows up for Palestine\",\n",
    "                   \"The 49ers are winning the super bowl this year.\"]\n",
    "\n",
    "# This was the model stored from the best performing accuracy test using SVM. We did this one with no neutral reviews and greater than 70% confidence\n",
    "vectorizer = joblib.load('tfidf_vectorizer.pkl')\n",
    "\n",
    "# prepocessing using function from above\n",
    "cleaned_test_sentences = [tweet_to_words(sentence) for sentence in test_sentences]\n",
    "\n",
    "X_test_sentences_tfidf = vectorizer.transform(cleaned_test_sentences)\n",
    "\n",
    "predictions = best_svm_model.predict(X_test_sentences_tfidf)\n",
    "\n",
    "# Printing\n",
    "for sentence, prediction in zip(test_sentences, predictions):\n",
    "    print(f\"Sentence: {sentence}\")\n",
    "    print(f\"Predicted Sentiment: {prediction}\")\n",
    "    print(\"------\")\n"
   ]
  },
  {
   "cell_type": "code",
   "execution_count": 186,
   "metadata": {},
   "outputs": [
    {
     "name": "stdout",
     "output_type": "stream",
     "text": [
      "Tweet(id=1537677040597483525, author=User(id=42562446, username=StephenCurry30, name=Stephen Curry, verified=True), created_on=2022-06-17 06:02:29+00:00)\n",
      "Tweet(id=1538964823311908864, author=User(id=42562446, username=StephenCurry30, name=Stephen Curry, verified=True), created_on=2022-06-20 19:19:41+00:00)\n",
      "Tweet(id=1575513553368293376, author=User(id=42562446, username=StephenCurry30, name=Stephen Curry, verified=True), created_on=2022-09-29 15:51:17+00:00)\n",
      "Tweet(id=1425243515307450372, author=User(id=42562446, username=StephenCurry30, name=Stephen Curry, verified=True), created_on=2021-08-10 23:51:48+00:00)\n",
      "Tweet(id=1529256335635890176, author=User(id=42562446, username=StephenCurry30, name=Stephen Curry, verified=True), created_on=2022-05-25 00:21:37+00:00)\n",
      "Tweet(id=1025808660637745152, author=User(id=42562446, username=StephenCurry30, name=Stephen Curry, verified=True), created_on=2018-08-04 18:20:17+00:00)\n",
      "Tweet(id=1623185534301655040, author=User(id=42562446, username=StephenCurry30, name=Stephen Curry, verified=True), created_on=2023-02-08 05:02:43+00:00)\n",
      "Tweet(id=874524345258745857, author=User(id=42562446, username=StephenCurry30, name=Stephen Curry, verified=True), created_on=2017-06-13 07:10:26+00:00)\n",
      "Tweet(id=1311131842968510471, author=User(id=42562446, username=StephenCurry30, name=Stephen Curry, verified=True), created_on=2020-09-30 02:32:45+00:00)\n",
      "Tweet(id=1552105185752756224, author=User(id=42562446, username=StephenCurry30, name=Stephen Curry, verified=True), created_on=2022-07-27 01:34:47+00:00)\n",
      "Tweet(id=1368795343832383489, author=User(id=42562446, username=StephenCurry30, name=Stephen Curry, verified=True), created_on=2021-03-08 05:26:55+00:00)\n",
      "Tweet(id=1574802122767421444, author=User(id=42562446, username=StephenCurry30, name=Stephen Curry, verified=True), created_on=2022-09-27 16:44:19+00:00)\n",
      "Tweet(id=1057889189876756480, author=User(id=42562446, username=StephenCurry30, name=Stephen Curry, verified=True), created_on=2018-11-01 06:56:52+00:00)\n",
      "Tweet(id=1548386459735900162, author=User(id=42562446, username=StephenCurry30, name=Stephen Curry, verified=True), created_on=2022-07-16 19:17:54+00:00)\n",
      "Tweet(id=1068151047460409345, author=User(id=42562446, username=StephenCurry30, name=Stephen Curry, verified=True), created_on=2018-11-29 14:33:49+00:00)\n",
      "Tweet(id=1479942918005690368, author=User(id=42562446, username=StephenCurry30, name=Stephen Curry, verified=True), created_on=2022-01-08 22:27:42+00:00)\n",
      "Tweet(id=1237995370019348480, author=User(id=42562446, username=StephenCurry30, name=Stephen Curry, verified=True), created_on=2020-03-12 06:54:31+00:00)\n",
      "Tweet(id=1013945339244527616, author=User(id=42562446, username=StephenCurry30, name=Stephen Curry, verified=True), created_on=2018-07-03 00:39:41+00:00)\n",
      "Tweet(id=1297664598854627329, author=User(id=42562446, username=StephenCurry30, name=Stephen Curry, verified=True), created_on=2020-08-23 22:38:44+00:00)\n",
      "Tweet(id=1417691623052382214, author=User(id=42562446, username=StephenCurry30, name=Stephen Curry, verified=True), created_on=2021-07-21 03:43:17+00:00)\n",
      "Tweet(id=1410446524237058050, author=User(id=42562446, username=StephenCurry30, name=Stephen Curry, verified=True), created_on=2021-07-01 03:53:50+00:00)\n",
      "Tweet(id=1072586407984685056, author=User(id=42562446, username=StephenCurry30, name=Stephen Curry, verified=True), created_on=2018-12-11 20:18:22+00:00)\n",
      "Tweet(id=1514736256248283165, author=User(id=42562446, username=StephenCurry30, name=Stephen Curry, verified=True), created_on=2022-04-14 22:44:00+00:00)\n",
      "Tweet(id=1508321138216079362, author=User(id=42562446, username=StephenCurry30, name=Stephen Curry, verified=True), created_on=2022-03-28 05:52:37+00:00)\n",
      "Tweet(id=1165630478239465475, author=User(id=42562446, username=StephenCurry30, name=Stephen Curry, verified=True), created_on=2019-08-25 14:22:17+00:00)\n",
      "Tweet(id=875480703198052352, author=User(id=42562446, username=StephenCurry30, name=Stephen Curry, verified=True), created_on=2017-06-15 22:30:39+00:00)\n",
      "Tweet(id=1399938587114840064, author=User(id=42562446, username=StephenCurry30, name=Stephen Curry, verified=True), created_on=2021-06-02 03:59:03+00:00)\n",
      "Tweet(id=1495775170149163011, author=User(id=42562446, username=StephenCurry30, name=Stephen Curry, verified=True), created_on=2022-02-21 14:59:25+00:00)\n",
      "Tweet(id=953135986032037888, author=User(id=42562446, username=StephenCurry30, name=Stephen Curry, verified=True), created_on=2018-01-16 05:25:02+00:00)\n",
      "Tweet(id=1480272699918143489, author=User(id=42562446, username=StephenCurry30, name=Stephen Curry, verified=True), created_on=2022-01-09 20:18:08+00:00)\n",
      "Tweet(id=831233411247382528, author=User(id=42562446, username=StephenCurry30, name=Stephen Curry, verified=True), created_on=2017-02-13 20:07:43+00:00)\n",
      "Tweet(id=1332905307425570816, author=User(id=42562446, username=StephenCurry30, name=Stephen Curry, verified=True), created_on=2020-11-29 04:32:44+00:00)\n",
      "Tweet(id=1289007949235408896, author=User(id=42562446, username=StephenCurry30, name=Stephen Curry, verified=True), created_on=2020-07-31 01:20:18+00:00)\n",
      "Tweet(id=1399449337575337985, author=User(id=42562446, username=StephenCurry30, name=Stephen Curry, verified=True), created_on=2021-05-31 19:34:57+00:00)\n",
      "Tweet(id=986845750049964033, author=User(id=42562446, username=StephenCurry30, name=Stephen Curry, verified=True), created_on=2018-04-19 05:55:36+00:00)\n",
      "Tweet(id=1232145169077522432, author=User(id=42562446, username=StephenCurry30, name=Stephen Curry, verified=True), created_on=2020-02-25 03:27:55+00:00)\n",
      "Tweet(id=1066084533546627072, author=User(id=42562446, username=StephenCurry30, name=Stephen Curry, verified=True), created_on=2018-11-23 21:42:14+00:00)\n",
      "Tweet(id=1382567766549524480, author=User(id=42562446, username=StephenCurry30, name=Stephen Curry, verified=True), created_on=2021-04-15 05:33:37+00:00)\n",
      "Tweet(id=942589817606438913, author=User(id=42562446, username=StephenCurry30, name=Stephen Curry, verified=True), created_on=2017-12-18 02:58:19+00:00)\n",
      "Tweet(id=1024032514585681920, author=User(id=42562446, username=StephenCurry30, name=Stephen Curry, verified=True), created_on=2018-07-30 20:42:31+00:00)\n",
      "Tweet(id=1239303823367143424, author=User(id=42562446, username=StephenCurry30, name=Stephen Curry, verified=True), created_on=2020-03-15 21:33:51+00:00)\n",
      "Tweet(id=1291561175889502209, author=User(id=42562446, username=StephenCurry30, name=Stephen Curry, verified=True), created_on=2020-08-07 02:25:55+00:00)\n",
      "Tweet(id=1371132787588280332, author=User(id=42562446, username=StephenCurry30, name=Stephen Curry, verified=True), created_on=2021-03-14 16:15:05+00:00)\n",
      "Tweet(id=1350678188872011778, author=User(id=42562446, username=StephenCurry30, name=Stephen Curry, verified=True), created_on=2021-01-17 05:35:49+00:00)\n",
      "Tweet(id=1627149382981406727, author=User(id=42562446, username=StephenCurry30, name=Stephen Curry, verified=True), created_on=2023-02-19 03:33:38+00:00)\n",
      "Tweet(id=1368790435087409152, author=User(id=42562446, username=StephenCurry30, name=Stephen Curry, verified=True), created_on=2021-03-08 05:07:25+00:00)\n",
      "Tweet(id=1406449022466854912, author=User(id=42562446, username=StephenCurry30, name=Stephen Curry, verified=True), created_on=2021-06-20 03:09:12+00:00)\n",
      "Tweet(id=1240504313979367427, author=User(id=42562446, username=StephenCurry30, name=Stephen Curry, verified=True), created_on=2020-03-19 05:04:10+00:00)\n",
      "Tweet(id=1381857265888673792, author=User(id=42562446, username=StephenCurry30, name=Stephen Curry, verified=True), created_on=2021-04-13 06:30:20+00:00)\n",
      "Tweet(id=1372792082058813443, author=User(id=42562446, username=StephenCurry30, name=Stephen Curry, verified=True), created_on=2021-03-19 06:08:32+00:00)\n",
      "Tweet(id=611125567556059136, author=User(id=42562446, username=StephenCurry30, name=Stephen Curry, verified=True), created_on=2015-06-17 10:57:44+00:00)\n",
      "Tweet(id=1038475255008751617, author=User(id=42562446, username=StephenCurry30, name=Stephen Curry, verified=True), created_on=2018-09-08 17:12:49+00:00)\n",
      "Tweet(id=1435047716950667264, author=User(id=42562446, username=StephenCurry30, name=Stephen Curry, verified=True), created_on=2021-09-07 01:10:12+00:00)\n",
      "Tweet(id=1471163856034557955, author=User(id=42562446, username=StephenCurry30, name=Stephen Curry, verified=True), created_on=2021-12-15 17:02:50+00:00)\n",
      "Tweet(id=1332899038337744898, author=User(id=42562446, username=StephenCurry30, name=Stephen Curry, verified=True), created_on=2020-11-29 04:07:49+00:00)\n",
      "Tweet(id=920467653046571009, author=User(id=42562446, username=StephenCurry30, name=Stephen Curry, verified=True), created_on=2017-10-18 01:52:44+00:00)\n",
      "Tweet(id=1601264791011872768, author=User(id=42562446, username=StephenCurry30, name=Stephen Curry, verified=True), created_on=2022-12-09 17:17:30+00:00)\n",
      "Tweet(id=712763646003126272, author=User(id=42562446, username=StephenCurry30, name=Stephen Curry, verified=True), created_on=2016-03-23 22:11:10+00:00)\n",
      "Tweet(id=1112502814834479106, author=User(id=42562446, username=StephenCurry30, name=Stephen Curry, verified=True), created_on=2019-03-31 23:51:55+00:00)\n",
      "Tweet(id=720509951177842689, author=User(id=42562446, username=StephenCurry30, name=Stephen Curry, verified=True), created_on=2016-04-14 07:12:13+00:00)\n",
      "Tweet(id=729439865784307712, author=User(id=42562446, username=StephenCurry30, name=Stephen Curry, verified=True), created_on=2016-05-08 22:36:30+00:00)\n",
      "Tweet(id=874814532761276416, author=User(id=42562446, username=StephenCurry30, name=Stephen Curry, verified=True), created_on=2017-06-14 02:23:32+00:00)\n",
      "Tweet(id=724673019541487616, author=User(id=42562446, username=StephenCurry30, name=Stephen Curry, verified=True), created_on=2016-04-25 18:54:46+00:00)\n",
      "Tweet(id=1630809551594483713, author=User(id=42562446, username=StephenCurry30, name=Stephen Curry, verified=True), created_on=2023-03-01 05:57:50+00:00)\n",
      "Tweet(id=1679991366968016897, author=User(id=42562446, username=StephenCurry30, name=Stephen Curry, verified=True), created_on=2023-07-14 23:08:49+00:00)\n",
      "Tweet(id=1358620595454414849, author=User(id=42562446, username=StephenCurry30, name=Stephen Curry, verified=True), created_on=2021-02-08 03:36:06+00:00)\n",
      "Tweet(id=1353266269806448640, author=User(id=42562446, username=StephenCurry30, name=Stephen Curry, verified=True), created_on=2021-01-24 08:59:55+00:00)\n",
      "Tweet(id=1034192333015674880, author=User(id=42562446, username=StephenCurry30, name=Stephen Curry, verified=True), created_on=2018-08-27 21:34:01+00:00)\n",
      "Tweet(id=1117504662947581952, author=User(id=42562446, username=StephenCurry30, name=Stephen Curry, verified=True), created_on=2019-04-14 19:07:28+00:00)\n",
      "Tweet(id=978537330511368192, author=User(id=42562446, username=StephenCurry30, name=Stephen Curry, verified=True), created_on=2018-03-27 07:40:54+00:00)\n",
      "Tweet(id=1346954529036619781, author=User(id=42562446, username=StephenCurry30, name=Stephen Curry, verified=True), created_on=2021-01-06 22:59:19+00:00)\n",
      "Tweet(id=755581979089698816, author=User(id=42562446, username=StephenCurry30, name=Stephen Curry, verified=True), created_on=2016-07-20 01:55:56+00:00)\n",
      "Tweet(id=1235371512795770880, author=User(id=42562446, username=StephenCurry30, name=Stephen Curry, verified=True), created_on=2020-03-05 01:08:15+00:00)\n",
      "Tweet(id=1359404034357157888, author=User(id=42562446, username=StephenCurry30, name=Stephen Curry, verified=True), created_on=2021-02-10 07:29:12+00:00)\n",
      "Tweet(id=1145733362998317057, author=User(id=42562446, username=StephenCurry30, name=Stephen Curry, verified=True), created_on=2019-07-01 16:38:15+00:00)\n",
      "Tweet(id=1014011750251810816, author=User(id=42562446, username=StephenCurry30, name=Stephen Curry, verified=True), created_on=2018-07-03 05:03:35+00:00)\n",
      "Tweet(id=1406054947498598400, author=User(id=42562446, username=StephenCurry30, name=Stephen Curry, verified=True), created_on=2021-06-19 01:03:17+00:00)\n",
      "Tweet(id=1235762298033037313, author=User(id=42562446, username=StephenCurry30, name=Stephen Curry, verified=True), created_on=2020-03-06 03:01:05+00:00)\n",
      "Tweet(id=1249859221065068544, author=User(id=42562446, username=StephenCurry30, name=Stephen Curry, verified=True), created_on=2020-04-14 00:37:14+00:00)\n",
      "Tweet(id=1368591076529995776, author=User(id=42562446, username=StephenCurry30, name=Stephen Curry, verified=True), created_on=2021-03-07 15:55:14+00:00)\n",
      "Tweet(id=1542666539756707840, author=User(id=42562446, username=StephenCurry30, name=Stephen Curry, verified=True), created_on=2022-07-01 00:28:59+00:00)\n",
      "Tweet(id=5639862962, author=User(id=42562446, username=StephenCurry30, name=Stephen Curry, verified=True), created_on=2009-11-12 03:52:45+00:00)\n",
      "Tweet(id=1423726824052322306, author=User(id=42562446, username=StephenCurry30, name=Stephen Curry, verified=True), created_on=2021-08-06 19:25:01+00:00)\n",
      "Tweet(id=720508270864150528, author=User(id=42562446, username=StephenCurry30, name=Stephen Curry, verified=True), created_on=2016-04-14 07:05:32+00:00)\n",
      "Tweet(id=1329301576972832769, author=User(id=42562446, username=StephenCurry30, name=Stephen Curry, verified=True), created_on=2020-11-19 05:52:47+00:00)\n",
      "Tweet(id=921987767747448832, author=User(id=42562446, username=StephenCurry30, name=Stephen Curry, verified=True), created_on=2017-10-22 06:33:08+00:00)\n",
      "Tweet(id=1212522376631443457, author=User(id=42562446, username=StephenCurry30, name=Stephen Curry, verified=True), created_on=2020-01-01 23:53:56+00:00)\n",
      "Tweet(id=1157679305155067905, author=User(id=42562446, username=StephenCurry30, name=Stephen Curry, verified=True), created_on=2019-08-03 15:47:09+00:00)\n",
      "Tweet(id=752636904391122944, author=User(id=42562446, username=StephenCurry30, name=Stephen Curry, verified=True), created_on=2016-07-11 22:53:15+00:00)\n",
      "Tweet(id=696542942656266243, author=User(id=42562446, username=StephenCurry30, name=Stephen Curry, verified=True), created_on=2016-02-08 03:55:53+00:00)\n",
      "Tweet(id=1295935782759235584, author=User(id=42562446, username=StephenCurry30, name=Stephen Curry, verified=True), created_on=2020-08-19 04:09:02+00:00)\n",
      "Tweet(id=1388629263230767106, author=User(id=42562446, username=StephenCurry30, name=Stephen Curry, verified=True), created_on=2021-05-01 22:59:50+00:00)\n",
      "Tweet(id=1238654731171401730, author=User(id=42562446, username=StephenCurry30, name=Stephen Curry, verified=True), created_on=2020-03-14 02:34:35+00:00)\n",
      "Tweet(id=1463773010591027200, author=User(id=42562446, username=StephenCurry30, name=Stephen Curry, verified=True), created_on=2021-11-25 07:34:15+00:00)\n",
      "Tweet(id=980295387352150016, author=User(id=42562446, username=StephenCurry30, name=Stephen Curry, verified=True), created_on=2018-04-01 04:06:48+00:00)\n",
      "Tweet(id=1288668608231387137, author=User(id=42562446, username=StephenCurry30, name=Stephen Curry, verified=True), created_on=2020-07-30 02:51:53+00:00)\n",
      "Tweet(id=1423155438569152512, author=User(id=42562446, username=StephenCurry30, name=Stephen Curry, verified=True), created_on=2021-08-05 05:34:32+00:00)\n",
      "Tweet(id=1360118891658186756, author=User(id=42562446, username=StephenCurry30, name=Stephen Curry, verified=True), created_on=2021-02-12 06:49:48+00:00)\n",
      "Tweet(id=1627135618030632960, author=User(id=42562446, username=StephenCurry30, name=Stephen Curry, verified=True), created_on=2023-02-19 02:38:56+00:00)\n",
      "Tweet(id=942960759176249344, author=User(id=42562446, username=StephenCurry30, name=Stephen Curry, verified=True), created_on=2017-12-19 03:32:19+00:00)\n"
     ]
    }
   ],
   "source": [
    "app = Twitter(\"session\")\n",
    "\n",
    "all_tweets = app.get_tweets(\"StephenCurry30\")\n",
    "for tweet in all_tweets:\n",
    "    print(tweet)"
   ]
  },
  {
   "cell_type": "code",
   "execution_count": 39,
   "metadata": {},
   "outputs": [
    {
     "data": {
      "text/plain": [
       "UserTweets(user_id=42562446, count=0)"
      ]
     },
     "execution_count": 39,
     "metadata": {},
     "output_type": "execute_result"
    }
   ],
   "source": [
    "all_tweets"
   ]
  },
  {
   "cell_type": "code",
   "execution_count": 61,
   "metadata": {},
   "outputs": [
    {
     "data": {
      "application/vnd.plotly.v1+json": {
       "config": {
        "plotlyServerURL": "https://plot.ly"
       },
       "data": [
        {
         "alignmentgroup": "True",
         "hovertemplate": "Count=%{x}<br>Word=%{y}<extra></extra>",
         "legendgroup": "",
         "marker": {
          "color": "#636efa",
          "pattern": {
           "shape": ""
          }
         },
         "name": "",
         "offsetgroup": "",
         "orientation": "h",
         "showlegend": false,
         "textposition": "auto",
         "type": "bar",
         "x": [
          3428,
          3341,
          2651,
          2465,
          1790,
          1648,
          1104,
          964,
          926,
          912
         ],
         "xaxis": "x",
         "y": [
          "united",
          "flight",
          "usairways",
          "americanair",
          "southwestair",
          "jetblue",
          "get",
          "cancelled",
          "thanks",
          "service"
         ],
         "yaxis": "y"
        }
       ],
       "layout": {
        "barmode": "relative",
        "legend": {
         "tracegroupgap": 0
        },
        "template": {
         "data": {
          "bar": [
           {
            "error_x": {
             "color": "#f2f5fa"
            },
            "error_y": {
             "color": "#f2f5fa"
            },
            "marker": {
             "line": {
              "color": "rgb(17,17,17)",
              "width": 0.5
             },
             "pattern": {
              "fillmode": "overlay",
              "size": 10,
              "solidity": 0.2
             }
            },
            "type": "bar"
           }
          ],
          "barpolar": [
           {
            "marker": {
             "line": {
              "color": "rgb(17,17,17)",
              "width": 0.5
             },
             "pattern": {
              "fillmode": "overlay",
              "size": 10,
              "solidity": 0.2
             }
            },
            "type": "barpolar"
           }
          ],
          "carpet": [
           {
            "aaxis": {
             "endlinecolor": "#A2B1C6",
             "gridcolor": "#506784",
             "linecolor": "#506784",
             "minorgridcolor": "#506784",
             "startlinecolor": "#A2B1C6"
            },
            "baxis": {
             "endlinecolor": "#A2B1C6",
             "gridcolor": "#506784",
             "linecolor": "#506784",
             "minorgridcolor": "#506784",
             "startlinecolor": "#A2B1C6"
            },
            "type": "carpet"
           }
          ],
          "choropleth": [
           {
            "colorbar": {
             "outlinewidth": 0,
             "ticks": ""
            },
            "type": "choropleth"
           }
          ],
          "contour": [
           {
            "colorbar": {
             "outlinewidth": 0,
             "ticks": ""
            },
            "colorscale": [
             [
              0,
              "#0d0887"
             ],
             [
              0.1111111111111111,
              "#46039f"
             ],
             [
              0.2222222222222222,
              "#7201a8"
             ],
             [
              0.3333333333333333,
              "#9c179e"
             ],
             [
              0.4444444444444444,
              "#bd3786"
             ],
             [
              0.5555555555555556,
              "#d8576b"
             ],
             [
              0.6666666666666666,
              "#ed7953"
             ],
             [
              0.7777777777777778,
              "#fb9f3a"
             ],
             [
              0.8888888888888888,
              "#fdca26"
             ],
             [
              1,
              "#f0f921"
             ]
            ],
            "type": "contour"
           }
          ],
          "contourcarpet": [
           {
            "colorbar": {
             "outlinewidth": 0,
             "ticks": ""
            },
            "type": "contourcarpet"
           }
          ],
          "heatmap": [
           {
            "colorbar": {
             "outlinewidth": 0,
             "ticks": ""
            },
            "colorscale": [
             [
              0,
              "#0d0887"
             ],
             [
              0.1111111111111111,
              "#46039f"
             ],
             [
              0.2222222222222222,
              "#7201a8"
             ],
             [
              0.3333333333333333,
              "#9c179e"
             ],
             [
              0.4444444444444444,
              "#bd3786"
             ],
             [
              0.5555555555555556,
              "#d8576b"
             ],
             [
              0.6666666666666666,
              "#ed7953"
             ],
             [
              0.7777777777777778,
              "#fb9f3a"
             ],
             [
              0.8888888888888888,
              "#fdca26"
             ],
             [
              1,
              "#f0f921"
             ]
            ],
            "type": "heatmap"
           }
          ],
          "heatmapgl": [
           {
            "colorbar": {
             "outlinewidth": 0,
             "ticks": ""
            },
            "colorscale": [
             [
              0,
              "#0d0887"
             ],
             [
              0.1111111111111111,
              "#46039f"
             ],
             [
              0.2222222222222222,
              "#7201a8"
             ],
             [
              0.3333333333333333,
              "#9c179e"
             ],
             [
              0.4444444444444444,
              "#bd3786"
             ],
             [
              0.5555555555555556,
              "#d8576b"
             ],
             [
              0.6666666666666666,
              "#ed7953"
             ],
             [
              0.7777777777777778,
              "#fb9f3a"
             ],
             [
              0.8888888888888888,
              "#fdca26"
             ],
             [
              1,
              "#f0f921"
             ]
            ],
            "type": "heatmapgl"
           }
          ],
          "histogram": [
           {
            "marker": {
             "pattern": {
              "fillmode": "overlay",
              "size": 10,
              "solidity": 0.2
             }
            },
            "type": "histogram"
           }
          ],
          "histogram2d": [
           {
            "colorbar": {
             "outlinewidth": 0,
             "ticks": ""
            },
            "colorscale": [
             [
              0,
              "#0d0887"
             ],
             [
              0.1111111111111111,
              "#46039f"
             ],
             [
              0.2222222222222222,
              "#7201a8"
             ],
             [
              0.3333333333333333,
              "#9c179e"
             ],
             [
              0.4444444444444444,
              "#bd3786"
             ],
             [
              0.5555555555555556,
              "#d8576b"
             ],
             [
              0.6666666666666666,
              "#ed7953"
             ],
             [
              0.7777777777777778,
              "#fb9f3a"
             ],
             [
              0.8888888888888888,
              "#fdca26"
             ],
             [
              1,
              "#f0f921"
             ]
            ],
            "type": "histogram2d"
           }
          ],
          "histogram2dcontour": [
           {
            "colorbar": {
             "outlinewidth": 0,
             "ticks": ""
            },
            "colorscale": [
             [
              0,
              "#0d0887"
             ],
             [
              0.1111111111111111,
              "#46039f"
             ],
             [
              0.2222222222222222,
              "#7201a8"
             ],
             [
              0.3333333333333333,
              "#9c179e"
             ],
             [
              0.4444444444444444,
              "#bd3786"
             ],
             [
              0.5555555555555556,
              "#d8576b"
             ],
             [
              0.6666666666666666,
              "#ed7953"
             ],
             [
              0.7777777777777778,
              "#fb9f3a"
             ],
             [
              0.8888888888888888,
              "#fdca26"
             ],
             [
              1,
              "#f0f921"
             ]
            ],
            "type": "histogram2dcontour"
           }
          ],
          "mesh3d": [
           {
            "colorbar": {
             "outlinewidth": 0,
             "ticks": ""
            },
            "type": "mesh3d"
           }
          ],
          "parcoords": [
           {
            "line": {
             "colorbar": {
              "outlinewidth": 0,
              "ticks": ""
             }
            },
            "type": "parcoords"
           }
          ],
          "pie": [
           {
            "automargin": true,
            "type": "pie"
           }
          ],
          "scatter": [
           {
            "marker": {
             "line": {
              "color": "#283442"
             }
            },
            "type": "scatter"
           }
          ],
          "scatter3d": [
           {
            "line": {
             "colorbar": {
              "outlinewidth": 0,
              "ticks": ""
             }
            },
            "marker": {
             "colorbar": {
              "outlinewidth": 0,
              "ticks": ""
             }
            },
            "type": "scatter3d"
           }
          ],
          "scattercarpet": [
           {
            "marker": {
             "colorbar": {
              "outlinewidth": 0,
              "ticks": ""
             }
            },
            "type": "scattercarpet"
           }
          ],
          "scattergeo": [
           {
            "marker": {
             "colorbar": {
              "outlinewidth": 0,
              "ticks": ""
             }
            },
            "type": "scattergeo"
           }
          ],
          "scattergl": [
           {
            "marker": {
             "line": {
              "color": "#283442"
             }
            },
            "type": "scattergl"
           }
          ],
          "scattermapbox": [
           {
            "marker": {
             "colorbar": {
              "outlinewidth": 0,
              "ticks": ""
             }
            },
            "type": "scattermapbox"
           }
          ],
          "scatterpolar": [
           {
            "marker": {
             "colorbar": {
              "outlinewidth": 0,
              "ticks": ""
             }
            },
            "type": "scatterpolar"
           }
          ],
          "scatterpolargl": [
           {
            "marker": {
             "colorbar": {
              "outlinewidth": 0,
              "ticks": ""
             }
            },
            "type": "scatterpolargl"
           }
          ],
          "scatterternary": [
           {
            "marker": {
             "colorbar": {
              "outlinewidth": 0,
              "ticks": ""
             }
            },
            "type": "scatterternary"
           }
          ],
          "surface": [
           {
            "colorbar": {
             "outlinewidth": 0,
             "ticks": ""
            },
            "colorscale": [
             [
              0,
              "#0d0887"
             ],
             [
              0.1111111111111111,
              "#46039f"
             ],
             [
              0.2222222222222222,
              "#7201a8"
             ],
             [
              0.3333333333333333,
              "#9c179e"
             ],
             [
              0.4444444444444444,
              "#bd3786"
             ],
             [
              0.5555555555555556,
              "#d8576b"
             ],
             [
              0.6666666666666666,
              "#ed7953"
             ],
             [
              0.7777777777777778,
              "#fb9f3a"
             ],
             [
              0.8888888888888888,
              "#fdca26"
             ],
             [
              1,
              "#f0f921"
             ]
            ],
            "type": "surface"
           }
          ],
          "table": [
           {
            "cells": {
             "fill": {
              "color": "#506784"
             },
             "line": {
              "color": "rgb(17,17,17)"
             }
            },
            "header": {
             "fill": {
              "color": "#2a3f5f"
             },
             "line": {
              "color": "rgb(17,17,17)"
             }
            },
            "type": "table"
           }
          ]
         },
         "layout": {
          "annotationdefaults": {
           "arrowcolor": "#f2f5fa",
           "arrowhead": 0,
           "arrowwidth": 1
          },
          "autotypenumbers": "strict",
          "coloraxis": {
           "colorbar": {
            "outlinewidth": 0,
            "ticks": ""
           }
          },
          "colorscale": {
           "diverging": [
            [
             0,
             "#8e0152"
            ],
            [
             0.1,
             "#c51b7d"
            ],
            [
             0.2,
             "#de77ae"
            ],
            [
             0.3,
             "#f1b6da"
            ],
            [
             0.4,
             "#fde0ef"
            ],
            [
             0.5,
             "#f7f7f7"
            ],
            [
             0.6,
             "#e6f5d0"
            ],
            [
             0.7,
             "#b8e186"
            ],
            [
             0.8,
             "#7fbc41"
            ],
            [
             0.9,
             "#4d9221"
            ],
            [
             1,
             "#276419"
            ]
           ],
           "sequential": [
            [
             0,
             "#0d0887"
            ],
            [
             0.1111111111111111,
             "#46039f"
            ],
            [
             0.2222222222222222,
             "#7201a8"
            ],
            [
             0.3333333333333333,
             "#9c179e"
            ],
            [
             0.4444444444444444,
             "#bd3786"
            ],
            [
             0.5555555555555556,
             "#d8576b"
            ],
            [
             0.6666666666666666,
             "#ed7953"
            ],
            [
             0.7777777777777778,
             "#fb9f3a"
            ],
            [
             0.8888888888888888,
             "#fdca26"
            ],
            [
             1,
             "#f0f921"
            ]
           ],
           "sequentialminus": [
            [
             0,
             "#0d0887"
            ],
            [
             0.1111111111111111,
             "#46039f"
            ],
            [
             0.2222222222222222,
             "#7201a8"
            ],
            [
             0.3333333333333333,
             "#9c179e"
            ],
            [
             0.4444444444444444,
             "#bd3786"
            ],
            [
             0.5555555555555556,
             "#d8576b"
            ],
            [
             0.6666666666666666,
             "#ed7953"
            ],
            [
             0.7777777777777778,
             "#fb9f3a"
            ],
            [
             0.8888888888888888,
             "#fdca26"
            ],
            [
             1,
             "#f0f921"
            ]
           ]
          },
          "colorway": [
           "#636efa",
           "#EF553B",
           "#00cc96",
           "#ab63fa",
           "#FFA15A",
           "#19d3f3",
           "#FF6692",
           "#B6E880",
           "#FF97FF",
           "#FECB52"
          ],
          "font": {
           "color": "#f2f5fa"
          },
          "geo": {
           "bgcolor": "rgb(17,17,17)",
           "lakecolor": "rgb(17,17,17)",
           "landcolor": "rgb(17,17,17)",
           "showlakes": true,
           "showland": true,
           "subunitcolor": "#506784"
          },
          "hoverlabel": {
           "align": "left"
          },
          "hovermode": "closest",
          "mapbox": {
           "style": "dark"
          },
          "paper_bgcolor": "rgb(17,17,17)",
          "plot_bgcolor": "rgb(17,17,17)",
          "polar": {
           "angularaxis": {
            "gridcolor": "#506784",
            "linecolor": "#506784",
            "ticks": ""
           },
           "bgcolor": "rgb(17,17,17)",
           "radialaxis": {
            "gridcolor": "#506784",
            "linecolor": "#506784",
            "ticks": ""
           }
          },
          "scene": {
           "xaxis": {
            "backgroundcolor": "rgb(17,17,17)",
            "gridcolor": "#506784",
            "gridwidth": 2,
            "linecolor": "#506784",
            "showbackground": true,
            "ticks": "",
            "zerolinecolor": "#C8D4E3"
           },
           "yaxis": {
            "backgroundcolor": "rgb(17,17,17)",
            "gridcolor": "#506784",
            "gridwidth": 2,
            "linecolor": "#506784",
            "showbackground": true,
            "ticks": "",
            "zerolinecolor": "#C8D4E3"
           },
           "zaxis": {
            "backgroundcolor": "rgb(17,17,17)",
            "gridcolor": "#506784",
            "gridwidth": 2,
            "linecolor": "#506784",
            "showbackground": true,
            "ticks": "",
            "zerolinecolor": "#C8D4E3"
           }
          },
          "shapedefaults": {
           "line": {
            "color": "#f2f5fa"
           }
          },
          "sliderdefaults": {
           "bgcolor": "#C8D4E3",
           "bordercolor": "rgb(17,17,17)",
           "borderwidth": 1,
           "tickwidth": 0
          },
          "ternary": {
           "aaxis": {
            "gridcolor": "#506784",
            "linecolor": "#506784",
            "ticks": ""
           },
           "baxis": {
            "gridcolor": "#506784",
            "linecolor": "#506784",
            "ticks": ""
           },
           "bgcolor": "rgb(17,17,17)",
           "caxis": {
            "gridcolor": "#506784",
            "linecolor": "#506784",
            "ticks": ""
           }
          },
          "title": {
           "x": 0.05
          },
          "updatemenudefaults": {
           "bgcolor": "#506784",
           "borderwidth": 0
          },
          "xaxis": {
           "automargin": true,
           "gridcolor": "#283442",
           "linecolor": "#506784",
           "ticks": "",
           "title": {
            "standoff": 15
           },
           "zerolinecolor": "#283442",
           "zerolinewidth": 2
          },
          "yaxis": {
           "automargin": true,
           "gridcolor": "#283442",
           "linecolor": "#506784",
           "ticks": "",
           "title": {
            "standoff": 15
           },
           "zerolinecolor": "#283442",
           "zerolinewidth": 2
          }
         }
        },
        "title": {
         "text": "Top 10 Words Count"
        },
        "xaxis": {
         "anchor": "y",
         "domain": [
          0,
          1
         ],
         "title": {
          "text": "Count"
         }
        },
        "yaxis": {
         "anchor": "x",
         "domain": [
          0,
          1
         ],
         "title": {
          "text": "Word"
         }
        }
       }
      }
     },
     "metadata": {},
     "output_type": "display_data"
    }
   ],
   "source": [
    "# Tokenize and count the words using CountVectorizer\n",
    "vectorizer = CountVectorizer()\n",
    "X = vectorizer.fit_transform(tweets_noneg['cleaned_text'])\n",
    "word_counts = X.sum(axis=0)\n",
    "\n",
    "# Convert word counts to a DataFrame\n",
    "word_counts_df = pd.DataFrame({'word': vectorizer.get_feature_names(), 'count': word_counts.tolist()[0]})\n",
    "\n",
    "# Sort the DataFrame by count in descending order\n",
    "word_counts_df = word_counts_df.sort_values(by='count', ascending=False)\n",
    "\n",
    "# Select the top 10 words\n",
    "top_10_words = word_counts_df.head(10)\n",
    "\n",
    "# Create a bar plot using Plotly\n",
    "fig = px.bar(\n",
    "    top_10_words,\n",
    "    x='count',\n",
    "    y='word',\n",
    "    orientation='h',\n",
    "    title='Top 10 Words Count',\n",
    "    labels={'count': 'Count', 'word': 'Word'},\n",
    "    template='plotly_dark'\n",
    ")\n",
    "\n",
    "fig.show()"
   ]
  },
  {
   "cell_type": "code",
   "execution_count": 179,
   "metadata": {},
   "outputs": [
    {
     "data": {
      "application/vnd.plotly.v1+json": {
       "config": {
        "plotlyServerURL": "https://plot.ly"
       },
       "data": [
        {
         "alignmentgroup": "True",
         "bingroup": "x",
         "hovertemplate": "Text Length=%{x}<br>count=%{y}<extra></extra>",
         "legendgroup": "",
         "marker": {
          "color": "red",
          "line": {
           "color": "white",
           "width": 1.5
          },
          "pattern": {
           "shape": ""
          }
         },
         "name": "",
         "nbinsx": 20,
         "offsetgroup": "",
         "opacity": 0.7,
         "orientation": "v",
         "showlegend": false,
         "type": "histogram",
         "x": [
          17,
          10,
          23,
          6,
          27,
          22,
          26,
          17,
          29,
          19,
          29,
          21,
          16,
          10,
          24,
          25,
          20,
          17,
          23,
          9,
          21,
          19,
          17,
          17,
          20,
          17,
          15,
          12,
          25,
          25,
          22,
          19,
          22,
          16,
          17,
          25,
          23,
          26,
          14,
          25,
          24,
          21,
          17,
          19,
          23,
          17,
          16,
          21,
          5,
          27,
          23,
          21,
          23,
          27,
          28,
          22,
          12,
          25,
          16,
          23,
          20,
          24,
          16,
          5,
          22,
          20,
          13,
          18,
          20,
          16,
          16,
          23,
          27,
          23,
          22,
          16,
          20,
          3,
          6,
          29,
          12,
          24,
          20,
          11,
          14,
          24,
          13,
          25,
          22,
          17,
          20,
          25,
          18,
          28,
          24,
          20,
          10,
          4,
          10,
          18,
          14,
          15,
          23,
          22,
          23,
          13,
          20,
          21,
          23,
          11,
          9,
          20,
          19,
          22,
          19,
          24,
          15,
          21,
          20,
          25,
          12,
          27,
          20,
          9,
          14,
          13,
          16,
          17,
          20,
          23,
          20,
          25,
          10,
          11,
          20,
          13,
          24,
          27,
          9,
          21,
          24,
          16,
          18,
          16,
          23,
          21,
          3,
          26,
          15,
          23,
          25,
          18,
          22,
          20,
          18,
          25,
          13,
          13,
          16,
          20,
          20,
          14,
          21,
          16,
          25,
          21,
          24,
          31,
          25,
          24,
          16,
          13,
          23,
          21,
          24,
          20,
          25,
          23,
          12,
          25,
          26,
          23,
          24,
          19,
          12,
          22,
          20,
          22,
          27,
          29,
          12,
          20,
          24,
          9,
          14,
          25,
          32,
          25,
          19,
          12,
          24,
          21,
          14,
          26,
          18,
          26,
          24,
          28,
          14,
          23,
          22,
          12,
          3,
          27,
          12,
          24,
          27,
          17,
          26,
          25,
          22,
          24,
          8,
          20,
          21,
          23,
          21,
          22,
          25,
          9,
          24,
          21,
          19,
          24,
          27,
          23,
          16,
          23,
          28,
          30,
          18,
          25,
          22,
          26,
          24,
          21,
          15,
          6,
          29,
          22,
          20,
          8,
          14,
          26,
          16,
          23,
          15,
          14,
          20,
          18,
          17,
          28,
          17,
          23,
          22,
          20,
          22,
          22,
          15,
          22,
          25,
          25,
          19,
          22,
          22,
          24,
          13,
          14,
          18,
          27,
          15,
          9,
          26,
          16,
          27,
          14,
          26,
          23,
          26,
          9,
          10,
          26,
          12,
          21,
          21,
          29,
          18,
          11,
          22,
          25,
          5,
          17,
          16,
          10,
          10,
          14,
          15,
          29,
          22,
          25,
          21,
          28,
          30,
          26,
          23,
          25,
          24,
          24,
          21,
          10,
          25,
          17,
          23,
          25,
          29,
          24,
          26,
          18,
          26,
          15,
          15,
          29,
          26,
          28,
          19,
          27,
          6,
          22,
          27,
          16,
          15,
          7,
          11,
          21,
          21,
          28,
          25,
          16,
          22,
          22,
          27,
          23,
          28,
          25,
          25,
          25,
          20,
          15,
          23,
          24,
          19,
          21,
          21,
          23,
          9,
          13,
          16,
          9,
          14,
          26,
          26,
          22,
          25,
          26,
          23,
          23,
          26,
          24,
          14,
          18,
          24,
          16,
          9,
          23,
          27,
          23,
          9,
          28,
          20,
          26,
          16,
          20,
          21,
          28,
          23,
          20,
          19,
          25,
          13,
          24,
          24,
          26,
          21,
          25,
          13,
          15,
          23,
          23,
          24,
          26,
          20,
          18,
          17,
          23,
          22,
          24,
          14,
          17,
          24,
          6,
          22,
          18,
          9,
          26,
          13,
          26,
          23,
          27,
          18,
          22,
          5,
          24,
          15,
          21,
          12,
          24,
          27,
          5,
          17,
          26,
          23,
          25,
          20,
          16,
          27,
          17,
          26,
          14,
          13,
          26,
          20,
          7,
          23,
          18,
          14,
          6,
          27,
          18,
          20,
          21,
          19,
          25,
          22,
          23,
          27,
          23,
          5,
          18,
          13,
          23,
          18,
          18,
          24,
          24,
          17,
          23,
          22,
          12,
          19,
          19,
          27,
          20,
          13,
          6,
          6,
          21,
          24,
          23,
          14,
          12,
          8,
          19,
          23,
          22,
          9,
          18,
          20,
          25,
          21,
          7,
          19,
          22,
          22,
          27,
          20,
          23,
          17,
          22,
          23,
          17,
          28,
          18,
          19,
          22,
          27,
          16,
          12,
          19,
          21,
          28,
          24,
          25,
          22,
          27,
          23,
          20,
          24,
          23,
          25,
          18,
          22,
          25,
          18,
          19,
          24,
          20,
          11,
          11,
          19,
          20,
          30,
          22,
          24,
          24,
          19,
          26,
          16,
          26,
          21,
          16,
          21,
          28,
          19,
          13,
          21,
          28,
          20,
          28,
          9,
          25,
          18,
          20,
          24,
          26,
          25,
          20,
          29,
          15,
          23,
          28,
          23,
          24,
          25,
          4,
          25,
          17,
          22,
          25,
          24,
          26,
          25,
          13,
          18,
          25,
          25,
          28,
          26,
          2,
          23,
          22,
          21,
          5,
          23,
          25,
          22,
          12,
          24,
          24,
          12,
          17,
          6,
          6,
          20,
          21,
          22,
          24,
          12,
          14,
          25,
          14,
          19,
          24,
          12,
          21,
          14,
          24,
          18,
          8,
          24,
          24,
          23,
          26,
          27,
          23,
          19,
          22,
          26,
          25,
          23,
          16,
          15,
          24,
          24,
          7,
          27,
          26,
          16,
          23,
          27,
          24,
          26,
          24,
          21,
          23,
          15,
          26,
          13,
          28,
          26,
          20,
          22,
          20,
          32,
          26,
          7,
          12,
          27,
          30,
          6,
          27,
          19,
          25,
          24,
          28,
          12,
          4,
          22,
          24,
          25,
          27,
          21,
          13,
          19,
          17,
          22,
          27,
          11,
          25,
          18,
          23,
          24,
          12,
          14,
          20,
          17,
          18,
          23,
          23,
          24,
          26,
          15,
          11,
          31,
          30,
          17,
          21,
          26,
          8,
          17,
          20,
          26,
          26,
          18,
          24,
          18,
          24,
          18,
          27,
          25,
          20,
          23,
          10,
          17,
          27,
          26,
          26,
          13,
          24,
          28,
          25,
          22,
          15,
          2,
          6,
          26,
          25,
          20,
          27,
          24,
          20,
          19,
          9,
          25,
          24,
          21,
          28,
          20,
          30,
          26,
          22,
          21,
          18,
          23,
          20,
          13,
          22,
          25,
          16,
          21,
          22,
          20,
          28,
          29,
          21,
          12,
          3,
          26,
          22,
          13,
          22,
          18,
          19,
          24,
          26,
          17,
          4,
          25,
          22,
          10,
          26,
          22,
          20,
          25,
          4,
          9,
          27,
          13,
          25,
          22,
          20,
          28,
          22,
          15,
          11,
          20,
          23,
          11,
          24,
          26,
          17,
          29,
          20,
          24,
          28,
          17,
          24,
          8,
          26,
          17,
          26,
          27,
          24,
          22,
          17,
          23,
          20,
          23,
          17,
          28,
          17,
          28,
          24,
          19,
          14,
          28,
          25,
          24,
          16,
          12,
          27,
          23,
          22,
          16,
          15,
          16,
          26,
          27,
          21,
          8,
          16,
          10,
          23,
          22,
          17,
          25,
          20,
          7,
          23,
          24,
          10,
          17,
          21,
          27,
          18,
          23,
          25,
          9,
          9,
          16,
          25,
          18,
          15,
          16,
          26,
          26,
          22,
          28,
          20,
          15,
          21,
          11,
          27,
          18,
          23,
          19,
          12,
          22,
          18,
          12,
          17,
          12,
          13,
          12,
          26,
          13,
          21,
          25,
          15,
          28,
          25,
          19,
          25,
          7,
          14,
          9,
          7,
          22,
          22,
          23,
          25,
          23,
          25,
          24,
          20,
          23,
          21,
          22,
          13,
          23,
          16,
          25,
          25,
          24,
          24,
          27,
          14,
          23,
          24,
          26,
          7,
          19,
          23,
          26,
          14,
          24,
          6,
          11,
          20,
          17,
          19,
          4,
          23,
          24,
          16,
          13,
          15,
          9,
          25,
          25,
          23,
          23,
          26,
          8,
          8,
          26,
          26,
          24,
          10,
          21,
          17,
          22,
          28,
          23,
          27,
          14,
          24,
          20,
          22,
          17,
          12,
          28,
          13,
          22,
          23,
          7,
          23,
          23,
          19,
          17,
          23,
          26,
          28,
          20,
          24,
          22,
          2,
          25,
          20,
          21,
          7,
          22,
          15,
          20,
          17,
          12,
          22,
          14,
          16,
          21,
          14,
          13,
          27,
          20,
          24,
          15,
          28,
          16,
          5,
          19,
          28,
          12,
          10,
          3,
          22,
          20,
          26,
          23,
          19,
          26,
          15,
          28,
          26,
          25,
          14,
          20,
          25,
          24,
          19,
          19,
          6,
          24,
          25,
          25,
          11,
          23,
          28,
          23,
          22,
          10,
          21,
          27,
          15,
          20,
          24,
          10,
          21,
          25,
          14,
          15,
          9,
          24,
          25,
          25,
          16,
          12,
          22,
          7,
          13,
          12,
          13,
          13,
          4,
          17,
          26,
          11,
          14,
          6,
          24,
          12,
          27,
          19,
          21,
          14,
          21,
          3,
          28,
          22,
          19,
          20,
          23,
          26,
          25,
          12,
          20,
          24,
          22,
          23,
          24,
          18,
          28,
          16,
          21,
          21,
          27,
          15,
          20,
          24,
          21,
          25,
          15,
          15,
          27,
          27,
          25,
          19,
          25,
          14,
          21,
          19,
          17,
          21,
          24,
          25,
          20,
          25,
          20,
          28,
          20,
          20,
          21,
          21,
          21,
          18,
          26,
          5,
          23,
          30,
          16,
          23,
          26,
          24,
          27,
          19,
          9,
          14,
          26,
          20,
          22,
          13,
          19,
          22,
          29,
          16,
          20,
          26,
          23,
          27,
          25,
          27,
          25,
          17,
          12,
          11,
          15,
          27,
          24,
          8,
          25,
          16,
          17,
          25,
          8,
          25,
          28,
          7,
          21,
          23,
          24,
          5,
          26,
          14,
          19,
          23,
          6,
          9,
          16,
          24,
          22,
          26,
          21,
          23,
          4,
          9,
          13,
          20,
          25,
          16,
          17,
          20,
          28,
          22,
          19,
          26,
          21,
          29,
          25,
          19,
          19,
          24,
          25,
          11,
          23,
          11,
          12,
          25,
          14,
          14,
          22,
          24,
          6,
          27,
          24,
          12,
          17,
          26,
          26,
          30,
          20,
          24,
          18,
          23,
          28,
          17,
          25,
          15,
          3,
          25,
          16,
          7,
          23,
          24,
          15,
          22,
          25,
          7,
          26,
          9,
          16,
          20,
          22,
          24,
          22,
          23,
          13,
          20,
          20,
          21,
          24,
          20,
          8,
          11,
          20,
          20,
          18,
          25,
          29,
          21,
          20,
          12,
          26,
          24,
          27,
          19,
          27,
          25,
          7,
          27,
          15,
          23,
          27,
          17,
          17,
          15,
          9,
          20,
          26,
          19,
          11,
          22,
          7,
          9,
          19,
          4,
          22,
          16,
          18,
          14,
          24,
          8,
          15,
          24,
          22,
          20,
          30,
          9,
          24,
          22,
          25,
          7,
          8,
          24,
          22,
          24,
          27,
          7,
          22,
          10,
          24,
          14,
          23,
          24,
          24,
          24,
          17,
          20,
          26,
          16,
          20,
          25,
          28,
          23,
          27,
          17,
          21,
          15,
          5,
          6,
          8,
          21,
          28,
          14,
          27,
          19,
          7,
          24,
          4,
          16,
          23,
          28,
          16,
          21,
          23,
          18,
          18,
          24,
          21,
          19,
          21,
          21,
          28,
          22,
          17,
          2,
          2,
          10,
          16,
          16,
          26,
          11,
          3,
          13,
          16,
          3,
          27,
          26,
          28,
          27,
          17,
          22,
          27,
          20,
          23,
          30,
          22,
          22,
          16,
          12,
          12,
          23,
          24,
          27,
          29,
          26,
          21,
          21,
          18,
          23,
          8,
          11,
          14,
          27,
          14,
          18,
          26,
          23,
          14,
          26,
          21,
          21,
          13,
          27,
          22,
          18,
          23,
          24,
          20,
          11,
          25,
          19,
          23,
          17,
          26,
          25,
          18,
          15,
          12,
          21,
          23,
          9,
          28,
          25,
          26,
          10,
          29,
          23,
          3,
          25,
          8,
          24,
          29,
          19,
          20,
          10,
          12,
          3,
          23,
          20,
          29,
          4,
          3,
          24,
          12,
          26,
          17,
          20,
          17,
          27,
          16,
          15,
          24,
          16,
          18,
          11,
          28,
          21,
          23,
          17,
          20,
          28,
          15,
          21,
          15,
          23,
          25,
          25,
          20,
          23,
          22,
          20,
          29,
          3,
          21,
          22,
          28,
          25,
          24,
          2,
          23,
          11,
          20,
          6,
          24,
          23,
          23,
          26,
          21,
          16,
          25,
          28,
          24,
          23,
          19,
          20,
          23,
          21,
          6,
          14,
          18,
          10,
          24,
          25,
          26,
          19,
          27,
          17,
          20,
          14,
          17,
          24,
          27,
          15,
          18,
          20,
          16,
          14,
          11,
          3,
          20,
          4,
          8,
          14,
          17,
          13,
          16,
          19,
          15,
          22,
          8,
          19,
          24,
          23,
          22,
          23,
          17,
          30,
          15,
          15,
          23,
          22,
          26,
          24,
          21,
          7,
          30,
          19,
          23,
          8,
          22,
          9,
          25,
          16,
          23,
          24,
          14,
          13,
          14,
          8,
          16,
          25,
          20,
          12,
          27,
          28,
          22,
          24,
          25,
          16,
          10,
          19,
          12,
          21,
          25,
          21,
          26,
          20,
          18,
          24,
          6,
          4,
          23,
          13,
          23,
          21,
          23,
          18,
          16,
          21,
          25,
          24,
          22,
          11,
          18,
          27,
          26,
          23,
          15,
          13,
          10,
          6,
          21,
          22,
          13,
          22,
          22,
          24,
          24,
          17,
          11,
          20,
          27,
          12,
          18,
          5,
          24,
          21,
          24,
          26,
          22,
          24,
          26,
          23,
          23,
          20,
          8,
          24,
          13,
          23,
          9,
          18,
          19,
          28,
          24,
          22,
          25,
          22,
          11,
          20,
          19,
          26,
          22,
          27,
          12,
          22,
          7,
          21,
          21,
          20,
          11,
          14,
          19,
          20,
          22,
          20,
          24,
          23,
          15,
          22,
          24,
          15,
          26,
          10,
          8,
          19,
          22,
          18,
          28,
          31,
          11,
          22,
          23,
          19,
          20,
          8,
          9,
          19,
          22,
          26,
          29,
          12,
          27,
          23,
          20,
          6,
          22,
          20,
          22,
          16,
          17,
          12,
          14,
          24,
          12,
          25,
          28,
          21,
          19,
          27,
          22,
          14,
          29,
          30,
          22,
          28,
          22,
          22,
          23,
          14,
          14,
          7,
          9,
          18,
          22,
          14,
          23,
          20,
          4,
          14,
          22,
          22,
          29,
          10,
          6,
          30,
          16,
          27,
          22,
          26,
          25,
          17,
          25,
          9,
          26,
          22,
          23,
          15,
          16,
          11,
          14,
          16,
          22,
          32,
          25,
          17,
          24,
          13,
          14,
          6,
          27,
          25,
          20,
          21,
          23,
          29,
          28,
          9,
          15,
          22,
          19,
          17,
          16,
          11,
          21,
          18,
          20,
          23,
          18,
          20,
          4,
          23,
          17,
          21,
          26,
          12,
          16,
          21,
          25,
          25,
          10,
          22,
          15,
          28,
          14,
          29,
          18,
          25,
          15,
          11,
          30,
          22,
          21,
          25,
          22,
          22,
          19,
          29,
          23,
          15,
          25,
          19,
          20,
          24,
          8,
          25,
          26,
          22,
          11,
          21,
          24,
          14,
          9,
          28,
          22,
          12,
          19,
          17,
          21,
          20,
          20,
          7,
          12,
          23,
          19,
          21,
          25,
          26,
          27,
          10,
          18,
          13,
          23,
          31,
          30,
          18,
          4,
          24,
          17,
          17,
          12,
          29,
          19,
          26,
          22,
          26,
          28,
          12,
          14,
          24,
          20,
          9,
          24,
          27,
          19,
          25,
          24,
          20,
          16,
          19,
          19,
          22,
          23,
          27,
          24,
          17,
          25,
          19,
          17,
          22,
          7,
          24,
          22,
          23,
          16,
          21,
          23,
          19,
          22,
          24,
          6,
          13,
          16,
          15,
          18,
          18,
          19,
          24,
          14,
          18,
          22,
          22,
          14,
          30,
          17,
          7,
          27,
          8,
          29,
          25,
          27,
          25,
          21,
          7,
          17,
          17,
          26,
          22,
          19,
          21,
          8,
          27,
          10,
          27,
          10,
          12,
          15,
          18,
          6,
          22,
          23,
          27,
          10,
          24,
          17,
          29,
          15,
          22,
          26,
          21,
          21,
          23,
          11,
          10,
          14,
          22,
          31,
          21,
          24,
          20,
          19,
          13,
          14,
          18,
          27,
          30,
          18,
          15,
          13,
          16,
          22,
          22,
          20,
          26,
          26,
          19,
          16,
          16,
          25,
          14,
          26,
          18,
          6,
          15,
          16,
          9,
          17,
          19,
          22,
          17,
          24,
          22,
          11,
          19,
          11,
          20,
          20,
          22,
          11,
          4,
          26,
          15,
          24,
          11,
          27,
          15,
          24,
          28,
          29,
          23,
          20,
          23,
          11,
          14,
          14,
          24,
          20,
          21,
          23,
          22,
          13,
          20,
          4,
          22,
          20,
          19,
          11,
          24,
          25,
          23,
          24,
          18,
          29,
          17,
          21,
          16,
          14,
          18,
          16,
          8,
          13,
          10,
          21,
          17,
          23,
          27,
          15,
          25,
          16,
          24,
          25,
          13,
          21,
          24,
          21,
          7,
          20,
          23,
          14,
          14,
          15,
          19,
          25,
          26,
          22,
          22,
          16,
          15,
          23,
          25,
          21,
          23,
          24,
          18,
          17,
          29,
          26,
          20,
          20,
          21,
          11,
          15,
          11,
          20,
          18,
          14,
          19,
          24,
          12,
          13,
          29,
          30,
          26,
          17,
          26,
          21,
          21,
          20,
          3,
          26,
          29,
          15,
          8,
          12,
          22,
          25,
          22,
          25,
          27,
          13,
          17,
          7,
          20,
          17,
          28,
          22,
          26,
          12,
          20,
          24,
          23,
          27,
          25,
          20,
          27,
          26,
          14,
          23,
          20,
          29,
          16,
          6,
          26,
          27,
          23,
          24,
          21,
          19,
          27,
          26,
          16,
          18,
          8,
          24,
          24,
          29,
          25,
          20,
          23,
          24,
          5,
          20,
          17,
          26,
          18,
          14,
          18,
          20,
          10,
          25,
          14,
          19,
          19,
          12,
          28,
          18,
          24,
          21,
          25,
          10,
          21,
          9,
          23,
          11,
          21,
          10,
          21,
          19,
          17,
          23,
          23,
          29,
          22,
          14,
          18,
          8,
          7,
          17,
          16,
          19,
          24,
          13,
          20,
          24,
          23,
          3,
          27,
          11,
          7,
          27,
          18,
          32,
          8,
          24,
          23,
          20,
          9,
          23,
          28,
          22,
          28,
          26,
          17,
          24,
          18,
          26,
          10,
          8,
          17,
          7,
          13,
          16,
          25,
          6,
          20,
          20,
          19,
          6,
          6,
          25,
          15,
          25,
          6,
          9,
          10,
          21,
          20,
          11,
          17,
          19,
          8,
          18,
          12,
          14,
          23,
          23,
          21,
          18,
          23,
          4,
          10,
          28,
          23,
          19,
          23,
          24,
          23,
          9,
          18,
          19,
          20,
          24,
          15,
          24,
          23,
          24,
          25,
          9,
          20,
          25,
          8,
          22,
          27,
          24,
          28,
          25,
          22,
          30,
          27,
          9,
          9,
          23,
          26,
          20,
          28,
          19,
          14,
          19,
          21,
          22,
          23,
          24,
          26,
          24,
          26,
          29,
          22,
          20,
          17,
          19,
          22,
          23,
          23,
          22,
          21,
          26,
          17,
          25,
          20,
          24,
          20,
          26,
          27,
          20,
          7,
          19,
          23,
          26,
          24,
          20,
          19,
          24,
          22,
          25,
          28,
          21,
          18,
          26,
          19,
          17,
          22,
          25,
          21,
          25,
          26,
          23,
          21,
          19,
          25,
          27,
          21,
          19,
          21,
          9,
          25,
          21,
          14,
          25,
          16,
          21,
          23,
          16,
          22,
          17,
          22,
          25,
          26,
          23,
          11,
          16,
          26,
          21,
          21,
          21,
          23,
          28,
          27,
          15,
          21,
          27,
          27,
          28,
          25,
          25,
          24,
          16,
          22,
          21,
          23,
          21,
          4,
          9,
          19,
          14,
          15,
          22,
          10,
          19,
          26,
          15,
          9,
          16,
          20,
          25,
          12,
          16,
          23,
          19,
          8,
          26,
          16,
          24,
          16,
          25,
          22,
          28,
          20,
          18,
          24,
          29,
          20,
          22,
          20,
          24,
          14,
          5,
          27,
          21,
          14,
          15,
          14,
          26,
          18,
          20,
          20,
          12,
          26,
          23,
          15,
          27,
          21,
          20,
          28,
          14,
          24,
          25,
          24,
          24,
          12,
          22,
          24,
          24,
          19,
          26,
          16,
          28,
          22,
          26,
          11,
          24,
          29,
          20,
          25,
          27,
          24,
          26,
          20,
          11,
          24,
          26,
          15,
          27,
          17,
          21,
          22,
          19,
          26,
          8,
          23,
          25,
          27,
          13,
          19,
          24,
          23,
          19,
          24,
          11,
          22,
          24,
          27,
          14,
          14,
          24,
          10,
          23,
          17,
          21,
          24,
          8,
          6,
          29,
          19,
          12,
          9,
          24,
          17,
          6,
          26,
          17,
          20,
          25,
          22,
          20,
          18,
          27,
          19,
          21,
          25,
          29,
          21,
          25,
          12,
          20,
          23,
          17,
          27,
          25,
          27,
          16,
          27,
          21,
          13,
          9,
          28,
          13,
          20,
          17,
          11,
          15,
          18,
          25,
          9,
          23,
          27,
          21,
          21,
          25,
          22,
          17,
          22,
          23,
          18,
          14,
          27,
          23,
          14,
          21,
          22,
          23,
          21,
          23,
          12,
          16,
          23,
          23,
          21,
          17,
          13,
          10,
          27,
          15,
          17,
          22,
          13,
          26,
          3,
          10,
          20,
          17,
          25,
          28,
          12,
          26,
          11,
          10,
          7,
          19,
          19,
          22,
          23,
          23,
          23,
          25,
          25,
          23,
          23,
          19,
          25,
          13,
          27,
          21,
          8,
          21,
          10,
          28,
          24,
          18,
          23,
          21,
          21,
          17,
          22,
          26,
          21,
          8,
          25,
          22,
          25,
          11,
          14,
          24,
          23,
          17,
          21,
          8,
          24,
          23,
          18,
          25,
          22,
          25,
          8,
          14,
          19,
          23,
          27,
          18,
          14,
          26,
          19,
          23,
          20,
          25,
          24,
          27,
          28,
          18,
          17,
          24,
          21,
          24,
          20,
          26,
          29,
          18,
          13,
          24,
          13,
          25,
          9,
          24,
          24,
          17,
          12,
          24,
          18,
          19,
          20,
          9,
          28,
          24,
          23,
          10,
          12,
          27,
          12,
          15,
          22,
          19,
          25,
          16,
          13,
          4,
          21,
          20,
          20,
          6,
          21,
          21,
          24,
          22,
          22,
          21,
          6,
          14,
          22,
          15,
          21,
          7,
          30,
          22,
          19,
          22,
          24,
          7,
          12,
          24,
          17,
          26,
          26,
          11,
          17,
          14,
          28,
          22,
          27,
          18,
          13,
          15,
          23,
          21,
          23,
          27,
          19,
          24,
          22,
          15,
          2,
          17,
          20,
          17,
          24,
          15,
          21,
          26,
          26,
          22,
          26,
          24,
          17,
          17,
          23,
          22,
          23,
          17,
          19,
          22,
          14,
          17,
          24,
          25,
          22,
          5,
          24,
          23,
          26,
          18,
          26,
          14,
          27,
          24,
          17,
          20,
          21,
          30,
          23,
          18,
          23,
          19,
          19,
          4,
          24,
          7,
          22,
          13,
          25,
          13,
          18,
          22,
          16,
          26,
          23,
          21,
          21,
          7,
          18,
          18,
          24,
          16,
          24,
          17,
          8,
          20,
          23,
          24,
          23,
          17,
          29,
          25,
          20,
          23,
          30,
          16,
          16,
          14,
          22,
          27,
          24,
          22,
          18,
          19,
          13,
          28,
          17,
          13,
          22,
          25,
          24,
          26,
          22,
          14,
          22,
          23,
          19,
          23,
          13,
          11,
          26,
          25,
          21,
          22,
          27,
          18,
          25,
          24,
          23,
          12,
          23,
          22,
          22,
          12,
          23,
          3,
          23,
          14,
          8,
          22,
          25,
          17,
          26,
          19,
          23,
          20,
          21,
          13,
          20,
          12,
          6,
          23,
          25,
          13,
          22,
          19,
          26,
          29,
          23,
          7,
          27,
          22,
          21,
          21,
          22,
          28,
          25,
          24,
          17,
          24,
          25,
          23,
          22,
          25,
          24,
          28,
          11,
          19,
          8,
          12,
          24,
          19,
          22,
          5,
          23,
          26,
          25,
          21,
          28,
          24,
          20,
          25,
          22,
          21,
          24,
          19,
          19,
          16,
          16,
          19,
          25,
          26,
          13,
          11,
          5,
          23,
          27,
          26,
          25,
          24,
          16,
          28,
          22,
          23,
          20,
          12,
          24,
          6,
          22,
          12,
          17,
          24,
          27,
          24,
          22,
          21,
          23,
          23,
          10,
          21,
          19,
          26,
          22,
          26,
          25,
          22,
          15,
          26,
          29,
          19,
          9,
          10,
          17,
          15,
          13,
          25,
          15,
          16,
          13,
          20,
          25,
          17,
          25,
          17,
          11,
          26,
          25,
          15,
          25,
          15,
          14,
          14,
          20,
          11,
          23,
          8,
          22,
          16,
          12,
          18,
          25,
          29,
          21,
          20,
          23,
          27,
          20,
          25,
          16,
          26,
          28,
          19,
          12,
          19,
          15,
          18,
          19,
          21,
          22,
          18,
          21,
          15,
          27,
          3,
          26,
          21,
          18,
          22,
          26,
          16,
          25,
          19,
          24,
          19,
          23,
          14,
          19,
          11,
          7,
          20,
          22,
          21,
          20,
          18,
          24,
          25,
          19,
          22,
          19,
          18,
          22,
          25,
          15,
          12,
          20,
          24,
          18,
          15,
          21,
          15,
          14,
          23,
          15,
          19,
          22,
          9,
          26,
          15,
          15,
          9,
          25,
          22,
          15,
          21,
          19,
          25,
          20,
          15,
          8,
          15,
          13,
          23,
          23,
          12,
          22,
          25,
          12,
          9,
          14,
          26,
          18,
          19,
          23,
          24,
          24,
          25,
          22,
          23,
          14,
          24,
          15,
          23,
          19,
          22,
          26,
          22,
          22,
          24,
          21,
          26,
          21,
          20,
          24,
          21,
          26,
          20,
          23,
          21,
          21,
          27,
          11,
          17,
          16,
          21,
          17,
          25,
          13,
          16,
          12,
          29,
          20,
          16,
          25,
          27,
          25,
          23,
          13,
          15,
          10,
          20,
          24,
          25,
          21,
          15,
          11,
          23,
          13,
          24,
          26,
          23,
          17,
          23,
          19,
          10,
          11,
          11,
          24,
          22,
          21,
          14,
          17,
          25,
          22,
          16,
          22,
          21,
          12,
          24,
          22,
          26,
          9,
          17,
          24,
          23,
          4,
          18,
          19,
          22,
          18,
          21,
          23,
          12,
          18,
          18,
          22,
          26,
          20,
          10,
          28,
          23,
          25,
          22,
          13,
          25,
          8,
          9,
          22,
          17,
          12,
          19,
          19,
          19,
          29,
          24,
          21,
          19,
          22,
          22,
          22,
          22,
          27,
          13,
          16,
          22,
          24,
          23,
          22,
          22,
          21,
          25,
          7,
          11,
          8,
          21,
          28,
          20,
          26,
          26,
          25,
          12,
          25,
          8,
          23,
          20,
          13,
          17,
          23,
          24,
          25,
          25,
          9,
          27,
          9,
          23,
          21,
          22,
          21,
          12,
          23,
          22,
          17,
          18,
          17,
          27,
          22,
          20,
          21,
          27,
          13,
          12,
          18,
          24,
          18,
          19,
          25,
          18,
          24,
          20,
          12,
          18,
          19,
          25,
          21,
          9,
          23,
          24,
          24,
          25,
          23,
          13,
          7,
          21,
          22,
          19,
          13,
          27,
          24,
          18,
          18,
          9,
          23,
          21,
          7,
          20,
          23,
          20,
          23,
          7,
          6,
          13,
          22,
          22,
          22,
          24,
          16,
          8,
          26,
          20,
          25,
          25,
          22,
          18,
          22,
          17,
          10,
          23,
          27,
          9,
          19,
          19,
          22,
          24,
          18,
          30,
          26,
          15,
          14,
          9,
          13,
          26,
          24,
          27,
          26,
          7,
          8,
          15,
          9,
          23,
          24,
          22,
          18,
          19,
          23,
          24,
          23,
          25,
          25,
          7,
          8,
          24,
          15,
          23,
          17,
          15,
          25,
          14,
          26,
          12,
          22,
          14,
          23,
          27,
          24,
          26,
          24,
          19,
          24,
          26,
          16,
          27,
          17,
          15,
          25,
          26,
          17,
          12,
          14,
          15,
          9,
          19,
          15,
          16,
          25,
          22,
          19,
          22,
          18,
          22,
          3,
          21,
          25,
          15,
          25,
          24,
          25,
          22,
          10,
          21,
          24,
          20,
          17,
          16,
          19,
          25,
          6,
          24,
          26,
          22,
          24,
          23,
          23,
          27,
          14,
          24,
          11,
          14,
          23,
          16,
          21,
          22,
          15,
          18,
          16,
          15,
          27,
          24,
          16,
          16,
          20,
          18,
          15,
          20,
          23,
          6,
          24,
          15,
          28,
          15,
          22,
          23,
          22,
          15,
          25,
          26,
          9,
          20,
          22,
          10,
          17,
          10,
          16,
          26,
          25,
          24,
          24,
          9,
          12,
          10,
          21,
          22,
          24,
          17,
          25,
          18,
          21,
          12,
          27,
          16,
          23,
          27,
          18,
          25,
          21,
          19,
          22,
          16,
          24,
          18,
          11,
          22,
          21,
          30,
          23,
          22,
          16,
          5,
          22,
          14,
          11,
          13,
          14,
          11,
          16,
          20,
          13,
          17,
          24,
          13,
          16,
          22,
          14,
          25,
          21,
          26,
          12,
          19,
          18,
          26,
          26,
          22,
          27,
          21,
          22,
          14,
          18,
          14,
          11,
          15,
          16,
          20,
          20,
          10,
          24,
          8,
          6,
          22,
          20,
          13,
          22,
          22,
          8,
          18,
          13,
          15,
          15,
          21,
          14,
          14,
          24,
          21,
          25,
          22,
          13,
          18,
          20,
          23,
          19,
          18,
          7,
          11,
          20,
          23,
          23,
          6,
          23,
          22,
          12,
          18,
          18,
          16,
          17,
          16,
          27,
          15,
          11,
          20,
          22,
          25,
          15,
          16,
          11,
          15,
          21,
          23,
          25,
          8,
          21,
          23,
          26,
          22,
          17,
          21,
          24,
          17,
          13,
          21,
          7,
          23,
          14,
          16,
          24,
          24,
          26,
          17,
          21,
          17,
          24,
          17,
          17,
          8,
          27,
          9,
          26,
          16,
          15,
          19,
          24,
          18,
          26,
          18,
          14,
          21,
          23,
          24,
          21,
          24,
          21,
          17,
          25,
          16,
          23,
          15,
          13,
          15,
          15,
          20,
          9,
          23,
          15,
          21,
          14,
          8,
          4,
          23,
          26,
          22,
          19,
          27,
          25,
          15,
          12,
          4,
          22,
          19,
          22,
          30,
          23,
          25,
          20,
          21,
          23,
          20,
          24,
          24,
          20,
          23,
          27,
          24,
          7,
          27,
          18,
          24,
          23,
          18,
          28,
          20,
          7,
          3,
          27,
          20,
          16,
          24,
          4,
          6,
          23,
          7,
          24,
          21,
          21,
          9,
          16,
          11,
          27,
          22,
          18,
          22,
          10,
          22,
          8,
          25,
          12,
          21,
          23,
          22,
          23,
          21,
          23,
          20,
          21,
          24,
          20,
          23,
          19,
          20,
          22,
          21,
          23,
          26,
          25,
          17,
          21,
          13,
          20,
          11,
          19,
          20,
          23,
          21,
          24,
          22,
          15,
          19,
          20,
          20,
          22,
          23,
          19,
          27,
          11,
          25,
          26,
          12,
          20,
          23,
          25,
          15,
          20,
          11,
          22,
          15,
          8,
          21,
          21,
          23,
          15,
          14,
          7,
          25,
          18,
          16,
          26,
          10,
          23,
          19,
          27,
          16,
          22,
          20,
          19,
          18,
          28,
          14,
          16,
          25,
          21,
          16,
          14,
          13,
          22,
          16,
          9,
          5,
          17,
          20,
          23,
          16,
          19,
          19,
          21,
          16,
          23,
          18,
          16,
          27,
          23,
          26,
          16,
          23,
          15,
          14,
          19,
          13,
          25,
          27,
          16,
          21,
          20,
          19,
          23,
          25,
          24,
          20,
          21,
          24,
          21,
          19,
          22,
          20,
          19,
          12,
          13,
          15,
          26,
          22,
          15,
          21,
          6,
          17,
          23,
          21,
          26,
          23,
          23,
          23,
          27,
          16,
          19,
          5,
          19,
          25,
          20,
          21,
          27,
          21,
          29,
          14,
          21,
          20,
          24,
          18,
          23,
          22,
          22,
          23,
          24,
          21,
          27,
          20,
          19,
          22,
          24,
          13,
          22,
          17,
          10,
          26,
          11,
          25,
          11,
          17,
          8,
          25,
          27,
          21,
          20,
          12,
          24,
          24,
          28,
          22,
          5,
          23,
          19,
          27,
          29,
          24,
          23,
          25,
          23,
          11,
          21,
          11,
          23,
          24,
          24,
          12,
          22,
          18,
          15,
          21,
          8,
          26,
          17,
          18,
          28,
          15,
          27,
          22,
          26,
          15,
          11,
          23,
          29,
          8,
          9,
          20,
          19,
          29,
          19,
          30,
          9,
          27,
          9,
          19,
          11,
          24,
          17,
          25,
          28,
          14,
          24,
          9,
          15,
          18,
          24,
          13,
          23,
          12,
          15,
          16,
          15,
          22,
          8,
          24,
          25,
          16,
          12,
          10,
          21,
          17,
          16,
          28,
          23,
          16,
          31,
          27,
          15,
          12,
          30,
          17,
          24,
          22,
          22,
          19,
          5,
          6,
          14,
          20,
          7,
          24,
          20,
          6,
          16,
          18,
          18,
          21,
          23,
          25,
          20,
          16,
          18,
          16,
          6,
          12,
          16,
          24,
          28,
          21,
          27,
          13,
          19,
          24,
          14,
          25,
          22,
          17,
          16,
          16,
          15,
          27,
          25,
          21,
          25,
          23,
          24,
          22,
          22,
          25,
          24,
          18,
          21,
          25,
          24,
          20,
          12,
          24,
          19,
          10,
          22,
          26,
          15,
          19,
          22,
          23,
          14,
          22,
          19,
          26,
          23,
          8,
          24,
          13,
          20,
          18,
          18,
          25,
          24,
          25,
          24,
          23,
          21,
          24,
          19,
          26,
          15,
          25,
          11,
          26,
          26,
          14,
          26,
          26,
          20,
          15,
          28,
          23,
          22,
          26,
          24,
          19,
          16,
          5,
          21,
          12,
          19,
          23,
          17,
          20,
          20,
          19,
          26,
          24,
          23,
          7,
          23,
          19,
          27,
          10,
          23,
          21,
          9,
          25,
          21,
          25,
          17,
          30,
          12,
          20,
          17,
          23,
          29,
          9,
          26,
          25,
          18,
          22,
          29,
          16,
          25,
          23,
          6,
          10,
          25,
          21,
          16,
          18,
          30,
          14,
          25,
          20,
          5,
          20,
          19,
          9,
          21,
          21,
          20,
          15,
          18,
          19,
          14,
          26,
          25,
          24,
          18,
          18,
          21,
          22,
          26,
          26,
          10,
          27,
          24,
          25,
          28,
          21,
          5,
          17,
          27,
          26,
          20,
          26,
          22,
          5,
          12,
          25,
          18,
          24,
          27,
          26,
          23,
          18,
          27,
          19,
          12,
          15,
          7,
          18,
          2,
          14,
          8,
          23,
          16,
          22,
          7,
          24,
          14,
          16,
          17,
          20,
          4,
          26,
          19,
          3,
          9,
          12,
          10,
          12,
          10,
          7,
          7,
          8,
          15,
          21,
          21,
          19,
          10,
          17,
          6,
          5,
          10,
          9,
          20,
          9,
          11,
          4,
          4,
          7,
          18,
          9,
          10,
          12,
          15,
          13,
          18,
          8,
          13,
          7,
          4,
          10,
          6,
          12,
          14,
          10,
          16,
          22,
          22,
          28,
          9,
          24,
          26,
          22,
          24,
          19,
          25,
          26,
          26,
          9,
          11,
          22,
          20,
          20,
          25,
          12,
          20,
          13,
          18,
          16,
          23,
          22,
          22,
          24,
          5,
          5,
          5,
          10,
          18,
          26,
          25,
          26,
          15,
          24,
          8,
          23,
          17,
          24,
          14,
          13,
          22,
          14,
          18,
          13,
          11,
          8,
          17,
          13,
          30,
          25,
          12,
          26,
          13,
          25,
          19,
          29,
          24,
          23,
          17,
          10,
          6,
          26,
          29,
          12,
          18,
          17,
          26,
          21,
          9,
          16,
          18,
          25,
          28,
          19,
          20,
          25,
          10,
          18,
          18,
          6,
          22,
          21,
          12,
          27,
          17,
          18,
          21,
          27,
          29,
          25,
          21,
          22,
          22,
          22,
          12,
          22,
          3,
          21,
          11,
          17,
          18,
          22,
          23,
          10,
          21,
          25,
          27,
          23,
          30,
          24,
          20,
          23,
          7,
          18,
          21,
          22,
          21,
          15,
          22,
          23,
          23,
          17,
          20,
          17,
          21,
          18,
          9,
          11,
          14,
          24,
          18,
          18,
          16,
          22,
          25,
          20,
          22,
          17,
          21,
          25,
          16,
          27,
          15,
          21,
          21,
          19,
          25,
          9,
          21,
          17,
          25,
          30,
          15,
          25,
          24,
          6,
          23,
          23,
          13,
          21,
          25,
          6,
          27,
          15,
          13,
          12,
          13,
          15,
          10,
          19,
          10,
          26,
          28,
          15,
          25,
          30,
          14,
          19,
          21,
          13,
          20,
          30,
          22,
          22,
          21,
          13,
          26,
          15,
          22,
          25,
          24,
          23,
          27,
          15,
          17,
          25,
          25,
          21,
          5,
          25,
          9,
          16,
          15,
          21,
          23,
          13,
          21,
          22,
          17,
          20,
          25,
          6,
          25,
          12,
          7,
          26,
          26,
          7,
          16,
          19,
          26,
          19,
          16,
          24,
          26,
          12,
          24,
          17,
          9,
          26,
          28,
          26,
          7,
          21,
          20,
          11,
          29,
          22,
          10,
          25,
          23,
          23,
          11,
          22,
          6,
          21,
          26,
          18,
          21,
          15,
          21,
          22,
          20,
          23,
          22,
          7,
          10,
          25,
          9,
          21,
          24,
          19,
          23,
          6,
          20,
          27,
          24,
          25,
          20,
          22,
          22,
          12,
          25,
          24,
          23,
          23,
          24,
          28,
          24,
          22,
          13,
          26,
          26,
          24,
          21,
          22,
          24,
          27,
          27,
          28,
          9,
          12,
          15,
          24,
          20,
          24,
          19,
          19,
          24,
          21,
          9,
          14,
          18,
          13,
          13,
          8,
          28,
          17,
          22,
          26,
          30,
          28,
          16,
          26,
          21,
          8,
          10,
          24,
          25,
          21,
          18,
          21,
          23,
          25,
          21,
          20,
          25,
          11,
          22,
          23,
          16,
          27,
          24,
          11,
          23,
          17,
          26,
          21,
          13,
          23,
          28,
          24,
          3,
          6,
          20,
          29,
          10,
          26,
          12,
          5,
          12,
          16,
          17,
          19,
          22,
          11,
          18,
          14,
          24,
          24,
          21,
          22,
          4,
          25,
          27,
          26,
          27,
          28,
          21,
          6,
          24,
          30,
          27,
          24,
          18,
          9,
          13,
          22,
          29,
          29,
          8,
          10,
          17,
          21,
          23,
          6,
          15,
          25,
          26,
          23,
          26,
          10,
          23,
          17,
          21,
          21,
          25,
          13,
          22,
          20,
          24,
          18,
          26,
          23,
          6,
          23,
          12,
          15,
          21,
          18,
          23,
          12,
          14,
          24,
          20,
          6,
          12,
          13,
          12,
          21,
          12,
          11,
          16,
          21,
          12,
          8,
          12,
          19,
          23,
          16,
          28,
          12,
          18,
          19,
          8,
          20,
          36,
          24,
          21,
          23,
          21,
          7,
          22,
          14,
          20,
          6,
          4,
          15,
          6,
          13,
          27,
          21,
          24,
          19,
          18,
          15,
          22,
          22,
          21,
          25,
          21,
          25,
          26,
          26,
          27,
          20,
          19,
          25,
          23,
          27,
          25,
          13,
          9,
          22,
          28,
          24,
          11,
          11,
          17,
          18,
          11,
          26,
          11,
          16,
          17,
          26,
          17,
          20,
          23,
          24,
          24,
          23,
          19,
          25,
          23,
          26,
          7,
          20,
          16,
          12,
          10,
          21,
          11,
          4,
          10,
          10,
          19,
          26,
          4,
          18,
          17,
          8,
          26,
          26,
          24,
          11,
          24,
          18,
          25,
          22,
          13,
          20,
          18,
          24,
          10,
          24,
          15,
          17,
          26,
          28,
          14,
          26,
          30,
          13,
          25,
          26,
          22,
          27,
          24,
          25,
          25,
          23,
          27,
          22,
          13,
          18,
          16,
          19,
          11,
          11,
          21,
          30,
          16,
          18,
          24,
          21,
          21,
          23,
          26,
          29,
          24,
          24,
          21,
          15,
          20,
          16,
          20,
          17,
          17,
          9,
          25,
          27,
          11,
          24,
          20,
          20,
          17,
          19,
          23,
          13,
          26,
          20,
          24,
          25,
          13,
          16,
          19,
          24,
          19,
          27,
          27,
          14,
          28,
          23,
          22,
          23,
          23,
          23,
          24,
          15,
          28,
          22,
          11,
          20,
          16,
          18,
          12,
          12,
          25,
          20,
          22,
          13,
          10,
          24,
          27,
          10,
          27,
          10,
          18,
          17,
          17,
          11,
          23,
          8,
          18,
          8,
          9,
          6,
          13,
          15,
          22,
          5,
          20,
          8,
          6,
          23,
          23,
          30,
          18,
          23,
          12,
          24,
          25,
          26,
          25,
          19,
          25,
          24,
          29,
          20,
          30,
          18,
          12,
          18,
          22,
          21,
          14,
          20,
          20,
          27,
          12,
          13,
          26,
          23,
          15,
          8,
          6,
          22,
          19,
          8,
          24,
          14,
          17,
          22,
          23,
          21,
          20,
          29,
          21,
          18,
          24,
          14,
          19,
          9,
          29,
          23,
          13,
          16,
          24,
          25,
          13,
          27,
          30,
          27,
          19,
          27,
          8,
          18,
          15,
          10,
          25,
          23,
          11,
          24,
          11,
          8,
          19,
          20,
          22,
          20,
          23,
          21,
          27,
          23,
          17,
          21,
          25,
          24,
          26,
          16,
          23,
          21,
          23,
          24,
          22,
          7,
          29,
          16,
          11,
          27,
          6,
          20,
          26,
          9,
          16,
          26,
          12,
          21,
          18,
          30,
          28,
          18,
          23,
          18,
          26,
          27,
          5,
          21,
          20,
          8,
          23,
          26,
          26,
          7,
          21,
          16,
          20,
          13,
          16,
          23,
          22,
          16,
          25,
          23,
          8,
          25,
          15,
          15,
          24,
          7,
          8,
          5,
          23,
          28,
          22,
          29,
          6,
          27,
          23,
          25,
          18,
          25,
          19,
          3,
          8,
          28,
          11,
          15,
          7,
          23,
          26,
          21,
          23,
          16,
          20,
          25,
          24,
          4,
          15,
          25,
          26,
          26,
          25,
          25,
          27,
          19,
          4,
          21,
          25,
          19,
          19,
          19,
          19,
          11,
          20,
          26,
          10,
          27,
          12,
          27,
          7,
          23,
          21,
          17,
          23,
          14,
          23,
          22,
          22,
          25,
          18,
          26,
          16,
          10,
          28,
          24,
          19,
          22,
          12,
          27,
          21,
          21,
          26,
          17,
          25,
          9,
          18,
          18,
          11,
          18,
          25,
          26,
          21,
          25,
          28,
          24,
          25,
          17,
          23,
          19,
          20,
          24,
          22,
          23,
          21,
          24,
          15,
          20,
          24,
          24,
          21,
          12,
          20,
          26,
          23,
          14,
          18,
          19,
          24,
          24,
          26,
          28,
          16,
          23,
          9,
          29,
          19,
          26,
          21,
          20,
          28,
          20,
          15,
          15,
          24,
          26,
          20,
          20,
          20,
          11,
          19,
          22,
          20,
          22,
          7,
          9,
          22,
          20,
          26,
          25,
          20,
          13,
          21,
          13,
          7,
          24,
          11,
          10,
          28,
          12,
          26,
          8,
          25,
          16,
          27,
          24,
          27,
          25,
          13,
          12,
          18,
          4,
          22,
          23,
          18,
          16,
          27,
          25,
          21,
          13,
          8,
          17,
          21,
          9,
          30,
          24,
          23,
          6,
          23,
          17,
          26,
          29,
          29,
          22,
          25,
          7,
          21,
          19,
          26,
          15,
          23,
          22,
          24,
          24,
          23,
          15,
          27,
          22,
          16,
          8,
          21,
          15,
          21,
          25,
          21,
          20,
          22,
          23,
          21,
          27,
          22,
          3,
          21,
          22,
          24,
          22,
          23,
          24,
          22,
          29,
          17,
          27,
          19,
          26,
          24,
          18,
          6,
          19,
          30,
          22,
          27,
          20,
          25,
          24,
          9,
          19,
          9,
          20,
          25,
          26,
          21,
          25,
          21,
          23,
          14,
          18,
          22,
          5,
          16,
          14,
          12,
          18,
          25,
          25,
          23,
          25,
          19,
          15,
          25,
          23,
          13,
          22,
          4,
          16,
          18,
          16,
          17,
          3,
          24,
          21,
          23,
          9,
          16,
          29,
          13,
          16,
          17,
          24,
          14,
          28,
          20,
          15,
          17,
          8,
          22,
          24,
          6,
          19,
          25,
          26,
          28,
          16,
          27,
          6,
          25,
          23,
          26,
          14,
          17,
          13,
          15,
          5,
          24,
          28,
          22,
          22,
          24,
          29,
          29,
          21,
          23,
          17,
          26,
          19,
          20,
          20,
          24,
          22,
          22,
          18,
          18,
          22,
          17,
          7,
          26,
          23,
          24,
          23,
          23,
          15,
          22,
          23,
          22,
          18,
          26,
          26,
          7,
          25,
          31,
          25,
          26,
          24,
          27,
          18,
          27,
          24,
          25,
          23,
          19,
          18,
          31,
          25,
          21,
          6,
          23,
          4,
          21,
          23,
          22,
          26,
          6,
          22,
          21,
          22,
          21,
          27,
          29,
          19,
          24,
          13,
          24,
          16,
          19,
          20,
          25,
          20,
          23,
          21,
          23,
          25,
          19,
          21,
          21,
          23,
          20,
          29,
          22,
          11,
          27,
          25,
          33,
          20,
          24,
          24,
          23,
          15,
          22,
          8,
          20,
          25,
          20,
          20,
          13,
          20,
          17,
          17,
          28,
          25,
          21,
          15,
          21,
          23,
          21,
          21,
          19,
          7,
          11,
          27,
          25,
          28,
          25,
          6,
          24,
          28,
          26,
          19,
          23,
          22,
          26,
          11,
          15,
          24,
          16,
          24,
          8,
          17,
          20,
          16,
          24,
          11,
          26,
          23,
          19,
          11,
          12,
          18,
          26,
          8,
          23,
          14,
          25,
          5,
          9,
          20,
          28,
          22,
          27,
          19,
          20,
          24,
          24,
          27,
          23,
          25,
          20,
          19,
          17,
          27,
          23,
          7,
          13,
          22,
          23,
          20,
          16,
          6,
          27,
          15,
          21,
          23,
          20,
          23,
          19,
          21,
          28,
          15,
          17,
          23,
          21,
          26,
          19,
          27,
          28,
          13,
          24,
          19,
          28,
          23,
          24,
          28,
          27,
          11,
          23,
          27,
          26,
          16,
          25,
          24,
          10,
          24,
          14,
          8,
          23,
          23,
          12,
          27,
          13,
          13,
          21,
          10,
          12,
          19,
          13,
          23,
          4,
          24,
          22,
          24,
          29,
          23,
          23,
          22,
          19,
          5,
          21,
          14,
          19,
          15,
          26,
          26,
          23,
          22,
          20,
          23,
          22,
          29,
          20,
          18,
          16,
          13,
          24,
          16,
          25,
          23,
          19,
          23,
          23,
          25,
          11,
          23,
          10,
          18,
          22,
          19,
          24,
          9,
          16,
          25,
          14,
          21,
          7,
          23,
          15,
          17,
          15,
          12,
          21,
          22,
          21,
          24,
          12,
          10,
          30,
          9,
          23,
          5,
          23,
          23,
          24,
          32,
          21,
          17,
          20,
          8,
          22,
          24,
          22,
          18,
          26,
          21,
          15,
          18,
          23,
          22,
          23,
          23,
          26,
          13,
          23,
          22,
          26,
          21,
          18,
          21,
          13,
          21,
          11,
          21,
          25,
          9,
          24,
          24,
          19,
          24,
          15,
          20,
          19,
          26,
          22,
          22,
          14,
          19,
          14,
          20,
          26,
          21,
          23,
          28,
          13,
          20,
          15,
          18,
          22,
          19,
          22,
          18,
          24,
          12,
          22,
          27,
          21,
          11,
          9,
          24,
          23,
          17,
          27,
          27,
          13,
          17,
          19,
          21,
          19,
          21,
          23,
          21,
          17,
          18,
          26,
          18,
          20,
          23,
          27,
          28,
          18,
          16,
          24,
          23,
          12,
          20,
          26,
          28,
          24,
          23,
          22,
          24,
          25,
          29,
          24,
          12,
          11,
          20,
          15,
          19,
          28,
          13,
          23,
          17,
          26,
          23,
          18,
          21,
          22,
          23,
          21,
          10,
          25,
          12,
          23,
          21,
          8,
          22,
          9,
          22,
          24,
          10,
          20,
          20,
          27,
          20,
          14,
          6,
          23,
          16,
          19,
          20,
          17,
          23,
          12,
          13,
          19,
          17,
          13,
          25,
          6,
          24,
          18,
          15,
          16,
          21,
          12,
          6,
          23,
          25,
          25,
          18,
          21,
          16,
          16,
          25,
          24,
          9,
          10,
          13,
          21,
          25,
          26,
          22,
          24,
          13,
          23,
          29,
          15,
          26,
          26,
          26,
          27,
          25,
          7,
          27,
          20,
          18,
          26,
          23,
          29,
          28,
          22,
          18,
          25,
          26,
          27,
          24,
          24,
          27,
          19,
          15,
          12,
          12,
          31,
          20,
          24,
          20,
          26,
          27,
          28,
          7,
          25,
          20,
          23,
          9,
          19,
          17,
          22,
          20,
          26,
          17,
          13,
          18,
          24,
          20,
          19,
          19,
          8,
          25,
          5,
          22,
          21,
          15,
          27,
          25,
          19,
          12,
          28,
          28,
          16,
          17,
          25,
          21,
          15,
          28,
          26,
          21,
          26,
          6,
          25,
          22,
          20,
          11,
          18,
          23,
          7,
          23,
          20,
          14,
          9,
          21,
          28,
          22,
          29,
          21,
          24,
          14,
          30,
          5,
          30,
          23,
          14,
          10,
          16,
          25,
          11,
          24,
          24,
          23,
          24,
          21,
          15,
          9,
          24,
          28,
          7,
          13,
          20,
          23,
          20,
          22,
          19,
          6,
          10,
          6,
          15,
          24,
          19,
          23,
          29,
          21,
          18,
          7,
          19,
          24,
          23,
          26,
          7,
          9,
          24,
          22,
          18,
          7,
          13,
          15,
          12,
          14,
          20,
          19,
          22,
          17,
          14,
          10,
          10,
          11,
          5,
          21,
          15,
          17,
          19,
          23,
          13,
          17,
          6,
          25,
          10,
          23,
          25,
          17,
          27,
          15,
          11,
          23,
          23,
          24,
          22,
          18,
          26,
          25,
          25,
          27,
          22,
          12,
          10,
          12,
          23,
          19,
          19,
          25,
          25,
          4,
          16,
          22,
          10,
          26,
          20,
          14,
          25,
          24,
          22,
          22,
          7,
          8,
          26,
          16,
          18,
          16,
          26,
          18,
          19,
          15,
          18,
          26,
          17,
          20,
          26,
          25,
          19,
          25,
          22,
          21,
          24,
          6,
          30,
          20,
          14,
          21,
          25,
          21,
          8,
          4,
          23,
          24,
          21,
          17,
          27,
          25,
          21,
          19,
          23,
          23,
          26,
          11,
          6,
          25,
          18,
          18,
          30,
          30,
          13,
          25,
          23,
          21,
          11,
          11,
          15,
          28,
          11,
          5,
          26,
          20,
          23,
          22,
          19,
          16,
          25,
          13,
          10,
          23,
          22,
          21,
          20,
          23,
          22,
          14,
          24,
          23,
          24,
          19,
          15,
          21,
          19,
          21,
          16,
          23,
          19,
          28,
          23,
          16,
          21,
          29,
          17,
          14,
          16,
          22,
          18,
          17,
          12,
          17,
          23,
          22,
          16,
          18,
          16,
          19,
          21,
          23,
          23,
          18,
          23,
          13,
          18,
          13,
          16,
          27,
          23,
          25,
          22,
          4,
          30,
          23,
          26,
          21,
          22,
          7,
          7,
          28,
          20,
          15,
          9,
          22,
          25,
          22,
          16,
          24,
          11,
          9,
          22,
          24,
          17,
          21,
          23,
          22,
          30,
          27,
          18,
          16,
          19,
          21,
          27,
          24,
          23,
          28,
          13,
          22,
          25,
          16,
          22,
          16,
          20,
          19,
          18,
          18,
          23,
          21,
          14,
          19,
          16,
          18,
          25,
          26,
          15,
          24,
          27,
          17,
          26,
          7,
          20,
          21,
          20,
          26,
          15,
          21,
          26,
          20,
          19,
          26,
          24,
          20,
          14,
          24,
          20,
          27,
          26,
          20,
          23,
          18,
          19,
          15,
          27,
          25,
          21,
          9,
          28,
          17,
          19,
          25,
          25,
          12,
          20,
          23,
          8,
          28,
          25,
          30,
          24,
          22,
          25,
          26,
          25,
          20,
          23,
          15,
          9,
          16,
          24,
          18,
          23,
          27,
          22,
          30,
          13,
          23,
          13,
          21,
          19,
          13,
          21,
          24,
          16,
          25,
          24,
          23,
          14,
          25,
          18,
          17,
          16,
          15,
          23,
          6,
          13,
          20,
          28,
          21,
          23,
          9,
          17,
          24,
          29,
          20,
          24,
          14,
          22,
          8,
          22,
          13,
          18,
          24,
          8,
          30,
          28,
          19,
          23,
          16,
          6,
          16,
          27,
          21,
          19,
          23,
          6,
          25,
          22,
          25,
          15,
          14,
          23,
          14,
          24,
          13,
          23,
          12,
          21,
          14,
          24,
          16,
          22,
          20,
          23,
          21,
          24,
          26,
          22,
          21,
          19,
          17,
          21,
          21,
          24,
          10,
          20,
          21,
          24,
          27,
          13,
          30,
          11,
          20,
          30,
          24,
          24,
          19,
          24,
          23,
          21,
          7,
          18,
          26,
          26,
          26,
          17,
          19,
          19,
          12,
          22,
          26,
          22,
          11,
          22,
          24,
          21,
          23,
          18,
          21,
          15,
          20,
          24,
          17,
          26,
          18,
          7,
          23,
          24,
          19,
          18,
          21,
          24,
          16,
          11,
          26,
          29,
          15,
          24,
          15,
          20,
          27,
          20,
          8,
          28,
          9,
          27,
          14,
          24,
          11,
          10,
          27,
          9,
          12,
          15,
          17,
          8,
          20,
          27,
          26,
          17,
          23,
          16,
          8,
          13,
          28,
          13,
          23,
          14,
          25,
          19,
          23,
          19,
          26,
          15,
          16,
          23,
          28,
          13,
          26,
          10,
          20,
          23,
          18,
          16,
          12,
          24,
          19,
          20,
          23,
          24,
          16,
          26,
          22,
          9,
          16,
          16,
          8,
          20,
          26,
          26,
          20,
          24,
          14,
          20,
          25,
          17,
          27,
          7,
          22,
          14,
          18,
          9,
          26,
          24,
          29,
          23,
          24,
          26,
          13,
          27,
          23,
          15,
          21,
          22,
          12,
          15,
          17,
          16,
          21,
          16,
          27,
          23,
          26,
          20,
          16,
          28,
          8,
          19,
          22,
          22,
          3,
          14,
          25,
          24,
          11,
          26,
          23,
          12,
          20,
          17,
          16,
          22,
          15,
          29,
          27,
          7,
          5,
          22,
          19,
          21,
          18,
          23,
          19,
          16,
          23,
          9,
          15,
          14,
          26,
          14,
          13,
          24,
          22,
          22,
          23,
          14,
          13,
          9,
          5,
          15,
          17,
          9,
          28,
          10,
          24,
          27,
          7,
          28,
          4,
          12,
          17,
          28,
          24,
          24,
          22,
          20,
          25,
          15,
          19,
          15,
          26,
          11,
          4,
          19,
          22,
          25,
          13,
          13,
          12,
          13,
          29,
          31,
          16,
          15,
          23,
          27,
          23,
          22,
          13,
          6,
          28,
          6,
          25,
          12,
          19,
          23,
          29,
          25,
          25,
          12,
          10,
          18,
          8,
          15,
          22,
          21,
          24,
          11,
          18,
          27,
          24,
          28,
          18,
          21,
          18,
          22,
          23,
          23,
          12,
          19,
          23,
          26,
          20,
          27,
          26,
          11,
          22,
          15,
          11,
          18,
          21,
          24,
          18,
          17,
          12,
          26,
          26,
          28,
          18,
          27,
          14,
          25,
          25,
          21,
          10,
          26,
          22,
          26,
          6,
          19,
          23,
          19,
          21,
          25,
          26,
          15,
          21,
          8,
          24,
          25,
          19,
          16,
          21,
          27,
          23,
          18,
          24,
          27,
          22,
          22,
          26,
          10,
          23,
          18,
          24,
          26,
          22,
          5,
          23,
          24,
          26,
          16,
          6,
          21,
          6,
          15,
          20,
          16,
          26,
          18,
          22,
          24,
          28,
          31,
          20,
          21,
          26,
          27,
          23,
          26,
          25,
          26,
          19,
          22,
          25,
          28,
          29,
          28,
          19,
          25,
          24,
          26,
          24,
          24,
          23,
          14,
          19,
          24,
          10,
          20,
          27,
          10,
          15,
          23,
          8,
          21,
          22,
          15,
          26,
          12,
          10,
          18,
          19,
          17,
          20,
          22,
          7,
          24,
          11,
          14,
          24,
          22,
          16,
          20,
          9,
          11,
          27,
          21,
          16,
          23,
          7,
          24,
          27,
          22,
          25,
          26,
          24,
          13,
          24,
          13,
          11,
          24,
          16,
          18,
          22,
          18,
          24,
          23,
          22,
          25,
          26,
          17,
          19,
          23,
          6,
          20,
          18,
          16,
          26,
          25,
          24,
          13,
          14,
          19,
          20,
          20,
          19,
          24,
          29,
          21,
          24,
          23,
          26,
          20,
          27,
          5,
          21,
          22,
          25,
          22,
          22,
          18,
          18,
          15,
          18,
          19,
          12,
          18,
          4,
          12,
          26,
          11,
          12,
          20,
          12,
          22,
          23,
          28,
          25,
          16,
          27,
          17,
          20,
          27,
          21,
          22,
          20,
          26,
          6,
          27,
          23,
          28,
          26,
          13,
          20,
          10,
          17,
          22,
          25,
          19,
          23,
          19,
          13,
          24,
          24,
          25,
          25,
          25,
          22,
          27,
          21,
          13,
          15,
          15,
          7,
          24,
          26,
          17,
          13,
          19,
          18,
          13,
          26,
          8,
          20,
          19,
          24,
          20,
          19,
          23,
          12,
          16,
          19,
          26,
          14,
          16,
          24,
          22,
          11,
          22,
          23,
          27,
          25,
          25,
          26,
          28,
          12,
          19,
          11,
          25,
          15,
          3,
          17,
          25,
          12,
          22,
          27,
          17,
          22,
          15,
          17,
          25,
          26,
          11,
          19,
          16,
          23,
          25,
          4,
          24,
          13,
          16,
          25,
          25,
          27,
          22,
          14,
          25,
          17,
          16,
          13,
          26,
          17,
          19,
          28,
          27,
          22,
          16,
          20,
          27,
          23,
          26,
          21,
          23,
          20,
          15,
          21,
          5,
          27,
          13,
          13,
          30,
          23,
          24,
          23,
          4,
          26,
          15,
          11,
          24,
          24,
          5,
          12,
          26,
          18,
          9,
          16,
          21,
          19,
          14,
          23,
          25,
          15,
          24,
          26,
          20,
          26,
          22,
          27,
          21,
          24,
          26,
          8,
          22,
          22,
          20,
          25,
          23,
          28,
          19,
          12,
          20,
          25,
          15,
          13,
          24,
          25,
          14,
          24,
          23,
          17,
          15,
          27,
          20,
          11,
          6,
          15,
          17,
          16,
          24,
          19,
          19,
          21,
          22,
          12,
          8,
          8,
          26,
          19,
          23,
          28,
          26,
          28,
          23,
          15,
          11,
          25,
          15,
          26,
          21,
          21,
          22,
          14,
          17,
          18,
          9,
          28,
          16,
          23,
          16,
          24,
          24,
          27,
          15,
          23,
          20,
          18,
          25,
          25,
          27,
          27,
          25,
          22,
          23,
          22,
          22,
          30,
          23,
          21,
          8,
          17,
          12,
          20,
          15,
          11,
          17,
          11,
          19,
          24,
          8,
          17,
          19,
          17,
          21,
          20,
          24,
          23,
          14,
          16,
          26,
          22,
          27,
          16,
          22,
          26,
          22,
          15,
          10,
          19,
          9,
          6,
          19,
          23,
          20,
          14,
          23,
          26,
          24,
          21,
          18,
          23,
          8,
          18,
          22,
          17,
          23,
          26,
          25,
          26,
          23,
          24,
          4,
          23,
          26,
          10,
          22,
          11,
          24,
          16,
          20,
          20,
          22,
          14,
          18,
          22,
          25,
          24,
          20,
          20,
          9,
          24,
          23,
          22,
          19,
          12,
          22,
          21,
          17,
          23,
          20,
          12,
          24,
          21,
          13,
          24,
          25,
          16,
          27,
          16,
          13,
          5,
          11,
          11,
          17,
          17,
          28,
          16,
          21,
          8,
          25,
          17,
          23,
          23,
          17,
          12,
          29,
          4,
          23,
          23,
          20,
          21,
          9,
          25,
          18,
          13,
          20,
          20,
          22,
          23,
          13,
          3,
          10,
          18,
          17,
          16,
          25,
          23,
          16,
          25,
          22,
          9,
          22,
          18,
          24,
          22,
          27,
          24,
          18,
          27,
          18,
          32,
          21,
          9,
          15,
          28,
          22,
          20,
          27,
          23,
          25,
          26,
          25,
          15,
          12,
          19,
          16,
          18,
          25,
          18,
          24,
          19,
          27,
          23,
          11,
          13,
          20,
          24,
          7,
          11,
          15,
          24,
          7,
          23,
          19,
          24,
          17,
          20,
          30,
          24,
          16,
          23,
          15,
          25,
          25,
          16,
          22,
          19,
          16,
          17,
          24,
          29,
          25,
          27,
          24,
          29,
          17,
          32,
          13,
          26,
          19,
          26,
          20,
          25,
          19,
          22,
          22,
          19,
          21,
          25,
          27,
          18,
          30,
          22,
          25,
          12,
          24,
          20,
          12,
          21,
          23,
          23,
          13,
          19,
          16,
          17,
          23,
          17,
          21,
          25,
          16,
          21,
          18,
          20,
          13,
          13,
          21,
          25,
          23,
          20,
          12,
          20,
          28,
          20,
          20,
          23,
          15,
          21,
          20,
          21,
          17,
          15,
          24,
          12,
          22,
          24,
          23,
          18,
          21,
          20,
          25,
          17,
          24,
          26,
          13,
          31,
          21,
          17,
          21,
          18,
          25,
          25,
          20,
          23,
          23,
          12,
          23,
          26,
          8,
          24,
          26,
          17,
          24,
          25,
          17,
          17,
          31,
          25,
          28,
          16,
          17,
          22,
          27,
          24,
          26,
          23,
          23,
          23,
          26,
          21,
          26,
          29,
          17,
          27,
          14,
          20,
          24,
          17,
          10,
          22,
          21,
          6,
          27,
          24,
          19,
          20,
          21,
          16,
          25,
          27,
          27,
          4,
          23,
          28,
          12,
          6,
          16,
          20,
          25,
          25,
          29,
          17,
          28,
          12,
          20,
          5,
          25,
          20,
          12,
          15,
          11,
          25,
          23,
          26,
          27,
          22,
          27,
          14,
          17,
          18,
          27,
          14,
          16,
          16,
          21,
          16,
          22,
          22,
          26,
          9,
          20,
          23,
          8,
          24,
          22,
          14,
          15,
          23,
          14,
          22,
          25,
          25,
          16,
          23,
          18,
          22,
          18,
          12,
          13,
          15,
          21,
          23,
          24,
          27,
          27,
          8,
          28,
          11,
          12,
          23,
          7,
          22,
          20,
          26,
          18,
          6,
          18,
          17,
          24,
          24,
          25,
          25,
          21,
          24,
          9,
          18,
          11,
          19,
          19,
          19,
          28,
          16,
          23,
          21,
          17,
          24,
          22,
          25,
          25,
          24,
          15,
          15,
          26,
          22,
          18,
          26,
          14,
          28,
          13,
          11,
          19,
          25,
          7,
          18,
          28,
          17,
          21,
          16,
          20,
          26,
          27,
          13,
          11,
          26,
          3,
          22,
          14,
          21,
          25,
          22,
          13,
          20,
          24,
          24,
          26,
          26,
          22,
          20,
          21,
          20,
          25,
          29,
          11,
          15,
          18,
          20,
          24,
          19,
          23,
          12,
          15,
          4,
          17,
          11,
          23,
          22,
          24,
          23,
          26,
          18,
          16,
          24,
          20,
          19,
          27,
          21,
          20,
          25,
          25,
          26,
          17,
          26,
          23,
          10,
          24,
          20,
          15,
          24,
          21,
          27,
          24,
          15,
          14,
          16,
          20,
          18,
          26,
          23,
          23,
          21,
          11,
          14,
          25,
          21,
          26,
          22,
          23,
          19,
          25,
          19,
          20,
          5,
          27,
          13,
          18,
          16,
          23,
          20,
          20,
          18,
          22,
          21,
          22,
          20,
          25,
          25,
          16,
          18,
          17,
          20,
          16,
          24,
          17,
          16,
          21,
          9,
          24,
          26,
          20,
          18,
          24,
          27,
          21,
          22,
          26,
          21,
          12,
          22,
          22,
          15,
          28,
          19,
          22,
          10,
          10,
          24,
          19,
          19,
          21,
          14,
          14,
          18,
          26,
          19,
          26,
          11,
          16,
          15,
          13,
          10,
          23,
          16,
          23,
          14,
          28,
          12,
          29,
          22,
          28,
          19,
          20,
          24,
          22,
          26,
          22,
          25,
          21,
          27,
          26,
          18,
          16,
          22,
          23,
          20,
          15,
          14,
          25,
          26,
          24,
          27,
          26,
          20,
          14,
          19,
          23,
          8,
          23,
          6,
          24,
          21,
          19,
          23,
          19,
          6,
          15,
          20,
          17,
          25,
          19,
          21,
          21,
          23,
          18,
          22,
          23,
          19,
          22,
          19,
          16,
          22,
          22,
          27,
          19,
          20,
          24,
          11,
          26,
          29,
          26,
          21,
          18,
          28,
          4,
          23,
          22,
          12,
          23,
          24,
          20,
          20,
          24,
          28,
          23,
          11,
          27,
          13,
          4,
          17,
          17,
          19,
          25,
          22,
          14,
          22,
          10,
          8,
          22,
          27,
          17,
          16,
          14,
          14,
          20,
          29,
          24,
          24,
          12,
          13,
          24,
          19,
          19,
          18,
          23,
          12,
          10,
          24,
          24,
          21,
          20,
          6,
          17,
          22,
          20,
          17,
          22,
          19,
          26,
          24,
          23,
          23,
          18,
          16,
          23,
          4,
          13,
          24,
          13,
          20,
          14,
          22,
          18,
          13,
          29,
          15,
          16,
          10,
          24,
          23,
          27,
          16,
          21,
          15,
          25,
          20,
          9,
          9,
          21,
          16,
          22,
          16,
          24,
          26,
          24,
          28,
          16,
          22,
          29,
          20,
          25,
          25,
          14,
          22,
          23,
          11,
          10,
          27,
          18,
          25,
          20,
          23,
          21,
          13,
          26,
          25,
          26,
          22,
          29,
          24,
          28,
          26,
          22,
          23,
          24,
          20,
          18,
          23,
          18,
          16,
          15,
          20,
          22,
          12,
          5,
          21,
          24,
          20,
          19,
          7,
          19,
          11,
          22,
          25,
          23,
          27,
          14,
          17,
          22,
          17,
          18,
          15,
          26,
          10,
          23,
          18,
          15,
          23,
          25,
          17,
          25,
          22,
          24,
          20,
          21,
          10,
          13,
          26,
          23,
          6,
          25,
          13,
          28,
          24,
          23,
          10,
          23,
          26,
          22,
          22,
          24,
          22,
          19,
          14,
          27,
          23,
          22,
          15,
          8,
          29,
          29,
          21,
          13,
          19,
          25,
          25,
          25,
          23,
          28,
          25,
          5,
          21,
          24,
          27,
          19,
          12,
          26,
          8,
          25,
          3,
          23,
          19,
          27,
          28,
          26,
          24,
          25,
          7,
          26,
          26,
          22,
          25,
          22,
          24,
          27,
          20,
          24,
          15,
          7,
          23,
          26,
          22,
          24,
          26,
          17,
          10,
          13,
          13,
          14,
          21,
          25,
          21,
          23,
          24,
          7,
          19,
          22,
          17,
          14,
          13,
          18,
          14,
          19,
          22,
          17,
          23,
          23,
          23,
          24,
          20,
          28,
          31,
          20,
          23,
          27,
          19,
          20,
          19,
          22,
          24,
          16,
          18,
          29,
          24,
          17,
          16,
          13,
          14,
          27,
          23,
          10,
          14,
          13,
          21,
          23,
          7,
          7,
          21,
          20,
          27,
          25,
          24,
          5,
          13,
          24,
          24,
          21,
          26,
          10,
          23,
          9,
          25,
          23,
          21,
          25,
          27,
          19,
          21,
          22,
          23,
          20,
          16,
          27,
          19,
          16,
          26,
          23,
          21,
          23,
          22,
          21,
          28,
          19,
          23,
          28,
          18,
          24,
          26,
          14,
          23,
          24,
          26,
          19,
          14,
          17,
          24,
          14,
          22,
          17,
          18,
          25,
          24,
          25,
          21,
          25,
          22,
          28,
          25,
          26,
          24,
          22,
          21,
          22,
          20,
          21,
          21,
          24,
          30,
          13,
          23,
          14,
          22,
          26,
          11,
          21,
          15,
          18,
          24,
          10,
          22,
          16,
          3,
          26,
          12,
          26,
          22,
          12,
          23,
          24,
          19,
          20,
          26,
          22,
          24,
          21,
          6,
          7,
          21,
          24,
          5,
          21,
          21,
          20,
          23,
          25,
          24,
          25,
          23,
          27,
          16,
          25,
          24,
          18,
          24,
          28,
          25,
          30,
          20,
          21,
          21,
          22,
          18,
          18,
          23,
          27,
          21,
          12,
          25,
          14,
          18,
          26,
          24,
          21,
          20,
          2,
          11,
          14,
          23,
          22,
          8,
          16,
          18,
          21,
          14,
          10,
          16,
          26,
          22,
          18,
          21,
          25,
          22,
          22,
          21,
          23,
          24,
          19,
          28,
          26,
          19,
          12,
          24,
          12,
          23,
          19,
          21,
          26,
          16,
          26,
          20,
          18,
          14,
          22,
          14,
          25,
          21,
          17,
          22,
          21,
          22,
          25,
          15,
          19,
          26,
          20,
          23,
          23,
          21,
          17,
          22,
          25,
          23,
          25,
          5,
          28,
          20,
          28,
          21,
          28,
          18,
          25,
          22,
          23,
          21,
          21,
          13,
          22,
          21,
          25,
          20,
          22,
          24,
          22,
          8,
          29,
          14,
          17,
          18,
          25,
          2,
          20,
          25,
          26,
          9,
          17,
          18,
          14,
          17,
          9,
          23,
          22,
          24,
          23,
          22,
          3,
          4,
          24,
          18,
          21,
          15,
          22,
          27,
          24,
          24,
          9,
          23,
          19,
          25,
          24,
          23,
          23,
          20,
          16,
          25,
          23,
          26,
          21,
          13,
          22,
          14,
          23,
          17,
          23,
          21,
          23,
          10,
          20,
          25,
          23,
          22,
          9,
          22,
          26,
          17,
          23,
          26,
          24,
          24,
          23,
          20,
          9,
          14,
          11,
          28,
          24,
          3,
          26,
          21,
          24,
          25,
          7,
          7,
          6,
          8,
          20,
          26,
          12,
          21,
          13,
          18,
          22,
          21,
          23,
          18,
          14,
          21,
          23,
          24,
          7,
          22,
          23,
          17,
          13,
          25,
          23,
          15,
          8,
          13,
          22,
          20,
          16,
          8,
          23,
          21,
          10,
          26,
          21,
          23,
          21,
          17,
          8,
          27,
          27,
          25,
          12,
          17,
          11,
          19,
          21,
          23,
          21,
          25,
          6,
          9,
          25,
          22,
          15,
          24,
          26,
          20,
          17,
          25,
          22,
          22,
          9,
          26,
          26,
          26,
          22,
          26,
          17,
          30,
          19,
          27,
          22,
          19,
          23,
          21,
          20,
          21,
          23,
          27,
          23,
          20,
          22,
          25,
          24,
          19,
          27,
          26,
          28,
          24,
          25,
          27,
          16,
          26,
          4,
          22,
          24,
          24,
          21,
          23,
          17,
          13,
          17,
          12,
          17,
          21,
          23,
          26,
          14,
          17,
          10,
          22,
          16,
          25,
          26,
          25,
          29,
          27,
          22,
          28,
          28,
          18,
          14,
          19,
          20,
          27,
          27,
          20,
          16,
          21,
          21,
          19,
          25,
          13,
          21,
          23,
          17,
          8,
          24,
          25,
          29,
          27,
          16,
          24,
          21,
          18,
          16,
          23,
          22,
          23,
          26,
          22,
          18,
          21,
          28,
          24,
          20,
          20,
          26,
          25,
          23,
          22,
          24,
          21,
          28,
          21,
          13,
          17,
          13,
          19,
          24,
          17,
          25,
          14,
          25,
          18,
          27,
          9,
          24,
          19,
          20,
          14,
          9,
          22,
          26,
          15,
          25,
          23,
          24,
          16,
          24,
          23,
          20,
          22,
          11,
          20,
          19,
          25,
          23,
          19,
          30,
          17,
          27,
          17,
          27,
          19,
          20,
          16,
          22,
          24,
          26,
          18,
          26,
          17,
          15,
          27,
          25,
          27,
          25,
          19,
          27,
          23,
          13,
          25,
          25,
          26,
          27,
          8,
          14,
          24,
          23,
          27,
          16,
          17,
          24,
          23,
          18,
          17,
          10,
          13,
          23,
          27,
          23,
          11,
          29,
          14,
          23,
          22,
          27,
          16,
          21,
          20,
          21,
          19,
          25,
          27,
          26,
          21,
          24,
          18,
          26,
          23,
          26,
          26,
          25,
          26,
          23,
          19,
          14,
          10,
          18,
          25,
          17,
          11,
          23,
          17,
          29,
          29,
          23,
          22,
          22,
          23,
          23,
          13,
          26,
          26,
          20,
          23,
          24,
          23,
          25,
          24,
          28,
          9,
          22,
          21,
          16,
          9,
          21,
          20,
          23,
          19,
          24,
          21,
          25,
          22,
          7,
          25,
          18,
          25,
          15,
          5,
          23,
          3,
          26,
          16,
          18,
          18,
          24,
          21,
          24,
          23,
          5,
          22,
          17,
          25,
          9,
          26,
          28,
          20,
          11,
          21,
          25,
          28,
          27,
          21,
          9,
          29,
          18,
          22,
          15,
          21,
          23,
          26,
          11,
          24,
          21,
          4,
          23,
          10,
          20,
          22,
          22,
          7,
          25,
          16,
          16,
          26,
          27,
          21,
          25,
          13,
          21,
          25,
          24,
          27,
          5,
          25,
          16,
          17,
          26,
          16,
          24,
          12,
          25,
          20,
          16,
          18,
          19,
          18,
          8,
          26,
          4,
          20,
          27,
          22,
          12,
          13,
          27,
          8,
          20,
          19,
          20,
          24,
          23,
          22,
          17,
          22,
          25,
          15,
          17,
          20,
          21,
          19,
          26,
          12,
          32,
          17,
          20,
          23,
          3,
          5,
          21,
          6,
          20,
          22,
          31,
          23,
          27,
          14,
          21,
          25,
          18,
          20,
          17,
          26,
          21,
          11,
          26,
          19,
          27,
          25,
          20,
          24,
          26,
          23,
          19,
          23,
          18,
          24,
          25,
          21,
          20,
          17,
          22,
          22,
          15,
          25,
          13,
          25,
          19,
          13,
          19,
          18,
          19,
          3,
          26,
          27,
          9,
          15,
          28,
          13,
          22,
          24,
          25,
          22,
          26,
          21,
          24,
          17,
          15,
          25,
          18,
          20,
          13,
          19,
          18,
          24,
          27,
          25,
          12,
          23,
          27,
          24,
          24,
          19,
          18,
          23,
          19,
          24,
          27,
          18,
          4,
          26,
          21,
          25,
          14,
          23,
          22,
          16,
          21,
          10,
          24,
          26,
          24,
          18,
          23,
          25,
          22,
          24,
          23,
          21,
          28,
          21,
          20,
          24,
          22,
          19,
          18,
          19,
          22,
          24,
          10,
          23,
          27,
          25,
          24,
          14,
          24,
          20,
          22,
          19,
          27,
          20,
          21,
          17,
          20,
          19,
          14,
          23,
          14,
          23,
          22,
          24,
          26,
          24,
          10,
          25,
          23,
          13,
          17,
          20,
          25,
          20,
          20,
          22,
          20,
          18,
          16,
          14,
          16,
          21,
          16,
          16,
          19,
          14,
          26,
          28,
          21,
          20,
          6,
          22,
          18,
          17,
          25,
          11,
          16,
          13,
          22,
          10,
          18,
          13,
          20,
          19,
          20,
          26,
          26,
          21,
          3,
          18,
          11,
          14,
          23,
          30,
          15,
          20,
          29,
          23,
          24,
          13,
          27,
          22,
          14,
          22,
          25,
          25,
          20,
          13,
          22,
          18,
          11,
          13,
          24,
          27,
          21,
          23,
          24,
          17,
          24,
          27,
          18,
          18,
          25,
          25,
          16,
          19,
          24,
          24,
          29,
          23,
          25,
          22,
          21,
          30,
          16,
          23,
          25,
          18,
          21,
          23,
          16,
          8,
          22,
          6,
          25,
          27,
          26,
          10,
          6,
          25,
          28,
          21,
          22,
          19,
          20,
          20,
          22,
          22,
          21,
          25,
          20,
          16,
          11,
          18,
          28,
          15,
          22,
          21,
          29,
          13,
          20,
          25,
          9,
          10,
          22,
          27,
          20,
          19,
          8,
          22,
          17,
          20,
          20,
          24,
          23,
          11,
          22,
          25,
          16,
          17,
          15,
          27,
          22,
          14,
          23,
          19,
          21,
          25,
          20,
          12,
          20,
          23,
          18,
          22,
          16,
          25,
          20,
          27,
          23,
          15,
          20,
          22,
          20,
          20,
          22,
          15,
          32,
          21,
          25,
          21,
          2,
          24,
          23,
          28,
          23,
          25,
          18,
          13,
          12,
          13,
          26,
          22,
          5,
          23,
          13,
          7,
          24,
          29,
          23,
          26,
          25,
          16,
          6,
          20,
          28,
          15,
          26,
          18,
          17,
          23,
          23,
          13,
          22,
          21,
          22,
          21,
          24,
          26,
          22,
          26,
          23,
          25,
          16,
          25,
          19,
          20,
          17,
          19,
          27,
          18,
          26,
          18,
          25,
          21,
          21,
          26,
          19,
          13,
          24,
          25,
          26,
          16,
          21,
          21,
          19,
          17,
          25,
          21,
          16,
          22,
          23,
          22,
          16,
          25,
          25,
          16,
          17,
          10,
          23,
          20,
          20,
          15,
          13,
          23,
          22,
          13,
          22,
          27,
          8,
          17,
          18,
          23,
          20,
          16,
          18,
          13,
          23,
          21,
          25,
          20,
          15,
          26,
          25,
          18,
          9,
          10,
          18,
          18,
          30,
          25,
          19,
          23,
          28,
          24,
          26,
          9,
          14,
          25,
          18,
          12,
          17,
          23,
          23,
          27,
          9,
          18,
          15,
          14,
          7,
          20,
          23,
          31,
          22,
          26,
          17,
          16,
          22,
          22,
          15,
          8,
          17,
          21,
          17,
          9,
          19,
          28,
          14,
          16,
          16,
          22,
          17,
          24,
          7,
          20,
          23,
          20,
          23,
          22,
          20,
          25,
          16,
          21,
          25,
          21,
          24,
          10,
          24,
          15,
          26,
          25,
          23,
          21,
          28,
          23,
          25,
          23,
          26,
          9,
          26,
          25,
          22,
          20,
          14,
          21,
          25,
          9,
          18,
          19,
          14,
          23,
          9,
          25,
          17,
          24,
          23,
          26,
          23,
          19,
          19,
          22,
          16,
          23,
          19,
          26,
          16,
          19,
          23,
          21,
          22,
          18,
          11,
          7,
          17,
          22,
          25,
          27,
          25,
          16,
          28,
          25,
          26,
          24,
          17,
          27,
          18,
          7,
          20,
          25,
          11,
          21,
          20,
          21,
          19,
          12,
          30,
          24,
          12,
          21,
          25,
          14,
          21,
          21,
          7,
          24,
          19,
          24,
          18,
          13,
          18,
          21,
          24,
          22,
          21,
          26,
          26,
          22,
          20,
          25,
          15,
          27,
          26,
          15,
          22,
          23,
          23,
          19,
          22,
          21,
          7,
          23,
          23
         ],
         "xaxis": "x",
         "yaxis": "y"
        },
        {
         "cells": {
          "values": [
           [
            "count",
            "mean",
            "std",
            "min",
            "25%",
            "50%",
            "75%",
            "max"
           ],
           [
            9084,
            19.64,
            5.97,
            2,
            16,
            21,
            24,
            36
           ]
          ]
         },
         "domain": {
          "x": [
           0.73,
           1
          ],
          "y": [
           0,
           1
          ]
         },
         "header": {
          "values": [
           "Statistic",
           "Value"
          ]
         },
         "type": "table"
        }
       ],
       "layout": {
        "annotations": [
         {
          "font": {
           "size": 16
          },
          "showarrow": false,
          "text": "Distribution of Text Length",
          "x": 0.315,
          "xanchor": "center",
          "xref": "paper",
          "y": 1,
          "yanchor": "bottom",
          "yref": "paper"
         },
         {
          "font": {
           "size": 16
          },
          "showarrow": false,
          "text": "Descriptive Statistics",
          "x": 0.865,
          "xanchor": "center",
          "xref": "paper",
          "y": 1,
          "yanchor": "bottom",
          "yref": "paper"
         }
        ],
        "template": {
         "data": {
          "bar": [
           {
            "error_x": {
             "color": "#f2f5fa"
            },
            "error_y": {
             "color": "#f2f5fa"
            },
            "marker": {
             "line": {
              "color": "rgb(17,17,17)",
              "width": 0.5
             },
             "pattern": {
              "fillmode": "overlay",
              "size": 10,
              "solidity": 0.2
             }
            },
            "type": "bar"
           }
          ],
          "barpolar": [
           {
            "marker": {
             "line": {
              "color": "rgb(17,17,17)",
              "width": 0.5
             },
             "pattern": {
              "fillmode": "overlay",
              "size": 10,
              "solidity": 0.2
             }
            },
            "type": "barpolar"
           }
          ],
          "carpet": [
           {
            "aaxis": {
             "endlinecolor": "#A2B1C6",
             "gridcolor": "#506784",
             "linecolor": "#506784",
             "minorgridcolor": "#506784",
             "startlinecolor": "#A2B1C6"
            },
            "baxis": {
             "endlinecolor": "#A2B1C6",
             "gridcolor": "#506784",
             "linecolor": "#506784",
             "minorgridcolor": "#506784",
             "startlinecolor": "#A2B1C6"
            },
            "type": "carpet"
           }
          ],
          "choropleth": [
           {
            "colorbar": {
             "outlinewidth": 0,
             "ticks": ""
            },
            "type": "choropleth"
           }
          ],
          "contour": [
           {
            "colorbar": {
             "outlinewidth": 0,
             "ticks": ""
            },
            "colorscale": [
             [
              0,
              "#0d0887"
             ],
             [
              0.1111111111111111,
              "#46039f"
             ],
             [
              0.2222222222222222,
              "#7201a8"
             ],
             [
              0.3333333333333333,
              "#9c179e"
             ],
             [
              0.4444444444444444,
              "#bd3786"
             ],
             [
              0.5555555555555556,
              "#d8576b"
             ],
             [
              0.6666666666666666,
              "#ed7953"
             ],
             [
              0.7777777777777778,
              "#fb9f3a"
             ],
             [
              0.8888888888888888,
              "#fdca26"
             ],
             [
              1,
              "#f0f921"
             ]
            ],
            "type": "contour"
           }
          ],
          "contourcarpet": [
           {
            "colorbar": {
             "outlinewidth": 0,
             "ticks": ""
            },
            "type": "contourcarpet"
           }
          ],
          "heatmap": [
           {
            "colorbar": {
             "outlinewidth": 0,
             "ticks": ""
            },
            "colorscale": [
             [
              0,
              "#0d0887"
             ],
             [
              0.1111111111111111,
              "#46039f"
             ],
             [
              0.2222222222222222,
              "#7201a8"
             ],
             [
              0.3333333333333333,
              "#9c179e"
             ],
             [
              0.4444444444444444,
              "#bd3786"
             ],
             [
              0.5555555555555556,
              "#d8576b"
             ],
             [
              0.6666666666666666,
              "#ed7953"
             ],
             [
              0.7777777777777778,
              "#fb9f3a"
             ],
             [
              0.8888888888888888,
              "#fdca26"
             ],
             [
              1,
              "#f0f921"
             ]
            ],
            "type": "heatmap"
           }
          ],
          "heatmapgl": [
           {
            "colorbar": {
             "outlinewidth": 0,
             "ticks": ""
            },
            "colorscale": [
             [
              0,
              "#0d0887"
             ],
             [
              0.1111111111111111,
              "#46039f"
             ],
             [
              0.2222222222222222,
              "#7201a8"
             ],
             [
              0.3333333333333333,
              "#9c179e"
             ],
             [
              0.4444444444444444,
              "#bd3786"
             ],
             [
              0.5555555555555556,
              "#d8576b"
             ],
             [
              0.6666666666666666,
              "#ed7953"
             ],
             [
              0.7777777777777778,
              "#fb9f3a"
             ],
             [
              0.8888888888888888,
              "#fdca26"
             ],
             [
              1,
              "#f0f921"
             ]
            ],
            "type": "heatmapgl"
           }
          ],
          "histogram": [
           {
            "marker": {
             "pattern": {
              "fillmode": "overlay",
              "size": 10,
              "solidity": 0.2
             }
            },
            "type": "histogram"
           }
          ],
          "histogram2d": [
           {
            "colorbar": {
             "outlinewidth": 0,
             "ticks": ""
            },
            "colorscale": [
             [
              0,
              "#0d0887"
             ],
             [
              0.1111111111111111,
              "#46039f"
             ],
             [
              0.2222222222222222,
              "#7201a8"
             ],
             [
              0.3333333333333333,
              "#9c179e"
             ],
             [
              0.4444444444444444,
              "#bd3786"
             ],
             [
              0.5555555555555556,
              "#d8576b"
             ],
             [
              0.6666666666666666,
              "#ed7953"
             ],
             [
              0.7777777777777778,
              "#fb9f3a"
             ],
             [
              0.8888888888888888,
              "#fdca26"
             ],
             [
              1,
              "#f0f921"
             ]
            ],
            "type": "histogram2d"
           }
          ],
          "histogram2dcontour": [
           {
            "colorbar": {
             "outlinewidth": 0,
             "ticks": ""
            },
            "colorscale": [
             [
              0,
              "#0d0887"
             ],
             [
              0.1111111111111111,
              "#46039f"
             ],
             [
              0.2222222222222222,
              "#7201a8"
             ],
             [
              0.3333333333333333,
              "#9c179e"
             ],
             [
              0.4444444444444444,
              "#bd3786"
             ],
             [
              0.5555555555555556,
              "#d8576b"
             ],
             [
              0.6666666666666666,
              "#ed7953"
             ],
             [
              0.7777777777777778,
              "#fb9f3a"
             ],
             [
              0.8888888888888888,
              "#fdca26"
             ],
             [
              1,
              "#f0f921"
             ]
            ],
            "type": "histogram2dcontour"
           }
          ],
          "mesh3d": [
           {
            "colorbar": {
             "outlinewidth": 0,
             "ticks": ""
            },
            "type": "mesh3d"
           }
          ],
          "parcoords": [
           {
            "line": {
             "colorbar": {
              "outlinewidth": 0,
              "ticks": ""
             }
            },
            "type": "parcoords"
           }
          ],
          "pie": [
           {
            "automargin": true,
            "type": "pie"
           }
          ],
          "scatter": [
           {
            "marker": {
             "line": {
              "color": "#283442"
             }
            },
            "type": "scatter"
           }
          ],
          "scatter3d": [
           {
            "line": {
             "colorbar": {
              "outlinewidth": 0,
              "ticks": ""
             }
            },
            "marker": {
             "colorbar": {
              "outlinewidth": 0,
              "ticks": ""
             }
            },
            "type": "scatter3d"
           }
          ],
          "scattercarpet": [
           {
            "marker": {
             "colorbar": {
              "outlinewidth": 0,
              "ticks": ""
             }
            },
            "type": "scattercarpet"
           }
          ],
          "scattergeo": [
           {
            "marker": {
             "colorbar": {
              "outlinewidth": 0,
              "ticks": ""
             }
            },
            "type": "scattergeo"
           }
          ],
          "scattergl": [
           {
            "marker": {
             "line": {
              "color": "#283442"
             }
            },
            "type": "scattergl"
           }
          ],
          "scattermapbox": [
           {
            "marker": {
             "colorbar": {
              "outlinewidth": 0,
              "ticks": ""
             }
            },
            "type": "scattermapbox"
           }
          ],
          "scatterpolar": [
           {
            "marker": {
             "colorbar": {
              "outlinewidth": 0,
              "ticks": ""
             }
            },
            "type": "scatterpolar"
           }
          ],
          "scatterpolargl": [
           {
            "marker": {
             "colorbar": {
              "outlinewidth": 0,
              "ticks": ""
             }
            },
            "type": "scatterpolargl"
           }
          ],
          "scatterternary": [
           {
            "marker": {
             "colorbar": {
              "outlinewidth": 0,
              "ticks": ""
             }
            },
            "type": "scatterternary"
           }
          ],
          "surface": [
           {
            "colorbar": {
             "outlinewidth": 0,
             "ticks": ""
            },
            "colorscale": [
             [
              0,
              "#0d0887"
             ],
             [
              0.1111111111111111,
              "#46039f"
             ],
             [
              0.2222222222222222,
              "#7201a8"
             ],
             [
              0.3333333333333333,
              "#9c179e"
             ],
             [
              0.4444444444444444,
              "#bd3786"
             ],
             [
              0.5555555555555556,
              "#d8576b"
             ],
             [
              0.6666666666666666,
              "#ed7953"
             ],
             [
              0.7777777777777778,
              "#fb9f3a"
             ],
             [
              0.8888888888888888,
              "#fdca26"
             ],
             [
              1,
              "#f0f921"
             ]
            ],
            "type": "surface"
           }
          ],
          "table": [
           {
            "cells": {
             "fill": {
              "color": "#506784"
             },
             "line": {
              "color": "rgb(17,17,17)"
             }
            },
            "header": {
             "fill": {
              "color": "#2a3f5f"
             },
             "line": {
              "color": "rgb(17,17,17)"
             }
            },
            "type": "table"
           }
          ]
         },
         "layout": {
          "annotationdefaults": {
           "arrowcolor": "#f2f5fa",
           "arrowhead": 0,
           "arrowwidth": 1
          },
          "autotypenumbers": "strict",
          "coloraxis": {
           "colorbar": {
            "outlinewidth": 0,
            "ticks": ""
           }
          },
          "colorscale": {
           "diverging": [
            [
             0,
             "#8e0152"
            ],
            [
             0.1,
             "#c51b7d"
            ],
            [
             0.2,
             "#de77ae"
            ],
            [
             0.3,
             "#f1b6da"
            ],
            [
             0.4,
             "#fde0ef"
            ],
            [
             0.5,
             "#f7f7f7"
            ],
            [
             0.6,
             "#e6f5d0"
            ],
            [
             0.7,
             "#b8e186"
            ],
            [
             0.8,
             "#7fbc41"
            ],
            [
             0.9,
             "#4d9221"
            ],
            [
             1,
             "#276419"
            ]
           ],
           "sequential": [
            [
             0,
             "#0d0887"
            ],
            [
             0.1111111111111111,
             "#46039f"
            ],
            [
             0.2222222222222222,
             "#7201a8"
            ],
            [
             0.3333333333333333,
             "#9c179e"
            ],
            [
             0.4444444444444444,
             "#bd3786"
            ],
            [
             0.5555555555555556,
             "#d8576b"
            ],
            [
             0.6666666666666666,
             "#ed7953"
            ],
            [
             0.7777777777777778,
             "#fb9f3a"
            ],
            [
             0.8888888888888888,
             "#fdca26"
            ],
            [
             1,
             "#f0f921"
            ]
           ],
           "sequentialminus": [
            [
             0,
             "#0d0887"
            ],
            [
             0.1111111111111111,
             "#46039f"
            ],
            [
             0.2222222222222222,
             "#7201a8"
            ],
            [
             0.3333333333333333,
             "#9c179e"
            ],
            [
             0.4444444444444444,
             "#bd3786"
            ],
            [
             0.5555555555555556,
             "#d8576b"
            ],
            [
             0.6666666666666666,
             "#ed7953"
            ],
            [
             0.7777777777777778,
             "#fb9f3a"
            ],
            [
             0.8888888888888888,
             "#fdca26"
            ],
            [
             1,
             "#f0f921"
            ]
           ]
          },
          "colorway": [
           "#636efa",
           "#EF553B",
           "#00cc96",
           "#ab63fa",
           "#FFA15A",
           "#19d3f3",
           "#FF6692",
           "#B6E880",
           "#FF97FF",
           "#FECB52"
          ],
          "font": {
           "color": "#f2f5fa"
          },
          "geo": {
           "bgcolor": "rgb(17,17,17)",
           "lakecolor": "rgb(17,17,17)",
           "landcolor": "rgb(17,17,17)",
           "showlakes": true,
           "showland": true,
           "subunitcolor": "#506784"
          },
          "hoverlabel": {
           "align": "left"
          },
          "hovermode": "closest",
          "mapbox": {
           "style": "dark"
          },
          "paper_bgcolor": "rgb(17,17,17)",
          "plot_bgcolor": "rgb(17,17,17)",
          "polar": {
           "angularaxis": {
            "gridcolor": "#506784",
            "linecolor": "#506784",
            "ticks": ""
           },
           "bgcolor": "rgb(17,17,17)",
           "radialaxis": {
            "gridcolor": "#506784",
            "linecolor": "#506784",
            "ticks": ""
           }
          },
          "scene": {
           "xaxis": {
            "backgroundcolor": "rgb(17,17,17)",
            "gridcolor": "#506784",
            "gridwidth": 2,
            "linecolor": "#506784",
            "showbackground": true,
            "ticks": "",
            "zerolinecolor": "#C8D4E3"
           },
           "yaxis": {
            "backgroundcolor": "rgb(17,17,17)",
            "gridcolor": "#506784",
            "gridwidth": 2,
            "linecolor": "#506784",
            "showbackground": true,
            "ticks": "",
            "zerolinecolor": "#C8D4E3"
           },
           "zaxis": {
            "backgroundcolor": "rgb(17,17,17)",
            "gridcolor": "#506784",
            "gridwidth": 2,
            "linecolor": "#506784",
            "showbackground": true,
            "ticks": "",
            "zerolinecolor": "#C8D4E3"
           }
          },
          "shapedefaults": {
           "line": {
            "color": "#f2f5fa"
           }
          },
          "sliderdefaults": {
           "bgcolor": "#C8D4E3",
           "bordercolor": "rgb(17,17,17)",
           "borderwidth": 1,
           "tickwidth": 0
          },
          "ternary": {
           "aaxis": {
            "gridcolor": "#506784",
            "linecolor": "#506784",
            "ticks": ""
           },
           "baxis": {
            "gridcolor": "#506784",
            "linecolor": "#506784",
            "ticks": ""
           },
           "bgcolor": "rgb(17,17,17)",
           "caxis": {
            "gridcolor": "#506784",
            "linecolor": "#506784",
            "ticks": ""
           }
          },
          "title": {
           "x": 0.05
          },
          "updatemenudefaults": {
           "bgcolor": "#506784",
           "borderwidth": 0
          },
          "xaxis": {
           "automargin": true,
           "gridcolor": "#283442",
           "linecolor": "#506784",
           "ticks": "",
           "title": {
            "standoff": 15
           },
           "zerolinecolor": "#283442",
           "zerolinewidth": 2
          },
          "yaxis": {
           "automargin": true,
           "gridcolor": "#283442",
           "linecolor": "#506784",
           "ticks": "",
           "title": {
            "standoff": 15
           },
           "zerolinecolor": "#283442",
           "zerolinewidth": 2
          }
         }
        },
        "title": {
         "text": "Distribution of Tweet Length and Descriptive Statistics for Negative Sentiment Tweets"
        },
        "xaxis": {
         "anchor": "y",
         "domain": [
          0,
          0.63
         ],
         "title": {
          "text": "Length of Tweet by Word Count"
         }
        },
        "yaxis": {
         "anchor": "x",
         "domain": [
          0,
          1
         ],
         "title": {
          "text": "Count"
         }
        }
       }
      }
     },
     "metadata": {},
     "output_type": "display_data"
    }
   ],
   "source": [
    "tweets_noneg['length'] = tweets_noneg.text.str.split().apply(len)\n",
    "\n",
    "# Create histogram using Plotly Express\n",
    "histogram = px.histogram(\n",
    "    tweets_noneg[tweets_noneg['airline_sentiment'] == 'negative'],\n",
    "    x='length',\n",
    "    nbins=20,\n",
    "    labels={'length': 'Text Length'},\n",
    "    color_discrete_sequence=['red'],\n",
    ")\n",
    "\n",
    "# Add histogram trace with outlined bins\n",
    "histogram.update_traces(\n",
    "    marker_line_width=1.5,\n",
    "    marker_line_color='white',\n",
    "    opacity=0.7,\n",
    ")\n",
    "\n",
    "# Create descriptive statistics table\n",
    "describe = tweets_noneg.length[tweets_noneg.airline_sentiment == 'negative'].describe().to_frame().round(2)\n",
    "table = go.Figure(data=[go.Table(\n",
    "    header=dict(values=['Statistic', 'Value']),\n",
    "    cells=dict(values=[describe.index, describe['length']]),\n",
    ")])\n",
    "\n",
    "# Create subplots\n",
    "fig = make_subplots(\n",
    "    rows=1, cols=2,\n",
    "    subplot_titles=['Distribution of Text Length', 'Descriptive Statistics'],\n",
    "    column_widths=[0.7, 0.3],\n",
    "    specs=[[{'type': 'xy'}, {'type': 'table'}]]\n",
    ")\n",
    "\n",
    "# Add histogram to subplot\n",
    "for trace in histogram.data:\n",
    "    fig.add_trace(trace, row=1, col=1)\n",
    "\n",
    "# Add table to subplot\n",
    "for trace in table.data:\n",
    "    fig.add_trace(trace, row=1, col=2)\n",
    "\n",
    "# Update layout for subplot-like appearance\n",
    "fig.update_layout(\n",
    "    title='Distribution of Tweet Length and Descriptive Statistics for Negative Sentiment Tweets',\n",
    "    template='plotly_dark'\n",
    ")   \n",
    "\n",
    "# Add explicit x-axis and y-axis labels\n",
    "fig.update_xaxes(title_text='Length of Tweet by Word Count', row=1, col=1)\n",
    "fig.update_yaxes(title_text='Count', row=1, col=1)\n",
    "\n",
    "fig.show()\n"
   ]
  },
  {
   "attachments": {},
   "cell_type": "markdown",
   "metadata": {},
   "source": [
    "***\n",
    "\n",
    "# **EDA Plots**\n",
    "\n",
    "***"
   ]
  },
  {
   "cell_type": "code",
   "execution_count": 238,
   "metadata": {},
   "outputs": [
    {
     "data": {
      "application/vnd.plotly.v1+json": {
       "config": {
        "plotlyServerURL": "https://plot.ly"
       },
       "data": [
        {
         "marker": {
          "color": "#5b056a",
          "line": {
           "color": "white",
           "width": 1.5
          }
         },
         "name": "Virgin America",
         "nbinsx": 20,
         "opacity": 0.7,
         "type": "histogram",
         "x": [
          17,
          10,
          23,
          6,
          27,
          22,
          24,
          17,
          29,
          19,
          28,
          21,
          15,
          10,
          23,
          25,
          20,
          16,
          22,
          9,
          21,
          19,
          17,
          16,
          20,
          17,
          15,
          12,
          23,
          25,
          22,
          19,
          21,
          16,
          17,
          25,
          23,
          26,
          14,
          25,
          24,
          21,
          17,
          19,
          23,
          17,
          16,
          21,
          5,
          27,
          23,
          21,
          23,
          26,
          28,
          22,
          12,
          25,
          16,
          23,
          20,
          24,
          15,
          5,
          21,
          20,
          13,
          17,
          20,
          16,
          15,
          23,
          27,
          23,
          22,
          16,
          20,
          3,
          6,
          29,
          11,
          24,
          20,
          11,
          14,
          24,
          12,
          25,
          22,
          15,
          20,
          25,
          18,
          27,
          23,
          20,
          10,
          4,
          10,
          18,
          14,
          15,
          23,
          22,
          22,
          13,
          20,
          21,
          23,
          11,
          9,
          20,
          19,
          22,
          19,
          24,
          15,
          20,
          20,
          25,
          12,
          27,
          20,
          9,
          14,
          13,
          16,
          17,
          20,
          23,
          19,
          24,
          10,
          11,
          20,
          13,
          24,
          27,
          9,
          21,
          24,
          16,
          18,
          14,
          22,
          21,
          3,
          26,
          15,
          22,
          25,
          18,
          22,
          20,
          18,
          23,
          13,
          13,
          16,
          20,
          19,
          14,
          21,
          16,
          25,
          21,
          24,
          31,
          25,
          24,
          16,
          13,
          23,
          21,
          24,
          20,
          25,
          23,
          12,
          25,
          25
         ],
         "xaxis": "x",
         "yaxis": "y"
        },
        {
         "marker": {
          "color": "#005DAA",
          "line": {
           "color": "white",
           "width": 1.5
          }
         },
         "name": "United",
         "nbinsx": 20,
         "opacity": 0.7,
         "type": "histogram",
         "x": [
          23,
          24,
          17,
          12,
          22,
          20,
          22,
          27,
          29,
          12,
          20,
          24,
          7,
          14,
          25,
          32,
          25,
          19,
          12,
          24,
          21,
          14,
          26,
          18,
          25,
          24,
          28,
          14,
          23,
          22,
          12,
          3,
          26,
          12,
          24,
          27,
          17,
          26,
          25,
          22,
          24,
          8,
          20,
          21,
          23,
          21,
          22,
          25,
          9,
          24,
          21,
          18,
          24,
          26,
          23,
          16,
          23,
          28,
          29,
          18,
          25,
          22,
          26,
          21,
          21,
          14,
          6,
          27,
          22,
          20,
          8,
          14,
          26,
          16,
          23,
          15,
          14,
          20,
          18,
          17,
          28,
          17,
          23,
          22,
          20,
          22,
          22,
          15,
          22,
          25,
          25,
          19,
          22,
          22,
          24,
          13,
          14,
          18,
          27,
          15,
          9,
          26,
          16,
          27,
          14,
          26,
          23,
          26,
          9,
          10,
          26,
          12,
          21,
          21,
          29,
          17,
          11,
          22,
          25,
          5,
          16,
          16,
          10,
          10,
          14,
          15,
          29,
          22,
          25,
          21,
          28,
          30,
          26,
          23,
          25,
          24,
          24,
          21,
          10,
          25,
          16,
          23,
          25,
          29,
          24,
          26,
          18,
          26,
          15,
          15,
          29,
          26,
          28,
          19,
          27,
          6,
          22,
          27,
          16,
          15,
          7,
          11,
          21,
          21,
          28,
          25,
          16,
          22,
          22,
          27,
          22,
          28,
          25,
          25,
          25,
          20,
          15,
          23,
          24,
          19,
          21,
          21,
          23,
          9,
          13,
          16,
          9,
          14,
          26,
          25,
          22,
          25,
          25,
          23,
          23,
          26,
          24,
          13,
          18,
          24,
          16,
          9,
          22,
          27,
          23,
          9,
          28,
          20,
          26,
          16,
          20,
          21,
          28,
          23,
          20,
          18,
          25,
          13,
          24,
          24,
          26,
          21,
          25,
          13,
          15,
          23,
          23,
          24,
          26,
          20,
          18,
          17,
          23,
          21,
          24,
          14,
          17,
          24,
          6,
          22,
          18,
          9,
          26,
          12,
          26,
          23,
          26,
          18,
          21,
          5,
          24,
          15,
          21,
          12,
          24,
          27,
          5,
          17,
          26,
          23,
          24,
          20,
          16,
          27,
          17,
          26,
          14,
          13,
          25,
          20,
          7,
          23,
          18,
          14,
          6,
          26,
          18,
          20,
          21,
          19,
          25,
          22,
          23,
          27,
          23,
          5,
          18,
          13,
          23,
          18,
          18,
          24,
          24,
          17,
          22,
          22,
          12,
          19,
          19,
          27,
          20,
          12,
          6,
          6,
          21,
          24,
          23,
          13,
          12,
          8,
          19,
          23,
          22,
          9,
          18,
          20,
          25,
          21,
          7,
          19,
          22,
          22,
          27,
          20,
          23,
          17,
          22,
          23,
          17,
          27,
          18,
          19,
          22,
          27,
          16,
          11,
          19,
          21,
          27,
          24,
          25,
          22,
          27,
          21,
          20,
          24,
          23,
          25,
          18,
          22,
          25,
          18,
          19,
          24,
          20,
          11,
          11,
          19,
          20,
          30,
          22,
          24,
          24,
          19,
          26,
          16,
          24,
          21,
          16,
          20,
          28,
          19,
          12,
          21,
          27,
          20,
          28,
          9,
          25,
          18,
          20,
          24,
          25,
          25,
          20,
          29,
          15,
          23,
          28,
          23,
          24,
          25,
          4,
          24,
          17,
          22,
          24,
          24,
          26,
          25,
          13,
          18,
          25,
          25,
          28,
          26,
          2,
          23,
          21,
          20,
          5,
          22,
          25,
          22,
          12,
          23,
          24,
          12,
          17,
          6,
          5,
          19,
          21,
          22,
          24,
          12,
          14,
          25,
          14,
          19,
          23,
          9,
          21,
          14,
          24,
          17,
          8,
          24,
          24,
          23,
          26,
          27,
          23,
          19,
          22,
          26,
          25,
          23,
          16,
          15,
          24,
          23,
          7,
          27,
          25,
          16,
          23,
          27,
          24,
          26,
          24,
          21,
          23,
          15,
          25,
          13,
          28,
          25,
          20,
          22,
          20,
          32,
          26,
          7,
          12,
          27,
          30,
          6,
          27,
          19,
          25,
          24,
          27,
          12,
          4,
          21,
          24,
          25,
          27,
          21,
          13,
          19,
          17,
          21,
          27,
          10,
          25,
          18,
          23,
          24,
          12,
          14,
          20,
          17,
          18,
          21,
          23,
          24,
          26,
          15,
          11,
          30,
          30,
          17,
          21,
          26,
          8,
          17,
          20,
          26,
          26,
          18,
          24,
          18,
          24,
          18,
          26,
          25,
          20,
          23,
          10,
          17,
          27,
          26,
          26,
          13,
          24,
          28,
          25,
          22,
          15,
          2,
          6,
          26,
          25,
          20,
          27,
          22,
          20,
          19,
          9,
          25,
          24,
          21,
          28,
          20,
          30,
          25,
          22,
          21,
          18,
          23,
          20,
          13,
          22,
          25,
          16,
          21,
          22,
          19,
          28,
          29,
          21,
          12,
          3,
          26,
          22,
          13,
          21,
          18,
          19,
          23,
          26,
          17,
          4,
          25,
          22,
          9,
          25,
          22,
          20,
          25,
          4,
          9,
          27,
          13,
          25,
          22,
          20,
          28,
          22,
          15,
          11,
          20,
          23,
          11,
          24,
          26,
          17,
          29,
          20,
          24,
          27,
          17,
          24,
          8,
          26,
          17,
          26,
          26,
          23,
          22,
          17,
          23,
          20,
          22,
          17,
          28,
          17,
          28,
          24,
          19,
          14,
          28,
          25,
          24,
          16,
          12,
          27,
          23,
          22,
          16,
          15,
          16,
          26,
          27,
          21,
          8,
          16,
          10,
          23,
          22,
          16,
          25,
          20,
          7,
          22,
          23,
          9,
          17,
          21,
          27,
          18,
          23,
          25,
          9,
          9,
          15,
          25,
          18,
          15,
          16,
          25,
          26,
          22,
          28,
          20,
          15,
          21,
          11,
          27,
          18,
          22,
          19,
          12,
          22,
          18,
          12,
          17,
          12,
          13,
          11,
          26,
          13,
          20,
          25,
          15,
          28,
          25,
          19,
          25,
          7,
          14,
          9,
          7,
          22,
          22,
          23,
          25,
          23,
          25,
          24,
          20,
          23,
          21,
          22,
          12,
          23,
          15,
          25,
          25,
          24,
          24,
          27,
          14,
          23,
          24,
          26,
          7,
          19,
          23,
          26,
          14,
          24,
          6,
          11,
          20,
          17,
          19,
          4,
          23,
          24,
          16,
          12,
          15,
          9,
          25,
          25,
          22,
          23,
          26,
          8,
          8,
          26,
          26,
          24,
          10,
          21,
          16,
          22,
          28,
          23,
          27,
          14,
          24,
          20,
          20,
          17,
          12,
          28,
          13,
          22,
          23,
          7,
          23,
          23,
          19,
          17,
          23,
          26,
          28,
          20,
          24,
          22,
          2,
          25,
          20,
          21,
          6,
          22,
          15,
          20,
          17,
          12,
          22,
          14,
          16,
          21,
          14,
          13,
          27,
          19,
          23,
          15,
          28,
          16,
          5,
          18,
          28,
          12,
          10,
          3,
          22,
          20,
          26,
          22,
          19,
          26,
          15,
          28,
          26,
          25,
          14,
          19,
          25,
          24,
          19,
          19,
          6,
          24,
          24,
          25,
          11,
          23,
          28,
          23,
          20,
          10,
          21,
          27,
          15,
          20,
          24,
          10,
          21,
          25,
          13,
          15,
          9,
          24,
          25,
          25,
          16,
          12,
          22,
          7,
          13,
          12,
          13,
          13,
          4,
          17,
          26,
          11,
          14,
          6,
          24,
          12,
          27,
          19,
          21,
          14,
          21,
          3,
          27,
          21,
          19,
          20,
          22,
          26,
          25,
          12,
          20,
          24,
          22,
          23,
          24,
          18,
          28,
          16,
          21,
          21,
          27,
          15,
          20,
          24,
          21,
          25,
          15,
          15,
          25,
          27,
          25,
          19,
          25,
          14,
          21,
          19,
          17,
          21,
          24,
          25,
          19,
          24,
          20,
          28,
          20,
          20,
          21,
          21,
          21,
          18,
          25,
          5,
          23,
          29,
          16,
          22,
          26,
          24,
          27,
          18,
          8,
          14,
          26,
          20,
          22,
          13,
          19,
          20,
          29,
          16,
          20,
          26,
          23,
          27,
          25,
          27,
          25,
          17,
          11,
          11,
          15,
          27,
          24,
          8,
          25,
          16,
          17,
          25,
          8,
          25,
          28,
          7,
          20,
          23,
          24,
          5,
          26,
          14,
          19,
          23,
          6,
          9,
          16,
          23,
          22,
          26,
          21,
          23,
          4,
          9,
          12,
          20,
          25,
          16,
          17,
          20,
          28,
          22,
          19,
          26,
          21,
          29,
          25,
          18,
          19,
          24,
          25,
          11,
          23,
          11,
          12,
          25,
          14,
          14,
          22,
          23,
          6,
          27,
          24,
          12,
          17,
          26,
          26,
          30,
          20,
          24,
          18,
          23,
          28,
          17,
          24,
          15,
          3,
          25,
          16,
          7,
          22,
          24,
          15,
          22,
          23,
          6,
          26,
          9,
          16,
          20,
          22,
          24,
          22,
          23,
          13,
          20,
          20,
          21,
          24,
          20,
          8,
          11,
          20,
          20,
          18,
          24,
          27,
          21,
          20,
          12,
          26,
          24,
          27,
          19,
          27,
          25,
          7,
          27,
          15,
          23,
          27,
          16,
          17,
          15,
          9,
          20,
          26,
          19,
          11,
          22,
          7,
          9,
          19,
          4,
          22,
          16,
          18,
          14,
          24,
          8,
          15,
          23,
          22,
          20,
          30,
          9,
          24,
          22,
          25,
          7,
          8,
          24,
          22,
          24,
          27,
          7,
          22,
          10,
          24,
          14,
          23,
          24,
          24,
          24,
          17,
          20,
          26,
          16,
          20,
          25,
          28,
          23,
          27,
          17,
          20,
          15,
          5,
          6,
          8,
          21,
          28,
          14,
          27,
          19,
          7,
          24,
          4,
          16,
          23,
          28,
          16,
          20,
          23,
          18,
          18,
          24,
          21,
          19,
          21,
          21,
          24,
          22,
          16,
          2,
          2,
          10,
          15,
          16,
          24,
          11,
          3,
          13,
          16,
          3,
          26,
          26,
          28,
          27,
          17,
          22,
          27,
          20,
          23,
          30,
          21,
          21,
          16,
          12,
          11,
          23,
          24,
          27,
          29,
          26,
          21,
          21,
          18,
          23,
          8,
          11,
          13,
          27,
          14,
          18,
          26,
          23,
          14,
          25,
          21,
          21,
          13,
          27,
          22,
          18,
          23,
          24,
          18,
          11,
          25,
          19,
          23,
          17,
          26,
          25,
          18,
          15,
          12,
          21,
          23,
          9,
          27,
          25,
          26,
          10,
          29,
          23,
          3,
          25,
          8,
          24,
          29,
          19,
          20,
          9,
          12,
          3,
          23,
          20,
          29,
          4,
          3,
          24,
          12,
          26,
          17,
          20,
          17,
          27,
          15,
          15,
          24,
          16,
          18,
          11,
          28,
          21,
          23,
          17,
          20,
          28,
          15,
          21,
          15,
          23,
          25,
          25,
          20,
          23,
          21,
          20,
          29,
          3,
          21,
          22,
          28,
          25,
          24,
          2,
          23,
          11,
          20,
          6,
          24,
          23,
          23,
          25,
          21,
          15,
          24,
          27,
          24,
          23,
          19,
          20,
          23,
          21,
          6,
          14,
          18,
          10,
          24,
          25,
          26,
          18,
          27,
          17,
          20,
          14,
          17,
          22,
          27,
          15,
          16,
          20,
          16,
          14,
          11,
          3,
          20,
          4,
          8,
          14,
          17,
          13,
          16,
          19,
          15,
          22,
          7,
          19,
          24,
          22,
          22,
          23,
          17,
          30,
          15,
          15,
          23,
          22,
          26,
          24,
          21,
          7,
          29,
          19,
          23,
          8,
          22,
          9,
          25,
          16,
          23,
          24,
          14,
          13,
          14,
          8,
          15,
          25,
          20,
          12,
          27,
          27,
          22,
          24,
          25,
          16,
          10,
          19,
          12,
          21,
          25,
          21,
          26,
          20,
          18,
          24,
          6,
          4,
          23,
          13,
          23,
          21,
          23,
          18,
          16,
          21,
          25,
          24,
          22,
          11,
          17,
          27,
          26,
          23,
          15,
          13,
          10,
          4,
          21,
          22,
          13,
          22,
          22,
          24,
          24,
          17,
          11,
          20,
          27,
          12,
          18,
          5,
          24,
          21,
          24,
          26,
          21,
          24,
          26,
          23,
          22,
          20,
          8,
          24,
          13,
          23,
          9,
          18,
          19,
          28,
          24,
          22,
          25,
          22,
          11,
          20,
          19,
          26,
          22,
          27,
          12,
          22,
          7,
          21,
          21,
          20,
          11,
          14,
          19,
          20,
          22,
          20,
          24,
          23,
          14,
          21,
          24,
          15,
          26,
          10,
          7,
          19,
          22,
          18,
          28,
          31,
          11,
          22,
          23,
          19,
          20,
          7,
          9,
          19,
          22,
          26,
          25,
          12,
          27,
          23,
          20,
          6,
          20,
          18,
          22,
          16,
          17,
          12,
          14,
          23,
          12,
          24,
          28,
          20,
          19,
          25,
          22,
          14,
          29,
          24,
          22,
          28,
          22,
          22,
          23,
          14,
          14,
          7,
          9,
          18,
          22,
          14,
          23,
          20,
          4,
          14,
          22,
          22,
          29,
          10,
          6,
          29,
          16,
          26,
          22,
          26,
          25,
          17,
          25,
          9,
          26,
          22,
          23,
          15,
          16,
          11,
          14,
          16,
          22,
          31,
          25,
          17,
          24,
          13,
          14,
          6,
          27,
          25,
          20,
          21,
          23,
          29,
          28,
          9,
          15,
          22,
          19,
          17,
          15,
          11,
          21,
          18,
          20,
          23,
          18,
          20,
          4,
          23,
          17,
          21,
          26,
          12,
          16,
          20,
          25,
          25,
          10,
          22,
          15,
          28,
          14,
          29,
          18,
          24,
          15,
          11,
          30,
          22,
          21,
          25,
          22,
          21,
          18,
          29,
          22,
          15,
          25,
          19,
          20,
          24,
          8,
          25,
          26,
          22,
          11,
          21,
          24,
          14,
          9,
          28,
          22,
          12,
          19,
          17,
          21,
          19,
          20,
          7,
          12,
          23,
          19,
          21,
          24,
          26,
          27,
          10,
          18,
          13,
          23,
          30,
          29,
          18,
          4,
          24,
          17,
          17,
          12,
          29,
          19,
          26,
          22,
          26,
          28,
          12,
          14,
          24,
          20,
          9,
          24,
          27,
          19,
          24,
          22,
          20,
          16,
          19,
          19,
          22,
          23,
          27,
          24,
          17,
          25,
          19,
          17,
          22,
          7,
          24,
          22,
          23,
          16,
          21,
          23,
          19,
          22,
          21,
          6,
          13,
          16,
          15,
          18,
          18,
          19,
          24,
          14,
          18,
          22,
          22,
          14,
          30,
          17,
          7,
          27,
          8,
          29,
          25,
          27,
          25,
          21,
          7,
          17,
          17,
          26,
          22,
          19,
          21,
          8,
          27,
          10,
          27,
          10,
          12,
          15,
          17,
          6,
          22,
          23,
          27,
          10,
          24,
          17,
          29,
          15,
          22,
          26,
          21,
          21,
          23,
          11,
          10,
          13,
          22,
          29,
          21,
          24,
          20,
          19,
          13,
          14,
          18,
          27,
          30,
          18,
          14,
          13,
          16,
          22,
          21,
          20,
          26,
          26,
          19,
          16,
          16,
          25,
          14,
          25,
          18,
          6,
          15,
          16,
          9,
          17,
          19,
          22,
          16,
          24,
          21,
          11,
          18,
          11,
          20,
          20,
          21,
          11,
          4,
          26,
          15,
          24,
          11,
          27,
          15,
          24,
          27,
          29,
          23,
          20,
          23,
          11,
          14,
          14,
          24,
          19,
          21,
          23,
          22,
          13,
          20,
          4,
          22,
          19,
          19,
          11,
          24,
          25,
          23,
          24,
          18,
          29,
          17,
          21,
          16,
          14,
          18,
          16,
          8,
          13,
          10,
          21,
          17,
          23,
          27,
          15,
          25,
          16,
          24,
          25,
          13,
          21,
          24,
          21,
          7,
          20,
          22,
          14,
          14,
          15,
          19,
          25,
          25,
          22,
          22,
          16,
          15,
          23,
          25,
          21,
          23,
          24,
          18,
          17,
          29,
          26,
          20,
          20,
          21,
          11,
          15,
          11,
          20,
          17,
          14,
          19,
          24,
          12,
          12,
          29,
          30,
          26,
          17,
          26,
          21,
          21,
          20,
          3,
          26,
          28,
          15,
          8,
          12,
          21,
          25,
          22,
          24,
          27,
          13,
          17,
          7,
          20,
          17,
          28,
          22,
          26,
          12,
          20,
          24,
          23,
          27,
          25,
          20,
          26,
          26,
          14,
          23,
          20,
          29,
          16,
          6,
          26,
          27,
          23,
          24,
          21,
          19,
          27,
          26,
          16,
          18,
          8,
          24,
          24,
          28,
          25,
          20,
          23,
          24,
          5,
          20,
          17,
          26,
          18,
          14,
          18,
          20,
          10,
          25,
          14,
          19,
          19,
          11,
          27,
          18,
          24,
          21,
          25,
          10,
          21,
          9,
          23,
          11,
          21,
          10,
          21,
          19,
          17,
          23,
          23,
          29,
          21,
          13,
          18,
          8,
          7,
          17,
          16,
          19,
          24,
          13,
          20,
          24,
          22,
          3,
          27,
          11,
          7,
          27,
          18,
          32,
          8,
          23,
          23,
          20,
          9,
          23,
          28,
          22,
          27,
          26,
          17,
          24,
          18,
          26,
          10,
          8,
          17,
          7,
          12,
          16,
          25,
          6,
          18,
          20,
          19,
          6,
          6,
          25,
          15,
          25,
          6,
          9,
          10,
          21,
          20,
          11,
          17,
          19,
          8,
          17,
          12,
          14,
          23,
          23,
          21,
          18,
          23,
          4,
          10,
          28,
          22,
          19,
          23,
          23,
          21,
          9,
          18,
          19,
          20,
          24,
          15,
          22,
          23,
          24,
          25,
          9,
          20,
          24,
          8,
          22,
          27,
          24,
          28,
          25,
          22,
          30,
          26,
          9,
          9,
          23,
          26,
          20,
          28,
          19,
          14,
          19,
          21,
          22,
          23,
          23,
          26,
          23,
          25,
          29,
          22,
          20,
          17,
          19,
          22,
          23,
          23,
          22,
          21,
          26,
          17,
          24,
          20,
          23,
          20,
          26,
          27,
          20,
          7,
          19,
          23,
          23,
          24,
          20,
          19,
          24,
          22,
          25,
          28,
          21,
          18,
          26,
          18,
          17,
          22,
          25,
          21,
          25,
          26,
          21,
          20,
          19,
          25,
          27,
          21,
          19,
          21,
          9,
          25,
          21,
          14,
          25,
          16,
          21,
          23,
          16,
          22,
          17,
          22,
          25,
          26,
          23,
          11,
          16,
          26,
          21,
          21,
          21,
          23,
          28,
          27,
          15,
          21,
          25,
          27,
          28,
          25,
          25,
          24,
          16,
          22,
          21,
          23,
          21,
          4,
          9,
          18,
          14,
          15,
          21,
          10,
          18,
          26,
          15,
          9,
          16,
          20,
          25,
          12,
          16,
          23,
          19,
          8,
          26,
          16,
          24,
          14,
          24,
          22,
          28,
          20,
          18,
          24,
          27,
          20,
          22,
          20,
          24,
          14,
          5,
          27,
          21,
          14,
          15,
          14,
          26,
          18,
          20,
          20,
          12,
          26,
          23,
          15,
          27,
          21,
          20,
          28,
          14,
          24,
          25,
          24,
          24,
          11,
          22,
          24,
          23,
          19,
          26,
          16,
          28,
          22,
          26,
          11,
          24,
          29,
          20,
          25,
          27,
          24,
          26,
          20,
          11,
          24,
          26,
          15,
          27,
          17,
          21,
          22,
          19,
          26,
          8,
          23,
          25,
          26,
          13,
          19,
          23,
          23,
          19,
          24,
          11,
          22,
          24,
          26,
          14,
          14,
          24,
          10,
          23,
          17,
          21,
          24,
          8,
          6,
          29,
          19,
          12,
          9,
          24,
          17,
          6,
          26,
          17,
          19,
          25,
          22,
          20,
          18,
          27,
          19,
          21,
          25,
          29,
          21,
          24,
          12,
          20,
          23,
          17,
          27,
          24,
          27,
          16,
          27,
          20,
          13,
          9,
          28,
          12,
          20,
          17,
          11,
          15,
          18,
          24,
          9,
          22,
          26,
          21,
          21,
          25,
          22,
          17,
          22,
          23,
          18,
          14,
          27,
          23,
          14,
          21,
          22,
          22,
          21,
          23,
          12,
          16,
          23,
          23,
          21,
          17,
          13,
          10,
          27,
          15,
          16,
          22,
          13,
          26,
          3,
          10,
          19,
          17,
          25,
          28,
          12,
          26,
          11,
          10,
          7,
          19,
          18,
          22,
          23,
          23,
          23,
          25,
          25,
          22,
          23,
          19,
          25,
          13,
          27,
          21,
          8,
          21,
          10,
          28,
          23,
          18,
          23,
          21,
          21,
          17,
          22,
          26,
          21,
          8,
          25,
          22,
          25,
          11,
          14,
          24,
          23,
          17,
          21,
          8,
          23,
          23,
          18,
          25,
          22,
          25,
          8,
          14,
          19,
          23,
          26,
          18,
          14,
          26,
          18,
          23,
          20,
          24,
          24,
          27,
          28,
          18,
          17,
          24,
          21,
          24,
          20,
          26,
          29,
          18,
          13,
          24,
          13,
          25,
          9,
          24,
          24,
          17,
          12,
          24,
          18,
          19,
          20,
          9,
          27,
          24,
          23,
          10,
          11,
          27,
          12,
          15,
          22,
          19,
          23,
          16,
          13,
          4,
          21,
          20,
          20,
          6,
          21,
          21,
          24,
          22,
          22,
          21,
          6,
          14,
          22,
          15,
          20,
          7,
          30,
          22,
          19,
          22,
          24,
          7,
          11,
          22,
          17,
          26,
          25,
          11,
          17,
          14,
          28,
          22,
          27,
          18,
          13,
          15,
          22,
          21,
          23,
          27,
          19,
          24,
          22,
          15,
          2,
          17,
          20,
          17,
          24,
          15,
          21,
          26,
          26,
          22,
          26,
          24,
          17,
          17,
          22,
          22,
          22,
          17,
          19,
          22,
          14,
          17,
          24,
          25,
          22,
          4,
          24,
          23,
          25,
          18,
          26,
          14,
          27,
          24,
          17,
          20,
          21,
          29,
          23,
          18,
          23,
          19,
          19,
          3,
          23,
          7,
          22,
          13,
          25,
          13,
          17,
          22,
          16,
          26,
          23,
          21,
          21,
          7,
          18,
          17,
          24,
          16,
          24,
          17,
          8,
          20,
          23,
          24,
          23,
          17,
          29,
          25,
          20,
          21,
          30,
          16,
          16,
          14,
          22,
          27,
          24,
          22,
          18,
          19,
          13,
          28,
          17,
          13,
          22,
          24,
          24,
          26,
          22,
          14,
          22,
          23,
          19,
          22,
          12,
          11,
          26,
          25,
          21,
          22,
          27,
          18,
          25,
          23,
          23,
          11,
          22,
          21,
          22,
          12,
          23,
          3,
          23,
          13,
          8,
          22,
          25,
          17,
          26,
          19,
          22,
          20,
          21,
          13,
          20,
          12,
          6,
          23,
          25,
          13,
          22,
          19,
          26,
          29,
          23
         ],
         "xaxis": "x2",
         "yaxis": "y2"
        },
        {
         "marker": {
          "color": "#F9B612",
          "line": {
           "color": "white",
           "width": 1.5
          }
         },
         "name": "Southwest",
         "nbinsx": 20,
         "opacity": 0.7,
         "type": "histogram",
         "x": [
          7,
          27,
          20,
          21,
          21,
          22,
          28,
          25,
          24,
          17,
          24,
          25,
          23,
          21,
          25,
          24,
          28,
          11,
          19,
          8,
          11,
          23,
          19,
          22,
          5,
          23,
          26,
          25,
          21,
          28,
          24,
          20,
          25,
          22,
          21,
          24,
          19,
          19,
          16,
          15,
          19,
          25,
          25,
          13,
          11,
          5,
          23,
          27,
          26,
          25,
          24,
          16,
          28,
          22,
          23,
          20,
          12,
          23,
          6,
          22,
          12,
          17,
          24,
          27,
          24,
          22,
          21,
          23,
          23,
          10,
          21,
          18,
          26,
          22,
          25,
          25,
          22,
          15,
          25,
          29,
          19,
          9,
          10,
          17,
          15,
          13,
          25,
          15,
          16,
          13,
          20,
          25,
          17,
          24,
          17,
          11,
          26,
          25,
          15,
          25,
          15,
          14,
          14,
          20,
          11,
          23,
          8,
          22,
          16,
          12,
          18,
          25,
          29,
          21,
          20,
          23,
          27,
          20,
          25,
          16,
          25,
          28,
          19,
          12,
          19,
          15,
          18,
          19,
          21,
          22,
          18,
          21,
          15,
          26,
          3,
          26,
          21,
          17,
          22,
          26,
          16,
          25,
          19,
          23,
          19,
          23,
          14,
          19,
          10,
          7,
          19,
          22,
          21,
          20,
          18,
          24,
          23,
          19,
          22,
          19,
          18,
          22,
          25,
          15,
          12,
          20,
          24,
          18,
          14,
          21,
          15,
          14,
          22,
          14,
          19,
          22,
          8,
          26,
          15,
          15,
          9,
          25,
          21,
          15,
          21,
          19,
          25,
          19,
          15,
          8,
          14,
          13,
          22,
          23,
          12,
          22,
          25,
          12,
          9,
          14,
          26,
          17,
          19,
          23,
          24,
          23,
          25,
          22,
          22,
          14,
          24,
          14,
          23,
          19,
          21,
          26,
          22,
          22,
          24,
          21,
          26,
          21,
          20,
          24,
          20,
          26,
          20,
          23,
          21,
          21,
          26,
          11,
          17,
          16,
          21,
          16,
          25,
          12,
          16,
          12,
          29,
          20,
          16,
          25,
          27,
          25,
          23,
          13,
          14,
          10,
          20,
          23,
          25,
          21,
          15,
          11,
          23,
          13,
          24,
          26,
          23,
          17,
          23,
          19,
          10,
          11,
          11,
          24,
          22,
          21,
          14,
          17,
          25,
          22,
          16,
          22,
          21,
          12,
          24,
          22,
          26,
          9,
          17,
          24,
          23,
          4,
          18,
          19,
          22,
          18,
          21,
          23,
          12,
          18,
          18,
          22,
          25,
          20,
          10,
          27,
          23,
          24,
          22,
          11,
          24,
          8,
          9,
          21,
          17,
          12,
          19,
          19,
          19,
          29,
          24,
          20,
          17,
          22,
          22,
          22,
          22,
          27,
          13,
          16,
          22,
          24,
          23,
          22,
          22,
          21,
          24,
          7,
          11,
          8,
          21,
          28,
          17,
          25,
          26,
          25,
          12,
          24,
          8,
          22,
          20,
          12,
          17,
          23,
          24,
          25,
          25,
          9,
          27,
          9,
          23,
          21,
          22,
          21,
          12,
          23,
          22,
          17,
          18,
          17,
          27,
          22,
          20,
          21,
          27,
          12,
          12,
          18,
          24,
          18,
          19,
          25,
          18,
          23,
          20,
          12,
          18,
          18,
          25,
          21,
          9,
          23,
          24,
          24,
          25,
          23,
          12,
          7,
          21,
          22,
          18,
          13,
          27,
          24,
          18,
          18,
          9,
          23,
          21,
          7,
          20,
          23,
          19,
          23,
          7,
          6,
          13,
          22,
          22,
          22,
          24,
          16,
          8,
          26,
          19,
          25,
          25,
          22,
          18,
          21,
          17,
          10,
          23,
          27,
          9,
          19,
          19,
          21,
          23,
          18,
          30,
          25,
          14,
          14,
          9,
          13,
          24,
          24,
          27,
          26,
          7,
          8,
          15,
          7,
          23,
          23,
          21,
          18,
          18,
          23,
          24,
          23,
          25,
          25,
          7,
          7,
          24,
          15,
          22,
          17,
          15,
          25,
          14,
          26,
          12,
          22,
          14,
          23,
          27,
          24,
          26,
          24,
          19,
          24,
          26,
          16,
          27,
          17,
          15,
          25,
          26,
          17,
          12,
          14,
          15,
          9,
          19,
          15,
          16,
          25,
          22,
          19,
          22,
          17,
          22,
          3,
          20,
          25,
          15,
          25,
          24,
          25,
          22,
          10,
          21,
          24,
          20,
          16,
          16,
          18,
          25,
          6,
          24,
          26,
          22,
          24,
          23,
          22,
          26,
          13,
          24,
          11,
          14,
          23,
          16,
          21,
          22,
          15,
          18,
          16,
          15,
          27,
          24,
          16,
          16,
          20,
          18,
          14,
          20,
          23,
          6,
          24,
          15,
          28,
          15,
          22,
          23,
          22,
          15,
          24,
          26,
          9,
          20,
          20,
          10,
          16,
          10,
          16,
          26,
          25,
          23,
          24,
          9,
          11,
          10,
          21,
          21,
          24,
          16,
          25,
          18,
          21,
          12,
          26,
          16,
          23,
          27,
          18,
          25,
          21,
          19,
          22,
          16,
          24,
          18,
          11,
          22,
          21,
          30,
          23,
          22,
          16,
          4,
          22,
          14,
          10,
          13,
          14,
          10,
          16,
          19,
          13,
          16,
          24,
          13,
          16,
          22,
          13,
          23,
          21,
          26,
          12,
          19,
          18,
          26,
          26,
          22,
          27,
          20,
          22,
          14,
          18,
          14,
          11,
          15,
          16,
          19,
          20,
          10,
          24,
          8,
          5,
          21,
          20,
          13,
          22,
          22,
          8,
          18,
          11,
          15,
          15,
          21,
          14,
          14,
          24,
          21,
          25,
          22,
          13,
          18,
          19,
          23,
          19,
          18,
          7,
          11,
          20,
          23,
          23,
          6,
          23,
          22,
          12,
          18,
          18,
          16,
          17,
          16,
          27,
          15,
          11,
          20,
          22,
          24,
          15,
          16,
          11,
          15,
          21,
          23,
          25,
          8,
          21,
          23,
          26,
          22,
          17,
          21,
          24,
          17,
          13,
          21,
          6,
          23,
          14,
          16,
          24,
          24,
          26,
          17,
          21,
          17,
          24,
          17,
          16,
          8,
          26,
          9,
          26,
          16,
          15,
          19,
          24,
          18,
          26,
          17,
          14,
          21,
          23,
          24,
          21,
          24,
          21,
          17,
          25,
          16,
          23,
          15,
          13,
          15,
          15,
          20,
          9,
          23,
          14,
          21,
          14,
          8,
          4,
          23,
          26,
          22,
          19,
          26,
          25,
          15,
          12,
          4,
          21,
          19,
          20,
          29,
          23,
          25,
          20,
          21,
          23,
          20,
          24,
          24,
          20,
          23,
          25,
          24,
          7,
          27,
          18,
          24,
          23,
          18,
          27,
          20,
          7,
          3,
          27,
          20,
          16,
          24,
          3,
          6,
          23,
          7,
          24,
          21,
          21,
          9,
          16,
          11,
          27,
          22,
          18,
          22,
          10,
          22,
          8,
          24,
          12,
          21,
          23,
          22,
          23,
          21,
          22,
          20,
          21,
          23,
          19,
          23,
          19,
          20,
          22,
          21,
          23,
          26,
          24,
          17,
          21,
          13,
          20,
          10,
          19,
          20,
          23,
          21,
          24,
          22,
          15,
          19,
          20,
          20,
          22,
          23,
          19,
          26,
          11,
          25,
          26,
          12,
          19,
          23,
          24,
          14,
          20,
          10,
          22,
          15,
          8,
          21,
          21,
          23,
          15,
          14,
          7,
          25,
          18,
          16,
          25,
          9,
          23,
          19,
          27,
          15,
          22,
          19,
          19,
          17,
          27,
          13,
          16,
          25,
          21,
          16,
          14,
          13,
          22,
          16,
          9,
          5,
          17,
          20,
          23,
          16,
          18,
          19,
          21,
          15,
          23,
          18,
          16,
          27,
          23,
          26,
          16,
          23,
          15,
          14,
          19,
          13,
          25,
          27,
          16,
          21,
          20,
          19,
          23,
          24,
          24,
          20,
          21,
          24,
          21,
          19,
          21,
          20,
          19,
          12,
          13,
          15,
          26,
          22,
          15,
          21,
          6,
          17,
          23,
          21,
          26,
          23,
          23,
          23,
          27,
          16,
          19,
          5,
          19,
          24,
          19,
          21,
          27,
          20,
          28,
          14,
          21,
          20,
          24,
          18,
          23,
          22,
          22,
          23,
          24,
          21,
          27,
          20,
          19,
          22,
          24,
          13,
          22,
          17,
          10,
          26,
          11,
          23,
          11,
          17,
          7,
          25,
          27,
          21,
          20,
          12,
          24,
          24,
          28,
          22,
          5,
          23,
          19,
          27,
          29,
          24,
          23,
          25,
          23,
          11,
          21,
          11,
          23,
          24,
          24,
          12,
          22,
          18,
          15,
          21,
          8,
          26,
          17,
          18,
          28,
          15,
          27,
          22,
          26,
          15,
          11,
          23,
          29,
          7,
          9,
          20,
          18,
          27,
          19,
          30,
          9,
          27,
          9,
          18,
          10,
          23,
          16,
          25,
          28,
          14,
          24,
          9,
          15,
          18,
          24,
          13,
          23,
          11,
          14,
          16,
          15,
          22,
          8,
          24,
          25,
          16,
          12,
          10,
          21,
          17,
          16,
          28,
          23,
          15,
          31,
          26,
          15,
          12,
          29,
          17,
          24,
          22,
          22,
          19,
          5,
          6,
          14,
          20,
          7,
          24,
          19,
          6,
          16,
          18,
          18,
          21,
          23,
          25,
          20,
          16,
          18,
          16,
          6,
          12,
          15,
          24,
          28,
          21,
          27,
          13,
          19,
          24,
          14,
          25,
          22,
          17,
          16,
          16,
          15,
          26,
          25,
          21,
          25,
          23,
          24,
          22,
          22,
          24,
          24,
          18,
          21,
          25,
          24,
          20,
          12,
          24,
          19,
          10,
          22,
          26,
          15,
          19,
          22,
          23,
          14,
          22,
          19,
          26,
          23,
          8,
          24,
          13,
          20,
          18,
          18,
          25,
          24,
          25,
          24,
          23,
          21,
          24,
          19,
          26,
          14,
          25,
          11,
          26,
          26,
          14,
          26,
          26,
          20,
          15,
          28,
          23,
          22,
          26,
          24,
          19,
          16,
          5,
          21,
          12,
          19,
          23,
          16,
          20,
          20,
          19,
          25,
          24,
          23,
          7,
          23,
          19,
          27,
          10,
          23,
          21,
          9,
          25,
          21,
          25
         ],
         "xaxis": "x3",
         "yaxis": "y3"
        },
        {
         "marker": {
          "color": "#c8102e",
          "line": {
           "color": "white",
           "width": 1.5
          }
         },
         "name": "Delta",
         "nbinsx": 20,
         "opacity": 0.7,
         "type": "histogram",
         "x": [
          17,
          30,
          12,
          20,
          17,
          23,
          29,
          8,
          26,
          25,
          18,
          22,
          29,
          16,
          25,
          23,
          6,
          10,
          24,
          21,
          16,
          18,
          30,
          14,
          25,
          20,
          5,
          19,
          19,
          9,
          21,
          21,
          19,
          15,
          18,
          19,
          14,
          26,
          25,
          24,
          18,
          18,
          21,
          22,
          26,
          26,
          9,
          27,
          23,
          24,
          27,
          21,
          5,
          17,
          27,
          26,
          20,
          26,
          22,
          5,
          12,
          25,
          18,
          24,
          27,
          26,
          23,
          18,
          27,
          18,
          11,
          15,
          7,
          18,
          2,
          13,
          8,
          23,
          16,
          22,
          6,
          24,
          14,
          16,
          17,
          20,
          4,
          26,
          19,
          3,
          9,
          12,
          10,
          12,
          10,
          7,
          7,
          8,
          15,
          21,
          21,
          19,
          10,
          17,
          5,
          5,
          10,
          8,
          20,
          9,
          11,
          4,
          4,
          6,
          18,
          8,
          10,
          12,
          14,
          12,
          18,
          7,
          13,
          7,
          4,
          10,
          6,
          12,
          11,
          10,
          15,
          22,
          22,
          28,
          9,
          24,
          26,
          22,
          24,
          19,
          25,
          26,
          25,
          9,
          10,
          22,
          20,
          20,
          24,
          12,
          20,
          13,
          18,
          16,
          23,
          22,
          22,
          24,
          5,
          5,
          5,
          10,
          18,
          26,
          25,
          26,
          15,
          23,
          8,
          23,
          17,
          24,
          14,
          13,
          21,
          13,
          18,
          11,
          11,
          8,
          17,
          13,
          30,
          25,
          11,
          24,
          13,
          25,
          19,
          29,
          23,
          23,
          17,
          10,
          6,
          26,
          29,
          12,
          18,
          17,
          26,
          21,
          9,
          15,
          18,
          25,
          28,
          19,
          20,
          25,
          10,
          17,
          18,
          6,
          22,
          21,
          12,
          26,
          17,
          18,
          21,
          27,
          29,
          25,
          20,
          22,
          22,
          22,
          12,
          22,
          3,
          21,
          11,
          17,
          18,
          22,
          23,
          10,
          21,
          24,
          26,
          23,
          30,
          24,
          20,
          23,
          7,
          18,
          21,
          22,
          21,
          15,
          22,
          23,
          23,
          17,
          20,
          17,
          21,
          18,
          9,
          11,
          14,
          24,
          18,
          18,
          16,
          22,
          25,
          20,
          22,
          17,
          21,
          25,
          16,
          27,
          15,
          20,
          21,
          19,
          25,
          9,
          21,
          17,
          23,
          29,
          15,
          25,
          24,
          6,
          23,
          23,
          13,
          20,
          25,
          6,
          27,
          15,
          12,
          12,
          13,
          15,
          10,
          18,
          10,
          26,
          28,
          15,
          25,
          30,
          14,
          19,
          21,
          13,
          20,
          30,
          22,
          22,
          21,
          13,
          26,
          15,
          22,
          25,
          24,
          23,
          27,
          15,
          17,
          25,
          25,
          21,
          5,
          25,
          9,
          16,
          15,
          21,
          23,
          13,
          21,
          22,
          17,
          20,
          25,
          6,
          25,
          12,
          7,
          26,
          25,
          7,
          16,
          19,
          26,
          19,
          16,
          24,
          26,
          12,
          24,
          17,
          9,
          26,
          28,
          26,
          7,
          21,
          20,
          11,
          29,
          22,
          10,
          25,
          23,
          23,
          11,
          22,
          6,
          21,
          26,
          18,
          21,
          15,
          21,
          22,
          20,
          23,
          22,
          6,
          10,
          25,
          9,
          20,
          24,
          19,
          23,
          6,
          19,
          26,
          24,
          25,
          20,
          22,
          22,
          12,
          25,
          24,
          23,
          23,
          24,
          28,
          24,
          22,
          13,
          25,
          26,
          24,
          21,
          22,
          24,
          27,
          27,
          27,
          9,
          12,
          15,
          24,
          20,
          24,
          19,
          19,
          24,
          21,
          9,
          14,
          18,
          13,
          13,
          8,
          28,
          17,
          21,
          26,
          29,
          28,
          16,
          26,
          20,
          8,
          10,
          24,
          24,
          21,
          18,
          21,
          23,
          25,
          21,
          20,
          25,
          11,
          22,
          22,
          16,
          27,
          24,
          11,
          23,
          17,
          26,
          21,
          13,
          23,
          28,
          24,
          3,
          6,
          20,
          27,
          10,
          26,
          12,
          5,
          12,
          16,
          17,
          19,
          22,
          11,
          18,
          14,
          24,
          23,
          20,
          21,
          3,
          25,
          27,
          26,
          27,
          28,
          21,
          6,
          24,
          30,
          27,
          24,
          17,
          9,
          12,
          22,
          28,
          29,
          8,
          10,
          15,
          20,
          23,
          6,
          15,
          25,
          26,
          23,
          26,
          10,
          23,
          17,
          21,
          21,
          25,
          13,
          21,
          20,
          24,
          18,
          26,
          23,
          6,
          23,
          12,
          14,
          21,
          18,
          23,
          10,
          14,
          24,
          20,
          6,
          12,
          12,
          12,
          21,
          12,
          11,
          16,
          20,
          12,
          8,
          12,
          18,
          23,
          16,
          28,
          12,
          18,
          19,
          8,
          20,
          35,
          24,
          21,
          23,
          21,
          7,
          22,
          14,
          20,
          6,
          4,
          15,
          6,
          13,
          27,
          21,
          24,
          19,
          18,
          15,
          21,
          22,
          21,
          25,
          21,
          24,
          25,
          26,
          27,
          20,
          19,
          25,
          23,
          27,
          24,
          13,
          9,
          21,
          27,
          24,
          11,
          11,
          17,
          18,
          11,
          26,
          11,
          16,
          17,
          26,
          17,
          20,
          23,
          24,
          24,
          23,
          19,
          25,
          23,
          26,
          7,
          20,
          16,
          12,
          10,
          21,
          11,
          4,
          10,
          10,
          19,
          26,
          4,
          17,
          17,
          8,
          26,
          25,
          24,
          11,
          24,
          18,
          25,
          22,
          13,
          20,
          18,
          24,
          10,
          24,
          15,
          17,
          26,
          28,
          14,
          26,
          30,
          13,
          25,
          26,
          21,
          27,
          24,
          25,
          25,
          23,
          27,
          22,
          13,
          18,
          16,
          19,
          11,
          11,
          21,
          30,
          16,
          18,
          24,
          21,
          21,
          23,
          26,
          28,
          23,
          22,
          21,
          15,
          20,
          16,
          20,
          17,
          17,
          8,
          25,
          27,
          11,
          24,
          20,
          19,
          17,
          19,
          23,
          13,
          26,
          20,
          24,
          25,
          13,
          16,
          19,
          23,
          18,
          27,
          27,
          14,
          28,
          23,
          21,
          23,
          21,
          23,
          24,
          14,
          28,
          22,
          10,
          20,
          16,
          18,
          12,
          12,
          25,
          20,
          22,
          13,
          10,
          24,
          27,
          10,
          27,
          10,
          18,
          17,
          17,
          10,
          23,
          8,
          18,
          8,
          9,
          6,
          13,
          15,
          21,
          5,
          20,
          8,
          6,
          23,
          23,
          30,
          17,
          23,
          11,
          24,
          25,
          25,
          25,
          19,
          24,
          24,
          29,
          20,
          30,
          18,
          12,
          18,
          22,
          21,
          14,
          20,
          20,
          27,
          12,
          13,
          24,
          23,
          15,
          7,
          6,
          22,
          19,
          8,
          24,
          14,
          17,
          22,
          23,
          21,
          20,
          29,
          21,
          18,
          24,
          14,
          19,
          9,
          29,
          22,
          12,
          16,
          24,
          25,
          13,
          26,
          30,
          27,
          18,
          27,
          8,
          18,
          15,
          10,
          25,
          23,
          11,
          24,
          10,
          8,
          19,
          20,
          21,
          20,
          23,
          21,
          27,
          23,
          17,
          21,
          25,
          24,
          26,
          16,
          23,
          20,
          22,
          24,
          22,
          7,
          28,
          16,
          11,
          27,
          6,
          20,
          26,
          9,
          16,
          26,
          12,
          21,
          18,
          30,
          27,
          18,
          23,
          18,
          26,
          27,
          5,
          21,
          20,
          8,
          22,
          26,
          26,
          7,
          21,
          16,
          19,
          13,
          16,
          23,
          22,
          16,
          25,
          22,
          8,
          25,
          14,
          15,
          24,
          7,
          8,
          5,
          23,
          27,
          22,
          29,
          6,
          27,
          23,
          25,
          18,
          25,
          19,
          3,
          7,
          28,
          9,
          15,
          7,
          23,
          26,
          20,
          23,
          16,
          20,
          24,
          24,
          4,
          15,
          25,
          26,
          26,
          25,
          25,
          27,
          19,
          4,
          21,
          25,
          19,
          19,
          19,
          19,
          11,
          20,
          26,
          8,
          16,
          16
         ],
         "xaxis": "x4",
         "yaxis": "y4"
        },
        {
         "marker": {
          "color": "#bdc1c4",
          "line": {
           "color": "white",
           "width": 1.5
          }
         },
         "name": "US Airways",
         "nbinsx": 20,
         "opacity": 0.7,
         "type": "histogram",
         "x": [
          27,
          12,
          27,
          7,
          23,
          21,
          17,
          23,
          14,
          23,
          22,
          22,
          25,
          18,
          26,
          15,
          10,
          28,
          24,
          19,
          22,
          12,
          26,
          21,
          21,
          25,
          17,
          25,
          9,
          18,
          18,
          11,
          18,
          25,
          26,
          21,
          25,
          28,
          24,
          25,
          17,
          23,
          18,
          19,
          24,
          22,
          23,
          21,
          24,
          15,
          20,
          24,
          24,
          21,
          12,
          20,
          26,
          23,
          14,
          18,
          19,
          23,
          24,
          26,
          28,
          16,
          23,
          9,
          29,
          19,
          26,
          21,
          20,
          28,
          20,
          15,
          15,
          23,
          25,
          20,
          20,
          20,
          11,
          19,
          22,
          20,
          22,
          7,
          9,
          22,
          20,
          25,
          25,
          20,
          13,
          21,
          13,
          7,
          24,
          11,
          10,
          28,
          12,
          26,
          8,
          24,
          16,
          27,
          24,
          26,
          25,
          13,
          12,
          18,
          4,
          22,
          23,
          18,
          16,
          27,
          24,
          21,
          13,
          8,
          17,
          20,
          9,
          30,
          24,
          23,
          6,
          23,
          15,
          26,
          29,
          29,
          22,
          25,
          7,
          21,
          19,
          25,
          15,
          22,
          22,
          24,
          24,
          21,
          14,
          27,
          22,
          16,
          8,
          21,
          15,
          19,
          24,
          21,
          20,
          20,
          23,
          21,
          27,
          22,
          3,
          21,
          22,
          23,
          22,
          23,
          23,
          22,
          28,
          16,
          27,
          19,
          26,
          24,
          18,
          5,
          19,
          30,
          21,
          27,
          20,
          24,
          24,
          9,
          19,
          8,
          19,
          25,
          26,
          21,
          25,
          21,
          23,
          14,
          17,
          22,
          5,
          16,
          14,
          12,
          18,
          25,
          25,
          23,
          25,
          19,
          15,
          25,
          23,
          13,
          22,
          4,
          16,
          18,
          16,
          17,
          3,
          24,
          20,
          23,
          9,
          16,
          29,
          13,
          16,
          17,
          24,
          14,
          28,
          20,
          15,
          17,
          8,
          22,
          24,
          6,
          19,
          25,
          26,
          28,
          16,
          26,
          6,
          25,
          23,
          26,
          13,
          17,
          13,
          15,
          5,
          23,
          28,
          22,
          22,
          24,
          29,
          28,
          21,
          23,
          17,
          26,
          19,
          20,
          19,
          24,
          22,
          22,
          18,
          18,
          21,
          17,
          7,
          26,
          23,
          24,
          23,
          23,
          15,
          22,
          23,
          22,
          18,
          26,
          26,
          7,
          25,
          31,
          25,
          26,
          24,
          27,
          18,
          27,
          24,
          25,
          23,
          19,
          18,
          31,
          25,
          21,
          6,
          22,
          4,
          21,
          23,
          22,
          26,
          6,
          21,
          21,
          22,
          21,
          27,
          28,
          19,
          24,
          13,
          24,
          16,
          19,
          20,
          25,
          20,
          23,
          21,
          23,
          25,
          19,
          21,
          21,
          21,
          20,
          29,
          22,
          11,
          27,
          25,
          30,
          20,
          23,
          24,
          23,
          15,
          22,
          8,
          20,
          25,
          20,
          20,
          13,
          18,
          17,
          17,
          28,
          25,
          21,
          15,
          21,
          23,
          21,
          21,
          19,
          7,
          11,
          27,
          25,
          28,
          25,
          6,
          24,
          28,
          25,
          19,
          22,
          21,
          26,
          10,
          15,
          24,
          16,
          24,
          8,
          17,
          20,
          15,
          24,
          10,
          26,
          22,
          19,
          11,
          12,
          18,
          26,
          7,
          23,
          14,
          25,
          5,
          9,
          20,
          28,
          22,
          27,
          19,
          20,
          24,
          24,
          27,
          23,
          25,
          19,
          19,
          17,
          27,
          23,
          7,
          13,
          22,
          23,
          20,
          16,
          6,
          27,
          15,
          21,
          23,
          20,
          23,
          19,
          21,
          28,
          15,
          17,
          23,
          21,
          26,
          19,
          27,
          28,
          13,
          24,
          19,
          28,
          23,
          22,
          28,
          27,
          11,
          22,
          27,
          26,
          16,
          25,
          24,
          10,
          24,
          14,
          8,
          23,
          23,
          11,
          27,
          13,
          11,
          21,
          10,
          12,
          19,
          13,
          23,
          4,
          24,
          22,
          23,
          29,
          23,
          23,
          22,
          19,
          5,
          21,
          14,
          19,
          15,
          26,
          26,
          23,
          22,
          20,
          23,
          22,
          28,
          20,
          18,
          16,
          13,
          24,
          16,
          25,
          23,
          19,
          23,
          23,
          25,
          11,
          23,
          10,
          18,
          22,
          19,
          24,
          9,
          16,
          25,
          14,
          21,
          7,
          22,
          15,
          17,
          15,
          12,
          21,
          22,
          21,
          24,
          12,
          10,
          29,
          9,
          22,
          5,
          23,
          23,
          24,
          32,
          21,
          17,
          20,
          8,
          22,
          24,
          22,
          18,
          26,
          21,
          15,
          18,
          23,
          22,
          22,
          23,
          26,
          13,
          23,
          22,
          25,
          21,
          17,
          21,
          13,
          21,
          10,
          21,
          25,
          9,
          24,
          24,
          19,
          24,
          15,
          20,
          18,
          26,
          20,
          22,
          14,
          18,
          14,
          18,
          24,
          21,
          23,
          25,
          13,
          20,
          15,
          18,
          22,
          18,
          22,
          17,
          24,
          12,
          21,
          27,
          21,
          11,
          9,
          24,
          22,
          17,
          27,
          27,
          13,
          17,
          19,
          21,
          19,
          21,
          23,
          21,
          17,
          18,
          26,
          18,
          20,
          23,
          26,
          27,
          18,
          16,
          24,
          23,
          12,
          20,
          26,
          28,
          24,
          23,
          22,
          24,
          25,
          29,
          24,
          12,
          11,
          19,
          15,
          19,
          28,
          13,
          22,
          17,
          26,
          22,
          17,
          21,
          22,
          23,
          21,
          10,
          25,
          12,
          23,
          21,
          8,
          22,
          9,
          22,
          24,
          10,
          20,
          20,
          27,
          20,
          14,
          6,
          23,
          16,
          19,
          20,
          17,
          23,
          12,
          13,
          19,
          17,
          13,
          25,
          5,
          24,
          18,
          15,
          16,
          21,
          12,
          6,
          23,
          24,
          25,
          18,
          21,
          16,
          14,
          25,
          24,
          9,
          10,
          13,
          21,
          24,
          26,
          22,
          24,
          13,
          23,
          28,
          15,
          26,
          26,
          26,
          27,
          25,
          7,
          27,
          20,
          18,
          25,
          23,
          28,
          28,
          22,
          18,
          25,
          26,
          27,
          24,
          24,
          27,
          19,
          15,
          12,
          12,
          31,
          20,
          23,
          20,
          26,
          27,
          28,
          7,
          25,
          20,
          23,
          9,
          19,
          17,
          22,
          20,
          26,
          17,
          13,
          17,
          24,
          20,
          19,
          19,
          8,
          25,
          5,
          22,
          21,
          15,
          27,
          24,
          19,
          12,
          27,
          27,
          16,
          17,
          24,
          21,
          15,
          28,
          25,
          20,
          26,
          6,
          25,
          22,
          20,
          11,
          18,
          22,
          7,
          23,
          20,
          13,
          8,
          21,
          28,
          22,
          29,
          21,
          24,
          14,
          30,
          5,
          30,
          23,
          14,
          10,
          16,
          25,
          11,
          24,
          24,
          22,
          24,
          21,
          15,
          9,
          24,
          27,
          7,
          13,
          20,
          23,
          20,
          22,
          19,
          6,
          10,
          6,
          15,
          24,
          19,
          23,
          29,
          21,
          18,
          7,
          19,
          24,
          23,
          26,
          7,
          9,
          24,
          22,
          18,
          7,
          13,
          15,
          12,
          14,
          20,
          19,
          20,
          17,
          14,
          9,
          10,
          11,
          5,
          21,
          15,
          17,
          19,
          23,
          13,
          17,
          6,
          25,
          9,
          23,
          25,
          17,
          27,
          14,
          11,
          23,
          22,
          24,
          22,
          18,
          26,
          25,
          25,
          26,
          22,
          12,
          10,
          12,
          23,
          19,
          19,
          25,
          25,
          4,
          16,
          22,
          10,
          26,
          20,
          13,
          25,
          24,
          22,
          22,
          7,
          8,
          26,
          16,
          18,
          16,
          26,
          18,
          19,
          15,
          18,
          26,
          16,
          20,
          26,
          25,
          18,
          25,
          22,
          20,
          23,
          6,
          30,
          20,
          14,
          21,
          25,
          21,
          8,
          4,
          23,
          24,
          19,
          17,
          27,
          25,
          21,
          19,
          23,
          23,
          26,
          11,
          6,
          25,
          18,
          18,
          30,
          30,
          12,
          25,
          23,
          21,
          11,
          11,
          15,
          28,
          11,
          5,
          26,
          20,
          23,
          22,
          19,
          16,
          25,
          13,
          10,
          23,
          22,
          21,
          20,
          23,
          22,
          14,
          24,
          23,
          24,
          19,
          13,
          21,
          18,
          21,
          16,
          23,
          19,
          28,
          22,
          16,
          21,
          29,
          17,
          14,
          16,
          22,
          18,
          17,
          12,
          17,
          23,
          22,
          16,
          18,
          15,
          19,
          21,
          23,
          23,
          17,
          23,
          13,
          18,
          13,
          16,
          27,
          23,
          25,
          22,
          4,
          30,
          22,
          26,
          21,
          22,
          7,
          7,
          28,
          20,
          14,
          9,
          22,
          25,
          22,
          16,
          24,
          10,
          9,
          22,
          24,
          15,
          21,
          23,
          22,
          30,
          27,
          17,
          16,
          19,
          21,
          27,
          24,
          22,
          28,
          13,
          21,
          25,
          16,
          22,
          16,
          20,
          19,
          18,
          18,
          23,
          21,
          14,
          17,
          16,
          17,
          25,
          26,
          15,
          24,
          27,
          17,
          26,
          7,
          19,
          21,
          20,
          26,
          13,
          21,
          25,
          20,
          19,
          26,
          24,
          20,
          14,
          23,
          20,
          27,
          26,
          20,
          23,
          18,
          19,
          13,
          27,
          25,
          21,
          9,
          28,
          17,
          19,
          25,
          25,
          12,
          20,
          23,
          8,
          28,
          24,
          30,
          24,
          22,
          25,
          26,
          25,
          20,
          23,
          15,
          9,
          16,
          24,
          18,
          23,
          27,
          22,
          30,
          12,
          23,
          12,
          19,
          19,
          13,
          20,
          24,
          16,
          25,
          22,
          23,
          14,
          25,
          18,
          17,
          16,
          15,
          23,
          6,
          13,
          20,
          27,
          21,
          23,
          9,
          16,
          24,
          29,
          20,
          23,
          14,
          22,
          8,
          21,
          13,
          18,
          23,
          8,
          29,
          28,
          19,
          22,
          16,
          6,
          16,
          27,
          21,
          19,
          23,
          6,
          25,
          22,
          25,
          15,
          14,
          23,
          14,
          24,
          13,
          23,
          12,
          21,
          13,
          24,
          16,
          22,
          20,
          23,
          21,
          24,
          26,
          22,
          21,
          19,
          17,
          21,
          21,
          24,
          10,
          20,
          21,
          24,
          27,
          13,
          30,
          11,
          20,
          30,
          24,
          24,
          19,
          24,
          23,
          21,
          7,
          18,
          26,
          26,
          26,
          17,
          19,
          19,
          12,
          22,
          26,
          22,
          10,
          22,
          24,
          20,
          23,
          18,
          20,
          15,
          20,
          24,
          16,
          26,
          18,
          6,
          23,
          24,
          19,
          18,
          21,
          22,
          15,
          11,
          26,
          28,
          15,
          24,
          15,
          20,
          27,
          20,
          8,
          28,
          9,
          27,
          14,
          24,
          11,
          10,
          27,
          9,
          12,
          15,
          16,
          8,
          18,
          25,
          24,
          17,
          23,
          15,
          7,
          13,
          28,
          12,
          23,
          14,
          25,
          19,
          23,
          19,
          26,
          15,
          16,
          23,
          28,
          13,
          26,
          10,
          20,
          23,
          18,
          16,
          12,
          24,
          19,
          20,
          23,
          24,
          16,
          26,
          22,
          9,
          16,
          16,
          8,
          20,
          26,
          26,
          20,
          24,
          14,
          20,
          25,
          17,
          27,
          7,
          22,
          14,
          18,
          9,
          26,
          24,
          29,
          23,
          24,
          26,
          13,
          27,
          23,
          15,
          21,
          22,
          12,
          15,
          17,
          16,
          21,
          16,
          27,
          23,
          26,
          20,
          16,
          28,
          8,
          19,
          22,
          22,
          3,
          14,
          25,
          24,
          11,
          24,
          23,
          11,
          20,
          17,
          16,
          22,
          15,
          29,
          27,
          7,
          5,
          21,
          19,
          21,
          18,
          23,
          19,
          16,
          23,
          8,
          15,
          14,
          26,
          14,
          13,
          24,
          22,
          22,
          23,
          14,
          13,
          9,
          4,
          15,
          17,
          9,
          27,
          10,
          24,
          27,
          7,
          28,
          4,
          12,
          17,
          28,
          24,
          24,
          22,
          19,
          25,
          15,
          17,
          15,
          26,
          10,
          4,
          19,
          22,
          25,
          13,
          13,
          12,
          13,
          29,
          31,
          16,
          15,
          23,
          27,
          23,
          22,
          13,
          6,
          27,
          6,
          25,
          12,
          19,
          23,
          29,
          25,
          25,
          12,
          10,
          18,
          8,
          15,
          22,
          21,
          24,
          11,
          18,
          27,
          24,
          28,
          18,
          21,
          17,
          22,
          23,
          23,
          12,
          19,
          22,
          26,
          20,
          27,
          26,
          11,
          22,
          15,
          11,
          16,
          21,
          24,
          18,
          17,
          12,
          26,
          25,
          28,
          18,
          27,
          14,
          25,
          24,
          21,
          10,
          26,
          22,
          26,
          6,
          19,
          23,
          19,
          21,
          25,
          26,
          15,
          21,
          8,
          24,
          25,
          19,
          16,
          21,
          27,
          23,
          18,
          24,
          26,
          22,
          22,
          26,
          10,
          23,
          18,
          24,
          26,
          22,
          5,
          23,
          23,
          26,
          16,
          6,
          21,
          6,
          15,
          20,
          16,
          24,
          18,
          21,
          24,
          28,
          31,
          20,
          21,
          26,
          27,
          23,
          26,
          25,
          26,
          19,
          22,
          25,
          28,
          29,
          27,
          18,
          25,
          24,
          26,
          24,
          24,
          23,
          14,
          19,
          24,
          10,
          20,
          26,
          10,
          15,
          23,
          8,
          20,
          22,
          15,
          26,
          12,
          10,
          18,
          19,
          17,
          20,
          22,
          7,
          24,
          11,
          14,
          24,
          21,
          16,
          20,
          9,
          11,
          27,
          21,
          16,
          23,
          7,
          24,
          27,
          21,
          25,
          26,
          24,
          13,
          24,
          13,
          11,
          24,
          16,
          18,
          21,
          18,
          24,
          23,
          22,
          25,
          26,
          17,
          19,
          23,
          6,
          20,
          18,
          16,
          26,
          25,
          24,
          13,
          14,
          17,
          20,
          20,
          19,
          24,
          29,
          21,
          24,
          23,
          25,
          20,
          27,
          5,
          21,
          22,
          24,
          22,
          22,
          18,
          18,
          15,
          18,
          19,
          12,
          18,
          4,
          12,
          26,
          10,
          12,
          20,
          12,
          22,
          23,
          28,
          25,
          16,
          27,
          17,
          20,
          26,
          21,
          22,
          20,
          26,
          6,
          26,
          23,
          28,
          26,
          13,
          20,
          10,
          17,
          22,
          25,
          19,
          23,
          19,
          13,
          24,
          24,
          25,
          25,
          25,
          22,
          27,
          21,
          13,
          15,
          15,
          7,
          24,
          25,
          17,
          12,
          19,
          18,
          13,
          26,
          8,
          20,
          19,
          24,
          20,
          19,
          23,
          12,
          16,
          19,
          26,
          14,
          16,
          24,
          21,
          11,
          22,
          23,
          27,
          25,
          25,
          26,
          28,
          11,
          18,
          11,
          24,
          15,
          3,
          17,
          25,
          12,
          22,
          27,
          16,
          22,
          12,
          17,
          25,
          26,
          11,
          18,
          16,
          23,
          25,
          4,
          24,
          13,
          16,
          25,
          25,
          27,
          21,
          14,
          23,
          17,
          16,
          13,
          26,
          17,
          19,
          28,
          27,
          22,
          16,
          20,
          26,
          23,
          26,
          21,
          23,
          20,
          15,
          21,
          5,
          27,
          13,
          12,
          27,
          23,
          24,
          23,
          4,
          26,
          15,
          11,
          24,
          24,
          5,
          12,
          25,
          18,
          9,
          16,
          21,
          19,
          14,
          23,
          25,
          15,
          24,
          26,
          20,
          26,
          22,
          27,
          21,
          24,
          26,
          8,
          22,
          22,
          20,
          25,
          23,
          28,
          19,
          12,
          20,
          25,
          15,
          13,
          23,
          25,
          14,
          23,
          23,
          17,
          15,
          27,
          20,
          11,
          6,
          15,
          17,
          16,
          24,
          19,
          19,
          21,
          22,
          12,
          8,
          8,
          26,
          19,
          23,
          28,
          26,
          28,
          23,
          15,
          11,
          25,
          15,
          26,
          21,
          21,
          22,
          14,
          16,
          18,
          9,
          28,
          16,
          23,
          16,
          24,
          23,
          27,
          15,
          23,
          20,
          18,
          25,
          25,
          27,
          27,
          25,
          22,
          23,
          21,
          22,
          30,
          23,
          21,
          8,
          17,
          12,
          20,
          15,
          11,
          17,
          10,
          19,
          24,
          8,
          17,
          19,
          17,
          21,
          20,
          24,
          23,
          14,
          16,
          26,
          22,
          27,
          16,
          22,
          26,
          22,
          15,
          10,
          19,
          8,
          6,
          19,
          22,
          20,
          14,
          23,
          26,
          23,
          21,
          18,
          23,
          7,
          18,
          22,
          17,
          23,
          26,
          25,
          26,
          23,
          24,
          4,
          23,
          26,
          10,
          22,
          10,
          24,
          16,
          20,
          20,
          22,
          14,
          17,
          22,
          25,
          24,
          20,
          20,
          9,
          24,
          23,
          22,
          19,
          12,
          22,
          21,
          17,
          23,
          20,
          12,
          24,
          21,
          13,
          24,
          24,
          16,
          27,
          16,
          13,
          5,
          11,
          11,
          17,
          13,
          26,
          16,
          19,
          8,
          25,
          17,
          23,
          23,
          17,
          11,
          29,
          4,
          23,
          23,
          19,
          21,
          9,
          25,
          18,
          13,
          20,
          20,
          22,
          23,
          12,
          3,
          10,
          18,
          17,
          16,
          25,
          23,
          16,
          24,
          22,
          9,
          22,
          18,
          24,
          22,
          27,
          23,
          18,
          26,
          18,
          28,
          21,
          9,
          15,
          28,
          22,
          20,
          27,
          23,
          25,
          26,
          25,
          15,
          12,
          19,
          16,
          18,
          25,
          18,
          24,
          19,
          27,
          23,
          11,
          13,
          20,
          24,
          7,
          11,
          15,
          24,
          7,
          23,
          19,
          24,
          17,
          20,
          30,
          24,
          16,
          23,
          15,
          25,
          25,
          16,
          22,
          19,
          16,
          17,
          24,
          29,
          25,
          27,
          24,
          29,
          17,
          32,
          13,
          26,
          19,
          26,
          19,
          25,
          18,
          22,
          22,
          19,
          21,
          23,
          27,
          18,
          30,
          22,
          25,
          12,
          24,
          20,
          12,
          21,
          23,
          23,
          13,
          19,
          16,
          17,
          23,
          17,
          21,
          25,
          16,
          20,
          18,
          20,
          13,
          13,
          21,
          25,
          23,
          20,
          12,
          20,
          28,
          20,
          20,
          23,
          14,
          21,
          20,
          21,
          17,
          15,
          24,
          12,
          21,
          24,
          23,
          18,
          21,
          20,
          25,
          17,
          24,
          26,
          13,
          31,
          21,
          17,
          21,
          18,
          25,
          25,
          20,
          23,
          23,
          12,
          22,
          26,
          8,
          24,
          26,
          17,
          24,
          25,
          17,
          17,
          31,
          25,
          28,
          16,
          17,
          21,
          27,
          24,
          26,
          23,
          23,
          23,
          26,
          21,
          26,
          29,
          17,
          27,
          14,
          20,
          24,
          17,
          10,
          22,
          21,
          6,
          27,
          24,
          19,
          20,
          21,
          16,
          25,
          27,
          27,
          4,
          23,
          28,
          12,
          6,
          16,
          20,
          25,
          25,
          29,
          17,
          28,
          12,
          20,
          5,
          24,
          20,
          12,
          15,
          10,
          25,
          23,
          26,
          27,
          22,
          27,
          13,
          17
         ],
         "xaxis": "x5",
         "yaxis": "y5"
        },
        {
         "marker": {
          "color": "#00a9e0",
          "line": {
           "color": "white",
           "width": 1.5
          }
         },
         "name": "American",
         "nbinsx": 20,
         "opacity": 0.7,
         "type": "histogram",
         "x": [
          18,
          26,
          14,
          21,
          16,
          22,
          22,
          26,
          9,
          20,
          23,
          8,
          24,
          22,
          14,
          15,
          23,
          14,
          22,
          25,
          25,
          15,
          23,
          18,
          22,
          18,
          12,
          13,
          15,
          21,
          23,
          24,
          27,
          26,
          8,
          28,
          11,
          12,
          22,
          7,
          22,
          20,
          26,
          18,
          6,
          18,
          17,
          23,
          24,
          24,
          24,
          21,
          24,
          9,
          18,
          11,
          19,
          19,
          19,
          28,
          16,
          23,
          21,
          17,
          24,
          22,
          25,
          25,
          24,
          15,
          15,
          26,
          22,
          18,
          26,
          14,
          28,
          13,
          11,
          19,
          25,
          7,
          18,
          27,
          17,
          21,
          16,
          20,
          26,
          27,
          13,
          10,
          26,
          3,
          22,
          14,
          21,
          25,
          22,
          13,
          20,
          24,
          24,
          26,
          26,
          22,
          20,
          21,
          20,
          25,
          29,
          11,
          15,
          18,
          20,
          24,
          19,
          22,
          12,
          15,
          4,
          17,
          11,
          23,
          22,
          24,
          23,
          26,
          18,
          16,
          24,
          20,
          19,
          27,
          21,
          20,
          25,
          25,
          26,
          17,
          26,
          23,
          10,
          24,
          20,
          15,
          24,
          21,
          27,
          24,
          15,
          14,
          16,
          20,
          18,
          26,
          23,
          23,
          21,
          11,
          14,
          25,
          21,
          26,
          22,
          23,
          19,
          25,
          19,
          20,
          5,
          27,
          13,
          18,
          16,
          23,
          20,
          20,
          18,
          22,
          21,
          22,
          20,
          25,
          24,
          16,
          18,
          17,
          19,
          16,
          23,
          17,
          15,
          21,
          9,
          23,
          26,
          20,
          18,
          24,
          27,
          21,
          21,
          26,
          21,
          12,
          22,
          22,
          13,
          28,
          18,
          22,
          10,
          10,
          24,
          19,
          19,
          21,
          14,
          14,
          17,
          26,
          19,
          24,
          11,
          16,
          15,
          13,
          10,
          23,
          16,
          23,
          14,
          28,
          12,
          28,
          22,
          28,
          19,
          20,
          24,
          22,
          26,
          22,
          25,
          21,
          27,
          26,
          18,
          16,
          22,
          23,
          20,
          15,
          14,
          25,
          26,
          24,
          27,
          26,
          20,
          14,
          19,
          23,
          7,
          23,
          6,
          24,
          21,
          19,
          23,
          19,
          6,
          15,
          20,
          17,
          25,
          19,
          21,
          21,
          23,
          18,
          22,
          23,
          19,
          21,
          19,
          16,
          22,
          20,
          27,
          19,
          20,
          24,
          11,
          26,
          29,
          26,
          21,
          18,
          28,
          3,
          23,
          22,
          12,
          23,
          23,
          20,
          20,
          24,
          28,
          23,
          11,
          27,
          13,
          4,
          17,
          17,
          19,
          25,
          22,
          14,
          21,
          10,
          8,
          22,
          27,
          16,
          16,
          14,
          14,
          20,
          29,
          24,
          24,
          12,
          12,
          23,
          19,
          19,
          18,
          22,
          12,
          10,
          24,
          24,
          20,
          20,
          6,
          17,
          22,
          20,
          17,
          22,
          19,
          26,
          24,
          23,
          23,
          18,
          16,
          23,
          4,
          13,
          24,
          13,
          20,
          14,
          22,
          18,
          13,
          28,
          14,
          16,
          10,
          24,
          23,
          27,
          15,
          21,
          15,
          25,
          20,
          9,
          9,
          21,
          16,
          22,
          16,
          24,
          26,
          24,
          28,
          16,
          22,
          29,
          20,
          25,
          25,
          14,
          22,
          23,
          11,
          10,
          27,
          18,
          25,
          20,
          22,
          21,
          13,
          26,
          25,
          25,
          22,
          29,
          24,
          28,
          26,
          22,
          23,
          24,
          18,
          18,
          23,
          18,
          16,
          15,
          20,
          22,
          12,
          5,
          21,
          24,
          20,
          19,
          7,
          19,
          11,
          22,
          25,
          22,
          27,
          14,
          17,
          22,
          17,
          18,
          15,
          26,
          10,
          23,
          18,
          14,
          22,
          24,
          17,
          25,
          22,
          24,
          20,
          21,
          10,
          13,
          26,
          23,
          6,
          25,
          12,
          26,
          24,
          22,
          10,
          23,
          26,
          21,
          22,
          24,
          22,
          19,
          14,
          27,
          23,
          22,
          15,
          8,
          29,
          28,
          19,
          12,
          19,
          25,
          25,
          25,
          23,
          28,
          25,
          5,
          21,
          24,
          27,
          19,
          11,
          26,
          8,
          24,
          3,
          23,
          19,
          27,
          28,
          26,
          24,
          25,
          7,
          26,
          26,
          22,
          25,
          22,
          24,
          27,
          19,
          24,
          15,
          7,
          22,
          26,
          22,
          24,
          26,
          17,
          10,
          13,
          13,
          13,
          21,
          25,
          21,
          23,
          24,
          7,
          19,
          22,
          16,
          14,
          13,
          18,
          14,
          19,
          22,
          16,
          23,
          23,
          23,
          24,
          20,
          28,
          31,
          20,
          23,
          27,
          19,
          20,
          19,
          22,
          24,
          16,
          18,
          29,
          24,
          16,
          16,
          13,
          14,
          27,
          23,
          10,
          14,
          13,
          21,
          23,
          7,
          7,
          21,
          20,
          27,
          25,
          24,
          5,
          13,
          24,
          24,
          21,
          26,
          10,
          23,
          9,
          25,
          23,
          21,
          25,
          27,
          19,
          21,
          22,
          23,
          20,
          16,
          27,
          19,
          16,
          26,
          23,
          21,
          23,
          22,
          21,
          28,
          19,
          23,
          28,
          18,
          24,
          26,
          14,
          22,
          24,
          26,
          19,
          14,
          17,
          24,
          14,
          22,
          17,
          18,
          25,
          24,
          25,
          21,
          25,
          22,
          28,
          24,
          26,
          24,
          22,
          21,
          22,
          20,
          21,
          21,
          24,
          30,
          13,
          23,
          13,
          22,
          26,
          9,
          21,
          15,
          18,
          24,
          10,
          22,
          15,
          3,
          25,
          12,
          26,
          21,
          12,
          23,
          24,
          19,
          20,
          25,
          22,
          24,
          21,
          6,
          7,
          21,
          24,
          5,
          21,
          21,
          19,
          23,
          25,
          24,
          25,
          23,
          27,
          15,
          24,
          24,
          18,
          24,
          27,
          25,
          29,
          20,
          21,
          21,
          22,
          18,
          18,
          23,
          27,
          21,
          12,
          25,
          14,
          18,
          22,
          24,
          21,
          20,
          2,
          11,
          14,
          23,
          22,
          8,
          15,
          18,
          21,
          14,
          10,
          16,
          26,
          22,
          18,
          21,
          25,
          22,
          21,
          21,
          23,
          24,
          19,
          28,
          26,
          19,
          12,
          24,
          12,
          23,
          19,
          21,
          26,
          16,
          26,
          20,
          18,
          14,
          22,
          14,
          24,
          21,
          17,
          21,
          21,
          22,
          24,
          15,
          19,
          26,
          20,
          23,
          23,
          21,
          17,
          22,
          25,
          23,
          24,
          5,
          27,
          20,
          28,
          21,
          28,
          18,
          25,
          22,
          23,
          21,
          20,
          13,
          22,
          21,
          25,
          20,
          22,
          24,
          22,
          8,
          28,
          14,
          17,
          18,
          25,
          2,
          20,
          25,
          26,
          9,
          17,
          18,
          14,
          17,
          9,
          23,
          22,
          23,
          23,
          22,
          3,
          4,
          24,
          18,
          21,
          14,
          22,
          27,
          24,
          24,
          9,
          23,
          19,
          25,
          24,
          23,
          23,
          20,
          16,
          25,
          23,
          26,
          21,
          13,
          22,
          14,
          23,
          16,
          23,
          21,
          23,
          10,
          20,
          25,
          23,
          22,
          9,
          22,
          26,
          17,
          23,
          26,
          23,
          24,
          23,
          20,
          9,
          13,
          11,
          27,
          22,
          3,
          26,
          20,
          24,
          25,
          7,
          7,
          6,
          8,
          20,
          25,
          12,
          21,
          13,
          18,
          22,
          21,
          23,
          18,
          14,
          21,
          23,
          24,
          7,
          22,
          23,
          17,
          13,
          25,
          23,
          15,
          8,
          13,
          22,
          20,
          16,
          8,
          23,
          21,
          10,
          26,
          21,
          23,
          21,
          17,
          8,
          27,
          27,
          25,
          11,
          17,
          11,
          19,
          21,
          23,
          21,
          25,
          4,
          9,
          25,
          22,
          14,
          24,
          26,
          19,
          17,
          25,
          22,
          22,
          8,
          25,
          26,
          26,
          22,
          26,
          17,
          30,
          19,
          27,
          22,
          19,
          23,
          21,
          20,
          21,
          23,
          27,
          23,
          20,
          22,
          24,
          24,
          19,
          27,
          25,
          23,
          24,
          25,
          27,
          16,
          26,
          4,
          21,
          24,
          24,
          21,
          23,
          16,
          13,
          17,
          12,
          17,
          21,
          23,
          26,
          13,
          17,
          10,
          22,
          16,
          25,
          26,
          25,
          29,
          27,
          22,
          28,
          28,
          17,
          14,
          19,
          20,
          27,
          27,
          20,
          16,
          21,
          21,
          19,
          25,
          13,
          21,
          23,
          17,
          8,
          24,
          25,
          29,
          27,
          16,
          24,
          21,
          18,
          15,
          23,
          22,
          23,
          26,
          22,
          18,
          21,
          27,
          24,
          20,
          20,
          26,
          25,
          23,
          22,
          24,
          21,
          27,
          21,
          13,
          17,
          13,
          18,
          24,
          17,
          25,
          14,
          25,
          18,
          27,
          9,
          24,
          19,
          20,
          14,
          9,
          22,
          26,
          15,
          25,
          23,
          24,
          16,
          24,
          23,
          19,
          22,
          11,
          20,
          19,
          25,
          23,
          19,
          30,
          17,
          27,
          17,
          27,
          19,
          20,
          16,
          21,
          24,
          26,
          18,
          26,
          17,
          15,
          27,
          25,
          27,
          25,
          19,
          25,
          23,
          13,
          25,
          25,
          25,
          27,
          8,
          14,
          24,
          23,
          25,
          16,
          17,
          24,
          23,
          18,
          14,
          10,
          13,
          23,
          27,
          23,
          11,
          29,
          14,
          23,
          22,
          27,
          16,
          21,
          19,
          20,
          19,
          25,
          27,
          25,
          21,
          24,
          18,
          25,
          23,
          25,
          26,
          25,
          26,
          23,
          19,
          14,
          10,
          18,
          25,
          17,
          11,
          22,
          16,
          29,
          29,
          23,
          22,
          22,
          23,
          23,
          13,
          26,
          26,
          20,
          23,
          24,
          23,
          25,
          24,
          28,
          9,
          22,
          21,
          16,
          9,
          21,
          20,
          23,
          19,
          24,
          21,
          25,
          22,
          7,
          25,
          18,
          25,
          15,
          5,
          23,
          3,
          25,
          16,
          18,
          18,
          24,
          21,
          24,
          23,
          5,
          22,
          17,
          25,
          9,
          26,
          28,
          20,
          11,
          21,
          25,
          27,
          27,
          21,
          9,
          29,
          18,
          22,
          15,
          21,
          23,
          26,
          11,
          23,
          21,
          4,
          23,
          10,
          20,
          21,
          22,
          7,
          24,
          16,
          16,
          23,
          25,
          21,
          25,
          12,
          21,
          25,
          24,
          26,
          4,
          25,
          16,
          17,
          26,
          16,
          24,
          12,
          25,
          20,
          16,
          18,
          19,
          18,
          8,
          26,
          4,
          20,
          27,
          22,
          12,
          13,
          27,
          8,
          20,
          19,
          20,
          24,
          23,
          22,
          17,
          22,
          25,
          15,
          17,
          19,
          21,
          19,
          26,
          12,
          32,
          17,
          20,
          23,
          3,
          5,
          20,
          5,
          20,
          22,
          31,
          23,
          25,
          14,
          21,
          24,
          18,
          20,
          17,
          26,
          21,
          11,
          26,
          16,
          27,
          25,
          20,
          24,
          26,
          21,
          19,
          23,
          18,
          24,
          25,
          21,
          20,
          17,
          21,
          22,
          15,
          25,
          13,
          25,
          19,
          13,
          19,
          18,
          19,
          3,
          26,
          26,
          9,
          15,
          28,
          13,
          22,
          24,
          25,
          22,
          25,
          21,
          24,
          17,
          14,
          24,
          18,
          20,
          13,
          19,
          18,
          24,
          26,
          25,
          12,
          23,
          27,
          23,
          24,
          19,
          18,
          23,
          19,
          24,
          22,
          18,
          4,
          26,
          21,
          25,
          14,
          23,
          22,
          15,
          21,
          10,
          24,
          26,
          24,
          18,
          23,
          25,
          22,
          23,
          23,
          19,
          28,
          21,
          19,
          23,
          22,
          19,
          18,
          19,
          22,
          24,
          10,
          23,
          27,
          25,
          24,
          14,
          24,
          20,
          21,
          19,
          27,
          19,
          21,
          17,
          20,
          19,
          14,
          23,
          13,
          23,
          21,
          24,
          26,
          23,
          10,
          25,
          23,
          13,
          17,
          20,
          24,
          20,
          20,
          21,
          20,
          18,
          16,
          14,
          16,
          21,
          16,
          16,
          19,
          14,
          26,
          28,
          21,
          20,
          6,
          22,
          18,
          17,
          25,
          11,
          16,
          13,
          22,
          10,
          18,
          13,
          20,
          19,
          20,
          24,
          26,
          21,
          3,
          17,
          11,
          14,
          23,
          30,
          15,
          20,
          29,
          22,
          23,
          12,
          27,
          22,
          14,
          22,
          25,
          25,
          20,
          13,
          22,
          18,
          11,
          13,
          24,
          27,
          20,
          23,
          24,
          17,
          24,
          27,
          18,
          18,
          25,
          25,
          16,
          19,
          24,
          24,
          29,
          23,
          25,
          22,
          20,
          30,
          16,
          23,
          25,
          18,
          21,
          23,
          15,
          8,
          22,
          6,
          25,
          27,
          26,
          9,
          6,
          23,
          28,
          21,
          21,
          19,
          20,
          20,
          22,
          22,
          21,
          25,
          19,
          16,
          11,
          18,
          27,
          15,
          22,
          21,
          29,
          13,
          20,
          23,
          9,
          10,
          22,
          27,
          19,
          18,
          8,
          22,
          16,
          20,
          20,
          24,
          23,
          11,
          22,
          25,
          16,
          17,
          15,
          27,
          22,
          14,
          23,
          19,
          21,
          25,
          20,
          12,
          20,
          23,
          18,
          21,
          16,
          25,
          20,
          27,
          23,
          14,
          20,
          21,
          20,
          20,
          22,
          15,
          31,
          21,
          25,
          19,
          2,
          24,
          23,
          28,
          22,
          25,
          18,
          13,
          12,
          13,
          26,
          20,
          5,
          23,
          13,
          7,
          24,
          29,
          23,
          26,
          25,
          16,
          6,
          20,
          28,
          15,
          26,
          18,
          17,
          23,
          23,
          13,
          22,
          21,
          21,
          21,
          24,
          26,
          22,
          26,
          23,
          25,
          16,
          25,
          19,
          20,
          17,
          19,
          27,
          18,
          25,
          18,
          25,
          21,
          21,
          26,
          17,
          12,
          24,
          24,
          26,
          16,
          21,
          21,
          19,
          17,
          25,
          21,
          16,
          21,
          23,
          22,
          15,
          25,
          25,
          16,
          17,
          10,
          23,
          20,
          19,
          15,
          13,
          23,
          22,
          13,
          22,
          27,
          8,
          17,
          17,
          23,
          20,
          15,
          18,
          13,
          23,
          21,
          25,
          20,
          15,
          26,
          25,
          18,
          9,
          10,
          17,
          18,
          30,
          24,
          19,
          23,
          28,
          24,
          26,
          9,
          14,
          25,
          18,
          12,
          17,
          23,
          23,
          27,
          9,
          18,
          14,
          14,
          7,
          20,
          23,
          30,
          22,
          26,
          16,
          16,
          22,
          22,
          15,
          8,
          17,
          21,
          17,
          9,
          19,
          28,
          14,
          16,
          16,
          22,
          17,
          24,
          7,
          20,
          23,
          20,
          22,
          22,
          20,
          25,
          16,
          21,
          25,
          21,
          24,
          10,
          24,
          15,
          26,
          25,
          23,
          21,
          28,
          23,
          25,
          23,
          25,
          9,
          26,
          25,
          22,
          20,
          14,
          20,
          25,
          9,
          18,
          19,
          14,
          23,
          9,
          25,
          17,
          24,
          23,
          26,
          23,
          19,
          19,
          21,
          16,
          23,
          19,
          26,
          16,
          19,
          23,
          21,
          22,
          18,
          11,
          7,
          17,
          22,
          25,
          27,
          25,
          16,
          28,
          25,
          26,
          24,
          17,
          27,
          18,
          7,
          20,
          25,
          11,
          21,
          20,
          21,
          19,
          12,
          30,
          24,
          12,
          21,
          25,
          14,
          20,
          21,
          7,
          24,
          19,
          24,
          18,
          13,
          18,
          20,
          24,
          22,
          21,
          26,
          26,
          22,
          20,
          25,
          15,
          27,
          25,
          15,
          22,
          23,
          23,
          19,
          22,
          21,
          7,
          23,
          23
         ],
         "xaxis": "x6",
         "yaxis": "y6"
        }
       ],
       "layout": {
        "annotations": [
         {
          "font": {
           "size": 12
          },
          "showarrow": false,
          "text": "Virgin America",
          "x": 0.14444444444444446,
          "xanchor": "center",
          "xref": "paper",
          "y": 1,
          "yanchor": "bottom",
          "yref": "paper"
         },
         {
          "font": {
           "size": 12
          },
          "showarrow": false,
          "text": "United",
          "x": 0.5,
          "xanchor": "center",
          "xref": "paper",
          "y": 1,
          "yanchor": "bottom",
          "yref": "paper"
         },
         {
          "font": {
           "size": 12
          },
          "showarrow": false,
          "text": "Southwest",
          "x": 0.8555555555555556,
          "xanchor": "center",
          "xref": "paper",
          "y": 1,
          "yanchor": "bottom",
          "yref": "paper"
         },
         {
          "font": {
           "size": 12
          },
          "showarrow": false,
          "text": "Delta",
          "x": 0.14444444444444446,
          "xanchor": "center",
          "xref": "paper",
          "y": 0.5526315789473685,
          "yanchor": "bottom",
          "yref": "paper"
         },
         {
          "font": {
           "size": 12
          },
          "showarrow": false,
          "text": "US Airways",
          "x": 0.5,
          "xanchor": "center",
          "xref": "paper",
          "y": 0.5526315789473685,
          "yanchor": "bottom",
          "yref": "paper"
         },
         {
          "font": {
           "size": 12
          },
          "showarrow": false,
          "text": "American",
          "x": 0.8555555555555556,
          "xanchor": "center",
          "xref": "paper",
          "y": 0.5526315789473685,
          "yanchor": "bottom",
          "yref": "paper"
         }
        ],
        "height": 800,
        "margin": {
         "b": 50,
         "l": 20,
         "r": 20,
         "t": 80
        },
        "paper_bgcolor": "rgba(0,0,0,0)",
        "plot_bgcolor": "rgba(0,0,0,0)",
        "template": {
         "data": {
          "bar": [
           {
            "error_x": {
             "color": "#2a3f5f"
            },
            "error_y": {
             "color": "#2a3f5f"
            },
            "marker": {
             "line": {
              "color": "white",
              "width": 0.5
             },
             "pattern": {
              "fillmode": "overlay",
              "size": 10,
              "solidity": 0.2
             }
            },
            "type": "bar"
           }
          ],
          "barpolar": [
           {
            "marker": {
             "line": {
              "color": "white",
              "width": 0.5
             },
             "pattern": {
              "fillmode": "overlay",
              "size": 10,
              "solidity": 0.2
             }
            },
            "type": "barpolar"
           }
          ],
          "carpet": [
           {
            "aaxis": {
             "endlinecolor": "#2a3f5f",
             "gridcolor": "#C8D4E3",
             "linecolor": "#C8D4E3",
             "minorgridcolor": "#C8D4E3",
             "startlinecolor": "#2a3f5f"
            },
            "baxis": {
             "endlinecolor": "#2a3f5f",
             "gridcolor": "#C8D4E3",
             "linecolor": "#C8D4E3",
             "minorgridcolor": "#C8D4E3",
             "startlinecolor": "#2a3f5f"
            },
            "type": "carpet"
           }
          ],
          "choropleth": [
           {
            "colorbar": {
             "outlinewidth": 0,
             "ticks": ""
            },
            "type": "choropleth"
           }
          ],
          "contour": [
           {
            "colorbar": {
             "outlinewidth": 0,
             "ticks": ""
            },
            "colorscale": [
             [
              0,
              "#0d0887"
             ],
             [
              0.1111111111111111,
              "#46039f"
             ],
             [
              0.2222222222222222,
              "#7201a8"
             ],
             [
              0.3333333333333333,
              "#9c179e"
             ],
             [
              0.4444444444444444,
              "#bd3786"
             ],
             [
              0.5555555555555556,
              "#d8576b"
             ],
             [
              0.6666666666666666,
              "#ed7953"
             ],
             [
              0.7777777777777778,
              "#fb9f3a"
             ],
             [
              0.8888888888888888,
              "#fdca26"
             ],
             [
              1,
              "#f0f921"
             ]
            ],
            "type": "contour"
           }
          ],
          "contourcarpet": [
           {
            "colorbar": {
             "outlinewidth": 0,
             "ticks": ""
            },
            "type": "contourcarpet"
           }
          ],
          "heatmap": [
           {
            "colorbar": {
             "outlinewidth": 0,
             "ticks": ""
            },
            "colorscale": [
             [
              0,
              "#0d0887"
             ],
             [
              0.1111111111111111,
              "#46039f"
             ],
             [
              0.2222222222222222,
              "#7201a8"
             ],
             [
              0.3333333333333333,
              "#9c179e"
             ],
             [
              0.4444444444444444,
              "#bd3786"
             ],
             [
              0.5555555555555556,
              "#d8576b"
             ],
             [
              0.6666666666666666,
              "#ed7953"
             ],
             [
              0.7777777777777778,
              "#fb9f3a"
             ],
             [
              0.8888888888888888,
              "#fdca26"
             ],
             [
              1,
              "#f0f921"
             ]
            ],
            "type": "heatmap"
           }
          ],
          "heatmapgl": [
           {
            "colorbar": {
             "outlinewidth": 0,
             "ticks": ""
            },
            "colorscale": [
             [
              0,
              "#0d0887"
             ],
             [
              0.1111111111111111,
              "#46039f"
             ],
             [
              0.2222222222222222,
              "#7201a8"
             ],
             [
              0.3333333333333333,
              "#9c179e"
             ],
             [
              0.4444444444444444,
              "#bd3786"
             ],
             [
              0.5555555555555556,
              "#d8576b"
             ],
             [
              0.6666666666666666,
              "#ed7953"
             ],
             [
              0.7777777777777778,
              "#fb9f3a"
             ],
             [
              0.8888888888888888,
              "#fdca26"
             ],
             [
              1,
              "#f0f921"
             ]
            ],
            "type": "heatmapgl"
           }
          ],
          "histogram": [
           {
            "marker": {
             "pattern": {
              "fillmode": "overlay",
              "size": 10,
              "solidity": 0.2
             }
            },
            "type": "histogram"
           }
          ],
          "histogram2d": [
           {
            "colorbar": {
             "outlinewidth": 0,
             "ticks": ""
            },
            "colorscale": [
             [
              0,
              "#0d0887"
             ],
             [
              0.1111111111111111,
              "#46039f"
             ],
             [
              0.2222222222222222,
              "#7201a8"
             ],
             [
              0.3333333333333333,
              "#9c179e"
             ],
             [
              0.4444444444444444,
              "#bd3786"
             ],
             [
              0.5555555555555556,
              "#d8576b"
             ],
             [
              0.6666666666666666,
              "#ed7953"
             ],
             [
              0.7777777777777778,
              "#fb9f3a"
             ],
             [
              0.8888888888888888,
              "#fdca26"
             ],
             [
              1,
              "#f0f921"
             ]
            ],
            "type": "histogram2d"
           }
          ],
          "histogram2dcontour": [
           {
            "colorbar": {
             "outlinewidth": 0,
             "ticks": ""
            },
            "colorscale": [
             [
              0,
              "#0d0887"
             ],
             [
              0.1111111111111111,
              "#46039f"
             ],
             [
              0.2222222222222222,
              "#7201a8"
             ],
             [
              0.3333333333333333,
              "#9c179e"
             ],
             [
              0.4444444444444444,
              "#bd3786"
             ],
             [
              0.5555555555555556,
              "#d8576b"
             ],
             [
              0.6666666666666666,
              "#ed7953"
             ],
             [
              0.7777777777777778,
              "#fb9f3a"
             ],
             [
              0.8888888888888888,
              "#fdca26"
             ],
             [
              1,
              "#f0f921"
             ]
            ],
            "type": "histogram2dcontour"
           }
          ],
          "mesh3d": [
           {
            "colorbar": {
             "outlinewidth": 0,
             "ticks": ""
            },
            "type": "mesh3d"
           }
          ],
          "parcoords": [
           {
            "line": {
             "colorbar": {
              "outlinewidth": 0,
              "ticks": ""
             }
            },
            "type": "parcoords"
           }
          ],
          "pie": [
           {
            "automargin": true,
            "type": "pie"
           }
          ],
          "scatter": [
           {
            "fillpattern": {
             "fillmode": "overlay",
             "size": 10,
             "solidity": 0.2
            },
            "type": "scatter"
           }
          ],
          "scatter3d": [
           {
            "line": {
             "colorbar": {
              "outlinewidth": 0,
              "ticks": ""
             }
            },
            "marker": {
             "colorbar": {
              "outlinewidth": 0,
              "ticks": ""
             }
            },
            "type": "scatter3d"
           }
          ],
          "scattercarpet": [
           {
            "marker": {
             "colorbar": {
              "outlinewidth": 0,
              "ticks": ""
             }
            },
            "type": "scattercarpet"
           }
          ],
          "scattergeo": [
           {
            "marker": {
             "colorbar": {
              "outlinewidth": 0,
              "ticks": ""
             }
            },
            "type": "scattergeo"
           }
          ],
          "scattergl": [
           {
            "marker": {
             "colorbar": {
              "outlinewidth": 0,
              "ticks": ""
             }
            },
            "type": "scattergl"
           }
          ],
          "scattermapbox": [
           {
            "marker": {
             "colorbar": {
              "outlinewidth": 0,
              "ticks": ""
             }
            },
            "type": "scattermapbox"
           }
          ],
          "scatterpolar": [
           {
            "marker": {
             "colorbar": {
              "outlinewidth": 0,
              "ticks": ""
             }
            },
            "type": "scatterpolar"
           }
          ],
          "scatterpolargl": [
           {
            "marker": {
             "colorbar": {
              "outlinewidth": 0,
              "ticks": ""
             }
            },
            "type": "scatterpolargl"
           }
          ],
          "scatterternary": [
           {
            "marker": {
             "colorbar": {
              "outlinewidth": 0,
              "ticks": ""
             }
            },
            "type": "scatterternary"
           }
          ],
          "surface": [
           {
            "colorbar": {
             "outlinewidth": 0,
             "ticks": ""
            },
            "colorscale": [
             [
              0,
              "#0d0887"
             ],
             [
              0.1111111111111111,
              "#46039f"
             ],
             [
              0.2222222222222222,
              "#7201a8"
             ],
             [
              0.3333333333333333,
              "#9c179e"
             ],
             [
              0.4444444444444444,
              "#bd3786"
             ],
             [
              0.5555555555555556,
              "#d8576b"
             ],
             [
              0.6666666666666666,
              "#ed7953"
             ],
             [
              0.7777777777777778,
              "#fb9f3a"
             ],
             [
              0.8888888888888888,
              "#fdca26"
             ],
             [
              1,
              "#f0f921"
             ]
            ],
            "type": "surface"
           }
          ],
          "table": [
           {
            "cells": {
             "fill": {
              "color": "#EBF0F8"
             },
             "line": {
              "color": "white"
             }
            },
            "header": {
             "fill": {
              "color": "#C8D4E3"
             },
             "line": {
              "color": "white"
             }
            },
            "type": "table"
           }
          ]
         },
         "layout": {
          "annotationdefaults": {
           "arrowcolor": "#2a3f5f",
           "arrowhead": 0,
           "arrowwidth": 1
          },
          "autotypenumbers": "strict",
          "coloraxis": {
           "colorbar": {
            "outlinewidth": 0,
            "ticks": ""
           }
          },
          "colorscale": {
           "diverging": [
            [
             0,
             "#8e0152"
            ],
            [
             0.1,
             "#c51b7d"
            ],
            [
             0.2,
             "#de77ae"
            ],
            [
             0.3,
             "#f1b6da"
            ],
            [
             0.4,
             "#fde0ef"
            ],
            [
             0.5,
             "#f7f7f7"
            ],
            [
             0.6,
             "#e6f5d0"
            ],
            [
             0.7,
             "#b8e186"
            ],
            [
             0.8,
             "#7fbc41"
            ],
            [
             0.9,
             "#4d9221"
            ],
            [
             1,
             "#276419"
            ]
           ],
           "sequential": [
            [
             0,
             "#0d0887"
            ],
            [
             0.1111111111111111,
             "#46039f"
            ],
            [
             0.2222222222222222,
             "#7201a8"
            ],
            [
             0.3333333333333333,
             "#9c179e"
            ],
            [
             0.4444444444444444,
             "#bd3786"
            ],
            [
             0.5555555555555556,
             "#d8576b"
            ],
            [
             0.6666666666666666,
             "#ed7953"
            ],
            [
             0.7777777777777778,
             "#fb9f3a"
            ],
            [
             0.8888888888888888,
             "#fdca26"
            ],
            [
             1,
             "#f0f921"
            ]
           ],
           "sequentialminus": [
            [
             0,
             "#0d0887"
            ],
            [
             0.1111111111111111,
             "#46039f"
            ],
            [
             0.2222222222222222,
             "#7201a8"
            ],
            [
             0.3333333333333333,
             "#9c179e"
            ],
            [
             0.4444444444444444,
             "#bd3786"
            ],
            [
             0.5555555555555556,
             "#d8576b"
            ],
            [
             0.6666666666666666,
             "#ed7953"
            ],
            [
             0.7777777777777778,
             "#fb9f3a"
            ],
            [
             0.8888888888888888,
             "#fdca26"
            ],
            [
             1,
             "#f0f921"
            ]
           ]
          },
          "colorway": [
           "#636efa",
           "#EF553B",
           "#00cc96",
           "#ab63fa",
           "#FFA15A",
           "#19d3f3",
           "#FF6692",
           "#B6E880",
           "#FF97FF",
           "#FECB52"
          ],
          "font": {
           "color": "#2a3f5f"
          },
          "geo": {
           "bgcolor": "white",
           "lakecolor": "white",
           "landcolor": "white",
           "showlakes": true,
           "showland": true,
           "subunitcolor": "#C8D4E3"
          },
          "hoverlabel": {
           "align": "left"
          },
          "hovermode": "closest",
          "mapbox": {
           "style": "light"
          },
          "paper_bgcolor": "white",
          "plot_bgcolor": "white",
          "polar": {
           "angularaxis": {
            "gridcolor": "#EBF0F8",
            "linecolor": "#EBF0F8",
            "ticks": ""
           },
           "bgcolor": "white",
           "radialaxis": {
            "gridcolor": "#EBF0F8",
            "linecolor": "#EBF0F8",
            "ticks": ""
           }
          },
          "scene": {
           "xaxis": {
            "backgroundcolor": "white",
            "gridcolor": "#DFE8F3",
            "gridwidth": 2,
            "linecolor": "#EBF0F8",
            "showbackground": true,
            "ticks": "",
            "zerolinecolor": "#EBF0F8"
           },
           "yaxis": {
            "backgroundcolor": "white",
            "gridcolor": "#DFE8F3",
            "gridwidth": 2,
            "linecolor": "#EBF0F8",
            "showbackground": true,
            "ticks": "",
            "zerolinecolor": "#EBF0F8"
           },
           "zaxis": {
            "backgroundcolor": "white",
            "gridcolor": "#DFE8F3",
            "gridwidth": 2,
            "linecolor": "#EBF0F8",
            "showbackground": true,
            "ticks": "",
            "zerolinecolor": "#EBF0F8"
           }
          },
          "shapedefaults": {
           "line": {
            "color": "#2a3f5f"
           }
          },
          "ternary": {
           "aaxis": {
            "gridcolor": "#DFE8F3",
            "linecolor": "#A2B1C6",
            "ticks": ""
           },
           "baxis": {
            "gridcolor": "#DFE8F3",
            "linecolor": "#A2B1C6",
            "ticks": ""
           },
           "bgcolor": "white",
           "caxis": {
            "gridcolor": "#DFE8F3",
            "linecolor": "#A2B1C6",
            "ticks": ""
           }
          },
          "title": {
           "x": 0.05
          },
          "xaxis": {
           "automargin": true,
           "gridcolor": "#EBF0F8",
           "linecolor": "#EBF0F8",
           "ticks": "",
           "title": {
            "standoff": 15
           },
           "zerolinecolor": "#EBF0F8",
           "zerolinewidth": 2
          },
          "yaxis": {
           "automargin": true,
           "gridcolor": "#EBF0F8",
           "linecolor": "#EBF0F8",
           "ticks": "",
           "title": {
            "standoff": 15
           },
           "zerolinecolor": "#EBF0F8",
           "zerolinewidth": 2
          }
         }
        },
        "title": {
         "font": {
          "family": "Calibri",
          "size": 18
         },
         "text": "Distribution of Negative Sentiment Tweet Length (by Words) for Each Airline"
        },
        "xaxis": {
         "anchor": "y",
         "domain": [
          0,
          0.2888888888888889
         ],
         "title": {
          "text": "Text Length"
         }
        },
        "xaxis2": {
         "anchor": "y2",
         "domain": [
          0.35555555555555557,
          0.6444444444444445
         ],
         "title": {
          "text": "Text Length"
         }
        },
        "xaxis3": {
         "anchor": "y3",
         "domain": [
          0.7111111111111111,
          1
         ],
         "title": {
          "text": "Text Length"
         }
        },
        "xaxis4": {
         "anchor": "y4",
         "domain": [
          0,
          0.2888888888888889
         ],
         "title": {
          "text": "Text Length"
         }
        },
        "xaxis5": {
         "anchor": "y5",
         "domain": [
          0.35555555555555557,
          0.6444444444444445
         ],
         "title": {
          "text": "Text Length"
         }
        },
        "xaxis6": {
         "anchor": "y6",
         "domain": [
          0.7111111111111111,
          1
         ],
         "title": {
          "text": "Text Length"
         }
        },
        "xaxis7": {
         "anchor": "y7",
         "domain": [
          0,
          0.2888888888888889
         ]
        },
        "xaxis8": {
         "anchor": "y8",
         "domain": [
          0.35555555555555557,
          0.6444444444444445
         ]
        },
        "xaxis9": {
         "anchor": "y9",
         "domain": [
          0.7111111111111111,
          1
         ]
        },
        "yaxis": {
         "anchor": "x",
         "domain": [
          0.7192982456140351,
          1
         ],
         "title": {
          "text": "Frequency"
         }
        },
        "yaxis2": {
         "anchor": "x2",
         "domain": [
          0.7192982456140351,
          1
         ],
         "title": {
          "text": "Frequency"
         }
        },
        "yaxis3": {
         "anchor": "x3",
         "domain": [
          0.7192982456140351,
          1
         ],
         "title": {
          "text": "Frequency"
         }
        },
        "yaxis4": {
         "anchor": "x4",
         "domain": [
          0.2719298245614035,
          0.5526315789473685
         ],
         "title": {
          "text": "Frequency"
         }
        },
        "yaxis5": {
         "anchor": "x5",
         "domain": [
          0.2719298245614035,
          0.5526315789473685
         ],
         "title": {
          "text": "Frequency"
         }
        },
        "yaxis6": {
         "anchor": "x6",
         "domain": [
          0.2719298245614035,
          0.5526315789473685
         ],
         "title": {
          "text": "Frequency"
         }
        },
        "yaxis7": {
         "anchor": "x7",
         "domain": [
          0,
          0.10526315789473685
         ]
        },
        "yaxis8": {
         "anchor": "x8",
         "domain": [
          0,
          0.10526315789473685
         ]
        },
        "yaxis9": {
         "anchor": "x9",
         "domain": [
          0,
          0.10526315789473685
         ]
        }
       }
      }
     },
     "metadata": {},
     "output_type": "display_data"
    }
   ],
   "source": [
    "# Negative Sentiment Text Length\n",
    "\n",
    "color_discrete_map = {\n",
    "    \"American\": \"#00a9e0\",\n",
    "    \"United\": \"#005DAA\",\n",
    "    \"Southwest\": \"#F9B612\",\n",
    "    \"Delta\": \"#c8102e\",\n",
    "    \"US Airways\": \"#bdc1c4\",\n",
    "    \"Virgin America\": \"#5b056a\"\n",
    "}\n",
    "\n",
    "unique_airlines = tweets_noneg['airline'].unique()\n",
    "\n",
    "neg_only = tweets_noneg[tweets_noneg['airline_sentiment'] == 'negative']\n",
    "\n",
    "neg_only['length_stopwords'] = tweets_noneg.cleaned_text_stopwords.str.split().apply(len)\n",
    "\n",
    "# Create subplots for each airline\n",
    "fig = make_subplots(\n",
    "    rows=len(unique_airlines) // 3 + 1, cols=3,\n",
    "    subplot_titles=unique_airlines,\n",
    "    column_widths=[0.15, 0.15, 0.15],\n",
    "    row_heights=[0.4] * (len(unique_airlines) // 3) + [0.15],\n",
    "    specs=[[{'type': 'xy'}, {'type': 'xy'}, {'type': 'xy'}] for _ in range(len(unique_airlines) // 3 + 1)]\n",
    ")\n",
    "\n",
    "# Create histograms for each airline\n",
    "for i, airline in enumerate(unique_airlines):\n",
    "    subset = neg_only[neg_only['airline'] == airline]\n",
    "\n",
    "    histogram = go.Histogram(\n",
    "        x=subset['length_stopwords'],\n",
    "        nbinsx=20,\n",
    "        marker=dict(color=color_discrete_map.get(airline, 'gray'), line=dict(color='white', width=1.5)),\n",
    "        opacity=0.7,\n",
    "        name=airline\n",
    "    )\n",
    "\n",
    "    # Add histogram to subplot\n",
    "    fig.add_trace(histogram, row=i // 3 + 1, col=i % 3 + 1)\n",
    "\n",
    "    # Add explicit x-axis and y-axis labels\n",
    "    fig.update_xaxes(title_text='Text Length', row=i // 3 + 1, col=i % 3 + 1)\n",
    "    fig.update_yaxes(title_text='Frequency', row=i // 3 + 1, col=i % 3 + 1)\n",
    "\n",
    "# Update layout for subplot-like appearance\n",
    "fig.update_layout(\n",
    "    title='Distribution of Negative Sentiment Tweet Length (by Words) for Each Airline',\n",
    "    template='plotly_white',\n",
    "    height=800,\n",
    "    margin=dict(l=20, r=20, b=50, t=80),\n",
    "    paper_bgcolor='rgba(0,0,0,0)',\n",
    "    plot_bgcolor='rgba(0,0,0,0)'\n",
    ")\n",
    "\n",
    "# Update title font size\n",
    "fig.update_layout(\n",
    "    title_font=dict(size=18),\n",
    "    title_font_family=\"Calibri\",\n",
    ")\n",
    "\n",
    "# Update subplot title font size\n",
    "fig.update_annotations(font=dict(size=12))\n",
    "\n",
    "fig.show()\n"
   ]
  },
  {
   "cell_type": "code",
   "execution_count": 240,
   "metadata": {},
   "outputs": [
    {
     "data": {
      "application/vnd.plotly.v1+json": {
       "config": {
        "plotlyServerURL": "https://plot.ly"
       },
       "data": [
        {
         "marker": {
          "color": "#5b056a",
          "line": {
           "color": "white",
           "width": 1.5
          }
         },
         "name": "Virgin America",
         "nbinsx": 20,
         "opacity": 0.7,
         "type": "histogram",
         "x": [
          9,
          14,
          8,
          14,
          12,
          26,
          17,
          22,
          3,
          17,
          5,
          12,
          17,
          15,
          10,
          16,
          9,
          7,
          16,
          11,
          9,
          13,
          14,
          21,
          14,
          20,
          14,
          5,
          18,
          19,
          15,
          24,
          20,
          18,
          21,
          18,
          17,
          3,
          12,
          21,
          12,
          13,
          13,
          6,
          13,
          7,
          8,
          2,
          16,
          14,
          13,
          6,
          21,
          27,
          11,
          13,
          21,
          19,
          2,
          8,
          11,
          4,
          12,
          4,
          21,
          11,
          4,
          6,
          18,
          9,
          24,
          15,
          11,
          20,
          20,
          7,
          8,
          20,
          3,
          11,
          3,
          14,
          19,
          27,
          11,
          10,
          11,
          6,
          14,
          3,
          2,
          12,
          11,
          17,
          24,
          18,
          18,
          13,
          15,
          8,
          17,
          12,
          29,
          23,
          23,
          18,
          15,
          11,
          9,
          12,
          3,
          7,
          20,
          14,
          4,
          6,
          10,
          9,
          26,
          17,
          12,
          24,
          3,
          8,
          9,
          14,
          13,
          7,
          13,
          3,
          22,
          16,
          17,
          21,
          17,
          9,
          19,
          13,
          12,
          12,
          18,
          5,
          19,
          18,
          9,
          14,
          13,
          18,
          22
         ],
         "xaxis": "x",
         "yaxis": "y"
        },
        {
         "marker": {
          "color": "#005DAA",
          "line": {
           "color": "white",
           "width": 1.5
          }
         },
         "name": "United",
         "nbinsx": 20,
         "opacity": 0.7,
         "type": "histogram",
         "x": [
          10,
          14,
          8,
          8,
          25,
          21,
          18,
          23,
          11,
          25,
          12,
          4,
          15,
          17,
          14,
          4,
          21,
          5,
          16,
          13,
          21,
          16,
          12,
          27,
          18,
          24,
          6,
          22,
          25,
          29,
          5,
          3,
          5,
          16,
          9,
          18,
          28,
          10,
          19,
          8,
          20,
          6,
          21,
          12,
          21,
          18,
          5,
          19,
          24,
          9,
          6,
          12,
          24,
          25,
          3,
          8,
          8,
          7,
          21,
          18,
          12,
          24,
          14,
          7,
          11,
          22,
          23,
          20,
          18,
          9,
          3,
          16,
          9,
          11,
          13,
          19,
          7,
          13,
          17,
          15,
          4,
          25,
          17,
          5,
          12,
          11,
          19,
          17,
          21,
          10,
          7,
          27,
          18,
          4,
          25,
          10,
          21,
          17,
          15,
          10,
          23,
          22,
          6,
          10,
          9,
          20,
          8,
          17,
          9,
          14,
          8,
          23,
          15,
          9,
          15,
          25,
          9,
          6,
          16,
          24,
          14,
          17,
          17,
          21,
          25,
          29,
          26,
          24,
          13,
          21,
          13,
          10,
          22,
          18,
          18,
          7,
          24,
          20,
          16,
          12,
          11,
          16,
          8,
          25,
          14,
          13,
          5,
          21,
          14,
          13,
          10,
          11,
          27,
          3,
          10,
          22,
          15,
          3,
          24,
          5,
          5,
          17,
          23,
          13,
          10,
          11,
          8,
          13,
          4,
          10,
          8,
          16,
          11,
          14,
          17,
          10,
          10,
          14,
          10,
          26,
          6,
          24,
          11,
          25,
          22,
          4,
          18,
          24,
          3,
          14,
          12,
          23,
          17,
          14,
          15,
          23,
          23,
          17,
          9,
          10,
          7,
          4,
          21,
          16,
          19,
          6,
          5,
          18,
          11,
          17,
          23,
          19,
          14,
          8,
          19,
          14,
          19,
          16,
          14,
          10,
          7,
          14,
          6,
          5,
          28,
          11,
          18,
          4,
          26,
          7,
          10,
          9,
          15,
          17,
          15,
          3,
          21,
          10,
          11,
          11,
          19,
          10,
          20,
          26,
          15,
          7,
          28,
          7,
          3,
          23,
          6,
          22,
          24,
          20,
          14,
          23,
          23,
          7,
          7,
          24,
          19,
          6,
          21,
          24,
          6,
          13,
          19,
          11,
          19,
          21,
          16,
          7,
          6,
          15,
          9,
          19,
          9,
          4,
          24,
          17,
          25,
          5,
          25,
          2,
          20,
          20,
          5,
          5,
          5,
          5,
          12,
          22,
          21,
          3,
          22,
          14,
          10,
          22,
          6,
          22,
          18,
          24,
          6,
          16,
          13,
          6,
          10,
          20,
          20,
          6,
          17,
          6,
          6,
          7,
          16,
          7,
          25,
          11,
          7,
          11,
          4,
          23,
          17,
          19,
          13,
          13,
          14,
          12,
          15,
          20,
          5,
          23,
          5,
          11,
          13,
          16,
          4,
          14,
          5,
          9,
          10,
          3,
          25,
          12,
          14,
          8,
          18,
          9,
          18,
          20,
          22,
          5,
          3,
          22,
          8,
          16,
          13,
          11,
          22,
          27,
          24,
          5,
          10,
          3,
          11,
          3,
          14,
          6,
          15,
          7,
          4,
          21,
          4,
          30,
          8,
          19,
          7,
          2,
          20,
          11,
          12,
          19,
          6,
          15,
          4,
          16,
          21,
          26,
          23,
          10,
          2,
          21,
          6,
          11,
          17,
          19,
          4,
          23,
          20,
          21,
          14,
          24,
          24,
          20,
          26,
          9,
          6,
          20,
          20,
          3,
          22,
          13,
          10,
          13,
          16,
          11,
          23,
          21,
          4,
          29,
          16,
          26,
          13,
          26,
          4,
          6,
          15,
          3,
          25,
          12,
          14,
          17,
          27,
          18,
          19,
          21,
          23,
          20,
          12,
          9,
          23,
          19,
          10,
          22,
          18,
          23,
          19,
          22,
          3,
          16,
          2,
          20,
          2,
          15,
          23,
          21,
          23,
          16,
          24,
          5,
          3,
          8,
          7,
          19,
          11,
          20,
          27,
          24,
          11,
          19,
          21,
          18,
          20,
          26,
          28,
          6,
          20,
          19
         ],
         "xaxis": "x2",
         "yaxis": "y2"
        },
        {
         "marker": {
          "color": "#F9B612",
          "line": {
           "color": "white",
           "width": 1.5
          }
         },
         "name": "Southwest",
         "nbinsx": 20,
         "opacity": 0.7,
         "type": "histogram",
         "x": [
          9,
          8,
          20,
          19,
          13,
          18,
          16,
          7,
          21,
          4,
          14,
          20,
          10,
          14,
          18,
          18,
          16,
          16,
          7,
          8,
          15,
          16,
          25,
          14,
          7,
          6,
          12,
          15,
          24,
          26,
          13,
          11,
          17,
          22,
          16,
          18,
          27,
          22,
          22,
          6,
          2,
          12,
          16,
          19,
          22,
          2,
          8,
          8,
          3,
          16,
          13,
          4,
          5,
          3,
          18,
          22,
          23,
          10,
          22,
          16,
          15,
          23,
          23,
          23,
          25,
          17,
          7,
          23,
          13,
          16,
          23,
          10,
          18,
          12,
          17,
          3,
          18,
          8,
          18,
          25,
          22,
          24,
          24,
          22,
          7,
          23,
          16,
          17,
          12,
          14,
          14,
          21,
          7,
          6,
          17,
          17,
          7,
          11,
          24,
          14,
          19,
          25,
          9,
          11,
          13,
          2,
          10,
          14,
          22,
          8,
          12,
          3,
          9,
          9,
          5,
          24,
          8,
          21,
          26,
          8,
          5,
          3,
          18,
          23,
          10,
          15,
          13,
          26,
          8,
          20,
          13,
          9,
          3,
          23,
          13,
          8,
          4,
          16,
          15,
          13,
          10,
          14,
          3,
          4,
          7,
          23,
          26,
          2,
          11,
          20,
          23,
          18,
          25,
          17,
          4,
          3,
          25,
          12,
          12,
          11,
          12,
          23,
          9,
          20,
          14,
          22,
          14,
          19,
          14,
          10,
          21,
          7,
          11,
          11,
          5,
          17,
          22,
          5,
          28,
          21,
          8,
          12,
          5,
          17,
          18,
          15,
          11,
          23,
          17,
          26,
          11,
          17,
          17,
          20,
          11,
          14,
          17,
          22,
          19,
          10,
          10,
          14,
          23,
          19,
          27,
          8,
          11,
          22,
          5,
          16,
          7,
          11,
          9,
          18,
          22,
          10,
          15,
          8,
          5,
          10,
          4,
          20,
          18,
          23,
          24,
          21,
          14,
          25,
          6,
          20,
          9,
          17,
          18,
          23,
          4,
          21,
          22,
          15,
          9,
          21,
          18,
          19,
          11,
          14,
          25,
          19,
          9,
          18,
          10,
          21,
          8,
          22,
          19,
          10,
          19,
          9,
          23,
          13,
          19,
          15,
          9,
          13,
          17,
          15,
          5,
          2,
          17,
          24,
          20,
          17,
          12,
          16,
          5,
          13,
          17,
          15,
          10,
          17,
          11,
          5,
          11,
          13,
          6,
          14,
          9,
          11,
          4,
          13,
          11,
          12,
          27,
          8,
          15,
          8,
          20,
          13,
          3,
          27,
          3,
          24,
          9,
          16,
          7,
          14,
          8,
          4,
          21,
          4,
          11,
          13,
          13,
          10,
          10,
          17,
          8,
          22,
          17,
          12,
          10,
          8,
          14,
          10,
          20,
          18,
          22,
          17,
          20,
          12,
          18,
          21,
          21,
          11,
          24,
          11,
          15,
          11,
          5,
          5,
          24,
          14,
          3,
          3,
          16,
          18,
          5,
          18,
          11,
          15,
          22,
          19,
          3,
          24,
          26,
          5,
          16,
          25,
          20,
          14,
          21,
          19,
          13,
          9,
          19,
          16,
          23,
          16,
          14,
          7,
          22,
          23,
          16,
          6,
          14,
          5,
          13,
          3,
          4,
          10,
          4,
          20,
          12,
          14,
          13,
          18,
          20,
          9,
          8,
          9,
          10,
          2,
          12,
          16,
          16,
          19,
          14,
          8,
          6,
          12,
          22,
          23,
          16,
          16,
          22,
          8,
          17,
          17,
          14,
          13,
          4,
          16,
          6,
          9,
          14,
          27,
          12,
          19,
          15,
          9,
          6,
          16,
          14,
          18,
          7,
          5,
          15,
          9,
          16,
          4,
          21,
          15,
          16,
          27,
          16,
          25,
          8,
          13,
          22,
          16,
          20,
          20,
          8,
          7,
          9,
          13,
          23,
          4,
          15,
          18,
          10,
          23,
          7,
          11,
          5,
          22,
          17,
          3,
          5,
          5,
          14,
          4,
          7,
          5,
          12,
          7,
          20,
          16,
          4,
          3,
          6,
          10,
          9,
          14,
          22,
          25,
          9,
          17,
          4,
          12,
          26,
          16,
          7,
          10,
          23,
          19,
          6,
          14,
          6,
          22,
          19,
          11,
          7,
          5,
          15,
          7,
          28,
          19,
          7,
          20,
          30,
          7,
          20,
          27,
          18,
          9,
          3,
          5,
          7,
          12,
          3,
          16,
          5,
          20,
          3,
          14,
          13,
          4,
          14,
          23,
          11,
          23,
          16,
          2,
          19,
          20,
          19,
          5,
          27,
          22,
          11,
          6,
          25,
          4,
          21,
          20,
          19,
          9,
          16,
          17,
          10,
          5,
          20,
          8,
          20,
          20,
          7,
          7,
          24,
          4,
          22,
          7,
          5,
          18,
          7,
          19,
          3,
          21,
          14,
          16,
          16,
          3,
          7,
          2,
          5,
          12,
          6
         ],
         "xaxis": "x3",
         "yaxis": "y3"
        },
        {
         "marker": {
          "color": "#c8102e",
          "line": {
           "color": "white",
           "width": 1.5
          }
         },
         "name": "Delta",
         "nbinsx": 20,
         "opacity": 0.7,
         "type": "histogram",
         "x": [
          14,
          6,
          2,
          20,
          8,
          6,
          21,
          16,
          16,
          14,
          11,
          18,
          25,
          9,
          11,
          23,
          10,
          5,
          22,
          10,
          21,
          14,
          17,
          20,
          6,
          5,
          21,
          4,
          16,
          18,
          15,
          18,
          9,
          9,
          13,
          3,
          25,
          4,
          8,
          12,
          9,
          22,
          5,
          26,
          6,
          9,
          8,
          16,
          15,
          4,
          15,
          21,
          10,
          25,
          15,
          17,
          14,
          21,
          12,
          3,
          13,
          9,
          6,
          8,
          6,
          18,
          7,
          15,
          22,
          7,
          7,
          8,
          11,
          20,
          3,
          10,
          23,
          7,
          9,
          5,
          21,
          6,
          6,
          9,
          16,
          3,
          10,
          3,
          5,
          21,
          12,
          20,
          7,
          28,
          12,
          14,
          5,
          11,
          2,
          15,
          18,
          20,
          18,
          13,
          27,
          20,
          20,
          7,
          12,
          21,
          5,
          17,
          20,
          9,
          10,
          19,
          2,
          6,
          4,
          5,
          21,
          5,
          13,
          5,
          22,
          16,
          8,
          24,
          15,
          6,
          15,
          20,
          25,
          7,
          19,
          8,
          5,
          24,
          13,
          4,
          10,
          3,
          6,
          12,
          18,
          9,
          18,
          14,
          6,
          9,
          19,
          16,
          7,
          21,
          16,
          15,
          10,
          19,
          17,
          19,
          11,
          11,
          9,
          24,
          7,
          22,
          7,
          15,
          17,
          5,
          13,
          12,
          9,
          18,
          8,
          4,
          22,
          9,
          17,
          14,
          5,
          24,
          14,
          17,
          13,
          13,
          20,
          19,
          23,
          7,
          4,
          9,
          12,
          16,
          11,
          4,
          8,
          18,
          12,
          16,
          13,
          27,
          11,
          10,
          27,
          15,
          14,
          15,
          20,
          16,
          15,
          4,
          10,
          3,
          8,
          4,
          8,
          22,
          10,
          10,
          4,
          4,
          8,
          22,
          25,
          13,
          21,
          24,
          15,
          5,
          16,
          7,
          13,
          20,
          9,
          9,
          4,
          21,
          17,
          12,
          15,
          13,
          14,
          12,
          3,
          5,
          3,
          3,
          5,
          8,
          8,
          11,
          2,
          18,
          11,
          8,
          17,
          17,
          10,
          14,
          11,
          2,
          10,
          5,
          11,
          7,
          9,
          13,
          16,
          6,
          5,
          15,
          4,
          5,
          26,
          17,
          8,
          18,
          22,
          21,
          13,
          8,
          8,
          22,
          17,
          17,
          19,
          16,
          11,
          13,
          22,
          18,
          5,
          8,
          27,
          20,
          15,
          7,
          12,
          4,
          25,
          24,
          25,
          6,
          5,
          5,
          12,
          12,
          18,
          11,
          23,
          19,
          7,
          5,
          4,
          12,
          9,
          7,
          20,
          27,
          11,
          9,
          4,
          6,
          28,
          15,
          5,
          13,
          3,
          10,
          19,
          23,
          4,
          27,
          16,
          7,
          7,
          16,
          22,
          8,
          8,
          25,
          21,
          3,
          19,
          26,
          17,
          19,
          5,
          6,
          19,
          9,
          25,
          22,
          16,
          20,
          29,
          12,
          13,
          12,
          24,
          4,
          19,
          6,
          3,
          18,
          11,
          7,
          13,
          16,
          27,
          15,
          8,
          9,
          16,
          2,
          5,
          13,
          16,
          11,
          3,
          10,
          9,
          11,
          18,
          14,
          2,
          5,
          4,
          6,
          4,
          22,
          21,
          14,
          25,
          11,
          12,
          14,
          5,
          3,
          19,
          21,
          6,
          7,
          7,
          13,
          7,
          4,
          25,
          19,
          9,
          17,
          13,
          19,
          23,
          20,
          15,
          23,
          6,
          31,
          11,
          16,
          4,
          12,
          23,
          26,
          11,
          23,
          7,
          14,
          3,
          11,
          20,
          23,
          10,
          4,
          11,
          3,
          8,
          15,
          7,
          21,
          5,
          23,
          11,
          11,
          23,
          17,
          8,
          5,
          2,
          20,
          16,
          10,
          15,
          10,
          15,
          16,
          29,
          15,
          13,
          9,
          14,
          10,
          5,
          4,
          6,
          14,
          14,
          12,
          18,
          25,
          15,
          8,
          29,
          9,
          18,
          20,
          11,
          20,
          24,
          7,
          20,
          11,
          5,
          21,
          19,
          23,
          5,
          11,
          26,
          8,
          16,
          6,
          23,
          9,
          15,
          11,
          6,
          8,
          16,
          2,
          10,
          11,
          11,
          20,
          6,
          5,
          17,
          13,
          3,
          11,
          20,
          21,
          22,
          15,
          15,
          12,
          9,
          19,
          19,
          20,
          8,
          11,
          4,
          18,
          14,
          18,
          20,
          3,
          13,
          19,
          25
         ],
         "xaxis": "x4",
         "yaxis": "y4"
        },
        {
         "marker": {
          "color": "#bdc1c4",
          "line": {
           "color": "white",
           "width": 1.5
          }
         },
         "name": "US Airways",
         "nbinsx": 20,
         "opacity": 0.7,
         "type": "histogram",
         "x": [
          13,
          25,
          9,
          4,
          3,
          20,
          5,
          2,
          5,
          21,
          15,
          6,
          8,
          18,
          19,
          26,
          14,
          22,
          25,
          24,
          10,
          14,
          21,
          8,
          17,
          8,
          7,
          14,
          3,
          12,
          16,
          9,
          21,
          14,
          8,
          25,
          23,
          10,
          15,
          12,
          12,
          5,
          15,
          16,
          15,
          9,
          3,
          23,
          19,
          5,
          29,
          3,
          23,
          2,
          17,
          9,
          11,
          25,
          11,
          8,
          9,
          29,
          21,
          24,
          22,
          13,
          4,
          28,
          17,
          20,
          14,
          12,
          21,
          12,
          15,
          21,
          22,
          24,
          14,
          22,
          11,
          23,
          3,
          6,
          20,
          2,
          13,
          13,
          25,
          8,
          27,
          3,
          25,
          16,
          22,
          20,
          23,
          22,
          26,
          19,
          15,
          15,
          14,
          19,
          25,
          20,
          20,
          5,
          11,
          20,
          20,
          23,
          14,
          4,
          4,
          18,
          26,
          19,
          19,
          10,
          3,
          16,
          16,
          8,
          7,
          22,
          22,
          13,
          19,
          16,
          16,
          22,
          17,
          6,
          17,
          24,
          6,
          3,
          3,
          10,
          9,
          23,
          19,
          6,
          26,
          12,
          20,
          8,
          17,
          14,
          8,
          23,
          24,
          24,
          8,
          22,
          12,
          26,
          30,
          9,
          8,
          5,
          18,
          18,
          4,
          26,
          11,
          13,
          25,
          9,
          8,
          4,
          25,
          17,
          25,
          25,
          10,
          3,
          15,
          2,
          22,
          9,
          23,
          6,
          8,
          8,
          10,
          6,
          23,
          19,
          20,
          12,
          10,
          28,
          10,
          2,
          25,
          10,
          23,
          2,
          10,
          19,
          19,
          16,
          16,
          5,
          2,
          8,
          4,
          24,
          13,
          14,
          9,
          23,
          8,
          17,
          9,
          26,
          20,
          5,
          3,
          13,
          6,
          15,
          25,
          7,
          18,
          19,
          14,
          23,
          4,
          4,
          17,
          23,
          21,
          4,
          10,
          9,
          11,
          2,
          9,
          16,
          26,
          9,
          2,
          11,
          24,
          24,
          24,
          7,
          11,
          6,
          9,
          17,
          6,
          15,
          12,
          9,
          12,
          2,
          23,
          9,
          14
         ],
         "xaxis": "x5",
         "yaxis": "y5"
        },
        {
         "marker": {
          "color": "#00a9e0",
          "line": {
           "color": "white",
           "width": 1.5
          }
         },
         "name": "American",
         "nbinsx": 20,
         "opacity": 0.7,
         "type": "histogram",
         "x": [
          24,
          5,
          4,
          17,
          6,
          24,
          9,
          2,
          16,
          4,
          6,
          19,
          15,
          10,
          18,
          3,
          3,
          25,
          9,
          21,
          20,
          24,
          6,
          4,
          18,
          9,
          14,
          11,
          6,
          11,
          18,
          5,
          19,
          24,
          15,
          12,
          15,
          21,
          8,
          5,
          23,
          4,
          22,
          13,
          4,
          23,
          19,
          18,
          17,
          10,
          12,
          13,
          16,
          5,
          5,
          11,
          5,
          6,
          23,
          12,
          16,
          13,
          23,
          9,
          7,
          17,
          20,
          23,
          14,
          11,
          22,
          25,
          16,
          3,
          12,
          16,
          2,
          11,
          23,
          23,
          14,
          22,
          14,
          11,
          25,
          13,
          21,
          24,
          17,
          24,
          4,
          4,
          11,
          11,
          8,
          19,
          15,
          23,
          3,
          22,
          18,
          22,
          16,
          2,
          8,
          15,
          4,
          14,
          16,
          20,
          14,
          18,
          13,
          19,
          22,
          16,
          10,
          25,
          15,
          20,
          8,
          12,
          8,
          11,
          5,
          6,
          16,
          4,
          19,
          13,
          25,
          3,
          8,
          24,
          17,
          22,
          17,
          5,
          9,
          9,
          21,
          6,
          22,
          19,
          20,
          17,
          13,
          2,
          7,
          16,
          11,
          19,
          6,
          16,
          15,
          22,
          2,
          16,
          4,
          11,
          17,
          12,
          17,
          3,
          13,
          19,
          12,
          24,
          24,
          8,
          4,
          5,
          21,
          13,
          13,
          24,
          12,
          7,
          26,
          20,
          15,
          6,
          18,
          9,
          23,
          15,
          24,
          9,
          11,
          16,
          15,
          25,
          19,
          3,
          6,
          23,
          15,
          11,
          19,
          14,
          15,
          12,
          12,
          17,
          25,
          4,
          30,
          22,
          9,
          13,
          10,
          26,
          6,
          2,
          7,
          7,
          21,
          11,
          4,
          15,
          20,
          25,
          17,
          5,
          23,
          19,
          22,
          4,
          8,
          6,
          23,
          22,
          21,
          21,
          26,
          18,
          24,
          15,
          9,
          16,
          23,
          15,
          12,
          5,
          11,
          6,
          6,
          5,
          19,
          17,
          21,
          20,
          10,
          10,
          14,
          9,
          18,
          20,
          25,
          19,
          7,
          28,
          3,
          19,
          13,
          20,
          9,
          23,
          17,
          11,
          23,
          11,
          10,
          7,
          8,
          18,
          12,
          17,
          20,
          21,
          15,
          4,
          24,
          27,
          20,
          7,
          6,
          22,
          6,
          17,
          24,
          12,
          16,
          4,
          11
         ],
         "xaxis": "x6",
         "yaxis": "y6"
        }
       ],
       "layout": {
        "annotations": [
         {
          "font": {
           "size": 12
          },
          "showarrow": false,
          "text": "Virgin America",
          "x": 0.14444444444444446,
          "xanchor": "center",
          "xref": "paper",
          "y": 1,
          "yanchor": "bottom",
          "yref": "paper"
         },
         {
          "font": {
           "size": 12
          },
          "showarrow": false,
          "text": "United",
          "x": 0.5,
          "xanchor": "center",
          "xref": "paper",
          "y": 1,
          "yanchor": "bottom",
          "yref": "paper"
         },
         {
          "font": {
           "size": 12
          },
          "showarrow": false,
          "text": "Southwest",
          "x": 0.8555555555555556,
          "xanchor": "center",
          "xref": "paper",
          "y": 1,
          "yanchor": "bottom",
          "yref": "paper"
         },
         {
          "font": {
           "size": 12
          },
          "showarrow": false,
          "text": "Delta",
          "x": 0.14444444444444446,
          "xanchor": "center",
          "xref": "paper",
          "y": 0.5526315789473685,
          "yanchor": "bottom",
          "yref": "paper"
         },
         {
          "font": {
           "size": 12
          },
          "showarrow": false,
          "text": "US Airways",
          "x": 0.5,
          "xanchor": "center",
          "xref": "paper",
          "y": 0.5526315789473685,
          "yanchor": "bottom",
          "yref": "paper"
         },
         {
          "font": {
           "size": 12
          },
          "showarrow": false,
          "text": "American",
          "x": 0.8555555555555556,
          "xanchor": "center",
          "xref": "paper",
          "y": 0.5526315789473685,
          "yanchor": "bottom",
          "yref": "paper"
         }
        ],
        "height": 800,
        "margin": {
         "b": 50,
         "l": 20,
         "r": 20,
         "t": 80
        },
        "paper_bgcolor": "rgba(0,0,0,0)",
        "plot_bgcolor": "rgba(0,0,0,0)",
        "template": {
         "data": {
          "bar": [
           {
            "error_x": {
             "color": "#2a3f5f"
            },
            "error_y": {
             "color": "#2a3f5f"
            },
            "marker": {
             "line": {
              "color": "white",
              "width": 0.5
             },
             "pattern": {
              "fillmode": "overlay",
              "size": 10,
              "solidity": 0.2
             }
            },
            "type": "bar"
           }
          ],
          "barpolar": [
           {
            "marker": {
             "line": {
              "color": "white",
              "width": 0.5
             },
             "pattern": {
              "fillmode": "overlay",
              "size": 10,
              "solidity": 0.2
             }
            },
            "type": "barpolar"
           }
          ],
          "carpet": [
           {
            "aaxis": {
             "endlinecolor": "#2a3f5f",
             "gridcolor": "#C8D4E3",
             "linecolor": "#C8D4E3",
             "minorgridcolor": "#C8D4E3",
             "startlinecolor": "#2a3f5f"
            },
            "baxis": {
             "endlinecolor": "#2a3f5f",
             "gridcolor": "#C8D4E3",
             "linecolor": "#C8D4E3",
             "minorgridcolor": "#C8D4E3",
             "startlinecolor": "#2a3f5f"
            },
            "type": "carpet"
           }
          ],
          "choropleth": [
           {
            "colorbar": {
             "outlinewidth": 0,
             "ticks": ""
            },
            "type": "choropleth"
           }
          ],
          "contour": [
           {
            "colorbar": {
             "outlinewidth": 0,
             "ticks": ""
            },
            "colorscale": [
             [
              0,
              "#0d0887"
             ],
             [
              0.1111111111111111,
              "#46039f"
             ],
             [
              0.2222222222222222,
              "#7201a8"
             ],
             [
              0.3333333333333333,
              "#9c179e"
             ],
             [
              0.4444444444444444,
              "#bd3786"
             ],
             [
              0.5555555555555556,
              "#d8576b"
             ],
             [
              0.6666666666666666,
              "#ed7953"
             ],
             [
              0.7777777777777778,
              "#fb9f3a"
             ],
             [
              0.8888888888888888,
              "#fdca26"
             ],
             [
              1,
              "#f0f921"
             ]
            ],
            "type": "contour"
           }
          ],
          "contourcarpet": [
           {
            "colorbar": {
             "outlinewidth": 0,
             "ticks": ""
            },
            "type": "contourcarpet"
           }
          ],
          "heatmap": [
           {
            "colorbar": {
             "outlinewidth": 0,
             "ticks": ""
            },
            "colorscale": [
             [
              0,
              "#0d0887"
             ],
             [
              0.1111111111111111,
              "#46039f"
             ],
             [
              0.2222222222222222,
              "#7201a8"
             ],
             [
              0.3333333333333333,
              "#9c179e"
             ],
             [
              0.4444444444444444,
              "#bd3786"
             ],
             [
              0.5555555555555556,
              "#d8576b"
             ],
             [
              0.6666666666666666,
              "#ed7953"
             ],
             [
              0.7777777777777778,
              "#fb9f3a"
             ],
             [
              0.8888888888888888,
              "#fdca26"
             ],
             [
              1,
              "#f0f921"
             ]
            ],
            "type": "heatmap"
           }
          ],
          "heatmapgl": [
           {
            "colorbar": {
             "outlinewidth": 0,
             "ticks": ""
            },
            "colorscale": [
             [
              0,
              "#0d0887"
             ],
             [
              0.1111111111111111,
              "#46039f"
             ],
             [
              0.2222222222222222,
              "#7201a8"
             ],
             [
              0.3333333333333333,
              "#9c179e"
             ],
             [
              0.4444444444444444,
              "#bd3786"
             ],
             [
              0.5555555555555556,
              "#d8576b"
             ],
             [
              0.6666666666666666,
              "#ed7953"
             ],
             [
              0.7777777777777778,
              "#fb9f3a"
             ],
             [
              0.8888888888888888,
              "#fdca26"
             ],
             [
              1,
              "#f0f921"
             ]
            ],
            "type": "heatmapgl"
           }
          ],
          "histogram": [
           {
            "marker": {
             "pattern": {
              "fillmode": "overlay",
              "size": 10,
              "solidity": 0.2
             }
            },
            "type": "histogram"
           }
          ],
          "histogram2d": [
           {
            "colorbar": {
             "outlinewidth": 0,
             "ticks": ""
            },
            "colorscale": [
             [
              0,
              "#0d0887"
             ],
             [
              0.1111111111111111,
              "#46039f"
             ],
             [
              0.2222222222222222,
              "#7201a8"
             ],
             [
              0.3333333333333333,
              "#9c179e"
             ],
             [
              0.4444444444444444,
              "#bd3786"
             ],
             [
              0.5555555555555556,
              "#d8576b"
             ],
             [
              0.6666666666666666,
              "#ed7953"
             ],
             [
              0.7777777777777778,
              "#fb9f3a"
             ],
             [
              0.8888888888888888,
              "#fdca26"
             ],
             [
              1,
              "#f0f921"
             ]
            ],
            "type": "histogram2d"
           }
          ],
          "histogram2dcontour": [
           {
            "colorbar": {
             "outlinewidth": 0,
             "ticks": ""
            },
            "colorscale": [
             [
              0,
              "#0d0887"
             ],
             [
              0.1111111111111111,
              "#46039f"
             ],
             [
              0.2222222222222222,
              "#7201a8"
             ],
             [
              0.3333333333333333,
              "#9c179e"
             ],
             [
              0.4444444444444444,
              "#bd3786"
             ],
             [
              0.5555555555555556,
              "#d8576b"
             ],
             [
              0.6666666666666666,
              "#ed7953"
             ],
             [
              0.7777777777777778,
              "#fb9f3a"
             ],
             [
              0.8888888888888888,
              "#fdca26"
             ],
             [
              1,
              "#f0f921"
             ]
            ],
            "type": "histogram2dcontour"
           }
          ],
          "mesh3d": [
           {
            "colorbar": {
             "outlinewidth": 0,
             "ticks": ""
            },
            "type": "mesh3d"
           }
          ],
          "parcoords": [
           {
            "line": {
             "colorbar": {
              "outlinewidth": 0,
              "ticks": ""
             }
            },
            "type": "parcoords"
           }
          ],
          "pie": [
           {
            "automargin": true,
            "type": "pie"
           }
          ],
          "scatter": [
           {
            "fillpattern": {
             "fillmode": "overlay",
             "size": 10,
             "solidity": 0.2
            },
            "type": "scatter"
           }
          ],
          "scatter3d": [
           {
            "line": {
             "colorbar": {
              "outlinewidth": 0,
              "ticks": ""
             }
            },
            "marker": {
             "colorbar": {
              "outlinewidth": 0,
              "ticks": ""
             }
            },
            "type": "scatter3d"
           }
          ],
          "scattercarpet": [
           {
            "marker": {
             "colorbar": {
              "outlinewidth": 0,
              "ticks": ""
             }
            },
            "type": "scattercarpet"
           }
          ],
          "scattergeo": [
           {
            "marker": {
             "colorbar": {
              "outlinewidth": 0,
              "ticks": ""
             }
            },
            "type": "scattergeo"
           }
          ],
          "scattergl": [
           {
            "marker": {
             "colorbar": {
              "outlinewidth": 0,
              "ticks": ""
             }
            },
            "type": "scattergl"
           }
          ],
          "scattermapbox": [
           {
            "marker": {
             "colorbar": {
              "outlinewidth": 0,
              "ticks": ""
             }
            },
            "type": "scattermapbox"
           }
          ],
          "scatterpolar": [
           {
            "marker": {
             "colorbar": {
              "outlinewidth": 0,
              "ticks": ""
             }
            },
            "type": "scatterpolar"
           }
          ],
          "scatterpolargl": [
           {
            "marker": {
             "colorbar": {
              "outlinewidth": 0,
              "ticks": ""
             }
            },
            "type": "scatterpolargl"
           }
          ],
          "scatterternary": [
           {
            "marker": {
             "colorbar": {
              "outlinewidth": 0,
              "ticks": ""
             }
            },
            "type": "scatterternary"
           }
          ],
          "surface": [
           {
            "colorbar": {
             "outlinewidth": 0,
             "ticks": ""
            },
            "colorscale": [
             [
              0,
              "#0d0887"
             ],
             [
              0.1111111111111111,
              "#46039f"
             ],
             [
              0.2222222222222222,
              "#7201a8"
             ],
             [
              0.3333333333333333,
              "#9c179e"
             ],
             [
              0.4444444444444444,
              "#bd3786"
             ],
             [
              0.5555555555555556,
              "#d8576b"
             ],
             [
              0.6666666666666666,
              "#ed7953"
             ],
             [
              0.7777777777777778,
              "#fb9f3a"
             ],
             [
              0.8888888888888888,
              "#fdca26"
             ],
             [
              1,
              "#f0f921"
             ]
            ],
            "type": "surface"
           }
          ],
          "table": [
           {
            "cells": {
             "fill": {
              "color": "#EBF0F8"
             },
             "line": {
              "color": "white"
             }
            },
            "header": {
             "fill": {
              "color": "#C8D4E3"
             },
             "line": {
              "color": "white"
             }
            },
            "type": "table"
           }
          ]
         },
         "layout": {
          "annotationdefaults": {
           "arrowcolor": "#2a3f5f",
           "arrowhead": 0,
           "arrowwidth": 1
          },
          "autotypenumbers": "strict",
          "coloraxis": {
           "colorbar": {
            "outlinewidth": 0,
            "ticks": ""
           }
          },
          "colorscale": {
           "diverging": [
            [
             0,
             "#8e0152"
            ],
            [
             0.1,
             "#c51b7d"
            ],
            [
             0.2,
             "#de77ae"
            ],
            [
             0.3,
             "#f1b6da"
            ],
            [
             0.4,
             "#fde0ef"
            ],
            [
             0.5,
             "#f7f7f7"
            ],
            [
             0.6,
             "#e6f5d0"
            ],
            [
             0.7,
             "#b8e186"
            ],
            [
             0.8,
             "#7fbc41"
            ],
            [
             0.9,
             "#4d9221"
            ],
            [
             1,
             "#276419"
            ]
           ],
           "sequential": [
            [
             0,
             "#0d0887"
            ],
            [
             0.1111111111111111,
             "#46039f"
            ],
            [
             0.2222222222222222,
             "#7201a8"
            ],
            [
             0.3333333333333333,
             "#9c179e"
            ],
            [
             0.4444444444444444,
             "#bd3786"
            ],
            [
             0.5555555555555556,
             "#d8576b"
            ],
            [
             0.6666666666666666,
             "#ed7953"
            ],
            [
             0.7777777777777778,
             "#fb9f3a"
            ],
            [
             0.8888888888888888,
             "#fdca26"
            ],
            [
             1,
             "#f0f921"
            ]
           ],
           "sequentialminus": [
            [
             0,
             "#0d0887"
            ],
            [
             0.1111111111111111,
             "#46039f"
            ],
            [
             0.2222222222222222,
             "#7201a8"
            ],
            [
             0.3333333333333333,
             "#9c179e"
            ],
            [
             0.4444444444444444,
             "#bd3786"
            ],
            [
             0.5555555555555556,
             "#d8576b"
            ],
            [
             0.6666666666666666,
             "#ed7953"
            ],
            [
             0.7777777777777778,
             "#fb9f3a"
            ],
            [
             0.8888888888888888,
             "#fdca26"
            ],
            [
             1,
             "#f0f921"
            ]
           ]
          },
          "colorway": [
           "#636efa",
           "#EF553B",
           "#00cc96",
           "#ab63fa",
           "#FFA15A",
           "#19d3f3",
           "#FF6692",
           "#B6E880",
           "#FF97FF",
           "#FECB52"
          ],
          "font": {
           "color": "#2a3f5f"
          },
          "geo": {
           "bgcolor": "white",
           "lakecolor": "white",
           "landcolor": "white",
           "showlakes": true,
           "showland": true,
           "subunitcolor": "#C8D4E3"
          },
          "hoverlabel": {
           "align": "left"
          },
          "hovermode": "closest",
          "mapbox": {
           "style": "light"
          },
          "paper_bgcolor": "white",
          "plot_bgcolor": "white",
          "polar": {
           "angularaxis": {
            "gridcolor": "#EBF0F8",
            "linecolor": "#EBF0F8",
            "ticks": ""
           },
           "bgcolor": "white",
           "radialaxis": {
            "gridcolor": "#EBF0F8",
            "linecolor": "#EBF0F8",
            "ticks": ""
           }
          },
          "scene": {
           "xaxis": {
            "backgroundcolor": "white",
            "gridcolor": "#DFE8F3",
            "gridwidth": 2,
            "linecolor": "#EBF0F8",
            "showbackground": true,
            "ticks": "",
            "zerolinecolor": "#EBF0F8"
           },
           "yaxis": {
            "backgroundcolor": "white",
            "gridcolor": "#DFE8F3",
            "gridwidth": 2,
            "linecolor": "#EBF0F8",
            "showbackground": true,
            "ticks": "",
            "zerolinecolor": "#EBF0F8"
           },
           "zaxis": {
            "backgroundcolor": "white",
            "gridcolor": "#DFE8F3",
            "gridwidth": 2,
            "linecolor": "#EBF0F8",
            "showbackground": true,
            "ticks": "",
            "zerolinecolor": "#EBF0F8"
           }
          },
          "shapedefaults": {
           "line": {
            "color": "#2a3f5f"
           }
          },
          "ternary": {
           "aaxis": {
            "gridcolor": "#DFE8F3",
            "linecolor": "#A2B1C6",
            "ticks": ""
           },
           "baxis": {
            "gridcolor": "#DFE8F3",
            "linecolor": "#A2B1C6",
            "ticks": ""
           },
           "bgcolor": "white",
           "caxis": {
            "gridcolor": "#DFE8F3",
            "linecolor": "#A2B1C6",
            "ticks": ""
           }
          },
          "title": {
           "x": 0.05
          },
          "xaxis": {
           "automargin": true,
           "gridcolor": "#EBF0F8",
           "linecolor": "#EBF0F8",
           "ticks": "",
           "title": {
            "standoff": 15
           },
           "zerolinecolor": "#EBF0F8",
           "zerolinewidth": 2
          },
          "yaxis": {
           "automargin": true,
           "gridcolor": "#EBF0F8",
           "linecolor": "#EBF0F8",
           "ticks": "",
           "title": {
            "standoff": 15
           },
           "zerolinecolor": "#EBF0F8",
           "zerolinewidth": 2
          }
         }
        },
        "title": {
         "font": {
          "family": "Calibri",
          "size": 18
         },
         "text": "Distribution of Positive Sentiment Tweet Length (by Words) for Each Airline"
        },
        "xaxis": {
         "anchor": "y",
         "domain": [
          0,
          0.2888888888888889
         ],
         "title": {
          "text": "Text Length"
         }
        },
        "xaxis2": {
         "anchor": "y2",
         "domain": [
          0.35555555555555557,
          0.6444444444444445
         ],
         "title": {
          "text": "Text Length"
         }
        },
        "xaxis3": {
         "anchor": "y3",
         "domain": [
          0.7111111111111111,
          1
         ],
         "title": {
          "text": "Text Length"
         }
        },
        "xaxis4": {
         "anchor": "y4",
         "domain": [
          0,
          0.2888888888888889
         ],
         "title": {
          "text": "Text Length"
         }
        },
        "xaxis5": {
         "anchor": "y5",
         "domain": [
          0.35555555555555557,
          0.6444444444444445
         ],
         "title": {
          "text": "Text Length"
         }
        },
        "xaxis6": {
         "anchor": "y6",
         "domain": [
          0.7111111111111111,
          1
         ],
         "title": {
          "text": "Text Length"
         }
        },
        "xaxis7": {
         "anchor": "y7",
         "domain": [
          0,
          0.2888888888888889
         ]
        },
        "xaxis8": {
         "anchor": "y8",
         "domain": [
          0.35555555555555557,
          0.6444444444444445
         ]
        },
        "xaxis9": {
         "anchor": "y9",
         "domain": [
          0.7111111111111111,
          1
         ]
        },
        "yaxis": {
         "anchor": "x",
         "domain": [
          0.7192982456140351,
          1
         ],
         "title": {
          "text": "Frequency"
         }
        },
        "yaxis2": {
         "anchor": "x2",
         "domain": [
          0.7192982456140351,
          1
         ],
         "title": {
          "text": "Frequency"
         }
        },
        "yaxis3": {
         "anchor": "x3",
         "domain": [
          0.7192982456140351,
          1
         ],
         "title": {
          "text": "Frequency"
         }
        },
        "yaxis4": {
         "anchor": "x4",
         "domain": [
          0.2719298245614035,
          0.5526315789473685
         ],
         "title": {
          "text": "Frequency"
         }
        },
        "yaxis5": {
         "anchor": "x5",
         "domain": [
          0.2719298245614035,
          0.5526315789473685
         ],
         "title": {
          "text": "Frequency"
         }
        },
        "yaxis6": {
         "anchor": "x6",
         "domain": [
          0.2719298245614035,
          0.5526315789473685
         ],
         "title": {
          "text": "Frequency"
         }
        },
        "yaxis7": {
         "anchor": "x7",
         "domain": [
          0,
          0.10526315789473685
         ]
        },
        "yaxis8": {
         "anchor": "x8",
         "domain": [
          0,
          0.10526315789473685
         ]
        },
        "yaxis9": {
         "anchor": "x9",
         "domain": [
          0,
          0.10526315789473685
         ]
        }
       }
      }
     },
     "metadata": {},
     "output_type": "display_data"
    }
   ],
   "source": [
    "# Positive Sentiment Text Length\n",
    "\n",
    "color_discrete_map = {\n",
    "    \"American\": \"#00a9e0\",\n",
    "    \"United\": \"#005DAA\",\n",
    "    \"Southwest\": \"#F9B612\",\n",
    "    \"Delta\": \"#c8102e\",\n",
    "    \"US Airways\": \"#bdc1c4\",\n",
    "    \"Virgin America\": \"#5b056a\"\n",
    "}\n",
    "\n",
    "unique_airlines = tweets_noneg['airline'].unique()\n",
    "\n",
    "pos_only = tweets_noneg[tweets_noneg['airline_sentiment'] == 'positive']\n",
    "\n",
    "pos_only['length_stopwords'] = tweets_noneg.cleaned_text_stopwords.str.split().apply(len)\n",
    "\n",
    "# Create subplots for each airline\n",
    "fig = make_subplots(\n",
    "    rows=len(unique_airlines) // 3 + 1, cols=3,\n",
    "    subplot_titles=unique_airlines,\n",
    "    column_widths=[0.15, 0.15, 0.15],\n",
    "    row_heights=[0.4] * (len(unique_airlines) // 3) + [0.15],\n",
    "    specs=[[{'type': 'xy'}, {'type': 'xy'}, {'type': 'xy'}] for _ in range(len(unique_airlines) // 3 + 1)]\n",
    ")\n",
    "\n",
    "# Create histograms for each airline\n",
    "for i, airline in enumerate(unique_airlines):\n",
    "    subset = pos_only[pos_only['airline'] == airline]\n",
    "\n",
    "    histogram = go.Histogram(\n",
    "        x=subset['length_stopwords'],\n",
    "        nbinsx=20,\n",
    "        marker=dict(color=color_discrete_map.get(airline, 'gray'), line=dict(color='white', width=1.5)),\n",
    "        opacity=0.7,\n",
    "        name=airline\n",
    "    )\n",
    "\n",
    "    # Add histogram to subplot\n",
    "    fig.add_trace(histogram, row=i // 3 + 1, col=i % 3 + 1)\n",
    "\n",
    "    # Add explicit x-axis and y-axis labels\n",
    "    fig.update_xaxes(title_text='Text Length', row=i // 3 + 1, col=i % 3 + 1)\n",
    "    fig.update_yaxes(title_text='Frequency', row=i // 3 + 1, col=i % 3 + 1)\n",
    "\n",
    "# Update layout for subplot-like appearance\n",
    "fig.update_layout(\n",
    "    title='Distribution of Positive Sentiment Tweet Length (by Words) for Each Airline',\n",
    "    template='plotly_white',\n",
    "    height=800,\n",
    "    margin=dict(l=20, r=20, b=50, t=80),\n",
    "    paper_bgcolor='rgba(0,0,0,0)',\n",
    "    plot_bgcolor='rgba(0,0,0,0)'\n",
    ")\n",
    "\n",
    "# Update title font size\n",
    "fig.update_layout(\n",
    "    title_font=dict(size=18),\n",
    "    title_font_family=\"Calibri\",\n",
    ")\n",
    "\n",
    "# Update subplot title font size\n",
    "fig.update_annotations(font=dict(size=12))\n",
    "\n",
    "fig.show()"
   ]
  },
  {
   "cell_type": "code",
   "execution_count": 146,
   "metadata": {},
   "outputs": [
    {
     "name": "stdout",
     "output_type": "stream",
     "text": [
      "T-Statistic: 36.0097\n",
      "P-Value: 0.0000\n",
      "Reject the null hypothesis: There is a significant difference in text length between negative and positive responses.\n"
     ]
    }
   ],
   "source": [
    "from scipy.stats import ttest_ind\n",
    "\n",
    "# Assuming you have a DataFrame named 'data_clean' with columns 'cleaned_text' and 'airline_sentiment'\n",
    "\n",
    "# Perform a t-test for independent samples\n",
    "t_statistic, p_value = ttest_ind(neg_only['length'], pos_only['length'], equal_var=False)\n",
    "\n",
    "# Print the results\n",
    "print(f'T-Statistic: {t_statistic:.4f}')\n",
    "print(f'P-Value: {p_value:.4f}')\n",
    "\n",
    "# Check for significance\n",
    "alpha = 0.05\n",
    "if p_value < alpha:\n",
    "    print(\"Reject the null hypothesis: There is a significant difference in text length between negative and positive responses.\")\n",
    "else:\n",
    "    print(\"Fail to reject the null hypothesis: There is no significant difference in text length between negative and positive responses.\")\n"
   ]
  },
  {
   "cell_type": "code",
   "execution_count": 270,
   "metadata": {},
   "outputs": [
    {
     "name": "stdout",
     "output_type": "stream",
     "text": [
      "Kruskal-Wallis H-statistic: 0.0000\n",
      "P-value: 1.0000\n",
      "Fail to reject the null hypothesis: There is no significant difference in text length between different airlines.\n"
     ]
    }
   ],
   "source": [
    "from scipy.stats import kruskal\n",
    "\n",
    "# Assuming 'data_clean' is your DataFrame with the 'cleaned_text' and 'airline' columns\n",
    "\n",
    "tweets['length_stopwords'] = tweets.cleaned_text_stopwords.str.split().apply(len)\n",
    "\n",
    "# Perform Kruskal-Wallis test\n",
    "statistic, p_value = kruskal(*[tweets['length_stopwords'] for name, group in tweets_noneg.groupby('airline')])\n",
    "\n",
    "# Print the results\n",
    "print(f'Kruskal-Wallis H-statistic: {statistic:.4f}')\n",
    "print(f'P-value: {p_value:.4f}')\n",
    "\n",
    "# Check for significance\n",
    "alpha = 0.05\n",
    "if p_value < alpha:\n",
    "    print(\"Reject the null hypothesis: There is a significant difference in text length between different airlines.\")\n",
    "else:\n",
    "    print(\"Fail to reject the null hypothesis: There is no significant difference in text length between different airlines.\")\n"
   ]
  },
  {
   "cell_type": "code",
   "execution_count": 271,
   "metadata": {},
   "outputs": [
    {
     "name": "stdout",
     "output_type": "stream",
     "text": [
      "Kruskal-Wallis H-statistic: 0.0000\n",
      "P-value: 1.0000\n",
      "Fail to reject the null hypothesis: There is no significant difference in text length between different airlines.\n"
     ]
    }
   ],
   "source": [
    "# Perform Kruskal-Wallis test\n",
    "statistic, p_value = kruskal(*[pos_only['length_stopwords'] for name, group in pos_only.groupby('airline')])\n",
    "\n",
    "# Print the results\n",
    "print(f'Kruskal-Wallis H-statistic: {statistic:.4f}')\n",
    "print(f'P-value: {p_value:.4f}')\n",
    "\n",
    "# Check for significance\n",
    "alpha = 0.05\n",
    "if p_value < alpha:\n",
    "    print(\"Reject the null hypothesis: There is a significant difference in text length between different airlines.\")\n",
    "else:\n",
    "    print(\"Fail to reject the null hypothesis: There is no significant difference in text length between different airlines.\")"
   ]
  },
  {
   "cell_type": "code",
   "execution_count": 272,
   "metadata": {},
   "outputs": [
    {
     "name": "stdout",
     "output_type": "stream",
     "text": [
      "Kruskal-Wallis H-statistic: 0.0000\n",
      "P-value: 1.0000\n",
      "Fail to reject the null hypothesis: There is no significant difference in text length between different airlines.\n"
     ]
    }
   ],
   "source": [
    "# Perform Kruskal-Wallis test\n",
    "statistic, p_value = kruskal(*[neg_only['length_stopwords'] for name, group in neg_only.groupby('airline')])\n",
    "\n",
    "# Print the results\n",
    "print(f'Kruskal-Wallis H-statistic: {statistic:.4f}')\n",
    "print(f'P-value: {p_value:.4f}')\n",
    "\n",
    "# Check for significance\n",
    "alpha = 0.05\n",
    "if p_value < alpha:\n",
    "    print(\"Reject the null hypothesis: There is a significant difference in text length between different airlines.\")\n",
    "else:\n",
    "    print(\"Fail to reject the null hypothesis: There is no significant difference in text length between different airlines.\")"
   ]
  },
  {
   "cell_type": "code",
   "execution_count": 277,
   "metadata": {},
   "outputs": [
    {
     "name": "stdout",
     "output_type": "stream",
     "text": [
      "Kruskal-Wallis Statistic: 1.0\n",
      "P-value: 0.31731050786291115\n",
      "Fail to reject the null hypothesis. There is no significant difference in tweet lengths.\n"
     ]
    }
   ],
   "source": [
    "# Calculate tweet lengths\n",
    "negative_lengths = neg_only['length_stopwords'].mean()\n",
    "positive_lengths = pos_only['length_stopwords'].mean()\n",
    "\n",
    "# Perform Kruskal-Wallis test\n",
    "statistic, p_value = kruskal(positive_lengths, negative_lengths)\n",
    "\n",
    "# Display the results\n",
    "print(\"Kruskal-Wallis Statistic:\", statistic)\n",
    "print(\"P-value:\", p_value)\n",
    "\n",
    "# Interpret the results\n",
    "alpha = 0.05\n",
    "if p_value < alpha:\n",
    "    print(\"Reject the null hypothesis. There is a significant difference in tweet lengths.\")\n",
    "else:\n",
    "    print(\"Fail to reject the null hypothesis. There is no significant difference in tweet lengths.\")"
   ]
  },
  {
   "cell_type": "code",
   "execution_count": 280,
   "metadata": {},
   "outputs": [
    {
     "name": "stdout",
     "output_type": "stream",
     "text": [
      "13.925536574682436\n",
      "19.509797446059004\n"
     ]
    }
   ],
   "source": [
    "print(positive_lengths)\n",
    "print(negative_lengths)"
   ]
  },
  {
   "cell_type": "code",
   "execution_count": 183,
   "metadata": {},
   "outputs": [
    {
     "data": {
      "text/plain": [
       "19.686206145129656"
      ]
     },
     "execution_count": 183,
     "metadata": {},
     "output_type": "execute_result"
    }
   ],
   "source": [
    "pos_only[\"length\"].mean()\n",
    "neg_only[\"length\"].mean()\n"
   ]
  }
 ],
 "metadata": {
  "kernelspec": {
   "display_name": "base",
   "language": "python",
   "name": "python3"
  },
  "language_info": {
   "codemirror_mode": {
    "name": "ipython",
    "version": 3
   },
   "file_extension": ".py",
   "mimetype": "text/x-python",
   "name": "python",
   "nbconvert_exporter": "python",
   "pygments_lexer": "ipython3",
   "version": "3.9.13"
  },
  "orig_nbformat": 4,
  "vscode": {
   "interpreter": {
    "hash": "86003dac31dfcef26eb98485083abe0eda091631dc11c36d10cc2513f278c8fe"
   }
  }
 },
 "nbformat": 4,
 "nbformat_minor": 2
}
