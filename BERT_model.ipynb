{
  "nbformat": 4,
  "nbformat_minor": 0,
  "metadata": {
    "colab": {
      "provenance": [],
      "gpuType": "T4",
      "include_colab_link": true
    },
    "kernelspec": {
      "name": "python3",
      "display_name": "Python 3"
    },
    "language_info": {
      "name": "python"
    },
    "widgets": {
      "application/vnd.jupyter.widget-state+json": {
        "04e89a0702fc49f69cc4d2a2108eb168": {
          "model_module": "@jupyter-widgets/controls",
          "model_name": "HBoxModel",
          "model_module_version": "1.5.0",
          "state": {
            "_dom_classes": [],
            "_model_module": "@jupyter-widgets/controls",
            "_model_module_version": "1.5.0",
            "_model_name": "HBoxModel",
            "_view_count": null,
            "_view_module": "@jupyter-widgets/controls",
            "_view_module_version": "1.5.0",
            "_view_name": "HBoxView",
            "box_style": "",
            "children": [
              "IPY_MODEL_2f63c9f1530f4a31b7cbfe97dea4f4db",
              "IPY_MODEL_07a29ae038ef4ddb9cd2753ac9efbe20",
              "IPY_MODEL_a60d98995b7444b79b1a8af3dd321edd"
            ],
            "layout": "IPY_MODEL_94693dad7f244e8ba61b6a20b4d30573"
          }
        },
        "2f63c9f1530f4a31b7cbfe97dea4f4db": {
          "model_module": "@jupyter-widgets/controls",
          "model_name": "HTMLModel",
          "model_module_version": "1.5.0",
          "state": {
            "_dom_classes": [],
            "_model_module": "@jupyter-widgets/controls",
            "_model_module_version": "1.5.0",
            "_model_name": "HTMLModel",
            "_view_count": null,
            "_view_module": "@jupyter-widgets/controls",
            "_view_module_version": "1.5.0",
            "_view_name": "HTMLView",
            "description": "",
            "description_tooltip": null,
            "layout": "IPY_MODEL_e0b7675c134a4019af2ac52e13e9ab8c",
            "placeholder": "​",
            "style": "IPY_MODEL_f25a635ab1c340e7a3a1e3d4f97b47f5",
            "value": "tokenizer_config.json: 100%"
          }
        },
        "07a29ae038ef4ddb9cd2753ac9efbe20": {
          "model_module": "@jupyter-widgets/controls",
          "model_name": "FloatProgressModel",
          "model_module_version": "1.5.0",
          "state": {
            "_dom_classes": [],
            "_model_module": "@jupyter-widgets/controls",
            "_model_module_version": "1.5.0",
            "_model_name": "FloatProgressModel",
            "_view_count": null,
            "_view_module": "@jupyter-widgets/controls",
            "_view_module_version": "1.5.0",
            "_view_name": "ProgressView",
            "bar_style": "success",
            "description": "",
            "description_tooltip": null,
            "layout": "IPY_MODEL_6af27e24372a4885b9038ed610911802",
            "max": 28,
            "min": 0,
            "orientation": "horizontal",
            "style": "IPY_MODEL_ddf8c91ff8e04f97afd6e6dc8bb58ad7",
            "value": 28
          }
        },
        "a60d98995b7444b79b1a8af3dd321edd": {
          "model_module": "@jupyter-widgets/controls",
          "model_name": "HTMLModel",
          "model_module_version": "1.5.0",
          "state": {
            "_dom_classes": [],
            "_model_module": "@jupyter-widgets/controls",
            "_model_module_version": "1.5.0",
            "_model_name": "HTMLModel",
            "_view_count": null,
            "_view_module": "@jupyter-widgets/controls",
            "_view_module_version": "1.5.0",
            "_view_name": "HTMLView",
            "description": "",
            "description_tooltip": null,
            "layout": "IPY_MODEL_846e921d6cb044598081163bab7ac8ab",
            "placeholder": "​",
            "style": "IPY_MODEL_7da146bc6d474eaa9aadb387580df0dc",
            "value": " 28.0/28.0 [00:00&lt;00:00, 1.82kB/s]"
          }
        },
        "94693dad7f244e8ba61b6a20b4d30573": {
          "model_module": "@jupyter-widgets/base",
          "model_name": "LayoutModel",
          "model_module_version": "1.2.0",
          "state": {
            "_model_module": "@jupyter-widgets/base",
            "_model_module_version": "1.2.0",
            "_model_name": "LayoutModel",
            "_view_count": null,
            "_view_module": "@jupyter-widgets/base",
            "_view_module_version": "1.2.0",
            "_view_name": "LayoutView",
            "align_content": null,
            "align_items": null,
            "align_self": null,
            "border": null,
            "bottom": null,
            "display": null,
            "flex": null,
            "flex_flow": null,
            "grid_area": null,
            "grid_auto_columns": null,
            "grid_auto_flow": null,
            "grid_auto_rows": null,
            "grid_column": null,
            "grid_gap": null,
            "grid_row": null,
            "grid_template_areas": null,
            "grid_template_columns": null,
            "grid_template_rows": null,
            "height": null,
            "justify_content": null,
            "justify_items": null,
            "left": null,
            "margin": null,
            "max_height": null,
            "max_width": null,
            "min_height": null,
            "min_width": null,
            "object_fit": null,
            "object_position": null,
            "order": null,
            "overflow": null,
            "overflow_x": null,
            "overflow_y": null,
            "padding": null,
            "right": null,
            "top": null,
            "visibility": null,
            "width": null
          }
        },
        "e0b7675c134a4019af2ac52e13e9ab8c": {
          "model_module": "@jupyter-widgets/base",
          "model_name": "LayoutModel",
          "model_module_version": "1.2.0",
          "state": {
            "_model_module": "@jupyter-widgets/base",
            "_model_module_version": "1.2.0",
            "_model_name": "LayoutModel",
            "_view_count": null,
            "_view_module": "@jupyter-widgets/base",
            "_view_module_version": "1.2.0",
            "_view_name": "LayoutView",
            "align_content": null,
            "align_items": null,
            "align_self": null,
            "border": null,
            "bottom": null,
            "display": null,
            "flex": null,
            "flex_flow": null,
            "grid_area": null,
            "grid_auto_columns": null,
            "grid_auto_flow": null,
            "grid_auto_rows": null,
            "grid_column": null,
            "grid_gap": null,
            "grid_row": null,
            "grid_template_areas": null,
            "grid_template_columns": null,
            "grid_template_rows": null,
            "height": null,
            "justify_content": null,
            "justify_items": null,
            "left": null,
            "margin": null,
            "max_height": null,
            "max_width": null,
            "min_height": null,
            "min_width": null,
            "object_fit": null,
            "object_position": null,
            "order": null,
            "overflow": null,
            "overflow_x": null,
            "overflow_y": null,
            "padding": null,
            "right": null,
            "top": null,
            "visibility": null,
            "width": null
          }
        },
        "f25a635ab1c340e7a3a1e3d4f97b47f5": {
          "model_module": "@jupyter-widgets/controls",
          "model_name": "DescriptionStyleModel",
          "model_module_version": "1.5.0",
          "state": {
            "_model_module": "@jupyter-widgets/controls",
            "_model_module_version": "1.5.0",
            "_model_name": "DescriptionStyleModel",
            "_view_count": null,
            "_view_module": "@jupyter-widgets/base",
            "_view_module_version": "1.2.0",
            "_view_name": "StyleView",
            "description_width": ""
          }
        },
        "6af27e24372a4885b9038ed610911802": {
          "model_module": "@jupyter-widgets/base",
          "model_name": "LayoutModel",
          "model_module_version": "1.2.0",
          "state": {
            "_model_module": "@jupyter-widgets/base",
            "_model_module_version": "1.2.0",
            "_model_name": "LayoutModel",
            "_view_count": null,
            "_view_module": "@jupyter-widgets/base",
            "_view_module_version": "1.2.0",
            "_view_name": "LayoutView",
            "align_content": null,
            "align_items": null,
            "align_self": null,
            "border": null,
            "bottom": null,
            "display": null,
            "flex": null,
            "flex_flow": null,
            "grid_area": null,
            "grid_auto_columns": null,
            "grid_auto_flow": null,
            "grid_auto_rows": null,
            "grid_column": null,
            "grid_gap": null,
            "grid_row": null,
            "grid_template_areas": null,
            "grid_template_columns": null,
            "grid_template_rows": null,
            "height": null,
            "justify_content": null,
            "justify_items": null,
            "left": null,
            "margin": null,
            "max_height": null,
            "max_width": null,
            "min_height": null,
            "min_width": null,
            "object_fit": null,
            "object_position": null,
            "order": null,
            "overflow": null,
            "overflow_x": null,
            "overflow_y": null,
            "padding": null,
            "right": null,
            "top": null,
            "visibility": null,
            "width": null
          }
        },
        "ddf8c91ff8e04f97afd6e6dc8bb58ad7": {
          "model_module": "@jupyter-widgets/controls",
          "model_name": "ProgressStyleModel",
          "model_module_version": "1.5.0",
          "state": {
            "_model_module": "@jupyter-widgets/controls",
            "_model_module_version": "1.5.0",
            "_model_name": "ProgressStyleModel",
            "_view_count": null,
            "_view_module": "@jupyter-widgets/base",
            "_view_module_version": "1.2.0",
            "_view_name": "StyleView",
            "bar_color": null,
            "description_width": ""
          }
        },
        "846e921d6cb044598081163bab7ac8ab": {
          "model_module": "@jupyter-widgets/base",
          "model_name": "LayoutModel",
          "model_module_version": "1.2.0",
          "state": {
            "_model_module": "@jupyter-widgets/base",
            "_model_module_version": "1.2.0",
            "_model_name": "LayoutModel",
            "_view_count": null,
            "_view_module": "@jupyter-widgets/base",
            "_view_module_version": "1.2.0",
            "_view_name": "LayoutView",
            "align_content": null,
            "align_items": null,
            "align_self": null,
            "border": null,
            "bottom": null,
            "display": null,
            "flex": null,
            "flex_flow": null,
            "grid_area": null,
            "grid_auto_columns": null,
            "grid_auto_flow": null,
            "grid_auto_rows": null,
            "grid_column": null,
            "grid_gap": null,
            "grid_row": null,
            "grid_template_areas": null,
            "grid_template_columns": null,
            "grid_template_rows": null,
            "height": null,
            "justify_content": null,
            "justify_items": null,
            "left": null,
            "margin": null,
            "max_height": null,
            "max_width": null,
            "min_height": null,
            "min_width": null,
            "object_fit": null,
            "object_position": null,
            "order": null,
            "overflow": null,
            "overflow_x": null,
            "overflow_y": null,
            "padding": null,
            "right": null,
            "top": null,
            "visibility": null,
            "width": null
          }
        },
        "7da146bc6d474eaa9aadb387580df0dc": {
          "model_module": "@jupyter-widgets/controls",
          "model_name": "DescriptionStyleModel",
          "model_module_version": "1.5.0",
          "state": {
            "_model_module": "@jupyter-widgets/controls",
            "_model_module_version": "1.5.0",
            "_model_name": "DescriptionStyleModel",
            "_view_count": null,
            "_view_module": "@jupyter-widgets/base",
            "_view_module_version": "1.2.0",
            "_view_name": "StyleView",
            "description_width": ""
          }
        },
        "1b9767aea12f42cda6dd09dd309adb8a": {
          "model_module": "@jupyter-widgets/controls",
          "model_name": "HBoxModel",
          "model_module_version": "1.5.0",
          "state": {
            "_dom_classes": [],
            "_model_module": "@jupyter-widgets/controls",
            "_model_module_version": "1.5.0",
            "_model_name": "HBoxModel",
            "_view_count": null,
            "_view_module": "@jupyter-widgets/controls",
            "_view_module_version": "1.5.0",
            "_view_name": "HBoxView",
            "box_style": "",
            "children": [
              "IPY_MODEL_ffec751dbb904cc38eb259710ad88f84",
              "IPY_MODEL_ac6334d17ad545a89c974594d97a4bb6",
              "IPY_MODEL_8443c97665f544b7a1eb8a1b4b7baa32"
            ],
            "layout": "IPY_MODEL_dfe429ce8d984c768c32c9472d5bc972"
          }
        },
        "ffec751dbb904cc38eb259710ad88f84": {
          "model_module": "@jupyter-widgets/controls",
          "model_name": "HTMLModel",
          "model_module_version": "1.5.0",
          "state": {
            "_dom_classes": [],
            "_model_module": "@jupyter-widgets/controls",
            "_model_module_version": "1.5.0",
            "_model_name": "HTMLModel",
            "_view_count": null,
            "_view_module": "@jupyter-widgets/controls",
            "_view_module_version": "1.5.0",
            "_view_name": "HTMLView",
            "description": "",
            "description_tooltip": null,
            "layout": "IPY_MODEL_3ea99f800c0d4003be94ee79662a4337",
            "placeholder": "​",
            "style": "IPY_MODEL_90264feee0da4f81b26e9d82e43ddba7",
            "value": "vocab.txt: 100%"
          }
        },
        "ac6334d17ad545a89c974594d97a4bb6": {
          "model_module": "@jupyter-widgets/controls",
          "model_name": "FloatProgressModel",
          "model_module_version": "1.5.0",
          "state": {
            "_dom_classes": [],
            "_model_module": "@jupyter-widgets/controls",
            "_model_module_version": "1.5.0",
            "_model_name": "FloatProgressModel",
            "_view_count": null,
            "_view_module": "@jupyter-widgets/controls",
            "_view_module_version": "1.5.0",
            "_view_name": "ProgressView",
            "bar_style": "success",
            "description": "",
            "description_tooltip": null,
            "layout": "IPY_MODEL_cd9e3b9c5daa4aeda292d88f635e96f2",
            "max": 231508,
            "min": 0,
            "orientation": "horizontal",
            "style": "IPY_MODEL_510cabc2bbe94e929f9d8ed7e2325a31",
            "value": 231508
          }
        },
        "8443c97665f544b7a1eb8a1b4b7baa32": {
          "model_module": "@jupyter-widgets/controls",
          "model_name": "HTMLModel",
          "model_module_version": "1.5.0",
          "state": {
            "_dom_classes": [],
            "_model_module": "@jupyter-widgets/controls",
            "_model_module_version": "1.5.0",
            "_model_name": "HTMLModel",
            "_view_count": null,
            "_view_module": "@jupyter-widgets/controls",
            "_view_module_version": "1.5.0",
            "_view_name": "HTMLView",
            "description": "",
            "description_tooltip": null,
            "layout": "IPY_MODEL_26aa7c6c56b34c30a1b4dc3f22bd4cb3",
            "placeholder": "​",
            "style": "IPY_MODEL_5d35cdafaaf04a4084c19d54bb26c492",
            "value": " 232k/232k [00:00&lt;00:00, 4.33MB/s]"
          }
        },
        "dfe429ce8d984c768c32c9472d5bc972": {
          "model_module": "@jupyter-widgets/base",
          "model_name": "LayoutModel",
          "model_module_version": "1.2.0",
          "state": {
            "_model_module": "@jupyter-widgets/base",
            "_model_module_version": "1.2.0",
            "_model_name": "LayoutModel",
            "_view_count": null,
            "_view_module": "@jupyter-widgets/base",
            "_view_module_version": "1.2.0",
            "_view_name": "LayoutView",
            "align_content": null,
            "align_items": null,
            "align_self": null,
            "border": null,
            "bottom": null,
            "display": null,
            "flex": null,
            "flex_flow": null,
            "grid_area": null,
            "grid_auto_columns": null,
            "grid_auto_flow": null,
            "grid_auto_rows": null,
            "grid_column": null,
            "grid_gap": null,
            "grid_row": null,
            "grid_template_areas": null,
            "grid_template_columns": null,
            "grid_template_rows": null,
            "height": null,
            "justify_content": null,
            "justify_items": null,
            "left": null,
            "margin": null,
            "max_height": null,
            "max_width": null,
            "min_height": null,
            "min_width": null,
            "object_fit": null,
            "object_position": null,
            "order": null,
            "overflow": null,
            "overflow_x": null,
            "overflow_y": null,
            "padding": null,
            "right": null,
            "top": null,
            "visibility": null,
            "width": null
          }
        },
        "3ea99f800c0d4003be94ee79662a4337": {
          "model_module": "@jupyter-widgets/base",
          "model_name": "LayoutModel",
          "model_module_version": "1.2.0",
          "state": {
            "_model_module": "@jupyter-widgets/base",
            "_model_module_version": "1.2.0",
            "_model_name": "LayoutModel",
            "_view_count": null,
            "_view_module": "@jupyter-widgets/base",
            "_view_module_version": "1.2.0",
            "_view_name": "LayoutView",
            "align_content": null,
            "align_items": null,
            "align_self": null,
            "border": null,
            "bottom": null,
            "display": null,
            "flex": null,
            "flex_flow": null,
            "grid_area": null,
            "grid_auto_columns": null,
            "grid_auto_flow": null,
            "grid_auto_rows": null,
            "grid_column": null,
            "grid_gap": null,
            "grid_row": null,
            "grid_template_areas": null,
            "grid_template_columns": null,
            "grid_template_rows": null,
            "height": null,
            "justify_content": null,
            "justify_items": null,
            "left": null,
            "margin": null,
            "max_height": null,
            "max_width": null,
            "min_height": null,
            "min_width": null,
            "object_fit": null,
            "object_position": null,
            "order": null,
            "overflow": null,
            "overflow_x": null,
            "overflow_y": null,
            "padding": null,
            "right": null,
            "top": null,
            "visibility": null,
            "width": null
          }
        },
        "90264feee0da4f81b26e9d82e43ddba7": {
          "model_module": "@jupyter-widgets/controls",
          "model_name": "DescriptionStyleModel",
          "model_module_version": "1.5.0",
          "state": {
            "_model_module": "@jupyter-widgets/controls",
            "_model_module_version": "1.5.0",
            "_model_name": "DescriptionStyleModel",
            "_view_count": null,
            "_view_module": "@jupyter-widgets/base",
            "_view_module_version": "1.2.0",
            "_view_name": "StyleView",
            "description_width": ""
          }
        },
        "cd9e3b9c5daa4aeda292d88f635e96f2": {
          "model_module": "@jupyter-widgets/base",
          "model_name": "LayoutModel",
          "model_module_version": "1.2.0",
          "state": {
            "_model_module": "@jupyter-widgets/base",
            "_model_module_version": "1.2.0",
            "_model_name": "LayoutModel",
            "_view_count": null,
            "_view_module": "@jupyter-widgets/base",
            "_view_module_version": "1.2.0",
            "_view_name": "LayoutView",
            "align_content": null,
            "align_items": null,
            "align_self": null,
            "border": null,
            "bottom": null,
            "display": null,
            "flex": null,
            "flex_flow": null,
            "grid_area": null,
            "grid_auto_columns": null,
            "grid_auto_flow": null,
            "grid_auto_rows": null,
            "grid_column": null,
            "grid_gap": null,
            "grid_row": null,
            "grid_template_areas": null,
            "grid_template_columns": null,
            "grid_template_rows": null,
            "height": null,
            "justify_content": null,
            "justify_items": null,
            "left": null,
            "margin": null,
            "max_height": null,
            "max_width": null,
            "min_height": null,
            "min_width": null,
            "object_fit": null,
            "object_position": null,
            "order": null,
            "overflow": null,
            "overflow_x": null,
            "overflow_y": null,
            "padding": null,
            "right": null,
            "top": null,
            "visibility": null,
            "width": null
          }
        },
        "510cabc2bbe94e929f9d8ed7e2325a31": {
          "model_module": "@jupyter-widgets/controls",
          "model_name": "ProgressStyleModel",
          "model_module_version": "1.5.0",
          "state": {
            "_model_module": "@jupyter-widgets/controls",
            "_model_module_version": "1.5.0",
            "_model_name": "ProgressStyleModel",
            "_view_count": null,
            "_view_module": "@jupyter-widgets/base",
            "_view_module_version": "1.2.0",
            "_view_name": "StyleView",
            "bar_color": null,
            "description_width": ""
          }
        },
        "26aa7c6c56b34c30a1b4dc3f22bd4cb3": {
          "model_module": "@jupyter-widgets/base",
          "model_name": "LayoutModel",
          "model_module_version": "1.2.0",
          "state": {
            "_model_module": "@jupyter-widgets/base",
            "_model_module_version": "1.2.0",
            "_model_name": "LayoutModel",
            "_view_count": null,
            "_view_module": "@jupyter-widgets/base",
            "_view_module_version": "1.2.0",
            "_view_name": "LayoutView",
            "align_content": null,
            "align_items": null,
            "align_self": null,
            "border": null,
            "bottom": null,
            "display": null,
            "flex": null,
            "flex_flow": null,
            "grid_area": null,
            "grid_auto_columns": null,
            "grid_auto_flow": null,
            "grid_auto_rows": null,
            "grid_column": null,
            "grid_gap": null,
            "grid_row": null,
            "grid_template_areas": null,
            "grid_template_columns": null,
            "grid_template_rows": null,
            "height": null,
            "justify_content": null,
            "justify_items": null,
            "left": null,
            "margin": null,
            "max_height": null,
            "max_width": null,
            "min_height": null,
            "min_width": null,
            "object_fit": null,
            "object_position": null,
            "order": null,
            "overflow": null,
            "overflow_x": null,
            "overflow_y": null,
            "padding": null,
            "right": null,
            "top": null,
            "visibility": null,
            "width": null
          }
        },
        "5d35cdafaaf04a4084c19d54bb26c492": {
          "model_module": "@jupyter-widgets/controls",
          "model_name": "DescriptionStyleModel",
          "model_module_version": "1.5.0",
          "state": {
            "_model_module": "@jupyter-widgets/controls",
            "_model_module_version": "1.5.0",
            "_model_name": "DescriptionStyleModel",
            "_view_count": null,
            "_view_module": "@jupyter-widgets/base",
            "_view_module_version": "1.2.0",
            "_view_name": "StyleView",
            "description_width": ""
          }
        },
        "327abcd141bc4cd98c2215bc8e0619bf": {
          "model_module": "@jupyter-widgets/controls",
          "model_name": "HBoxModel",
          "model_module_version": "1.5.0",
          "state": {
            "_dom_classes": [],
            "_model_module": "@jupyter-widgets/controls",
            "_model_module_version": "1.5.0",
            "_model_name": "HBoxModel",
            "_view_count": null,
            "_view_module": "@jupyter-widgets/controls",
            "_view_module_version": "1.5.0",
            "_view_name": "HBoxView",
            "box_style": "",
            "children": [
              "IPY_MODEL_114ebf2953d640c68730acc1b02c3bd0",
              "IPY_MODEL_0aef956eeed6456980efd914b358f52e",
              "IPY_MODEL_ba38b9eac0994c6a853a341b8774f5be"
            ],
            "layout": "IPY_MODEL_35515db45f6547869a26f72800375ef4"
          }
        },
        "114ebf2953d640c68730acc1b02c3bd0": {
          "model_module": "@jupyter-widgets/controls",
          "model_name": "HTMLModel",
          "model_module_version": "1.5.0",
          "state": {
            "_dom_classes": [],
            "_model_module": "@jupyter-widgets/controls",
            "_model_module_version": "1.5.0",
            "_model_name": "HTMLModel",
            "_view_count": null,
            "_view_module": "@jupyter-widgets/controls",
            "_view_module_version": "1.5.0",
            "_view_name": "HTMLView",
            "description": "",
            "description_tooltip": null,
            "layout": "IPY_MODEL_705df753e1484df88ac66f2bc3154473",
            "placeholder": "​",
            "style": "IPY_MODEL_06dec18e5acd4c49ab5bced61e8fd090",
            "value": "tokenizer.json: 100%"
          }
        },
        "0aef956eeed6456980efd914b358f52e": {
          "model_module": "@jupyter-widgets/controls",
          "model_name": "FloatProgressModel",
          "model_module_version": "1.5.0",
          "state": {
            "_dom_classes": [],
            "_model_module": "@jupyter-widgets/controls",
            "_model_module_version": "1.5.0",
            "_model_name": "FloatProgressModel",
            "_view_count": null,
            "_view_module": "@jupyter-widgets/controls",
            "_view_module_version": "1.5.0",
            "_view_name": "ProgressView",
            "bar_style": "success",
            "description": "",
            "description_tooltip": null,
            "layout": "IPY_MODEL_f25a4546a6c34c48b0c019acaa6f6cd9",
            "max": 466062,
            "min": 0,
            "orientation": "horizontal",
            "style": "IPY_MODEL_766eadde47a14ca99d0ad6d6d9eaead0",
            "value": 466062
          }
        },
        "ba38b9eac0994c6a853a341b8774f5be": {
          "model_module": "@jupyter-widgets/controls",
          "model_name": "HTMLModel",
          "model_module_version": "1.5.0",
          "state": {
            "_dom_classes": [],
            "_model_module": "@jupyter-widgets/controls",
            "_model_module_version": "1.5.0",
            "_model_name": "HTMLModel",
            "_view_count": null,
            "_view_module": "@jupyter-widgets/controls",
            "_view_module_version": "1.5.0",
            "_view_name": "HTMLView",
            "description": "",
            "description_tooltip": null,
            "layout": "IPY_MODEL_a880c60f3b0d46deb0610bdb84cc9cfc",
            "placeholder": "​",
            "style": "IPY_MODEL_cae070a8c3ce44b88f13fcca1b714156",
            "value": " 466k/466k [00:00&lt;00:00, 24.0MB/s]"
          }
        },
        "35515db45f6547869a26f72800375ef4": {
          "model_module": "@jupyter-widgets/base",
          "model_name": "LayoutModel",
          "model_module_version": "1.2.0",
          "state": {
            "_model_module": "@jupyter-widgets/base",
            "_model_module_version": "1.2.0",
            "_model_name": "LayoutModel",
            "_view_count": null,
            "_view_module": "@jupyter-widgets/base",
            "_view_module_version": "1.2.0",
            "_view_name": "LayoutView",
            "align_content": null,
            "align_items": null,
            "align_self": null,
            "border": null,
            "bottom": null,
            "display": null,
            "flex": null,
            "flex_flow": null,
            "grid_area": null,
            "grid_auto_columns": null,
            "grid_auto_flow": null,
            "grid_auto_rows": null,
            "grid_column": null,
            "grid_gap": null,
            "grid_row": null,
            "grid_template_areas": null,
            "grid_template_columns": null,
            "grid_template_rows": null,
            "height": null,
            "justify_content": null,
            "justify_items": null,
            "left": null,
            "margin": null,
            "max_height": null,
            "max_width": null,
            "min_height": null,
            "min_width": null,
            "object_fit": null,
            "object_position": null,
            "order": null,
            "overflow": null,
            "overflow_x": null,
            "overflow_y": null,
            "padding": null,
            "right": null,
            "top": null,
            "visibility": null,
            "width": null
          }
        },
        "705df753e1484df88ac66f2bc3154473": {
          "model_module": "@jupyter-widgets/base",
          "model_name": "LayoutModel",
          "model_module_version": "1.2.0",
          "state": {
            "_model_module": "@jupyter-widgets/base",
            "_model_module_version": "1.2.0",
            "_model_name": "LayoutModel",
            "_view_count": null,
            "_view_module": "@jupyter-widgets/base",
            "_view_module_version": "1.2.0",
            "_view_name": "LayoutView",
            "align_content": null,
            "align_items": null,
            "align_self": null,
            "border": null,
            "bottom": null,
            "display": null,
            "flex": null,
            "flex_flow": null,
            "grid_area": null,
            "grid_auto_columns": null,
            "grid_auto_flow": null,
            "grid_auto_rows": null,
            "grid_column": null,
            "grid_gap": null,
            "grid_row": null,
            "grid_template_areas": null,
            "grid_template_columns": null,
            "grid_template_rows": null,
            "height": null,
            "justify_content": null,
            "justify_items": null,
            "left": null,
            "margin": null,
            "max_height": null,
            "max_width": null,
            "min_height": null,
            "min_width": null,
            "object_fit": null,
            "object_position": null,
            "order": null,
            "overflow": null,
            "overflow_x": null,
            "overflow_y": null,
            "padding": null,
            "right": null,
            "top": null,
            "visibility": null,
            "width": null
          }
        },
        "06dec18e5acd4c49ab5bced61e8fd090": {
          "model_module": "@jupyter-widgets/controls",
          "model_name": "DescriptionStyleModel",
          "model_module_version": "1.5.0",
          "state": {
            "_model_module": "@jupyter-widgets/controls",
            "_model_module_version": "1.5.0",
            "_model_name": "DescriptionStyleModel",
            "_view_count": null,
            "_view_module": "@jupyter-widgets/base",
            "_view_module_version": "1.2.0",
            "_view_name": "StyleView",
            "description_width": ""
          }
        },
        "f25a4546a6c34c48b0c019acaa6f6cd9": {
          "model_module": "@jupyter-widgets/base",
          "model_name": "LayoutModel",
          "model_module_version": "1.2.0",
          "state": {
            "_model_module": "@jupyter-widgets/base",
            "_model_module_version": "1.2.0",
            "_model_name": "LayoutModel",
            "_view_count": null,
            "_view_module": "@jupyter-widgets/base",
            "_view_module_version": "1.2.0",
            "_view_name": "LayoutView",
            "align_content": null,
            "align_items": null,
            "align_self": null,
            "border": null,
            "bottom": null,
            "display": null,
            "flex": null,
            "flex_flow": null,
            "grid_area": null,
            "grid_auto_columns": null,
            "grid_auto_flow": null,
            "grid_auto_rows": null,
            "grid_column": null,
            "grid_gap": null,
            "grid_row": null,
            "grid_template_areas": null,
            "grid_template_columns": null,
            "grid_template_rows": null,
            "height": null,
            "justify_content": null,
            "justify_items": null,
            "left": null,
            "margin": null,
            "max_height": null,
            "max_width": null,
            "min_height": null,
            "min_width": null,
            "object_fit": null,
            "object_position": null,
            "order": null,
            "overflow": null,
            "overflow_x": null,
            "overflow_y": null,
            "padding": null,
            "right": null,
            "top": null,
            "visibility": null,
            "width": null
          }
        },
        "766eadde47a14ca99d0ad6d6d9eaead0": {
          "model_module": "@jupyter-widgets/controls",
          "model_name": "ProgressStyleModel",
          "model_module_version": "1.5.0",
          "state": {
            "_model_module": "@jupyter-widgets/controls",
            "_model_module_version": "1.5.0",
            "_model_name": "ProgressStyleModel",
            "_view_count": null,
            "_view_module": "@jupyter-widgets/base",
            "_view_module_version": "1.2.0",
            "_view_name": "StyleView",
            "bar_color": null,
            "description_width": ""
          }
        },
        "a880c60f3b0d46deb0610bdb84cc9cfc": {
          "model_module": "@jupyter-widgets/base",
          "model_name": "LayoutModel",
          "model_module_version": "1.2.0",
          "state": {
            "_model_module": "@jupyter-widgets/base",
            "_model_module_version": "1.2.0",
            "_model_name": "LayoutModel",
            "_view_count": null,
            "_view_module": "@jupyter-widgets/base",
            "_view_module_version": "1.2.0",
            "_view_name": "LayoutView",
            "align_content": null,
            "align_items": null,
            "align_self": null,
            "border": null,
            "bottom": null,
            "display": null,
            "flex": null,
            "flex_flow": null,
            "grid_area": null,
            "grid_auto_columns": null,
            "grid_auto_flow": null,
            "grid_auto_rows": null,
            "grid_column": null,
            "grid_gap": null,
            "grid_row": null,
            "grid_template_areas": null,
            "grid_template_columns": null,
            "grid_template_rows": null,
            "height": null,
            "justify_content": null,
            "justify_items": null,
            "left": null,
            "margin": null,
            "max_height": null,
            "max_width": null,
            "min_height": null,
            "min_width": null,
            "object_fit": null,
            "object_position": null,
            "order": null,
            "overflow": null,
            "overflow_x": null,
            "overflow_y": null,
            "padding": null,
            "right": null,
            "top": null,
            "visibility": null,
            "width": null
          }
        },
        "cae070a8c3ce44b88f13fcca1b714156": {
          "model_module": "@jupyter-widgets/controls",
          "model_name": "DescriptionStyleModel",
          "model_module_version": "1.5.0",
          "state": {
            "_model_module": "@jupyter-widgets/controls",
            "_model_module_version": "1.5.0",
            "_model_name": "DescriptionStyleModel",
            "_view_count": null,
            "_view_module": "@jupyter-widgets/base",
            "_view_module_version": "1.2.0",
            "_view_name": "StyleView",
            "description_width": ""
          }
        },
        "53ac4d3c650b45208f4c7fd71867aa93": {
          "model_module": "@jupyter-widgets/controls",
          "model_name": "HBoxModel",
          "model_module_version": "1.5.0",
          "state": {
            "_dom_classes": [],
            "_model_module": "@jupyter-widgets/controls",
            "_model_module_version": "1.5.0",
            "_model_name": "HBoxModel",
            "_view_count": null,
            "_view_module": "@jupyter-widgets/controls",
            "_view_module_version": "1.5.0",
            "_view_name": "HBoxView",
            "box_style": "",
            "children": [
              "IPY_MODEL_7c8ea8257bc8428e9e44718d116cda0b",
              "IPY_MODEL_062d70dd0752411a92c2e4a86727667e",
              "IPY_MODEL_1b6fafbea151419d9191e838386dbf8d"
            ],
            "layout": "IPY_MODEL_196377a4b16441698f429ccfa21d785a"
          }
        },
        "7c8ea8257bc8428e9e44718d116cda0b": {
          "model_module": "@jupyter-widgets/controls",
          "model_name": "HTMLModel",
          "model_module_version": "1.5.0",
          "state": {
            "_dom_classes": [],
            "_model_module": "@jupyter-widgets/controls",
            "_model_module_version": "1.5.0",
            "_model_name": "HTMLModel",
            "_view_count": null,
            "_view_module": "@jupyter-widgets/controls",
            "_view_module_version": "1.5.0",
            "_view_name": "HTMLView",
            "description": "",
            "description_tooltip": null,
            "layout": "IPY_MODEL_354c499a6de146ed94766b9631928500",
            "placeholder": "​",
            "style": "IPY_MODEL_ba34012777414177bbce03a2a276d72e",
            "value": "config.json: 100%"
          }
        },
        "062d70dd0752411a92c2e4a86727667e": {
          "model_module": "@jupyter-widgets/controls",
          "model_name": "FloatProgressModel",
          "model_module_version": "1.5.0",
          "state": {
            "_dom_classes": [],
            "_model_module": "@jupyter-widgets/controls",
            "_model_module_version": "1.5.0",
            "_model_name": "FloatProgressModel",
            "_view_count": null,
            "_view_module": "@jupyter-widgets/controls",
            "_view_module_version": "1.5.0",
            "_view_name": "ProgressView",
            "bar_style": "success",
            "description": "",
            "description_tooltip": null,
            "layout": "IPY_MODEL_a33892af31484302ba01d2c990987179",
            "max": 570,
            "min": 0,
            "orientation": "horizontal",
            "style": "IPY_MODEL_fb46f160e4bb4409a1df5450f9791980",
            "value": 570
          }
        },
        "1b6fafbea151419d9191e838386dbf8d": {
          "model_module": "@jupyter-widgets/controls",
          "model_name": "HTMLModel",
          "model_module_version": "1.5.0",
          "state": {
            "_dom_classes": [],
            "_model_module": "@jupyter-widgets/controls",
            "_model_module_version": "1.5.0",
            "_model_name": "HTMLModel",
            "_view_count": null,
            "_view_module": "@jupyter-widgets/controls",
            "_view_module_version": "1.5.0",
            "_view_name": "HTMLView",
            "description": "",
            "description_tooltip": null,
            "layout": "IPY_MODEL_e164fc37228c4837a70750074514427b",
            "placeholder": "​",
            "style": "IPY_MODEL_02b754dee5f945b89b5142e375135669",
            "value": " 570/570 [00:00&lt;00:00, 41.2kB/s]"
          }
        },
        "196377a4b16441698f429ccfa21d785a": {
          "model_module": "@jupyter-widgets/base",
          "model_name": "LayoutModel",
          "model_module_version": "1.2.0",
          "state": {
            "_model_module": "@jupyter-widgets/base",
            "_model_module_version": "1.2.0",
            "_model_name": "LayoutModel",
            "_view_count": null,
            "_view_module": "@jupyter-widgets/base",
            "_view_module_version": "1.2.0",
            "_view_name": "LayoutView",
            "align_content": null,
            "align_items": null,
            "align_self": null,
            "border": null,
            "bottom": null,
            "display": null,
            "flex": null,
            "flex_flow": null,
            "grid_area": null,
            "grid_auto_columns": null,
            "grid_auto_flow": null,
            "grid_auto_rows": null,
            "grid_column": null,
            "grid_gap": null,
            "grid_row": null,
            "grid_template_areas": null,
            "grid_template_columns": null,
            "grid_template_rows": null,
            "height": null,
            "justify_content": null,
            "justify_items": null,
            "left": null,
            "margin": null,
            "max_height": null,
            "max_width": null,
            "min_height": null,
            "min_width": null,
            "object_fit": null,
            "object_position": null,
            "order": null,
            "overflow": null,
            "overflow_x": null,
            "overflow_y": null,
            "padding": null,
            "right": null,
            "top": null,
            "visibility": null,
            "width": null
          }
        },
        "354c499a6de146ed94766b9631928500": {
          "model_module": "@jupyter-widgets/base",
          "model_name": "LayoutModel",
          "model_module_version": "1.2.0",
          "state": {
            "_model_module": "@jupyter-widgets/base",
            "_model_module_version": "1.2.0",
            "_model_name": "LayoutModel",
            "_view_count": null,
            "_view_module": "@jupyter-widgets/base",
            "_view_module_version": "1.2.0",
            "_view_name": "LayoutView",
            "align_content": null,
            "align_items": null,
            "align_self": null,
            "border": null,
            "bottom": null,
            "display": null,
            "flex": null,
            "flex_flow": null,
            "grid_area": null,
            "grid_auto_columns": null,
            "grid_auto_flow": null,
            "grid_auto_rows": null,
            "grid_column": null,
            "grid_gap": null,
            "grid_row": null,
            "grid_template_areas": null,
            "grid_template_columns": null,
            "grid_template_rows": null,
            "height": null,
            "justify_content": null,
            "justify_items": null,
            "left": null,
            "margin": null,
            "max_height": null,
            "max_width": null,
            "min_height": null,
            "min_width": null,
            "object_fit": null,
            "object_position": null,
            "order": null,
            "overflow": null,
            "overflow_x": null,
            "overflow_y": null,
            "padding": null,
            "right": null,
            "top": null,
            "visibility": null,
            "width": null
          }
        },
        "ba34012777414177bbce03a2a276d72e": {
          "model_module": "@jupyter-widgets/controls",
          "model_name": "DescriptionStyleModel",
          "model_module_version": "1.5.0",
          "state": {
            "_model_module": "@jupyter-widgets/controls",
            "_model_module_version": "1.5.0",
            "_model_name": "DescriptionStyleModel",
            "_view_count": null,
            "_view_module": "@jupyter-widgets/base",
            "_view_module_version": "1.2.0",
            "_view_name": "StyleView",
            "description_width": ""
          }
        },
        "a33892af31484302ba01d2c990987179": {
          "model_module": "@jupyter-widgets/base",
          "model_name": "LayoutModel",
          "model_module_version": "1.2.0",
          "state": {
            "_model_module": "@jupyter-widgets/base",
            "_model_module_version": "1.2.0",
            "_model_name": "LayoutModel",
            "_view_count": null,
            "_view_module": "@jupyter-widgets/base",
            "_view_module_version": "1.2.0",
            "_view_name": "LayoutView",
            "align_content": null,
            "align_items": null,
            "align_self": null,
            "border": null,
            "bottom": null,
            "display": null,
            "flex": null,
            "flex_flow": null,
            "grid_area": null,
            "grid_auto_columns": null,
            "grid_auto_flow": null,
            "grid_auto_rows": null,
            "grid_column": null,
            "grid_gap": null,
            "grid_row": null,
            "grid_template_areas": null,
            "grid_template_columns": null,
            "grid_template_rows": null,
            "height": null,
            "justify_content": null,
            "justify_items": null,
            "left": null,
            "margin": null,
            "max_height": null,
            "max_width": null,
            "min_height": null,
            "min_width": null,
            "object_fit": null,
            "object_position": null,
            "order": null,
            "overflow": null,
            "overflow_x": null,
            "overflow_y": null,
            "padding": null,
            "right": null,
            "top": null,
            "visibility": null,
            "width": null
          }
        },
        "fb46f160e4bb4409a1df5450f9791980": {
          "model_module": "@jupyter-widgets/controls",
          "model_name": "ProgressStyleModel",
          "model_module_version": "1.5.0",
          "state": {
            "_model_module": "@jupyter-widgets/controls",
            "_model_module_version": "1.5.0",
            "_model_name": "ProgressStyleModel",
            "_view_count": null,
            "_view_module": "@jupyter-widgets/base",
            "_view_module_version": "1.2.0",
            "_view_name": "StyleView",
            "bar_color": null,
            "description_width": ""
          }
        },
        "e164fc37228c4837a70750074514427b": {
          "model_module": "@jupyter-widgets/base",
          "model_name": "LayoutModel",
          "model_module_version": "1.2.0",
          "state": {
            "_model_module": "@jupyter-widgets/base",
            "_model_module_version": "1.2.0",
            "_model_name": "LayoutModel",
            "_view_count": null,
            "_view_module": "@jupyter-widgets/base",
            "_view_module_version": "1.2.0",
            "_view_name": "LayoutView",
            "align_content": null,
            "align_items": null,
            "align_self": null,
            "border": null,
            "bottom": null,
            "display": null,
            "flex": null,
            "flex_flow": null,
            "grid_area": null,
            "grid_auto_columns": null,
            "grid_auto_flow": null,
            "grid_auto_rows": null,
            "grid_column": null,
            "grid_gap": null,
            "grid_row": null,
            "grid_template_areas": null,
            "grid_template_columns": null,
            "grid_template_rows": null,
            "height": null,
            "justify_content": null,
            "justify_items": null,
            "left": null,
            "margin": null,
            "max_height": null,
            "max_width": null,
            "min_height": null,
            "min_width": null,
            "object_fit": null,
            "object_position": null,
            "order": null,
            "overflow": null,
            "overflow_x": null,
            "overflow_y": null,
            "padding": null,
            "right": null,
            "top": null,
            "visibility": null,
            "width": null
          }
        },
        "02b754dee5f945b89b5142e375135669": {
          "model_module": "@jupyter-widgets/controls",
          "model_name": "DescriptionStyleModel",
          "model_module_version": "1.5.0",
          "state": {
            "_model_module": "@jupyter-widgets/controls",
            "_model_module_version": "1.5.0",
            "_model_name": "DescriptionStyleModel",
            "_view_count": null,
            "_view_module": "@jupyter-widgets/base",
            "_view_module_version": "1.2.0",
            "_view_name": "StyleView",
            "description_width": ""
          }
        },
        "463c0f8b91064eb88e810d38abc587ec": {
          "model_module": "@jupyter-widgets/controls",
          "model_name": "HBoxModel",
          "model_module_version": "1.5.0",
          "state": {
            "_dom_classes": [],
            "_model_module": "@jupyter-widgets/controls",
            "_model_module_version": "1.5.0",
            "_model_name": "HBoxModel",
            "_view_count": null,
            "_view_module": "@jupyter-widgets/controls",
            "_view_module_version": "1.5.0",
            "_view_name": "HBoxView",
            "box_style": "",
            "children": [
              "IPY_MODEL_ebb0f292e1f84026a50e8a440c46071c",
              "IPY_MODEL_4f95b7d518844e1896eedfa3fd853ef1",
              "IPY_MODEL_20eb8cf6de384b5e86d43383b8b7ccac"
            ],
            "layout": "IPY_MODEL_e0fcdc2cb7d04569a0d54d80794a75ca"
          }
        },
        "ebb0f292e1f84026a50e8a440c46071c": {
          "model_module": "@jupyter-widgets/controls",
          "model_name": "HTMLModel",
          "model_module_version": "1.5.0",
          "state": {
            "_dom_classes": [],
            "_model_module": "@jupyter-widgets/controls",
            "_model_module_version": "1.5.0",
            "_model_name": "HTMLModel",
            "_view_count": null,
            "_view_module": "@jupyter-widgets/controls",
            "_view_module_version": "1.5.0",
            "_view_name": "HTMLView",
            "description": "",
            "description_tooltip": null,
            "layout": "IPY_MODEL_6e718aa1dcc241bd930f95e7e78281e1",
            "placeholder": "​",
            "style": "IPY_MODEL_d357c9ed226d42df963081018f54c56e",
            "value": "model.safetensors: 100%"
          }
        },
        "4f95b7d518844e1896eedfa3fd853ef1": {
          "model_module": "@jupyter-widgets/controls",
          "model_name": "FloatProgressModel",
          "model_module_version": "1.5.0",
          "state": {
            "_dom_classes": [],
            "_model_module": "@jupyter-widgets/controls",
            "_model_module_version": "1.5.0",
            "_model_name": "FloatProgressModel",
            "_view_count": null,
            "_view_module": "@jupyter-widgets/controls",
            "_view_module_version": "1.5.0",
            "_view_name": "ProgressView",
            "bar_style": "success",
            "description": "",
            "description_tooltip": null,
            "layout": "IPY_MODEL_2b874ca85c3e4bd38ec09bb71fa360da",
            "max": 440449768,
            "min": 0,
            "orientation": "horizontal",
            "style": "IPY_MODEL_9b6b23cc99c14f8b891f028bddd0f4e1",
            "value": 440449768
          }
        },
        "20eb8cf6de384b5e86d43383b8b7ccac": {
          "model_module": "@jupyter-widgets/controls",
          "model_name": "HTMLModel",
          "model_module_version": "1.5.0",
          "state": {
            "_dom_classes": [],
            "_model_module": "@jupyter-widgets/controls",
            "_model_module_version": "1.5.0",
            "_model_name": "HTMLModel",
            "_view_count": null,
            "_view_module": "@jupyter-widgets/controls",
            "_view_module_version": "1.5.0",
            "_view_name": "HTMLView",
            "description": "",
            "description_tooltip": null,
            "layout": "IPY_MODEL_ed6c5da6606e4582ac5595a340143673",
            "placeholder": "​",
            "style": "IPY_MODEL_7f3041aebd814a63b4f57718e61817b7",
            "value": " 440M/440M [00:05&lt;00:00, 84.4MB/s]"
          }
        },
        "e0fcdc2cb7d04569a0d54d80794a75ca": {
          "model_module": "@jupyter-widgets/base",
          "model_name": "LayoutModel",
          "model_module_version": "1.2.0",
          "state": {
            "_model_module": "@jupyter-widgets/base",
            "_model_module_version": "1.2.0",
            "_model_name": "LayoutModel",
            "_view_count": null,
            "_view_module": "@jupyter-widgets/base",
            "_view_module_version": "1.2.0",
            "_view_name": "LayoutView",
            "align_content": null,
            "align_items": null,
            "align_self": null,
            "border": null,
            "bottom": null,
            "display": null,
            "flex": null,
            "flex_flow": null,
            "grid_area": null,
            "grid_auto_columns": null,
            "grid_auto_flow": null,
            "grid_auto_rows": null,
            "grid_column": null,
            "grid_gap": null,
            "grid_row": null,
            "grid_template_areas": null,
            "grid_template_columns": null,
            "grid_template_rows": null,
            "height": null,
            "justify_content": null,
            "justify_items": null,
            "left": null,
            "margin": null,
            "max_height": null,
            "max_width": null,
            "min_height": null,
            "min_width": null,
            "object_fit": null,
            "object_position": null,
            "order": null,
            "overflow": null,
            "overflow_x": null,
            "overflow_y": null,
            "padding": null,
            "right": null,
            "top": null,
            "visibility": null,
            "width": null
          }
        },
        "6e718aa1dcc241bd930f95e7e78281e1": {
          "model_module": "@jupyter-widgets/base",
          "model_name": "LayoutModel",
          "model_module_version": "1.2.0",
          "state": {
            "_model_module": "@jupyter-widgets/base",
            "_model_module_version": "1.2.0",
            "_model_name": "LayoutModel",
            "_view_count": null,
            "_view_module": "@jupyter-widgets/base",
            "_view_module_version": "1.2.0",
            "_view_name": "LayoutView",
            "align_content": null,
            "align_items": null,
            "align_self": null,
            "border": null,
            "bottom": null,
            "display": null,
            "flex": null,
            "flex_flow": null,
            "grid_area": null,
            "grid_auto_columns": null,
            "grid_auto_flow": null,
            "grid_auto_rows": null,
            "grid_column": null,
            "grid_gap": null,
            "grid_row": null,
            "grid_template_areas": null,
            "grid_template_columns": null,
            "grid_template_rows": null,
            "height": null,
            "justify_content": null,
            "justify_items": null,
            "left": null,
            "margin": null,
            "max_height": null,
            "max_width": null,
            "min_height": null,
            "min_width": null,
            "object_fit": null,
            "object_position": null,
            "order": null,
            "overflow": null,
            "overflow_x": null,
            "overflow_y": null,
            "padding": null,
            "right": null,
            "top": null,
            "visibility": null,
            "width": null
          }
        },
        "d357c9ed226d42df963081018f54c56e": {
          "model_module": "@jupyter-widgets/controls",
          "model_name": "DescriptionStyleModel",
          "model_module_version": "1.5.0",
          "state": {
            "_model_module": "@jupyter-widgets/controls",
            "_model_module_version": "1.5.0",
            "_model_name": "DescriptionStyleModel",
            "_view_count": null,
            "_view_module": "@jupyter-widgets/base",
            "_view_module_version": "1.2.0",
            "_view_name": "StyleView",
            "description_width": ""
          }
        },
        "2b874ca85c3e4bd38ec09bb71fa360da": {
          "model_module": "@jupyter-widgets/base",
          "model_name": "LayoutModel",
          "model_module_version": "1.2.0",
          "state": {
            "_model_module": "@jupyter-widgets/base",
            "_model_module_version": "1.2.0",
            "_model_name": "LayoutModel",
            "_view_count": null,
            "_view_module": "@jupyter-widgets/base",
            "_view_module_version": "1.2.0",
            "_view_name": "LayoutView",
            "align_content": null,
            "align_items": null,
            "align_self": null,
            "border": null,
            "bottom": null,
            "display": null,
            "flex": null,
            "flex_flow": null,
            "grid_area": null,
            "grid_auto_columns": null,
            "grid_auto_flow": null,
            "grid_auto_rows": null,
            "grid_column": null,
            "grid_gap": null,
            "grid_row": null,
            "grid_template_areas": null,
            "grid_template_columns": null,
            "grid_template_rows": null,
            "height": null,
            "justify_content": null,
            "justify_items": null,
            "left": null,
            "margin": null,
            "max_height": null,
            "max_width": null,
            "min_height": null,
            "min_width": null,
            "object_fit": null,
            "object_position": null,
            "order": null,
            "overflow": null,
            "overflow_x": null,
            "overflow_y": null,
            "padding": null,
            "right": null,
            "top": null,
            "visibility": null,
            "width": null
          }
        },
        "9b6b23cc99c14f8b891f028bddd0f4e1": {
          "model_module": "@jupyter-widgets/controls",
          "model_name": "ProgressStyleModel",
          "model_module_version": "1.5.0",
          "state": {
            "_model_module": "@jupyter-widgets/controls",
            "_model_module_version": "1.5.0",
            "_model_name": "ProgressStyleModel",
            "_view_count": null,
            "_view_module": "@jupyter-widgets/base",
            "_view_module_version": "1.2.0",
            "_view_name": "StyleView",
            "bar_color": null,
            "description_width": ""
          }
        },
        "ed6c5da6606e4582ac5595a340143673": {
          "model_module": "@jupyter-widgets/base",
          "model_name": "LayoutModel",
          "model_module_version": "1.2.0",
          "state": {
            "_model_module": "@jupyter-widgets/base",
            "_model_module_version": "1.2.0",
            "_model_name": "LayoutModel",
            "_view_count": null,
            "_view_module": "@jupyter-widgets/base",
            "_view_module_version": "1.2.0",
            "_view_name": "LayoutView",
            "align_content": null,
            "align_items": null,
            "align_self": null,
            "border": null,
            "bottom": null,
            "display": null,
            "flex": null,
            "flex_flow": null,
            "grid_area": null,
            "grid_auto_columns": null,
            "grid_auto_flow": null,
            "grid_auto_rows": null,
            "grid_column": null,
            "grid_gap": null,
            "grid_row": null,
            "grid_template_areas": null,
            "grid_template_columns": null,
            "grid_template_rows": null,
            "height": null,
            "justify_content": null,
            "justify_items": null,
            "left": null,
            "margin": null,
            "max_height": null,
            "max_width": null,
            "min_height": null,
            "min_width": null,
            "object_fit": null,
            "object_position": null,
            "order": null,
            "overflow": null,
            "overflow_x": null,
            "overflow_y": null,
            "padding": null,
            "right": null,
            "top": null,
            "visibility": null,
            "width": null
          }
        },
        "7f3041aebd814a63b4f57718e61817b7": {
          "model_module": "@jupyter-widgets/controls",
          "model_name": "DescriptionStyleModel",
          "model_module_version": "1.5.0",
          "state": {
            "_model_module": "@jupyter-widgets/controls",
            "_model_module_version": "1.5.0",
            "_model_name": "DescriptionStyleModel",
            "_view_count": null,
            "_view_module": "@jupyter-widgets/base",
            "_view_module_version": "1.2.0",
            "_view_name": "StyleView",
            "description_width": ""
          }
        }
      }
    },
    "accelerator": "GPU"
  },
  "cells": [
    {
      "cell_type": "markdown",
      "metadata": {
        "id": "view-in-github",
        "colab_type": "text"
      },
      "source": [
        "<a href=\"https://colab.research.google.com/github/gspiga/TweetSentimentAnalysis/blob/main/bertie_boy.ipynb\" target=\"_parent\"><img src=\"https://colab.research.google.com/assets/colab-badge.svg\" alt=\"Open In Colab\"/></a>"
      ]
    },
    {
      "cell_type": "code",
      "execution_count": 1,
      "metadata": {
        "id": "1fn-oEH6w7Cx",
        "colab": {
          "base_uri": "https://localhost:8080/"
        },
        "outputId": "f532addd-c65d-4817-bc74-8bd400e9b7e3"
      },
      "outputs": [
        {
          "output_type": "stream",
          "name": "stderr",
          "text": [
            "[nltk_data] Downloading package stopwords to /root/nltk_data...\n",
            "[nltk_data]   Unzipping corpora/stopwords.zip.\n"
          ]
        },
        {
          "output_type": "execute_result",
          "data": {
            "text/plain": [
              "True"
            ]
          },
          "metadata": {},
          "execution_count": 1
        }
      ],
      "source": [
        "import pandas as pd\n",
        "import numpy as np\n",
        "import re\n",
        "import nltk\n",
        "from nltk.corpus import stopwords\n",
        "from sklearn.model_selection import train_test_split\n",
        "from sklearn.preprocessing import LabelEncoder\n",
        "nltk.download('stopwords')\n",
        "\n"
      ]
    },
    {
      "cell_type": "markdown",
      "source": [
        "EDA"
      ],
      "metadata": {
        "id": "TCnnXOJqkNKK"
      }
    },
    {
      "cell_type": "code",
      "source": [
        "my_data=pd.read_csv(\"Tweets.csv\")\n"
      ],
      "metadata": {
        "id": "jlG6Z5Hmxgy-"
      },
      "execution_count": 3,
      "outputs": []
    },
    {
      "cell_type": "code",
      "source": [],
      "metadata": {
        "id": "mfD0SMCPk3KT"
      },
      "execution_count": null,
      "outputs": []
    },
    {
      "cell_type": "markdown",
      "source": [
        "RNN"
      ],
      "metadata": {
        "id": "tKq_MUWlkRui"
      }
    },
    {
      "cell_type": "code",
      "source": [
        "def clean_text(text):\n",
        "    text = re.sub(r'http\\S+', '', text)   # Remove URLs\n",
        "    text = re.sub(r'<.*?>', '', text)     # Remove HTML tags\n",
        "    text = re.sub(r'[^\\w\\s]', '', text)   # Remove punctuation and special chars\n",
        "    text = text.lower()                   # Convert to lowercase\n",
        "    # Remove stopwords\n",
        "    text = ' '.join([word for word in text.split() if word not in stopwords.words('english')])\n",
        "    return text\n",
        "\n",
        "my_data['cleaned_text'] = my_data['text'].apply(clean_text)\n"
      ],
      "metadata": {
        "id": "snzUH6Zq7QD_"
      },
      "execution_count": 4,
      "outputs": []
    },
    {
      "cell_type": "code",
      "source": [
        "clean_text(\"My @Southwest flight was delayed AGAIN!! Airline rep was entirely unhelpful :()\")"
      ],
      "metadata": {
        "colab": {
          "base_uri": "https://localhost:8080/",
          "height": 36
        },
        "id": "zbgkcw7an3LU",
        "outputId": "883aafea-81f0-4e1d-d100-df8067e2181d"
      },
      "execution_count": 5,
      "outputs": [
        {
          "output_type": "execute_result",
          "data": {
            "text/plain": [
              "'southwest flight delayed airline rep entirely unhelpful'"
            ],
            "application/vnd.google.colaboratory.intrinsic+json": {
              "type": "string"
            }
          },
          "metadata": {},
          "execution_count": 5
        }
      ]
    },
    {
      "cell_type": "code",
      "source": [
        "from keras.preprocessing.text import Tokenizer\n",
        "from keras.preprocessing.sequence import pad_sequences\n",
        "\n",
        "tokenizer = Tokenizer()\n",
        "tokenizer.fit_on_texts(my_data['cleaned_text'])\n",
        "sequences = tokenizer.texts_to_sequences(my_data['cleaned_text'])\n",
        "\n",
        "# Define maximum sequence length\n",
        "max_seq_length = max([len(x) for x in sequences])\n",
        "word_index = tokenizer.word_index\n",
        "print(f'Found {len(word_index)} unique tokens.')\n",
        "\n",
        "data = pad_sequences(sequences, maxlen=max_seq_length)\n"
      ],
      "metadata": {
        "colab": {
          "base_uri": "https://localhost:8080/"
        },
        "id": "bijcb_l_7vwX",
        "outputId": "2d20286a-12d6-4622-c9b1-866dec9da69d"
      },
      "execution_count": 6,
      "outputs": [
        {
          "output_type": "stream",
          "name": "stdout",
          "text": [
            "Found 15402 unique tokens.\n"
          ]
        }
      ]
    },
    {
      "cell_type": "code",
      "source": [
        "le = LabelEncoder()\n",
        "my_data['sentiment'] = le.fit_transform(my_data['airline_sentiment'])\n"
      ],
      "metadata": {
        "id": "DCecIu6n7jf2"
      },
      "execution_count": 7,
      "outputs": []
    },
    {
      "cell_type": "code",
      "source": [
        "labels = my_data['sentiment'].values\n",
        "X_train, X_test, y_train, y_test = train_test_split(data, labels, test_size=0.2, random_state=42)\n"
      ],
      "metadata": {
        "id": "Q40fiBAE71HL"
      },
      "execution_count": 8,
      "outputs": []
    },
    {
      "cell_type": "code",
      "source": [
        "from torch.utils.data import Dataset, DataLoader\n",
        "\n",
        "class TweetDataset(Dataset):\n",
        "    def __init__(self, tweets, labels):\n",
        "        self.tweets = tweets\n",
        "        self.labels = labels\n",
        "\n",
        "    def __len__(self):\n",
        "        return len(self.tweets)\n",
        "\n",
        "    def __getitem__(self, idx):\n",
        "        tweet = self.tweets[idx]\n",
        "        label = self.labels[idx]\n",
        "        return tweet, label\n",
        "\n",
        "# Assuming X_train, y_train are your input and output training data\n",
        "train_dataset = TweetDataset(X_train, y_train)\n",
        "train_loader = DataLoader(train_dataset, batch_size=32, shuffle=True, drop_last=False)\n",
        "\n",
        "\n",
        "\n"
      ],
      "metadata": {
        "id": "nzYfYGS672lM"
      },
      "execution_count": null,
      "outputs": []
    },
    {
      "cell_type": "code",
      "source": [
        "import torch\n",
        "import torch.nn as nn\n",
        "\n",
        "class SentimentModel(nn.Module):\n",
        "    def __init__(self, vocab_size, embedding_dim, hidden_dim, output_dim, n_layers,\n",
        "                 bidirectional, dropout):\n",
        "        super().__init__()\n",
        "        self.embedding = nn.Embedding(vocab_size, embedding_dim)\n",
        "        self.rnn = nn.LSTM(embedding_dim, hidden_dim, num_layers=n_layers,\n",
        "                   bidirectional=bidirectional, dropout=dropout, batch_first=True)\n",
        "        self.fc = nn.Linear(hidden_dim * 2, output_dim)\n",
        "        self.dropout = nn.Dropout(dropout)\n",
        "\n",
        "    def forward(self, text):\n",
        "      #print(\"Input text shape:\", text.size())  # Debug, working now\n",
        "      embedded = self.dropout(self.embedding(text))\n",
        "      #print(\"After embedding:\", embedded.size())  # Debug, working now\n",
        "      output, (hidden, cell) = self.rnn(embedded)\n",
        "      #print(\"Output shape:\", output.size(), \"Hidden shape:\", hidden.size())  # Debug, working nw!\n",
        "\n",
        "      hidden = torch.cat((hidden[-2,:,:], hidden[-1,:,:]), dim=1)\n",
        "      hidden = self.dropout(hidden)\n",
        "\n",
        "      # Ensure the hidden state is correctly reshaped for the fully connected layer\n",
        "      hidden = hidden.view(hidden.shape[0], -1)  # Reshape without squeezing\n",
        "      return self.fc(hidden)\n",
        "\n",
        "\n",
        "\n",
        "# Example parameters\n",
        "tokenizer = Tokenizer()\n",
        "tokenizer.fit_on_texts(my_data['cleaned_text'])\n",
        "word_index = tokenizer.word_index\n",
        "\n",
        "# Add 1 because the index 0 is reserved and not assigned to any word\n",
        "vocab_size = len(word_index) + 1\n",
        "embedding_dim = 100\n",
        "hidden_dim = 256\n",
        "output_dim = 3 # for 3 sentiment classes\n",
        "n_layers = 2\n",
        "bidirectional = True\n",
        "dropout = 0.5\n",
        "\n",
        "model = SentimentModel(vocab_size, embedding_dim, hidden_dim, output_dim, n_layers, bidirectional, dropout)\n"
      ],
      "metadata": {
        "id": "z0BapOab7747"
      },
      "execution_count": null,
      "outputs": []
    },
    {
      "cell_type": "code",
      "source": [
        "import torch.optim as optim\n",
        "\n",
        "# Define loss function and optimizer\n",
        "criterion = nn.CrossEntropyLoss() # use CrossEntropyLoss for multi-class classification\n",
        "optimizer = optim.Adam(model.parameters())\n",
        "\n",
        "# Training loop\n",
        "num_epochs = 5\n",
        "for epoch in range(num_epochs):\n",
        "    model.train()\n",
        "    for tweets, labels in train_loader:\n",
        "        optimizer.zero_grad()\n",
        "        #print(\"Input shape:\", tweets.size())  # Debugging print\n",
        "        predictions = model(tweets)\n",
        "        #print(\"Output shape:\", predictions.size(), \"Labels shape:\", labels.size())  # Debugging print\n",
        "        loss = criterion(predictions, labels)\n",
        "        loss.backward()\n",
        "        optimizer.step()\n",
        "    print(f'Epoch {epoch+1}: Loss = {loss.item()}')\n"
      ],
      "metadata": {
        "colab": {
          "base_uri": "https://localhost:8080/"
        },
        "id": "QVrHaUzZ8irV",
        "outputId": "51ddefad-0fd9-4679-debd-e7abe20fd814"
      },
      "execution_count": null,
      "outputs": [
        {
          "output_type": "stream",
          "name": "stdout",
          "text": [
            "Epoch 1: Loss = 0.6884427070617676\n",
            "Epoch 2: Loss = 0.5450142621994019\n",
            "Epoch 3: Loss = 0.8621058464050293\n",
            "Epoch 4: Loss = 0.46893492341041565\n",
            "Epoch 5: Loss = 0.5513229966163635\n"
          ]
        }
      ]
    },
    {
      "cell_type": "code",
      "source": [
        "from torch.utils.data import TensorDataset, DataLoader\n",
        "\n",
        "# Convert test data to PyTorch tensors\n",
        "X_test_tensor = torch.tensor(X_test, dtype=torch.long)\n",
        "y_test_tensor = torch.tensor(y_test, dtype=torch.long)\n",
        "\n",
        "# Create a TensorDataset\n",
        "test_dataset = TensorDataset(X_test_tensor, y_test_tensor)\n",
        "\n",
        "# Create a DataLoader\n",
        "test_loader = DataLoader(test_dataset, batch_size=32, shuffle=False)\n"
      ],
      "metadata": {
        "id": "rgCwmh8E9Pkk"
      },
      "execution_count": null,
      "outputs": []
    },
    {
      "cell_type": "code",
      "source": [
        "def evaluate_model(model, test_loader):\n",
        "    model.eval()\n",
        "    total_correct = 0\n",
        "    total = 0\n",
        "\n",
        "    with torch.no_grad():\n",
        "        for inputs, labels in test_loader:\n",
        "            outputs = model(inputs)\n",
        "            _, predicted = torch.max(outputs, 1)\n",
        "            total += labels.size(0)\n",
        "            total_correct += (predicted == labels).sum().item()\n",
        "\n",
        "    accuracy = total_correct / total\n",
        "    return accuracy\n"
      ],
      "metadata": {
        "id": "C4_YSR3CDNGY"
      },
      "execution_count": null,
      "outputs": []
    },
    {
      "cell_type": "code",
      "source": [
        "accuracy = evaluate_model(model, test_loader)\n",
        "print(f'Test Accuracy: {accuracy * 100:.2f}%')\n"
      ],
      "metadata": {
        "colab": {
          "base_uri": "https://localhost:8080/"
        },
        "id": "8d0OIAIlDO5M",
        "outputId": "993f35d5-d983-4fa2-b387-1b203019dcb8"
      },
      "execution_count": null,
      "outputs": [
        {
          "output_type": "stream",
          "name": "stdout",
          "text": [
            "Test Accuracy: 77.36%\n"
          ]
        }
      ]
    },
    {
      "cell_type": "markdown",
      "source": [
        "BERT"
      ],
      "metadata": {
        "id": "mxKOdc68mGv6"
      }
    },
    {
      "cell_type": "code",
      "source": [
        "#!pip install transformers"
      ],
      "metadata": {
        "colab": {
          "base_uri": "https://localhost:8080/"
        },
        "id": "XqfVOIhNmIQD",
        "outputId": "66e9db7d-11de-462c-94d7-ef849b4a5d12"
      },
      "execution_count": null,
      "outputs": [
        {
          "output_type": "stream",
          "name": "stdout",
          "text": [
            "Requirement already satisfied: transformers in /usr/local/lib/python3.10/dist-packages (4.35.2)\n",
            "Requirement already satisfied: filelock in /usr/local/lib/python3.10/dist-packages (from transformers) (3.13.1)\n",
            "Requirement already satisfied: huggingface-hub<1.0,>=0.16.4 in /usr/local/lib/python3.10/dist-packages (from transformers) (0.19.4)\n",
            "Requirement already satisfied: numpy>=1.17 in /usr/local/lib/python3.10/dist-packages (from transformers) (1.23.5)\n",
            "Requirement already satisfied: packaging>=20.0 in /usr/local/lib/python3.10/dist-packages (from transformers) (23.2)\n",
            "Requirement already satisfied: pyyaml>=5.1 in /usr/local/lib/python3.10/dist-packages (from transformers) (6.0.1)\n",
            "Requirement already satisfied: regex!=2019.12.17 in /usr/local/lib/python3.10/dist-packages (from transformers) (2023.6.3)\n",
            "Requirement already satisfied: requests in /usr/local/lib/python3.10/dist-packages (from transformers) (2.31.0)\n",
            "Requirement already satisfied: tokenizers<0.19,>=0.14 in /usr/local/lib/python3.10/dist-packages (from transformers) (0.15.0)\n",
            "Requirement already satisfied: safetensors>=0.3.1 in /usr/local/lib/python3.10/dist-packages (from transformers) (0.4.0)\n",
            "Requirement already satisfied: tqdm>=4.27 in /usr/local/lib/python3.10/dist-packages (from transformers) (4.66.1)\n",
            "Requirement already satisfied: fsspec>=2023.5.0 in /usr/local/lib/python3.10/dist-packages (from huggingface-hub<1.0,>=0.16.4->transformers) (2023.6.0)\n",
            "Requirement already satisfied: typing-extensions>=3.7.4.3 in /usr/local/lib/python3.10/dist-packages (from huggingface-hub<1.0,>=0.16.4->transformers) (4.5.0)\n",
            "Requirement already satisfied: charset-normalizer<4,>=2 in /usr/local/lib/python3.10/dist-packages (from requests->transformers) (3.3.2)\n",
            "Requirement already satisfied: idna<4,>=2.5 in /usr/local/lib/python3.10/dist-packages (from requests->transformers) (3.4)\n",
            "Requirement already satisfied: urllib3<3,>=1.21.1 in /usr/local/lib/python3.10/dist-packages (from requests->transformers) (2.0.7)\n",
            "Requirement already satisfied: certifi>=2017.4.17 in /usr/local/lib/python3.10/dist-packages (from requests->transformers) (2023.7.22)\n"
          ]
        }
      ]
    },
    {
      "cell_type": "code",
      "source": [
        "import torch\n",
        "from transformers import TFBertForSequenceClassification,AutoTokenizer,BertTokenizer,AdamW,get_linear_schedule_with_warmup,AutoModel,BertModel"
      ],
      "metadata": {
        "id": "aUuUH7M-mUpq"
      },
      "execution_count": 9,
      "outputs": []
    },
    {
      "cell_type": "code",
      "source": [
        "my_data['airline_sentiment'].value_counts()"
      ],
      "metadata": {
        "id": "-BaMHVriXx41",
        "outputId": "11c84cb5-676e-453e-eab2-2512956e4fc4",
        "colab": {
          "base_uri": "https://localhost:8080/"
        }
      },
      "execution_count": 31,
      "outputs": [
        {
          "output_type": "execute_result",
          "data": {
            "text/plain": [
              "negative    9178\n",
              "neutral     3099\n",
              "positive    2363\n",
              "Name: airline_sentiment, dtype: int64"
            ]
          },
          "metadata": {},
          "execution_count": 31
        }
      ]
    },
    {
      "cell_type": "code",
      "source": [
        "indices_to_remove = my_data[my_data['airline_sentiment']=='negative'].head(5000).index\n",
        "balanced_df = my_data.drop(indices_to_remove)"
      ],
      "metadata": {
        "id": "CBIOL5JabFBf"
      },
      "execution_count": 35,
      "outputs": []
    },
    {
      "cell_type": "code",
      "source": [
        "balanced_df['airline_sentiment'].value_counts()"
      ],
      "metadata": {
        "id": "4BoVw0Ebbrbo",
        "outputId": "adbac636-cbe0-4d68-ae59-bcf4d62ce5f5",
        "colab": {
          "base_uri": "https://localhost:8080/"
        }
      },
      "execution_count": 37,
      "outputs": [
        {
          "output_type": "execute_result",
          "data": {
            "text/plain": [
              "negative    4178\n",
              "neutral     3099\n",
              "positive    2363\n",
              "Name: airline_sentiment, dtype: int64"
            ]
          },
          "metadata": {},
          "execution_count": 37
        }
      ]
    },
    {
      "cell_type": "code",
      "source": [
        "from imblearn.under_sampling import RandomUnderSampler\n",
        "\n",
        "column_name = 'airline_sentiment'\n",
        "rus = RandomUnderSampler()\n",
        "X_resampled, y_resampled = rus.fit_resample(my_data[[column_name]], my_data[column_name])"
      ],
      "metadata": {
        "id": "mfIdyh_DZnTi"
      },
      "execution_count": 28,
      "outputs": []
    },
    {
      "cell_type": "code",
      "source": [
        "train_data, val_data = train_test_split(my_data, test_size=0.2, random_state=42)\n",
        "#using BERT Encoder with padding and lemmatization\n",
        "tokenizer = BertTokenizer.from_pretrained('bert-base-uncased')\n",
        "train_encoding=tokenizer(list(train_data['cleaned_text']),truncation=True,padding=True)\n",
        "valid_encoding=tokenizer(list(val_data['cleaned_text']),truncation=True,padding=True)\n",
        "\n",
        "sentiment_dict = {'positive': 0, 'negative': 1, 'neutral': 2}\n",
        "\n",
        "train_labels = train_data['airline_sentiment'].map(sentiment_dict).values.astype('int64')\n",
        "valid_labels = val_data['airline_sentiment'].map(sentiment_dict).values.astype('int64')"
      ],
      "metadata": {
        "id": "7qg9jpCQnfjy",
        "colab": {
          "base_uri": "https://localhost:8080/",
          "height": 145,
          "referenced_widgets": [
            "04e89a0702fc49f69cc4d2a2108eb168",
            "2f63c9f1530f4a31b7cbfe97dea4f4db",
            "07a29ae038ef4ddb9cd2753ac9efbe20",
            "a60d98995b7444b79b1a8af3dd321edd",
            "94693dad7f244e8ba61b6a20b4d30573",
            "e0b7675c134a4019af2ac52e13e9ab8c",
            "f25a635ab1c340e7a3a1e3d4f97b47f5",
            "6af27e24372a4885b9038ed610911802",
            "ddf8c91ff8e04f97afd6e6dc8bb58ad7",
            "846e921d6cb044598081163bab7ac8ab",
            "7da146bc6d474eaa9aadb387580df0dc",
            "1b9767aea12f42cda6dd09dd309adb8a",
            "ffec751dbb904cc38eb259710ad88f84",
            "ac6334d17ad545a89c974594d97a4bb6",
            "8443c97665f544b7a1eb8a1b4b7baa32",
            "dfe429ce8d984c768c32c9472d5bc972",
            "3ea99f800c0d4003be94ee79662a4337",
            "90264feee0da4f81b26e9d82e43ddba7",
            "cd9e3b9c5daa4aeda292d88f635e96f2",
            "510cabc2bbe94e929f9d8ed7e2325a31",
            "26aa7c6c56b34c30a1b4dc3f22bd4cb3",
            "5d35cdafaaf04a4084c19d54bb26c492",
            "327abcd141bc4cd98c2215bc8e0619bf",
            "114ebf2953d640c68730acc1b02c3bd0",
            "0aef956eeed6456980efd914b358f52e",
            "ba38b9eac0994c6a853a341b8774f5be",
            "35515db45f6547869a26f72800375ef4",
            "705df753e1484df88ac66f2bc3154473",
            "06dec18e5acd4c49ab5bced61e8fd090",
            "f25a4546a6c34c48b0c019acaa6f6cd9",
            "766eadde47a14ca99d0ad6d6d9eaead0",
            "a880c60f3b0d46deb0610bdb84cc9cfc",
            "cae070a8c3ce44b88f13fcca1b714156",
            "53ac4d3c650b45208f4c7fd71867aa93",
            "7c8ea8257bc8428e9e44718d116cda0b",
            "062d70dd0752411a92c2e4a86727667e",
            "1b6fafbea151419d9191e838386dbf8d",
            "196377a4b16441698f429ccfa21d785a",
            "354c499a6de146ed94766b9631928500",
            "ba34012777414177bbce03a2a276d72e",
            "a33892af31484302ba01d2c990987179",
            "fb46f160e4bb4409a1df5450f9791980",
            "e164fc37228c4837a70750074514427b",
            "02b754dee5f945b89b5142e375135669"
          ]
        },
        "outputId": "e48079c4-e7b8-4836-e4d3-7b671ae20f9d"
      },
      "execution_count": 11,
      "outputs": [
        {
          "output_type": "display_data",
          "data": {
            "text/plain": [
              "tokenizer_config.json:   0%|          | 0.00/28.0 [00:00<?, ?B/s]"
            ],
            "application/vnd.jupyter.widget-view+json": {
              "version_major": 2,
              "version_minor": 0,
              "model_id": "04e89a0702fc49f69cc4d2a2108eb168"
            }
          },
          "metadata": {}
        },
        {
          "output_type": "display_data",
          "data": {
            "text/plain": [
              "vocab.txt:   0%|          | 0.00/232k [00:00<?, ?B/s]"
            ],
            "application/vnd.jupyter.widget-view+json": {
              "version_major": 2,
              "version_minor": 0,
              "model_id": "1b9767aea12f42cda6dd09dd309adb8a"
            }
          },
          "metadata": {}
        },
        {
          "output_type": "display_data",
          "data": {
            "text/plain": [
              "tokenizer.json:   0%|          | 0.00/466k [00:00<?, ?B/s]"
            ],
            "application/vnd.jupyter.widget-view+json": {
              "version_major": 2,
              "version_minor": 0,
              "model_id": "327abcd141bc4cd98c2215bc8e0619bf"
            }
          },
          "metadata": {}
        },
        {
          "output_type": "display_data",
          "data": {
            "text/plain": [
              "config.json:   0%|          | 0.00/570 [00:00<?, ?B/s]"
            ],
            "application/vnd.jupyter.widget-view+json": {
              "version_major": 2,
              "version_minor": 0,
              "model_id": "53ac4d3c650b45208f4c7fd71867aa93"
            }
          },
          "metadata": {}
        }
      ]
    },
    {
      "cell_type": "code",
      "source": [
        "print(len(train_labels))\n",
        "print(len(valid_labels))\n",
        "print(len(train_encoding))\n",
        "print(len(valid_encoding))"
      ],
      "metadata": {
        "colab": {
          "base_uri": "https://localhost:8080/"
        },
        "id": "hw9fklCHv_WA",
        "outputId": "a4561d75-8fd5-4487-9dda-e3edd71b7cf0"
      },
      "execution_count": 12,
      "outputs": [
        {
          "output_type": "stream",
          "name": "stdout",
          "text": [
            "11712\n",
            "2928\n",
            "3\n",
            "3\n"
          ]
        }
      ]
    },
    {
      "cell_type": "code",
      "source": [
        "import tensorflow as tf"
      ],
      "metadata": {
        "id": "gW8G8akUwcj2"
      },
      "execution_count": 13,
      "outputs": []
    },
    {
      "cell_type": "code",
      "source": [
        "train_dataset = tf.data.Dataset.from_tensor_slices((dict(train_encoding), train_labels)).shuffle(len(train_labels)).batch(32)\n",
        "val_dataset = tf.data.Dataset.from_tensor_slices((dict(valid_encoding), valid_labels)).batch(32)\n",
        "\n",
        "# Load the pre-trained BERT model for sequence classification\n",
        "model = TFBertForSequenceClassification.from_pretrained('bert-base-uncased', num_labels=3)\n",
        "\n",
        "# Fine-tune the model\n",
        "optimizer = tf.keras.optimizers.Adam(learning_rate=2e-5, epsilon=1e-08, clipnorm=1.0)\n",
        "loss = tf.keras.losses.SparseCategoricalCrossentropy(from_logits=True)\n",
        "metric = tf.keras.metrics.SparseCategoricalAccuracy('accuracy')\n",
        "model.compile(optimizer=optimizer, loss=loss, metrics=[metric])\n",
        "history = model.fit(train_dataset, epochs=10, validation_data=val_dataset)"
      ],
      "metadata": {
        "colab": {
          "base_uri": "https://localhost:8080/",
          "height": 485,
          "referenced_widgets": [
            "463c0f8b91064eb88e810d38abc587ec",
            "ebb0f292e1f84026a50e8a440c46071c",
            "4f95b7d518844e1896eedfa3fd853ef1",
            "20eb8cf6de384b5e86d43383b8b7ccac",
            "e0fcdc2cb7d04569a0d54d80794a75ca",
            "6e718aa1dcc241bd930f95e7e78281e1",
            "d357c9ed226d42df963081018f54c56e",
            "2b874ca85c3e4bd38ec09bb71fa360da",
            "9b6b23cc99c14f8b891f028bddd0f4e1",
            "ed6c5da6606e4582ac5595a340143673",
            "7f3041aebd814a63b4f57718e61817b7"
          ]
        },
        "id": "_el2kFGVwRF6",
        "outputId": "3110a28e-3b9b-4765-e7c2-a3e14e277b64"
      },
      "execution_count": 14,
      "outputs": [
        {
          "output_type": "display_data",
          "data": {
            "text/plain": [
              "model.safetensors:   0%|          | 0.00/440M [00:00<?, ?B/s]"
            ],
            "application/vnd.jupyter.widget-view+json": {
              "version_major": 2,
              "version_minor": 0,
              "model_id": "463c0f8b91064eb88e810d38abc587ec"
            }
          },
          "metadata": {}
        },
        {
          "output_type": "stream",
          "name": "stderr",
          "text": [
            "All PyTorch model weights were used when initializing TFBertForSequenceClassification.\n",
            "\n",
            "Some weights or buffers of the TF 2.0 model TFBertForSequenceClassification were not initialized from the PyTorch model and are newly initialized: ['classifier.weight', 'classifier.bias']\n",
            "You should probably TRAIN this model on a down-stream task to be able to use it for predictions and inference.\n"
          ]
        },
        {
          "output_type": "stream",
          "name": "stdout",
          "text": [
            "Epoch 1/10\n",
            "366/366 [==============================] - 168s 316ms/step - loss: 0.6253 - accuracy: 0.7479 - val_loss: 0.4715 - val_accuracy: 0.8166\n",
            "Epoch 2/10\n",
            "366/366 [==============================] - 109s 297ms/step - loss: 0.4313 - accuracy: 0.8335 - val_loss: 0.4601 - val_accuracy: 0.8204\n",
            "Epoch 3/10\n",
            "366/366 [==============================] - 111s 303ms/step - loss: 0.3034 - accuracy: 0.8893 - val_loss: 0.5709 - val_accuracy: 0.8149\n",
            "Epoch 4/10\n",
            "366/366 [==============================] - 112s 306ms/step - loss: 0.1936 - accuracy: 0.9314 - val_loss: 0.5759 - val_accuracy: 0.8159\n",
            "Epoch 5/10\n",
            "366/366 [==============================] - 111s 302ms/step - loss: 0.1205 - accuracy: 0.9606 - val_loss: 0.6764 - val_accuracy: 0.8149\n",
            "Epoch 6/10\n",
            "366/366 [==============================] - 111s 302ms/step - loss: 0.0804 - accuracy: 0.9741 - val_loss: 0.7584 - val_accuracy: 0.8145\n",
            "Epoch 7/10\n",
            "366/366 [==============================] - 113s 309ms/step - loss: 0.0621 - accuracy: 0.9781 - val_loss: 0.8176 - val_accuracy: 0.8128\n",
            "Epoch 8/10\n",
            "366/366 [==============================] - 110s 302ms/step - loss: 0.0470 - accuracy: 0.9851 - val_loss: 0.8812 - val_accuracy: 0.8163\n",
            "Epoch 9/10\n",
            "366/366 [==============================] - 111s 304ms/step - loss: 0.0410 - accuracy: 0.9872 - val_loss: 0.8951 - val_accuracy: 0.8149\n",
            "Epoch 10/10\n",
            "366/366 [==============================] - 111s 304ms/step - loss: 0.0387 - accuracy: 0.9874 - val_loss: 0.9050 - val_accuracy: 0.8272\n"
          ]
        }
      ]
    },
    {
      "cell_type": "code",
      "source": [
        "import matplotlib.pyplot as plt\n",
        "\n",
        "# Plot training and validation loss\n",
        "plt.plot(history.history['loss'], label='Training Loss')\n",
        "plt.plot(history.history['val_loss'], label='Validation Loss')\n",
        "plt.legend()\n",
        "plt.show()\n",
        "\n",
        "# Plot training and validation accuracy\n",
        "plt.plot(history.history['accuracy'], label='Training Accuracy')\n",
        "plt.plot(history.history['val_accuracy'], label='Validation Accuracy')\n",
        "plt.legend()\n",
        "plt.show()"
      ],
      "metadata": {
        "id": "AsV7tR_u4xyw",
        "outputId": "4bb34552-c414-48ef-8cc4-84cb61760631",
        "colab": {
          "base_uri": "https://localhost:8080/",
          "height": 843
        }
      },
      "execution_count": 15,
      "outputs": [
        {
          "output_type": "display_data",
          "data": {
            "text/plain": [
              "<Figure size 640x480 with 1 Axes>"
            ],
            "image/png": "[encoded data removed]"
          },
          "metadata": {}
        },
        {
          "output_type": "display_data",
          "data": {
            "text/plain": [
              "<Figure size 640x480 with 1 Axes>"
            ],
            "image/png": "[encoded data removed]"
          },
          "metadata": {}
        }
      ]
    },
    {
      "cell_type": "code",
      "source": [
        "train_data, val_data = train_test_split(balanced_df, test_size=0.2, random_state=42)\n",
        "#using BERT Encoder with padding and lemmatization\n",
        "tokenizer = BertTokenizer.from_pretrained('bert-base-uncased')\n",
        "train_encoding=tokenizer(list(train_data['cleaned_text']),truncation=True,padding=True)\n",
        "valid_encoding=tokenizer(list(val_data['cleaned_text']),truncation=True,padding=True)\n",
        "\n",
        "sentiment_dict = {'positive': 0, 'negative': 1, 'neutral': 2}\n",
        "\n",
        "train_labels = train_data['airline_sentiment'].map(sentiment_dict).values.astype('int64')\n",
        "valid_labels = val_data['airline_sentiment'].map(sentiment_dict).values.astype('int64')"
      ],
      "metadata": {
        "id": "Gmo0aU0HXJ0A"
      },
      "execution_count": 39,
      "outputs": []
    },
    {
      "cell_type": "code",
      "source": [
        "train_dataset = tf.data.Dataset.from_tensor_slices((dict(train_encoding), train_labels)).shuffle(len(train_labels)).batch(32)\n",
        "val_dataset = tf.data.Dataset.from_tensor_slices((dict(valid_encoding), valid_labels)).batch(32)\n",
        "\n",
        "# Load the pre-trained BERT model for sequence classification\n",
        "model = TFBertForSequenceClassification.from_pretrained('bert-base-uncased', num_labels=3)\n",
        "\n",
        "# Fine-tune the model\n",
        "optimizer = tf.keras.optimizers.Adam(learning_rate=2e-5, epsilon=1e-08, clipnorm=1.0)\n",
        "loss = tf.keras.losses.SparseCategoricalCrossentropy(from_logits=True)\n",
        "metric = tf.keras.metrics.SparseCategoricalAccuracy('accuracy')\n",
        "model.compile(optimizer=optimizer, loss=loss, metrics=[metric])\n",
        "history = model.fit(train_dataset, epochs=10, validation_data=val_dataset)"
      ],
      "metadata": {
        "id": "qFL_bwl6clbh",
        "outputId": "043f43b6-63b3-4d1b-bf25-939a885442ff",
        "colab": {
          "base_uri": "https://localhost:8080/"
        }
      },
      "execution_count": 40,
      "outputs": [
        {
          "output_type": "stream",
          "name": "stderr",
          "text": [
            "All PyTorch model weights were used when initializing TFBertForSequenceClassification.\n",
            "\n",
            "Some weights or buffers of the TF 2.0 model TFBertForSequenceClassification were not initialized from the PyTorch model and are newly initialized: ['classifier.weight', 'classifier.bias']\n",
            "You should probably TRAIN this model on a down-stream task to be able to use it for predictions and inference.\n"
          ]
        },
        {
          "output_type": "stream",
          "name": "stdout",
          "text": [
            "Epoch 1/10\n",
            "241/241 [==============================] - 130s 348ms/step - loss: 0.5818 - accuracy: 0.7554 - val_loss: 0.4467 - val_accuracy: 0.8294\n",
            "Epoch 2/10\n",
            "241/241 [==============================] - 82s 339ms/step - loss: 0.3698 - accuracy: 0.8563 - val_loss: 0.4074 - val_accuracy: 0.8439\n",
            "Epoch 3/10\n",
            "241/241 [==============================] - 81s 337ms/step - loss: 0.2510 - accuracy: 0.9091 - val_loss: 0.4810 - val_accuracy: 0.8314\n",
            "Epoch 4/10\n",
            "241/241 [==============================] - 80s 334ms/step - loss: 0.1610 - accuracy: 0.9455 - val_loss: 0.5666 - val_accuracy: 0.8174\n",
            "Epoch 5/10\n",
            "241/241 [==============================] - 81s 334ms/step - loss: 0.0987 - accuracy: 0.9699 - val_loss: 0.6562 - val_accuracy: 0.8361\n",
            "Epoch 6/10\n",
            "241/241 [==============================] - 76s 314ms/step - loss: 0.0684 - accuracy: 0.9781 - val_loss: 0.7630 - val_accuracy: 0.8164\n",
            "Epoch 7/10\n",
            "241/241 [==============================] - 76s 313ms/step - loss: 0.0599 - accuracy: 0.9811 - val_loss: 0.7143 - val_accuracy: 0.8325\n",
            "Epoch 8/10\n",
            "241/241 [==============================] - 76s 314ms/step - loss: 0.0427 - accuracy: 0.9866 - val_loss: 0.7217 - val_accuracy: 0.8268\n",
            "Epoch 9/10\n",
            "241/241 [==============================] - 76s 314ms/step - loss: 0.0357 - accuracy: 0.9890 - val_loss: 0.8549 - val_accuracy: 0.8325\n",
            "Epoch 10/10\n",
            "241/241 [==============================] - 76s 314ms/step - loss: 0.0322 - accuracy: 0.9887 - val_loss: 0.9098 - val_accuracy: 0.8211\n"
          ]
        }
      ]
    },
    {
      "cell_type": "code",
      "source": [],
      "metadata": {
        "id": "eSuzERQLi_Xa"
      },
      "execution_count": null,
      "outputs": []
    },
    {
      "cell_type": "code",
      "source": [
        "import matplotlib.pyplot as plt\n",
        "\n",
        "# Plot training and validation loss\n",
        "plt.plot(history.history['loss'], label='Training Loss')\n",
        "plt.plot(history.history['val_loss'], label='Validation Loss')\n",
        "plt.legend()\n",
        "plt.show()\n",
        "\n",
        "# Plot training and validation accuracy\n",
        "plt.plot(history.history['accuracy'], label='Training Accuracy')\n",
        "plt.plot(history.history['val_accuracy'], label='Validation Accuracy')\n",
        "plt.legend()\n",
        "plt.show()"
      ],
      "metadata": {
        "id": "VUdnXJAegJiU",
        "outputId": "46a55bc2-aa86-4158-9984-74ea8ff58073",
        "colab": {
          "base_uri": "https://localhost:8080/",
          "height": 847
        }
      },
      "execution_count": 41,
      "outputs": [
        {
          "output_type": "display_data",
          "data": {
            "text/plain": [
              "<Figure size 640x480 with 1 Axes>"
            ],
            "image/png": "[encoded data removed]"
          },
          "metadata": {}
        },
        {
          "output_type": "display_data",
          "data": {
            "text/plain": [
              "<Figure size 640x480 with 1 Axes>"
            ],
            "image/png": "[encoded data removed]"
          },
          "metadata": {}
        }
      ]
    },
    {
      "cell_type": "code",
      "source": [
        "train_dataset = tf.data.Dataset.from_tensor_slices((dict(train_encoding), train_labels)).shuffle(len(train_labels)).batch(32)\n",
        "val_dataset = tf.data.Dataset.from_tensor_slices((dict(valid_encoding), valid_labels)).batch(32)\n",
        "\n",
        "# Load the pre-trained BERT model for sequence classification\n",
        "model = TFBertForSequenceClassification.from_pretrained('bert-base-uncased', num_labels=3)\n",
        "\n",
        "# Fine-tune the model\n",
        "optimizer = tf.keras.optimizers.Adam(learning_rate=2e-6, epsilon=1e-08, clipnorm=1.0)\n",
        "loss = tf.keras.losses.SparseCategoricalCrossentropy(from_logits=True)\n",
        "metric = tf.keras.metrics.SparseCategoricalAccuracy('accuracy')\n",
        "model.compile(optimizer=optimizer, loss=loss, metrics=[metric])\n",
        "history = model.fit(train_dataset, epochs=10, validation_data=val_dataset)"
      ],
      "metadata": {
        "id": "wvNJWie7hL0U",
        "outputId": "687ebf5c-924a-44af-ff2c-33749bc161b2",
        "colab": {
          "base_uri": "https://localhost:8080/"
        }
      },
      "execution_count": 43,
      "outputs": [
        {
          "output_type": "stream",
          "name": "stderr",
          "text": [
            "All PyTorch model weights were used when initializing TFBertForSequenceClassification.\n",
            "\n",
            "Some weights or buffers of the TF 2.0 model TFBertForSequenceClassification were not initialized from the PyTorch model and are newly initialized: ['classifier.weight', 'classifier.bias']\n",
            "You should probably TRAIN this model on a down-stream task to be able to use it for predictions and inference.\n"
          ]
        },
        {
          "output_type": "stream",
          "name": "stdout",
          "text": [
            "Epoch 1/10\n",
            "241/241 [==============================] - 133s 368ms/step - loss: 0.8699 - accuracy: 0.5995 - val_loss: 0.6943 - val_accuracy: 0.6971\n",
            "Epoch 2/10\n",
            "241/241 [==============================] - 76s 317ms/step - loss: 0.6236 - accuracy: 0.7639 - val_loss: 0.5901 - val_accuracy: 0.7733\n",
            "Epoch 3/10\n",
            "241/241 [==============================] - 78s 322ms/step - loss: 0.5282 - accuracy: 0.8036 - val_loss: 0.5292 - val_accuracy: 0.7899\n",
            "Epoch 4/10\n",
            "241/241 [==============================] - 81s 334ms/step - loss: 0.4682 - accuracy: 0.8249 - val_loss: 0.5115 - val_accuracy: 0.8008\n",
            "Epoch 5/10\n",
            "241/241 [==============================] - 79s 328ms/step - loss: 0.4292 - accuracy: 0.8410 - val_loss: 0.4681 - val_accuracy: 0.8205\n",
            "Epoch 6/10\n",
            "241/241 [==============================] - 78s 323ms/step - loss: 0.3957 - accuracy: 0.8505 - val_loss: 0.4746 - val_accuracy: 0.8273\n",
            "Epoch 7/10\n",
            "241/241 [==============================] - 76s 314ms/step - loss: 0.3730 - accuracy: 0.8607 - val_loss: 0.4762 - val_accuracy: 0.8185\n",
            "Epoch 8/10\n",
            "241/241 [==============================] - 76s 314ms/step - loss: 0.3467 - accuracy: 0.8731 - val_loss: 0.4706 - val_accuracy: 0.8190\n",
            "Epoch 9/10\n",
            "241/241 [==============================] - 81s 334ms/step - loss: 0.3265 - accuracy: 0.8782 - val_loss: 0.4736 - val_accuracy: 0.8174\n",
            "Epoch 10/10\n",
            "241/241 [==============================] - 80s 333ms/step - loss: 0.3048 - accuracy: 0.8930 - val_loss: 0.4729 - val_accuracy: 0.8268\n"
          ]
        }
      ]
    },
    {
      "cell_type": "code",
      "source": [
        "import matplotlib.pyplot as plt\n",
        "\n",
        "# Plot training and validation loss\n",
        "plt.plot(history.history['loss'], label='Training Loss')\n",
        "plt.plot(history.history['val_loss'], label='Validation Loss')\n",
        "plt.legend()\n",
        "plt.show()\n",
        "\n",
        "# Plot training and validation accuracy\n",
        "plt.plot(history.history['accuracy'], label='Training Accuracy')\n",
        "plt.plot(history.history['val_accuracy'], label='Validation Accuracy')\n",
        "plt.legend()\n",
        "plt.show()"
      ],
      "metadata": {
        "id": "dpT2Pwsfmu5b",
        "outputId": "0e8f6f29-d0c3-448d-c0ee-648df022bf84",
        "colab": {
          "base_uri": "https://localhost:8080/",
          "height": 843
        }
      },
      "execution_count": 45,
      "outputs": [
        {
          "output_type": "display_data",
          "data": {
            "text/plain": [
              "<Figure size 640x480 with 1 Axes>"
            ],
            "image/png": "[encoded data removed]"
          },
          "metadata": {}
        },
        {
          "output_type": "display_data",
          "data": {
            "text/plain": [
              "<Figure size 640x480 with 1 Axes>"
            ],
            "image/png": "[encoded data removed]"
          },
          "metadata": {}
        }
      ]
    },
    {
      "cell_type": "code",
      "source": [
        "#sub-setting by confidence"
      ],
      "metadata": {
        "id": "JucAsUimk1gN"
      },
      "execution_count": null,
      "outputs": []
    },
    {
      "cell_type": "code",
      "source": [
        "balanced_df.head()"
      ],
      "metadata": {
        "id": "JILZ9kzilXGG",
        "outputId": "86fb12a0-073e-4a42-b93b-fd24c57bcb71",
        "colab": {
          "base_uri": "https://localhost:8080/",
          "height": 504
        }
      },
      "execution_count": 44,
      "outputs": [
        {
          "output_type": "execute_result",
          "data": {
            "text/plain": [
              "             tweet_id airline_sentiment  airline_sentiment_confidence  \\\n",
              "0  570306133677760513           neutral                        1.0000   \n",
              "1  570301130888122368          positive                        0.3486   \n",
              "2  570301083672813571           neutral                        0.6837   \n",
              "6  570300616901320704          positive                        0.6745   \n",
              "7  570300248553349120           neutral                        0.6340   \n",
              "\n",
              "  negativereason  negativereason_confidence         airline  \\\n",
              "0            NaN                        NaN  Virgin America   \n",
              "1            NaN                        0.0  Virgin America   \n",
              "2            NaN                        NaN  Virgin America   \n",
              "6            NaN                        0.0  Virgin America   \n",
              "7            NaN                        NaN  Virgin America   \n",
              "\n",
              "  airline_sentiment_gold        name negativereason_gold  retweet_count  \\\n",
              "0                    NaN     cairdin                 NaN              0   \n",
              "1                    NaN    jnardino                 NaN              0   \n",
              "2                    NaN  yvonnalynn                 NaN              0   \n",
              "6                    NaN  cjmcginnis                 NaN              0   \n",
              "7                    NaN       pilot                 NaN              0   \n",
              "\n",
              "                                                text tweet_coord  \\\n",
              "0                @VirginAmerica What @dhepburn said.         NaN   \n",
              "1  @VirginAmerica plus you've added commercials t...         NaN   \n",
              "2  @VirginAmerica I didn't today... Must mean I n...         NaN   \n",
              "6  @VirginAmerica yes, nearly every time I fly VX...         NaN   \n",
              "7  @VirginAmerica Really missed a prime opportuni...         NaN   \n",
              "\n",
              "               tweet_created    tweet_location               user_timezone  \\\n",
              "0  2015-02-24 11:35:52 -0800               NaN  Eastern Time (US & Canada)   \n",
              "1  2015-02-24 11:15:59 -0800               NaN  Pacific Time (US & Canada)   \n",
              "2  2015-02-24 11:15:48 -0800         Lets Play  Central Time (US & Canada)   \n",
              "6  2015-02-24 11:13:57 -0800  San Francisco CA  Pacific Time (US & Canada)   \n",
              "7  2015-02-24 11:12:29 -0800       Los Angeles  Pacific Time (US & Canada)   \n",
              "\n",
              "                                        cleaned_text  sentiment  \n",
              "0                        virginamerica dhepburn said          1  \n",
              "1  virginamerica plus youve added commercials exp...          2  \n",
              "2  virginamerica didnt today must mean need take ...          1  \n",
              "6  virginamerica yes nearly every time fly vx ear...          2  \n",
              "7  virginamerica really missed prime opportunity ...          1  "
            ],
            "text/html": [
              "\n",
              "  <div id=\"df-6e499b99-223e-43da-b972-314f3c4e44ca\" class=\"colab-df-container\">\n",
              "    <div>\n",
              "<style scoped>\n",
              "    .dataframe tbody tr th:only-of-type {\n",
              "        vertical-align: middle;\n",
              "    }\n",
              "\n",
              "    .dataframe tbody tr th {\n",
              "        vertical-align: top;\n",
              "    }\n",
              "\n",
              "    .dataframe thead th {\n",
              "        text-align: right;\n",
              "    }\n",
              "</style>\n",
              "<table border=\"1\" class=\"dataframe\">\n",
              "  <thead>\n",
              "    <tr style=\"text-align: right;\">\n",
              "      <th></th>\n",
              "      <th>tweet_id</th>\n",
              "      <th>airline_sentiment</th>\n",
              "      <th>airline_sentiment_confidence</th>\n",
              "      <th>negativereason</th>\n",
              "      <th>negativereason_confidence</th>\n",
              "      <th>airline</th>\n",
              "      <th>airline_sentiment_gold</th>\n",
              "      <th>name</th>\n",
              "      <th>negativereason_gold</th>\n",
              "      <th>retweet_count</th>\n",
              "      <th>text</th>\n",
              "      <th>tweet_coord</th>\n",
              "      <th>tweet_created</th>\n",
              "      <th>tweet_location</th>\n",
              "      <th>user_timezone</th>\n",
              "      <th>cleaned_text</th>\n",
              "      <th>sentiment</th>\n",
              "    </tr>\n",
              "  </thead>\n",
              "  <tbody>\n",
              "    <tr>\n",
              "      <th>0</th>\n",
              "      <td>570306133677760513</td>\n",
              "      <td>neutral</td>\n",
              "      <td>1.0000</td>\n",
              "      <td>NaN</td>\n",
              "      <td>NaN</td>\n",
              "      <td>Virgin America</td>\n",
              "      <td>NaN</td>\n",
              "      <td>cairdin</td>\n",
              "      <td>NaN</td>\n",
              "      <td>0</td>\n",
              "      <td>@VirginAmerica What @dhepburn said.</td>\n",
              "      <td>NaN</td>\n",
              "      <td>2015-02-24 11:35:52 -0800</td>\n",
              "      <td>NaN</td>\n",
              "      <td>Eastern Time (US &amp; Canada)</td>\n",
              "      <td>virginamerica dhepburn said</td>\n",
              "      <td>1</td>\n",
              "    </tr>\n",
              "    <tr>\n",
              "      <th>1</th>\n",
              "      <td>570301130888122368</td>\n",
              "      <td>positive</td>\n",
              "      <td>0.3486</td>\n",
              "      <td>NaN</td>\n",
              "      <td>0.0</td>\n",
              "      <td>Virgin America</td>\n",
              "      <td>NaN</td>\n",
              "      <td>jnardino</td>\n",
              "      <td>NaN</td>\n",
              "      <td>0</td>\n",
              "      <td>@VirginAmerica plus you've added commercials t...</td>\n",
              "      <td>NaN</td>\n",
              "      <td>2015-02-24 11:15:59 -0800</td>\n",
              "      <td>NaN</td>\n",
              "      <td>Pacific Time (US &amp; Canada)</td>\n",
              "      <td>virginamerica plus youve added commercials exp...</td>\n",
              "      <td>2</td>\n",
              "    </tr>\n",
              "    <tr>\n",
              "      <th>2</th>\n",
              "      <td>570301083672813571</td>\n",
              "      <td>neutral</td>\n",
              "      <td>0.6837</td>\n",
              "      <td>NaN</td>\n",
              "      <td>NaN</td>\n",
              "      <td>Virgin America</td>\n",
              "      <td>NaN</td>\n",
              "      <td>yvonnalynn</td>\n",
              "      <td>NaN</td>\n",
              "      <td>0</td>\n",
              "      <td>@VirginAmerica I didn't today... Must mean I n...</td>\n",
              "      <td>NaN</td>\n",
              "      <td>2015-02-24 11:15:48 -0800</td>\n",
              "      <td>Lets Play</td>\n",
              "      <td>Central Time (US &amp; Canada)</td>\n",
              "      <td>virginamerica didnt today must mean need take ...</td>\n",
              "      <td>1</td>\n",
              "    </tr>\n",
              "    <tr>\n",
              "      <th>6</th>\n",
              "      <td>570300616901320704</td>\n",
              "      <td>positive</td>\n",
              "      <td>0.6745</td>\n",
              "      <td>NaN</td>\n",
              "      <td>0.0</td>\n",
              "      <td>Virgin America</td>\n",
              "      <td>NaN</td>\n",
              "      <td>cjmcginnis</td>\n",
              "      <td>NaN</td>\n",
              "      <td>0</td>\n",
              "      <td>@VirginAmerica yes, nearly every time I fly VX...</td>\n",
              "      <td>NaN</td>\n",
              "      <td>2015-02-24 11:13:57 -0800</td>\n",
              "      <td>San Francisco CA</td>\n",
              "      <td>Pacific Time (US &amp; Canada)</td>\n",
              "      <td>virginamerica yes nearly every time fly vx ear...</td>\n",
              "      <td>2</td>\n",
              "    </tr>\n",
              "    <tr>\n",
              "      <th>7</th>\n",
              "      <td>570300248553349120</td>\n",
              "      <td>neutral</td>\n",
              "      <td>0.6340</td>\n",
              "      <td>NaN</td>\n",
              "      <td>NaN</td>\n",
              "      <td>Virgin America</td>\n",
              "      <td>NaN</td>\n",
              "      <td>pilot</td>\n",
              "      <td>NaN</td>\n",
              "      <td>0</td>\n",
              "      <td>@VirginAmerica Really missed a prime opportuni...</td>\n",
              "      <td>NaN</td>\n",
              "      <td>2015-02-24 11:12:29 -0800</td>\n",
              "      <td>Los Angeles</td>\n",
              "      <td>Pacific Time (US &amp; Canada)</td>\n",
              "      <td>virginamerica really missed prime opportunity ...</td>\n",
              "      <td>1</td>\n",
              "    </tr>\n",
              "  </tbody>\n",
              "</table>\n",
              "</div>\n",
              "    <div class=\"colab-df-buttons\">\n",
              "\n",
              "  <div class=\"colab-df-container\">\n",
              "    <button class=\"colab-df-convert\" onclick=\"convertToInteractive('df-6e499b99-223e-43da-b972-314f3c4e44ca')\"\n",
              "            title=\"Convert this dataframe to an interactive table.\"\n",
              "            style=\"display:none;\">\n",
              "\n",
              "  <svg xmlns=\"http://www.w3.org/2000/svg\" height=\"24px\" viewBox=\"0 -960 960 960\">\n",
              "    <path d=\"M120-120v-720h720v720H120Zm60-500h600v-160H180v160Zm220 220h160v-160H400v160Zm0 220h160v-160H400v160ZM180-400h160v-160H180v160Zm440 0h160v-160H620v160ZM180-180h160v-160H180v160Zm440 0h160v-160H620v160Z\"/>\n",
              "  </svg>\n",
              "    </button>\n",
              "\n",
              "  <style>\n",
              "    .colab-df-container {\n",
              "      display:flex;\n",
              "      gap: 12px;\n",
              "    }\n",
              "\n",
              "    .colab-df-convert {\n",
              "      background-color: #E8F0FE;\n",
              "      border: none;\n",
              "      border-radius: 50%;\n",
              "      cursor: pointer;\n",
              "      display: none;\n",
              "      fill: #1967D2;\n",
              "      height: 32px;\n",
              "      padding: 0 0 0 0;\n",
              "      width: 32px;\n",
              "    }\n",
              "\n",
              "    .colab-df-convert:hover {\n",
              "      background-color: #E2EBFA;\n",
              "      box-shadow: 0px 1px 2px rgba(60, 64, 67, 0.3), 0px 1px 3px 1px rgba(60, 64, 67, 0.15);\n",
              "      fill: #174EA6;\n",
              "    }\n",
              "\n",
              "    .colab-df-buttons div {\n",
              "      margin-bottom: 4px;\n",
              "    }\n",
              "\n",
              "    [theme=dark] .colab-df-convert {\n",
              "      background-color: #3B4455;\n",
              "      fill: #D2E3FC;\n",
              "    }\n",
              "\n",
              "    [theme=dark] .colab-df-convert:hover {\n",
              "      background-color: #434B5C;\n",
              "      box-shadow: 0px 1px 3px 1px rgba(0, 0, 0, 0.15);\n",
              "      filter: drop-shadow(0px 1px 2px rgba(0, 0, 0, 0.3));\n",
              "      fill: #FFFFFF;\n",
              "    }\n",
              "  </style>\n",
              "\n",
              "    <script>\n",
              "      const buttonEl =\n",
              "        document.querySelector('#df-6e499b99-223e-43da-b972-314f3c4e44ca button.colab-df-convert');\n",
              "      buttonEl.style.display =\n",
              "        google.colab.kernel.accessAllowed ? 'block' : 'none';\n",
              "\n",
              "      async function convertToInteractive(key) {\n",
              "        const element = document.querySelector('#df-6e499b99-223e-43da-b972-314f3c4e44ca');\n",
              "        const dataTable =\n",
              "          await google.colab.kernel.invokeFunction('convertToInteractive',\n",
              "                                                    [key], {});\n",
              "        if (!dataTable) return;\n",
              "\n",
              "        const docLinkHtml = 'Like what you see? Visit the ' +\n",
              "          '<a target=\"_blank\" href=https://colab.research.google.com/notebooks/data_table.ipynb>data table notebook</a>'\n",
              "          + ' to learn more about interactive tables.';\n",
              "        element.innerHTML = '';\n",
              "        dataTable['output_type'] = 'display_data';\n",
              "        await google.colab.output.renderOutput(dataTable, element);\n",
              "        const docLink = document.createElement('div');\n",
              "        docLink.innerHTML = docLinkHtml;\n",
              "        element.appendChild(docLink);\n",
              "      }\n",
              "    </script>\n",
              "  </div>\n",
              "\n",
              "\n",
              "<div id=\"df-232a7f3c-9638-4658-bd25-18248ab8e499\">\n",
              "  <button class=\"colab-df-quickchart\" onclick=\"quickchart('df-232a7f3c-9638-4658-bd25-18248ab8e499')\"\n",
              "            title=\"Suggest charts\"\n",
              "            style=\"display:none;\">\n",
              "\n",
              "<svg xmlns=\"http://www.w3.org/2000/svg\" height=\"24px\"viewBox=\"0 0 24 24\"\n",
              "     width=\"24px\">\n",
              "    <g>\n",
              "        <path d=\"M19 3H5c-1.1 0-2 .9-2 2v14c0 1.1.9 2 2 2h14c1.1 0 2-.9 2-2V5c0-1.1-.9-2-2-2zM9 17H7v-7h2v7zm4 0h-2V7h2v10zm4 0h-2v-4h2v4z\"/>\n",
              "    </g>\n",
              "</svg>\n",
              "  </button>\n",
              "\n",
              "<style>\n",
              "  .colab-df-quickchart {\n",
              "      --bg-color: #E8F0FE;\n",
              "      --fill-color: #1967D2;\n",
              "      --hover-bg-color: #E2EBFA;\n",
              "      --hover-fill-color: #174EA6;\n",
              "      --disabled-fill-color: #AAA;\n",
              "      --disabled-bg-color: #DDD;\n",
              "  }\n",
              "\n",
              "  [theme=dark] .colab-df-quickchart {\n",
              "      --bg-color: #3B4455;\n",
              "      --fill-color: #D2E3FC;\n",
              "      --hover-bg-color: #434B5C;\n",
              "      --hover-fill-color: #FFFFFF;\n",
              "      --disabled-bg-color: #3B4455;\n",
              "      --disabled-fill-color: #666;\n",
              "  }\n",
              "\n",
              "  .colab-df-quickchart {\n",
              "    background-color: var(--bg-color);\n",
              "    border: none;\n",
              "    border-radius: 50%;\n",
              "    cursor: pointer;\n",
              "    display: none;\n",
              "    fill: var(--fill-color);\n",
              "    height: 32px;\n",
              "    padding: 0;\n",
              "    width: 32px;\n",
              "  }\n",
              "\n",
              "  .colab-df-quickchart:hover {\n",
              "    background-color: var(--hover-bg-color);\n",
              "    box-shadow: 0 1px 2px rgba(60, 64, 67, 0.3), 0 1px 3px 1px rgba(60, 64, 67, 0.15);\n",
              "    fill: var(--button-hover-fill-color);\n",
              "  }\n",
              "\n",
              "  .colab-df-quickchart-complete:disabled,\n",
              "  .colab-df-quickchart-complete:disabled:hover {\n",
              "    background-color: var(--disabled-bg-color);\n",
              "    fill: var(--disabled-fill-color);\n",
              "    box-shadow: none;\n",
              "  }\n",
              "\n",
              "  .colab-df-spinner {\n",
              "    border: 2px solid var(--fill-color);\n",
              "    border-color: transparent;\n",
              "    border-bottom-color: var(--fill-color);\n",
              "    animation:\n",
              "      spin 1s steps(1) infinite;\n",
              "  }\n",
              "\n",
              "  @keyframes spin {\n",
              "    0% {\n",
              "      border-color: transparent;\n",
              "      border-bottom-color: var(--fill-color);\n",
              "      border-left-color: var(--fill-color);\n",
              "    }\n",
              "    20% {\n",
              "      border-color: transparent;\n",
              "      border-left-color: var(--fill-color);\n",
              "      border-top-color: var(--fill-color);\n",
              "    }\n",
              "    30% {\n",
              "      border-color: transparent;\n",
              "      border-left-color: var(--fill-color);\n",
              "      border-top-color: var(--fill-color);\n",
              "      border-right-color: var(--fill-color);\n",
              "    }\n",
              "    40% {\n",
              "      border-color: transparent;\n",
              "      border-right-color: var(--fill-color);\n",
              "      border-top-color: var(--fill-color);\n",
              "    }\n",
              "    60% {\n",
              "      border-color: transparent;\n",
              "      border-right-color: var(--fill-color);\n",
              "    }\n",
              "    80% {\n",
              "      border-color: transparent;\n",
              "      border-right-color: var(--fill-color);\n",
              "      border-bottom-color: var(--fill-color);\n",
              "    }\n",
              "    90% {\n",
              "      border-color: transparent;\n",
              "      border-bottom-color: var(--fill-color);\n",
              "    }\n",
              "  }\n",
              "</style>\n",
              "\n",
              "  <script>\n",
              "    async function quickchart(key) {\n",
              "      const quickchartButtonEl =\n",
              "        document.querySelector('#' + key + ' button');\n",
              "      quickchartButtonEl.disabled = true;  // To prevent multiple clicks.\n",
              "      quickchartButtonEl.classList.add('colab-df-spinner');\n",
              "      try {\n",
              "        const charts = await google.colab.kernel.invokeFunction(\n",
              "            'suggestCharts', [key], {});\n",
              "      } catch (error) {\n",
              "        console.error('Error during call to suggestCharts:', error);\n",
              "      }\n",
              "      quickchartButtonEl.classList.remove('colab-df-spinner');\n",
              "      quickchartButtonEl.classList.add('colab-df-quickchart-complete');\n",
              "    }\n",
              "    (() => {\n",
              "      let quickchartButtonEl =\n",
              "        document.querySelector('#df-232a7f3c-9638-4658-bd25-18248ab8e499 button');\n",
              "      quickchartButtonEl.style.display =\n",
              "        google.colab.kernel.accessAllowed ? 'block' : 'none';\n",
              "    })();\n",
              "  </script>\n",
              "</div>\n",
              "    </div>\n",
              "  </div>\n"
            ]
          },
          "metadata": {},
          "execution_count": 44
        }
      ]
    },
    {
      "cell_type": "code",
      "source": [
        "balanced_df.shape"
      ],
      "metadata": {
        "id": "d_ahbBrZqDlG",
        "outputId": "6d766c6c-1822-4211-daa8-68b779324ec8",
        "colab": {
          "base_uri": "https://localhost:8080/"
        }
      },
      "execution_count": 56,
      "outputs": [
        {
          "output_type": "execute_result",
          "data": {
            "text/plain": [
              "(9640, 17)"
            ]
          },
          "metadata": {},
          "execution_count": 56
        }
      ]
    },
    {
      "cell_type": "code",
      "source": [
        "import plotly.express as px"
      ],
      "metadata": {
        "id": "c1926U-Bk-V6"
      },
      "execution_count": 47,
      "outputs": []
    },
    {
      "cell_type": "code",
      "source": [
        "fig = px.histogram(balanced_df['airline_sentiment_confidence'], title = \"Histogram of Confidence\")\n",
        "fig.show()"
      ],
      "metadata": {
        "id": "Bu898tmdn8e1",
        "outputId": "42647b75-cb21-48a2-cbfe-8babffc64480",
        "colab": {
          "base_uri": "https://localhost:8080/",
          "height": 542
        }
      },
      "execution_count": 49,
      "outputs": [
        {
          "output_type": "display_data",
          "data": {
            "text/html": [
              "<html>\n",
              "<head><meta charset=\"utf-8\" /></head>\n",
              "<body>\n",
              "    <div>            <script src=\"https://cdnjs.cloudflare.com/ajax/libs/mathjax/2.7.5/MathJax.js?config=TeX-AMS-MML_SVG\"></script><script type=\"text/javascript\">if (window.MathJax && window.MathJax.Hub && window.MathJax.Hub.Config) {window.MathJax.Hub.Config({SVG: {font: \"STIX-Web\"}});}</script>                <script type=\"text/javascript\">window.PlotlyConfig = {MathJaxConfig: 'local'};</script>\n",
              "        <script charset=\"utf-8\" src=\"https://cdn.plot.ly/plotly-2.24.1.min.js\"></script>                <div id=\"0fc06c94-877d-41ba-97ce-ef46a0efa207\" class=\"plotly-graph-div\" style=\"height:525px; width:100%;\"></div>            <script type=\"text/javascript\">                                    window.PLOTLYENV=window.PLOTLYENV || {};                                    if (document.getElementById(\"0fc06c94-877d-41ba-97ce-ef46a0efa207\")) {                    Plotly.newPlot(                        \"0fc06c94-877d-41ba-97ce-ef46a0efa207\",                        [{\"alignmentgroup\":\"True\",\"bingroup\":\"x\",\"hovertemplate\":\"variable=airline_sentiment_confidence\\u003cbr\\u003evalue=%{x}\\u003cbr\\u003ecount=%{y}\\u003cextra\\u003e\\u003c\\u002fextra\\u003e\",\"legendgroup\":\"airline_sentiment_confidence\",\"marker\":{\"color\":\"#636efa\",\"pattern\":{\"shape\":\"\"}},\"name\":\"airline_sentiment_confidence\",\"offsetgroup\":\"airline_sentiment_confidence\",\"orientation\":\"v\",\"showlegend\":true,\"x\":[1.0,0.3486,0.6837,0.6745,0.634,0.6559,1.0,0.6769,1.0,1.0,0.6451,1.0,1.0,1.0,1.0,1.0,1.0,1.0,0.6854,0.615,1.0,1.0,0.6207,1.0,1.0,0.6791,0.6639,1.0,0.6578,1.0,1.0,0.6799,1.0,1.0,0.6436,0.6764,0.657,1.0,0.7118,1.0,1.0,0.635,0.7007,1.0,1.0,0.6858,1.0,1.0,0.6814,0.6922,1.0,0.6492,1.0,1.0,1.0,1.0,1.0,1.0,1.0,0.6705,1.0,0.6545,1.0,0.6639,0.6765,1.0,1.0,1.0,0.6593,0.6823,1.0,0.6806,0.6529,0.6779999999999999,0.3482,1.0,1.0,1.0,1.0,1.0,1.0,1.0,1.0,1.0,0.6535,1.0,1.0,1.0,0.7011,1.0,0.355,1.0,1.0,1.0,1.0,1.0,1.0,0.6732,1.0,1.0,1.0,1.0,1.0,1.0,1.0,0.6816,1.0,0.6701,0.6942,0.3579,1.0,0.653,0.6743,0.6783,0.6863,1.0,1.0,1.0,0.6809,1.0,1.0,1.0,0.6775,1.0,1.0,0.6667,0.634,0.6522,1.0,1.0,0.7081,1.0,0.6899,1.0,0.6575,1.0,0.6701,1.0,1.0,1.0,1.0,0.6771,1.0,1.0,1.0,1.0,0.6598,1.0,1.0,1.0,0.6701,1.0,1.0,1.0,1.0,1.0,1.0,0.6855,0.6803,1.0,1.0,1.0,1.0,1.0,0.6776,1.0,1.0,1.0,0.6773,0.642,1.0,0.6791,1.0,1.0,1.0,1.0,1.0,1.0,1.0,0.6625,1.0,1.0,1.0,1.0,0.6884,0.6658,0.375,1.0,1.0,1.0,1.0,0.6529,1.0,1.0,0.6667,0.6809,1.0,0.6354,1.0,0.6742,0.6745,0.6461,0.6482,1.0,1.0,0.6703,0.6559,0.6673,1.0,1.0,0.6875,1.0,1.0,0.6925,1.0,1.0,1.0,1.0,1.0,0.6624,1.0,0.6548,0.6696,1.0,0.6888,0.6837,0.6667,0.6395,0.6774,0.6618,1.0,1.0,1.0,1.0,1.0,0.6871,1.0,0.6811,1.0,1.0,0.7026,0.6724,1.0,1.0,1.0,1.0,1.0,1.0,1.0,0.3483,1.0,0.639,1.0,0.6769,1.0,1.0,1.0,1.0,1.0,0.6646,1.0,1.0,0.6629999999999999,0.6895,0.6559,1.0,1.0,0.6655,0.6522,1.0,0.6632,1.0,1.0,1.0,1.0,1.0,1.0,0.6477,0.6202,1.0,1.0,0.6431,1.0,0.6559,0.6681,0.7162,0.6941,0.6705,0.6733,0.6601,0.6198,0.3542,0.6858,1.0,1.0,0.6803,1.0,0.6446,1.0,0.6457,0.6731,1.0,1.0,1.0,1.0,1.0,0.6831,0.6779999999999999,1.0,1.0,0.3516,1.0,1.0,1.0,0.6667,1.0,1.0,1.0,1.0,0.6694,0.6376,1.0,1.0,1.0,1.0,0.3441,0.645,0.6761,1.0,0.6634,1.0,0.67,0.6351,0.6768,1.0,1.0,1.0,1.0,1.0,1.0,1.0,0.6665,0.6492,0.6776,1.0,0.6523,0.6629999999999999,0.6793,0.6589,1.0,1.0,1.0,1.0,1.0,0.6421,0.6629999999999999,0.6764,1.0,0.6466,0.6891,0.6638,0.6842,1.0,0.635,1.0,0.703,0.6593,0.6804,0.6891,0.6985,0.6051,0.6349,1.0,1.0,0.6714,1.0,1.0,0.6629999999999999,0.6735,0.6632,1.0,0.352,1.0,0.3433,0.6667,0.6765,0.6455,1.0,1.0,1.0,0.7141,1.0,0.6762,0.6904,1.0,1.0,0.6376,1.0,1.0,1.0,0.6429,1.0,1.0,0.6738,0.6759999999999999,1.0,1.0,1.0,0.7065,1.0,1.0,0.6373,1.0,1.0,1.0,1.0,0.6842,1.0,1.0,0.6533,1.0,0.6489,0.6548,0.688,0.7029,0.6634,1.0,0.6464,0.631,0.732,1.0,0.6548,0.6702,0.3388,1.0,1.0,1.0,0.6684,1.0,0.6702,1.0,1.0,0.6641,1.0,1.0,1.0,1.0,1.0,0.67,1.0,0.3427,1.0,1.0,0.6659999999999999,1.0,0.6699,1.0,1.0,0.6479,0.3435,0.6788,1.0,0.6557,1.0,1.0,0.6511,1.0,0.6832,0.6612,1.0,0.6682,0.6741,1.0,0.6742,1.0,1.0,1.0,0.7059,1.0,1.0,0.6825,0.679,0.335,0.6534,0.6915,1.0,1.0,1.0,1.0,0.6625,0.6729,1.0,0.6346,0.6593,1.0,0.6821,0.643,0.6627,1.0,0.3433,1.0,0.7099,0.6594,0.6461,1.0,1.0,0.7,0.6419,0.6566,1.0,1.0,1.0,0.6809,1.0,1.0,0.3603,0.6349,1.0,1.0,1.0,1.0,0.6704,1.0,0.3586,0.7047,0.6911,1.0,0.6872,0.6448,0.3646,1.0,1.0,1.0,0.6559,1.0,0.6559,0.6333,1.0,0.3505,1.0,1.0,0.6576,0.6289,1.0,0.6763,1.0,1.0,1.0,1.0,1.0,0.6767,1.0,1.0,1.0,1.0,0.6940000000000001,1.0,1.0,1.0,1.0,1.0,0.6444,0.6949,1.0,1.0,1.0,0.6551,0.6771,0.6291,0.6237,1.0,0.6495,1.0,0.6868,0.6861,1.0,0.6471,0.6657,1.0,1.0,1.0,0.6596,0.6652,1.0,1.0,0.664,0.6684,1.0,1.0,1.0,1.0,0.6667,1.0,0.6667,1.0,0.6659,1.0,0.6703,1.0,1.0,0.6736,1.0,1.0,1.0,0.6576,1.0,1.0,1.0,1.0,0.6476,0.6466,0.6629,0.6783,1.0,1.0,1.0,0.6599,0.347,0.6544,1.0,0.6492,1.0,1.0,1.0,0.3732,0.3428,0.6813,0.66,0.34,0.6559999999999999,1.0,1.0,1.0,0.6667,0.6137,1.0,1.0,0.6705,1.0,0.6477,1.0,1.0,1.0,0.66,0.6893,1.0,1.0,1.0,0.6599,0.7068,1.0,1.0,0.3558,0.6735,0.6925,0.6967,1.0,0.6694,0.6697,0.6775,1.0,1.0,0.6489,0.6733,0.7142,0.6117,0.66,1.0,1.0,1.0,1.0,1.0,0.6957,0.6497,1.0,0.6735,0.6495,1.0,0.6595,1.0,1.0,1.0,0.6733,0.6354,0.6423,1.0,1.0,0.6186,0.6559,1.0,1.0,1.0,1.0,1.0,0.6940000000000001,0.3551,0.6617,1.0,0.6633,1.0,1.0,1.0,1.0,0.6556,0.6659,0.3512,1.0,1.0,1.0,0.6871,0.6388,0.6644,1.0,0.6846,1.0,1.0,0.6753,1.0,1.0,0.667,0.6543,0.6601,1.0,0.6642,1.0,1.0,0.64,1.0,1.0,0.6365,1.0,0.6292,1.0,0.6987,1.0,1.0,1.0,0.6362,1.0,0.6804,0.6416,1.0,1.0,1.0,0.3368,0.6863,0.6721,0.6807,0.6931,1.0,0.6421,0.6848,0.6699,1.0,0.6876,0.6788,0.6565,0.6444,1.0,1.0,0.6845,1.0,1.0,0.6683,0.6592,1.0,1.0,1.0,1.0,0.6698,1.0,0.68,0.6655,1.0,1.0,0.6957,0.6593,0.6362,1.0,1.0,0.6632,0.6769,0.6745,0.6745,1.0,0.3656,1.0,0.6414,0.6774,1.0,0.6496,0.6437,0.6997,0.6559999999999999,0.6259,1.0,1.0,0.6641,1.0,0.6904,1.0,0.6805,1.0,0.6672,1.0,1.0,0.6814,0.6854,1.0,0.6196,1.0,0.6522,0.6325,1.0,0.6787,1.0,0.6533,0.6809,1.0,1.0,1.0,0.6308,0.6651,1.0,1.0,1.0,0.6509,0.6522,0.6533,1.0,0.6574,1.0,1.0,0.3367,0.6661,1.0,1.0,1.0,1.0,1.0,1.0,0.358,1.0,0.6316,0.643,0.7065,1.0,0.6737,0.3444,1.0,1.0,0.6768,1.0,0.3366,1.0,0.6729,0.6437,0.6741,0.6487,0.7047,1.0,0.66,0.6813,0.6679,0.365,1.0,1.0,0.6793,0.68,0.6923,0.7028,1.0,1.0,1.0,0.6477,1.0,0.6487,1.0,0.6436,1.0,1.0,1.0,1.0,0.6644,1.0,1.0,0.7087,1.0,1.0,0.6890000000000001,1.0,0.6842,0.6924,1.0,0.6696,1.0,1.0,0.6735,1.0,0.3646,0.626,1.0,1.0,1.0,1.0,0.6531,1.0,1.0,0.6813,0.7021,1.0,0.3505,1.0,0.669,0.6497,0.6667,1.0,1.0,0.6814,0.6907,1.0,0.6667,0.6848,1.0,1.0,0.6911,1.0,1.0,0.6749,1.0,0.6531,1.0,0.6871,1.0,1.0,0.6804,1.0,1.0,1.0,0.6849,0.6963,1.0,1.0,1.0,0.6651,0.6566,1.0,1.0,0.3429999999999999,1.0,0.6889,1.0,1.0,1.0,0.6735,1.0,1.0,1.0,1.0,1.0,1.0,1.0,1.0,1.0,0.6755,0.7008,0.68,0.6202,0.3414,1.0,1.0,0.6772,1.0,1.0,1.0,1.0,1.0,0.688,1.0,0.7246,0.6491,0.6609999999999999,0.6561,1.0,1.0,1.0,1.0,1.0,1.0,1.0,1.0,0.6628,1.0,1.0,1.0,1.0,1.0,1.0,1.0,1.0,0.6639,0.6838,0.7034,1.0,1.0,1.0,1.0,0.6907,1.0,1.0,1.0,0.6889,0.6717,0.7185,0.3375,1.0,0.6374,1.0,0.6699,0.3569,1.0,1.0,1.0,1.0,0.6458,1.0,1.0,0.6651,1.0,1.0,1.0,1.0,0.6633,1.0,0.6746,0.6641,0.6832,1.0,1.0,0.6915,0.6403,0.6685,0.6832,0.6522,1.0,1.0,0.6842,1.0,1.0,0.6565,1.0,0.7026,0.6856,1.0,0.6596,1.0,1.0,0.6582,1.0,0.6711,1.0,0.6204,0.6508,1.0,1.0,0.6544,1.0,0.355,1.0,1.0,1.0,0.6522,0.6576,0.6709,0.6796,0.6741,1.0,0.6875,1.0,0.6633,1.0,1.0,1.0,0.3466,0.7069,1.0,1.0,1.0,1.0,0.6608,1.0,0.6452,0.6383,1.0,0.6267,1.0,1.0,0.6832,1.0,1.0,1.0,0.6681,0.6735,1.0,0.6804,0.6175,0.6591,0.6815,1.0,0.6565,1.0,1.0,1.0,1.0,0.6799,1.0,1.0,1.0,0.6679999999999999,0.6831,1.0,1.0,0.6809,1.0,0.6814,0.6709,1.0,1.0,1.0,1.0,1.0,0.6433,0.6526,0.6485,0.6701,0.65,0.6742,0.6715,1.0,0.6634,0.6703,0.6565,0.6291,0.6563,1.0,1.0,1.0,1.0,0.3548,1.0,1.0,0.7028,1.0,0.3681,0.6458,1.0,1.0,1.0,0.6598,0.6712,1.0,0.6733,1.0,0.6522,1.0,0.6806,1.0,1.0,1.0,1.0,1.0,1.0,0.6488,0.6473,1.0,1.0,1.0,1.0,1.0,1.0,1.0,0.6842,0.6614,1.0,1.0,1.0,0.6632,0.6544,0.6714,0.6639,1.0,1.0,1.0,1.0,1.0,1.0,0.6507,0.6525,1.0,0.6667,1.0,1.0,1.0,1.0,1.0,1.0,0.6779,1.0,1.0,0.6571,1.0,1.0,0.6669,1.0,1.0,1.0,1.0,0.6554,0.6629999999999999,0.6859,0.6915,1.0,1.0,1.0,0.6969,1.0,1.0,0.6737,0.698,0.6691,1.0,0.3748,1.0,0.6955,1.0,1.0,1.0,1.0,0.66,0.662,1.0,0.6781,0.6904,0.6355,0.6862,0.6842,0.7041,1.0,0.6667,0.6511,1.0,1.0,1.0,1.0,0.6354,0.6825,1.0,0.7168,0.6246,0.3512,1.0,0.6538,1.0,1.0,0.6889,0.6559,1.0,1.0,1.0,1.0,1.0,0.6667,0.657,0.6529,1.0,1.0,1.0,0.6383,1.0,0.6405,1.0,1.0,1.0,0.672,0.6990000000000001,1.0,0.6416,0.6452,1.0,1.0,1.0,0.6827,0.6364,1.0,0.6497,1.0,1.0,1.0,0.6923,0.6753,0.653,1.0,0.6525,0.6667,0.6737,1.0,0.6655,1.0,0.6484,1.0,1.0,1.0,1.0,0.6413,0.3626,0.6889,0.7076,0.6465,1.0,0.6617,0.6593,1.0,0.6769,1.0,1.0,1.0,1.0,1.0,1.0,1.0,1.0,0.6771,0.6768,1.0,0.672,1.0,0.6651,1.0,0.6944,0.6701,0.647,0.653,0.701,1.0,0.6705,0.6764,1.0,1.0,0.6458,1.0,1.0,1.0,1.0,0.352,0.6437,0.6774,1.0,0.6809,0.7008,1.0,1.0,0.6793,0.6366,0.669,1.0,1.0,1.0,0.6842,1.0,1.0,0.6953,0.6567,0.6889,1.0,1.0,1.0,1.0,1.0,0.6743,1.0,1.0,0.6754,0.6768,1.0,0.6558,1.0,0.6632,1.0,0.3449,1.0,1.0,0.6475,1.0,1.0,0.6367,1.0,0.6301,0.669,0.6388,0.6842,0.6611,1.0,1.0,1.0,0.6688,0.6931,0.7223,0.6996,1.0,0.6729,0.6563,1.0,1.0,1.0,1.0,0.6372,1.0,1.0,0.6268,0.6466,1.0,1.0,0.6837,0.6857,1.0,0.6863,1.0,0.6307,0.617,1.0,0.6559999999999999,0.6771,0.6327,1.0,1.0,1.0,1.0,0.6661,0.6954,1.0,0.6596,0.6632,1.0,0.6722,0.6471,1.0,1.0,1.0,0.7083,1.0,1.0,0.6801,0.6663,1.0,0.3666,1.0,0.6479,1.0,1.0,0.6531,1.0,0.6767,1.0,0.6635,1.0,0.6464,1.0,0.6957,1.0,0.6523,1.0,1.0,0.6571,1.0,0.6629999999999999,0.6522,0.6598,1.0,1.0,0.6596,0.6906,1.0,0.6697,1.0,0.6526,0.6566,0.6792,0.6452,1.0,1.0,0.6756,0.6752,1.0,0.6632,0.6872,0.6631,0.6637,0.6806,0.6577,1.0,1.0,0.7097,1.0,1.0,0.6995,0.6919,1.0,0.6702,1.0,1.0,0.6579,1.0,0.6443,1.0,1.0,1.0,0.6825,0.6809,0.6681,1.0,1.0,0.6787,1.0,1.0,0.7004,0.7015,1.0,0.3511,1.0,1.0,1.0,0.6456,1.0,1.0,1.0,1.0,1.0,1.0,0.6729999999999999,0.6655,0.345,1.0,0.6699,1.0,0.6746,1.0,0.6806,0.6542,1.0,0.67,1.0,0.6475,1.0,0.6818,0.6382,1.0,0.6489,1.0,0.6771,1.0,1.0,1.0,0.6765,1.0,0.6647,0.6907,0.6634,0.6523,0.6396,1.0,1.0,0.6813,0.6667,1.0,1.0,0.6374,1.0,1.0,1.0,1.0,0.6998,1.0,1.0,0.6559,0.6743,0.6563,1.0,0.3368,1.0,0.6563,1.0,0.6799,1.0,1.0,1.0,0.3569,1.0,0.6382,1.0,1.0,0.6744,0.6515,0.9657,1.0,1.0,1.0,1.0,0.6594,1.0,1.0,0.6273,1.0,0.6504,1.0,1.0,1.0,0.6696,0.6664,1.0,1.0,0.647,1.0,0.6944,0.6404,1.0,1.0,0.7047,1.0,0.6842,1.0,0.7273,0.675,0.6774,1.0,1.0,1.0,0.35,0.6809,1.0,0.6609999999999999,1.0,1.0,0.6804,0.7047,1.0,1.0,1.0,0.6838,0.6874,1.0,1.0,1.0,1.0,1.0,0.6634,0.6481,1.0,0.6413,0.6774,0.6718,0.6907,0.6591,0.6832,0.6718,1.0,0.6804,0.7026,1.0,0.6832,0.6316,1.0,0.6676,0.677,0.7014,0.6465,0.6637,0.6661,1.0,1.0,1.0,0.6912,1.0,1.0,1.0,1.0,1.0,0.3476,0.3591,1.0,1.0,1.0,1.0,1.0,0.6953,1.0,0.6759999999999999,1.0,1.0,1.0,0.6559,1.0,1.0,1.0,1.0,0.6334,0.6517,0.6421,1.0,0.6726,1.0,1.0,0.6694,1.0,1.0,0.3511,1.0,1.0,1.0,0.6859,1.0,1.0,1.0,1.0,0.6925,1.0,0.6681,1.0,1.0,1.0,1.0,1.0,1.0,0.6487,0.6692,0.6424,0.6648,0.6776,1.0,1.0,1.0,1.0,0.6675,0.6404,1.0,0.6932,1.0,0.6920000000000001,0.6923,0.6694,0.7013,1.0,1.0,0.6687,0.6922,0.6651,1.0,0.6779999999999999,1.0,0.6489,1.0,0.6461,1.0,0.7066,0.6549,1.0,1.0,0.7028,1.0,1.0,1.0,1.0,1.0,0.633,1.0,1.0,0.3469,1.0,1.0,0.6549,1.0,1.0,1.0,0.7158,1.0,1.0,0.6056,1.0,0.7132,0.6536,1.0,1.0,0.6667,1.0,0.6732,1.0,1.0,0.6314,1.0,1.0,0.6626,0.6801,1.0,1.0,0.6364,0.7008,0.6349,1.0,0.6559,0.667,1.0,0.6779999999999999,0.6459999999999999,0.6709,1.0,1.0,1.0,0.6596,1.0,1.0,0.6548,1.0,1.0,0.6535,1.0,1.0,0.6633,1.0,0.6926,0.7067,0.6809,0.6592,0.6406,0.6807,0.6748,1.0,1.0,1.0,0.6596,1.0,1.0,0.7012,0.6890000000000001,1.0,1.0,1.0,0.6618,1.0,0.3498,0.6772,1.0,0.6604,1.0,0.6385,0.6852,0.6397,0.6598,1.0,0.6536,1.0,1.0,0.6779999999999999,0.6906,0.6747,1.0,1.0,0.6598,0.3444,1.0,1.0,0.3491,0.3498,0.6926,0.3441,1.0,0.6968,1.0,1.0,1.0,1.0,1.0,1.0,1.0,0.6496,1.0,1.0,1.0,0.6632,1.0,0.6566,1.0,0.6842,1.0,0.6632,1.0,1.0,1.0,1.0,1.0,1.0,0.6563,0.6739,1.0,0.6842,0.6774,1.0,1.0,1.0,1.0,1.0,1.0,1.0,1.0,1.0,1.0,1.0,1.0,1.0,1.0,0.6753,0.6972,1.0,1.0,1.0,0.6459,1.0,0.6679999999999999,0.6526,1.0,1.0,0.6768,0.6738,1.0,0.6622,1.0,0.6519,1.0,1.0,0.6813,1.0,1.0,1.0,0.6421,0.6721,1.0,1.0,0.3754,0.6733,1.0,1.0,0.6429,0.6576,1.0,1.0,1.0,1.0,1.0,0.6917,0.6552,1.0,0.6778,1.0,1.0,0.6766,1.0,1.0,0.6784,1.0,1.0,0.7158,1.0,0.6196,0.6663,0.6759999999999999,0.66,1.0,1.0,0.6941,1.0,0.6667,1.0,0.6581,1.0,0.6495,0.6559,1.0,0.6566,0.6843,1.0,1.0,1.0,1.0,1.0,0.6533,1.0,0.6876,1.0,0.6395,1.0,1.0,1.0,1.0,1.0,0.6842,1.0,0.6636,1.0,1.0,0.6609,1.0,1.0,1.0,1.0,1.0,0.6269,1.0,0.6818,0.6995,1.0,0.6967,1.0,1.0,1.0,1.0,1.0,1.0,1.0,0.7172,0.6629999999999999,0.6752,1.0,0.6535,0.7066,1.0,1.0,0.6627,1.0,1.0,1.0,0.6904,1.0,1.0,0.6739,1.0,1.0,1.0,0.6791,1.0,1.0,0.6701,1.0,0.6667,1.0,1.0,0.6654,1.0,1.0,1.0,1.0,0.6771,1.0,0.363,0.6522,0.6665,1.0,1.0,0.6447,1.0,1.0,1.0,0.662,1.0,1.0,1.0,1.0,1.0,0.6721,1.0,1.0,0.6747,1.0,1.0,0.3384,0.6444,0.682,0.6526,0.6523,1.0,1.0,1.0,1.0,0.6458,0.68,1.0,1.0,0.6604,1.0,1.0,1.0,0.6715,1.0,0.6633,1.0,0.6667,1.0,1.0,1.0,1.0,1.0,1.0,1.0,0.6875,0.6505,1.0,1.0,0.6777,0.6667,0.6737,1.0,1.0,1.0,0.6822,1.0,1.0,1.0,0.624,0.6563,1.0,1.0,1.0,0.6482,0.6596,1.0,1.0,1.0,1.0,1.0,0.7025,0.6733,0.6925,0.653,0.6452,0.6476,0.6294,0.6832,1.0,1.0,1.0,0.6759,1.0,0.6631,0.6555,1.0,1.0,0.6742,1.0,1.0,1.0,1.0,0.3612,1.0,0.6664,1.0,1.0,0.6833,1.0,0.7046,1.0,1.0,1.0,1.0,1.0,1.0,1.0,1.0,1.0,1.0,1.0,1.0,1.0,1.0,0.6601,1.0,0.6659,0.3685,0.6955,0.6542,1.0,0.3389,0.66,0.3469,1.0,1.0,1.0,0.6426,0.6904,1.0,1.0,1.0,1.0,0.6509,0.6284,0.916,1.0,1.0,1.0,0.6974,0.6809,1.0,0.6609,1.0,0.7172,0.6484,1.0,1.0,1.0,0.6236,1.0,0.6252,1.0,1.0,1.0,1.0,1.0,1.0,1.0,0.6890000000000001,1.0,1.0,0.6667,1.0,0.6344,1.0,1.0,1.0,1.0,1.0,1.0,1.0,1.0,0.6819,0.6667,1.0,1.0,0.6769,1.0,1.0,0.6559,0.6905,1.0,1.0,0.6871,0.7065,1.0,1.0,1.0,1.0,1.0,0.6804,1.0,0.3708,1.0,1.0,1.0,1.0,1.0,0.6155,1.0,1.0,1.0,0.6607,1.0,0.6709,1.0,0.6735,1.0,0.643,1.0,1.0,0.6659,0.6634,1.0,1.0,1.0,1.0,1.0,0.6774,1.0,1.0,1.0,1.0,1.0,1.0,1.0,0.6507,1.0,1.0,0.6504,0.3674,1.0,0.664,0.6584,0.6429,1.0,1.0,1.0,1.0,1.0,0.6627,0.6452,0.6777,1.0,1.0,1.0,1.0,1.0,1.0,0.6692,1.0,0.6395,1.0,1.0,1.0,0.6444,1.0,1.0,1.0,0.66,1.0,1.0,1.0,1.0,1.0,1.0,0.6424,1.0,1.0,1.0,0.6313,1.0,1.0,0.6105,0.6629999999999999,0.6714,0.6819,0.6437,1.0,1.0,0.6596,1.0,0.6684,0.6368,1.0,1.0,1.0,0.6974,0.6448,1.0,1.0,0.644,1.0,1.0,0.6774,1.0,1.0,1.0,1.0,0.6824,0.6566,1.0,0.7039,0.6804,0.6686,1.0,1.0,0.6803,0.6419,1.0,1.0,0.7005,1.0,1.0,0.6703,0.6641,0.657,1.0,0.6508,1.0,0.6638,0.6832,1.0,0.6601,1.0,1.0,0.3394,0.732,0.6739,0.3516,0.6577,0.3624,0.6736,1.0,0.6584,1.0,0.6634,1.0,1.0,0.7218,1.0,0.6479,1.0,0.6559,0.6738,0.3466,1.0,1.0,1.0,1.0,1.0,1.0,0.6518,0.6809,0.6558,1.0,1.0,1.0,1.0,1.0,1.0,1.0,0.7065,1.0,0.6879,0.7,0.6489,0.6651,0.649,1.0,1.0,0.6733,1.0,1.0,0.6885,1.0,1.0,1.0,1.0,0.6863,0.6970000000000001,1.0,0.6868,0.6867,1.0,0.6413,1.0,1.0,0.6374,0.6635,0.6667,1.0,1.0,1.0,1.0,1.0,1.0,0.6771,0.6545,1.0,1.0,1.0,1.0,0.6883,1.0,1.0,1.0,0.6632,1.0,1.0,0.6669,1.0,0.6646,0.6399,1.0,1.0,1.0,0.6703,1.0,0.7033,0.6735,1.0,1.0,1.0,0.6621,0.6889,1.0,0.6611,1.0,0.6736,1.0,0.6821,1.0,1.0,1.0,0.6421,1.0,1.0,1.0,0.6484,1.0,0.6581,1.0,1.0,1.0,0.7072,0.6845,1.0,0.3353,0.68,1.0,1.0,1.0,1.0,1.0,0.6955,0.35,1.0,1.0,0.6889,1.0,1.0,0.3543,0.6986,1.0,0.6831,1.0,1.0,0.6354,1.0,0.6629999999999999,1.0,1.0,1.0,1.0,1.0,0.6795,1.0,1.0,1.0,1.0,0.6573,1.0,1.0,0.6742,1.0,0.6569,1.0,0.65,1.0,1.0,0.6544,0.6509,1.0,0.6737,1.0,1.0,1.0,0.3727,1.0,0.3356,1.0,0.7023,1.0,0.6613,0.6556,0.6383,1.0,1.0,1.0,1.0,0.6805,1.0,0.685,0.6831,1.0,1.0,0.3634,1.0,0.6514,0.6712,1.0,1.0,1.0,1.0,1.0,1.0,1.0,1.0,1.0,0.6372,1.0,1.0,1.0,1.0,1.0,0.6578,0.669,1.0,1.0,0.6392,0.6889,1.0,0.3654,0.6492,1.0,1.0,1.0,0.7185,1.0,1.0,0.6703,1.0,1.0,1.0,1.0,1.0,1.0,1.0,1.0,1.0,1.0,0.6927,0.6667,0.6632,1.0,0.6775,1.0,0.6552,1.0,1.0,0.6857,0.3474,1.0,1.0,1.0,0.6684,0.7113,1.0,0.6289,1.0,0.6392,0.6679999999999999,0.6479,1.0,1.0,1.0,1.0,1.0,1.0,0.6957,1.0,1.0,1.0,0.69,0.6277,0.3474,0.6957,1.0,1.0,0.6781,1.0,0.6523,1.0,1.0,0.3474,1.0,1.0,1.0,1.0,0.6657,0.657,0.6434,0.6591,0.6559,1.0,0.6895,1.0,0.6689,1.0,1.0,0.6525,1.0,0.6526,0.6662,1.0,0.6953,0.65,1.0,0.6513,1.0,0.6534,0.6606,1.0,0.6923,1.0,1.0,0.6775,1.0,0.7067,1.0,1.0,1.0,1.0,0.6596,1.0,1.0,0.6527,1.0,0.6606,0.6619,0.6838,0.6617,1.0,0.6732,1.0,1.0,1.0,1.0,0.3474,0.6354,0.6785,1.0,1.0,1.0,1.0,0.703,1.0,0.6834,0.642,1.0,1.0,1.0,1.0,0.9633,0.6803,0.6957,0.6890000000000001,1.0,0.6469,0.6869,1.0,0.6472,0.6939,1.0,0.6994,0.649,1.0,0.6638,0.6364,1.0,0.6266,1.0,0.6551,1.0,1.0,0.6673,0.6522,0.6526,0.3474,0.6875,1.0,1.0,0.643,1.0,1.0,1.0,0.6875,0.6596,1.0,1.0,0.6609,1.0,1.0,1.0,0.6454,0.6667,0.6429,0.6578,1.0,1.0,0.6765,0.6623,1.0,1.0,1.0,0.6848,1.0,0.6703,0.6667,0.6768,0.6803,1.0,0.7067,0.6606,0.6667,1.0,1.0,1.0,0.6316,0.6439,1.0,1.0,1.0,0.6811,0.6633,0.7012,1.0,1.0,0.6667,0.6779999999999999,0.6737,1.0,1.0,0.6554,1.0,0.6809,1.0,1.0,1.0,1.0,0.6608,1.0,1.0,1.0,0.6618,1.0,0.6372,1.0,1.0,0.6857,1.0,1.0,0.6514,1.0,0.6705,1.0,1.0,1.0,1.0,1.0,1.0,0.6423,0.6714,0.657,1.0,1.0,0.6946,1.0,0.7087,1.0,1.0,0.6356,1.0,1.0,1.0,1.0,1.0,0.6479,0.6783,1.0,1.0,1.0,1.0,0.6333,1.0,0.6714,1.0,0.6639,1.0,1.0,0.6701,1.0,0.6633,0.6616,1.0,1.0,1.0,0.6809999999999999,1.0,1.0,1.0,1.0,0.6804,1.0,1.0,1.0,0.6909,1.0,1.0,0.6598,1.0,1.0,0.6973,0.6675,1.0,1.0,0.6915,1.0,1.0,1.0,0.6739,0.6479,1.0,1.0,0.3488,0.6771,0.7065,0.6744,0.6471,1.0,0.7158,0.6429,1.0,0.7084,0.6748,1.0,1.0,1.0,1.0,0.6842,1.0,0.7029,0.6632,0.3421,0.6247,0.6838,0.6447,1.0,0.6837,0.6454,0.654,0.6709,0.3636,1.0,1.0,0.6926,0.6869,0.6556,0.6404,0.6436,1.0,0.6827,1.0,0.3829999999999999,1.0,1.0,0.6703,0.6501,1.0,0.6939,0.667,1.0,1.0,0.6754,1.0,1.0,0.631,0.3499,1.0,0.6837,0.6525,0.6617,1.0,0.6546,0.3505,1.0,1.0,1.0,0.6709,1.0,0.6667,0.7124,1.0,0.6495,0.6591,1.0,1.0,1.0,0.6907,0.6637,1.0,0.3556,1.0,1.0,1.0,1.0,1.0,0.6646,1.0,1.0,0.6596,1.0,1.0,0.6588,0.6697,1.0,0.6669,0.6338,0.6532,1.0,1.0,0.647,0.6824,1.0,0.6813,0.6722,0.6598,1.0,0.6686,0.6742,1.0,0.6462,0.6634,0.6563,0.6696,1.0,1.0,0.7194,1.0,1.0,1.0,1.0,0.6657,0.6848,1.0,0.6583,0.6659,0.6625,1.0,0.6808,1.0,1.0,1.0,0.664,1.0,1.0,0.6592,1.0,1.0,0.6633,1.0,0.3493,0.6823,0.6524,1.0,0.6701,1.0,0.6486,1.0,1.0,0.6771,0.6683,1.0,1.0,1.0,1.0,0.6291,0.6598,0.6562,1.0,0.6739,1.0,1.0,0.6812,1.0,0.6771,0.3606,1.0,1.0,1.0,0.6739,1.0,1.0,0.6774,0.6883,1.0,0.6699,1.0,0.6898,1.0,0.6566,0.6774,1.0,0.6735,1.0,1.0,0.6836,1.0,1.0,1.0,0.6535,1.0,1.0,1.0,0.6701,1.0,0.6831,1.0,1.0,1.0,0.6838,1.0,1.0,0.67,0.6713,1.0,1.0,0.6368,0.6462,0.6926,1.0,0.6442,0.6407,0.6807,1.0,0.6571,0.6536,1.0,1.0,1.0,1.0,1.0,1.0,1.0,1.0,0.6711,0.3398,1.0,1.0,0.3715,1.0,1.0,0.633,0.672,0.6591,0.6629999999999999,1.0,0.6376,0.3568,0.6427,1.0,1.0,0.6472,0.6889,0.6778,1.0,1.0,1.0,1.0,1.0,1.0,1.0,1.0,0.7012,0.6634,1.0,0.6737,1.0,0.7090000000000001,1.0,1.0,0.6575,0.6529,0.6533,1.0,0.6621,0.6621,1.0,1.0,1.0,1.0,0.6667,1.0,1.0,1.0,1.0,0.6606,1.0,0.6593,1.0,1.0,1.0,0.6714,1.0,0.6658,1.0,1.0,1.0,1.0,0.67,0.6696,1.0,1.0,0.6753,0.6635,0.66,0.6366,1.0,1.0,0.6598,1.0,0.6832,1.0,1.0,1.0,1.0,0.6671,0.3437,1.0,1.0,1.0,1.0,0.6869,1.0,0.6632,1.0,1.0,0.64,1.0,0.6703,0.6843,0.6316,1.0,1.0,0.6477,1.0,1.0,1.0,1.0,1.0,1.0,0.6742,1.0,0.6309,1.0,1.0,1.0,1.0,0.64,1.0,1.0,1.0,1.0,1.0,0.6942,1.0,0.6926,1.0,1.0,1.0,1.0,0.6641,0.6627,0.6735,1.0,1.0,1.0,1.0,1.0,1.0,0.6768,1.0,1.0,1.0,0.6729,0.3563,0.6842,0.6545,0.3519,0.3711,1.0,0.6756,0.6591,0.6461,0.6747,1.0,1.0,1.0,1.0,0.6691,0.6595,0.6779999999999999,1.0,1.0,0.6532,1.0,1.0,1.0,1.0,0.6381,1.0,1.0,1.0,1.0,1.0,1.0,0.3456,0.3617,1.0,0.6559999999999999,0.6667,1.0,0.654,0.6531,1.0,1.0,1.0,0.6344,1.0,1.0,0.672,1.0,0.7033,0.6922,1.0,1.0,1.0,0.6826,1.0,1.0,0.6517,1.0,0.6686,1.0,0.6472,0.6669,0.6489,0.693,1.0,1.0,0.6593,1.0,1.0,1.0,1.0,0.6582,1.0,1.0,0.6792,0.6652,0.6842,0.6581,0.6837,1.0,0.6469,0.667,1.0,1.0,0.6508,1.0,0.6598,1.0,1.0,1.0,1.0,0.6637,1.0,1.0,0.7128,1.0,0.6733,1.0,0.6931,1.0,1.0,1.0,1.0,1.0,1.0,1.0,0.6503,0.6394,1.0,0.6526,1.0,1.0,1.0,1.0,0.6742,0.6039,0.3602,0.3363,1.0,1.0,0.7263,1.0,1.0,1.0,0.7047,1.0,1.0,1.0,1.0,1.0,1.0,1.0,0.6596,0.6383,0.3469,0.6612,0.6551,1.0,1.0,0.632,1.0,1.0,1.0,1.0,1.0,1.0,1.0,0.68,0.6846,1.0,1.0,0.6544,0.6669,1.0,1.0,0.6874,1.0,1.0,0.66,1.0,0.6492,0.7088,0.7065,1.0,1.0,0.6563,1.0,1.0,1.0,1.0,0.7153,0.6322,1.0,0.6457,1.0,1.0,1.0,0.6332,0.6382,0.6774,1.0,0.6526,0.6196,1.0,0.6411,0.6871,0.3494,1.0,1.0,0.6667,0.6705,0.6639,1.0,0.6295,1.0,0.6507,1.0,0.7040000000000001,1.0,0.6701,1.0,1.0,0.6579,0.6409,1.0,0.3429999999999999,1.0,1.0,0.6768,0.6698,0.6959,1.0,0.67,1.0,0.6719,0.6701,0.6816,1.0,1.0,1.0,1.0,1.0,1.0,0.6392,1.0,1.0,1.0,0.6838,0.6667,0.6709,1.0,0.6566,0.6806,1.0,1.0,0.6701,1.0,1.0,1.0,1.0,0.6702,0.7053,0.65,1.0,1.0,0.6316,1.0,1.0,1.0,1.0,0.6667,1.0,1.0,1.0,0.6579,1.0,0.6533,1.0,1.0,1.0,1.0,1.0,0.6786,1.0,1.0,1.0,0.6566,1.0,0.6907,0.6387,0.6559999999999999,1.0,1.0,1.0,1.0,1.0,1.0,1.0,0.6588,0.6701,0.6364,1.0,1.0,0.3548,0.68,1.0,0.6694,0.6667,1.0,1.0,0.6691,1.0,0.6556,0.6904,1.0,1.0,1.0,1.0,1.0,0.6697,1.0,1.0,1.0,1.0,0.6843,1.0,1.0,0.7036,1.0,1.0,1.0,1.0,0.6588,0.6829999999999999,1.0,1.0,0.6775,1.0,1.0,1.0,0.6889,1.0,0.6854,1.0,1.0,0.6907,1.0,1.0,1.0,1.0,1.0,1.0,0.7245,1.0,1.0,1.0,1.0,1.0,0.7077,1.0,0.6667,0.6602,1.0,1.0,1.0,1.0,0.6495,1.0,0.6808,1.0,0.6602,1.0,0.3658,0.6723,1.0,1.0,1.0,0.3563,1.0,1.0,0.6632,0.3373,1.0,1.0,1.0,1.0,0.6768,0.6762,0.6606,0.6737,0.6503,1.0,1.0,0.6808,0.6778,1.0,1.0,0.6890000000000001,0.6659,0.6786,1.0,0.6259,1.0,1.0,1.0,0.6423,0.6754,1.0,1.0,0.6596,0.7246,0.6989,0.6774,0.6923,1.0,1.0,1.0,1.0,0.7007,1.0,1.0,1.0,0.6465,0.6727,1.0,0.6596,0.6739,0.6815,0.6645,1.0,1.0,1.0,1.0,1.0,0.6698,1.0,1.0,0.6639,1.0,0.6701,0.6539,0.6465,0.7102,0.6633,1.0,0.6804,0.6962,1.0,1.0,0.6544,1.0,1.0,1.0,0.6742,0.6533,0.6793,0.6629999999999999,0.6999,1.0,1.0,0.6857,1.0,0.7077,0.6841,0.6634,0.6701,0.6667,0.6317,1.0,1.0,1.0,1.0,0.6805,1.0,1.0,0.6721,0.6332,0.6661,1.0,1.0,1.0,1.0,0.7052,1.0,1.0,1.0,0.6676,1.0,1.0,1.0,0.6809,1.0,1.0,1.0,0.3592,1.0,0.3608,0.6913,1.0,1.0,0.6196,0.6865,1.0,1.0,0.3516,1.0,0.6635,1.0,1.0,1.0,1.0,1.0,1.0,1.0,1.0,1.0,0.6632,1.0,0.6789,1.0,1.0,0.66,0.6701,1.0,1.0,1.0,1.0,1.0,0.3502,0.6667,0.66,1.0,1.0,1.0,1.0,0.6779,0.6624,0.3661,0.7223,0.6396,0.6888,1.0,1.0,1.0,1.0,0.6786,0.6821,1.0,0.66,1.0,1.0,1.0,1.0,0.6495,1.0,1.0,0.6728,0.6709,0.6584,0.6729999999999999,0.6468,0.6742,1.0,1.0,1.0,1.0,1.0,0.6685,1.0,0.6737,0.7139,0.6667,1.0,0.7028,1.0,1.0,1.0,1.0,0.6809999999999999,1.0,1.0,1.0,1.0,1.0,1.0,1.0,0.6663,1.0,1.0,1.0,1.0,1.0,1.0,0.6469,0.6667,1.0,0.6507,0.6703,1.0,0.6444,1.0,1.0,1.0,0.6872,1.0,1.0,0.6764,1.0,1.0,1.0,0.6557,1.0,1.0,1.0,0.6853,0.6635,0.68,0.6714,1.0,1.0,0.6421,1.0,1.0,1.0,0.6671,0.6304,0.6411,0.6925,1.0,1.0,1.0,0.6989,1.0,1.0,1.0,1.0,1.0,1.0,0.6947,1.0,0.6669,1.0,1.0,0.6621,1.0,1.0,1.0,0.6832,1.0,0.6688,0.6544,0.6472,0.6647,0.6837,0.6556,0.6546,0.6451,1.0,1.0,1.0,1.0,0.6804,1.0,0.6591,0.6535,0.6559,1.0,1.0,0.6612,1.0,1.0,1.0,1.0,0.6773,0.6837,0.3819,0.6625,0.6563,1.0,0.6805,0.6664,1.0,0.6691,0.6733,1.0,0.6645,0.6667,1.0,1.0,1.0,1.0,1.0,1.0,1.0,0.6584,1.0,1.0,0.664,1.0,0.6377,0.6796,1.0,1.0,0.6735,0.6503,0.6485,1.0,1.0,0.6591,0.6667,1.0,0.6671,0.6602,0.6701,1.0,0.6779,1.0,1.0,1.0,0.6546,1.0,1.0,0.6831,1.0,0.6686,0.6714,1.0,1.0,1.0,1.0,1.0,1.0,1.0,1.0,1.0,1.0,1.0,1.0,0.685,0.3686,1.0,0.3634,0.701,0.644,0.633,0.6538,0.6895,0.66,1.0,1.0,1.0,0.67,1.0,0.6429,1.0,1.0,0.6739,0.6645,1.0,1.0,1.0,1.0,1.0,1.0,1.0,1.0,0.6665,1.0,0.6652,1.0,0.6778,0.6329,0.669,0.6843,1.0,1.0,0.6593,1.0,0.6906,0.6609999999999999,1.0,0.6762,0.6421,1.0,0.6354,1.0,1.0,1.0,0.7002,1.0,0.6875,1.0,0.6549,1.0,0.6749,1.0,1.0,1.0,0.6737,1.0,1.0,1.0,0.3913,0.6737,0.636,1.0,1.0,1.0,1.0,1.0,1.0,1.0,1.0,0.6667,1.0,1.0,1.0,1.0,1.0,1.0,0.7039,1.0,1.0,1.0,1.0,1.0,1.0,1.0,1.0,0.6316,1.0,0.3782,1.0,1.0,0.6842,1.0,0.669,1.0,1.0,1.0,1.0,1.0,1.0,1.0,1.0,1.0,1.0,1.0,1.0,0.6537,1.0,1.0,1.0,0.6991,1.0,0.6326,0.6983,1.0,1.0,0.6452,1.0,1.0,1.0,1.0,0.7087,1.0,1.0,1.0,1.0,0.6771,1.0,0.6629999999999999,1.0,1.0,1.0,1.0,1.0,0.6421,1.0,1.0,1.0,1.0,1.0,0.6739,1.0,1.0,1.0,0.7109,0.6469,1.0,0.6606,0.3469,1.0,1.0,1.0,1.0,1.0,0.6647,1.0,1.0,1.0,1.0,1.0,1.0,1.0,1.0,1.0,1.0,1.0,1.0,1.0,1.0,1.0,1.0,1.0,1.0,0.6626,0.6556,1.0,1.0,1.0,1.0,1.0,0.6764,1.0,1.0,1.0,1.0,0.6898,1.0,0.6281,1.0,1.0,0.6564,0.6551,1.0,1.0,0.6806,0.6915,1.0,1.0,0.6667,1.0,1.0,1.0,1.0,1.0,1.0,1.0,0.6669,0.6353,1.0,0.6774,1.0,1.0,1.0,1.0,1.0,1.0,1.0,1.0,0.6598,0.6769,1.0,0.6696,1.0,1.0,1.0,1.0,1.0,0.6727,0.3872,1.0,1.0,0.6756,1.0,1.0,1.0,1.0,1.0,1.0,1.0,1.0,0.635,1.0,1.0,1.0,1.0,0.3709,1.0,1.0,1.0,1.0,1.0,1.0,1.0,1.0,1.0,1.0,1.0,1.0,1.0,1.0,1.0,0.6526,0.6866,0.6739,1.0,1.0,1.0,1.0,0.6307,1.0,1.0,1.0,1.0,1.0,0.3449,1.0,1.0,1.0,0.6712,0.6762,0.6526,1.0,0.6768,1.0,0.695,0.7083,1.0,1.0,1.0,1.0,1.0,0.6612,1.0,1.0,0.6559,1.0,1.0,0.6806,0.6701,1.0,0.6842,0.6446,1.0,1.0,1.0,1.0,1.0,1.0,1.0,1.0,1.0,1.0,0.6659,1.0,1.0,1.0,1.0,1.0,1.0,1.0,1.0,0.6637,1.0,1.0,1.0,1.0,1.0,1.0,1.0,0.6511,1.0,1.0,0.6814,1.0,1.0,1.0,1.0,0.6632,0.6283,1.0,1.0,1.0,1.0,1.0,1.0,1.0,1.0,1.0,1.0,0.6788,1.0,1.0,1.0,0.6902,1.0,1.0,1.0,1.0,0.6354,0.701,1.0,1.0,1.0,1.0,0.7021,1.0,1.0,0.3503,1.0,1.0,1.0,1.0,0.6922,1.0,1.0,1.0,1.0,1.0,1.0,1.0,1.0,1.0,0.6889,0.6989,0.6894,0.6863,1.0,1.0,1.0,1.0,1.0,1.0,0.6702,0.6436,1.0,1.0,1.0,1.0,1.0,0.6774,1.0,1.0,1.0,1.0,1.0,1.0,1.0,0.6417,0.6749,0.6788,0.6277,0.6187,1.0,0.6582,1.0,1.0,1.0,0.7015,1.0,0.6632,1.0,1.0,1.0,1.0,1.0,1.0,0.652,1.0,0.6729,1.0,1.0,1.0,1.0,1.0,1.0,0.7128,1.0,0.6563,1.0,1.0,1.0,1.0,1.0,0.6615,1.0,0.6667,1.0,1.0,1.0,0.6613,0.6669,1.0,1.0,1.0,1.0,1.0,0.6759,1.0,1.0,1.0,0.6837,0.6966,1.0,1.0,1.0,1.0,1.0,1.0,0.6513,1.0,1.0,1.0,1.0,1.0,1.0,0.6598,0.6809,1.0,1.0,1.0,1.0,1.0,0.6575,1.0,1.0,1.0,1.0,1.0,1.0,0.35,1.0,0.6593,1.0,1.0,0.6875,1.0,1.0,0.6427,0.967,0.6563,1.0,1.0,0.685,1.0,1.0,0.7059,0.6838,0.6882,0.6392,0.6146,0.6391,1.0,1.0,0.6596,1.0,0.6739,1.0,1.0,1.0,1.0,1.0,1.0,0.6696,1.0,1.0,1.0,1.0,1.0,1.0,1.0,1.0,1.0,1.0,1.0,1.0,1.0,1.0,1.0,0.6578,1.0,1.0,0.8563,1.0,1.0,1.0,1.0,1.0,1.0,1.0,0.716,1.0,1.0,1.0,0.6987,1.0,1.0,0.6522,1.0,1.0,0.6507,1.0,1.0,1.0,1.0,1.0,1.0,1.0,1.0,1.0,1.0,0.6716,1.0,1.0,1.0,1.0,1.0,1.0,0.6771,1.0,1.0,1.0,1.0,1.0,1.0,0.6629,1.0,1.0,1.0,1.0,1.0,0.6523,0.6775,1.0,1.0,1.0,1.0,1.0,1.0,1.0,1.0,0.6452,0.7006,1.0,1.0,1.0,1.0,0.6421,0.6458,0.6458,0.6713,1.0,1.0,1.0,0.6655,1.0,1.0,1.0,1.0,0.6699,1.0,0.6679,1.0,1.0,1.0,1.0,1.0,1.0,1.0,1.0,0.7009,1.0,1.0,0.6879,1.0,1.0,1.0,1.0,1.0,1.0,1.0,1.0,1.0,0.6697,1.0,1.0,1.0,0.65,1.0,1.0,1.0,1.0,0.6793,1.0,1.0,1.0,1.0,1.0,0.6588,1.0,1.0,1.0,1.0,0.695,0.6849,1.0,1.0,1.0,0.6932,1.0,1.0,1.0,1.0,1.0,1.0,0.6632,1.0,1.0,1.0,1.0,1.0,1.0,1.0,1.0,0.3682,1.0,1.0,1.0,1.0,1.0,1.0,1.0,0.6259,1.0,1.0,1.0,1.0,1.0,1.0,1.0,1.0,1.0,1.0,1.0,1.0,0.6832,0.6842,1.0,1.0,1.0,1.0,1.0,1.0,1.0,1.0,1.0,1.0,1.0,1.0,1.0,1.0,1.0,1.0,1.0,1.0,0.6737,1.0,0.6859999999999999,1.0,1.0,1.0,1.0,0.6718,1.0,1.0,1.0,1.0,0.6609,1.0,1.0,1.0,1.0,1.0,1.0,1.0,1.0,1.0,1.0,0.6596,1.0,1.0,1.0,1.0,1.0,1.0,1.0,1.0,1.0,1.0,1.0,1.0,1.0,1.0,1.0,1.0,1.0,1.0,1.0,1.0,1.0,1.0,1.0,0.7047,1.0,0.6976,0.6444,0.6629,0.667,1.0,1.0,1.0,1.0,1.0,1.0,1.0,1.0,1.0,1.0,0.6566,1.0,1.0,1.0,1.0,1.0,1.0,0.6869,1.0,1.0,1.0,1.0,1.0,1.0,1.0,1.0,1.0,1.0,0.6858,1.0,1.0,1.0,1.0,1.0,0.6457,1.0,0.657,1.0,1.0,1.0,1.0,1.0,1.0,1.0,1.0,1.0,1.0,0.3542,1.0,0.691,0.6614,1.0,1.0,1.0,0.6701,0.652,1.0,1.0,1.0,0.7128,1.0,1.0,1.0,0.7090000000000001,0.6735,1.0,1.0,0.7007,1.0,1.0,1.0,1.0,1.0,1.0,1.0,1.0,1.0,1.0,0.6403,1.0,0.6445,1.0,1.0,0.6721,0.6682,1.0,0.6948,1.0,1.0,1.0,1.0,1.0,1.0,1.0,0.6563,1.0,1.0,1.0,0.701,1.0,1.0,1.0,1.0,1.0,1.0,1.0,1.0,1.0,0.6459999999999999,0.6462,0.6294,1.0,1.0,1.0,1.0,1.0,0.6917,1.0,1.0,1.0,1.0,1.0,0.6653,1.0,1.0,1.0,1.0,1.0,1.0,1.0,1.0,0.6307,1.0,0.6742,1.0,1.0,1.0,0.6737,1.0,1.0,1.0,1.0,0.65,1.0,1.0,0.6695,0.6854,1.0,0.6374,1.0,1.0,1.0,1.0,1.0,1.0,1.0,1.0,1.0,1.0,1.0,1.0,1.0,1.0,1.0,1.0,1.0,1.0,1.0,1.0,0.6559,1.0,1.0,1.0,1.0,1.0,0.6511,1.0,0.6566,1.0,1.0,1.0,1.0,1.0,1.0,1.0,1.0,1.0,0.6739,1.0,1.0,1.0,1.0,1.0,1.0,1.0,0.6699,1.0,1.0,1.0,1.0,0.6633,1.0,1.0,1.0,1.0,1.0,0.6818,1.0,1.0,1.0,1.0,1.0,1.0,1.0,0.7027,0.6842,1.0,0.6344,1.0,1.0,1.0,1.0,1.0,1.0,1.0,1.0,1.0,0.6593,1.0,1.0,1.0,1.0,1.0,1.0,1.0,1.0,1.0,1.0,1.0,1.0,1.0,1.0,1.0,1.0,1.0,1.0,1.0,0.6867,1.0,1.0,0.6855,1.0,1.0,0.6402,1.0,0.6424,0.6933,1.0,1.0,1.0,1.0,1.0,1.0,1.0,1.0,0.6745,1.0,1.0,0.6461,1.0,1.0,1.0,1.0,1.0,1.0,1.0,1.0,1.0,1.0,0.6571,0.6837,1.0,1.0,1.0,1.0,1.0,1.0,1.0,1.0,1.0,1.0,1.0,1.0,1.0,1.0,1.0,1.0,1.0,1.0,1.0,0.6667,1.0,0.6677,0.3429999999999999,1.0,1.0,1.0,1.0,1.0,1.0,1.0,1.0,1.0,0.6675,1.0,1.0,0.355,1.0,1.0,1.0,0.6579,1.0,1.0,1.0,1.0,1.0,1.0,1.0,1.0,1.0,1.0,1.0,0.6674,1.0,1.0,1.0,1.0,1.0,1.0,1.0,0.6546,1.0,1.0,1.0,1.0,1.0,1.0,1.0,1.0,1.0,1.0,1.0,1.0,1.0,1.0,1.0,1.0,1.0,1.0,0.7149,1.0,1.0,0.6559,0.6917,1.0,1.0,1.0,1.0,0.6735,1.0,1.0,1.0,1.0,1.0,0.6498,0.684,1.0,1.0,0.6923,0.6669,1.0,1.0,1.0,1.0,0.6721,1.0,1.0,1.0,0.6522,0.6655,1.0,1.0,1.0,1.0,1.0,0.6724,0.6769,0.6495,1.0,1.0,0.6862,1.0,1.0,1.0,1.0,1.0,0.6809,1.0,1.0,1.0,1.0,1.0,1.0,1.0,1.0,1.0,1.0,0.6811,1.0,1.0,1.0,0.6604,0.6556,1.0,1.0,1.0,1.0,1.0,1.0,0.6628,0.7093,1.0,1.0,1.0,1.0,1.0,1.0,1.0,1.0,1.0,1.0,0.6652,1.0,1.0,0.6578,1.0,1.0,1.0,1.0,1.0,1.0,1.0,1.0,1.0,1.0,1.0,1.0,1.0,1.0,1.0,1.0,1.0,1.0,1.0,1.0,1.0,1.0,1.0,1.0,1.0,0.6511,1.0,1.0,1.0,1.0,1.0,1.0,1.0,1.0,0.6559,1.0,1.0,1.0,1.0,1.0,1.0,1.0,1.0,1.0,1.0,1.0,1.0,1.0,1.0,1.0,1.0,1.0,1.0,1.0,1.0,1.0,1.0,1.0,1.0,1.0,1.0,0.6809,1.0,1.0,1.0,1.0,1.0,0.7065,1.0,1.0,1.0,1.0,1.0,1.0,0.6957,1.0,1.0,1.0,1.0,1.0,1.0,1.0,0.684,1.0,1.0,1.0,1.0,1.0,0.6875,1.0,1.0,1.0,1.0,1.0,0.6656,1.0,0.6598,1.0,1.0,1.0,1.0,1.0,1.0,1.0,1.0,1.0,1.0,1.0,1.0,1.0,1.0,1.0,1.0,0.6677,1.0,1.0,1.0,1.0,1.0,1.0,1.0,1.0,0.6534,1.0,1.0,0.6885,1.0,1.0,1.0,1.0,1.0,0.7008,1.0,0.6677,1.0,1.0,1.0,1.0,1.0,0.6667,1.0,1.0,1.0,1.0,1.0,1.0,0.6331,1.0,1.0,1.0,1.0,1.0,1.0,1.0,1.0,0.6596,1.0,1.0,1.0,1.0,1.0,1.0,1.0,1.0,0.6688,1.0,0.6717,1.0,1.0,1.0,1.0,1.0,1.0,0.6701,1.0,1.0,1.0,1.0,1.0,1.0,0.3502,1.0,1.0,1.0,1.0,1.0,1.0,0.6596,0.6925,1.0,1.0,1.0,1.0,1.0,1.0,1.0,1.0,0.6563,0.6667,1.0,0.6769,1.0,1.0,1.0,1.0,1.0,1.0,1.0,0.6569,1.0,1.0,0.7033,1.0,0.6909,1.0,1.0,1.0,1.0,1.0,1.0,0.6731,1.0,1.0,1.0,0.3421,1.0,1.0,1.0,1.0,0.6529,1.0,1.0,0.6627,0.7065,1.0,1.0,1.0,0.3631,1.0,1.0,1.0,1.0,0.6571,1.0,1.0,1.0,1.0,0.6179,1.0,1.0,1.0,0.6967,1.0,1.0,1.0,0.6276,1.0,1.0,1.0,1.0,1.0,1.0,1.0,1.0,1.0,0.7185,1.0,1.0,0.6531,1.0,0.6879,0.6934,1.0,0.7118,0.6363,1.0,1.0,0.6665,0.6947,1.0,1.0,1.0,1.0,0.6849,1.0,1.0,1.0,0.6602,1.0,1.0,1.0,1.0,1.0,1.0,1.0,0.6667,1.0,0.6526,1.0,0.6995,1.0,1.0,1.0,1.0,1.0,1.0,1.0,0.6333,1.0,1.0,1.0,1.0,1.0,0.6734,1.0,1.0,0.6778,1.0,0.696,1.0,1.0,0.6919,1.0,1.0,1.0,1.0,1.0,1.0,1.0,1.0,1.0,1.0,1.0,1.0,1.0,1.0,1.0,1.0,0.6774,1.0,1.0,1.0,0.3713,1.0,1.0,0.6408,1.0,1.0,1.0,1.0,0.6888,0.636,0.6523,1.0,1.0,1.0,1.0,1.0,0.6657,1.0,1.0,1.0,0.691,1.0,0.6764,1.0,1.0,1.0,1.0,1.0,1.0,1.0,1.0,1.0,1.0,1.0,1.0,1.0,0.6117,1.0,1.0,1.0,1.0,1.0,1.0,1.0,1.0,1.0,1.0,1.0,0.6596,1.0,0.6947,1.0,1.0,1.0,1.0,1.0,0.3476,1.0,1.0,1.0,0.6729,1.0,1.0,1.0,1.0,0.6739,1.0,1.0,1.0,1.0,0.6246,1.0,1.0,1.0,0.6622,1.0,0.68,1.0,1.0,1.0,0.6872,0.6872,1.0,1.0,1.0,1.0,1.0,1.0,1.0,1.0,1.0,1.0,0.6633,0.6535,0.6806,1.0,1.0,1.0,1.0,1.0,1.0,0.6946,0.3664,1.0,0.6733,0.3517,1.0,1.0,1.0,1.0,1.0,1.0,1.0,1.0,1.0,1.0,1.0,1.0,1.0,1.0,1.0,1.0,1.0,1.0,1.0,1.0,1.0,1.0,1.0,1.0,1.0,1.0,0.6953,1.0,1.0,1.0,1.0,0.6803,1.0,1.0,1.0,1.0,0.6785,1.0,0.7093,1.0,1.0,1.0,1.0,1.0,0.6632,1.0,1.0,1.0,0.6629999999999999,1.0,0.6386,0.667,1.0,1.0,1.0,1.0,0.6735,1.0,1.0,1.0,1.0,1.0,1.0,1.0,1.0,1.0,1.0,1.0,1.0,1.0,1.0,1.0,1.0,1.0,1.0,1.0,0.6875,0.6309,1.0,1.0,1.0,1.0,0.6715,0.6778,1.0,0.6522,0.6577,1.0,0.664,0.6806,0.6237,1.0,1.0,1.0,1.0,1.0,0.6496,1.0,0.6522,1.0,1.0,1.0,1.0,0.6292,1.0,1.0,1.0,0.66,1.0,1.0,1.0,1.0,1.0,1.0,1.0,1.0,1.0,0.6890000000000001,1.0,1.0,0.6421,1.0,1.0,0.6421,0.6404,1.0,0.6675,1.0,1.0,1.0,1.0,1.0,0.662,0.6451,1.0,1.0,0.6755,1.0,0.6498,1.0,1.0,1.0,0.68,1.0,1.0,0.6682,0.6847,1.0,1.0,0.6693,1.0,0.6222,1.0,1.0,1.0,0.6607,1.0,1.0,1.0,1.0,0.6697,1.0,1.0,1.0,0.6804,0.6726,1.0,1.0,1.0,1.0,1.0,1.0,1.0,0.6887,1.0,1.0,1.0,1.0,1.0,1.0,1.0,1.0,0.3616,1.0,0.6638,0.688,1.0,1.0,1.0,1.0,1.0,1.0,1.0,1.0,1.0,1.0,1.0,1.0,1.0,1.0,0.648,1.0,1.0,1.0,1.0,1.0,0.6544,1.0,1.0,1.0,1.0,1.0,1.0,1.0,1.0,1.0,1.0,1.0,1.0,1.0,1.0,0.6415,1.0,1.0,1.0,1.0,1.0,0.6927,1.0,1.0,1.0,0.6667,1.0,0.6739,1.0,1.0,1.0,1.0,0.6771,1.0,0.6266,1.0,1.0,1.0,1.0,1.0,0.6709,1.0,1.0,0.6232,1.0,1.0,1.0,0.6774,1.0,1.0,1.0,1.0,1.0,1.0,1.0,1.0,1.0,1.0,1.0,1.0,1.0,1.0,1.0,1.0,1.0,1.0,1.0,1.0,0.6581,1.0,1.0,1.0,1.0,1.0,1.0,1.0,0.6554,1.0,1.0,1.0,0.6932,1.0,1.0,1.0,1.0,1.0,1.0,1.0,1.0,1.0,1.0,1.0,1.0,1.0,1.0,1.0,1.0,1.0,1.0,1.0,1.0,1.0,1.0,1.0,0.7024,0.6987,0.6401,1.0,1.0,1.0,1.0,1.0,1.0,0.3491,0.6762,1.0,1.0,1.0,1.0,1.0,0.6869,1.0,1.0,0.6809,1.0,1.0,1.0,1.0,1.0,1.0,1.0,0.7109,1.0,1.0,0.6818,1.0,1.0,0.6315,1.0,1.0,1.0,0.6632,1.0,1.0,1.0,1.0,1.0,1.0,1.0,1.0,1.0,1.0,1.0,1.0,1.0,0.6867,1.0,1.0,1.0,1.0,1.0,0.6593,0.6436,1.0,1.0,1.0,1.0,0.6629,1.0,1.0,1.0,1.0,1.0,1.0,0.6632,1.0,1.0,1.0,1.0,1.0,1.0,1.0,1.0,0.6769,0.3451,1.0,0.6374,1.0,1.0,1.0,0.6484,1.0,1.0,1.0,1.0,0.6931,1.0,0.6687,1.0,1.0,1.0,0.6771,1.0,0.669,1.0,0.6629999999999999,1.0,1.0,1.0,0.6644,1.0,0.6579,1.0,1.0,1.0,1.0,1.0,1.0,0.6386,1.0,0.6863,1.0,1.0,1.0,0.66,0.6461,1.0,1.0,0.6606,1.0,1.0,1.0,1.0,1.0,0.6596,1.0,1.0,1.0,0.3733,1.0,1.0,1.0,1.0,0.6804,0.682,0.6452,1.0,0.3796,1.0,1.0,1.0,1.0,1.0,0.6559,0.6672,0.6701,0.3723,1.0,0.6885,1.0,1.0,1.0,1.0,0.6531,1.0,1.0,0.688,0.6743,1.0,1.0,1.0,0.6667,0.6539,1.0,1.0,1.0,1.0,1.0,1.0,1.0,1.0,1.0,1.0,1.0,0.3446,1.0,0.6769,1.0,0.6729,1.0,1.0,1.0,0.6221,1.0,0.6545,0.3691,0.6413,1.0,1.0,1.0,0.6525,1.0,1.0,0.6436,1.0,0.6808,0.3469,0.6673,1.0,1.0,1.0,0.6898,1.0,0.3511,1.0,1.0,1.0,1.0,0.6742,1.0,1.0,1.0,1.0,1.0,1.0,1.0,0.6853,1.0,1.0,1.0,0.6578,1.0,1.0,0.6554,1.0,1.0,0.6508,0.6875,0.6854,1.0,0.6931,1.0,1.0,0.6632,1.0,0.6768,0.6333,1.0,1.0,1.0,1.0,1.0,1.0,1.0,1.0,1.0,1.0,1.0,0.6714,0.7083,1.0,0.6527,1.0,0.3421,1.0,0.6365,1.0,0.6778,0.6631,1.0,1.0,1.0,0.6667,1.0,1.0,1.0,0.6612,0.6923,1.0,1.0,1.0,1.0,0.6699,1.0,1.0,1.0,0.6802,1.0,0.6472,1.0,1.0,1.0,1.0,1.0,1.0,0.6421,0.3655,1.0,1.0,1.0,1.0,1.0,1.0,0.6543,1.0,1.0,1.0,1.0,0.6447,1.0,1.0,1.0,1.0,1.0,1.0,1.0,1.0,1.0,1.0,1.0,1.0,1.0,1.0,1.0,1.0,1.0,0.6891,1.0,1.0,1.0,1.0,0.7012,1.0,1.0,0.6859,1.0,1.0,1.0,1.0,1.0,1.0,1.0,1.0,1.0,1.0,1.0,1.0,0.6679,1.0,1.0,1.0,1.0,0.6588,1.0,1.0,0.6599,1.0,1.0,1.0,1.0,1.0,1.0,1.0,0.6669,0.6717,1.0,1.0,0.6527,1.0,1.0,1.0,1.0,1.0,1.0,1.0,1.0,1.0,1.0,1.0,1.0,1.0,1.0,1.0,1.0,1.0,0.6733,1.0,0.7012,0.6794,0.7049,0.34,1.0,1.0,0.6499,1.0,1.0,1.0,0.3419,1.0,1.0,0.6643,1.0,1.0,1.0,0.6344,1.0,1.0,0.6495,0.6705,1.0,1.0,1.0,1.0,1.0,1.0,1.0,1.0,1.0,1.0,1.0,1.0,1.0,1.0,1.0,1.0,1.0,1.0,1.0,0.6229,0.7179,1.0,1.0,1.0,0.6344,1.0,1.0,1.0,0.6482,1.0,1.0,1.0,1.0,1.0,1.0,1.0,0.63,1.0,1.0,1.0,1.0,1.0,1.0,1.0,1.0,1.0,0.6556,1.0,1.0,1.0,1.0,1.0,0.6516,0.6511,0.6816,0.6576,1.0,0.6698,1.0,1.0,1.0,0.6677,1.0,1.0,1.0,1.0,1.0,1.0,0.6768,0.6519,1.0,0.6489,0.6737,1.0,0.6739,0.634,1.0,1.0,0.6871,1.0,1.0,0.6678,1.0,1.0,1.0,0.6847,1.0,1.0,1.0,1.0,1.0,1.0,1.0,1.0,1.0,1.0,1.0,1.0,0.6806,1.0,1.0,0.6652,1.0,0.6845,0.6765,1.0,0.7102,1.0,0.6819,0.6536,0.6505,1.0,1.0,1.0,0.6554,1.0,1.0,1.0,1.0,1.0,1.0,1.0,0.6762,1.0,1.0,0.6445,1.0,0.6854,1.0,1.0,1.0,1.0,0.68,1.0,1.0,1.0,1.0,1.0,0.6547,1.0,0.6507,1.0,0.6351,1.0,1.0,1.0,1.0,1.0,0.6743,0.6551,1.0,1.0,1.0,0.6983,0.6923,1.0,0.6773,0.6227,1.0,0.6762,1.0,0.6734,0.6648,1.0,1.0,1.0,0.6688,0.6524,1.0,0.3638,1.0,1.0,1.0,1.0,1.0,1.0,1.0,1.0,1.0,1.0,1.0,1.0,1.0,1.0,0.7123,0.6731,1.0,1.0,1.0,1.0,1.0,0.6677,1.0,1.0,1.0,1.0,0.6737,1.0,1.0,1.0,0.6672,1.0,1.0,0.6552,0.6519,0.6739,1.0,1.0,0.7132,1.0,1.0,0.6625,1.0,1.0,0.6957,1.0,1.0,1.0,1.0,1.0,1.0,1.0,1.0,1.0,1.0,1.0,1.0,1.0,0.3441,1.0,1.0,0.6772,0.7072,1.0,1.0,0.6843,1.0,1.0,1.0,1.0,1.0,1.0,1.0,1.0,1.0,1.0,1.0,1.0,1.0,1.0,0.6609999999999999,1.0,1.0,0.6634,0.6661,0.6865,1.0,1.0,1.0,1.0,1.0,0.6421,1.0,0.6429,1.0,1.0,1.0,1.0,1.0,1.0,1.0,1.0,1.0,1.0,1.0,1.0,1.0,1.0,1.0,1.0,1.0,1.0,1.0,1.0,0.6584,1.0,0.6854,1.0,0.6803,1.0,0.6627,1.0,1.0,0.6742,0.6356,1.0,0.66,1.0,1.0,0.6556,1.0,1.0,1.0,0.3558,1.0,1.0,1.0,1.0,1.0,1.0,1.0,0.6404,1.0,1.0,1.0,0.6775,1.0,1.0,0.6458,1.0,1.0,1.0,1.0,1.0,1.0,1.0,1.0,1.0,1.0,1.0,1.0,1.0,1.0,1.0,1.0,1.0,1.0,1.0,1.0,1.0,1.0,1.0,1.0,1.0,0.6644,1.0,1.0,0.6913,1.0,1.0,1.0,1.0,1.0,1.0,0.6449,1.0,0.6637,1.0,1.0,0.6762,0.6507,1.0,0.6677,1.0,1.0,1.0,1.0,1.0,1.0,0.3678,1.0,0.6714,0.6667,1.0,1.0,1.0,0.6459,1.0,1.0,1.0,0.6906,1.0,1.0,1.0,1.0,1.0,1.0,1.0,1.0,1.0,1.0,1.0,1.0,1.0,1.0,0.6659,0.6745,0.6858,1.0,1.0,0.6845,1.0,1.0,0.6458,1.0,1.0,1.0,1.0,1.0,1.0,0.6829999999999999,0.6291,0.6955,1.0,0.69,1.0,1.0,0.6632,0.6535,1.0,1.0,1.0,1.0,1.0,1.0,0.6727,1.0,1.0,1.0,1.0,1.0,1.0,1.0,1.0,0.6484,1.0,1.0,1.0,0.679,1.0,1.0,1.0,1.0,1.0,1.0,1.0,1.0,1.0,1.0,0.6916,1.0,1.0,1.0,1.0,1.0,1.0,1.0,0.6447,1.0,0.6718,1.0,1.0,1.0,1.0,1.0,0.6939,1.0,1.0,0.6515,1.0,1.0,1.0,1.0,1.0,0.6379,1.0,1.0,0.6729,1.0,1.0,1.0,1.0,0.6664,1.0,1.0,0.667,0.6383,0.6907,1.0,1.0,1.0,1.0,1.0,0.6716,1.0,1.0,1.0,1.0,1.0,1.0,0.6667,0.6316,0.6846,0.6547,1.0,0.667,0.6604,1.0,0.6889,0.6742,0.6449,0.6767,1.0,1.0,0.3474,1.0,1.0,1.0,1.0,0.6529,1.0,1.0,1.0,0.7047,1.0,1.0,0.6703,1.0,1.0,0.6712,0.6544,0.6911,0.6666,1.0,1.0,0.6639,0.6632,1.0,1.0,0.7012,1.0,1.0,1.0,1.0,1.0,1.0,1.0,0.6725,0.6628,0.6507,0.6882,0.6529,1.0,1.0,1.0,1.0,1.0,1.0,1.0,0.6752,0.6772,1.0,0.6806,0.6775,1.0,1.0,1.0,1.0,1.0,1.0,1.0,1.0,1.0,0.6503,0.6593,1.0,1.0,1.0,1.0,1.0,1.0,1.0,1.0,1.0,0.6712,1.0,1.0,1.0,0.6517,1.0,0.6463,1.0,0.6598,1.0,0.6739,1.0,1.0,1.0,1.0,1.0,1.0,1.0,1.0,1.0,1.0,0.6791,0.361,1.0,0.6915,1.0,0.6357,1.0,0.6749,1.0,1.0,0.6676,1.0,1.0,1.0,1.0,1.0,1.0,1.0,0.3519,0.627,0.6629999999999999,1.0,1.0,1.0,1.0,1.0,0.6266,0.6629,0.6932,1.0,0.6598,0.6907,1.0,0.6712,0.6304,0.6515,1.0,0.6809,1.0,1.0,1.0,1.0,1.0,1.0,1.0,1.0,1.0,0.9553,0.9236,1.0,1.0,0.6242,0.924,1.0,0.7991,1.0,0.6755,1.0,1.0,1.0,1.0,0.6581,0.6369,1.0,1.0,1.0,1.0,0.6541,1.0,1.0,0.6423,0.6485,1.0,1.0,1.0,0.6424,1.0,1.0,1.0,1.0,1.0,1.0,1.0,1.0,1.0,1.0,1.0,1.0,1.0,1.0,1.0,1.0,1.0,1.0,1.0,0.6709,1.0,1.0,0.6831,0.3539,0.6497,1.0,1.0,1.0,1.0,1.0,1.0,0.6909,1.0,1.0,0.6705,0.6551,1.0,1.0,1.0,0.6808,0.6539,1.0,1.0,1.0,1.0,1.0,1.0,1.0,1.0,1.0,1.0,1.0,0.6812,1.0,0.6495,1.0,1.0,1.0,1.0,1.0,1.0,1.0,0.6709999999999999,1.0,1.0,1.0,1.0,1.0,0.7101,1.0,1.0,0.6954,1.0,1.0,1.0,1.0,1.0,1.0,1.0,1.0,1.0,1.0,1.0,0.6913,1.0,0.7038,1.0,0.6535,0.69,0.6863,1.0,1.0,1.0,0.5014,1.0,1.0,1.0,1.0,1.0,1.0,1.0,1.0,0.6892,0.6709999999999999,1.0,1.0,1.0,1.0,1.0,0.6771,1.0,1.0,0.6552,0.7148,1.0,1.0,0.6432,1.0,1.0,0.667,1.0,1.0,0.6159,1.0,1.0,1.0,1.0,1.0,1.0,0.6925,1.0,0.6743,0.6982,1.0,1.0,1.0,0.6708,1.0,0.6937,1.0,0.6314,1.0,1.0,1.0,0.6436,1.0,1.0,1.0,0.6564,0.6786,1.0,1.0,1.0,1.0,0.6924,1.0,1.0,1.0,0.7068,0.6454,0.6236,1.0,1.0,1.0,1.0,0.6774,0.6683,1.0,0.6725,1.0,1.0,1.0,1.0,1.0,0.6188,1.0,0.6607,1.0,1.0,0.6858,1.0,0.6681,0.6687,1.0,0.6802,1.0,0.669,1.0,0.7276,1.0,0.635,0.6866,1.0,0.6616,1.0,1.0,1.0,1.0,0.6821,1.0,1.0,0.6782,0.6781,1.0,1.0,1.0,0.6707,1.0,1.0,0.6579,0.6779,1.0,1.0,1.0,0.3544,1.0,1.0,0.6307,1.0,1.0,1.0,1.0,1.0,1.0,1.0,1.0,0.6753,1.0,1.0,1.0,1.0,1.0,1.0,0.662,0.6812,1.0,1.0,1.0,1.0,1.0,1.0,1.0,1.0,1.0,0.6952,1.0,1.0,1.0,1.0,0.6576,1.0,0.6811,1.0,0.7175,1.0,1.0,1.0,1.0,0.6917,1.0,1.0,1.0,1.0,1.0,1.0,1.0,0.6427,0.6974,1.0,1.0,1.0,0.6824,1.0,0.6857,1.0,1.0,0.6723,1.0,0.6565,0.6578,1.0,1.0,1.0,1.0,1.0,1.0,1.0,1.0,0.6837,1.0,1.0,0.6894,1.0,1.0,1.0,1.0,1.0,1.0,0.6773,0.6864,1.0,1.0,1.0,1.0,1.0,0.6865,0.6752,1.0,1.0,0.6646,1.0,1.0,1.0,0.6528,1.0,0.6389,1.0,1.0,1.0,1.0,0.6418,1.0,1.0,1.0,1.0,1.0,1.0,1.0,0.6298,0.6755,0.6438,1.0,0.3384,1.0,0.6883,0.6667,1.0,1.0,1.0,1.0,1.0,0.7068,1.0,1.0,1.0,1.0,1.0,1.0,0.7118,1.0,1.0,1.0,0.6512,1.0,1.0,1.0,0.6827,0.7175,1.0,0.7,1.0,1.0,1.0,0.701,1.0,0.6801,1.0,0.6593,1.0,1.0,1.0,1.0,0.6858,1.0,1.0,0.6942,1.0,1.0,1.0,1.0,1.0,1.0,1.0,1.0,0.6324,1.0,1.0,0.7007,1.0,1.0,1.0,1.0,1.0,1.0,1.0,1.0,1.0,1.0,1.0,1.0,1.0,0.3834,1.0,1.0,0.6868,1.0,1.0,0.6989,1.0,1.0,1.0,1.0,0.6753,0.6741,1.0,1.0,1.0,1.0,1.0,1.0,1.0,1.0,0.6162,0.6596,0.6614,1.0,1.0,1.0,0.6879,1.0,1.0,0.6692,0.6787,1.0,1.0,1.0,1.0,1.0,1.0,1.0,1.0,1.0,1.0,1.0,1.0,1.0,1.0,1.0,1.0,1.0,1.0,1.0,1.0,1.0,1.0,1.0,1.0,0.3567,1.0,0.6708,1.0,1.0,1.0,1.0,1.0,1.0,0.6807,1.0,1.0,1.0,1.0,1.0,0.6739,1.0,0.6537,0.6506,1.0,1.0,1.0,0.6743,0.6741,0.6687,0.6855,1.0,1.0,0.6515,0.6543,0.7148,0.6953,1.0,1.0,0.6758,0.6603,1.0,1.0,1.0,1.0,1.0,0.6258,0.6568,1.0,1.0,0.6464,1.0,1.0,0.6534,0.6685,1.0,1.0,1.0,0.3394,1.0,1.0,1.0,1.0,1.0,1.0,1.0,0.6789,1.0,1.0,0.6562,0.6576,0.6883,1.0,1.0,1.0,0.6948,0.7002,0.6729999999999999,0.3421,1.0,1.0,1.0,1.0,0.6553,1.0,0.6907,1.0,1.0,0.6705,1.0,1.0,1.0,1.0,0.6799,0.6945,1.0,0.6559999999999999,1.0,1.0,1.0,1.0,0.6978,0.6702,1.0,1.0,1.0,1.0,1.0,0.6807,0.6661,0.6722,1.0,0.6605,1.0,0.669,1.0,0.669,1.0,1.0,1.0,1.0,1.0,1.0,1.0,1.0,1.0,0.6648,0.6569,1.0,0.6827,0.6487,1.0,1.0,0.6509999999999999,0.6832,1.0,0.6468,1.0,1.0,0.7009,1.0,1.0,0.6876,0.6678,0.6827,1.0,1.0,1.0,1.0,1.0,0.6685,1.0,1.0,1.0,1.0,0.6648,1.0,0.7023,1.0,1.0,0.6566,1.0,1.0,1.0,1.0,1.0,1.0,1.0,1.0,1.0,1.0,1.0,1.0,1.0,1.0,1.0,1.0,0.6356,0.6548,1.0,1.0,1.0,1.0,1.0,1.0,1.0,0.6454,1.0,1.0,0.6513,1.0,1.0,1.0,1.0,1.0,1.0,0.6278,1.0,1.0,1.0,1.0,1.0,1.0,1.0,1.0,1.0,0.6648,1.0,1.0,1.0,1.0,1.0,1.0,1.0,1.0,0.6749,1.0,0.7221,1.0,1.0,1.0,1.0,1.0,1.0,1.0,1.0,1.0,1.0,1.0,0.7020000000000001,1.0,0.6874,1.0,1.0,1.0,1.0,0.6594,1.0,1.0,1.0,0.71,1.0,0.657,0.6804,1.0,1.0,0.7206,1.0,1.0,1.0,1.0,1.0,1.0,0.6677,0.7219,1.0,0.6804,1.0,0.6708,1.0,1.0,1.0,1.0,1.0,1.0,1.0,0.7038,0.642,1.0,1.0,1.0,1.0,1.0,1.0,1.0,1.0,1.0,1.0,0.6659,1.0,1.0,1.0,1.0,1.0,1.0,1.0,1.0,0.6621,1.0,0.6598,1.0,1.0,1.0,1.0,1.0,0.7007,1.0,1.0,0.3498,1.0,0.6748,0.659,1.0,1.0,1.0,1.0,1.0,1.0,1.0,1.0,1.0,1.0,1.0,1.0,1.0,1.0,1.0,1.0,0.6422,0.7135,0.7066,1.0,1.0,1.0,1.0,0.7033,1.0,1.0,0.7195,1.0,1.0,1.0,1.0,1.0,1.0,1.0,1.0,1.0,1.0,1.0,1.0,0.6733,1.0,1.0,1.0,0.6559999999999999,0.6575,1.0,1.0,0.6826,1.0,0.6784,0.6769,1.0,0.6778,1.0,0.6406,1.0,0.639,1.0,1.0,1.0,0.6654,0.7004,1.0,1.0,1.0,1.0,1.0,1.0,1.0,1.0,1.0,1.0,0.6749,1.0,0.65,1.0,1.0,1.0,1.0,1.0,0.6641,0.6952,0.6991,1.0,0.6873,1.0,1.0,1.0,1.0,0.6402,1.0,1.0,0.6984,1.0,1.0,1.0,1.0,0.6749,1.0,1.0,1.0,1.0,1.0,1.0,0.6613,1.0,1.0,0.6527,1.0,1.0,1.0,0.6163,1.0,1.0,1.0,1.0,1.0,1.0,1.0,1.0,0.6812,1.0,1.0,1.0,1.0,0.6714,1.0,0.6595,1.0,1.0,1.0,1.0,0.6438,1.0,0.6491,1.0,0.6488,1.0,1.0,1.0,1.0,1.0,1.0,0.6578,0.7014,0.6763,1.0,1.0,1.0,1.0,1.0,1.0,1.0,0.3485,1.0,0.6498,1.0,1.0,0.7052,1.0,1.0,1.0,1.0,1.0,1.0,1.0,1.0,1.0,1.0,1.0,1.0,0.664,0.6466,1.0,0.6817,1.0,0.6421,1.0,1.0,1.0,1.0,0.6537,1.0,1.0,1.0,1.0,1.0,1.0,0.6579,1.0,0.6897,1.0,1.0,1.0,0.6751,1.0,1.0,0.7152,1.0,1.0,1.0,1.0,1.0,1.0,1.0,1.0,1.0,0.6655,1.0,1.0,1.0,1.0,1.0,1.0,0.6983,1.0,1.0,1.0,1.0,0.6576,1.0,1.0,0.7125,1.0,0.6826,0.6796,1.0,0.6709,1.0,0.6834,1.0,1.0,1.0,1.0,0.6867,1.0,1.0,1.0,1.0,1.0,1.0,1.0,1.0,1.0,1.0,1.0,0.6409,1.0,0.6604,1.0,1.0,1.0,1.0,1.0,1.0,1.0,1.0,1.0,1.0,0.6379,1.0,1.0,1.0,1.0,1.0,1.0,1.0,0.6448,0.7031,1.0,1.0,1.0,1.0,1.0,1.0,0.6326,1.0,0.6391,1.0,1.0,0.6713,1.0,1.0,1.0,1.0,1.0,1.0,1.0,1.0,1.0,1.0,1.0,1.0,1.0,0.7140000000000001,1.0,1.0,1.0,1.0,1.0,1.0,1.0,1.0,1.0,1.0,0.7145,1.0,1.0,1.0,1.0,0.7107,0.6984,1.0,1.0,1.0,0.6829999999999999,1.0,1.0,1.0,1.0,1.0,1.0,1.0,1.0,1.0,1.0,1.0,1.0,1.0,1.0,1.0,1.0,1.0,1.0,1.0,1.0,0.6795,1.0,1.0,1.0,1.0,0.6697,1.0,1.0,0.6494,1.0,1.0,1.0,1.0,0.6546,1.0,0.6606,1.0,0.6602,0.6399,1.0,1.0,1.0,1.0,1.0,1.0,1.0,1.0,1.0,1.0,1.0,0.6961,0.6955,1.0,0.6709999999999999,1.0,1.0,1.0,1.0,1.0,1.0,0.6431,1.0,1.0,1.0,1.0,1.0,0.6397,1.0,0.6594,1.0,1.0,1.0,1.0,1.0,0.6732,0.6938,1.0,1.0,1.0,0.6789,0.6751,1.0,1.0,1.0,1.0,1.0,0.662,1.0,1.0,1.0,1.0,0.6752,0.6914,1.0,1.0,1.0,0.6878,1.0,1.0,1.0,1.0,0.6721,1.0,1.0,1.0,1.0,1.0,1.0,1.0,1.0,1.0,1.0,1.0,1.0,1.0,1.0,1.0,1.0,0.6606,1.0,1.0,1.0,0.6488,1.0,0.6694,1.0,1.0,1.0,0.6864,1.0,1.0,1.0,1.0,1.0,1.0,1.0,0.7123,1.0,0.7282,1.0,0.6671,0.6337,1.0,0.6782,1.0,1.0,1.0,0.6707,0.7063,1.0,1.0,1.0,1.0,0.6753,1.0,1.0,1.0,1.0,1.0,1.0,1.0,1.0,1.0,1.0,0.6979,1.0,1.0,1.0,1.0,1.0,1.0,1.0,1.0,1.0,1.0,0.6958,1.0,0.6787,1.0,0.6448,1.0,1.0,1.0,1.0,1.0,1.0,1.0,0.6753,0.6592,1.0,0.6633,1.0,0.6942,1.0,0.6325,1.0,1.0,1.0,0.6608,1.0,0.6385,1.0,1.0,1.0,1.0,1.0,0.6933,1.0,0.3528,1.0,0.6906,1.0,1.0,1.0,1.0,0.6966,0.6847,1.0,1.0,1.0,1.0,1.0,1.0,1.0,1.0,1.0,0.6275,0.6475,1.0,0.6678,1.0,1.0,1.0,1.0,1.0,1.0,1.0,1.0,0.6663,1.0,0.6459,0.6686,1.0,1.0,1.0,1.0,1.0,0.6711,1.0,1.0,0.6528,1.0,1.0,1.0,1.0,1.0,0.6858,0.7029,0.7124,0.3684,1.0,0.7127,0.6792,1.0,1.0,1.0,0.6646,0.6496,0.6928,1.0,1.0,1.0,1.0,0.6578,1.0,1.0,1.0,1.0,1.0,1.0,1.0,1.0,1.0,1.0,0.6735,1.0,1.0,1.0,1.0,1.0,0.6616,1.0,0.6592,1.0,0.6533,1.0,1.0,0.6594,1.0,1.0,1.0,1.0,0.6438,1.0,1.0,1.0,1.0,1.0,1.0,0.6534,0.7107,0.6807,1.0,1.0,1.0,1.0,1.0,0.7175,1.0,1.0,1.0,1.0,1.0,1.0,1.0,1.0,1.0,1.0,1.0,1.0,1.0,0.6599,1.0,1.0,1.0,1.0,1.0,1.0,1.0,1.0,1.0,1.0,1.0,0.6774,1.0,0.6801,1.0,1.0,1.0,0.6831,1.0,1.0,1.0,1.0,1.0,1.0,1.0,0.6845,1.0,1.0,1.0,1.0,1.0,1.0,1.0,1.0,1.0,1.0,0.6852,1.0,1.0,0.6588,0.6436,1.0,1.0,1.0,1.0,1.0,1.0,1.0,1.0,1.0,1.0,0.6549,1.0,1.0,0.6732,1.0,1.0,1.0,1.0,1.0,1.0,0.3512,1.0,1.0,0.655,1.0,1.0,1.0,1.0,1.0,0.6815,1.0,1.0,1.0,1.0,1.0,0.6678,1.0,1.0,1.0,1.0,1.0,1.0,1.0,1.0,1.0,1.0,1.0,1.0,1.0,1.0,1.0,1.0,0.6623,1.0,1.0,1.0,0.6872,1.0,1.0,1.0,1.0,0.6849,0.6452,1.0,1.0,1.0,1.0,1.0,1.0,0.6543,1.0,1.0,1.0,0.6372,1.0,0.6591,1.0,1.0,0.6336,1.0,1.0,1.0,1.0,1.0,0.6372,1.0,1.0,1.0,1.0,1.0,1.0,1.0,1.0,0.6672,0.6702,1.0,1.0,1.0,1.0,1.0,1.0,1.0,1.0,1.0,1.0,1.0,0.6577,1.0,1.0,0.6877,1.0,1.0,0.6564,1.0,0.6664,1.0,1.0,1.0,0.6752,0.6546,1.0,1.0,1.0,1.0,1.0,1.0,0.6536,1.0,0.6864,1.0,1.0,1.0,1.0,1.0,1.0,1.0,1.0,1.0,1.0,1.0,1.0,0.6667,1.0,1.0,1.0,1.0,0.6914,1.0,1.0,1.0,1.0,1.0,1.0,1.0,1.0,1.0,1.0,1.0,1.0,1.0,1.0,1.0,1.0,1.0,1.0,1.0,1.0,0.6755,1.0,1.0,1.0,1.0,1.0,0.6516,1.0,1.0,1.0,1.0,1.0,1.0,1.0,1.0,1.0,1.0,0.6764,1.0,1.0,1.0,1.0,1.0,1.0,1.0,1.0,1.0,1.0,1.0,1.0,1.0,1.0,1.0,1.0,1.0,1.0,1.0,1.0,1.0,0.6696,1.0,1.0,1.0,1.0,0.6667,1.0,1.0,1.0,0.6529,1.0,0.6726,1.0,1.0,0.6977,1.0,0.6424,1.0,0.6162,0.6688,1.0,1.0,0.708,1.0,1.0,1.0,1.0,0.6629,1.0,1.0,0.6641,1.0,0.6437,1.0,0.6809999999999999,1.0,1.0,1.0,0.6497,1.0,1.0,0.65,1.0,1.0,1.0,0.6462,1.0,0.6594,1.0,0.7134,1.0,1.0,0.6301,1.0,1.0,1.0,1.0,1.0,0.6825,0.6707,0.6463,1.0,1.0,1.0,1.0,1.0,1.0,1.0,0.6579,1.0,1.0,1.0,1.0,1.0,1.0,1.0,1.0,1.0,1.0,1.0,1.0,0.3455,1.0,1.0,1.0,1.0,1.0,1.0,0.6826,1.0,0.7014,0.6708,0.6916,0.7125,0.6727,1.0,1.0,1.0,0.6719,1.0,1.0,1.0,1.0,1.0,1.0,0.6799,0.68,1.0,0.6688,1.0,1.0,0.6748,0.6642,1.0,1.0,1.0,1.0,0.6709999999999999,1.0,1.0,1.0,1.0,1.0,0.6735,0.6405,1.0,1.0,1.0,1.0,0.6945,0.6556,0.6488,1.0,0.6169,1.0,1.0,1.0,0.7023,1.0,1.0,1.0,1.0,1.0,0.6533,1.0,0.6687,0.7007,1.0,1.0,1.0,1.0,1.0,1.0,1.0,1.0,0.6579,0.6765,1.0,1.0,1.0,1.0,1.0,1.0,1.0,1.0,1.0,1.0,1.0,0.6784,1.0,0.6945,1.0,1.0,1.0,1.0,1.0,1.0,1.0,1.0,1.0,1.0,1.0,1.0,1.0,1.0,0.6666,1.0,0.6649,0.7007,1.0,1.0,1.0,0.7059,1.0,1.0,1.0,1.0,1.0,1.0,1.0,1.0,1.0,0.6705,1.0,0.6111,1.0,1.0,1.0,1.0,1.0,0.6337,1.0,1.0,1.0,1.0,1.0,1.0,1.0,1.0,1.0,0.3702,1.0,1.0,1.0,1.0,1.0,1.0,1.0,1.0,1.0,1.0,1.0,1.0,1.0,1.0,1.0,0.6983,0.6826,0.6638,1.0,1.0,1.0,1.0,1.0,1.0,1.0,0.638,1.0,0.6438,1.0,1.0,1.0,1.0,1.0,1.0,1.0,1.0,1.0,0.6298,1.0,1.0,1.0,0.6741,1.0,1.0,0.6833,1.0,0.6432,0.6503,0.6549,1.0,0.6789,0.6274,0.6163,1.0,1.0,1.0,0.6522,1.0,1.0,1.0,1.0,1.0,0.6825,0.6753,1.0,1.0,0.3429,1.0,1.0,0.6799,1.0,1.0,1.0,1.0,1.0,1.0,1.0,1.0,0.6492,0.6529,0.6629,1.0,1.0,1.0,1.0,1.0,1.0,1.0,1.0,0.354,1.0,0.6414,1.0,1.0,1.0,0.6689,1.0,1.0,1.0,1.0,1.0,1.0,1.0,1.0,1.0,0.6629,1.0,1.0,1.0,1.0,1.0,0.688,1.0,0.6991,1.0,0.6726,0.6963,1.0,1.0,1.0,1.0,0.6999,1.0,1.0,1.0,1.0,1.0,1.0,1.0,1.0,0.6888,1.0,0.6762,1.0,1.0,0.6873,1.0,1.0,1.0,1.0,1.0,1.0,1.0,1.0,0.3707,1.0,0.6594,0.3691,0.662,1.0,1.0,0.6298,1.0,1.0,0.6387,1.0,1.0,1.0,0.6598,1.0,1.0,1.0,1.0,1.0,1.0,0.6987,1.0,0.6458,0.6554,0.6282,1.0,1.0,1.0,1.0,0.6818,1.0,1.0,1.0,0.6848,1.0,1.0,1.0,0.6717,1.0,1.0,1.0,0.6701,1.0,1.0,1.0,1.0,1.0,1.0,1.0,0.6732,1.0,0.6553,1.0,0.6896,1.0,1.0,1.0,0.6541,1.0,1.0,1.0,1.0,1.0,1.0,1.0,1.0,1.0,1.0,1.0,1.0,1.0,0.6275,1.0,1.0,1.0,0.6667,0.6917,1.0,1.0,1.0,1.0,1.0,1.0,1.0,1.0,1.0,1.0,1.0,1.0,1.0,1.0,1.0,1.0,1.0,1.0,1.0,1.0,1.0,0.6315,1.0,1.0,0.6791,0.6751,1.0,1.0,0.6693,1.0,0.6395,1.0,1.0,1.0,1.0,1.0,1.0,0.6368,1.0,1.0,0.6896,1.0,1.0,1.0,1.0,1.0,0.6604,1.0,1.0,0.6367,1.0,1.0,1.0,1.0,1.0,1.0,1.0,1.0,1.0,1.0,1.0,1.0,0.669,0.6708,0.6451,1.0,1.0,1.0,1.0,1.0,1.0,1.0,1.0,1.0,1.0,0.6258,1.0,1.0,1.0,1.0,1.0,1.0,1.0,1.0,1.0,1.0,1.0,1.0,1.0,1.0,1.0,1.0,1.0,1.0,1.0,0.6575,1.0,0.6551,1.0,1.0,1.0,0.6556,1.0,1.0,1.0,1.0,0.6579,1.0,0.3642,1.0,1.0,1.0,1.0,1.0,1.0,1.0,1.0,1.0,1.0,0.6512,1.0,1.0,0.6783,1.0,0.6668,1.0,1.0,0.631,0.6516,1.0,0.6835,1.0,1.0,1.0,1.0,1.0,1.0,1.0,1.0,1.0,1.0,0.655,1.0,1.0,0.3611,1.0,1.0,1.0,1.0,1.0,1.0,1.0,1.0,0.6609999999999999,1.0,1.0,1.0,1.0,1.0,1.0,1.0,1.0,1.0,1.0,1.0,1.0,1.0,1.0,1.0,1.0,1.0,1.0,1.0,1.0,1.0,1.0,0.6385,0.6456,0.6779,1.0,1.0,1.0,1.0,1.0,1.0,1.0,1.0,1.0,1.0,1.0,0.6681,1.0,0.6619,1.0,1.0,0.662,1.0,1.0,1.0,1.0,1.0,1.0,0.6777,1.0,1.0,1.0,1.0,0.6851,1.0,1.0,1.0,1.0,1.0,0.6613,1.0,1.0,1.0,1.0,1.0,0.6564,1.0,1.0,1.0,1.0,0.6591,1.0,1.0,1.0,1.0,0.6779,1.0,1.0,1.0,1.0,1.0,1.0,0.6868,1.0,1.0,1.0,1.0,1.0,1.0,1.0,0.6646,1.0,0.7107,1.0,1.0,1.0,1.0,1.0,0.7042,0.6404,1.0,1.0,0.6858,1.0,0.6808,1.0,1.0,0.3367,1.0,1.0,1.0,1.0,1.0,1.0,1.0,1.0,1.0,1.0,1.0,1.0,1.0,1.0,1.0,1.0,1.0,1.0,1.0,1.0,1.0,1.0,0.6582,0.7026,0.6801,1.0,0.6997,1.0,1.0,1.0,1.0,1.0,0.6943,1.0,0.6535,0.7255,1.0,0.6567,0.7143,0.6557,1.0,0.6973,1.0,1.0,1.0,1.0,1.0,1.0,1.0,1.0,1.0,1.0,1.0,1.0,1.0,1.0,1.0,1.0,0.6941,1.0,1.0,1.0,1.0,1.0,1.0,1.0,1.0,1.0,1.0,0.7039,1.0,1.0,0.6915,1.0,1.0,1.0,1.0,1.0,0.7038,1.0,1.0,1.0,1.0,0.6684,1.0,0.659,0.6545,1.0,1.0,1.0,0.6393,1.0,1.0,1.0,1.0,1.0,0.6593,1.0,1.0,1.0,1.0,0.6711,1.0,1.0,1.0,1.0,0.6613,1.0,1.0,1.0,1.0,0.705,1.0,1.0,0.6401,0.3646,1.0,1.0,1.0,1.0,1.0,1.0,1.0,1.0,1.0,1.0,1.0,1.0,1.0,1.0,1.0,1.0,1.0,0.6868,1.0,1.0,1.0,1.0,1.0,1.0,1.0,1.0,1.0,1.0,0.6474,1.0,1.0,0.7257,0.6426,1.0,0.6917,1.0,1.0,1.0,0.7241,1.0,1.0,1.0,1.0,1.0,1.0,1.0,0.6694,1.0,1.0,0.6667,1.0,1.0,1.0,0.6616,1.0,1.0,0.6384,0.6767,1.0,0.6566,0.7021,1.0,1.0,0.7094,0.6541,1.0,1.0,1.0,1.0,0.6521,1.0,1.0,0.6788,0.644,1.0,1.0,1.0,1.0,1.0,1.0,1.0,1.0,1.0,1.0,1.0,1.0,1.0,1.0,1.0,1.0,1.0,1.0,0.6274,1.0,1.0,1.0,1.0,1.0,1.0,1.0,1.0,0.6759999999999999,1.0,0.6684,0.3487,1.0,1.0,1.0,0.6771],\"xaxis\":\"x\",\"yaxis\":\"y\",\"type\":\"histogram\"}],                        {\"template\":{\"data\":{\"histogram2dcontour\":[{\"type\":\"histogram2dcontour\",\"colorbar\":{\"outlinewidth\":0,\"ticks\":\"\"},\"colorscale\":[[0.0,\"#0d0887\"],[0.1111111111111111,\"#46039f\"],[0.2222222222222222,\"#7201a8\"],[0.3333333333333333,\"#9c179e\"],[0.4444444444444444,\"#bd3786\"],[0.5555555555555556,\"#d8576b\"],[0.6666666666666666,\"#ed7953\"],[0.7777777777777778,\"#fb9f3a\"],[0.8888888888888888,\"#fdca26\"],[1.0,\"#f0f921\"]]}],\"choropleth\":[{\"type\":\"choropleth\",\"colorbar\":{\"outlinewidth\":0,\"ticks\":\"\"}}],\"histogram2d\":[{\"type\":\"histogram2d\",\"colorbar\":{\"outlinewidth\":0,\"ticks\":\"\"},\"colorscale\":[[0.0,\"#0d0887\"],[0.1111111111111111,\"#46039f\"],[0.2222222222222222,\"#7201a8\"],[0.3333333333333333,\"#9c179e\"],[0.4444444444444444,\"#bd3786\"],[0.5555555555555556,\"#d8576b\"],[0.6666666666666666,\"#ed7953\"],[0.7777777777777778,\"#fb9f3a\"],[0.8888888888888888,\"#fdca26\"],[1.0,\"#f0f921\"]]}],\"heatmap\":[{\"type\":\"heatmap\",\"colorbar\":{\"outlinewidth\":0,\"ticks\":\"\"},\"colorscale\":[[0.0,\"#0d0887\"],[0.1111111111111111,\"#46039f\"],[0.2222222222222222,\"#7201a8\"],[0.3333333333333333,\"#9c179e\"],[0.4444444444444444,\"#bd3786\"],[0.5555555555555556,\"#d8576b\"],[0.6666666666666666,\"#ed7953\"],[0.7777777777777778,\"#fb9f3a\"],[0.8888888888888888,\"#fdca26\"],[1.0,\"#f0f921\"]]}],\"heatmapgl\":[{\"type\":\"heatmapgl\",\"colorbar\":{\"outlinewidth\":0,\"ticks\":\"\"},\"colorscale\":[[0.0,\"#0d0887\"],[0.1111111111111111,\"#46039f\"],[0.2222222222222222,\"#7201a8\"],[0.3333333333333333,\"#9c179e\"],[0.4444444444444444,\"#bd3786\"],[0.5555555555555556,\"#d8576b\"],[0.6666666666666666,\"#ed7953\"],[0.7777777777777778,\"#fb9f3a\"],[0.8888888888888888,\"#fdca26\"],[1.0,\"#f0f921\"]]}],\"contourcarpet\":[{\"type\":\"contourcarpet\",\"colorbar\":{\"outlinewidth\":0,\"ticks\":\"\"}}],\"contour\":[{\"type\":\"contour\",\"colorbar\":{\"outlinewidth\":0,\"ticks\":\"\"},\"colorscale\":[[0.0,\"#0d0887\"],[0.1111111111111111,\"#46039f\"],[0.2222222222222222,\"#7201a8\"],[0.3333333333333333,\"#9c179e\"],[0.4444444444444444,\"#bd3786\"],[0.5555555555555556,\"#d8576b\"],[0.6666666666666666,\"#ed7953\"],[0.7777777777777778,\"#fb9f3a\"],[0.8888888888888888,\"#fdca26\"],[1.0,\"#f0f921\"]]}],\"surface\":[{\"type\":\"surface\",\"colorbar\":{\"outlinewidth\":0,\"ticks\":\"\"},\"colorscale\":[[0.0,\"#0d0887\"],[0.1111111111111111,\"#46039f\"],[0.2222222222222222,\"#7201a8\"],[0.3333333333333333,\"#9c179e\"],[0.4444444444444444,\"#bd3786\"],[0.5555555555555556,\"#d8576b\"],[0.6666666666666666,\"#ed7953\"],[0.7777777777777778,\"#fb9f3a\"],[0.8888888888888888,\"#fdca26\"],[1.0,\"#f0f921\"]]}],\"mesh3d\":[{\"type\":\"mesh3d\",\"colorbar\":{\"outlinewidth\":0,\"ticks\":\"\"}}],\"scatter\":[{\"fillpattern\":{\"fillmode\":\"overlay\",\"size\":10,\"solidity\":0.2},\"type\":\"scatter\"}],\"parcoords\":[{\"type\":\"parcoords\",\"line\":{\"colorbar\":{\"outlinewidth\":0,\"ticks\":\"\"}}}],\"scatterpolargl\":[{\"type\":\"scatterpolargl\",\"marker\":{\"colorbar\":{\"outlinewidth\":0,\"ticks\":\"\"}}}],\"bar\":[{\"error_x\":{\"color\":\"#2a3f5f\"},\"error_y\":{\"color\":\"#2a3f5f\"},\"marker\":{\"line\":{\"color\":\"#E5ECF6\",\"width\":0.5},\"pattern\":{\"fillmode\":\"overlay\",\"size\":10,\"solidity\":0.2}},\"type\":\"bar\"}],\"scattergeo\":[{\"type\":\"scattergeo\",\"marker\":{\"colorbar\":{\"outlinewidth\":0,\"ticks\":\"\"}}}],\"scatterpolar\":[{\"type\":\"scatterpolar\",\"marker\":{\"colorbar\":{\"outlinewidth\":0,\"ticks\":\"\"}}}],\"histogram\":[{\"marker\":{\"pattern\":{\"fillmode\":\"overlay\",\"size\":10,\"solidity\":0.2}},\"type\":\"histogram\"}],\"scattergl\":[{\"type\":\"scattergl\",\"marker\":{\"colorbar\":{\"outlinewidth\":0,\"ticks\":\"\"}}}],\"scatter3d\":[{\"type\":\"scatter3d\",\"line\":{\"colorbar\":{\"outlinewidth\":0,\"ticks\":\"\"}},\"marker\":{\"colorbar\":{\"outlinewidth\":0,\"ticks\":\"\"}}}],\"scattermapbox\":[{\"type\":\"scattermapbox\",\"marker\":{\"colorbar\":{\"outlinewidth\":0,\"ticks\":\"\"}}}],\"scatterternary\":[{\"type\":\"scatterternary\",\"marker\":{\"colorbar\":{\"outlinewidth\":0,\"ticks\":\"\"}}}],\"scattercarpet\":[{\"type\":\"scattercarpet\",\"marker\":{\"colorbar\":{\"outlinewidth\":0,\"ticks\":\"\"}}}],\"carpet\":[{\"aaxis\":{\"endlinecolor\":\"#2a3f5f\",\"gridcolor\":\"white\",\"linecolor\":\"white\",\"minorgridcolor\":\"white\",\"startlinecolor\":\"#2a3f5f\"},\"baxis\":{\"endlinecolor\":\"#2a3f5f\",\"gridcolor\":\"white\",\"linecolor\":\"white\",\"minorgridcolor\":\"white\",\"startlinecolor\":\"#2a3f5f\"},\"type\":\"carpet\"}],\"table\":[{\"cells\":{\"fill\":{\"color\":\"#EBF0F8\"},\"line\":{\"color\":\"white\"}},\"header\":{\"fill\":{\"color\":\"#C8D4E3\"},\"line\":{\"color\":\"white\"}},\"type\":\"table\"}],\"barpolar\":[{\"marker\":{\"line\":{\"color\":\"#E5ECF6\",\"width\":0.5},\"pattern\":{\"fillmode\":\"overlay\",\"size\":10,\"solidity\":0.2}},\"type\":\"barpolar\"}],\"pie\":[{\"automargin\":true,\"type\":\"pie\"}]},\"layout\":{\"autotypenumbers\":\"strict\",\"colorway\":[\"#636efa\",\"#EF553B\",\"#00cc96\",\"#ab63fa\",\"#FFA15A\",\"#19d3f3\",\"#FF6692\",\"#B6E880\",\"#FF97FF\",\"#FECB52\"],\"font\":{\"color\":\"#2a3f5f\"},\"hovermode\":\"closest\",\"hoverlabel\":{\"align\":\"left\"},\"paper_bgcolor\":\"white\",\"plot_bgcolor\":\"#E5ECF6\",\"polar\":{\"bgcolor\":\"#E5ECF6\",\"angularaxis\":{\"gridcolor\":\"white\",\"linecolor\":\"white\",\"ticks\":\"\"},\"radialaxis\":{\"gridcolor\":\"white\",\"linecolor\":\"white\",\"ticks\":\"\"}},\"ternary\":{\"bgcolor\":\"#E5ECF6\",\"aaxis\":{\"gridcolor\":\"white\",\"linecolor\":\"white\",\"ticks\":\"\"},\"baxis\":{\"gridcolor\":\"white\",\"linecolor\":\"white\",\"ticks\":\"\"},\"caxis\":{\"gridcolor\":\"white\",\"linecolor\":\"white\",\"ticks\":\"\"}},\"coloraxis\":{\"colorbar\":{\"outlinewidth\":0,\"ticks\":\"\"}},\"colorscale\":{\"sequential\":[[0.0,\"#0d0887\"],[0.1111111111111111,\"#46039f\"],[0.2222222222222222,\"#7201a8\"],[0.3333333333333333,\"#9c179e\"],[0.4444444444444444,\"#bd3786\"],[0.5555555555555556,\"#d8576b\"],[0.6666666666666666,\"#ed7953\"],[0.7777777777777778,\"#fb9f3a\"],[0.8888888888888888,\"#fdca26\"],[1.0,\"#f0f921\"]],\"sequentialminus\":[[0.0,\"#0d0887\"],[0.1111111111111111,\"#46039f\"],[0.2222222222222222,\"#7201a8\"],[0.3333333333333333,\"#9c179e\"],[0.4444444444444444,\"#bd3786\"],[0.5555555555555556,\"#d8576b\"],[0.6666666666666666,\"#ed7953\"],[0.7777777777777778,\"#fb9f3a\"],[0.8888888888888888,\"#fdca26\"],[1.0,\"#f0f921\"]],\"diverging\":[[0,\"#8e0152\"],[0.1,\"#c51b7d\"],[0.2,\"#de77ae\"],[0.3,\"#f1b6da\"],[0.4,\"#fde0ef\"],[0.5,\"#f7f7f7\"],[0.6,\"#e6f5d0\"],[0.7,\"#b8e186\"],[0.8,\"#7fbc41\"],[0.9,\"#4d9221\"],[1,\"#276419\"]]},\"xaxis\":{\"gridcolor\":\"white\",\"linecolor\":\"white\",\"ticks\":\"\",\"title\":{\"standoff\":15},\"zerolinecolor\":\"white\",\"automargin\":true,\"zerolinewidth\":2},\"yaxis\":{\"gridcolor\":\"white\",\"linecolor\":\"white\",\"ticks\":\"\",\"title\":{\"standoff\":15},\"zerolinecolor\":\"white\",\"automargin\":true,\"zerolinewidth\":2},\"scene\":{\"xaxis\":{\"backgroundcolor\":\"#E5ECF6\",\"gridcolor\":\"white\",\"linecolor\":\"white\",\"showbackground\":true,\"ticks\":\"\",\"zerolinecolor\":\"white\",\"gridwidth\":2},\"yaxis\":{\"backgroundcolor\":\"#E5ECF6\",\"gridcolor\":\"white\",\"linecolor\":\"white\",\"showbackground\":true,\"ticks\":\"\",\"zerolinecolor\":\"white\",\"gridwidth\":2},\"zaxis\":{\"backgroundcolor\":\"#E5ECF6\",\"gridcolor\":\"white\",\"linecolor\":\"white\",\"showbackground\":true,\"ticks\":\"\",\"zerolinecolor\":\"white\",\"gridwidth\":2}},\"shapedefaults\":{\"line\":{\"color\":\"#2a3f5f\"}},\"annotationdefaults\":{\"arrowcolor\":\"#2a3f5f\",\"arrowhead\":0,\"arrowwidth\":1},\"geo\":{\"bgcolor\":\"white\",\"landcolor\":\"#E5ECF6\",\"subunitcolor\":\"white\",\"showland\":true,\"showlakes\":true,\"lakecolor\":\"white\"},\"title\":{\"x\":0.05},\"mapbox\":{\"style\":\"light\"}}},\"xaxis\":{\"anchor\":\"y\",\"domain\":[0.0,1.0],\"title\":{\"text\":\"value\"}},\"yaxis\":{\"anchor\":\"x\",\"domain\":[0.0,1.0],\"title\":{\"text\":\"count\"}},\"legend\":{\"title\":{\"text\":\"variable\"},\"tracegroupgap\":0},\"title\":{\"text\":\"Histogram of Confidence\"},\"barmode\":\"relative\"},                        {\"responsive\": true}                    ).then(function(){\n",
              "                            \n",
              "var gd = document.getElementById('0fc06c94-877d-41ba-97ce-ef46a0efa207');\n",
              "var x = new MutationObserver(function (mutations, observer) {{\n",
              "        var display = window.getComputedStyle(gd).display;\n",
              "        if (!display || display === 'none') {{\n",
              "            console.log([gd, 'removed!']);\n",
              "            Plotly.purge(gd);\n",
              "            observer.disconnect();\n",
              "        }}\n",
              "}});\n",
              "\n",
              "// Listen for the removal of the full notebook cells\n",
              "var notebookContainer = gd.closest('#notebook-container');\n",
              "if (notebookContainer) {{\n",
              "    x.observe(notebookContainer, {childList: true});\n",
              "}}\n",
              "\n",
              "// Listen for the clearing of the current output cell\n",
              "var outputEl = gd.closest('.output');\n",
              "if (outputEl) {{\n",
              "    x.observe(outputEl, {childList: true});\n",
              "}}\n",
              "\n",
              "                        })                };                            </script>        </div>\n",
              "</body>\n",
              "</html>"
            ]
          },
          "metadata": {}
        }
      ]
    },
    {
      "cell_type": "markdown",
      "source": [
        "subsetting only conf=1"
      ],
      "metadata": {
        "id": "V7BSEWO8pBGs"
      }
    },
    {
      "cell_type": "code",
      "source": [
        "balanced_df_conf.shape"
      ],
      "metadata": {
        "id": "z5MejhoGqLyC",
        "outputId": "ccf297d2-38eb-4bfc-e4a0-2b9e7f267fd2",
        "colab": {
          "base_uri": "https://localhost:8080/"
        }
      },
      "execution_count": 59,
      "outputs": [
        {
          "output_type": "execute_result",
          "data": {
            "text/plain": [
              "(6570, 17)"
            ]
          },
          "metadata": {},
          "execution_count": 59
        }
      ]
    },
    {
      "cell_type": "code",
      "source": [
        "balanced_df_conf = balanced_df[balanced_df['airline_sentiment_confidence']==1]"
      ],
      "metadata": {
        "id": "vwWELnOpo-HR"
      },
      "execution_count": 52,
      "outputs": []
    },
    {
      "cell_type": "code",
      "source": [
        "train_data, val_data = train_test_split(balanced_df_conf, test_size=0.2, random_state=42)\n",
        "#using BERT Encoder with padding and lemmatization\n",
        "tokenizer = BertTokenizer.from_pretrained('bert-base-uncased')\n",
        "train_encoding=tokenizer(list(train_data['cleaned_text']),truncation=True,padding=True)\n",
        "valid_encoding=tokenizer(list(val_data['cleaned_text']),truncation=True,padding=True)\n",
        "\n",
        "sentiment_dict = {'positive': 0, 'negative': 1, 'neutral': 2}\n",
        "\n",
        "train_labels = train_data['airline_sentiment'].map(sentiment_dict).values.astype('int64')\n",
        "valid_labels = val_data['airline_sentiment'].map(sentiment_dict).values.astype('int64')"
      ],
      "metadata": {
        "id": "vXTwAumqqauv"
      },
      "execution_count": 62,
      "outputs": []
    },
    {
      "cell_type": "code",
      "source": [
        "train_dataset = tf.data.Dataset.from_tensor_slices((dict(train_encoding), train_labels)).shuffle(len(train_labels)).batch(32)\n",
        "val_dataset = tf.data.Dataset.from_tensor_slices((dict(valid_encoding), valid_labels)).batch(32)\n",
        "\n",
        "# Load the pre-trained BERT model for sequence classification\n",
        "model = TFBertForSequenceClassification.from_pretrained('bert-base-uncased', num_labels=3)\n",
        "\n",
        "# Fine-tune the model\n",
        "optimizer = tf.keras.optimizers.Adam(learning_rate=2e-6, epsilon=1e-08, clipnorm=1.0)\n",
        "loss = tf.keras.losses.SparseCategoricalCrossentropy(from_logits=True)\n",
        "metric = tf.keras.metrics.SparseCategoricalAccuracy('accuracy')\n",
        "model.compile(optimizer=optimizer, loss=loss, metrics=[metric])\n",
        "history = model.fit(train_dataset, epochs=10, validation_data=val_dataset)"
      ],
      "metadata": {
        "id": "KuCS5DDqqfYy",
        "outputId": "815f1d9f-b407-4c4b-d6f1-0caeff2efb1c",
        "colab": {
          "base_uri": "https://localhost:8080/"
        }
      },
      "execution_count": 64,
      "outputs": [
        {
          "output_type": "stream",
          "name": "stderr",
          "text": [
            "All PyTorch model weights were used when initializing TFBertForSequenceClassification.\n",
            "\n",
            "Some weights or buffers of the TF 2.0 model TFBertForSequenceClassification were not initialized from the PyTorch model and are newly initialized: ['classifier.weight', 'classifier.bias']\n",
            "You should probably TRAIN this model on a down-stream task to be able to use it for predictions and inference.\n"
          ]
        },
        {
          "output_type": "stream",
          "name": "stdout",
          "text": [
            "Epoch 1/10\n",
            "165/165 [==============================] - 167s 344ms/step - loss: 0.8798 - accuracy: 0.5715 - val_loss: 0.6944 - val_accuracy: 0.6986\n",
            "Epoch 2/10\n",
            "165/165 [==============================] - 51s 310ms/step - loss: 0.5934 - accuracy: 0.7662 - val_loss: 0.5121 - val_accuracy: 0.8318\n",
            "Epoch 3/10\n",
            "165/165 [==============================] - 51s 312ms/step - loss: 0.4560 - accuracy: 0.8470 - val_loss: 0.3872 - val_accuracy: 0.8607\n",
            "Epoch 4/10\n",
            "165/165 [==============================] - 53s 321ms/step - loss: 0.3631 - accuracy: 0.8786 - val_loss: 0.3643 - val_accuracy: 0.8805\n",
            "Epoch 5/10\n",
            "165/165 [==============================] - 52s 315ms/step - loss: 0.3053 - accuracy: 0.9026 - val_loss: 0.3107 - val_accuracy: 0.8935\n",
            "Epoch 6/10\n",
            "165/165 [==============================] - 52s 313ms/step - loss: 0.2717 - accuracy: 0.9053 - val_loss: 0.3062 - val_accuracy: 0.9011\n",
            "Epoch 7/10\n",
            "165/165 [==============================] - 52s 312ms/step - loss: 0.2380 - accuracy: 0.9209 - val_loss: 0.2894 - val_accuracy: 0.8957\n",
            "Epoch 8/10\n",
            "165/165 [==============================] - 52s 313ms/step - loss: 0.2175 - accuracy: 0.9277 - val_loss: 0.2927 - val_accuracy: 0.8965\n",
            "Epoch 9/10\n",
            "165/165 [==============================] - 52s 314ms/step - loss: 0.1987 - accuracy: 0.9323 - val_loss: 0.2972 - val_accuracy: 0.9011\n",
            "Epoch 10/10\n",
            "165/165 [==============================] - 52s 314ms/step - loss: 0.1781 - accuracy: 0.9404 - val_loss: 0.2961 - val_accuracy: 0.8988\n"
          ]
        }
      ]
    },
    {
      "cell_type": "code",
      "source": [
        "import matplotlib.pyplot as plt\n",
        "\n",
        "# Plot training and validation loss\n",
        "plt.plot(history.history['loss'], label='Training Loss')\n",
        "plt.plot(history.history['val_loss'], label='Validation Loss')\n",
        "plt.legend()\n",
        "plt.show()\n",
        "\n",
        "# Plot training and validation accuracy\n",
        "plt.plot(history.history['accuracy'], label='Training Accuracy')\n",
        "plt.plot(history.history['val_accuracy'], label='Validation Accuracy')\n",
        "plt.legend()\n",
        "plt.show()"
      ],
      "metadata": {
        "id": "4VXrdfxduSgY",
        "outputId": "6295d489-49da-41ee-9eb2-cfe7b30b08bf",
        "colab": {
          "base_uri": "https://localhost:8080/",
          "height": 843
        }
      },
      "execution_count": 65,
      "outputs": [
        {
          "output_type": "display_data",
          "data": {
            "text/plain": [
              "<Figure size 640x480 with 1 Axes>"
            ],
            "image/png": "[encoded data removed]"
          },
          "metadata": {}
        },
        {
          "output_type": "display_data",
          "data": {
            "text/plain": [
              "<Figure size 640x480 with 1 Axes>"
            ],
            "image/png": "[encoded data removed]"
          },
          "metadata": {}
        }
      ]
    },
    {
      "cell_type": "code",
      "source": [],
      "metadata": {
        "id": "CDEF8bSWujzl",
        "outputId": "95709e0d-1e64-4332-a43e-87c971b469ca",
        "colab": {
          "base_uri": "https://localhost:8080/"
        }
      },
      "execution_count": 66,
      "outputs": [
        {
          "output_type": "stream",
          "name": "stdout",
          "text": [
            "42/42 [==============================] - 10s 99ms/step\n"
          ]
        }
      ]
    },
    {
      "cell_type": "code",
      "source": [],
      "metadata": {
        "id": "hmbc9ul0vOHB",
        "outputId": "73479b4d-a6fb-428c-f56d-5afd5e5341db",
        "colab": {
          "base_uri": "https://localhost:8080/"
        }
      },
      "execution_count": 67,
      "outputs": [
        {
          "output_type": "execute_result",
          "data": {
            "text/plain": [
              "TFSequenceClassifierOutput(loss=None, logits=array([[-2.1619725 ,  3.6655247 , -1.0825193 ],\n",
              "       [-2.598606  ,  3.4323618 , -0.9264863 ],\n",
              "       [ 3.142129  , -0.8091271 , -1.1444023 ],\n",
              "       ...,\n",
              "       [-2.3428223 ,  3.4892814 , -0.9726433 ],\n",
              "       [ 2.5812924 , -1.9076794 ,  0.82301825],\n",
              "       [-2.0923853 ,  3.6416218 , -1.2106918 ]], dtype=float32), hidden_states=None, attentions=None)"
            ]
          },
          "metadata": {},
          "execution_count": 67
        }
      ]
    },
    {
      "cell_type": "code",
      "source": [
        "from sklearn.metrics import confusion_matrix, ConfusionMatrixDisplay\n",
        "predictions = model.predict(val_dataset)\n",
        "predicted_labels = np.argmax(predictions.logits, axis=1)\n",
        "\n",
        "# Convert the true labels tensor to a NumPy array\n",
        "true_labels = np.array(valid_labels)\n",
        "\n",
        "# Calculate the confusion matrix\n",
        "cm = confusion_matrix(true_labels, predicted_labels)\n",
        "\n",
        "# Visualize the confusion matrix\n",
        "class_names = ['Positive', 'Negative', 'Neutral']  # Replace with your actual class names\n",
        "disp = ConfusionMatrixDisplay(confusion_matrix=cm, display_labels=class_names)\n",
        "disp.plot(cmap=plt.cm.Blues, values_format=\".4g\")\n",
        "plt.title(\"Confusion Matrix\")\n",
        "plt.show()"
      ],
      "metadata": {
        "id": "sLwFQ1p5vTHr",
        "outputId": "ce8b6d23-7b1b-40f5-df2f-46f7d4eefdde",
        "colab": {
          "base_uri": "https://localhost:8080/",
          "height": 489
        }
      },
      "execution_count": 70,
      "outputs": [
        {
          "output_type": "stream",
          "name": "stdout",
          "text": [
            "42/42 [==============================] - 4s 97ms/step\n"
          ]
        },
        {
          "output_type": "display_data",
          "data": {
            "text/plain": [
              "<Figure size 640x480 with 2 Axes>"
            ],
            "image/png": "[encoded data removed]"
          },
          "metadata": {}
        }
      ]
    },
    {
      "cell_type": "code",
      "source": [
        "train_data['airline_sentiment'].value_counts()"
      ],
      "metadata": {
        "id": "F9hJN1uKxGZ0",
        "outputId": "1595def0-c218-4ede-decc-a5b957bb5847",
        "colab": {
          "base_uri": "https://localhost:8080/"
        }
      },
      "execution_count": 75,
      "outputs": [
        {
          "output_type": "execute_result",
          "data": {
            "text/plain": [
              "negative    2821\n",
              "neutral     1225\n",
              "positive    1210\n",
              "Name: airline_sentiment, dtype: int64"
            ]
          },
          "metadata": {},
          "execution_count": 75
        }
      ]
    },
    {
      "cell_type": "code",
      "source": [
        "val_data['airline_sentiment'].value_counts()"
      ],
      "metadata": {
        "id": "MaOwo7mjxabP",
        "outputId": "56b5eb05-274e-4625-ef83-08c5b40fb0a5",
        "colab": {
          "base_uri": "https://localhost:8080/"
        }
      },
      "execution_count": 77,
      "outputs": [
        {
          "output_type": "execute_result",
          "data": {
            "text/plain": [
              "negative    686\n",
              "neutral     323\n",
              "positive    305\n",
              "Name: airline_sentiment, dtype: int64"
            ]
          },
          "metadata": {},
          "execution_count": 77
        }
      ]
    },
    {
      "cell_type": "code",
      "source": [
        "balanced_df_conf['airline_sentiment'].value_counts()"
      ],
      "metadata": {
        "id": "xqiKZu6BxjNJ",
        "outputId": "48a8427c-74d4-4c4c-a3d4-84f884da28de",
        "colab": {
          "base_uri": "https://localhost:8080/"
        }
      },
      "execution_count": 78,
      "outputs": [
        {
          "output_type": "execute_result",
          "data": {
            "text/plain": [
              "negative    3507\n",
              "neutral     1548\n",
              "positive    1515\n",
              "Name: airline_sentiment, dtype: int64"
            ]
          },
          "metadata": {},
          "execution_count": 78
        }
      ]
    },
    {
      "cell_type": "code",
      "source": [
        "balanced_df['airline_sentiment'].value_counts()"
      ],
      "metadata": {
        "id": "35JKoxIyxoYi",
        "outputId": "dbda7983-0e33-4964-a4ab-661cdc884eb3",
        "colab": {
          "base_uri": "https://localhost:8080/"
        }
      },
      "execution_count": 80,
      "outputs": [
        {
          "output_type": "execute_result",
          "data": {
            "text/plain": [
              "negative    4178\n",
              "neutral     3099\n",
              "positive    2363\n",
              "Name: airline_sentiment, dtype: int64"
            ]
          },
          "metadata": {},
          "execution_count": 80
        }
      ]
    },
    {
      "cell_type": "code",
      "source": [
        "from sklearn.metrics import classification_report"
      ],
      "metadata": {
        "id": "IA_429QmyiwP"
      },
      "execution_count": 82,
      "outputs": []
    },
    {
      "cell_type": "code",
      "source": [
        "print(classification_report(true_labels, predicted_labels, target_names=class_names))"
      ],
      "metadata": {
        "id": "YBDK3RzEyeVD",
        "outputId": "a72f19d4-3563-432a-d466-56e378091b69",
        "colab": {
          "base_uri": "https://localhost:8080/"
        }
      },
      "execution_count": 84,
      "outputs": [
        {
          "output_type": "stream",
          "name": "stdout",
          "text": [
            "              precision    recall  f1-score   support\n",
            "\n",
            "    Positive       0.90      0.84      0.87       305\n",
            "    Negative       0.92      0.98      0.94       686\n",
            "     Neutral       0.86      0.80      0.83       323\n",
            "\n",
            "    accuracy                           0.90      1314\n",
            "   macro avg       0.89      0.87      0.88      1314\n",
            "weighted avg       0.90      0.90      0.90      1314\n",
            "\n"
          ]
        }
      ]
    }
  ]
}